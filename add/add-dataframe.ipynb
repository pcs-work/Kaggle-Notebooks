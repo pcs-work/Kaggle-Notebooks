{
 "cells": [
  {
   "cell_type": "code",
   "execution_count": 1,
   "id": "2c5e4c32",
   "metadata": {
    "_cell_guid": "b1076dfc-b9ad-4769-8c92-a6c4dae69d19",
    "_uuid": "8f2839f25d086af736a60e9eeb907d3b93b6e0e5",
    "execution": {
     "iopub.execute_input": "2023-02-28T11:59:39.611594Z",
     "iopub.status.busy": "2023-02-28T11:59:39.611201Z",
     "iopub.status.idle": "2023-02-28T11:59:39.795749Z",
     "shell.execute_reply": "2023-02-28T11:59:39.794439Z"
    },
    "papermill": {
     "duration": 0.192237,
     "end_time": "2023-02-28T11:59:39.798916",
     "exception": false,
     "start_time": "2023-02-28T11:59:39.606679",
     "status": "completed"
    },
    "tags": []
   },
   "outputs": [],
   "source": [
    "import os\n",
    "import cv2\n",
    "import json\n",
    "import numpy as np\n",
    "import pandas as pd\n",
    "\n",
    "BASE_PATH: str = \"/kaggle/input/apple-disease-sp/apple_dataset\""
   ]
  },
  {
   "cell_type": "code",
   "execution_count": 2,
   "id": "7dc45cee",
   "metadata": {
    "execution": {
     "iopub.execute_input": "2023-02-28T11:59:39.805640Z",
     "iopub.status.busy": "2023-02-28T11:59:39.804598Z",
     "iopub.status.idle": "2023-02-28T11:59:39.820016Z",
     "shell.execute_reply": "2023-02-28T11:59:39.818446Z"
    },
    "papermill": {
     "duration": 0.021555,
     "end_time": "2023-02-28T11:59:39.822881",
     "exception": false,
     "start_time": "2023-02-28T11:59:39.801326",
     "status": "completed"
    },
    "tags": []
   },
   "outputs": [],
   "source": [
    "tr_df: pd.DataFrame = pd.DataFrame(data=None, columns=[\"filepaths\", \"labels\"])\n",
    "ts_df: pd.DataFrame = pd.DataFrame(data=None, columns=[\"filepaths\", \"labels\"])"
   ]
  },
  {
   "cell_type": "code",
   "execution_count": 3,
   "id": "53d754c3",
   "metadata": {
    "execution": {
     "iopub.execute_input": "2023-02-28T11:59:39.828923Z",
     "iopub.status.busy": "2023-02-28T11:59:39.827939Z",
     "iopub.status.idle": "2023-02-28T11:59:40.239312Z",
     "shell.execute_reply": "2023-02-28T11:59:40.238418Z"
    },
    "papermill": {
     "duration": 0.416853,
     "end_time": "2023-02-28T11:59:40.241762",
     "exception": false,
     "start_time": "2023-02-28T11:59:39.824909",
     "status": "completed"
    },
    "tags": []
   },
   "outputs": [],
   "source": [
    "filepaths: list = []\n",
    "labels: list = []\n",
    "\n",
    "i: int = 0\n",
    "for folder in sorted(os.listdir(f\"{BASE_PATH}/train\")):\n",
    "    for filename in os.listdir(f\"{BASE_PATH}/train/{folder}\"):\n",
    "        filepaths.append(os.path.join(f\"{BASE_PATH}/train/{folder}\", filename))\n",
    "        labels.append(i)\n",
    "    i += 1\n",
    "\n",
    "tr_df.filepaths = filepaths\n",
    "tr_df.labels = labels\n",
    "tr_df.to_csv(\"train.csv\", index=False)"
   ]
  },
  {
   "cell_type": "code",
   "execution_count": 4,
   "id": "c369911d",
   "metadata": {
    "execution": {
     "iopub.execute_input": "2023-02-28T11:59:40.247838Z",
     "iopub.status.busy": "2023-02-28T11:59:40.247206Z",
     "iopub.status.idle": "2023-02-28T11:59:40.519979Z",
     "shell.execute_reply": "2023-02-28T11:59:40.518154Z"
    },
    "papermill": {
     "duration": 0.27884,
     "end_time": "2023-02-28T11:59:40.522715",
     "exception": false,
     "start_time": "2023-02-28T11:59:40.243875",
     "status": "completed"
    },
    "tags": []
   },
   "outputs": [],
   "source": [
    "filepaths: list = []\n",
    "labels: list = []\n",
    "\n",
    "i: int = 0    \n",
    "for folder in sorted(os.listdir(f\"{BASE_PATH}/test\")):\n",
    "    for filename in os.listdir(f\"{BASE_PATH}/test/{folder}\"):\n",
    "        filepaths.append(os.path.join(f\"{BASE_PATH}/test/{folder}\", filename))\n",
    "        labels.append(i)\n",
    "    i += 1\n",
    "\n",
    "ts_df.filepaths = filepaths\n",
    "ts_df.labels = labels\n",
    "ts_df.to_csv(\"test.csv\", index=False)"
   ]
  },
  {
   "cell_type": "code",
   "execution_count": 5,
   "id": "601b791e",
   "metadata": {
    "execution": {
     "iopub.execute_input": "2023-02-28T11:59:40.528453Z",
     "iopub.status.busy": "2023-02-28T11:59:40.528027Z",
     "iopub.status.idle": "2023-02-28T11:59:40.534492Z",
     "shell.execute_reply": "2023-02-28T11:59:40.533058Z"
    },
    "papermill": {
     "duration": 0.012443,
     "end_time": "2023-02-28T11:59:40.537276",
     "exception": false,
     "start_time": "2023-02-28T11:59:40.524833",
     "status": "completed"
    },
    "tags": []
   },
   "outputs": [],
   "source": [
    "labels: dict = dict()\n",
    "\n",
    "i = 0\n",
    "for folder in sorted(os.listdir(f\"{BASE_PATH}/train\")):\n",
    "    labels[i] = folder\n",
    "    i += 1\n",
    "\n",
    "json.dump(labels, open(\"labels.json\", \"w\"))"
   ]
  }
 ],
 "metadata": {
  "kernelspec": {
   "display_name": "Python 3",
   "language": "python",
   "name": "python3"
  },
  "language_info": {
   "codemirror_mode": {
    "name": "ipython",
    "version": 3
   },
   "file_extension": ".py",
   "mimetype": "text/x-python",
   "name": "python",
   "nbconvert_exporter": "python",
   "pygments_lexer": "ipython3",
   "version": "3.7.12"
  },
  "papermill": {
   "default_parameters": {},
   "duration": 10.799251,
   "end_time": "2023-02-28T11:59:41.261446",
   "environment_variables": {},
   "exception": null,
   "input_path": "__notebook__.ipynb",
   "output_path": "__notebook__.ipynb",
   "parameters": {},
   "start_time": "2023-02-28T11:59:30.462195",
   "version": "2.4.0"
  }
 },
 "nbformat": 4,
 "nbformat_minor": 5
}
