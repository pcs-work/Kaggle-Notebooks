{
 "cells": [
  {
   "cell_type": "code",
   "execution_count": 1,
   "id": "3ef86304",
   "metadata": {
    "execution": {
     "iopub.execute_input": "2023-11-07T05:19:05.317417Z",
     "iopub.status.busy": "2023-11-07T05:19:05.317065Z",
     "iopub.status.idle": "2023-11-07T05:19:07.080854Z",
     "shell.execute_reply": "2023-11-07T05:19:07.079726Z"
    },
    "papermill": {
     "duration": 1.769742,
     "end_time": "2023-11-07T05:19:07.083244",
     "exception": false,
     "start_time": "2023-11-07T05:19:05.313502",
     "status": "completed"
    },
    "tags": []
   },
   "outputs": [],
   "source": [
    "import os\n",
    "import cv2\n",
    "import json\n",
    "import numpy as np\n",
    "import pandas as pd\n",
    "\n",
    "from sklearn.model_selection import train_test_split\n",
    "\n",
    "BASE_PATH: str = \"/kaggle/input/anyas-gojo-revival-aerospace-enigma\""
   ]
  },
  {
   "cell_type": "code",
   "execution_count": 2,
   "id": "18c883e6",
   "metadata": {
    "_cell_guid": "b1076dfc-b9ad-4769-8c92-a6c4dae69d19",
    "_uuid": "8f2839f25d086af736a60e9eeb907d3b93b6e0e5",
    "execution": {
     "iopub.execute_input": "2023-11-07T05:19:07.090442Z",
     "iopub.status.busy": "2023-11-07T05:19:07.089971Z",
     "iopub.status.idle": "2023-11-07T05:19:07.521290Z",
     "shell.execute_reply": "2023-11-07T05:19:07.520570Z"
    },
    "papermill": {
     "duration": 0.438958,
     "end_time": "2023-11-07T05:19:07.524269",
     "exception": false,
     "start_time": "2023-11-07T05:19:07.085311",
     "status": "completed"
    },
    "tags": []
   },
   "outputs": [],
   "source": [
    "tr_df: pd.DataFrame = pd.DataFrame(data=None, columns=[\"filepaths\", \"labels\"])\n",
    "    \n",
    "filepaths: list = []\n",
    "labels: list = []\n",
    "\n",
    "folders: list = sorted([folder for folder in os.listdir(f\"{BASE_PATH}/train\")])\n",
    "    \n",
    "i: int = 0\n",
    "for folder in folders:\n",
    "    for filename in os.listdir(f\"{BASE_PATH}/train/{folder}\"):\n",
    "        filepaths.append(os.path.join(f\"{BASE_PATH}/train/{folder}\", filename))\n",
    "        labels.append(i)\n",
    "    i += 1\n",
    "\n",
    "tr_df.filepaths = filepaths\n",
    "tr_df.labels = labels\n",
    "tr_df.to_csv(\"train.csv\", index=False)"
   ]
  },
  {
   "cell_type": "code",
   "execution_count": 3,
   "id": "a5cdba58",
   "metadata": {
    "execution": {
     "iopub.execute_input": "2023-11-07T05:19:07.529724Z",
     "iopub.status.busy": "2023-11-07T05:19:07.529351Z",
     "iopub.status.idle": "2023-11-07T05:19:07.574236Z",
     "shell.execute_reply": "2023-11-07T05:19:07.573076Z"
    },
    "papermill": {
     "duration": 0.05048,
     "end_time": "2023-11-07T05:19:07.576737",
     "exception": false,
     "start_time": "2023-11-07T05:19:07.526257",
     "status": "completed"
    },
    "tags": []
   },
   "outputs": [],
   "source": [
    "ts_df: pd.DataFrame = pd.DataFrame(data=None, columns=[\"filepaths\"])\n",
    "    \n",
    "filepaths: list = []\n",
    "labels: list = []\n",
    "\n",
    "for filename in os.listdir(f\"{BASE_PATH}/test\"):\n",
    "    filepaths.append(os.path.join(f\"{BASE_PATH}/test\", filename))\n",
    "\n",
    "\n",
    "ts_df.filepaths = filepaths\n",
    "ts_df.to_csv(\"test.csv\", index=False)"
   ]
  },
  {
   "cell_type": "code",
   "execution_count": 4,
   "id": "f2167e6f",
   "metadata": {
    "execution": {
     "iopub.execute_input": "2023-11-07T05:19:07.581641Z",
     "iopub.status.busy": "2023-11-07T05:19:07.581121Z",
     "iopub.status.idle": "2023-11-07T05:19:07.586610Z",
     "shell.execute_reply": "2023-11-07T05:19:07.585979Z"
    },
    "papermill": {
     "duration": 0.009921,
     "end_time": "2023-11-07T05:19:07.588504",
     "exception": false,
     "start_time": "2023-11-07T05:19:07.578583",
     "status": "completed"
    },
    "tags": []
   },
   "outputs": [],
   "source": [
    "labels: dict = dict()\n",
    "\n",
    "i = 0\n",
    "for folder in sorted(os.listdir(f\"{BASE_PATH}/train\")):\n",
    "    labels[i] = folder.title()\n",
    "    i += 1\n",
    "\n",
    "json.dump(labels, open(\"labels.json\", \"w\"))"
   ]
  }
 ],
 "metadata": {
  "kernelspec": {
   "display_name": "Python 3",
   "language": "python",
   "name": "python3"
  },
  "language_info": {
   "codemirror_mode": {
    "name": "ipython",
    "version": 3
   },
   "file_extension": ".py",
   "mimetype": "text/x-python",
   "name": "python",
   "nbconvert_exporter": "python",
   "pygments_lexer": "ipython3",
   "version": "3.10.12"
  },
  "papermill": {
   "default_parameters": {},
   "duration": 5.850665,
   "end_time": "2023-11-07T05:19:08.211989",
   "environment_variables": {},
   "exception": null,
   "input_path": "__notebook__.ipynb",
   "output_path": "__notebook__.ipynb",
   "parameters": {},
   "start_time": "2023-11-07T05:19:02.361324",
   "version": "2.4.0"
  }
 },
 "nbformat": 4,
 "nbformat_minor": 5
}
