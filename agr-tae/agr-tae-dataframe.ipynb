{
 "cells": [
  {
   "cell_type": "code",
   "execution_count": 1,
   "id": "4dc41db0",
   "metadata": {
    "execution": {
     "iopub.execute_input": "2023-11-07T05:30:51.163688Z",
     "iopub.status.busy": "2023-11-07T05:30:51.163107Z",
     "iopub.status.idle": "2023-11-07T05:30:54.160762Z",
     "shell.execute_reply": "2023-11-07T05:30:54.159233Z"
    },
    "papermill": {
     "duration": 3.007859,
     "end_time": "2023-11-07T05:30:54.164252",
     "exception": false,
     "start_time": "2023-11-07T05:30:51.156393",
     "status": "completed"
    },
    "tags": []
   },
   "outputs": [],
   "source": [
    "import os\n",
    "import cv2\n",
    "import json\n",
    "import numpy as np\n",
    "import pandas as pd\n",
    "\n",
    "from sklearn.model_selection import train_test_split\n",
    "\n",
    "BASE_PATH: str = \"/kaggle/input/anyas-gojo-revival-aerospace-enigma\""
   ]
  },
  {
   "cell_type": "code",
   "execution_count": 2,
   "id": "e400588d",
   "metadata": {
    "_cell_guid": "b1076dfc-b9ad-4769-8c92-a6c4dae69d19",
    "_uuid": "8f2839f25d086af736a60e9eeb907d3b93b6e0e5",
    "execution": {
     "iopub.execute_input": "2023-11-07T05:30:54.174385Z",
     "iopub.status.busy": "2023-11-07T05:30:54.173511Z",
     "iopub.status.idle": "2023-11-07T05:30:54.936144Z",
     "shell.execute_reply": "2023-11-07T05:30:54.934906Z"
    },
    "papermill": {
     "duration": 0.772132,
     "end_time": "2023-11-07T05:30:54.939417",
     "exception": false,
     "start_time": "2023-11-07T05:30:54.167285",
     "status": "completed"
    },
    "tags": []
   },
   "outputs": [],
   "source": [
    "tr_df: pd.DataFrame = pd.DataFrame(data=None, columns=[\"filepaths\", \"labels\"])\n",
    "    \n",
    "filepaths: list = []\n",
    "labels: list = []\n",
    "\n",
    "folders: list = sorted([folder for folder in os.listdir(f\"{BASE_PATH}/train\")])\n",
    "    \n",
    "i: int = 0\n",
    "for folder in folders:\n",
    "    for filename in os.listdir(f\"{BASE_PATH}/train/{folder}\"):\n",
    "        filepaths.append(os.path.join(f\"{BASE_PATH}/train/{folder}\", filename))\n",
    "        labels.append(i)\n",
    "    i += 1\n",
    "\n",
    "tr_df.filepaths = filepaths\n",
    "tr_df.labels = labels\n",
    "tr_df.to_csv(\"train.csv\", index=False)"
   ]
  },
  {
   "cell_type": "code",
   "execution_count": 3,
   "id": "ba61d403",
   "metadata": {
    "execution": {
     "iopub.execute_input": "2023-11-07T05:30:54.947768Z",
     "iopub.status.busy": "2023-11-07T05:30:54.947213Z",
     "iopub.status.idle": "2023-11-07T05:30:54.971089Z",
     "shell.execute_reply": "2023-11-07T05:30:54.968989Z"
    },
    "papermill": {
     "duration": 0.032121,
     "end_time": "2023-11-07T05:30:54.974631",
     "exception": false,
     "start_time": "2023-11-07T05:30:54.942510",
     "status": "completed"
    },
    "tags": []
   },
   "outputs": [],
   "source": [
    "ts_df: pd.DataFrame = pd.DataFrame(data=None, columns=[\"filepaths\"])\n",
    "ss_df = pd.read_csv(\"/kaggle/input/anyas-gojo-revival-aerospace-enigma/sample_submission.csv\")\n",
    "    \n",
    "filepaths: list = []\n",
    "labels: list = []\n",
    "\n",
    "for filename in ss_df.image_path:\n",
    "    filepaths.append(os.path.join(f\"{BASE_PATH}/test\", filename))\n",
    "\n",
    "\n",
    "ts_df.filepaths = filepaths\n",
    "ts_df.to_csv(\"test.csv\", index=False)"
   ]
  },
  {
   "cell_type": "code",
   "execution_count": 4,
   "id": "c670e758",
   "metadata": {
    "execution": {
     "iopub.execute_input": "2023-11-07T05:30:54.983733Z",
     "iopub.status.busy": "2023-11-07T05:30:54.982882Z",
     "iopub.status.idle": "2023-11-07T05:30:54.991533Z",
     "shell.execute_reply": "2023-11-07T05:30:54.990043Z"
    },
    "papermill": {
     "duration": 0.0173,
     "end_time": "2023-11-07T05:30:54.995093",
     "exception": false,
     "start_time": "2023-11-07T05:30:54.977793",
     "status": "completed"
    },
    "tags": []
   },
   "outputs": [],
   "source": [
    "labels: dict = dict()\n",
    "\n",
    "i = 0\n",
    "for folder in sorted(os.listdir(f\"{BASE_PATH}/train\")):\n",
    "    labels[i] = folder.title()\n",
    "    i += 1\n",
    "\n",
    "json.dump(labels, open(\"labels.json\", \"w\"))"
   ]
  }
 ],
 "metadata": {
  "kernelspec": {
   "display_name": "Python 3",
   "language": "python",
   "name": "python3"
  },
  "language_info": {
   "codemirror_mode": {
    "name": "ipython",
    "version": 3
   },
   "file_extension": ".py",
   "mimetype": "text/x-python",
   "name": "python",
   "nbconvert_exporter": "python",
   "pygments_lexer": "ipython3",
   "version": "3.10.12"
  },
  "papermill": {
   "default_parameters": {},
   "duration": 10.138854,
   "end_time": "2023-11-07T05:30:55.924915",
   "environment_variables": {},
   "exception": null,
   "input_path": "__notebook__.ipynb",
   "output_path": "__notebook__.ipynb",
   "parameters": {},
   "start_time": "2023-11-07T05:30:45.786061",
   "version": "2.4.0"
  }
 },
 "nbformat": 4,
 "nbformat_minor": 5
}
