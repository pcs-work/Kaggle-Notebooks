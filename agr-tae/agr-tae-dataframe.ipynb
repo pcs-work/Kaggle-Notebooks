{
 "cells": [
  {
   "cell_type": "code",
   "execution_count": 1,
   "id": "5158167e",
   "metadata": {
    "execution": {
     "iopub.execute_input": "2023-11-06T07:15:50.338005Z",
     "iopub.status.busy": "2023-11-06T07:15:50.337537Z",
     "iopub.status.idle": "2023-11-06T07:15:52.235445Z",
     "shell.execute_reply": "2023-11-06T07:15:52.233598Z"
    },
    "papermill": {
     "duration": 1.90691,
     "end_time": "2023-11-06T07:15:52.240140",
     "exception": false,
     "start_time": "2023-11-06T07:15:50.333230",
     "status": "completed"
    },
    "tags": []
   },
   "outputs": [],
   "source": [
    "import os\n",
    "import cv2\n",
    "import json\n",
    "import numpy as np\n",
    "import pandas as pd\n",
    "\n",
    "from sklearn.model_selection import train_test_split\n",
    "\n",
    "BASE_PATH: str = \"/kaggle/input/anyas-gojo-revival-aerospace-enigma\""
   ]
  },
  {
   "cell_type": "code",
   "execution_count": 2,
   "id": "09557801",
   "metadata": {
    "_cell_guid": "b1076dfc-b9ad-4769-8c92-a6c4dae69d19",
    "_uuid": "8f2839f25d086af736a60e9eeb907d3b93b6e0e5",
    "execution": {
     "iopub.execute_input": "2023-11-06T07:15:52.246221Z",
     "iopub.status.busy": "2023-11-06T07:15:52.245554Z",
     "iopub.status.idle": "2023-11-06T07:15:53.347468Z",
     "shell.execute_reply": "2023-11-06T07:15:53.344852Z"
    },
    "papermill": {
     "duration": 1.108173,
     "end_time": "2023-11-06T07:15:53.350699",
     "exception": false,
     "start_time": "2023-11-06T07:15:52.242526",
     "status": "completed"
    },
    "tags": []
   },
   "outputs": [],
   "source": [
    "tr_df: pd.DataFrame = pd.DataFrame(data=None, columns=[\"filepaths\", \"labels\"])\n",
    "    \n",
    "filepaths: list = []\n",
    "labels: list = []\n",
    "\n",
    "folders: list = sorted([folder for folder in os.listdir(f\"{BASE_PATH}/train\")])\n",
    "    \n",
    "i: int = 0\n",
    "for folder in folders:\n",
    "    for filename in os.listdir(f\"{BASE_PATH}/train/{folder}\"):\n",
    "        filepaths.append(os.path.join(f\"{BASE_PATH}/train/{folder}\", filename))\n",
    "        labels.append(i)\n",
    "    i += 1\n",
    "\n",
    "tr_df.filepaths = filepaths\n",
    "tr_df.labels = labels\n",
    "tr_df.to_csv(\"train.csv\", index=False)"
   ]
  },
  {
   "cell_type": "code",
   "execution_count": 3,
   "id": "30d1079b",
   "metadata": {
    "execution": {
     "iopub.execute_input": "2023-11-06T07:15:53.356986Z",
     "iopub.status.busy": "2023-11-06T07:15:53.356496Z",
     "iopub.status.idle": "2023-11-06T07:15:53.507832Z",
     "shell.execute_reply": "2023-11-06T07:15:53.506451Z"
    },
    "papermill": {
     "duration": 0.158137,
     "end_time": "2023-11-06T07:15:53.510884",
     "exception": false,
     "start_time": "2023-11-06T07:15:53.352747",
     "status": "completed"
    },
    "tags": []
   },
   "outputs": [],
   "source": [
    "ts_df: pd.DataFrame = pd.DataFrame(data=None, columns=[\"filepaths\"])\n",
    "    \n",
    "filepaths: list = []\n",
    "labels: list = []\n",
    "\n",
    "for filename in os.listdir(f\"{BASE_PATH}/test\"):\n",
    "    filepaths.append(os.path.join(f\"{BASE_PATH}/test\", filename))\n",
    "\n",
    "\n",
    "ts_df.filepaths = filepaths\n",
    "ts_df.to_csv(\"test.csv\", index=False)"
   ]
  }
 ],
 "metadata": {
  "kernelspec": {
   "display_name": "Python 3",
   "language": "python",
   "name": "python3"
  },
  "language_info": {
   "codemirror_mode": {
    "name": "ipython",
    "version": 3
   },
   "file_extension": ".py",
   "mimetype": "text/x-python",
   "name": "python",
   "nbconvert_exporter": "python",
   "pygments_lexer": "ipython3",
   "version": "3.10.12"
  },
  "papermill": {
   "default_parameters": {},
   "duration": 7.116389,
   "end_time": "2023-11-06T07:15:54.339481",
   "environment_variables": {},
   "exception": null,
   "input_path": "__notebook__.ipynb",
   "output_path": "__notebook__.ipynb",
   "parameters": {},
   "start_time": "2023-11-06T07:15:47.223092",
   "version": "2.4.0"
  }
 },
 "nbformat": 4,
 "nbformat_minor": 5
}
