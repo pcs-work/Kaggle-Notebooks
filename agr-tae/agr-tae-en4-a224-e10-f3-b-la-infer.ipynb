{
 "cells": [
  {
   "cell_type": "markdown",
   "id": "b5e14251",
   "metadata": {
    "_cell_guid": "b1076dfc-b9ad-4769-8c92-a6c4dae69d19",
    "_uuid": "8f2839f25d086af736a60e9eeb907d3b93b6e0e5",
    "papermill": {
     "duration": 0.006489,
     "end_time": "2023-11-07T05:26:50.849989",
     "exception": false,
     "start_time": "2023-11-07T05:26:50.843500",
     "status": "completed"
    },
    "tags": []
   },
   "source": [
    "### **Setup**"
   ]
  },
  {
   "cell_type": "code",
   "execution_count": 1,
   "id": "d9550309",
   "metadata": {
    "execution": {
     "iopub.execute_input": "2023-11-07T05:26:50.863644Z",
     "iopub.status.busy": "2023-11-07T05:26:50.863172Z",
     "iopub.status.idle": "2023-11-07T05:27:02.751105Z",
     "shell.execute_reply": "2023-11-07T05:27:02.750102Z"
    },
    "papermill": {
     "duration": 11.897547,
     "end_time": "2023-11-07T05:27:02.753566",
     "exception": false,
     "start_time": "2023-11-07T05:26:50.856019",
     "status": "completed"
    },
    "tags": []
   },
   "outputs": [],
   "source": [
    "%%bash\n",
    "pip install timm -q"
   ]
  },
  {
   "cell_type": "markdown",
   "id": "bbf80e00",
   "metadata": {
    "papermill": {
     "duration": 0.005968,
     "end_time": "2023-11-07T05:27:02.766232",
     "exception": false,
     "start_time": "2023-11-07T05:27:02.760264",
     "status": "completed"
    },
    "tags": []
   },
   "source": [
    "### **Library Imports**"
   ]
  },
  {
   "cell_type": "code",
   "execution_count": 2,
   "id": "75d3066b",
   "metadata": {
    "execution": {
     "iopub.execute_input": "2023-11-07T05:27:02.779442Z",
     "iopub.status.busy": "2023-11-07T05:27:02.779111Z",
     "iopub.status.idle": "2023-11-07T05:27:09.884921Z",
     "shell.execute_reply": "2023-11-07T05:27:09.884080Z"
    },
    "papermill": {
     "duration": 7.115217,
     "end_time": "2023-11-07T05:27:09.887295",
     "exception": false,
     "start_time": "2023-11-07T05:27:02.772078",
     "status": "completed"
    },
    "tags": []
   },
   "outputs": [
    {
     "name": "stderr",
     "output_type": "stream",
     "text": [
      "/opt/conda/lib/python3.10/site-packages/scipy/__init__.py:146: UserWarning: A NumPy version >=1.16.5 and <1.23.0 is required for this version of SciPy (detected version 1.23.5\n",
      "  warnings.warn(f\"A NumPy version >={np_minversion} and <{np_maxversion}\"\n"
     ]
    }
   ],
   "source": [
    "import os\n",
    "import re\n",
    "import cv2\n",
    "import json\n",
    "import timm\n",
    "import torch\n",
    "import numpy as np\n",
    "import pandas as pd\n",
    "import matplotlib.pyplot as plt\n",
    "\n",
    "from time import time\n",
    "from scipy import stats\n",
    "from typing import Union\n",
    "from torch import nn, optim\n",
    "from torch.utils.data import Dataset\n",
    "from torch.utils.data import DataLoader as DL\n",
    "from torchvision import transforms\n",
    "\n",
    "from sklearn.model_selection import StratifiedKFold"
   ]
  },
  {
   "cell_type": "markdown",
   "id": "1d7311af",
   "metadata": {
    "papermill": {
     "duration": 0.005705,
     "end_time": "2023-11-07T05:27:09.899265",
     "exception": false,
     "start_time": "2023-11-07T05:27:09.893560",
     "status": "completed"
    },
    "tags": []
   },
   "source": [
    "### **Utilities and Helpers**"
   ]
  },
  {
   "cell_type": "code",
   "execution_count": 3,
   "id": "8f3830f4",
   "metadata": {
    "execution": {
     "iopub.execute_input": "2023-11-07T05:27:09.912610Z",
     "iopub.status.busy": "2023-11-07T05:27:09.912115Z",
     "iopub.status.idle": "2023-11-07T05:27:09.919913Z",
     "shell.execute_reply": "2023-11-07T05:27:09.918975Z"
    },
    "papermill": {
     "duration": 0.016815,
     "end_time": "2023-11-07T05:27:09.921926",
     "exception": false,
     "start_time": "2023-11-07T05:27:09.905111",
     "status": "completed"
    },
    "tags": []
   },
   "outputs": [],
   "source": [
    "SEED: int = 42\n",
    "SIZE: int = 224\n",
    "\n",
    "\n",
    "def breaker(num: int=50, char: str=\"*\") -> None: print(\"\\n\" + num*char + \"\\n\")\n",
    "\n",
    "    \n",
    "def get_image(path: str, size: int=224) -> np.ndarray:\n",
    "    image = cv2.imread(path, cv2.IMREAD_COLOR)\n",
    "    image = cv2.cvtColor(src=image, code=cv2.COLOR_BGR2RGB)\n",
    "    return cv2.resize(src=image, dsize=(size, size), interpolation=cv2.INTER_AREA)\n",
    "\n",
    "    \n",
    "# def show_loss_graphs(L: list) -> None:\n",
    "#     TL, VL = [], []\n",
    "#     for i in range(len(L)):\n",
    "#         TL.append(L[i][\"train\"])\n",
    "#         VL.append(L[i][\"valid\"])\n",
    "#     x_Axis = np.arange(1, len(TL) + 1)\n",
    "#     plt.figure()\n",
    "#     plt.plot(x_Axis, TL, \"r\", label=\"Train\")\n",
    "#     plt.plot(x_Axis, VL, \"b\", label=\"Valid\")\n",
    "#     plt.legend()\n",
    "#     plt.grid()\n",
    "#     plt.title(\"Loss Graph\")\n",
    "#     plt.show()\n",
    "\n",
    "    \n",
    "# def show_accuracy_graphs(A: list) -> None:\n",
    "#     TA, VA = [], []\n",
    "#     for i in range(len(A)):\n",
    "#         TA.append(A[i][\"train\"])\n",
    "#         VA.append(A[i][\"valid\"])\n",
    "#     x_Axis = np.arange(1, len(TA) + 1)\n",
    "#     plt.figure()\n",
    "#     plt.plot(x_Axis, TA, \"r\", label=\"Train\")\n",
    "#     plt.plot(x_Axis, VA, \"b\", label=\"Valid\")\n",
    "#     plt.legend()\n",
    "#     plt.grid()\n",
    "#     plt.title(\"Accuracy Graph\")\n",
    "#     plt.show()\n",
    "    \n",
    "\n",
    "# def show_lr_graph(LR: list) -> None:\n",
    "#     x_Axis = [i+1 for i in range(len(LR))]\n",
    "#     plt.figure(figsize=(8, 6))\n",
    "#     plt.plot(x_Axis, LR, \"rx\")\n",
    "#     plt.grid()\n",
    "#     plt.show()"
   ]
  },
  {
   "cell_type": "markdown",
   "id": "c7986d39",
   "metadata": {
    "papermill": {
     "duration": 0.005729,
     "end_time": "2023-11-07T05:27:09.933674",
     "exception": false,
     "start_time": "2023-11-07T05:27:09.927945",
     "status": "completed"
    },
    "tags": []
   },
   "source": [
    "\n",
    "\n",
    "### **Configuration**"
   ]
  },
  {
   "cell_type": "code",
   "execution_count": 4,
   "id": "25127e2a",
   "metadata": {
    "execution": {
     "iopub.execute_input": "2023-11-07T05:27:09.946900Z",
     "iopub.status.busy": "2023-11-07T05:27:09.946598Z",
     "iopub.status.idle": "2023-11-07T05:27:10.023034Z",
     "shell.execute_reply": "2023-11-07T05:27:10.022135Z"
    },
    "papermill": {
     "duration": 0.085342,
     "end_time": "2023-11-07T05:27:10.024920",
     "exception": false,
     "start_time": "2023-11-07T05:27:09.939578",
     "status": "completed"
    },
    "tags": []
   },
   "outputs": [],
   "source": [
    "class CFG(object):\n",
    "    def __init__(\n",
    "        self, \n",
    "        seed: int = 42,\n",
    "        size: int = 224,\n",
    "        n_splits: int = 5,\n",
    "        batch_size: int = 16,\n",
    "        epochs: int = 25,\n",
    "        early_stopping: int = 5,\n",
    "        lr: float = 1e-4,\n",
    "        wd: float = 0.0,\n",
    "        max_lr: float = 1e-3,\n",
    "        pct_start: float = 0.2,\n",
    "        steps_per_epoch: int = 100,\n",
    "        div_factor: int = 1e3, \n",
    "        final_div_factor: float = 1e3,\n",
    "    ):\n",
    "        self.seed = seed\n",
    "        self.size = size\n",
    "        self.n_splits = n_splits\n",
    "        self.batch_size = batch_size\n",
    "        self.epochs = epochs\n",
    "        self.early_stopping = early_stopping\n",
    "        self.lr = lr\n",
    "        self.wd = wd\n",
    "        self.max_lr = max_lr\n",
    "        self.pct_start = pct_start\n",
    "        self.steps_per_epoch = steps_per_epoch\n",
    "        self.div_factor = div_factor\n",
    "        self.final_div_factor = final_div_factor\n",
    "        self.device = torch.device(\"cuda\" if torch.cuda.is_available() else \"cpu\")\n",
    "        \n",
    "        if self.size == 224:\n",
    "            self.train_transform = transforms.Compose([\n",
    "                transforms.ToTensor(),\n",
    "                transforms.Normalize(\n",
    "                    [0.55097, 0.58906, 0.62141], \n",
    "                    [0.20972, 0.20300, 0.21329]\n",
    "                ),\n",
    "                transforms.RandomAffine(\n",
    "                    degrees=(-45, 45), \n",
    "                    translate=(0.15, 0.15), \n",
    "                    scale=(0.5, 1.5)\n",
    "                ),\n",
    "                transforms.RandomHorizontalFlip(p=0.25),\n",
    "                transforms.RandomVerticalFlip(p=0.25),\n",
    "            ])\n",
    "            self.valid_transform = transforms.Compose([\n",
    "                transforms.ToTensor(),\n",
    "                transforms.Normalize(\n",
    "                    [0.55097, 0.58906, 0.62141], \n",
    "                    [0.20972, 0.20300, 0.21329]\n",
    "                ),\n",
    "            ])\n",
    "        \n",
    "        if self.size == 384:\n",
    "            elf.train_transform = transforms.Compose([\n",
    "                transforms.ToTensor(),\n",
    "                transforms.Normalize(\n",
    "                    [0.55098, 0.58906, 0.62142], \n",
    "                    [0.20973, 0.20301, 0.21330]\n",
    "                ),\n",
    "                transforms.RandomAffine(\n",
    "                    degrees=(-45, 45), \n",
    "                    translate=(0.15, 0.15), \n",
    "                    scale=(0.5, 1.5)\n",
    "                ),\n",
    "                transforms.RandomHorizontalFlip(p=0.25),\n",
    "                transforms.RandomVerticalFlip(p=0.25),\n",
    "            ])\n",
    "            self.valid_transform = transforms.Compose([\n",
    "                transforms.ToTensor(),\n",
    "                transforms.Normalize(\n",
    "                    [0.55098, 0.58906, 0.62142], \n",
    "                    [0.20973, 0.20301, 0.21330]\n",
    "                ),\n",
    "            ])\n",
    "        \n",
    "        if self.size == 512:\n",
    "            elf.train_transform = transforms.Compose([\n",
    "                transforms.ToTensor(),\n",
    "                transforms.Normalize(\n",
    "                    [0.55098, 0.58906, 0.62142], \n",
    "                    [0.20973, 0.20301, 0.21330]\n",
    "                ),\n",
    "                transforms.RandomAffine(\n",
    "                    degrees=(-45, 45), \n",
    "                    translate=(0.15, 0.15), \n",
    "                    scale=(0.5, 1.5)\n",
    "                ),\n",
    "                transforms.RandomHorizontalFlip(p=0.25),\n",
    "                transforms.RandomVerticalFlip(p=0.25),\n",
    "            ])\n",
    "            self.valid_transform = transforms.Compose([\n",
    "                transforms.ToTensor(),\n",
    "                transforms.Normalize(\n",
    "                    [0.55098, 0.58906, 0.62142], \n",
    "                    [0.20973, 0.20301, 0.21330]\n",
    "                ),\n",
    "            ])\n",
    "        \n",
    "        if self.size == 768:\n",
    "            elf.train_transform = transforms.Compose([\n",
    "                transforms.ToTensor(),\n",
    "                transforms.Normalize(\n",
    "                    [0.55098, 0.58906, 0.62142], \n",
    "                    [0.20973, 0.20301, 0.21330]\n",
    "                ),\n",
    "                transforms.RandomAffine(\n",
    "                    degrees=(-45, 45), \n",
    "                    translate=(0.15, 0.15), \n",
    "                    scale=(0.5, 1.5)\n",
    "                ),\n",
    "                transforms.RandomHorizontalFlip(p=0.25),\n",
    "                transforms.RandomVerticalFlip(p=0.25),\n",
    "            ])\n",
    "            self.valid_transform = transforms.Compose([\n",
    "                transforms.ToTensor(),\n",
    "                transforms.Normalize(\n",
    "                    [0.55098, 0.58906, 0.62142], \n",
    "                    [0.20973, 0.20301, 0.21330]\n",
    "                ),\n",
    "            ])\n",
    "                    \n",
    "        self.save_path = \"saves\"\n",
    "        if not os.path.exists(self.save_path): os.makedirs(self.save_path)\n",
    "    \n",
    "cfg = CFG(\n",
    "    seed=SEED, \n",
    "    size=SIZE\n",
    ")"
   ]
  },
  {
   "cell_type": "markdown",
   "id": "37c4fcf7",
   "metadata": {
    "papermill": {
     "duration": 0.006061,
     "end_time": "2023-11-07T05:27:10.037164",
     "exception": false,
     "start_time": "2023-11-07T05:27:10.031103",
     "status": "completed"
    },
    "tags": []
   },
   "source": [
    "### **Dataset Template**"
   ]
  },
  {
   "cell_type": "code",
   "execution_count": 5,
   "id": "a15f9a73",
   "metadata": {
    "execution": {
     "iopub.execute_input": "2023-11-07T05:27:10.050672Z",
     "iopub.status.busy": "2023-11-07T05:27:10.050326Z",
     "iopub.status.idle": "2023-11-07T05:27:10.057372Z",
     "shell.execute_reply": "2023-11-07T05:27:10.056466Z"
    },
    "papermill": {
     "duration": 0.016098,
     "end_time": "2023-11-07T05:27:10.059270",
     "exception": false,
     "start_time": "2023-11-07T05:27:10.043172",
     "status": "completed"
    },
    "tags": []
   },
   "outputs": [],
   "source": [
    "class DS(Dataset):\n",
    "    def __init__(\n",
    "        self, \n",
    "        filepaths: np.ndarray,\n",
    "        size: int=224,\n",
    "        labels: Union[np.ndarray, None]=None, \n",
    "        transform=None\n",
    "    ):\n",
    "        \n",
    "        self.filepaths = filepaths\n",
    "        self.size = size\n",
    "        self.labels = labels\n",
    "        self.transform = transform\n",
    "    \n",
    "    def __len__(self):\n",
    "        return self.filepaths.shape[0]\n",
    "    \n",
    "    def __getitem__(self, idx):\n",
    "        image = get_image(self.filepaths[idx], self.size)\n",
    "        if self.labels is None:\n",
    "            return self.transform(image)\n",
    "        return self.transform(image), torch.LongTensor(self.labels[idx])"
   ]
  },
  {
   "cell_type": "markdown",
   "id": "aff62ee8",
   "metadata": {
    "papermill": {
     "duration": 0.006176,
     "end_time": "2023-11-07T05:27:10.071624",
     "exception": false,
     "start_time": "2023-11-07T05:27:10.065448",
     "status": "completed"
    },
    "tags": []
   },
   "source": [
    "### **Model**"
   ]
  },
  {
   "cell_type": "code",
   "execution_count": 6,
   "id": "72c4ac26",
   "metadata": {
    "execution": {
     "iopub.execute_input": "2023-11-07T05:27:10.086799Z",
     "iopub.status.busy": "2023-11-07T05:27:10.086191Z",
     "iopub.status.idle": "2023-11-07T05:27:10.092532Z",
     "shell.execute_reply": "2023-11-07T05:27:10.091687Z"
    },
    "papermill": {
     "duration": 0.016157,
     "end_time": "2023-11-07T05:27:10.094369",
     "exception": false,
     "start_time": "2023-11-07T05:27:10.078212",
     "status": "completed"
    },
    "tags": []
   },
   "outputs": [],
   "source": [
    "class Model(nn.Module):\n",
    "    def __init__(self):\n",
    "        super(Model, self).__init__()\n",
    "            \n",
    "        self.model = timm.create_model(\n",
    "            model_name=\"efficientnet_b4\", \n",
    "            pretrained=False\n",
    "        )\n",
    "        self.model.classifier = nn.Linear(\n",
    "            in_features=self.model.classifier.in_features, \n",
    "            out_features=5\n",
    "        )\n",
    "\n",
    "    def forward(self, x):\n",
    "        return nn.LogSoftmax(dim=1)(self.model(x))"
   ]
  },
  {
   "cell_type": "markdown",
   "id": "d20bbeaf",
   "metadata": {
    "papermill": {
     "duration": 0.00672,
     "end_time": "2023-11-07T05:27:10.107252",
     "exception": false,
     "start_time": "2023-11-07T05:27:10.100532",
     "status": "completed"
    },
    "tags": []
   },
   "source": [
    "### **Fit and Predict**"
   ]
  },
  {
   "cell_type": "code",
   "execution_count": 7,
   "id": "16b8769b",
   "metadata": {
    "execution": {
     "iopub.execute_input": "2023-11-07T05:27:10.121184Z",
     "iopub.status.busy": "2023-11-07T05:27:10.120615Z",
     "iopub.status.idle": "2023-11-07T05:27:10.132276Z",
     "shell.execute_reply": "2023-11-07T05:27:10.131582Z"
    },
    "papermill": {
     "duration": 0.020886,
     "end_time": "2023-11-07T05:27:10.134119",
     "exception": false,
     "start_time": "2023-11-07T05:27:10.113233",
     "status": "completed"
    },
    "tags": []
   },
   "outputs": [],
   "source": [
    "# def fit(\n",
    "#     model=None,\n",
    "#     optimizer=None, \n",
    "#     scheduler_rlrop=None,\n",
    "#     scheduler_oclr=None,\n",
    "#     epochs=None, \n",
    "#     early_stopping_patience=None, \n",
    "#     dataloaders=None, \n",
    "#     fold=None, \n",
    "#     save_path=None,\n",
    "#     device=None,\n",
    "#     verbose=False\n",
    "# ) -> tuple:\n",
    "    \n",
    "#     def get_accuracy(y_pred, y_true):\n",
    "#         y_pred = torch.argmax(y_pred, dim=1)\n",
    "#         return torch.count_nonzero(y_pred == y_true).item() / len(y_pred)\n",
    "    \n",
    "    \n",
    "#     if verbose:\n",
    "#         breaker()\n",
    "#         if fold: print(f\"Training Fold {fold}...\")\n",
    "#         else: print(\"Training ...\")\n",
    "#         breaker()\n",
    "        \n",
    "#     bestLoss: dict = {\"train\" : np.inf, \"valid\" : np.inf} \n",
    "#     bestAccs: dict = {\"train\" : 0.0, \"valid\" : 0.0}\n",
    "    \n",
    "#     Losses: list = []\n",
    "#     Accuracies: list = [] \n",
    "#     LRs: list = []\n",
    "        \n",
    "#     if fold: \n",
    "#         ble_name = f\"ble_state_fold_{fold}.pt\"\n",
    "#         bae_name = f\"bae_state_fold_{fold}.pt\"\n",
    "#     else: \n",
    "#         ble_name = f\"ble_state.pt\"\n",
    "#         bae_name = f\"bae_state.pt\"\n",
    "        \n",
    "#     start_time = time()\n",
    "#     for e in range(epochs):\n",
    "#         e_st = time()\n",
    "#         epochLoss: dict = {\"train\" : 0.0, \"valid\" : 0.0} \n",
    "#         epochAccs: dict = {\"train\" : 0.0, \"valid\" : 0.0}\n",
    "\n",
    "#         for phase in [\"train\", \"valid\"]:\n",
    "#             if phase == \"train\":\n",
    "#                 model.train()\n",
    "#             else:\n",
    "#                 model.eval()\n",
    "            \n",
    "#             lossPerPass: list = []\n",
    "#             accsPerPass: list = []\n",
    "                \n",
    "#             for X, y in dataloaders[phase]:\n",
    "#                 X, y = X.to(device), y.to(device).view(-1)\n",
    "\n",
    "#                 optimizer.zero_grad()\n",
    "#                 with torch.set_grad_enabled(phase == \"train\"):\n",
    "#                     output = model(X)\n",
    "#                     loss = nn.NLLLoss()(output, y)\n",
    "#                     if phase == \"train\":\n",
    "#                         loss.backward()\n",
    "#                         optimizer.step()\n",
    "#                         if scheduler_oclr: scheduler_oclr.step()\n",
    "#                 lossPerPass.append(loss.item())\n",
    "#                 accsPerPass.append(get_accuracy(output, y))\n",
    "#             epochLoss[phase] = np.mean(np.array(lossPerPass))\n",
    "#             epochAccs[phase] = np.mean(np.array(accsPerPass))\n",
    "#         if scheduler_oclr: LRs.append(scheduler_oclr.get_last_lr())\n",
    "#         Losses.append(epochLoss)\n",
    "#         Accuracies.append(epochAccs)\n",
    "        \n",
    "#         if scheduler_oclr:\n",
    "#             save_dict = {\"model_state_dict\"     : model.state_dict(),\n",
    "#                          \"optim_state_dict\"     : optimizer.state_dict(),\n",
    "#                          \"scheduler_state_dict\" : scheduler_oclr.state_dict()}\n",
    "        \n",
    "#         elif scheduler_rlrop:\n",
    "#             save_dict = {\"model_state_dict\"     : model.state_dict(),\n",
    "#                          \"optim_state_dict\"     : optimizer.state_dict(),\n",
    "#                          \"scheduler_state_dict\" : scheduler_rlrop.state_dict()}\n",
    "        \n",
    "#         else:\n",
    "#             save_dict = {\"model_state_dict\"     : model.state_dict(),\n",
    "#                          \"optim_state_dict\"     : optimizer.state_dict()}\n",
    "        \n",
    "#         if early_stopping_patience:\n",
    "#             if epochLoss[\"valid\"] < bestLoss[\"valid\"]:\n",
    "#                 bestLoss = epochLoss\n",
    "#                 BLE = e + 1\n",
    "#                 torch.save(save_dict, os.path.join(save_path, ble_name))\n",
    "#                 torch.save(save_dict, os.path.join(save_path, bae_name))\n",
    "#                 early_stopping_step = 0\n",
    "#             else:\n",
    "#                 early_stopping_step += 1\n",
    "#                 if early_stopping_step > early_stopping_patience:\n",
    "#                     print(\"\\nEarly Stopping at Epoch {}\".format(e + 1))\n",
    "#                     break\n",
    "        \n",
    "#         if epochLoss[\"valid\"] < bestLoss[\"valid\"]:\n",
    "#             bestLoss = epochLoss\n",
    "#             BLE = e + 1\n",
    "#             torch.save(save_dict,os.path.join(save_path, ble_name))\n",
    "        \n",
    "#         if epochAccs[\"valid\"] > bestAccs[\"valid\"]:\n",
    "#             bestAccs = epochAccs\n",
    "#             BAE = e + 1\n",
    "#             torch.save(save_dict,os.path.join(save_path, bae_name))\n",
    "        \n",
    "#         if scheduler_rlrop: scheduler_rlrop.step(epochLoss[\"valid\"])\n",
    "        \n",
    "#         if verbose:\n",
    "#             print(\"Epoch: {} | Train Loss: {:.5f} | Valid Loss: {:.5f} |\\\n",
    "#  Train Accs: {:.5f} | Valid Accs: {:.5f} | Time: {:.2f} seconds\".format(e+1, \n",
    "#                                                                         epochLoss[\"train\"], epochLoss[\"valid\"], \n",
    "#                                                                         epochAccs[\"train\"], epochAccs[\"valid\"], \n",
    "#                                                                         time()-e_st))\n",
    "\n",
    "#     if verbose:                                           \n",
    "#         breaker()\n",
    "#         print(f\"Best Validation Loss at Epoch {BLE}\")\n",
    "#         breaker()\n",
    "#         print(f\"Best Validation Accs at Epoch {BAE}\")\n",
    "#         breaker()\n",
    "#         print(\"Time Taken [{} Epochs] : {:.2f} minutes\".format(len(Losses), (time()-start_time)/60))\n",
    "    \n",
    "#     return Losses, Accuracies, LRs, bestLoss, bestAccs, BLE, BAE, ble_name, bae_name\n",
    "\n",
    "\n",
    "def predict_batch(model=None, dataloader=None, path=None, device=None) -> np.ndarray:\n",
    "    model.load_state_dict(torch.load(path, map_location=device)[\"model_state_dict\"])\n",
    "    model.to(device)    \n",
    "    model.eval()\n",
    "    \n",
    "    y_pred = torch.zeros(1, 1).to(device)\n",
    "    \n",
    "    for X in dataloader:\n",
    "        X = X.to(device)\n",
    "        with torch.no_grad():\n",
    "            output = torch.argmax(torch.exp(model(X)), dim=1)\n",
    "        y_pred = torch.cat((y_pred, output.view(-1, 1)), dim=0)\n",
    "    \n",
    "    return y_pred[1:].detach().cpu().numpy()"
   ]
  },
  {
   "cell_type": "markdown",
   "id": "36354b1f",
   "metadata": {
    "papermill": {
     "duration": 0.005692,
     "end_time": "2023-11-07T05:27:10.145693",
     "exception": false,
     "start_time": "2023-11-07T05:27:10.140001",
     "status": "completed"
    },
    "tags": []
   },
   "source": [
    "### **Train**"
   ]
  },
  {
   "cell_type": "code",
   "execution_count": 8,
   "id": "db5f4848",
   "metadata": {
    "execution": {
     "iopub.execute_input": "2023-11-07T05:27:10.159381Z",
     "iopub.status.busy": "2023-11-07T05:27:10.158816Z",
     "iopub.status.idle": "2023-11-07T05:27:10.162824Z",
     "shell.execute_reply": "2023-11-07T05:27:10.162050Z"
    },
    "papermill": {
     "duration": 0.013052,
     "end_time": "2023-11-07T05:27:10.164715",
     "exception": false,
     "start_time": "2023-11-07T05:27:10.151663",
     "status": "completed"
    },
    "tags": []
   },
   "outputs": [],
   "source": [
    "# df = pd.read_csv(\"/kaggle/input/agr-tae-dataframe/train.csv\")\n",
    "\n",
    "# filepaths = df.filepaths.copy().values\n",
    "# labels = df.labels.copy().values"
   ]
  },
  {
   "cell_type": "code",
   "execution_count": 9,
   "id": "dc0e0c44",
   "metadata": {
    "execution": {
     "iopub.execute_input": "2023-11-07T05:27:10.178405Z",
     "iopub.status.busy": "2023-11-07T05:27:10.177720Z",
     "iopub.status.idle": "2023-11-07T05:27:10.184133Z",
     "shell.execute_reply": "2023-11-07T05:27:10.183186Z"
    },
    "papermill": {
     "duration": 0.015422,
     "end_time": "2023-11-07T05:27:10.186326",
     "exception": false,
     "start_time": "2023-11-07T05:27:10.170904",
     "status": "completed"
    },
    "tags": []
   },
   "outputs": [],
   "source": [
    "# fold: int = 1\n",
    "# BLs: list = []\n",
    "# BAs: list = []\n",
    "    \n",
    "# cfg.batch_size = 64\n",
    "# cfg.epochs = 10\n",
    "    \n",
    "# for tr_idx, va_idx in StratifiedKFold(n_splits=cfg.n_splits, random_state=cfg.seed, shuffle=True).split(filepaths, labels):\n",
    "#     if fold == 5: break\n",
    "#     fold += 1\n",
    "    \n",
    "# tr_filepaths, va_filepaths = filepaths[tr_idx], filepaths[va_idx] \n",
    "# tr_labels, va_labels       = labels[tr_idx], labels[va_idx]\n",
    "\n",
    "# tr_data_setup = DS(\n",
    "#     filepaths=tr_filepaths,\n",
    "#     size=cfg.size,\n",
    "#     labels=tr_labels.reshape(-1, 1),\n",
    "#     transform=cfg.train_transform\n",
    "# )\n",
    "\n",
    "# va_data_setup = DS(\n",
    "#     filepaths=va_filepaths, \n",
    "#     size=cfg.size,\n",
    "#     labels=va_labels.reshape(-1, 1),\n",
    "#     transform=cfg.valid_transform\n",
    "# )\n",
    "\n",
    "# dataloaders = {\n",
    "#     \"train\" : DL(tr_data_setup, batch_size=cfg.batch_size, shuffle=True, generator=torch.manual_seed(cfg.seed)),\n",
    "#     \"valid\" : DL(va_data_setup, batch_size=cfg.batch_size, shuffle=False),\n",
    "# }\n",
    "\n",
    "# cfg.steps_per_epoch=len(dataloaders[\"train\"])\n",
    "\n",
    "# torch.manual_seed(cfg.seed)\n",
    "# model = Model().to(cfg.device)\n",
    "\n",
    "# optimizer = optim.Adam([p for p in model.parameters() if p.requires_grad], lr=cfg.lr, weight_decay=cfg.wd)\n",
    "# # optimizer = optim.AdamW([p for p in model.parameters() if p.requires_grad], lr=cfg.lr, weight_decay=cfg.wd)\n",
    "# # optimizer = optim.SGD([p for p in model.parameters() if p.requires_grad], lr=cfg.lr, weight_decay=cfg.wd, momentum=0.9)\n",
    "\n",
    "# scheduler_oclr = optim.lr_scheduler.OneCycleLR(\n",
    "#     optimizer=optimizer, \n",
    "#     max_lr=cfg.max_lr, \n",
    "#     epochs=cfg.epochs, \n",
    "#     steps_per_epoch=cfg.steps_per_epoch,\n",
    "#     pct_start=cfg.pct_start, \n",
    "#     div_factor=cfg.div_factor, \n",
    "#     final_div_factor=cfg.final_div_factor\n",
    "# )\n",
    "\n",
    "# # scheduler_rlrop = optim.lr_scheduler.ReduceLROnPlateau(\n",
    "# #     optimizer=optimizer,\n",
    "# #     patience=cfg.patience,\n",
    "# #     eps=cfg.eps,\n",
    "# #     verbose=True\n",
    "# # )\n",
    "\n",
    "# # scheduler_oclr = None\n",
    "# scheduler_rlrop = None\n",
    "\n",
    "\n",
    "# L, A, LR, BL, BA, _, _, _, _ = fit(\n",
    "#     model=model, \n",
    "#     optimizer=optimizer, \n",
    "#     scheduler_oclr=scheduler_oclr,\n",
    "#     scheduler_rlrop=scheduler_rlrop,\n",
    "#     epochs=cfg.epochs, \n",
    "#     early_stopping_patience=cfg.early_stopping, \n",
    "#     dataloaders=dataloaders, \n",
    "#     device=cfg.device,\n",
    "#     save_path=cfg.save_path,\n",
    "#     fold=fold,\n",
    "#     verbose=True\n",
    "# )\n",
    "\n",
    "\n",
    "# # breaker()\n",
    "# # show_loss_graphs(L)\n",
    "# # breaker()\n",
    "# # show_accuracy_graphs(A)\n",
    "# # breaker()\n",
    "# # if scheduler_oclr:\n",
    "# #     show_lr_graph(LR)\n",
    "# #     breaker()\n",
    "\n",
    "# # BLs.append(BL)\n",
    "# # BAs.append(BA)\n",
    "\n",
    "# # fold += 1"
   ]
  },
  {
   "cell_type": "markdown",
   "id": "0a42bad3",
   "metadata": {
    "papermill": {
     "duration": 0.006611,
     "end_time": "2023-11-07T05:27:10.199684",
     "exception": false,
     "start_time": "2023-11-07T05:27:10.193073",
     "status": "completed"
    },
    "tags": []
   },
   "source": [
    "### **Best Model**"
   ]
  },
  {
   "cell_type": "code",
   "execution_count": 10,
   "id": "7526d201",
   "metadata": {
    "execution": {
     "iopub.execute_input": "2023-11-07T05:27:10.214995Z",
     "iopub.status.busy": "2023-11-07T05:27:10.214377Z",
     "iopub.status.idle": "2023-11-07T05:27:10.219617Z",
     "shell.execute_reply": "2023-11-07T05:27:10.218631Z"
    },
    "papermill": {
     "duration": 0.015575,
     "end_time": "2023-11-07T05:27:10.221876",
     "exception": false,
     "start_time": "2023-11-07T05:27:10.206301",
     "status": "completed"
    },
    "tags": []
   },
   "outputs": [],
   "source": [
    "# BL = np.inf\n",
    "# for i in range(len(BLs)):\n",
    "#     if BLs[i][\"valid\"] < BL:\n",
    "#         BL = BLs[i][\"valid\"]\n",
    "#         best_loss_index = i\n",
    "\n",
    "        \n",
    "# BA = 0.0\n",
    "# for i in range(len(BAs)):\n",
    "#     if BAs[i][\"valid\"] > BA:\n",
    "#         BA = BAs[i][\"valid\"]\n",
    "#         best_accs_index = i\n",
    "\n",
    "# breaker()\n",
    "# print(f\"Best Loss Model Fold     : {best_loss_index + 1}\")\n",
    "# print(f\"Best Accuracy Model Fold : {best_accs_index + 1}\")\n",
    "# breaker()\n",
    "\n",
    "# Losses     - 0.39359  0.30762  0.22486  0.36767  0.33240\n",
    "# Accuracies - 0.88263  0.91602  0.94141  0.88750  0.89961"
   ]
  },
  {
   "cell_type": "markdown",
   "id": "198e5685",
   "metadata": {
    "papermill": {
     "duration": 0.006658,
     "end_time": "2023-11-07T05:27:10.235344",
     "exception": false,
     "start_time": "2023-11-07T05:27:10.228686",
     "status": "completed"
    },
    "tags": []
   },
   "source": [
    "### **Submission**"
   ]
  },
  {
   "cell_type": "code",
   "execution_count": 11,
   "id": "16833bf7",
   "metadata": {
    "execution": {
     "iopub.execute_input": "2023-11-07T05:27:10.250720Z",
     "iopub.status.busy": "2023-11-07T05:27:10.250334Z",
     "iopub.status.idle": "2023-11-07T05:27:31.088923Z",
     "shell.execute_reply": "2023-11-07T05:27:31.088084Z"
    },
    "papermill": {
     "duration": 20.849226,
     "end_time": "2023-11-07T05:27:31.091337",
     "exception": false,
     "start_time": "2023-11-07T05:27:10.242111",
     "status": "completed"
    },
    "tags": []
   },
   "outputs": [],
   "source": [
    "df = pd.read_csv(\"/kaggle/input/agr-tae-dataframe/test.csv\")\n",
    "labels: dict = json.load(open(\"/kaggle/input/agr-tae-dataframe/labels.json\", \"r\"))\n",
    "\n",
    "ts_filepaths = df.filepaths.copy().values\n",
    "ts_data_setup = DS(\n",
    "    filepaths=ts_filepaths,\n",
    "    size=cfg.size,\n",
    "    labels=None,\n",
    "    transform=cfg.valid_transform\n",
    ")\n",
    "ts_data = DL(ts_data_setup, batch_size=cfg.batch_size, shuffle=False)\n",
    "\n",
    "model = Model().to(cfg.device)\n",
    "\n",
    "y_pred_l = predict_batch(\n",
    "    model=model, \n",
    "    dataloader=ts_data, \n",
    "    path=\"/kaggle/input/agr-tae-en4-a224-e10-f3/saves/ble_state_fold_3.pt\", \n",
    "    device=cfg.device\n",
    ").astype(\"uint8\")\n",
    "\n",
    "\n",
    "y_pred_a = predict_batch(\n",
    "    model=model, \n",
    "    dataloader=ts_data, \n",
    "    path=\"/kaggle/input/agr-tae-en4-a224-e10-f3/saves/bae_state_fold_3.pt\", \n",
    "    device=cfg.device\n",
    ").astype(\"uint8\")\n",
    "\n",
    "y_pred = np.concatenate(\n",
    "    (\n",
    "        y_pred_l.reshape(1, -1),\n",
    "        y_pred_a.reshape(1, -1), \n",
    "    )\n",
    ")"
   ]
  },
  {
   "cell_type": "code",
   "execution_count": 12,
   "id": "045ef588",
   "metadata": {
    "execution": {
     "iopub.execute_input": "2023-11-07T05:27:31.105120Z",
     "iopub.status.busy": "2023-11-07T05:27:31.104809Z",
     "iopub.status.idle": "2023-11-07T05:27:31.136112Z",
     "shell.execute_reply": "2023-11-07T05:27:31.135339Z"
    },
    "papermill": {
     "duration": 0.040625,
     "end_time": "2023-11-07T05:27:31.138274",
     "exception": false,
     "start_time": "2023-11-07T05:27:31.097649",
     "status": "completed"
    },
    "tags": []
   },
   "outputs": [],
   "source": [
    "y_pred = stats.mode(y_pred)[0].reshape(-1).astype(\"uint8\")\n",
    "y_pred = [labels[str(pred)] for pred in y_pred]\n",
    "\n",
    "ss_df = pd.read_csv(\"/kaggle/input/anyas-gojo-revival-aerospace-enigma/sample_submission.csv\")\n",
    "ss_df.Class = y_pred\n",
    "ss_df.to_csv(\"submission.csv\", index=False)"
   ]
  }
 ],
 "metadata": {
  "kernelspec": {
   "display_name": "Python 3",
   "language": "python",
   "name": "python3"
  },
  "language_info": {
   "codemirror_mode": {
    "name": "ipython",
    "version": 3
   },
   "file_extension": ".py",
   "mimetype": "text/x-python",
   "name": "python",
   "nbconvert_exporter": "python",
   "pygments_lexer": "ipython3",
   "version": "3.10.12"
  },
  "papermill": {
   "default_parameters": {},
   "duration": 46.603358,
   "end_time": "2023-11-07T05:27:33.969098",
   "environment_variables": {},
   "exception": null,
   "input_path": "__notebook__.ipynb",
   "output_path": "__notebook__.ipynb",
   "parameters": {},
   "start_time": "2023-11-07T05:26:47.365740",
   "version": "2.4.0"
  }
 },
 "nbformat": 4,
 "nbformat_minor": 5
}
