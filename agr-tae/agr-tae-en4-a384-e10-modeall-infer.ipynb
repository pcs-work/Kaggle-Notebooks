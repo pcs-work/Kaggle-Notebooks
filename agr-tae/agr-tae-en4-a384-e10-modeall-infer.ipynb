{
 "cells": [
  {
   "cell_type": "markdown",
   "id": "d466daf9",
   "metadata": {
    "_cell_guid": "b1076dfc-b9ad-4769-8c92-a6c4dae69d19",
    "_uuid": "8f2839f25d086af736a60e9eeb907d3b93b6e0e5",
    "papermill": {
     "duration": 0.007079,
     "end_time": "2023-11-12T06:56:50.117021",
     "exception": false,
     "start_time": "2023-11-12T06:56:50.109942",
     "status": "completed"
    },
    "tags": []
   },
   "source": [
    "### **Setup**"
   ]
  },
  {
   "cell_type": "code",
   "execution_count": 1,
   "id": "c6f40b34",
   "metadata": {
    "execution": {
     "iopub.execute_input": "2023-11-12T06:56:50.131614Z",
     "iopub.status.busy": "2023-11-12T06:56:50.131258Z",
     "iopub.status.idle": "2023-11-12T06:57:01.749145Z",
     "shell.execute_reply": "2023-11-12T06:57:01.748207Z"
    },
    "papermill": {
     "duration": 11.627912,
     "end_time": "2023-11-12T06:57:01.751575",
     "exception": false,
     "start_time": "2023-11-12T06:56:50.123663",
     "status": "completed"
    },
    "tags": []
   },
   "outputs": [],
   "source": [
    "%%bash\n",
    "pip install timm -q"
   ]
  },
  {
   "cell_type": "markdown",
   "id": "f2dd38bb",
   "metadata": {
    "papermill": {
     "duration": 0.006435,
     "end_time": "2023-11-12T06:57:01.765082",
     "exception": false,
     "start_time": "2023-11-12T06:57:01.758647",
     "status": "completed"
    },
    "tags": []
   },
   "source": [
    "### **Library Imports**"
   ]
  },
  {
   "cell_type": "code",
   "execution_count": 2,
   "id": "c4b38df9",
   "metadata": {
    "execution": {
     "iopub.execute_input": "2023-11-12T06:57:01.779462Z",
     "iopub.status.busy": "2023-11-12T06:57:01.779129Z",
     "iopub.status.idle": "2023-11-12T06:57:08.416822Z",
     "shell.execute_reply": "2023-11-12T06:57:08.415733Z"
    },
    "papermill": {
     "duration": 6.647775,
     "end_time": "2023-11-12T06:57:08.419339",
     "exception": false,
     "start_time": "2023-11-12T06:57:01.771564",
     "status": "completed"
    },
    "tags": []
   },
   "outputs": [
    {
     "name": "stderr",
     "output_type": "stream",
     "text": [
      "/opt/conda/lib/python3.10/site-packages/scipy/__init__.py:146: UserWarning: A NumPy version >=1.16.5 and <1.23.0 is required for this version of SciPy (detected version 1.23.5\n",
      "  warnings.warn(f\"A NumPy version >={np_minversion} and <{np_maxversion}\"\n"
     ]
    }
   ],
   "source": [
    "import os\n",
    "import re\n",
    "import cv2\n",
    "import json\n",
    "import timm\n",
    "import torch\n",
    "import numpy as np\n",
    "import pandas as pd\n",
    "import matplotlib.pyplot as plt\n",
    "\n",
    "from time import time\n",
    "from scipy import stats\n",
    "from typing import Union\n",
    "from torch import nn, optim\n",
    "from torch.utils.data import Dataset\n",
    "from torch.utils.data import DataLoader as DL\n",
    "from torchvision import transforms\n",
    "\n",
    "from sklearn.model_selection import StratifiedKFold"
   ]
  },
  {
   "cell_type": "markdown",
   "id": "49279ab9",
   "metadata": {
    "papermill": {
     "duration": 0.006564,
     "end_time": "2023-11-12T06:57:08.432770",
     "exception": false,
     "start_time": "2023-11-12T06:57:08.426206",
     "status": "completed"
    },
    "tags": []
   },
   "source": [
    "### **Utilities and Helpers**"
   ]
  },
  {
   "cell_type": "code",
   "execution_count": 3,
   "id": "7a8a7195",
   "metadata": {
    "execution": {
     "iopub.execute_input": "2023-11-12T06:57:08.447609Z",
     "iopub.status.busy": "2023-11-12T06:57:08.447112Z",
     "iopub.status.idle": "2023-11-12T06:57:08.454723Z",
     "shell.execute_reply": "2023-11-12T06:57:08.453825Z"
    },
    "papermill": {
     "duration": 0.017217,
     "end_time": "2023-11-12T06:57:08.456536",
     "exception": false,
     "start_time": "2023-11-12T06:57:08.439319",
     "status": "completed"
    },
    "tags": []
   },
   "outputs": [],
   "source": [
    "SEED: int = 42\n",
    "SIZE: int = 384\n",
    "\n",
    "\n",
    "def breaker(num: int=50, char: str=\"*\") -> None: print(\"\\n\" + num*char + \"\\n\")\n",
    "\n",
    "    \n",
    "def get_image(path: str, size: int=224) -> np.ndarray:\n",
    "    image = cv2.imread(path, cv2.IMREAD_COLOR)\n",
    "    image = cv2.cvtColor(src=image, code=cv2.COLOR_BGR2RGB)\n",
    "    return cv2.resize(src=image, dsize=(size, size), interpolation=cv2.INTER_AREA)\n",
    "\n",
    "    \n",
    "# def show_loss_graphs(L: list) -> None:\n",
    "#     TL, VL = [], []\n",
    "#     for i in range(len(L)):\n",
    "#         TL.append(L[i][\"train\"])\n",
    "#         VL.append(L[i][\"valid\"])\n",
    "#     x_Axis = np.arange(1, len(TL) + 1)\n",
    "#     plt.figure()\n",
    "#     plt.plot(x_Axis, TL, \"r\", label=\"Train\")\n",
    "#     plt.plot(x_Axis, VL, \"b\", label=\"Valid\")\n",
    "#     plt.legend()\n",
    "#     plt.grid()\n",
    "#     plt.title(\"Loss Graph\")\n",
    "#     plt.show()\n",
    "\n",
    "    \n",
    "# def show_accuracy_graphs(A: list) -> None:\n",
    "#     TA, VA = [], []\n",
    "#     for i in range(len(A)):\n",
    "#         TA.append(A[i][\"train\"])\n",
    "#         VA.append(A[i][\"valid\"])\n",
    "#     x_Axis = np.arange(1, len(TA) + 1)\n",
    "#     plt.figure()\n",
    "#     plt.plot(x_Axis, TA, \"r\", label=\"Train\")\n",
    "#     plt.plot(x_Axis, VA, \"b\", label=\"Valid\")\n",
    "#     plt.legend()\n",
    "#     plt.grid()\n",
    "#     plt.title(\"Accuracy Graph\")\n",
    "#     plt.show()\n",
    "    \n",
    "\n",
    "# def show_lr_graph(LR: list) -> None:\n",
    "#     x_Axis = [i+1 for i in range(len(LR))]\n",
    "#     plt.figure(figsize=(8, 6))\n",
    "#     plt.plot(x_Axis, LR, \"rx\")\n",
    "#     plt.grid()\n",
    "#     plt.show()"
   ]
  },
  {
   "cell_type": "markdown",
   "id": "87525172",
   "metadata": {
    "papermill": {
     "duration": 0.006508,
     "end_time": "2023-11-12T06:57:08.469554",
     "exception": false,
     "start_time": "2023-11-12T06:57:08.463046",
     "status": "completed"
    },
    "tags": []
   },
   "source": [
    "\n",
    "\n",
    "### **Configuration**"
   ]
  },
  {
   "cell_type": "code",
   "execution_count": 4,
   "id": "873423fe",
   "metadata": {
    "execution": {
     "iopub.execute_input": "2023-11-12T06:57:08.484531Z",
     "iopub.status.busy": "2023-11-12T06:57:08.483913Z",
     "iopub.status.idle": "2023-11-12T06:57:08.561753Z",
     "shell.execute_reply": "2023-11-12T06:57:08.560947Z"
    },
    "papermill": {
     "duration": 0.087774,
     "end_time": "2023-11-12T06:57:08.563810",
     "exception": false,
     "start_time": "2023-11-12T06:57:08.476036",
     "status": "completed"
    },
    "tags": []
   },
   "outputs": [],
   "source": [
    "class CFG(object):\n",
    "    def __init__(\n",
    "        self, \n",
    "        seed: int = 42,\n",
    "        size: int = 224,\n",
    "        n_splits: int = 5,\n",
    "        batch_size: int = 16,\n",
    "        epochs: int = 25,\n",
    "        early_stopping: int = 5,\n",
    "        lr: float = 1e-4,\n",
    "        wd: float = 0.0,\n",
    "        max_lr: float = 1e-3,\n",
    "        pct_start: float = 0.2,\n",
    "        steps_per_epoch: int = 100,\n",
    "        div_factor: int = 1e3, \n",
    "        final_div_factor: float = 1e3,\n",
    "    ):\n",
    "        self.seed = seed\n",
    "        self.size = size\n",
    "        self.n_splits = n_splits\n",
    "        self.batch_size = batch_size\n",
    "        self.epochs = epochs\n",
    "        self.early_stopping = early_stopping\n",
    "        self.lr = lr\n",
    "        self.wd = wd\n",
    "        self.max_lr = max_lr\n",
    "        self.pct_start = pct_start\n",
    "        self.steps_per_epoch = steps_per_epoch\n",
    "        self.div_factor = div_factor\n",
    "        self.final_div_factor = final_div_factor\n",
    "        self.device = torch.device(\"cuda\" if torch.cuda.is_available() else \"cpu\")\n",
    "        \n",
    "        if self.size == 224:\n",
    "            self.train_transform = transforms.Compose([\n",
    "                transforms.ToTensor(),\n",
    "                transforms.Normalize(\n",
    "                    [0.55097, 0.58906, 0.62141], \n",
    "                    [0.20972, 0.20300, 0.21329]\n",
    "                ),\n",
    "                transforms.RandomAffine(\n",
    "                    degrees=(-45, 45), \n",
    "                    translate=(0.15, 0.15), \n",
    "                    scale=(0.5, 1.5)\n",
    "                ),\n",
    "                transforms.RandomHorizontalFlip(p=0.25),\n",
    "                transforms.RandomVerticalFlip(p=0.25),\n",
    "            ])\n",
    "            self.valid_transform = transforms.Compose([\n",
    "                transforms.ToTensor(),\n",
    "                transforms.Normalize(\n",
    "                    [0.55097, 0.58906, 0.62141], \n",
    "                    [0.20972, 0.20300, 0.21329]\n",
    "                ),\n",
    "            ])\n",
    "        \n",
    "        if self.size == 384:\n",
    "            self.train_transform = transforms.Compose([\n",
    "                transforms.ToTensor(),\n",
    "                transforms.Normalize(\n",
    "                    [0.55098, 0.58906, 0.62142], \n",
    "                    [0.20973, 0.20301, 0.21330]\n",
    "                ),\n",
    "                transforms.RandomAffine(\n",
    "                    degrees=(-45, 45), \n",
    "                    translate=(0.15, 0.15), \n",
    "                    scale=(0.5, 1.5)\n",
    "                ),\n",
    "                transforms.RandomHorizontalFlip(p=0.25),\n",
    "                transforms.RandomVerticalFlip(p=0.25),\n",
    "            ])\n",
    "            self.valid_transform = transforms.Compose([\n",
    "                transforms.ToTensor(),\n",
    "                transforms.Normalize(\n",
    "                    [0.55098, 0.58906, 0.62142], \n",
    "                    [0.20973, 0.20301, 0.21330]\n",
    "                ),\n",
    "            ])\n",
    "        \n",
    "        if self.size == 512:\n",
    "            self.train_transform = transforms.Compose([\n",
    "                transforms.ToTensor(),\n",
    "                transforms.Normalize(\n",
    "                    [0.55098, 0.58906, 0.62142], \n",
    "                    [0.20973, 0.20301, 0.21330]\n",
    "                ),\n",
    "                transforms.RandomAffine(\n",
    "                    degrees=(-45, 45), \n",
    "                    translate=(0.15, 0.15), \n",
    "                    scale=(0.5, 1.5)\n",
    "                ),\n",
    "                transforms.RandomHorizontalFlip(p=0.25),\n",
    "                transforms.RandomVerticalFlip(p=0.25),\n",
    "            ])\n",
    "            self.valid_transform = transforms.Compose([\n",
    "                transforms.ToTensor(),\n",
    "                transforms.Normalize(\n",
    "                    [0.55098, 0.58906, 0.62142], \n",
    "                    [0.20973, 0.20301, 0.21330]\n",
    "                ),\n",
    "            ])\n",
    "        \n",
    "        if self.size == 768:\n",
    "            self.train_transform = transforms.Compose([\n",
    "                transforms.ToTensor(),\n",
    "                transforms.Normalize(\n",
    "                    [0.55098, 0.58906, 0.62142], \n",
    "                    [0.20973, 0.20301, 0.21330]\n",
    "                ),\n",
    "                transforms.RandomAffine(\n",
    "                    degrees=(-45, 45), \n",
    "                    translate=(0.15, 0.15), \n",
    "                    scale=(0.5, 1.5)\n",
    "                ),\n",
    "                transforms.RandomHorizontalFlip(p=0.25),\n",
    "                transforms.RandomVerticalFlip(p=0.25),\n",
    "            ])\n",
    "            self.valid_transform = transforms.Compose([\n",
    "                transforms.ToTensor(),\n",
    "                transforms.Normalize(\n",
    "                    [0.55098, 0.58906, 0.62142], \n",
    "                    [0.20973, 0.20301, 0.21330]\n",
    "                ),\n",
    "            ])\n",
    "                    \n",
    "        self.save_path = \"saves\"\n",
    "        if not os.path.exists(self.save_path): os.makedirs(self.save_path)\n",
    "    \n",
    "cfg = CFG(\n",
    "    seed=SEED, \n",
    "    size=SIZE\n",
    ")"
   ]
  },
  {
   "cell_type": "markdown",
   "id": "0c7d21fe",
   "metadata": {
    "papermill": {
     "duration": 0.006359,
     "end_time": "2023-11-12T06:57:08.577059",
     "exception": false,
     "start_time": "2023-11-12T06:57:08.570700",
     "status": "completed"
    },
    "tags": []
   },
   "source": [
    "### **Dataset Template**"
   ]
  },
  {
   "cell_type": "code",
   "execution_count": 5,
   "id": "8c9a5ba5",
   "metadata": {
    "execution": {
     "iopub.execute_input": "2023-11-12T06:57:08.592040Z",
     "iopub.status.busy": "2023-11-12T06:57:08.591753Z",
     "iopub.status.idle": "2023-11-12T06:57:08.598906Z",
     "shell.execute_reply": "2023-11-12T06:57:08.598079Z"
    },
    "papermill": {
     "duration": 0.017001,
     "end_time": "2023-11-12T06:57:08.600720",
     "exception": false,
     "start_time": "2023-11-12T06:57:08.583719",
     "status": "completed"
    },
    "tags": []
   },
   "outputs": [],
   "source": [
    "class DS(Dataset):\n",
    "    def __init__(\n",
    "        self, \n",
    "        filepaths: np.ndarray,\n",
    "        size: int=224,\n",
    "        labels: Union[np.ndarray, None]=None, \n",
    "        transform=None\n",
    "    ):\n",
    "        \n",
    "        self.filepaths = filepaths\n",
    "        self.size = size\n",
    "        self.labels = labels\n",
    "        self.transform = transform\n",
    "    \n",
    "    def __len__(self):\n",
    "        return self.filepaths.shape[0]\n",
    "    \n",
    "    def __getitem__(self, idx):\n",
    "        image = get_image(self.filepaths[idx], self.size)\n",
    "        if self.labels is None:\n",
    "            return self.transform(image)\n",
    "        return self.transform(image), torch.LongTensor(self.labels[idx])"
   ]
  },
  {
   "cell_type": "markdown",
   "id": "84a8663e",
   "metadata": {
    "papermill": {
     "duration": 0.006554,
     "end_time": "2023-11-12T06:57:08.613764",
     "exception": false,
     "start_time": "2023-11-12T06:57:08.607210",
     "status": "completed"
    },
    "tags": []
   },
   "source": [
    "### **Model**"
   ]
  },
  {
   "cell_type": "code",
   "execution_count": 6,
   "id": "1ece55e9",
   "metadata": {
    "execution": {
     "iopub.execute_input": "2023-11-12T06:57:08.630226Z",
     "iopub.status.busy": "2023-11-12T06:57:08.629852Z",
     "iopub.status.idle": "2023-11-12T06:57:08.636313Z",
     "shell.execute_reply": "2023-11-12T06:57:08.635425Z"
    },
    "papermill": {
     "duration": 0.017471,
     "end_time": "2023-11-12T06:57:08.638531",
     "exception": false,
     "start_time": "2023-11-12T06:57:08.621060",
     "status": "completed"
    },
    "tags": []
   },
   "outputs": [],
   "source": [
    "class Model(nn.Module):\n",
    "    def __init__(self):\n",
    "        super(Model, self).__init__()\n",
    "            \n",
    "        self.model = timm.create_model(\n",
    "            model_name=\"efficientnet_b4\", \n",
    "            pretrained=False\n",
    "        )\n",
    "        self.model.classifier = nn.Linear(\n",
    "            in_features=self.model.classifier.in_features, \n",
    "            out_features=5\n",
    "        )\n",
    "\n",
    "    def forward(self, x):\n",
    "        return nn.LogSoftmax(dim=1)(self.model(x))"
   ]
  },
  {
   "cell_type": "markdown",
   "id": "83a53f59",
   "metadata": {
    "papermill": {
     "duration": 0.006915,
     "end_time": "2023-11-12T06:57:08.653721",
     "exception": false,
     "start_time": "2023-11-12T06:57:08.646806",
     "status": "completed"
    },
    "tags": []
   },
   "source": [
    "### **Fit and Predict**"
   ]
  },
  {
   "cell_type": "code",
   "execution_count": 7,
   "id": "2e99741e",
   "metadata": {
    "execution": {
     "iopub.execute_input": "2023-11-12T06:57:08.669210Z",
     "iopub.status.busy": "2023-11-12T06:57:08.668878Z",
     "iopub.status.idle": "2023-11-12T06:57:08.680787Z",
     "shell.execute_reply": "2023-11-12T06:57:08.679898Z"
    },
    "papermill": {
     "duration": 0.022045,
     "end_time": "2023-11-12T06:57:08.682660",
     "exception": false,
     "start_time": "2023-11-12T06:57:08.660615",
     "status": "completed"
    },
    "tags": []
   },
   "outputs": [],
   "source": [
    "# def fit(\n",
    "#     model=None,\n",
    "#     optimizer=None, \n",
    "#     scheduler_rlrop=None,\n",
    "#     scheduler_oclr=None,\n",
    "#     epochs=None, \n",
    "#     early_stopping_patience=None, \n",
    "#     dataloaders=None, \n",
    "#     fold=None, \n",
    "#     save_path=None,\n",
    "#     device=None,\n",
    "#     verbose=False\n",
    "# ) -> tuple:\n",
    "    \n",
    "#     def get_accuracy(y_pred, y_true):\n",
    "#         y_pred = torch.argmax(y_pred, dim=1)\n",
    "#         return torch.count_nonzero(y_pred == y_true).item() / len(y_pred)\n",
    "    \n",
    "    \n",
    "#     if verbose:\n",
    "#         breaker()\n",
    "#         if fold: print(f\"Training Fold {fold}...\")\n",
    "#         else: print(\"Training ...\")\n",
    "#         breaker()\n",
    "        \n",
    "#     bestLoss: dict = {\"train\" : np.inf, \"valid\" : np.inf} \n",
    "#     bestAccs: dict = {\"train\" : 0.0, \"valid\" : 0.0}\n",
    "    \n",
    "#     Losses: list = []\n",
    "#     Accuracies: list = [] \n",
    "#     LRs: list = []\n",
    "        \n",
    "#     if fold: \n",
    "#         ble_name = f\"ble_state_fold_{fold}.pt\"\n",
    "#         bae_name = f\"bae_state_fold_{fold}.pt\"\n",
    "#     else: \n",
    "#         ble_name = f\"ble_state.pt\"\n",
    "#         bae_name = f\"bae_state.pt\"\n",
    "        \n",
    "#     start_time = time()\n",
    "#     for e in range(epochs):\n",
    "#         e_st = time()\n",
    "#         epochLoss: dict = {\"train\" : 0.0, \"valid\" : 0.0} \n",
    "#         epochAccs: dict = {\"train\" : 0.0, \"valid\" : 0.0}\n",
    "\n",
    "#         for phase in [\"train\", \"valid\"]:\n",
    "#             if phase == \"train\":\n",
    "#                 model.train()\n",
    "#             else:\n",
    "#                 model.eval()\n",
    "            \n",
    "#             lossPerPass: list = []\n",
    "#             accsPerPass: list = []\n",
    "                \n",
    "#             for X, y in dataloaders[phase]:\n",
    "#                 X, y = X.to(device), y.to(device).view(-1)\n",
    "\n",
    "#                 optimizer.zero_grad()\n",
    "#                 with torch.set_grad_enabled(phase == \"train\"):\n",
    "#                     output = model(X)\n",
    "#                     loss = nn.NLLLoss()(output, y)\n",
    "#                     if phase == \"train\":\n",
    "#                         loss.backward()\n",
    "#                         optimizer.step()\n",
    "#                         if scheduler_oclr: scheduler_oclr.step()\n",
    "#                 lossPerPass.append(loss.item())\n",
    "#                 accsPerPass.append(get_accuracy(output, y))\n",
    "#             epochLoss[phase] = np.mean(np.array(lossPerPass))\n",
    "#             epochAccs[phase] = np.mean(np.array(accsPerPass))\n",
    "#         if scheduler_oclr: LRs.append(scheduler_oclr.get_last_lr())\n",
    "#         Losses.append(epochLoss)\n",
    "#         Accuracies.append(epochAccs)\n",
    "        \n",
    "#         if scheduler_oclr:\n",
    "#             save_dict = {\"model_state_dict\"     : model.state_dict(),\n",
    "#                          \"optim_state_dict\"     : optimizer.state_dict(),\n",
    "#                          \"scheduler_state_dict\" : scheduler_oclr.state_dict()}\n",
    "        \n",
    "#         elif scheduler_rlrop:\n",
    "#             save_dict = {\"model_state_dict\"     : model.state_dict(),\n",
    "#                          \"optim_state_dict\"     : optimizer.state_dict(),\n",
    "#                          \"scheduler_state_dict\" : scheduler_rlrop.state_dict()}\n",
    "        \n",
    "#         else:\n",
    "#             save_dict = {\"model_state_dict\"     : model.state_dict(),\n",
    "#                          \"optim_state_dict\"     : optimizer.state_dict()}\n",
    "        \n",
    "#         if early_stopping_patience:\n",
    "#             if epochLoss[\"valid\"] < bestLoss[\"valid\"]:\n",
    "#                 bestLoss = epochLoss\n",
    "#                 BLE = e + 1\n",
    "#                 torch.save(save_dict, os.path.join(save_path, ble_name))\n",
    "#                 torch.save(save_dict, os.path.join(save_path, bae_name))\n",
    "#                 early_stopping_step = 0\n",
    "#             else:\n",
    "#                 early_stopping_step += 1\n",
    "#                 if early_stopping_step > early_stopping_patience:\n",
    "#                     print(\"\\nEarly Stopping at Epoch {}\".format(e + 1))\n",
    "#                     break\n",
    "        \n",
    "#         if epochLoss[\"valid\"] < bestLoss[\"valid\"]:\n",
    "#             bestLoss = epochLoss\n",
    "#             BLE = e + 1\n",
    "#             torch.save(save_dict,os.path.join(save_path, ble_name))\n",
    "        \n",
    "#         if epochAccs[\"valid\"] > bestAccs[\"valid\"]:\n",
    "#             bestAccs = epochAccs\n",
    "#             BAE = e + 1\n",
    "#             torch.save(save_dict,os.path.join(save_path, bae_name))\n",
    "        \n",
    "#         if scheduler_rlrop: scheduler_rlrop.step(epochLoss[\"valid\"])\n",
    "        \n",
    "#         if verbose:\n",
    "#             print(\"Epoch: {} | Train Loss: {:.5f} | Valid Loss: {:.5f} |\\\n",
    "#  Train Accs: {:.5f} | Valid Accs: {:.5f} | Time: {:.2f} seconds\".format(e+1, \n",
    "#                                                                         epochLoss[\"train\"], epochLoss[\"valid\"], \n",
    "#                                                                         epochAccs[\"train\"], epochAccs[\"valid\"], \n",
    "#                                                                         time()-e_st))\n",
    "\n",
    "#     if verbose:                                           \n",
    "#         breaker()\n",
    "#         print(f\"Best Validation Loss at Epoch {BLE}\")\n",
    "#         breaker()\n",
    "#         print(f\"Best Validation Accs at Epoch {BAE}\")\n",
    "#         breaker()\n",
    "#         print(\"Time Taken [{} Epochs] : {:.2f} minutes\".format(len(Losses), (time()-start_time)/60))\n",
    "    \n",
    "#     return Losses, Accuracies, LRs, bestLoss, bestAccs, BLE, BAE, ble_name, bae_name\n",
    "\n",
    "\n",
    "def predict_batch(model=None, dataloader=None, path=None, device=None) -> np.ndarray:\n",
    "    model.load_state_dict(torch.load(path, map_location=device)[\"model_state_dict\"])\n",
    "    model.to(device)    \n",
    "    model.eval()\n",
    "    \n",
    "    y_pred = torch.zeros(1, 1).to(device)\n",
    "    \n",
    "    for X in dataloader:\n",
    "        X = X.to(device)\n",
    "        with torch.no_grad():\n",
    "            output = torch.argmax(torch.exp(model(X)), dim=1)\n",
    "        y_pred = torch.cat((y_pred, output.view(-1, 1)), dim=0)\n",
    "    \n",
    "    return y_pred[1:].detach().cpu().numpy()"
   ]
  },
  {
   "cell_type": "markdown",
   "id": "2e1407bd",
   "metadata": {
    "papermill": {
     "duration": 0.006788,
     "end_time": "2023-11-12T06:57:08.696208",
     "exception": false,
     "start_time": "2023-11-12T06:57:08.689420",
     "status": "completed"
    },
    "tags": []
   },
   "source": [
    "### **Train**"
   ]
  },
  {
   "cell_type": "code",
   "execution_count": 8,
   "id": "f30730b3",
   "metadata": {
    "execution": {
     "iopub.execute_input": "2023-11-12T06:57:08.711437Z",
     "iopub.status.busy": "2023-11-12T06:57:08.710719Z",
     "iopub.status.idle": "2023-11-12T06:57:08.714751Z",
     "shell.execute_reply": "2023-11-12T06:57:08.713882Z"
    },
    "papermill": {
     "duration": 0.013479,
     "end_time": "2023-11-12T06:57:08.716651",
     "exception": false,
     "start_time": "2023-11-12T06:57:08.703172",
     "status": "completed"
    },
    "tags": []
   },
   "outputs": [],
   "source": [
    "# df = pd.read_csv(\"/kaggle/input/agr-tae-dataframe/train.csv\")\n",
    "\n",
    "# filepaths = df.filepaths.copy().values\n",
    "# labels = df.labels.copy().values"
   ]
  },
  {
   "cell_type": "code",
   "execution_count": 9,
   "id": "a326fd67",
   "metadata": {
    "execution": {
     "iopub.execute_input": "2023-11-12T06:57:08.731365Z",
     "iopub.status.busy": "2023-11-12T06:57:08.731097Z",
     "iopub.status.idle": "2023-11-12T06:57:08.737511Z",
     "shell.execute_reply": "2023-11-12T06:57:08.736619Z"
    },
    "papermill": {
     "duration": 0.016123,
     "end_time": "2023-11-12T06:57:08.739528",
     "exception": false,
     "start_time": "2023-11-12T06:57:08.723405",
     "status": "completed"
    },
    "tags": []
   },
   "outputs": [],
   "source": [
    "# fold: int = 1\n",
    "# BLs: list = []\n",
    "# BAs: list = []\n",
    "    \n",
    "# cfg.batch_size = 64\n",
    "# cfg.epochs = 10\n",
    "    \n",
    "# for tr_idx, va_idx in StratifiedKFold(n_splits=cfg.n_splits, random_state=cfg.seed, shuffle=True).split(filepaths, labels):\n",
    "#     if fold == 5: break\n",
    "#     fold += 1\n",
    "    \n",
    "# tr_filepaths, va_filepaths = filepaths[tr_idx], filepaths[va_idx] \n",
    "# tr_labels, va_labels       = labels[tr_idx], labels[va_idx]\n",
    "\n",
    "# tr_data_setup = DS(\n",
    "#     filepaths=tr_filepaths,\n",
    "#     size=cfg.size,\n",
    "#     labels=tr_labels.reshape(-1, 1),\n",
    "#     transform=cfg.train_transform\n",
    "# )\n",
    "\n",
    "# va_data_setup = DS(\n",
    "#     filepaths=va_filepaths, \n",
    "#     size=cfg.size,\n",
    "#     labels=va_labels.reshape(-1, 1),\n",
    "#     transform=cfg.valid_transform\n",
    "# )\n",
    "\n",
    "# dataloaders = {\n",
    "#     \"train\" : DL(tr_data_setup, batch_size=cfg.batch_size, shuffle=True, generator=torch.manual_seed(cfg.seed)),\n",
    "#     \"valid\" : DL(va_data_setup, batch_size=cfg.batch_size, shuffle=False),\n",
    "# }\n",
    "\n",
    "# cfg.steps_per_epoch=len(dataloaders[\"train\"])\n",
    "\n",
    "# torch.manual_seed(cfg.seed)\n",
    "# model = Model().to(cfg.device)\n",
    "\n",
    "# optimizer = optim.Adam([p for p in model.parameters() if p.requires_grad], lr=cfg.lr, weight_decay=cfg.wd)\n",
    "# # optimizer = optim.AdamW([p for p in model.parameters() if p.requires_grad], lr=cfg.lr, weight_decay=cfg.wd)\n",
    "# # optimizer = optim.SGD([p for p in model.parameters() if p.requires_grad], lr=cfg.lr, weight_decay=cfg.wd, momentum=0.9)\n",
    "\n",
    "# scheduler_oclr = optim.lr_scheduler.OneCycleLR(\n",
    "#     optimizer=optimizer, \n",
    "#     max_lr=cfg.max_lr, \n",
    "#     epochs=cfg.epochs, \n",
    "#     steps_per_epoch=cfg.steps_per_epoch,\n",
    "#     pct_start=cfg.pct_start, \n",
    "#     div_factor=cfg.div_factor, \n",
    "#     final_div_factor=cfg.final_div_factor\n",
    "# )\n",
    "\n",
    "# # scheduler_rlrop = optim.lr_scheduler.ReduceLROnPlateau(\n",
    "# #     optimizer=optimizer,\n",
    "# #     patience=cfg.patience,\n",
    "# #     eps=cfg.eps,\n",
    "# #     verbose=True\n",
    "# # )\n",
    "\n",
    "# # scheduler_oclr = None\n",
    "# scheduler_rlrop = None\n",
    "\n",
    "\n",
    "# L, A, LR, BL, BA, _, _, _, _ = fit(\n",
    "#     model=model, \n",
    "#     optimizer=optimizer, \n",
    "#     scheduler_oclr=scheduler_oclr,\n",
    "#     scheduler_rlrop=scheduler_rlrop,\n",
    "#     epochs=cfg.epochs, \n",
    "#     early_stopping_patience=cfg.early_stopping, \n",
    "#     dataloaders=dataloaders, \n",
    "#     device=cfg.device,\n",
    "#     save_path=cfg.save_path,\n",
    "#     fold=fold,\n",
    "#     verbose=True\n",
    "# )\n",
    "\n",
    "\n",
    "# # breaker()\n",
    "# # show_loss_graphs(L)\n",
    "# # breaker()\n",
    "# # show_accuracy_graphs(A)\n",
    "# # breaker()\n",
    "# # if scheduler_oclr:\n",
    "# #     show_lr_graph(LR)\n",
    "# #     breaker()\n",
    "\n",
    "# # BLs.append(BL)\n",
    "# # BAs.append(BA)\n",
    "\n",
    "# # fold += 1"
   ]
  },
  {
   "cell_type": "markdown",
   "id": "3c2a3abf",
   "metadata": {
    "papermill": {
     "duration": 0.006376,
     "end_time": "2023-11-12T06:57:08.752369",
     "exception": false,
     "start_time": "2023-11-12T06:57:08.745993",
     "status": "completed"
    },
    "tags": []
   },
   "source": [
    "### **Best Model**"
   ]
  },
  {
   "cell_type": "code",
   "execution_count": 10,
   "id": "259bfb30",
   "metadata": {
    "execution": {
     "iopub.execute_input": "2023-11-12T06:57:08.766968Z",
     "iopub.status.busy": "2023-11-12T06:57:08.766650Z",
     "iopub.status.idle": "2023-11-12T06:57:08.770937Z",
     "shell.execute_reply": "2023-11-12T06:57:08.770093Z"
    },
    "papermill": {
     "duration": 0.013985,
     "end_time": "2023-11-12T06:57:08.772891",
     "exception": false,
     "start_time": "2023-11-12T06:57:08.758906",
     "status": "completed"
    },
    "tags": []
   },
   "outputs": [],
   "source": [
    "# BL = np.inf\n",
    "# for i in range(len(BLs)):\n",
    "#     if BLs[i][\"valid\"] < BL:\n",
    "#         BL = BLs[i][\"valid\"]\n",
    "#         best_loss_index = i\n",
    "\n",
    "        \n",
    "# BA = 0.0\n",
    "# for i in range(len(BAs)):\n",
    "#     if BAs[i][\"valid\"] > BA:\n",
    "#         BA = BAs[i][\"valid\"]\n",
    "#         best_accs_index = i\n",
    "\n",
    "# breaker()\n",
    "# print(f\"Best Loss Model Fold     : {best_loss_index + 1}\")\n",
    "# print(f\"Best Accuracy Model Fold : {best_accs_index + 1}\")\n",
    "# breaker()\n",
    "\n",
    "# Losses     - 0.39359  0.30762  0.22486  0.36767  0.33240\n",
    "# Accuracies - 0.88263  0.91602  0.94141  0.88750  0.89961"
   ]
  },
  {
   "cell_type": "markdown",
   "id": "d3fa1f41",
   "metadata": {
    "papermill": {
     "duration": 0.006278,
     "end_time": "2023-11-12T06:57:08.786070",
     "exception": false,
     "start_time": "2023-11-12T06:57:08.779792",
     "status": "completed"
    },
    "tags": []
   },
   "source": [
    "### **Submission**"
   ]
  },
  {
   "cell_type": "code",
   "execution_count": 11,
   "id": "ee95b6c4",
   "metadata": {
    "execution": {
     "iopub.execute_input": "2023-11-12T06:57:08.800522Z",
     "iopub.status.busy": "2023-11-12T06:57:08.800008Z",
     "iopub.status.idle": "2023-11-12T06:57:11.949215Z",
     "shell.execute_reply": "2023-11-12T06:57:11.948437Z"
    },
    "papermill": {
     "duration": 3.159264,
     "end_time": "2023-11-12T06:57:11.951830",
     "exception": false,
     "start_time": "2023-11-12T06:57:08.792566",
     "status": "completed"
    },
    "tags": []
   },
   "outputs": [],
   "source": [
    "df = pd.read_csv(\"/kaggle/input/agr-tae-dataframe/test.csv\")\n",
    "labels: dict = json.load(open(\"/kaggle/input/agr-tae-dataframe/labels.json\", \"r\"))\n",
    "\n",
    "ts_filepaths = df.filepaths.copy().values\n",
    "ts_data_setup = DS(\n",
    "    filepaths=ts_filepaths,\n",
    "    size=cfg.size,\n",
    "    labels=None,\n",
    "    transform=cfg.valid_transform\n",
    ")\n",
    "ts_data = DL(ts_data_setup, batch_size=cfg.batch_size, shuffle=False)\n",
    "\n",
    "model = Model().to(cfg.device)"
   ]
  },
  {
   "cell_type": "code",
   "execution_count": 12,
   "id": "44cb55bc",
   "metadata": {
    "execution": {
     "iopub.execute_input": "2023-11-12T06:57:11.967274Z",
     "iopub.status.busy": "2023-11-12T06:57:11.966986Z",
     "iopub.status.idle": "2023-11-12T06:57:43.109704Z",
     "shell.execute_reply": "2023-11-12T06:57:43.108877Z"
    },
    "papermill": {
     "duration": 31.152738,
     "end_time": "2023-11-12T06:57:43.111990",
     "exception": false,
     "start_time": "2023-11-12T06:57:11.959252",
     "status": "completed"
    },
    "tags": []
   },
   "outputs": [],
   "source": [
    "y_pred_l_1 = predict_batch(\n",
    "    model=model, \n",
    "    dataloader=ts_data, \n",
    "    path=\"/kaggle/input/agr-tae-en4-a384-e10-f1/saves/ble_state_fold_1.pt\", \n",
    "    device=cfg.device\n",
    ").astype(\"uint8\")\n",
    "\n",
    "\n",
    "y_pred_l_2 = predict_batch(\n",
    "    model=model, \n",
    "    dataloader=ts_data, \n",
    "    path=\"/kaggle/input/agr-tae-en4-a384-e10-f2/saves/ble_state_fold_2.pt\", \n",
    "    device=cfg.device\n",
    ").astype(\"uint8\")\n",
    "\n",
    "\n",
    "y_pred_l_3 = predict_batch(\n",
    "    model=model, \n",
    "    dataloader=ts_data, \n",
    "    path=\"/kaggle/input/agr-tae-en4-a384-e10-f3/saves/ble_state_fold_3.pt\", \n",
    "    device=cfg.device\n",
    ").astype(\"uint8\")\n",
    "\n",
    "\n",
    "y_pred_l_4 = predict_batch(\n",
    "    model=model, \n",
    "    dataloader=ts_data, \n",
    "    path=\"/kaggle/input/agr-tae-en4-a384-e10-f4/saves/ble_state_fold_4.pt\", \n",
    "    device=cfg.device\n",
    ").astype(\"uint8\")\n",
    "\n",
    "\n",
    "y_pred_l_5 = predict_batch(\n",
    "    model=model, \n",
    "    dataloader=ts_data, \n",
    "    path=\"/kaggle/input/agr-tae-en4-a384-e10-f5/saves/ble_state_fold_5.pt\", \n",
    "    device=cfg.device\n",
    ").astype(\"uint8\")"
   ]
  },
  {
   "cell_type": "code",
   "execution_count": 13,
   "id": "a9721919",
   "metadata": {
    "execution": {
     "iopub.execute_input": "2023-11-12T06:57:43.126881Z",
     "iopub.status.busy": "2023-11-12T06:57:43.126590Z",
     "iopub.status.idle": "2023-11-12T06:58:08.452006Z",
     "shell.execute_reply": "2023-11-12T06:58:08.451168Z"
    },
    "papermill": {
     "duration": 25.335688,
     "end_time": "2023-11-12T06:58:08.454691",
     "exception": false,
     "start_time": "2023-11-12T06:57:43.119003",
     "status": "completed"
    },
    "tags": []
   },
   "outputs": [],
   "source": [
    "y_pred_a_1 = predict_batch(\n",
    "    model=model, \n",
    "    dataloader=ts_data, \n",
    "    path=\"/kaggle/input/agr-tae-en4-a384-e10-f1/saves/bae_state_fold_1.pt\", \n",
    "    device=cfg.device\n",
    ").astype(\"uint8\")\n",
    "\n",
    "\n",
    "y_pred_a_2 = predict_batch(\n",
    "    model=model, \n",
    "    dataloader=ts_data, \n",
    "    path=\"/kaggle/input/agr-tae-en4-a384-e10-f2/saves/bae_state_fold_2.pt\", \n",
    "    device=cfg.device\n",
    ").astype(\"uint8\")\n",
    "\n",
    "\n",
    "y_pred_a_3 = predict_batch(\n",
    "    model=model, \n",
    "    dataloader=ts_data, \n",
    "    path=\"/kaggle/input/agr-tae-en4-a384-e10-f3/saves/bae_state_fold_3.pt\", \n",
    "    device=cfg.device\n",
    ").astype(\"uint8\")\n",
    "\n",
    "\n",
    "y_pred_a_4 = predict_batch(\n",
    "    model=model, \n",
    "    dataloader=ts_data, \n",
    "    path=\"/kaggle/input/agr-tae-en4-a384-e10-f4/saves/bae_state_fold_4.pt\", \n",
    "    device=cfg.device\n",
    ").astype(\"uint8\")\n",
    "\n",
    "\n",
    "y_pred_a_5 = predict_batch(\n",
    "    model=model, \n",
    "    dataloader=ts_data, \n",
    "    path=\"/kaggle/input/agr-tae-en4-a384-e10-f5/saves/bae_state_fold_5.pt\", \n",
    "    device=cfg.device\n",
    ").astype(\"uint8\")"
   ]
  },
  {
   "cell_type": "code",
   "execution_count": 14,
   "id": "71aa946d",
   "metadata": {
    "execution": {
     "iopub.execute_input": "2023-11-12T06:58:08.470781Z",
     "iopub.status.busy": "2023-11-12T06:58:08.470083Z",
     "iopub.status.idle": "2023-11-12T06:58:08.505704Z",
     "shell.execute_reply": "2023-11-12T06:58:08.504923Z"
    },
    "papermill": {
     "duration": 0.045502,
     "end_time": "2023-11-12T06:58:08.507776",
     "exception": false,
     "start_time": "2023-11-12T06:58:08.462274",
     "status": "completed"
    },
    "tags": []
   },
   "outputs": [],
   "source": [
    "y_pred = np.concatenate(\n",
    "    (\n",
    "        y_pred_l_1.reshape(1, -1),\n",
    "        y_pred_l_2.reshape(1, -1),\n",
    "        y_pred_l_3.reshape(1, -1),\n",
    "        y_pred_l_4.reshape(1, -1),\n",
    "        y_pred_l_5.reshape(1, -1),\n",
    "        y_pred_a_1.reshape(1, -1),\n",
    "        y_pred_a_2.reshape(1, -1), \n",
    "        y_pred_a_3.reshape(1, -1), \n",
    "        y_pred_a_4.reshape(1, -1), \n",
    "        y_pred_a_5.reshape(1, -1),     \n",
    "    )\n",
    ")\n",
    "\n",
    "y_pred = stats.mode(y_pred)[0].reshape(-1).astype(\"uint8\")\n",
    "y_pred = [labels[str(pred)].lower() for pred in y_pred]\n",
    "\n",
    "ss_df = pd.read_csv(\"/kaggle/input/anyas-gojo-revival-aerospace-enigma/sample_submission.csv\")\n",
    "ss_df.Class = y_pred\n",
    "ss_df.to_csv(\"submission.csv\", index=False)"
   ]
  }
 ],
 "metadata": {
  "kaggle": {
   "accelerator": "gpu",
   "dataSources": [
    {
     "databundleVersionId": 6880857,
     "sourceId": 63134,
     "sourceType": "competition"
    },
    {
     "sourceId": 149646723,
     "sourceType": "kernelVersion"
    },
    {
     "sourceId": 150008329,
     "sourceType": "kernelVersion"
    },
    {
     "sourceId": 150008318,
     "sourceType": "kernelVersion"
    },
    {
     "sourceId": 150004524,
     "sourceType": "kernelVersion"
    },
    {
     "sourceId": 150004507,
     "sourceType": "kernelVersion"
    },
    {
     "sourceId": 149995863,
     "sourceType": "kernelVersion"
    }
   ],
   "dockerImageVersionId": 30559,
   "isGpuEnabled": true,
   "isInternetEnabled": true,
   "language": "python",
   "sourceType": "notebook"
  },
  "kernelspec": {
   "display_name": "Python 3",
   "language": "python",
   "name": "python3"
  },
  "language_info": {
   "codemirror_mode": {
    "name": "ipython",
    "version": 3
   },
   "file_extension": ".py",
   "mimetype": "text/x-python",
   "name": "python",
   "nbconvert_exporter": "python",
   "pygments_lexer": "ipython3",
   "version": "3.10.12"
  },
  "papermill": {
   "default_parameters": {},
   "duration": 84.564332,
   "end_time": "2023-11-12T06:58:11.241660",
   "environment_variables": {},
   "exception": null,
   "input_path": "__notebook__.ipynb",
   "output_path": "__notebook__.ipynb",
   "parameters": {},
   "start_time": "2023-11-12T06:56:46.677328",
   "version": "2.4.0"
  }
 },
 "nbformat": 4,
 "nbformat_minor": 5
}
