{
 "cells": [
  {
   "cell_type": "code",
   "execution_count": 1,
   "id": "e91adb32",
   "metadata": {
    "_cell_guid": "b1076dfc-b9ad-4769-8c92-a6c4dae69d19",
    "_uuid": "8f2839f25d086af736a60e9eeb907d3b93b6e0e5",
    "execution": {
     "iopub.execute_input": "2023-06-15T11:55:50.319362Z",
     "iopub.status.busy": "2023-06-15T11:55:50.318378Z",
     "iopub.status.idle": "2023-06-15T11:55:50.515554Z",
     "shell.execute_reply": "2023-06-15T11:55:50.513606Z"
    },
    "papermill": {
     "duration": 0.203293,
     "end_time": "2023-06-15T11:55:50.518236",
     "exception": false,
     "start_time": "2023-06-15T11:55:50.314943",
     "status": "completed"
    },
    "tags": []
   },
   "outputs": [],
   "source": [
    "import os\n",
    "import cv2\n",
    "import json\n",
    "import numpy as np\n",
    "import pandas as pd\n",
    "\n",
    "BASE_PATH: str = \"/kaggle/input/aii2023-conference-competition\""
   ]
  },
  {
   "cell_type": "code",
   "execution_count": 2,
   "id": "ce00fc8b",
   "metadata": {
    "execution": {
     "iopub.execute_input": "2023-06-15T11:55:50.523251Z",
     "iopub.status.busy": "2023-06-15T11:55:50.522921Z",
     "iopub.status.idle": "2023-06-15T11:55:50.754318Z",
     "shell.execute_reply": "2023-06-15T11:55:50.753005Z"
    },
    "papermill": {
     "duration": 0.236952,
     "end_time": "2023-06-15T11:55:50.756979",
     "exception": false,
     "start_time": "2023-06-15T11:55:50.520027",
     "status": "completed"
    },
    "tags": []
   },
   "outputs": [],
   "source": [
    "tr_df: pd.DataFrame = pd.read_csv(\"/kaggle/input/aii2023-conference-competition/train.csv\")\n",
    "ts_df: pd.DataFrame = pd.read_csv(\"/kaggle/input/aii2023-conference-competition/test.csv\")    \n",
    "\n",
    "filepaths: list = []\n",
    "for filename in tr_df.ID:\n",
    "    filepaths.append(os.path.join(BASE_PATH + \"/Train-Kaggle/Train-Kaggle\", filename))\n",
    "tr_df[\"filepaths\"] = filepaths\n",
    "\n",
    "filepaths: list = []\n",
    "for filename in ts_df.ID:\n",
    "    filepaths.append(os.path.join(BASE_PATH + \"/Test-Kaggle/Test-Kaggle\", filename))\n",
    "ts_df[\"filepaths\"] = filepaths"
   ]
  }
 ],
 "metadata": {
  "kernelspec": {
   "display_name": "Python 3",
   "language": "python",
   "name": "python3"
  },
  "language_info": {
   "codemirror_mode": {
    "name": "ipython",
    "version": 3
   },
   "file_extension": ".py",
   "mimetype": "text/x-python",
   "name": "python",
   "nbconvert_exporter": "python",
   "pygments_lexer": "ipython3",
   "version": "3.10.10"
  },
  "papermill": {
   "default_parameters": {},
   "duration": 11.194841,
   "end_time": "2023-06-15T11:55:51.680940",
   "environment_variables": {},
   "exception": null,
   "input_path": "__notebook__.ipynb",
   "output_path": "__notebook__.ipynb",
   "parameters": {},
   "start_time": "2023-06-15T11:55:40.486099",
   "version": "2.4.0"
  }
 },
 "nbformat": 4,
 "nbformat_minor": 5
}
