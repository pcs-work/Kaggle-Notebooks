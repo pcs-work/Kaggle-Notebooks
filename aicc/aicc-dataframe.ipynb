{
 "cells": [
  {
   "cell_type": "code",
   "execution_count": 1,
   "id": "b346b332",
   "metadata": {
    "_cell_guid": "b1076dfc-b9ad-4769-8c92-a6c4dae69d19",
    "_uuid": "8f2839f25d086af736a60e9eeb907d3b93b6e0e5",
    "execution": {
     "iopub.execute_input": "2023-06-15T12:49:03.564795Z",
     "iopub.status.busy": "2023-06-15T12:49:03.563441Z",
     "iopub.status.idle": "2023-06-15T12:49:03.771853Z",
     "shell.execute_reply": "2023-06-15T12:49:03.770864Z"
    },
    "papermill": {
     "duration": 0.215603,
     "end_time": "2023-06-15T12:49:03.775180",
     "exception": false,
     "start_time": "2023-06-15T12:49:03.559577",
     "status": "completed"
    },
    "tags": []
   },
   "outputs": [],
   "source": [
    "import os\n",
    "import cv2\n",
    "import json\n",
    "import numpy as np\n",
    "import pandas as pd\n",
    "\n",
    "BASE_PATH: str = \"/kaggle/input/aii2023-conference-competition\""
   ]
  },
  {
   "cell_type": "code",
   "execution_count": 2,
   "id": "87aa3fa7",
   "metadata": {
    "execution": {
     "iopub.execute_input": "2023-06-15T12:49:03.780330Z",
     "iopub.status.busy": "2023-06-15T12:49:03.779973Z",
     "iopub.status.idle": "2023-06-15T12:49:04.364643Z",
     "shell.execute_reply": "2023-06-15T12:49:04.362996Z"
    },
    "papermill": {
     "duration": 0.590732,
     "end_time": "2023-06-15T12:49:04.367848",
     "exception": false,
     "start_time": "2023-06-15T12:49:03.777116",
     "status": "completed"
    },
    "tags": []
   },
   "outputs": [],
   "source": [
    "tr_df: pd.DataFrame = pd.read_csv(\"/kaggle/input/aii2023-conference-competition/train.csv\")\n",
    "ts_df: pd.DataFrame = pd.read_csv(\"/kaggle/input/aii2023-conference-competition/test.csv\")    \n",
    "\n",
    "filepaths: list = []\n",
    "for filename in tr_df.ID:\n",
    "    filepaths.append(os.path.join(BASE_PATH + \"/Train-Kaggle/Train-Kaggle\", filename))\n",
    "tr_df[\"filepaths\"] = filepaths\n",
    "\n",
    "filepaths: list = []\n",
    "for filename in ts_df.ID:\n",
    "    filepaths.append(os.path.join(BASE_PATH + \"/Test-Kaggle/Test-Kaggle\", filename))\n",
    "ts_df[\"filepaths\"] = filepaths\n",
    "\n",
    "tr_df.to_csv(\"train.csv\", index=False)\n",
    "ts_df.to_csv(\"test.csv\", index=False)"
   ]
  }
 ],
 "metadata": {
  "kernelspec": {
   "display_name": "Python 3",
   "language": "python",
   "name": "python3"
  },
  "language_info": {
   "codemirror_mode": {
    "name": "ipython",
    "version": 3
   },
   "file_extension": ".py",
   "mimetype": "text/x-python",
   "name": "python",
   "nbconvert_exporter": "python",
   "pygments_lexer": "ipython3",
   "version": "3.10.10"
  },
  "papermill": {
   "default_parameters": {},
   "duration": 12.576789,
   "end_time": "2023-06-15T12:49:05.295559",
   "environment_variables": {},
   "exception": null,
   "input_path": "__notebook__.ipynb",
   "output_path": "__notebook__.ipynb",
   "parameters": {},
   "start_time": "2023-06-15T12:48:52.718770",
   "version": "2.4.0"
  }
 },
 "nbformat": 4,
 "nbformat_minor": 5
}
