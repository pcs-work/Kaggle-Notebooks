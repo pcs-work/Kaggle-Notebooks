{
 "cells": [
  {
   "cell_type": "code",
   "execution_count": 1,
   "id": "a0fc34d4",
   "metadata": {
    "_cell_guid": "b1076dfc-b9ad-4769-8c92-a6c4dae69d19",
    "_uuid": "8f2839f25d086af736a60e9eeb907d3b93b6e0e5",
    "execution": {
     "iopub.execute_input": "2023-03-12T08:49:28.338603Z",
     "iopub.status.busy": "2023-03-12T08:49:28.338185Z",
     "iopub.status.idle": "2023-03-12T08:49:28.572659Z",
     "shell.execute_reply": "2023-03-12T08:49:28.571331Z"
    },
    "papermill": {
     "duration": 0.242901,
     "end_time": "2023-03-12T08:49:28.575856",
     "exception": false,
     "start_time": "2023-03-12T08:49:28.332955",
     "status": "completed"
    },
    "tags": []
   },
   "outputs": [],
   "source": [
    "import os, cv2\n",
    "import numpy as np\n",
    "import pandas as pd\n",
    "\n",
    "BASE_PATH: str = \"/kaggle/input/birdies\""
   ]
  },
  {
   "cell_type": "code",
   "execution_count": 2,
   "id": "1c293e4e",
   "metadata": {
    "execution": {
     "iopub.execute_input": "2023-03-12T08:49:28.583277Z",
     "iopub.status.busy": "2023-03-12T08:49:28.582643Z",
     "iopub.status.idle": "2023-03-12T08:49:28.597861Z",
     "shell.execute_reply": "2023-03-12T08:49:28.596645Z"
    },
    "papermill": {
     "duration": 0.021959,
     "end_time": "2023-03-12T08:49:28.600730",
     "exception": false,
     "start_time": "2023-03-12T08:49:28.578771",
     "status": "completed"
    },
    "tags": []
   },
   "outputs": [],
   "source": [
    "tr_df: pd.DataFrame = pd.DataFrame(data=None, columns=[\"filepaths\", \"x\", \"y\", \"w\", \"h\"])     \n",
    "ts_df: pd.DataFrame = pd.DataFrame(data=None, columns=[\"filepaths\"]) "
   ]
  },
  {
   "cell_type": "code",
   "execution_count": 3,
   "id": "956c74d1",
   "metadata": {
    "execution": {
     "iopub.execute_input": "2023-03-12T08:49:28.607004Z",
     "iopub.status.busy": "2023-03-12T08:49:28.606589Z",
     "iopub.status.idle": "2023-03-12T08:50:48.042479Z",
     "shell.execute_reply": "2023-03-12T08:50:48.040804Z"
    },
    "papermill": {
     "duration": 79.442555,
     "end_time": "2023-03-12T08:50:48.045572",
     "exception": false,
     "start_time": "2023-03-12T08:49:28.603017",
     "status": "completed"
    },
    "tags": []
   },
   "outputs": [],
   "source": [
    "filepaths: list = []\n",
    "labels: list = []\n",
    "\n",
    "i: int = 0\n",
    "for filename in sorted(os.listdir(f\"{BASE_PATH}/images\")):\n",
    "    filepaths.append(os.path.join(f\"{BASE_PATH}/images\", filename))\n",
    "    labels.append(i)\n",
    "    i += 1\n",
    "\n",
    "x_s: list = []\n",
    "y_s: list = []\n",
    "w_s: list = []\n",
    "h_s: list = []\n",
    "    \n",
    "for filename in sorted(os.listdir(f\"{BASE_PATH}/labels\")):    \n",
    "    image = cv2.imread(f\"{BASE_PATH}/images/{filename[:-4]}.jpg\")\n",
    "    with open(f\"{BASE_PATH}/labels/{filename}\", \"r\") as fp:\n",
    "        data = fp.read()\n",
    "    box = data.split(\" \")[1:5]\n",
    "    if \"\\n0\" in box[-1]: \n",
    "        box[-1] = box[-1][:-3]\n",
    "    \n",
    "#     cx = int(float(box[0]) * image.shape[1])\n",
    "#     cy = int(float(box[1]) * image.shape[0])\n",
    "#     w  = int(float(box[2]) * image.shape[1])\n",
    "#     h  = int(float(box[3]) * image.shape[0])\n",
    "\n",
    "#     x_min = cx - w//2\n",
    "#     y_min = cy - h//2\n",
    "#     x_max = cx + w//2\n",
    "#     y_max = cy + h//2\n",
    "    \n",
    "    x_s.append(box[0])\n",
    "    y_s.append(box[1])\n",
    "    w_s.append(box[2])\n",
    "    h_s.append(box[3])\n",
    "\n",
    "tr_df.filepaths = filepaths\n",
    "tr_df.x = x_s\n",
    "tr_df.y = y_s\n",
    "tr_df.w = w_s\n",
    "tr_df.h = h_s\n",
    "tr_df.to_csv(\"train.csv\", index=False)"
   ]
  },
  {
   "cell_type": "code",
   "execution_count": 4,
   "id": "1ff8210e",
   "metadata": {
    "execution": {
     "iopub.execute_input": "2023-03-12T08:50:48.052579Z",
     "iopub.status.busy": "2023-03-12T08:50:48.052145Z",
     "iopub.status.idle": "2023-03-12T08:50:48.118770Z",
     "shell.execute_reply": "2023-03-12T08:50:48.117380Z"
    },
    "papermill": {
     "duration": 0.073308,
     "end_time": "2023-03-12T08:50:48.121770",
     "exception": false,
     "start_time": "2023-03-12T08:50:48.048462",
     "status": "completed"
    },
    "tags": []
   },
   "outputs": [],
   "source": [
    "filepaths: list = []\n",
    "labels: list = []\n",
    "\n",
    "for filename in sorted(os.listdir(f\"{BASE_PATH}/test images\")):\n",
    "    filepaths.append(os.path.join(f\"{BASE_PATH}/test images\", filename))\n",
    "    labels.append(i)\n",
    "    \n",
    "ts_df.filepaths = filepaths\n",
    "ts_df.to_csv(\"test.csv\", index=False)"
   ]
  }
 ],
 "metadata": {
  "kernelspec": {
   "display_name": "Python 3",
   "language": "python",
   "name": "python3"
  },
  "language_info": {
   "codemirror_mode": {
    "name": "ipython",
    "version": 3
   },
   "file_extension": ".py",
   "mimetype": "text/x-python",
   "name": "python",
   "nbconvert_exporter": "python",
   "pygments_lexer": "ipython3",
   "version": "3.7.12"
  },
  "papermill": {
   "default_parameters": {},
   "duration": 91.657132,
   "end_time": "2023-03-12T08:50:48.847643",
   "environment_variables": {},
   "exception": null,
   "input_path": "__notebook__.ipynb",
   "output_path": "__notebook__.ipynb",
   "parameters": {},
   "start_time": "2023-03-12T08:49:17.190511",
   "version": "2.4.0"
  }
 },
 "nbformat": 4,
 "nbformat_minor": 5
}
