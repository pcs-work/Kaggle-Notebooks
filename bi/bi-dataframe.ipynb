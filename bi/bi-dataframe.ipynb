{
 "cells": [
  {
   "cell_type": "code",
   "execution_count": 1,
   "id": "17aa03fb",
   "metadata": {
    "_cell_guid": "b1076dfc-b9ad-4769-8c92-a6c4dae69d19",
    "_uuid": "8f2839f25d086af736a60e9eeb907d3b93b6e0e5",
    "execution": {
     "iopub.execute_input": "2023-02-23T10:50:49.015134Z",
     "iopub.status.busy": "2023-02-23T10:50:49.014368Z",
     "iopub.status.idle": "2023-02-23T10:50:49.221997Z",
     "shell.execute_reply": "2023-02-23T10:50:49.220690Z"
    },
    "papermill": {
     "duration": 0.216146,
     "end_time": "2023-02-23T10:50:49.225397",
     "exception": false,
     "start_time": "2023-02-23T10:50:49.009251",
     "status": "completed"
    },
    "tags": []
   },
   "outputs": [],
   "source": [
    "import os\n",
    "import cv2\n",
    "import json\n",
    "import numpy as np\n",
    "import pandas as pd\n",
    "\n",
    "BASE_PATH: str = \"/kaggle/input/balls-image-classification\""
   ]
  },
  {
   "cell_type": "code",
   "execution_count": 2,
   "id": "ab2b5600",
   "metadata": {
    "execution": {
     "iopub.execute_input": "2023-02-23T10:50:49.232174Z",
     "iopub.status.busy": "2023-02-23T10:50:49.231740Z",
     "iopub.status.idle": "2023-02-23T10:50:49.249354Z",
     "shell.execute_reply": "2023-02-23T10:50:49.247654Z"
    },
    "papermill": {
     "duration": 0.023716,
     "end_time": "2023-02-23T10:50:49.251885",
     "exception": false,
     "start_time": "2023-02-23T10:50:49.228169",
     "status": "completed"
    },
    "tags": []
   },
   "outputs": [],
   "source": [
    "tr_df: pd.DataFrame = pd.DataFrame(data=None, columns=[\"filepaths\", \"labels\"])\n",
    "ts_df: pd.DataFrame = pd.DataFrame(data=None, columns=[\"filepaths\", \"labels\"])\n",
    "fu_df: pd.DataFrame = pd.DataFrame(data=None, columns=[\"filepaths\", \"labels\"]) "
   ]
  },
  {
   "cell_type": "code",
   "execution_count": 3,
   "id": "52086d72",
   "metadata": {
    "execution": {
     "iopub.execute_input": "2023-02-23T10:50:49.258147Z",
     "iopub.status.busy": "2023-02-23T10:50:49.257772Z",
     "iopub.status.idle": "2023-02-23T10:50:50.475675Z",
     "shell.execute_reply": "2023-02-23T10:50:50.474620Z"
    },
    "papermill": {
     "duration": 1.224074,
     "end_time": "2023-02-23T10:50:50.478367",
     "exception": false,
     "start_time": "2023-02-23T10:50:49.254293",
     "status": "completed"
    },
    "tags": []
   },
   "outputs": [],
   "source": [
    "tr_filepaths: list = []\n",
    "tr_labels: list = []\n",
    "\n",
    "va_filepaths: list = []\n",
    "va_labels: list = []\n",
    "\n",
    "i: int = 0\n",
    "for folder in sorted(os.listdir(f\"{BASE_PATH}/train\")):\n",
    "    for filename in os.listdir(f\"{BASE_PATH}/train/{folder}\"):\n",
    "        tr_filepaths.append(os.path.join(f\"{BASE_PATH}/train/{folder}\", filename))\n",
    "        tr_labels.append(i)\n",
    "    i += 1\n",
    "    \n",
    "i: int = 0\n",
    "for folder in sorted(os.listdir(f\"{BASE_PATH}/valid\")):\n",
    "    for filename in os.listdir(f\"{BASE_PATH}/valid/{folder}\"):\n",
    "        va_filepaths.append(os.path.join(f\"{BASE_PATH}/valid/{folder}\", filename))\n",
    "        va_labels.append(i)\n",
    "    i += 1\n",
    "\n",
    "tr_df.filepaths = tr_filepaths + va_filepaths\n",
    "tr_df.labels = tr_labels + va_labels\n",
    "tr_df.to_csv(\"train.csv\", index=False)"
   ]
  },
  {
   "cell_type": "code",
   "execution_count": 4,
   "id": "5b2105ab",
   "metadata": {
    "execution": {
     "iopub.execute_input": "2023-02-23T10:50:50.485224Z",
     "iopub.status.busy": "2023-02-23T10:50:50.484612Z",
     "iopub.status.idle": "2023-02-23T10:50:50.679475Z",
     "shell.execute_reply": "2023-02-23T10:50:50.678465Z"
    },
    "papermill": {
     "duration": 0.201179,
     "end_time": "2023-02-23T10:50:50.682091",
     "exception": false,
     "start_time": "2023-02-23T10:50:50.480912",
     "status": "completed"
    },
    "tags": []
   },
   "outputs": [],
   "source": [
    "filepaths: list = []\n",
    "labels: list = []\n",
    "\n",
    "i: int = 0    \n",
    "for folder in sorted(os.listdir(f\"{BASE_PATH}/test\")):\n",
    "    for filename in os.listdir(f\"{BASE_PATH}/test/{folder}\"):\n",
    "        filepaths.append(os.path.join(f\"{BASE_PATH}/test/{folder}\", filename))\n",
    "        labels.append(i)\n",
    "    i += 1\n",
    "\n",
    "ts_df.filepaths = filepaths\n",
    "ts_df.labels = labels\n",
    "ts_df.to_csv(\"test.csv\", index=False)"
   ]
  },
  {
   "cell_type": "code",
   "execution_count": 5,
   "id": "36395e60",
   "metadata": {
    "execution": {
     "iopub.execute_input": "2023-02-23T10:50:50.688978Z",
     "iopub.status.busy": "2023-02-23T10:50:50.688409Z",
     "iopub.status.idle": "2023-02-23T10:50:50.708157Z",
     "shell.execute_reply": "2023-02-23T10:50:50.707276Z"
    },
    "papermill": {
     "duration": 0.026143,
     "end_time": "2023-02-23T10:50:50.710754",
     "exception": false,
     "start_time": "2023-02-23T10:50:50.684611",
     "status": "completed"
    },
    "tags": []
   },
   "outputs": [],
   "source": [
    "fu_df.filepaths = tr_filepaths + va_filepaths + filepaths\n",
    "fu_df.labels = tr_labels + va_labels + labels\n",
    "fu_df.to_csv(\"full.csv\", index=False)"
   ]
  },
  {
   "cell_type": "code",
   "execution_count": 6,
   "id": "8516c3df",
   "metadata": {
    "execution": {
     "iopub.execute_input": "2023-02-23T10:50:50.720847Z",
     "iopub.status.busy": "2023-02-23T10:50:50.720254Z",
     "iopub.status.idle": "2023-02-23T10:50:50.727316Z",
     "shell.execute_reply": "2023-02-23T10:50:50.726450Z"
    },
    "papermill": {
     "duration": 0.016131,
     "end_time": "2023-02-23T10:50:50.729539",
     "exception": false,
     "start_time": "2023-02-23T10:50:50.713408",
     "status": "completed"
    },
    "tags": []
   },
   "outputs": [],
   "source": [
    "labels: dict = dict()\n",
    "\n",
    "i = 0\n",
    "for folder in sorted(os.listdir(f\"{BASE_PATH}/train\")):\n",
    "    labels[i] = folder\n",
    "    i += 1\n",
    "\n",
    "json.dump(labels, open(\"labels.json\", \"w\"))"
   ]
  }
 ],
 "metadata": {
  "kernelspec": {
   "display_name": "Python 3",
   "language": "python",
   "name": "python3"
  },
  "language_info": {
   "codemirror_mode": {
    "name": "ipython",
    "version": 3
   },
   "file_extension": ".py",
   "mimetype": "text/x-python",
   "name": "python",
   "nbconvert_exporter": "python",
   "pygments_lexer": "ipython3",
   "version": "3.7.12"
  },
  "papermill": {
   "default_parameters": {},
   "duration": 11.098059,
   "end_time": "2023-02-23T10:50:51.454700",
   "environment_variables": {},
   "exception": null,
   "input_path": "__notebook__.ipynb",
   "output_path": "__notebook__.ipynb",
   "parameters": {},
   "start_time": "2023-02-23T10:50:40.356641",
   "version": "2.3.4"
  }
 },
 "nbformat": 4,
 "nbformat_minor": 5
}
