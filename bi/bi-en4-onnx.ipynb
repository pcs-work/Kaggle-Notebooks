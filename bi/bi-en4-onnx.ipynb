{
 "cells": [
  {
   "cell_type": "code",
   "execution_count": 1,
   "id": "cd766576",
   "metadata": {
    "_cell_guid": "b1076dfc-b9ad-4769-8c92-a6c4dae69d19",
    "_uuid": "8f2839f25d086af736a60e9eeb907d3b93b6e0e5",
    "execution": {
     "iopub.execute_input": "2023-02-26T04:47:59.373778Z",
     "iopub.status.busy": "2023-02-26T04:47:59.373164Z",
     "iopub.status.idle": "2023-02-26T04:48:13.145008Z",
     "shell.execute_reply": "2023-02-26T04:48:13.143301Z"
    },
    "papermill": {
     "duration": 13.780654,
     "end_time": "2023-02-26T04:48:13.148187",
     "exception": false,
     "start_time": "2023-02-26T04:47:59.367533",
     "status": "completed"
    },
    "tags": []
   },
   "outputs": [
    {
     "name": "stderr",
     "output_type": "stream",
     "text": [
      "bash: /opt/conda/lib/libtinfo.so.6: no version information available (required by bash)\n",
      "WARNING: Running pip as the 'root' user can result in broken permissions and conflicting behaviour with the system package manager. It is recommended to use a virtual environment instead: https://pip.pypa.io/warnings/venv\n"
     ]
    }
   ],
   "source": [
    "%%bash\n",
    "pip install timm onnx onnxruntime -q"
   ]
  },
  {
   "cell_type": "code",
   "execution_count": 2,
   "id": "fd0ae690",
   "metadata": {
    "execution": {
     "iopub.execute_input": "2023-02-26T04:48:13.155919Z",
     "iopub.status.busy": "2023-02-26T04:48:13.155475Z",
     "iopub.status.idle": "2023-02-26T04:48:17.133938Z",
     "shell.execute_reply": "2023-02-26T04:48:17.132485Z"
    },
    "papermill": {
     "duration": 3.9855,
     "end_time": "2023-02-26T04:48:17.136710",
     "exception": false,
     "start_time": "2023-02-26T04:48:13.151210",
     "status": "completed"
    },
    "tags": []
   },
   "outputs": [],
   "source": [
    "import os\n",
    "import sys\n",
    "import cv2\n",
    "import json\n",
    "import onnx\n",
    "import timm\n",
    "import torch\n",
    "import random as r\n",
    "import numpy as np\n",
    "import pandas as pd\n",
    "import onnxruntime as ort\n",
    "import matplotlib.pyplot as plt\n",
    "\n",
    "from typing import Union\n",
    "from torchvision import models\n",
    "from IPython.display import clear_output\n",
    "\n",
    "import warnings\n",
    "warnings.filterwarnings(\"ignore\")\n",
    "\n",
    "if not os.path.exists(\"onnx\"): os.makedirs(\"onnx\")\n",
    "    \n",
    "ort.set_default_logger_severity(3)"
   ]
  },
  {
   "cell_type": "code",
   "execution_count": 3,
   "id": "ebbf58ff",
   "metadata": {
    "execution": {
     "iopub.execute_input": "2023-02-26T04:48:17.143944Z",
     "iopub.status.busy": "2023-02-26T04:48:17.143545Z",
     "iopub.status.idle": "2023-02-26T04:48:17.248070Z",
     "shell.execute_reply": "2023-02-26T04:48:17.247209Z"
    },
    "papermill": {
     "duration": 0.111217,
     "end_time": "2023-02-26T04:48:17.250657",
     "exception": false,
     "start_time": "2023-02-26T04:48:17.139440",
     "status": "completed"
    },
    "tags": []
   },
   "outputs": [],
   "source": [
    "labels: dict = json.load(open(\"/kaggle/input/bi-dataframe/labels.json\", \"r\"))\n",
    "    \n",
    "    \n",
    "def breaker() -> None:\n",
    "    print(\"\\n\" + 50*\"*\" + \"\\n\")\n",
    "\n",
    "\n",
    "def get_image(path: str, size: int=224) -> np.ndarray:\n",
    "    image = cv2.imread(path, cv2.IMREAD_COLOR)\n",
    "    image = cv2.cvtColor(src=image, code=cv2.COLOR_BGR2RGB)\n",
    "    return image"
   ]
  },
  {
   "cell_type": "code",
   "execution_count": 4,
   "id": "44304c00",
   "metadata": {
    "execution": {
     "iopub.execute_input": "2023-02-26T04:48:17.258316Z",
     "iopub.status.busy": "2023-02-26T04:48:17.257412Z",
     "iopub.status.idle": "2023-02-26T04:48:17.266666Z",
     "shell.execute_reply": "2023-02-26T04:48:17.265414Z"
    },
    "papermill": {
     "duration": 0.015591,
     "end_time": "2023-02-26T04:48:17.269173",
     "exception": false,
     "start_time": "2023-02-26T04:48:17.253582",
     "status": "completed"
    },
    "tags": []
   },
   "outputs": [],
   "source": [
    "class Model(torch.nn.Module):\n",
    "    def __init__(self):\n",
    "        super(Model, self).__init__()\n",
    "        \n",
    "        self.model = timm.create_model(model_name=\"efficientnet_b4\", pretrained=False)\n",
    "        self.model.classifier = torch.nn.Linear(in_features=self.model.classifier.in_features, out_features=30)\n",
    "\n",
    "    def forward(self, x):\n",
    "        return self.model(x)\n",
    "\n",
    "    \n",
    "class CFG(object):  \n",
    "    def __init__(\n",
    "        self, \n",
    "        in_channels: int=3, \n",
    "        size: int=256, \n",
    "        opset_version: int=9, \n",
    "        path: str=None\n",
    "    ):\n",
    "        self.in_channels = in_channels\n",
    "        self.size = size\n",
    "        self.dummy = torch.randn(1, self.in_channels, self.size, self.size)\n",
    "        self.opset_version = opset_version\n",
    "        self.path = path"
   ]
  },
  {
   "cell_type": "code",
   "execution_count": 5,
   "id": "3d690ef4",
   "metadata": {
    "execution": {
     "iopub.execute_input": "2023-02-26T04:48:17.279326Z",
     "iopub.status.busy": "2023-02-26T04:48:17.278587Z",
     "iopub.status.idle": "2023-02-26T04:49:13.075623Z",
     "shell.execute_reply": "2023-02-26T04:49:13.074319Z"
    },
    "papermill": {
     "duration": 55.80458,
     "end_time": "2023-02-26T04:49:13.078998",
     "exception": false,
     "start_time": "2023-02-26T04:48:17.274418",
     "status": "completed"
    },
    "tags": []
   },
   "outputs": [],
   "source": [
    "for v in [\"a\", \"l\"]:\n",
    "    cfg = CFG(\n",
    "        in_channels=3, \n",
    "        size=224, \n",
    "        opset_version=15, \n",
    "        path=f\"/kaggle/input/bi-en4-a224-e10/saves/b{v}e_state_fold_5.pt\"\n",
    "    )\n",
    "\n",
    "    model = Model()\n",
    "    model.load_state_dict(torch.load(cfg.path, map_location=torch.device(\"cpu\"))[\"model_state_dict\"])\n",
    "    model.eval()\n",
    "\n",
    "    clear_output()\n",
    "\n",
    "    torch.onnx.export(\n",
    "        model=model, \n",
    "        args=cfg.dummy, \n",
    "        f=f\"onnx/b{v}e_model_f5.onnx\", \n",
    "        input_names=[\"input\"], \n",
    "        output_names=[\"output\"], \n",
    "        opset_version=cfg.opset_version,\n",
    "        export_params=True,\n",
    "        training=torch.onnx.TrainingMode.EVAL,\n",
    "        operator_export_type=torch.onnx.OperatorExportTypes.ONNX_ATEN_FALLBACK,\n",
    "        dynamic_axes={\n",
    "          \"input\"  : {0 : \"batch_size\"},\n",
    "          \"output\" : {0 : \"batch_size\"},\n",
    "        }\n",
    "    )"
   ]
  },
  {
   "cell_type": "code",
   "execution_count": 6,
   "id": "13416ef4",
   "metadata": {
    "execution": {
     "iopub.execute_input": "2023-02-26T04:49:13.087126Z",
     "iopub.status.busy": "2023-02-26T04:49:13.086677Z",
     "iopub.status.idle": "2023-02-26T04:49:13.098194Z",
     "shell.execute_reply": "2023-02-26T04:49:13.097118Z"
    },
    "papermill": {
     "duration": 0.0185,
     "end_time": "2023-02-26T04:49:13.100559",
     "exception": false,
     "start_time": "2023-02-26T04:49:13.082059",
     "status": "completed"
    },
    "tags": []
   },
   "outputs": [],
   "source": [
    "class OnnxModel(object):\n",
    "    def __init__(self, path: str) -> None:\n",
    "        self.ort_session = None\n",
    "        self.size: int = 224\n",
    "        \n",
    "        self.mean: list = [0.58989, 0.53800, 0.47472]\n",
    "        self.std: list  = [0.25246, 0.25402, 0.26771]\n",
    "        \n",
    "        self.path: str = path\n",
    "    \n",
    "        model = onnx.load(self.path)\n",
    "        onnx.checker.check_model(model)\n",
    "        self.ort_session = ort.InferenceSession(self.path)\n",
    "        \n",
    "    def infer(self, image: np.ndarray, labels: dict) -> np.ndarray:\n",
    "        image = image / 255\n",
    "        image = cv2.resize(src=image, dsize=(self.size, self.size), interpolation=cv2.INTER_AREA).transpose(2, 0, 1)\n",
    "        for i in range(image.shape[0]): image[i, :, :] = (image[i, :, :] - self.mean[i]) / self.std[i]\n",
    "        image = np.expand_dims(image, axis=0)\n",
    "        inputs = {self.ort_session.get_inputs()[0].name: image.astype(\"float32\")}\n",
    "        result = self.ort_session.run(None, inputs)\n",
    "        odds = np.exp(np.max(result))\n",
    "        return labels[str(np.argmax(result))].title(), odds / (1 + odds)"
   ]
  },
  {
   "cell_type": "code",
   "execution_count": 7,
   "id": "4feaad43",
   "metadata": {
    "execution": {
     "iopub.execute_input": "2023-02-26T04:49:13.108543Z",
     "iopub.status.busy": "2023-02-26T04:49:13.108147Z",
     "iopub.status.idle": "2023-02-26T04:49:17.055580Z",
     "shell.execute_reply": "2023-02-26T04:49:17.053919Z"
    },
    "papermill": {
     "duration": 3.954472,
     "end_time": "2023-02-26T04:49:17.058170",
     "exception": false,
     "start_time": "2023-02-26T04:49:13.103698",
     "status": "completed"
    },
    "tags": []
   },
   "outputs": [
    {
     "name": "stdout",
     "output_type": "stream",
     "text": [
      "\n",
      "**************************************************\n",
      "\n",
      "BAE_MODEL_F5.ONNX\n",
      "\n",
      "Cannon Ball, Cannon Ball\n",
      "Chrochet Ball, Chrochet Ball\n",
      "Beachballs, Beachballs\n",
      "Pokeman Balls, Pokeman Balls\n",
      "Soccer Ball, Soccer Ball\n",
      "Crystal Ball, Brass\n",
      "Wrecking Ball, Wrecking Ball\n",
      "Tether Ball, Tether Ball\n",
      "Cannon Ball, Cannon Ball\n",
      "\n",
      "**************************************************\n",
      "\n",
      "BLE_MODEL_F5.ONNX\n",
      "\n",
      "Basketball, Basketball\n",
      "Crystal Ball, Crystal Ball\n",
      "Cannon Ball, Cannon Ball\n",
      "Wiffle Ball, Wiffle Ball\n",
      "Water Polo Ball, Water Polo Ball\n",
      "Buckeyballs, Buckeyballs\n",
      "Baseball, Baseball\n",
      "Wrecking Ball, Wrecking Ball\n",
      "Medicine Ball, Medicine Ball\n",
      "\n",
      "**************************************************\n",
      "\n"
     ]
    }
   ],
   "source": [
    "df = pd.read_csv(\"/kaggle/input/bi-dataframe/test.csv\")\n",
    "\n",
    "breaker()\n",
    "for model_name in sorted(os.listdir(\"onnx\")):\n",
    "    \n",
    "    onnx_model = OnnxModel(f\"onnx/{model_name}\")\n",
    "    \n",
    "    print(f\"{model_name.upper()}\\n\")\n",
    "    \n",
    "    for i in range(9):\n",
    "        index = r.randint(0, len(df)-1)\n",
    "        filepath = df.iloc[index, 0]\n",
    "        y_true   = df.iloc[index, 1]\n",
    "\n",
    "        image = get_image(filepath, cfg.size)\n",
    "\n",
    "        y_pred, _ = onnx_model.infer(image, labels)\n",
    "        \n",
    "        print(f\"{labels[str(y_true)].title()}, {y_pred}\")\n",
    "\n",
    "    breaker()"
   ]
  }
 ],
 "metadata": {
  "kernelspec": {
   "display_name": "Python 3",
   "language": "python",
   "name": "python3"
  },
  "language_info": {
   "codemirror_mode": {
    "name": "ipython",
    "version": 3
   },
   "file_extension": ".py",
   "mimetype": "text/x-python",
   "name": "python",
   "nbconvert_exporter": "python",
   "pygments_lexer": "ipython3",
   "version": "3.7.12"
  },
  "papermill": {
   "default_parameters": {},
   "duration": 88.843728,
   "end_time": "2023-02-26T04:49:18.287052",
   "environment_variables": {},
   "exception": null,
   "input_path": "__notebook__.ipynb",
   "output_path": "__notebook__.ipynb",
   "parameters": {},
   "start_time": "2023-02-26T04:47:49.443324",
   "version": "2.3.4"
  }
 },
 "nbformat": 4,
 "nbformat_minor": 5
}
