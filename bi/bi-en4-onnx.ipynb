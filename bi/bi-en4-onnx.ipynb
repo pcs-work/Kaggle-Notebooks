{
 "cells": [
  {
   "cell_type": "code",
   "execution_count": 1,
   "id": "e06ab235",
   "metadata": {
    "_cell_guid": "b1076dfc-b9ad-4769-8c92-a6c4dae69d19",
    "_uuid": "8f2839f25d086af736a60e9eeb907d3b93b6e0e5",
    "execution": {
     "iopub.execute_input": "2023-02-23T13:31:17.086093Z",
     "iopub.status.busy": "2023-02-23T13:31:17.085282Z",
     "iopub.status.idle": "2023-02-23T13:31:31.262374Z",
     "shell.execute_reply": "2023-02-23T13:31:31.260243Z"
    },
    "papermill": {
     "duration": 14.188198,
     "end_time": "2023-02-23T13:31:31.266173",
     "exception": false,
     "start_time": "2023-02-23T13:31:17.077975",
     "status": "completed"
    },
    "tags": []
   },
   "outputs": [
    {
     "name": "stderr",
     "output_type": "stream",
     "text": [
      "bash: /opt/conda/lib/libtinfo.so.6: no version information available (required by bash)\n",
      "WARNING: Running pip as the 'root' user can result in broken permissions and conflicting behaviour with the system package manager. It is recommended to use a virtual environment instead: https://pip.pypa.io/warnings/venv\n"
     ]
    }
   ],
   "source": [
    "%%bash\n",
    "pip install timm onnx onnxruntime -q"
   ]
  },
  {
   "cell_type": "code",
   "execution_count": 2,
   "id": "9b615433",
   "metadata": {
    "execution": {
     "iopub.execute_input": "2023-02-23T13:31:31.275708Z",
     "iopub.status.busy": "2023-02-23T13:31:31.275262Z",
     "iopub.status.idle": "2023-02-23T13:31:35.295787Z",
     "shell.execute_reply": "2023-02-23T13:31:35.294052Z"
    },
    "papermill": {
     "duration": 4.029042,
     "end_time": "2023-02-23T13:31:35.298942",
     "exception": false,
     "start_time": "2023-02-23T13:31:31.269900",
     "status": "completed"
    },
    "tags": []
   },
   "outputs": [],
   "source": [
    "import os\n",
    "import sys\n",
    "import cv2\n",
    "import json\n",
    "import onnx\n",
    "import timm\n",
    "import torch\n",
    "import random as r\n",
    "import numpy as np\n",
    "import pandas as pd\n",
    "import onnxruntime as ort\n",
    "import matplotlib.pyplot as plt\n",
    "\n",
    "from typing import Union\n",
    "from torchvision import models\n",
    "from IPython.display import clear_output\n",
    "\n",
    "import warnings\n",
    "warnings.filterwarnings(\"ignore\")\n",
    "\n",
    "if not os.path.exists(\"onnx\"): os.makedirs(\"onnx\")\n",
    "    \n",
    "ort.set_default_logger_severity(3)"
   ]
  },
  {
   "cell_type": "code",
   "execution_count": 3,
   "id": "a02c6ccc",
   "metadata": {
    "execution": {
     "iopub.execute_input": "2023-02-23T13:31:35.307441Z",
     "iopub.status.busy": "2023-02-23T13:31:35.306961Z",
     "iopub.status.idle": "2023-02-23T13:31:35.324760Z",
     "shell.execute_reply": "2023-02-23T13:31:35.323315Z"
    },
    "papermill": {
     "duration": 0.026022,
     "end_time": "2023-02-23T13:31:35.328218",
     "exception": false,
     "start_time": "2023-02-23T13:31:35.302196",
     "status": "completed"
    },
    "tags": []
   },
   "outputs": [],
   "source": [
    "labels: dict = json.load(open(\"/kaggle/input/bi-dataframe/labels.json\", \"r\"))\n",
    "    \n",
    "    \n",
    "def breaker() -> None:\n",
    "    print(\"\\n\" + 50*\"*\" + \"\\n\")\n",
    "\n",
    "\n",
    "def get_image(path: str, size: int=224) -> np.ndarray:\n",
    "    image = cv2.imread(path, cv2.IMREAD_COLOR)\n",
    "    image = cv2.cvtColor(src=image, code=cv2.COLOR_BGR2RGB)\n",
    "    return image"
   ]
  },
  {
   "cell_type": "code",
   "execution_count": 4,
   "id": "8bd8d3b4",
   "metadata": {
    "execution": {
     "iopub.execute_input": "2023-02-23T13:31:35.336331Z",
     "iopub.status.busy": "2023-02-23T13:31:35.335919Z",
     "iopub.status.idle": "2023-02-23T13:31:35.346362Z",
     "shell.execute_reply": "2023-02-23T13:31:35.344921Z"
    },
    "papermill": {
     "duration": 0.017559,
     "end_time": "2023-02-23T13:31:35.349106",
     "exception": false,
     "start_time": "2023-02-23T13:31:35.331547",
     "status": "completed"
    },
    "tags": []
   },
   "outputs": [],
   "source": [
    "class Model(torch.nn.Module):\n",
    "    def __init__(self):\n",
    "        super(Model, self).__init__()\n",
    "        \n",
    "        self.model = timm.create_model(model_name=\"efficientnet_b4\", pretrained=False)\n",
    "        self.model.classifier = torch.nn.Linear(in_features=self.model.classifier.in_features, out_features=30)\n",
    "\n",
    "    def forward(self, x):\n",
    "        return self.model(x)\n",
    "\n",
    "    \n",
    "class CFG(object):  \n",
    "    def __init__(\n",
    "        self, \n",
    "        in_channels: int=3, \n",
    "        size: int=256, \n",
    "        opset_version: int=9, \n",
    "        path: str=None\n",
    "    ):\n",
    "        self.in_channels = in_channels\n",
    "        self.size = size\n",
    "        self.dummy = torch.randn(1, self.in_channels, self.size, self.size)\n",
    "        self.opset_version = opset_version\n",
    "        self.path = path"
   ]
  },
  {
   "cell_type": "code",
   "execution_count": 5,
   "id": "164ae125",
   "metadata": {
    "execution": {
     "iopub.execute_input": "2023-02-23T13:31:35.360776Z",
     "iopub.status.busy": "2023-02-23T13:31:35.360293Z",
     "iopub.status.idle": "2023-02-23T13:32:39.728600Z",
     "shell.execute_reply": "2023-02-23T13:32:39.727006Z"
    },
    "papermill": {
     "duration": 64.37616,
     "end_time": "2023-02-23T13:32:39.732002",
     "exception": false,
     "start_time": "2023-02-23T13:31:35.355842",
     "status": "completed"
    },
    "tags": []
   },
   "outputs": [],
   "source": [
    "for v in [\"a\", \"l\"]:\n",
    "    cfg = CFG(\n",
    "        in_channels=3, \n",
    "        size=256, \n",
    "        opset_version=15, \n",
    "        path=f\"/kaggle/input/bi-en4-a224-e10/saves/b{v}e_state_fold_5.pt\"\n",
    "    )\n",
    "\n",
    "    model = Model()\n",
    "    model.load_state_dict(torch.load(cfg.path, map_location=torch.device(\"cpu\"))[\"model_state_dict\"])\n",
    "    model.eval()\n",
    "\n",
    "    clear_output()\n",
    "\n",
    "    torch.onnx.export(\n",
    "        model=model, \n",
    "        args=cfg.dummy, \n",
    "        f=f\"onnx/b{v}e_model_f5.onnx\", \n",
    "        input_names=[\"input\"], \n",
    "        output_names=[\"output\"], \n",
    "        opset_version=cfg.opset_version,\n",
    "        export_params=True,\n",
    "        training=torch.onnx.TrainingMode.EVAL,\n",
    "        operator_export_type=torch.onnx.OperatorExportTypes.ONNX_ATEN_FALLBACK,\n",
    "        dynamic_axes={\n",
    "          \"input\"  : {0 : \"batch_size\"},\n",
    "          \"output\" : {0 : \"batch_size\"},\n",
    "        }\n",
    "    )"
   ]
  },
  {
   "cell_type": "code",
   "execution_count": 6,
   "id": "c8d1401b",
   "metadata": {
    "execution": {
     "iopub.execute_input": "2023-02-23T13:32:39.740553Z",
     "iopub.status.busy": "2023-02-23T13:32:39.740125Z",
     "iopub.status.idle": "2023-02-23T13:32:39.752723Z",
     "shell.execute_reply": "2023-02-23T13:32:39.751296Z"
    },
    "papermill": {
     "duration": 0.020373,
     "end_time": "2023-02-23T13:32:39.755722",
     "exception": false,
     "start_time": "2023-02-23T13:32:39.735349",
     "status": "completed"
    },
    "tags": []
   },
   "outputs": [],
   "source": [
    "class OnnxModel(object):\n",
    "    def __init__(self, path: str) -> None:\n",
    "        self.ort_session = None\n",
    "        self.size: int = 256\n",
    "        \n",
    "        self.mean: list = [0.58989, 0.53800, 0.47472]\n",
    "        self.std: list  = [0.25246, 0.25402, 0.26771]\n",
    "        \n",
    "        self.path: str = path\n",
    "    \n",
    "        model = onnx.load(self.path)\n",
    "        onnx.checker.check_model(model)\n",
    "        self.ort_session = ort.InferenceSession(self.path)\n",
    "        \n",
    "    def infer(self, image: np.ndarray, labels: dict) -> np.ndarray:\n",
    "        image = image / 255\n",
    "        image = cv2.resize(src=image, dsize=(self.size, self.size), interpolation=cv2.INTER_AREA).transpose(2, 0, 1)\n",
    "        for i in range(image.shape[0]): image[i, :, :] = (image[i, :, :] - self.mean[i]) / self.std[i]\n",
    "        image = np.expand_dims(image, axis=0)\n",
    "        inputs = {self.ort_session.get_inputs()[0].name: image.astype(\"float32\")}\n",
    "        result = self.ort_session.run(None, inputs)\n",
    "        odds = np.exp(np.max(result))\n",
    "        return labels[str(np.argmax(result))].title(), odds / (1 + odds)"
   ]
  },
  {
   "cell_type": "code",
   "execution_count": 7,
   "id": "267159a4",
   "metadata": {
    "execution": {
     "iopub.execute_input": "2023-02-23T13:32:39.764663Z",
     "iopub.status.busy": "2023-02-23T13:32:39.764230Z",
     "iopub.status.idle": "2023-02-23T13:32:44.551636Z",
     "shell.execute_reply": "2023-02-23T13:32:44.549479Z"
    },
    "papermill": {
     "duration": 4.796785,
     "end_time": "2023-02-23T13:32:44.555914",
     "exception": false,
     "start_time": "2023-02-23T13:32:39.759129",
     "status": "completed"
    },
    "tags": []
   },
   "outputs": [
    {
     "name": "stdout",
     "output_type": "stream",
     "text": [
      "\n",
      "**************************************************\n",
      "\n",
      "BAE_MODEL_F5.ONNX\n",
      "\n",
      "Cricket Ball, Cricket Ball\n",
      "Buckeyballs, Buckeyballs\n",
      "Billiard Ball, Billiard Ball\n",
      "Golf Ball, Golf Ball\n",
      "Marble, Marble\n",
      "Paint Balls, Paint Balls\n",
      "Chrochet Ball, Chrochet Ball\n",
      "Soccer Ball, Soccer Ball\n",
      "Cannon Ball, Cannon Ball\n",
      "\n",
      "**************************************************\n",
      "\n",
      "BLE_MODEL_F5.ONNX\n",
      "\n",
      "Tennis Ball, Tennis Ball\n",
      "Tether Ball, Tether Ball\n",
      "Puffballs, Puffballs\n",
      "Water Polo Ball, Water Polo Ball\n",
      "Pokeman Balls, Pokeman Balls\n",
      "Football, Football\n",
      "Soccer Ball, Soccer Ball\n",
      "Meat Ball, Meat Ball\n",
      "Football, Football\n",
      "\n",
      "**************************************************\n",
      "\n"
     ]
    }
   ],
   "source": [
    "df = pd.read_csv(\"/kaggle/input/bi-dataframe/test.csv\")\n",
    "\n",
    "breaker()\n",
    "for model_name in sorted(os.listdir(\"onnx\")):\n",
    "    \n",
    "    onnx_model = OnnxModel(f\"onnx/{model_name}\")\n",
    "    \n",
    "    print(f\"{model_name.upper()}\\n\")\n",
    "    \n",
    "    for i in range(9):\n",
    "        index = r.randint(0, len(df)-1)\n",
    "        filepath = df.iloc[index, 0]\n",
    "        y_true   = df.iloc[index, 1]\n",
    "\n",
    "        image = get_image(filepath, cfg.size)\n",
    "\n",
    "        y_pred, _ = onnx_model.infer(image, labels)\n",
    "        \n",
    "        print(f\"{labels[str(y_true)].title()}, {y_pred}\")\n",
    "\n",
    "    breaker()"
   ]
  }
 ],
 "metadata": {
  "kernelspec": {
   "display_name": "Python 3",
   "language": "python",
   "name": "python3"
  },
  "language_info": {
   "codemirror_mode": {
    "name": "ipython",
    "version": 3
   },
   "file_extension": ".py",
   "mimetype": "text/x-python",
   "name": "python",
   "nbconvert_exporter": "python",
   "pygments_lexer": "ipython3",
   "version": "3.7.12"
  },
  "papermill": {
   "default_parameters": {},
   "duration": 97.696151,
   "end_time": "2023-02-23T13:32:45.889859",
   "environment_variables": {},
   "exception": null,
   "input_path": "__notebook__.ipynb",
   "output_path": "__notebook__.ipynb",
   "parameters": {},
   "start_time": "2023-02-23T13:31:08.193708",
   "version": "2.3.4"
  }
 },
 "nbformat": 4,
 "nbformat_minor": 5
}
