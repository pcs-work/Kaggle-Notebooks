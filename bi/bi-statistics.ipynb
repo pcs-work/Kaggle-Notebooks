{
 "cells": [
  {
   "cell_type": "code",
   "execution_count": 1,
   "id": "a21a104c",
   "metadata": {
    "_cell_guid": "b1076dfc-b9ad-4769-8c92-a6c4dae69d19",
    "_uuid": "8f2839f25d086af736a60e9eeb907d3b93b6e0e5",
    "execution": {
     "iopub.execute_input": "2023-02-23T10:56:31.241042Z",
     "iopub.status.busy": "2023-02-23T10:56:31.240303Z",
     "iopub.status.idle": "2023-02-23T10:56:31.451131Z",
     "shell.execute_reply": "2023-02-23T10:56:31.449893Z"
    },
    "papermill": {
     "duration": 0.219572,
     "end_time": "2023-02-23T10:56:31.454480",
     "exception": false,
     "start_time": "2023-02-23T10:56:31.234908",
     "status": "completed"
    },
    "tags": []
   },
   "outputs": [],
   "source": [
    "import os\n",
    "import cv2\n",
    "import numpy as np\n",
    "import pandas as pd\n",
    "\n",
    "\n",
    "def breaker(num: int = 50, char: str = \"*\") -> None: print(\"\\n\" + num*char + \"\\n\")"
   ]
  },
  {
   "cell_type": "code",
   "execution_count": 2,
   "id": "1c93106f",
   "metadata": {
    "execution": {
     "iopub.execute_input": "2023-02-23T10:56:31.460389Z",
     "iopub.status.busy": "2023-02-23T10:56:31.459953Z",
     "iopub.status.idle": "2023-02-23T10:56:31.473302Z",
     "shell.execute_reply": "2023-02-23T10:56:31.471850Z"
    },
    "papermill": {
     "duration": 0.019272,
     "end_time": "2023-02-23T10:56:31.475996",
     "exception": false,
     "start_time": "2023-02-23T10:56:31.456724",
     "status": "completed"
    },
    "tags": []
   },
   "outputs": [],
   "source": [
    "def get_image(path: str) -> np.ndarray:\n",
    "    image = cv2.imread(path, cv2.IMREAD_COLOR)\n",
    "    image = cv2.cvtColor(src=image, code=cv2.COLOR_BGR2RGB)\n",
    "    return image\n",
    "\n",
    "\n",
    "def get_statistics(filepaths: np.ndarray) -> dict:\n",
    "\n",
    "    stats: dict = dict()\n",
    "    means: dict = dict()\n",
    "    stds: dict  = dict()\n",
    "    total_num_of_images: int = 0\n",
    "    r_mean, g_mean, b_mean, r_std, g_std, b_std = 0.0, 0.0, 0.0, 0.0, 0.0, 0.0\n",
    "    for filepath in filepaths:\n",
    "        image = get_image(filepath)\n",
    "        r_mean += image[:, :, 0].mean()\n",
    "        g_mean += image[:, :, 1].mean()\n",
    "        b_mean += image[:, :, 2].mean()\n",
    "        r_std += image[:, :, 0].std()\n",
    "        g_std += image[:, :, 1].std()\n",
    "        b_std += image[:, :, 2].std()\n",
    "        total_num_of_images += 1\n",
    "    \n",
    "    stats[\"means\"] = [\n",
    "            r_mean / total_num_of_images / 255, \n",
    "            g_mean / total_num_of_images / 255, \n",
    "            b_mean / total_num_of_images / 255,\n",
    "        ]\n",
    "    stats[\"stds\"] = [\n",
    "            r_std / total_num_of_images / 255, \n",
    "            g_std / total_num_of_images / 255, \n",
    "            b_std / total_num_of_images / 255,\n",
    "        ]\n",
    "    \n",
    "    return stats\n",
    "\n",
    "\n",
    "def print_statistics(stats: dict) -> None:\n",
    "    breaker()\n",
    "    for k, v in stats.items():\n",
    "        print(f\"{k.title()}\\n\")\n",
    "        for i in range(len(v)):\n",
    "            if i == 0: print(f\"Red   : {v[i]:.5f}\")\n",
    "            if i == 1: print(f\"Green : {v[i]:.5f}\")\n",
    "            if i == 2: print(f\"Blue  : {v[i]:.5f}\")\n",
    "        breaker()"
   ]
  },
  {
   "cell_type": "code",
   "execution_count": 3,
   "id": "d3f0bb24",
   "metadata": {
    "execution": {
     "iopub.execute_input": "2023-02-23T10:56:31.481699Z",
     "iopub.status.busy": "2023-02-23T10:56:31.481251Z",
     "iopub.status.idle": "2023-02-23T10:57:00.301199Z",
     "shell.execute_reply": "2023-02-23T10:57:00.299949Z"
    },
    "papermill": {
     "duration": 28.826356,
     "end_time": "2023-02-23T10:57:00.304316",
     "exception": false,
     "start_time": "2023-02-23T10:56:31.477960",
     "status": "completed"
    },
    "tags": []
   },
   "outputs": [
    {
     "name": "stdout",
     "output_type": "stream",
     "text": [
      "\n",
      "**************************************************\n",
      "\n",
      "Means\n",
      "\n",
      "Red   : 0.58989\n",
      "Green : 0.53800\n",
      "Blue  : 0.47472\n",
      "\n",
      "**************************************************\n",
      "\n",
      "Stds\n",
      "\n",
      "Red   : 0.25246\n",
      "Green : 0.25402\n",
      "Blue  : 0.26771\n",
      "\n",
      "**************************************************\n",
      "\n"
     ]
    }
   ],
   "source": [
    "df = pd.read_csv(\"/kaggle/input/bi-dataframe/train.csv\")\n",
    "\n",
    "stats = get_statistics(df.filepaths.copy().values)\n",
    "print_statistics(stats)"
   ]
  }
 ],
 "metadata": {
  "kernelspec": {
   "display_name": "Python 3",
   "language": "python",
   "name": "python3"
  },
  "language_info": {
   "codemirror_mode": {
    "name": "ipython",
    "version": 3
   },
   "file_extension": ".py",
   "mimetype": "text/x-python",
   "name": "python",
   "nbconvert_exporter": "python",
   "pygments_lexer": "ipython3",
   "version": "3.7.12"
  },
  "papermill": {
   "default_parameters": {},
   "duration": 40.164862,
   "end_time": "2023-02-23T10:57:01.029311",
   "environment_variables": {},
   "exception": null,
   "input_path": "__notebook__.ipynb",
   "output_path": "__notebook__.ipynb",
   "parameters": {},
   "start_time": "2023-02-23T10:56:20.864449",
   "version": "2.3.4"
  }
 },
 "nbformat": 4,
 "nbformat_minor": 5
}
