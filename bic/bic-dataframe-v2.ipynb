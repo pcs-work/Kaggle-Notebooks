{
 "cells": [
  {
   "cell_type": "code",
   "execution_count": 1,
   "id": "4d50703c",
   "metadata": {
    "_cell_guid": "b1076dfc-b9ad-4769-8c92-a6c4dae69d19",
    "_uuid": "8f2839f25d086af736a60e9eeb907d3b93b6e0e5",
    "execution": {
     "iopub.execute_input": "2023-02-16T09:10:01.361433Z",
     "iopub.status.busy": "2023-02-16T09:10:01.360959Z",
     "iopub.status.idle": "2023-02-16T09:10:01.607588Z",
     "shell.execute_reply": "2023-02-16T09:10:01.606003Z"
    },
    "papermill": {
     "duration": 0.255808,
     "end_time": "2023-02-16T09:10:01.610977",
     "exception": false,
     "start_time": "2023-02-16T09:10:01.355169",
     "status": "completed"
    },
    "tags": []
   },
   "outputs": [],
   "source": [
    "import os\n",
    "import cv2\n",
    "import json\n",
    "import numpy as np\n",
    "import pandas as pd\n",
    "\n",
    "BASE_PATH: str = \"/kaggle/input/100-bird-species\""
   ]
  },
  {
   "cell_type": "code",
   "execution_count": 2,
   "id": "d8117431",
   "metadata": {
    "execution": {
     "iopub.execute_input": "2023-02-16T09:10:01.618210Z",
     "iopub.status.busy": "2023-02-16T09:10:01.617774Z",
     "iopub.status.idle": "2023-02-16T09:10:01.638014Z",
     "shell.execute_reply": "2023-02-16T09:10:01.636621Z"
    },
    "papermill": {
     "duration": 0.026917,
     "end_time": "2023-02-16T09:10:01.640779",
     "exception": false,
     "start_time": "2023-02-16T09:10:01.613862",
     "status": "completed"
    },
    "tags": []
   },
   "outputs": [],
   "source": [
    "tr_df: pd.DataFrame = pd.DataFrame(data=None, columns=[\"filepaths\", \"labels\"])\n",
    "ts_df: pd.DataFrame = pd.DataFrame(data=None, columns=[\"filepaths\", \"labels\"])\n",
    "fu_df: pd.DataFrame = pd.DataFrame(data=None, columns=[\"filepaths\", \"labels\"])  "
   ]
  },
  {
   "cell_type": "code",
   "execution_count": 3,
   "id": "7a69be15",
   "metadata": {
    "execution": {
     "iopub.execute_input": "2023-02-16T09:10:01.647635Z",
     "iopub.status.busy": "2023-02-16T09:10:01.647180Z",
     "iopub.status.idle": "2023-02-16T09:10:29.682380Z",
     "shell.execute_reply": "2023-02-16T09:10:29.681497Z"
    },
    "papermill": {
     "duration": 28.04165,
     "end_time": "2023-02-16T09:10:29.685004",
     "exception": false,
     "start_time": "2023-02-16T09:10:01.643354",
     "status": "completed"
    },
    "tags": []
   },
   "outputs": [],
   "source": [
    "tr_filepaths: list = []\n",
    "tr_labels: list = []\n",
    "\n",
    "va_filepaths: list = []\n",
    "va_labels: list = []\n",
    "\n",
    "i: int = 0\n",
    "for folder in sorted(os.listdir(f\"{BASE_PATH}/train\")):\n",
    "    for filename in os.listdir(f\"{BASE_PATH}/train/{folder}\"):\n",
    "        tr_filepaths.append(os.path.join(f\"{BASE_PATH}/train/{folder}\", filename))\n",
    "        tr_labels.append(i)\n",
    "    i += 1\n",
    "    \n",
    "i: int = 0\n",
    "for folder in sorted(os.listdir(f\"{BASE_PATH}/valid\")):\n",
    "    for filename in os.listdir(f\"{BASE_PATH}/valid/{folder}\"):\n",
    "        va_filepaths.append(os.path.join(f\"{BASE_PATH}/valid/{folder}\", filename))\n",
    "        va_labels.append(i)\n",
    "    i += 1\n",
    "\n",
    "tr_df.filepaths = tr_filepaths + va_filepaths\n",
    "tr_df.labels = tr_labels + va_labels\n",
    "tr_df.to_csv(\"train.csv\", index=False)"
   ]
  },
  {
   "cell_type": "code",
   "execution_count": 4,
   "id": "6d2af5eb",
   "metadata": {
    "execution": {
     "iopub.execute_input": "2023-02-16T09:10:29.691371Z",
     "iopub.status.busy": "2023-02-16T09:10:29.690965Z",
     "iopub.status.idle": "2023-02-16T09:10:32.364052Z",
     "shell.execute_reply": "2023-02-16T09:10:32.362655Z"
    },
    "papermill": {
     "duration": 2.679531,
     "end_time": "2023-02-16T09:10:32.367027",
     "exception": false,
     "start_time": "2023-02-16T09:10:29.687496",
     "status": "completed"
    },
    "tags": []
   },
   "outputs": [],
   "source": [
    "filepaths: list = []\n",
    "labels: list = []\n",
    "\n",
    "i: int = 0    \n",
    "for folder in sorted(os.listdir(f\"{BASE_PATH}/test\")):\n",
    "    for filename in os.listdir(f\"{BASE_PATH}/test/{folder}\"):\n",
    "        filepaths.append(os.path.join(f\"{BASE_PATH}/test/{folder}\", filename))\n",
    "        labels.append(i)\n",
    "    i += 1\n",
    "\n",
    "ts_df.filepaths = filepaths\n",
    "ts_df.labels = labels\n",
    "ts_df.to_csv(\"test.csv\", index=False)"
   ]
  },
  {
   "cell_type": "code",
   "execution_count": 5,
   "id": "410f4f8d",
   "metadata": {
    "execution": {
     "iopub.execute_input": "2023-02-16T09:10:32.373810Z",
     "iopub.status.busy": "2023-02-16T09:10:32.373378Z",
     "iopub.status.idle": "2023-02-16T09:10:32.614578Z",
     "shell.execute_reply": "2023-02-16T09:10:32.613347Z"
    },
    "papermill": {
     "duration": 0.247805,
     "end_time": "2023-02-16T09:10:32.617435",
     "exception": false,
     "start_time": "2023-02-16T09:10:32.369630",
     "status": "completed"
    },
    "tags": []
   },
   "outputs": [],
   "source": [
    "fu_df.filepaths = tr_filepaths + va_filepaths + filepaths\n",
    "fu_df.labels = tr_labels + va_labels + labels\n",
    "fu_df.to_csv(\"full.csv\", index=False)"
   ]
  },
  {
   "cell_type": "code",
   "execution_count": 6,
   "id": "dece69b2",
   "metadata": {
    "execution": {
     "iopub.execute_input": "2023-02-16T09:10:32.624225Z",
     "iopub.status.busy": "2023-02-16T09:10:32.623840Z",
     "iopub.status.idle": "2023-02-16T09:10:32.631905Z",
     "shell.execute_reply": "2023-02-16T09:10:32.630728Z"
    },
    "papermill": {
     "duration": 0.014661,
     "end_time": "2023-02-16T09:10:32.634668",
     "exception": false,
     "start_time": "2023-02-16T09:10:32.620007",
     "status": "completed"
    },
    "tags": []
   },
   "outputs": [],
   "source": [
    "labels: dict = dict()\n",
    "\n",
    "i = 0\n",
    "for folder in sorted(os.listdir(f\"{BASE_PATH}/train\")):\n",
    "    labels[i] = folder\n",
    "    i += 1\n",
    "\n",
    "json.dump(labels, open(\"labels.json\", \"w\"))"
   ]
  }
 ],
 "metadata": {
  "kernelspec": {
   "display_name": "Python 3",
   "language": "python",
   "name": "python3"
  },
  "language_info": {
   "codemirror_mode": {
    "name": "ipython",
    "version": 3
   },
   "file_extension": ".py",
   "mimetype": "text/x-python",
   "name": "python",
   "nbconvert_exporter": "python",
   "pygments_lexer": "ipython3",
   "version": "3.7.12"
  },
  "papermill": {
   "default_parameters": {},
   "duration": 42.223839,
   "end_time": "2023-02-16T09:10:33.359900",
   "environment_variables": {},
   "exception": null,
   "input_path": "__notebook__.ipynb",
   "output_path": "__notebook__.ipynb",
   "parameters": {},
   "start_time": "2023-02-16T09:09:51.136061",
   "version": "2.3.4"
  }
 },
 "nbformat": 4,
 "nbformat_minor": 5
}
