{
 "cells": [
  {
   "cell_type": "code",
   "execution_count": 1,
   "id": "1f5b0fe3",
   "metadata": {
    "_cell_guid": "b1076dfc-b9ad-4769-8c92-a6c4dae69d19",
    "_uuid": "8f2839f25d086af736a60e9eeb907d3b93b6e0e5",
    "execution": {
     "iopub.execute_input": "2023-02-09T10:37:34.579945Z",
     "iopub.status.busy": "2023-02-09T10:37:34.579155Z",
     "iopub.status.idle": "2023-02-09T10:37:34.780040Z",
     "shell.execute_reply": "2023-02-09T10:37:34.778814Z"
    },
    "papermill": {
     "duration": 0.209479,
     "end_time": "2023-02-09T10:37:34.783298",
     "exception": false,
     "start_time": "2023-02-09T10:37:34.573819",
     "status": "completed"
    },
    "tags": []
   },
   "outputs": [],
   "source": [
    "import os\n",
    "import cv2\n",
    "import json\n",
    "import numpy as np\n",
    "import pandas as pd\n",
    "\n",
    "BASE_PATH: str = \"/kaggle/input/100-bird-species\""
   ]
  },
  {
   "cell_type": "code",
   "execution_count": 2,
   "id": "a168e37f",
   "metadata": {
    "execution": {
     "iopub.execute_input": "2023-02-09T10:37:34.789504Z",
     "iopub.status.busy": "2023-02-09T10:37:34.789112Z",
     "iopub.status.idle": "2023-02-09T10:37:34.805729Z",
     "shell.execute_reply": "2023-02-09T10:37:34.804593Z"
    },
    "papermill": {
     "duration": 0.022427,
     "end_time": "2023-02-09T10:37:34.808193",
     "exception": false,
     "start_time": "2023-02-09T10:37:34.785766",
     "status": "completed"
    },
    "tags": []
   },
   "outputs": [],
   "source": [
    "tr_df: pd.DataFrame = pd.DataFrame(data=None, columns=[\"filepaths\", \"labels\"])\n",
    "ts_df: pd.DataFrame = pd.DataFrame(data=None, columns=[\"filepaths\", \"labels\"])\n",
    "fu_df: pd.DataFrame = pd.DataFrame(data=None, columns=[\"filepaths\", \"labels\"])  "
   ]
  },
  {
   "cell_type": "code",
   "execution_count": 3,
   "id": "9e9091c5",
   "metadata": {
    "execution": {
     "iopub.execute_input": "2023-02-09T10:37:34.814734Z",
     "iopub.status.busy": "2023-02-09T10:37:34.814099Z",
     "iopub.status.idle": "2023-02-09T10:37:52.426164Z",
     "shell.execute_reply": "2023-02-09T10:37:52.425149Z"
    },
    "papermill": {
     "duration": 17.618891,
     "end_time": "2023-02-09T10:37:52.429389",
     "exception": false,
     "start_time": "2023-02-09T10:37:34.810498",
     "status": "completed"
    },
    "tags": []
   },
   "outputs": [],
   "source": [
    "tr_filepaths: list = []\n",
    "tr_labels: list = []\n",
    "\n",
    "va_filepaths: list = []\n",
    "va_labels: list = []\n",
    "\n",
    "i: int = 0\n",
    "for folder in sorted(os.listdir(f\"{BASE_PATH}/train\")):\n",
    "    for filename in os.listdir(f\"{BASE_PATH}/train/{folder}\"):\n",
    "        tr_filepaths.append(os.path.join(f\"{BASE_PATH}/train/{folder}\", filename))\n",
    "        tr_labels.append(i)\n",
    "    i += 1\n",
    "    \n",
    "i: int = 0\n",
    "for folder in sorted(os.listdir(f\"{BASE_PATH}/valid\")):\n",
    "    for filename in os.listdir(f\"{BASE_PATH}/valid/{folder}\"):\n",
    "        va_filepaths.append(os.path.join(f\"{BASE_PATH}/valid/{folder}\", filename))\n",
    "        va_labels.append(i)\n",
    "    i += 1\n",
    "\n",
    "tr_df.filepaths = tr_filepaths + va_filepaths\n",
    "tr_df.labels = tr_labels + va_labels\n",
    "tr_df.to_csv(\"train.csv\", index=False)"
   ]
  },
  {
   "cell_type": "code",
   "execution_count": 4,
   "id": "9f9bef0c",
   "metadata": {
    "execution": {
     "iopub.execute_input": "2023-02-09T10:37:52.437143Z",
     "iopub.status.busy": "2023-02-09T10:37:52.435977Z",
     "iopub.status.idle": "2023-02-09T10:37:56.643951Z",
     "shell.execute_reply": "2023-02-09T10:37:56.642581Z"
    },
    "papermill": {
     "duration": 4.215036,
     "end_time": "2023-02-09T10:37:56.647214",
     "exception": false,
     "start_time": "2023-02-09T10:37:52.432178",
     "status": "completed"
    },
    "tags": []
   },
   "outputs": [],
   "source": [
    "filepaths: list = []\n",
    "labels: list = []\n",
    "\n",
    "i: int = 0    \n",
    "for folder in sorted(os.listdir(f\"{BASE_PATH}/test\")):\n",
    "    for filename in os.listdir(f\"{BASE_PATH}/test/{folder}\"):\n",
    "        filepaths.append(os.path.join(f\"{BASE_PATH}/test/{folder}\", filename))\n",
    "        labels.append(i)\n",
    "    i += 1\n",
    "\n",
    "ts_df.filepaths = filepaths\n",
    "ts_df.labels = labels\n",
    "ts_df.to_csv(\"test.csv\", index=False)"
   ]
  },
  {
   "cell_type": "code",
   "execution_count": 5,
   "id": "f0c04c21",
   "metadata": {
    "execution": {
     "iopub.execute_input": "2023-02-09T10:37:56.654243Z",
     "iopub.status.busy": "2023-02-09T10:37:56.653809Z",
     "iopub.status.idle": "2023-02-09T10:37:56.890289Z",
     "shell.execute_reply": "2023-02-09T10:37:56.888946Z"
    },
    "papermill": {
     "duration": 0.243184,
     "end_time": "2023-02-09T10:37:56.893222",
     "exception": false,
     "start_time": "2023-02-09T10:37:56.650038",
     "status": "completed"
    },
    "tags": []
   },
   "outputs": [],
   "source": [
    "fu_df.filepaths = tr_filepaths + va_filepaths + filepaths\n",
    "fu_df.labels = tr_labels + va_labels + labels\n",
    "fu_df.to_csv(\"full.csv\", index=False)"
   ]
  },
  {
   "cell_type": "code",
   "execution_count": 6,
   "id": "c841d78a",
   "metadata": {
    "execution": {
     "iopub.execute_input": "2023-02-09T10:37:56.900499Z",
     "iopub.status.busy": "2023-02-09T10:37:56.900022Z",
     "iopub.status.idle": "2023-02-09T10:37:56.908106Z",
     "shell.execute_reply": "2023-02-09T10:37:56.906908Z"
    },
    "papermill": {
     "duration": 0.014704,
     "end_time": "2023-02-09T10:37:56.910565",
     "exception": false,
     "start_time": "2023-02-09T10:37:56.895861",
     "status": "completed"
    },
    "tags": []
   },
   "outputs": [],
   "source": [
    "labels: dict = dict()\n",
    "\n",
    "i = 0\n",
    "for folder in sorted(os.listdir(f\"{BASE_PATH}/train\")):\n",
    "    labels[i] = folder\n",
    "    i += 1\n",
    "\n",
    "json.dump(labels, open(\"labels.json\", \"w\"))"
   ]
  }
 ],
 "metadata": {
  "kernelspec": {
   "display_name": "Python 3",
   "language": "python",
   "name": "python3"
  },
  "language_info": {
   "codemirror_mode": {
    "name": "ipython",
    "version": 3
   },
   "file_extension": ".py",
   "mimetype": "text/x-python",
   "name": "python",
   "nbconvert_exporter": "python",
   "pygments_lexer": "ipython3",
   "version": "3.7.12"
  },
  "papermill": {
   "default_parameters": {},
   "duration": 31.446161,
   "end_time": "2023-02-09T10:37:57.536868",
   "environment_variables": {},
   "exception": null,
   "input_path": "__notebook__.ipynb",
   "output_path": "__notebook__.ipynb",
   "parameters": {},
   "start_time": "2023-02-09T10:37:26.090707",
   "version": "2.3.4"
  }
 },
 "nbformat": 4,
 "nbformat_minor": 5
}
