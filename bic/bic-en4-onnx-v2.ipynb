{
 "cells": [
  {
   "cell_type": "code",
   "execution_count": 1,
   "id": "273e9eba",
   "metadata": {
    "_cell_guid": "b1076dfc-b9ad-4769-8c92-a6c4dae69d19",
    "_uuid": "8f2839f25d086af736a60e9eeb907d3b93b6e0e5",
    "execution": {
     "iopub.execute_input": "2023-02-19T04:43:57.633448Z",
     "iopub.status.busy": "2023-02-19T04:43:57.632570Z",
     "iopub.status.idle": "2023-02-19T04:44:32.163303Z",
     "shell.execute_reply": "2023-02-19T04:44:32.162202Z"
    },
    "papermill": {
     "duration": 34.541041,
     "end_time": "2023-02-19T04:44:32.167683",
     "exception": false,
     "start_time": "2023-02-19T04:43:57.626642",
     "status": "completed"
    },
    "tags": []
   },
   "outputs": [
    {
     "name": "stderr",
     "output_type": "stream",
     "text": [
      "WARNING: Running pip as the 'root' user can result in broken permissions and conflicting behaviour with the system package manager. It is recommended to use a virtual environment instead: https://pip.pypa.io/warnings/venv\n",
      "WARNING: Running pip as the 'root' user can result in broken permissions and conflicting behaviour with the system package manager. It is recommended to use a virtual environment instead: https://pip.pypa.io/warnings/venv\n",
      "WARNING: Running pip as the 'root' user can result in broken permissions and conflicting behaviour with the system package manager. It is recommended to use a virtual environment instead: https://pip.pypa.io/warnings/venv\n"
     ]
    }
   ],
   "source": [
    "%%bash\n",
    "pip install timm -q\n",
    "pip install onnx -q\n",
    "pip install onnxruntime -q"
   ]
  },
  {
   "cell_type": "code",
   "execution_count": 2,
   "id": "ceab903f",
   "metadata": {
    "execution": {
     "iopub.execute_input": "2023-02-19T04:44:32.175619Z",
     "iopub.status.busy": "2023-02-19T04:44:32.175136Z",
     "iopub.status.idle": "2023-02-19T04:44:36.140023Z",
     "shell.execute_reply": "2023-02-19T04:44:36.138745Z"
    },
    "papermill": {
     "duration": 3.972352,
     "end_time": "2023-02-19T04:44:36.143090",
     "exception": false,
     "start_time": "2023-02-19T04:44:32.170738",
     "status": "completed"
    },
    "tags": []
   },
   "outputs": [],
   "source": [
    "import os\n",
    "import sys\n",
    "import cv2\n",
    "import json\n",
    "import onnx\n",
    "import timm\n",
    "import torch\n",
    "import random as r\n",
    "import numpy as np\n",
    "import pandas as pd\n",
    "import onnxruntime as ort\n",
    "import matplotlib.pyplot as plt\n",
    "\n",
    "from typing import Union\n",
    "from torchvision import models\n",
    "from IPython.display import clear_output\n",
    "\n",
    "import warnings\n",
    "warnings.filterwarnings(\"ignore\")\n",
    "\n",
    "if not os.path.exists(\"onnx\"): os.makedirs(\"onnx\")\n",
    "    \n",
    "ort.set_default_logger_severity(3)"
   ]
  },
  {
   "cell_type": "code",
   "execution_count": 3,
   "id": "dd7ce741",
   "metadata": {
    "execution": {
     "iopub.execute_input": "2023-02-19T04:44:36.151045Z",
     "iopub.status.busy": "2023-02-19T04:44:36.150613Z",
     "iopub.status.idle": "2023-02-19T04:44:36.164924Z",
     "shell.execute_reply": "2023-02-19T04:44:36.163734Z"
    },
    "papermill": {
     "duration": 0.021469,
     "end_time": "2023-02-19T04:44:36.167741",
     "exception": false,
     "start_time": "2023-02-19T04:44:36.146272",
     "status": "completed"
    },
    "tags": []
   },
   "outputs": [],
   "source": [
    "labels: dict = json.load(open(\"/kaggle/input/bic-dataframe-v2/labels.json\", \"r\"))\n",
    "    \n",
    "    \n",
    "def breaker() -> None:\n",
    "    print(\"\\n\" + 50*\"*\" + \"\\n\")\n",
    "\n",
    "\n",
    "def get_image(path: str) -> np.ndarray:\n",
    "    image = cv2.imread(path, cv2.IMREAD_COLOR)\n",
    "    image = cv2.cvtColor(src=image, code=cv2.COLOR_BGR2RGB)\n",
    "    if image.shape == (224, 224, 3): \n",
    "        return image\n",
    "    return cv2.resize(src=image, dsize=(224, 224), interpolation=cv2.INTER_AREA)"
   ]
  },
  {
   "cell_type": "code",
   "execution_count": 4,
   "id": "8f187478",
   "metadata": {
    "execution": {
     "iopub.execute_input": "2023-02-19T04:44:36.175688Z",
     "iopub.status.busy": "2023-02-19T04:44:36.175245Z",
     "iopub.status.idle": "2023-02-19T04:44:36.183965Z",
     "shell.execute_reply": "2023-02-19T04:44:36.182996Z"
    },
    "papermill": {
     "duration": 0.015157,
     "end_time": "2023-02-19T04:44:36.186058",
     "exception": false,
     "start_time": "2023-02-19T04:44:36.170901",
     "status": "completed"
    },
    "tags": []
   },
   "outputs": [],
   "source": [
    "class Model(torch.nn.Module):\n",
    "    def __init__(self):\n",
    "        super(Model, self).__init__()\n",
    "        \n",
    "        self.model = timm.create_model(model_name=\"efficientnet_b4\", pretrained=False)\n",
    "        self.model.classifier = torch.nn.Linear(in_features=self.model.classifier.in_features, out_features=500)\n",
    "\n",
    "    def forward(self, x):\n",
    "        return self.model(x)\n",
    "    \n",
    "    \n",
    "class CFG(object):  \n",
    "    def __init__(\n",
    "        self, \n",
    "        in_channels: int=3, \n",
    "        size: int=256, \n",
    "        opset_version: int=9, \n",
    "        path: str=None\n",
    "    ):\n",
    "        self.in_channels = in_channels\n",
    "        self.size = size\n",
    "        self.dummy = torch.randn(1, self.in_channels, self.size, self.size)\n",
    "        self.opset_version = opset_version\n",
    "        self.path = path"
   ]
  },
  {
   "cell_type": "code",
   "execution_count": 5,
   "id": "e4d565de",
   "metadata": {
    "execution": {
     "iopub.execute_input": "2023-02-19T04:44:36.194237Z",
     "iopub.status.busy": "2023-02-19T04:44:36.193549Z",
     "iopub.status.idle": "2023-02-19T04:45:30.093427Z",
     "shell.execute_reply": "2023-02-19T04:45:30.092223Z"
    },
    "papermill": {
     "duration": 53.907425,
     "end_time": "2023-02-19T04:45:30.096572",
     "exception": false,
     "start_time": "2023-02-19T04:44:36.189147",
     "status": "completed"
    },
    "tags": []
   },
   "outputs": [],
   "source": [
    "for v in [\"a\", \"l\"]:\n",
    "    cfg = CFG(\n",
    "        in_channels=3, \n",
    "        size=224, \n",
    "        opset_version=13, \n",
    "        path=f\"/kaggle/input/bic-en4-a224-e5-f1-v2/saves/b{v}e_state_fold_1.pt\"\n",
    "    )\n",
    "\n",
    "    model = Model()\n",
    "    model.load_state_dict(torch.load(cfg.path, map_location=torch.device(\"cpu\"))[\"model_state_dict\"])\n",
    "    model.eval()\n",
    "\n",
    "    clear_output()\n",
    "\n",
    "    # param_size: float = 0\n",
    "    # for param in model.parameters():\n",
    "    #     param_size += param.nelement() * param.element_size()\n",
    "\n",
    "    # buffer_size: float = 0\n",
    "    # for buffer in model.buffers():\n",
    "    #     buffer_size += buffer.nelement() * buffer.element_size()\n",
    "\n",
    "    # size_all_mb: float = (param_size + buffer_size) / 1024**2\n",
    "\n",
    "    # breaker()\n",
    "    # print(f\"Model size: {size_all_mb:.3f} MB\")\n",
    "    # breaker()\n",
    "\n",
    "    torch.onnx.export(\n",
    "        model=model, \n",
    "        args=cfg.dummy, \n",
    "        f=f\"onnx/b{v}e_model_f1.onnx\", \n",
    "        input_names=[\"input\"], \n",
    "        output_names=[\"output\"], \n",
    "        opset_version=cfg.opset_version,\n",
    "        export_params=True,\n",
    "        training=torch.onnx.TrainingMode.EVAL,\n",
    "        operator_export_type=torch.onnx.OperatorExportTypes.ONNX_ATEN_FALLBACK,\n",
    "        dynamic_axes={\n",
    "          \"input\"  : {0 : \"batch_size\"},\n",
    "          \"output\" : {0 : \"batch_size\"},\n",
    "        }\n",
    "    )"
   ]
  },
  {
   "cell_type": "code",
   "execution_count": 6,
   "id": "9f57b9d4",
   "metadata": {
    "execution": {
     "iopub.execute_input": "2023-02-19T04:45:30.104951Z",
     "iopub.status.busy": "2023-02-19T04:45:30.104537Z",
     "iopub.status.idle": "2023-02-19T04:45:30.116183Z",
     "shell.execute_reply": "2023-02-19T04:45:30.114779Z"
    },
    "papermill": {
     "duration": 0.018835,
     "end_time": "2023-02-19T04:45:30.118714",
     "exception": false,
     "start_time": "2023-02-19T04:45:30.099879",
     "status": "completed"
    },
    "tags": []
   },
   "outputs": [],
   "source": [
    "class OnnxModel(object):\n",
    "    def __init__(self, path: str) -> None:\n",
    "        self.ort_session = None\n",
    "        self.size: int = 224\n",
    "        \n",
    "        self.mean: list = [0.47369, 0.46875, 0.39554]\n",
    "        self.std: list  = [0.20354, 0.20034, 0.20519]\n",
    "        \n",
    "        self.path: str = path\n",
    "    \n",
    "        model = onnx.load(self.path)\n",
    "        onnx.checker.check_model(model)\n",
    "        self.ort_session = ort.InferenceSession(self.path)\n",
    "    \n",
    "    def infer(self, image: np.ndarray, labels: dict) -> np.ndarray:\n",
    "        image = image / 255\n",
    "        image = cv2.resize(src=image, dsize=(self.size, self.size), interpolation=cv2.INTER_AREA).transpose(2, 0, 1)\n",
    "        for i in range(image.shape[0]): image[i, :, :] = (image[i, :, :] - self.mean[i]) / self.std[i]\n",
    "        image = np.expand_dims(image, axis=0)\n",
    "        input = {self.ort_session.get_inputs()[0].name : image.astype(\"float32\")}\n",
    "        return labels[str(np.argmax(self.ort_session.run(None, input)))].title()"
   ]
  },
  {
   "cell_type": "code",
   "execution_count": 7,
   "id": "157b6068",
   "metadata": {
    "execution": {
     "iopub.execute_input": "2023-02-19T04:45:30.126575Z",
     "iopub.status.busy": "2023-02-19T04:45:30.126121Z",
     "iopub.status.idle": "2023-02-19T04:45:33.841041Z",
     "shell.execute_reply": "2023-02-19T04:45:33.839689Z"
    },
    "papermill": {
     "duration": 3.722092,
     "end_time": "2023-02-19T04:45:33.843861",
     "exception": false,
     "start_time": "2023-02-19T04:45:30.121769",
     "status": "completed"
    },
    "tags": []
   },
   "outputs": [
    {
     "name": "stdout",
     "output_type": "stream",
     "text": [
      "\n",
      "**************************************************\n",
      "\n",
      "BAE_MODEL_F1.ONNX\n",
      "\n",
      "Yellow Bellied Flowerpecker, Yellow Bellied Flowerpecker\n",
      "Ring-Necked Pheasant, Ring-Necked Pheasant\n",
      "Ovenbird, Ovenbird\n",
      "Venezuelian Troupial, Venezuelian Troupial\n",
      "Golden Pheasant, Golden Pheasant\n",
      "Blue Dacnis, Blue Dacnis\n",
      "King Vulture, King Vulture\n",
      "Turkey Vulture, Turkey Vulture\n",
      "Helmet Vanga, Helmet Vanga\n",
      "\n",
      "**************************************************\n",
      "\n",
      "BLE_MODEL_F1.ONNX\n",
      "\n",
      "Asian Dollard Bird, Asian Dollard Bird\n",
      "Collared Aracari, Collared Aracari\n",
      "Superb Starling, Superb Starling\n",
      "Caatinga Cacholote, Caatinga Cacholote\n",
      "Red Fody, Red Fody\n",
      "Bald Ibis, Bald Ibis\n",
      "Kagu, Kagu\n",
      "Northern Beardless Tyrannulet, Northern Beardless Tyrannulet\n",
      "Striated Caracara, Striated Caracara\n",
      "\n",
      "**************************************************\n",
      "\n"
     ]
    }
   ],
   "source": [
    "df = pd.read_csv(\"/kaggle/input/bic-dataframe-v2/test.csv\")\n",
    "\n",
    "\n",
    "breaker()\n",
    "for model_name in sorted(os.listdir(\"onnx\")):\n",
    "    \n",
    "    onnx_model = OnnxModel(f\"onnx/{model_name}\")\n",
    "    \n",
    "    print(f\"{model_name.upper()}\\n\")\n",
    "    \n",
    "    for i in range(9):\n",
    "        index = r.randint(0, len(df)-1)\n",
    "\n",
    "        filepath = df.iloc[index, 0]\n",
    "        y_true   = df.iloc[index, 1]\n",
    "\n",
    "        image = get_image(filepath)\n",
    "\n",
    "        y_pred = onnx_model.infer(image, labels)\n",
    "        \n",
    "        print(f\"{labels[str(y_true)].title()}, {y_pred}\")\n",
    "\n",
    "    breaker()"
   ]
  }
 ],
 "metadata": {
  "kernelspec": {
   "display_name": "Python 3",
   "language": "python",
   "name": "python3"
  },
  "language_info": {
   "codemirror_mode": {
    "name": "ipython",
    "version": 3
   },
   "file_extension": ".py",
   "mimetype": "text/x-python",
   "name": "python",
   "nbconvert_exporter": "python",
   "pygments_lexer": "ipython3",
   "version": "3.7.12"
  },
  "papermill": {
   "default_parameters": {},
   "duration": 108.325889,
   "end_time": "2023-02-19T04:45:34.971481",
   "environment_variables": {},
   "exception": null,
   "input_path": "__notebook__.ipynb",
   "output_path": "__notebook__.ipynb",
   "parameters": {},
   "start_time": "2023-02-19T04:43:46.645592",
   "version": "2.3.4"
  }
 },
 "nbformat": 4,
 "nbformat_minor": 5
}
