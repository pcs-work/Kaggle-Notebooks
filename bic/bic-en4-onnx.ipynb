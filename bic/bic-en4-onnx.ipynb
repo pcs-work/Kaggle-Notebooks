{
 "cells": [
  {
   "cell_type": "code",
   "execution_count": 1,
   "id": "2c7c6e20",
   "metadata": {
    "_cell_guid": "b1076dfc-b9ad-4769-8c92-a6c4dae69d19",
    "_uuid": "8f2839f25d086af736a60e9eeb907d3b93b6e0e5",
    "execution": {
     "iopub.execute_input": "2023-02-13T04:41:25.337242Z",
     "iopub.status.busy": "2023-02-13T04:41:25.336761Z",
     "iopub.status.idle": "2023-02-13T04:42:00.388520Z",
     "shell.execute_reply": "2023-02-13T04:42:00.386874Z"
    },
    "papermill": {
     "duration": 35.06238,
     "end_time": "2023-02-13T04:42:00.393678",
     "exception": false,
     "start_time": "2023-02-13T04:41:25.331298",
     "status": "completed"
    },
    "tags": []
   },
   "outputs": [
    {
     "name": "stderr",
     "output_type": "stream",
     "text": [
      "WARNING: Running pip as the 'root' user can result in broken permissions and conflicting behaviour with the system package manager. It is recommended to use a virtual environment instead: https://pip.pypa.io/warnings/venv\n",
      "WARNING: Running pip as the 'root' user can result in broken permissions and conflicting behaviour with the system package manager. It is recommended to use a virtual environment instead: https://pip.pypa.io/warnings/venv\n",
      "WARNING: Running pip as the 'root' user can result in broken permissions and conflicting behaviour with the system package manager. It is recommended to use a virtual environment instead: https://pip.pypa.io/warnings/venv\n"
     ]
    }
   ],
   "source": [
    "%%bash\n",
    "pip install timm -q\n",
    "pip install onnx -q\n",
    "pip install onnxruntime -q"
   ]
  },
  {
   "cell_type": "code",
   "execution_count": 2,
   "id": "ce653082",
   "metadata": {
    "execution": {
     "iopub.execute_input": "2023-02-13T04:42:00.402723Z",
     "iopub.status.busy": "2023-02-13T04:42:00.402324Z",
     "iopub.status.idle": "2023-02-13T04:42:03.791190Z",
     "shell.execute_reply": "2023-02-13T04:42:03.790131Z"
    },
    "papermill": {
     "duration": 3.396729,
     "end_time": "2023-02-13T04:42:03.794215",
     "exception": false,
     "start_time": "2023-02-13T04:42:00.397486",
     "status": "completed"
    },
    "tags": []
   },
   "outputs": [],
   "source": [
    "import os\n",
    "import sys\n",
    "import cv2\n",
    "import json\n",
    "import onnx\n",
    "import timm\n",
    "import torch\n",
    "import random as r\n",
    "import numpy as np\n",
    "import pandas as pd\n",
    "import onnxruntime as ort\n",
    "import matplotlib.pyplot as plt\n",
    "\n",
    "from typing import Union\n",
    "from torchvision import models\n",
    "from IPython.display import clear_output\n",
    "\n",
    "import warnings\n",
    "warnings.filterwarnings(\"ignore\")\n",
    "\n",
    "if not os.path.exists(\"onnx\"): os.makedirs(\"onnx\")\n",
    "    \n",
    "ort.set_default_logger_severity(3)"
   ]
  },
  {
   "cell_type": "code",
   "execution_count": 3,
   "id": "bc958f4f",
   "metadata": {
    "execution": {
     "iopub.execute_input": "2023-02-13T04:42:03.802330Z",
     "iopub.status.busy": "2023-02-13T04:42:03.801908Z",
     "iopub.status.idle": "2023-02-13T04:42:03.823482Z",
     "shell.execute_reply": "2023-02-13T04:42:03.822262Z"
    },
    "papermill": {
     "duration": 0.029055,
     "end_time": "2023-02-13T04:42:03.826315",
     "exception": false,
     "start_time": "2023-02-13T04:42:03.797260",
     "status": "completed"
    },
    "tags": []
   },
   "outputs": [],
   "source": [
    "labels: dict = json.load(open(\"/kaggle/input/bic-dataframe/labels.json\", \"r\"))\n",
    "    \n",
    "    \n",
    "def breaker() -> None:\n",
    "    print(\"\\n\" + 50*\"*\" + \"\\n\")\n",
    "\n",
    "\n",
    "def get_image(path: str) -> np.ndarray:\n",
    "    image = cv2.imread(path, cv2.IMREAD_COLOR)\n",
    "    image = cv2.cvtColor(src=image, code=cv2.COLOR_BGR2RGB)\n",
    "    if image.shape == (224, 224, 3): \n",
    "        return image\n",
    "    return cv2.resize(src=image, dsize=(224, 224), interpolation=cv2.INTER_AREA)"
   ]
  },
  {
   "cell_type": "code",
   "execution_count": 4,
   "id": "41138d7f",
   "metadata": {
    "execution": {
     "iopub.execute_input": "2023-02-13T04:42:03.834069Z",
     "iopub.status.busy": "2023-02-13T04:42:03.833603Z",
     "iopub.status.idle": "2023-02-13T04:42:03.842395Z",
     "shell.execute_reply": "2023-02-13T04:42:03.841379Z"
    },
    "papermill": {
     "duration": 0.015549,
     "end_time": "2023-02-13T04:42:03.845008",
     "exception": false,
     "start_time": "2023-02-13T04:42:03.829459",
     "status": "completed"
    },
    "tags": []
   },
   "outputs": [],
   "source": [
    "class Model(torch.nn.Module):\n",
    "    def __init__(self):\n",
    "        super(Model, self).__init__()\n",
    "        \n",
    "        self.model = timm.create_model(model_name=\"efficientnet_b4\", pretrained=False)\n",
    "        self.model.classifier = torch.nn.Linear(in_features=self.model.classifier.in_features, out_features=475)\n",
    "\n",
    "    def forward(self, x):\n",
    "        return self.model(x)\n",
    "    \n",
    "    \n",
    "class CFG(object):  \n",
    "    def __init__(\n",
    "        self, \n",
    "        in_channels: int=3, \n",
    "        size: int=256, \n",
    "        opset_version: int=9, \n",
    "        path: str=None\n",
    "    ):\n",
    "        self.in_channels = in_channels\n",
    "        self.size = size\n",
    "        self.dummy = torch.randn(1, self.in_channels, self.size, self.size)\n",
    "        self.opset_version = opset_version\n",
    "        self.path = path"
   ]
  },
  {
   "cell_type": "code",
   "execution_count": 5,
   "id": "2db2a2ef",
   "metadata": {
    "execution": {
     "iopub.execute_input": "2023-02-13T04:42:03.852249Z",
     "iopub.status.busy": "2023-02-13T04:42:03.851826Z",
     "iopub.status.idle": "2023-02-13T04:42:55.264553Z",
     "shell.execute_reply": "2023-02-13T04:42:55.263506Z"
    },
    "papermill": {
     "duration": 51.41942,
     "end_time": "2023-02-13T04:42:55.267415",
     "exception": false,
     "start_time": "2023-02-13T04:42:03.847995",
     "status": "completed"
    },
    "tags": []
   },
   "outputs": [],
   "source": [
    "for v in [\"a\", \"l\"]:\n",
    "    cfg = CFG(\n",
    "        in_channels=3, \n",
    "        size=224, \n",
    "        opset_version=13, \n",
    "        path=f\"/kaggle/input/bic-en4-a224-e5-f2/saves/b{v}e_state_fold_2.pt\"\n",
    "    )\n",
    "\n",
    "    model = Model()\n",
    "    model.load_state_dict(torch.load(cfg.path, map_location=torch.device(\"cpu\"))[\"model_state_dict\"])\n",
    "    model.eval()\n",
    "\n",
    "    clear_output()\n",
    "\n",
    "    # param_size: float = 0\n",
    "    # for param in model.parameters():\n",
    "    #     param_size += param.nelement() * param.element_size()\n",
    "\n",
    "    # buffer_size: float = 0\n",
    "    # for buffer in model.buffers():\n",
    "    #     buffer_size += buffer.nelement() * buffer.element_size()\n",
    "\n",
    "    # size_all_mb: float = (param_size + buffer_size) / 1024**2\n",
    "\n",
    "    # breaker()\n",
    "    # print(f\"Model size: {size_all_mb:.3f} MB\")\n",
    "    # breaker()\n",
    "\n",
    "    torch.onnx.export(\n",
    "        model=model, \n",
    "        args=cfg.dummy, \n",
    "        f=f\"onnx/b{v}e_model_f2.onnx\", \n",
    "        input_names=[\"input\"], \n",
    "        output_names=[\"output\"], \n",
    "        opset_version=cfg.opset_version,\n",
    "        export_params=True,\n",
    "        training=torch.onnx.TrainingMode.EVAL,\n",
    "        operator_export_type=torch.onnx.OperatorExportTypes.ONNX_ATEN_FALLBACK,\n",
    "        dynamic_axes={\n",
    "          \"input\"  : {0 : \"batch_size\"},\n",
    "          \"output\" : {0 : \"batch_size\"},\n",
    "        }\n",
    "    )"
   ]
  },
  {
   "cell_type": "code",
   "execution_count": 6,
   "id": "724625b0",
   "metadata": {
    "execution": {
     "iopub.execute_input": "2023-02-13T04:42:55.275996Z",
     "iopub.status.busy": "2023-02-13T04:42:55.274702Z",
     "iopub.status.idle": "2023-02-13T04:42:55.285842Z",
     "shell.execute_reply": "2023-02-13T04:42:55.284465Z"
    },
    "papermill": {
     "duration": 0.017945,
     "end_time": "2023-02-13T04:42:55.288406",
     "exception": false,
     "start_time": "2023-02-13T04:42:55.270461",
     "status": "completed"
    },
    "tags": []
   },
   "outputs": [],
   "source": [
    "class OnnxModel(object):\n",
    "    def __init__(self, path: str) -> None:\n",
    "        self.ort_session = None\n",
    "        self.size: int = 224\n",
    "        \n",
    "        self.mean: list = [0.47205, 0.46786, 0.39469]\n",
    "        self.std: list  = [0.20404, 0.20082, 0.20548]\n",
    "        \n",
    "        self.path: str = path\n",
    "    \n",
    "        model = onnx.load(self.path)\n",
    "        onnx.checker.check_model(model)\n",
    "        self.ort_session = ort.InferenceSession(self.path)\n",
    "    \n",
    "    def infer(self, image: np.ndarray, labels: dict) -> np.ndarray:\n",
    "        image = image / 255\n",
    "        image = cv2.resize(src=image, dsize=(self.size, self.size), interpolation=cv2.INTER_AREA).transpose(2, 0, 1)\n",
    "        for i in range(image.shape[0]): image[i, :, :] = (image[i, :, :] - self.mean[i]) / self.std[i]\n",
    "        image = np.expand_dims(image, axis=0)\n",
    "        input = {self.ort_session.get_inputs()[0].name : image.astype(\"float32\")}\n",
    "        return labels[str(np.argmax(self.ort_session.run(None, input)))].title()"
   ]
  },
  {
   "cell_type": "code",
   "execution_count": 7,
   "id": "91ea9009",
   "metadata": {
    "execution": {
     "iopub.execute_input": "2023-02-13T04:42:55.295887Z",
     "iopub.status.busy": "2023-02-13T04:42:55.295466Z",
     "iopub.status.idle": "2023-02-13T04:42:59.116040Z",
     "shell.execute_reply": "2023-02-13T04:42:59.114624Z"
    },
    "papermill": {
     "duration": 3.828573,
     "end_time": "2023-02-13T04:42:59.119976",
     "exception": false,
     "start_time": "2023-02-13T04:42:55.291403",
     "status": "completed"
    },
    "tags": []
   },
   "outputs": [
    {
     "name": "stdout",
     "output_type": "stream",
     "text": [
      "\n",
      "**************************************************\n",
      "\n",
      "BAE_MODEL_F2.ONNX\n",
      "\n",
      "Crested Serpent Eagle, Crested Serpent Eagle\n",
      "Red Headed Duck, Red Headed Duck\n",
      "Lesser Adjutant, Lesser Adjutant\n",
      "Chattering Lory, Chattering Lory\n",
      "Crimson Chat, Crimson Chat\n",
      "Kookaburra, Kookaburra\n",
      "American Wigeon, American Wigeon\n",
      "Takahe, Takahe\n",
      "Tricolored Blackbird, Tricolored Blackbird\n",
      "\n",
      "**************************************************\n",
      "\n",
      "BLE_MODEL_F2.ONNX\n",
      "\n",
      "Pygmy Kingfisher, Pygmy Kingfisher\n",
      "Cinnamon Attila, Cinnamon Attila\n",
      "Yellow Headed Blackbird, Yellow Headed Blackbird\n",
      "Steamer Duck, Steamer Duck\n",
      "Wild Turkey, Wild Turkey\n",
      "Iberian Magpie, Iberian Magpie\n",
      "Swinhoes Pheasant, Swinhoes Pheasant\n",
      "Masked Bobwhite, Masked Bobwhite\n",
      "Azure Breasted Pitta, Azure Breasted Pitta\n",
      "\n",
      "**************************************************\n",
      "\n"
     ]
    }
   ],
   "source": [
    "df = pd.read_csv(\"/kaggle/input/bic-dataframe/test.csv\")\n",
    "\n",
    "\n",
    "breaker()\n",
    "for model_name in sorted(os.listdir(\"onnx\")):\n",
    "    \n",
    "    onnx_model = OnnxModel(f\"onnx/{model_name}\")\n",
    "    \n",
    "    print(f\"{model_name.upper()}\\n\")\n",
    "    \n",
    "    for i in range(9):\n",
    "        index = r.randint(0, len(df)-1)\n",
    "\n",
    "        filepath = df.iloc[index, 0]\n",
    "        y_true   = df.iloc[index, 1]\n",
    "\n",
    "        image = get_image(filepath)\n",
    "\n",
    "        y_pred = onnx_model.infer(image, labels)\n",
    "        \n",
    "        print(f\"{labels[str(y_true)].title()}, {y_pred}\")\n",
    "\n",
    "    breaker()"
   ]
  }
 ],
 "metadata": {
  "kernelspec": {
   "display_name": "Python 3",
   "language": "python",
   "name": "python3"
  },
  "language_info": {
   "codemirror_mode": {
    "name": "ipython",
    "version": 3
   },
   "file_extension": ".py",
   "mimetype": "text/x-python",
   "name": "python",
   "nbconvert_exporter": "python",
   "pygments_lexer": "ipython3",
   "version": "3.7.12"
  },
  "papermill": {
   "default_parameters": {},
   "duration": 103.397683,
   "end_time": "2023-02-13T04:43:00.249688",
   "environment_variables": {},
   "exception": null,
   "input_path": "__notebook__.ipynb",
   "output_path": "__notebook__.ipynb",
   "parameters": {},
   "start_time": "2023-02-13T04:41:16.852005",
   "version": "2.3.4"
  }
 },
 "nbformat": 4,
 "nbformat_minor": 5
}
