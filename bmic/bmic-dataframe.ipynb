{
 "cells": [
  {
   "cell_type": "code",
   "execution_count": 1,
   "id": "15eb5f75",
   "metadata": {
    "_cell_guid": "b1076dfc-b9ad-4769-8c92-a6c4dae69d19",
    "_uuid": "8f2839f25d086af736a60e9eeb907d3b93b6e0e5",
    "execution": {
     "iopub.execute_input": "2023-02-22T04:39:03.095522Z",
     "iopub.status.busy": "2023-02-22T04:39:03.095045Z",
     "iopub.status.idle": "2023-02-22T04:39:03.335299Z",
     "shell.execute_reply": "2023-02-22T04:39:03.333993Z"
    },
    "papermill": {
     "duration": 0.249156,
     "end_time": "2023-02-22T04:39:03.338630",
     "exception": false,
     "start_time": "2023-02-22T04:39:03.089474",
     "status": "completed"
    },
    "tags": []
   },
   "outputs": [],
   "source": [
    "import os\n",
    "import cv2\n",
    "import json\n",
    "import numpy as np\n",
    "import pandas as pd\n",
    "\n",
    "BASE_PATH: str = \"/kaggle/input/butterfly-images40-species\""
   ]
  },
  {
   "cell_type": "code",
   "execution_count": 2,
   "id": "aea79995",
   "metadata": {
    "execution": {
     "iopub.execute_input": "2023-02-22T04:39:03.345455Z",
     "iopub.status.busy": "2023-02-22T04:39:03.345021Z",
     "iopub.status.idle": "2023-02-22T04:39:03.365306Z",
     "shell.execute_reply": "2023-02-22T04:39:03.364006Z"
    },
    "papermill": {
     "duration": 0.026545,
     "end_time": "2023-02-22T04:39:03.367927",
     "exception": false,
     "start_time": "2023-02-22T04:39:03.341382",
     "status": "completed"
    },
    "tags": []
   },
   "outputs": [],
   "source": [
    "tr_df: pd.DataFrame = pd.DataFrame(data=None, columns=[\"filepaths\", \"labels\"])\n",
    "ts_df: pd.DataFrame = pd.DataFrame(data=None, columns=[\"filepaths\", \"labels\"])\n",
    "fu_df: pd.DataFrame = pd.DataFrame(data=None, columns=[\"filepaths\", \"labels\"]) "
   ]
  },
  {
   "cell_type": "code",
   "execution_count": 3,
   "id": "bf25f1ee",
   "metadata": {
    "execution": {
     "iopub.execute_input": "2023-02-22T04:39:03.374661Z",
     "iopub.status.busy": "2023-02-22T04:39:03.374263Z",
     "iopub.status.idle": "2023-02-22T04:39:10.213452Z",
     "shell.execute_reply": "2023-02-22T04:39:10.212019Z"
    },
    "papermill": {
     "duration": 6.846079,
     "end_time": "2023-02-22T04:39:10.216521",
     "exception": false,
     "start_time": "2023-02-22T04:39:03.370442",
     "status": "completed"
    },
    "tags": []
   },
   "outputs": [],
   "source": [
    "tr_filepaths: list = []\n",
    "tr_labels: list = []\n",
    "\n",
    "va_filepaths: list = []\n",
    "va_labels: list = []\n",
    "\n",
    "i: int = 0\n",
    "for folder in sorted(os.listdir(f\"{BASE_PATH}/train\")):\n",
    "    for filename in os.listdir(f\"{BASE_PATH}/train/{folder}\"):\n",
    "        tr_filepaths.append(os.path.join(f\"{BASE_PATH}/train/{folder}\", filename))\n",
    "        tr_labels.append(i)\n",
    "    i += 1\n",
    "   \n",
    "i: int = 0\n",
    "for folder in sorted(os.listdir(f\"{BASE_PATH}/valid\")):\n",
    "    for filename in os.listdir(f\"{BASE_PATH}/valid/{folder}\"):\n",
    "        va_filepaths.append(os.path.join(f\"{BASE_PATH}/valid/{folder}\", filename))\n",
    "        va_labels.append(i)\n",
    "    i += 1\n",
    "\n",
    "tr_df.filepaths = tr_filepaths + va_filepaths\n",
    "tr_df.labels = tr_labels + va_labels\n",
    "tr_df.to_csv(\"train.csv\", index=False)"
   ]
  },
  {
   "cell_type": "code",
   "execution_count": 4,
   "id": "b906c9f8",
   "metadata": {
    "execution": {
     "iopub.execute_input": "2023-02-22T04:39:10.223643Z",
     "iopub.status.busy": "2023-02-22T04:39:10.223235Z",
     "iopub.status.idle": "2023-02-22T04:39:11.143093Z",
     "shell.execute_reply": "2023-02-22T04:39:11.141653Z"
    },
    "papermill": {
     "duration": 0.927291,
     "end_time": "2023-02-22T04:39:11.146468",
     "exception": false,
     "start_time": "2023-02-22T04:39:10.219177",
     "status": "completed"
    },
    "tags": []
   },
   "outputs": [],
   "source": [
    "filepaths: list = []\n",
    "labels: list = []\n",
    "\n",
    "i: int = 0    \n",
    "for folder in sorted(os.listdir(f\"{BASE_PATH}/test\")):\n",
    "    for filename in os.listdir(f\"{BASE_PATH}/test/{folder}\"):\n",
    "        filepaths.append(os.path.join(f\"{BASE_PATH}/test/{folder}\", filename))\n",
    "        labels.append(i)\n",
    "    i += 1\n",
    "\n",
    "ts_df.filepaths = filepaths\n",
    "ts_df.labels = labels\n",
    "ts_df.to_csv(\"test.csv\", index=False)"
   ]
  },
  {
   "cell_type": "code",
   "execution_count": 5,
   "id": "ac6f232d",
   "metadata": {
    "execution": {
     "iopub.execute_input": "2023-02-22T04:39:11.153497Z",
     "iopub.status.busy": "2023-02-22T04:39:11.153083Z",
     "iopub.status.idle": "2023-02-22T04:39:11.201292Z",
     "shell.execute_reply": "2023-02-22T04:39:11.199852Z"
    },
    "papermill": {
     "duration": 0.054989,
     "end_time": "2023-02-22T04:39:11.204169",
     "exception": false,
     "start_time": "2023-02-22T04:39:11.149180",
     "status": "completed"
    },
    "tags": []
   },
   "outputs": [],
   "source": [
    "fu_df.filepaths = tr_filepaths + va_filepaths + filepaths\n",
    "fu_df.labels = tr_labels + va_labels + labels\n",
    "fu_df.to_csv(\"full.csv\", index=False)"
   ]
  },
  {
   "cell_type": "code",
   "execution_count": 6,
   "id": "b86c67b4",
   "metadata": {
    "execution": {
     "iopub.execute_input": "2023-02-22T04:39:11.213974Z",
     "iopub.status.busy": "2023-02-22T04:39:11.213518Z",
     "iopub.status.idle": "2023-02-22T04:39:11.220824Z",
     "shell.execute_reply": "2023-02-22T04:39:11.219810Z"
    },
    "papermill": {
     "duration": 0.0165,
     "end_time": "2023-02-22T04:39:11.223354",
     "exception": false,
     "start_time": "2023-02-22T04:39:11.206854",
     "status": "completed"
    },
    "tags": []
   },
   "outputs": [],
   "source": [
    "labels: dict = dict()\n",
    "\n",
    "i = 0\n",
    "for folder in sorted(os.listdir(f\"{BASE_PATH}/train\")):\n",
    "    labels[i] = folder\n",
    "    i += 1\n",
    "\n",
    "json.dump(labels, open(\"labels.json\", \"w\"))"
   ]
  }
 ],
 "metadata": {
  "kernelspec": {
   "display_name": "Python 3",
   "language": "python",
   "name": "python3"
  },
  "language_info": {
   "codemirror_mode": {
    "name": "ipython",
    "version": 3
   },
   "file_extension": ".py",
   "mimetype": "text/x-python",
   "name": "python",
   "nbconvert_exporter": "python",
   "pygments_lexer": "ipython3",
   "version": "3.7.12"
  },
  "papermill": {
   "default_parameters": {},
   "duration": 18.501514,
   "end_time": "2023-02-22T04:39:11.949185",
   "environment_variables": {},
   "exception": null,
   "input_path": "__notebook__.ipynb",
   "output_path": "__notebook__.ipynb",
   "parameters": {},
   "start_time": "2023-02-22T04:38:53.447671",
   "version": "2.3.4"
  }
 },
 "nbformat": 4,
 "nbformat_minor": 5
}
