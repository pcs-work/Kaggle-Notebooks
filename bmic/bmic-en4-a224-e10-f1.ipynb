{
 "cells": [
  {
   "cell_type": "markdown",
   "id": "a34595d3",
   "metadata": {
    "_cell_guid": "b1076dfc-b9ad-4769-8c92-a6c4dae69d19",
    "_uuid": "8f2839f25d086af736a60e9eeb907d3b93b6e0e5",
    "papermill": {
     "duration": 0.004783,
     "end_time": "2023-02-22T05:48:58.007831",
     "exception": false,
     "start_time": "2023-02-22T05:48:58.003048",
     "status": "completed"
    },
    "tags": []
   },
   "source": [
    "### **Setup**"
   ]
  },
  {
   "cell_type": "code",
   "execution_count": 1,
   "id": "7c2030c3",
   "metadata": {
    "execution": {
     "iopub.execute_input": "2023-02-22T05:48:58.020425Z",
     "iopub.status.busy": "2023-02-22T05:48:58.019495Z",
     "iopub.status.idle": "2023-02-22T05:49:07.821996Z",
     "shell.execute_reply": "2023-02-22T05:49:07.820557Z"
    },
    "papermill": {
     "duration": 9.810671,
     "end_time": "2023-02-22T05:49:07.824811",
     "exception": false,
     "start_time": "2023-02-22T05:48:58.014140",
     "status": "completed"
    },
    "tags": []
   },
   "outputs": [
    {
     "name": "stderr",
     "output_type": "stream",
     "text": [
      "bash: /opt/conda/lib/libtinfo.so.6: no version information available (required by bash)\n",
      "WARNING: Running pip as the 'root' user can result in broken permissions and conflicting behaviour with the system package manager. It is recommended to use a virtual environment instead: https://pip.pypa.io/warnings/venv\n"
     ]
    }
   ],
   "source": [
    "%%bash\n",
    "pip install timm -q"
   ]
  },
  {
   "cell_type": "markdown",
   "id": "1a36cb93",
   "metadata": {
    "papermill": {
     "duration": 0.003524,
     "end_time": "2023-02-22T05:49:07.832204",
     "exception": false,
     "start_time": "2023-02-22T05:49:07.828680",
     "status": "completed"
    },
    "tags": []
   },
   "source": [
    "### **Library Imports**"
   ]
  },
  {
   "cell_type": "code",
   "execution_count": 2,
   "id": "483c80b5",
   "metadata": {
    "execution": {
     "iopub.execute_input": "2023-02-22T05:49:07.841459Z",
     "iopub.status.busy": "2023-02-22T05:49:07.840567Z",
     "iopub.status.idle": "2023-02-22T05:49:11.757478Z",
     "shell.execute_reply": "2023-02-22T05:49:11.756154Z"
    },
    "papermill": {
     "duration": 3.924253,
     "end_time": "2023-02-22T05:49:11.760118",
     "exception": false,
     "start_time": "2023-02-22T05:49:07.835865",
     "status": "completed"
    },
    "tags": []
   },
   "outputs": [],
   "source": [
    "import os\n",
    "import re\n",
    "import cv2\n",
    "import timm\n",
    "import torch\n",
    "import numpy as np\n",
    "import pandas as pd\n",
    "import matplotlib.pyplot as plt\n",
    "\n",
    "from time import time\n",
    "from typing import Union\n",
    "from torch import nn, optim\n",
    "from torch.utils.data import Dataset\n",
    "from torch.utils.data import DataLoader as DL\n",
    "from torchvision import transforms\n",
    "\n",
    "from sklearn.model_selection import StratifiedKFold"
   ]
  },
  {
   "cell_type": "markdown",
   "id": "458939f5",
   "metadata": {
    "papermill": {
     "duration": 0.003937,
     "end_time": "2023-02-22T05:49:11.768153",
     "exception": false,
     "start_time": "2023-02-22T05:49:11.764216",
     "status": "completed"
    },
    "tags": []
   },
   "source": [
    "### **Utilities and Helpers**"
   ]
  },
  {
   "cell_type": "code",
   "execution_count": 3,
   "id": "cc824792",
   "metadata": {
    "execution": {
     "iopub.execute_input": "2023-02-22T05:49:11.778109Z",
     "iopub.status.busy": "2023-02-22T05:49:11.776535Z",
     "iopub.status.idle": "2023-02-22T05:49:11.790188Z",
     "shell.execute_reply": "2023-02-22T05:49:11.789276Z"
    },
    "papermill": {
     "duration": 0.020646,
     "end_time": "2023-02-22T05:49:11.792456",
     "exception": false,
     "start_time": "2023-02-22T05:49:11.771810",
     "status": "completed"
    },
    "tags": []
   },
   "outputs": [],
   "source": [
    "SEED: int = 42\n",
    "\n",
    "\n",
    "def breaker(num: int=50, char: str=\"*\") -> None: print(\"\\n\" + num*char + \"\\n\")\n",
    "\n",
    "    \n",
    "def get_image(path: str) -> np.ndarray:\n",
    "    image = cv2.imread(path, cv2.IMREAD_COLOR)\n",
    "    image = cv2.cvtColor(src=image, code=cv2.COLOR_BGR2RGB)\n",
    "    if image.shape == (224, 224, 3): \n",
    "        return image\n",
    "    return cv2.resize(src=image, dsize=(224, 224), interpolation=cv2.INTER_AREA)\n",
    "\n",
    "    \n",
    "def show_loss_graphs(L: list) -> None:\n",
    "    TL, VL = [], []\n",
    "    for i in range(len(L)):\n",
    "        TL.append(L[i][\"train\"])\n",
    "        VL.append(L[i][\"valid\"])\n",
    "    x_Axis = np.arange(1, len(TL) + 1)\n",
    "    plt.figure()\n",
    "    plt.plot(x_Axis, TL, \"r\", label=\"Train\")\n",
    "    plt.plot(x_Axis, VL, \"b\", label=\"Valid\")\n",
    "    plt.legend()\n",
    "    plt.grid()\n",
    "    plt.title(\"Loss Graph\")\n",
    "    plt.show()\n",
    "\n",
    "    \n",
    "def show_accuracy_graphs(A: list) -> None:\n",
    "    TA, VA = [], []\n",
    "    for i in range(len(A)):\n",
    "        TA.append(A[i][\"train\"])\n",
    "        VA.append(A[i][\"valid\"])\n",
    "    x_Axis = np.arange(1, len(TA) + 1)\n",
    "    plt.figure()\n",
    "    plt.plot(x_Axis, TA, \"r\", label=\"Train\")\n",
    "    plt.plot(x_Axis, VA, \"b\", label=\"Valid\")\n",
    "    plt.legend()\n",
    "    plt.grid()\n",
    "    plt.title(\"Accuracy Graph\")\n",
    "    plt.show()\n",
    "    \n",
    "\n",
    "def show_lr_graph(LR: list) -> None:\n",
    "    x_Axis = [i+1 for i in range(len(LR))]\n",
    "    plt.figure(figsize=(8, 6))\n",
    "    plt.plot(x_Axis, LR, \"rx\")\n",
    "    plt.grid()\n",
    "    plt.show()"
   ]
  },
  {
   "cell_type": "markdown",
   "id": "12902224",
   "metadata": {
    "papermill": {
     "duration": 0.003618,
     "end_time": "2023-02-22T05:49:11.800045",
     "exception": false,
     "start_time": "2023-02-22T05:49:11.796427",
     "status": "completed"
    },
    "tags": []
   },
   "source": [
    "\n",
    "\n",
    "### **Configuration**"
   ]
  },
  {
   "cell_type": "code",
   "execution_count": 4,
   "id": "ccde464d",
   "metadata": {
    "execution": {
     "iopub.execute_input": "2023-02-22T05:49:11.810479Z",
     "iopub.status.busy": "2023-02-22T05:49:11.808882Z",
     "iopub.status.idle": "2023-02-22T05:49:11.821184Z",
     "shell.execute_reply": "2023-02-22T05:49:11.820303Z"
    },
    "papermill": {
     "duration": 0.019452,
     "end_time": "2023-02-22T05:49:11.823318",
     "exception": false,
     "start_time": "2023-02-22T05:49:11.803866",
     "status": "completed"
    },
    "tags": []
   },
   "outputs": [],
   "source": [
    "class CFG(object):\n",
    "    def __init__(\n",
    "        self, \n",
    "        seed: int = 42,\n",
    "        n_splits: int = 5,\n",
    "        batch_size: int = 16,\n",
    "        epochs: int = 25,\n",
    "        early_stopping: int = 5,\n",
    "        lr: float = 1e-4,\n",
    "        wd: float = 0.0,\n",
    "        max_lr: float = 1e-3,\n",
    "        pct_start: float = 0.2,\n",
    "        steps_per_epoch: int = 100,\n",
    "        div_factor: int = 1e3, \n",
    "        final_div_factor: float = 1e3,\n",
    "    ):\n",
    "        self.seed = seed\n",
    "        self.n_splits = n_splits\n",
    "        self.batch_size = batch_size\n",
    "        self.epochs = epochs\n",
    "        self.early_stopping = early_stopping\n",
    "        self.lr = lr\n",
    "        self.wd = wd\n",
    "        self.max_lr = max_lr\n",
    "        self.pct_start = pct_start\n",
    "        self.steps_per_epoch = steps_per_epoch\n",
    "        self.div_factor = div_factor\n",
    "        self.final_div_factor = final_div_factor\n",
    "        self.device = torch.device(\"cuda\" if torch.cuda.is_available() else \"cpu\")\n",
    "        \n",
    "        self.train_transform = transforms.Compose([\n",
    "            transforms.ToTensor(),\n",
    "            transforms.Normalize([0.48439, 0.46745, 0.34370], [0.23368, 0.22767, 0.22214]),\n",
    "            transforms.RandomAffine(degrees=(-45, 45), translate=(0.15, 0.15), scale=(0.5, 1.5)),\n",
    "            transforms.RandomHorizontalFlip(p=0.25),\n",
    "            transforms.RandomVerticalFlip(p=0.25),\n",
    "        ])\n",
    "        self.valid_transform = transforms.Compose([\n",
    "            transforms.ToTensor(),\n",
    "            transforms.Normalize([0.48439, 0.46745, 0.34370], [0.23368, 0.22767, 0.22214]),\n",
    "        ])\n",
    "                                \n",
    "        self.save_path = \"saves\"\n",
    "        if not os.path.exists(self.save_path): os.makedirs(self.save_path)\n",
    "    \n",
    "cfg = CFG(\n",
    "    seed=SEED, \n",
    ")"
   ]
  },
  {
   "cell_type": "markdown",
   "id": "ef331122",
   "metadata": {
    "papermill": {
     "duration": 0.003647,
     "end_time": "2023-02-22T05:49:11.830927",
     "exception": false,
     "start_time": "2023-02-22T05:49:11.827280",
     "status": "completed"
    },
    "tags": []
   },
   "source": [
    "### **Dataset Template**"
   ]
  },
  {
   "cell_type": "code",
   "execution_count": 5,
   "id": "cfccf962",
   "metadata": {
    "execution": {
     "iopub.execute_input": "2023-02-22T05:49:11.841142Z",
     "iopub.status.busy": "2023-02-22T05:49:11.839428Z",
     "iopub.status.idle": "2023-02-22T05:49:11.846946Z",
     "shell.execute_reply": "2023-02-22T05:49:11.845992Z"
    },
    "papermill": {
     "duration": 0.014399,
     "end_time": "2023-02-22T05:49:11.849013",
     "exception": false,
     "start_time": "2023-02-22T05:49:11.834614",
     "status": "completed"
    },
    "tags": []
   },
   "outputs": [],
   "source": [
    "class DS(Dataset):\n",
    "    def __init__(\n",
    "        self, \n",
    "        filepaths: np.ndarray, \n",
    "        labels: Union[np.ndarray, None]=None, \n",
    "        transform=None\n",
    "    ):\n",
    "        \n",
    "        self.filepaths = filepaths\n",
    "        self.labels = labels\n",
    "        self.transform = transform\n",
    "    \n",
    "    def __len__(self):\n",
    "        return self.filepaths.shape[0]\n",
    "    \n",
    "    def __getitem__(self, idx):\n",
    "        image = get_image(self.filepaths[idx])\n",
    "        if self.labels is None:\n",
    "            return self.transform(image)\n",
    "        return self.transform(image), torch.LongTensor(self.labels[idx])"
   ]
  },
  {
   "cell_type": "markdown",
   "id": "48d045d7",
   "metadata": {
    "papermill": {
     "duration": 0.004053,
     "end_time": "2023-02-22T05:49:11.856899",
     "exception": false,
     "start_time": "2023-02-22T05:49:11.852846",
     "status": "completed"
    },
    "tags": []
   },
   "source": [
    "### **Model**"
   ]
  },
  {
   "cell_type": "code",
   "execution_count": 6,
   "id": "752586b2",
   "metadata": {
    "execution": {
     "iopub.execute_input": "2023-02-22T05:49:11.865741Z",
     "iopub.status.busy": "2023-02-22T05:49:11.865388Z",
     "iopub.status.idle": "2023-02-22T05:49:11.871296Z",
     "shell.execute_reply": "2023-02-22T05:49:11.870310Z"
    },
    "papermill": {
     "duration": 0.012796,
     "end_time": "2023-02-22T05:49:11.873456",
     "exception": false,
     "start_time": "2023-02-22T05:49:11.860660",
     "status": "completed"
    },
    "tags": []
   },
   "outputs": [],
   "source": [
    "class Model(nn.Module):\n",
    "    def __init__(self):\n",
    "        super(Model, self).__init__()\n",
    "            \n",
    "        self.model = timm.create_model(model_name=\"efficientnet_b4\", pretrained=True)\n",
    "        self.model.classifier = nn.Linear(in_features=self.model.classifier.in_features, out_features=100)\n",
    "\n",
    "    def forward(self, x):\n",
    "        return nn.LogSoftmax(dim=1)(self.model(x))"
   ]
  },
  {
   "cell_type": "markdown",
   "id": "913272c0",
   "metadata": {
    "papermill": {
     "duration": 0.003809,
     "end_time": "2023-02-22T05:49:11.881146",
     "exception": false,
     "start_time": "2023-02-22T05:49:11.877337",
     "status": "completed"
    },
    "tags": []
   },
   "source": [
    "### **Fit and Predict**"
   ]
  },
  {
   "cell_type": "code",
   "execution_count": 7,
   "id": "d078e4ad",
   "metadata": {
    "execution": {
     "iopub.execute_input": "2023-02-22T05:49:11.890798Z",
     "iopub.status.busy": "2023-02-22T05:49:11.890427Z",
     "iopub.status.idle": "2023-02-22T05:49:11.912142Z",
     "shell.execute_reply": "2023-02-22T05:49:11.911041Z"
    },
    "papermill": {
     "duration": 0.029733,
     "end_time": "2023-02-22T05:49:11.914707",
     "exception": false,
     "start_time": "2023-02-22T05:49:11.884974",
     "status": "completed"
    },
    "tags": []
   },
   "outputs": [],
   "source": [
    "def fit(\n",
    "    model=None,\n",
    "    optimizer=None, \n",
    "    scheduler_rlrop=None,\n",
    "    scheduler_oclr=None,\n",
    "    epochs=None, \n",
    "    early_stopping_patience=None, \n",
    "    dataloaders=None, \n",
    "    fold=None, \n",
    "    save_path=None,\n",
    "    device=None,\n",
    "    verbose=False\n",
    ") -> tuple:\n",
    "    \n",
    "    def get_accuracy(y_pred, y_true):\n",
    "        y_pred = torch.argmax(y_pred, dim=1)\n",
    "        return torch.count_nonzero(y_pred == y_true).item() / len(y_pred)\n",
    "    \n",
    "    \n",
    "    if verbose:\n",
    "        breaker()\n",
    "        if fold: print(f\"Training Fold {fold}...\")\n",
    "        else: print(\"Training ...\")\n",
    "        breaker()\n",
    "        \n",
    "    bestLoss: dict = {\"train\" : np.inf, \"valid\" : np.inf} \n",
    "    bestAccs: dict = {\"train\" : 0.0, \"valid\" : 0.0}\n",
    "    \n",
    "    Losses: list = []\n",
    "    Accuracies: list = [] \n",
    "    LRs: list = []\n",
    "        \n",
    "    if fold: \n",
    "        ble_name = f\"ble_state_fold_{fold}.pt\"\n",
    "        bae_name = f\"bae_state_fold_{fold}.pt\"\n",
    "    else: \n",
    "        ble_name = f\"ble_state.pt\"\n",
    "        bae_name = f\"bae_state.pt\"\n",
    "        \n",
    "    start_time = time()\n",
    "    for e in range(epochs):\n",
    "        e_st = time()\n",
    "        epochLoss: dict = {\"train\" : 0.0, \"valid\" : 0.0} \n",
    "        epochAccs: dict = {\"train\" : 0.0, \"valid\" : 0.0}\n",
    "\n",
    "        for phase in [\"train\", \"valid\"]:\n",
    "            if phase == \"train\":\n",
    "                model.train()\n",
    "            else:\n",
    "                model.eval()\n",
    "            \n",
    "            lossPerPass: list = []\n",
    "            accsPerPass: list = []\n",
    "                \n",
    "            for X, y in dataloaders[phase]:\n",
    "                X, y = X.to(device), y.to(device).view(-1)\n",
    "\n",
    "                optimizer.zero_grad()\n",
    "                with torch.set_grad_enabled(phase == \"train\"):\n",
    "                    output = model(X)\n",
    "                    loss = nn.NLLLoss()(output, y)\n",
    "                    if phase == \"train\":\n",
    "                        loss.backward()\n",
    "                        optimizer.step()\n",
    "                        if scheduler_oclr: scheduler_oclr.step()\n",
    "                lossPerPass.append(loss.item())\n",
    "                accsPerPass.append(get_accuracy(output, y))\n",
    "            epochLoss[phase] = np.mean(np.array(lossPerPass))\n",
    "            epochAccs[phase] = np.mean(np.array(accsPerPass))\n",
    "        if scheduler_oclr: LRs.append(scheduler_oclr.get_last_lr())\n",
    "        Losses.append(epochLoss)\n",
    "        Accuracies.append(epochAccs)\n",
    "        \n",
    "        if scheduler_oclr:\n",
    "            save_dict = {\"model_state_dict\"     : model.state_dict(),\n",
    "                         \"optim_state_dict\"     : optimizer.state_dict(),\n",
    "                         \"scheduler_state_dict\" : scheduler_oclr.state_dict()}\n",
    "        \n",
    "        elif scheduler_rlrop:\n",
    "            save_dict = {\"model_state_dict\"     : model.state_dict(),\n",
    "                         \"optim_state_dict\"     : optimizer.state_dict(),\n",
    "                         \"scheduler_state_dict\" : scheduler_rlrop.state_dict()}\n",
    "        \n",
    "        else:\n",
    "            save_dict = {\"model_state_dict\"     : model.state_dict(),\n",
    "                         \"optim_state_dict\"     : optimizer.state_dict()}\n",
    "        \n",
    "        if early_stopping_patience:\n",
    "            if epochLoss[\"valid\"] < bestLoss[\"valid\"]:\n",
    "                bestLoss = epochLoss\n",
    "                BLE = e + 1\n",
    "                torch.save(save_dict, os.path.join(save_path, ble_name))\n",
    "                torch.save(save_dict, os.path.join(save_path, bae_name))\n",
    "                early_stopping_step = 0\n",
    "            else:\n",
    "                early_stopping_step += 1\n",
    "                if early_stopping_step > early_stopping_patience:\n",
    "                    print(\"\\nEarly Stopping at Epoch {}\".format(e + 1))\n",
    "                    break\n",
    "        \n",
    "        if epochLoss[\"valid\"] < bestLoss[\"valid\"]:\n",
    "            bestLoss = epochLoss\n",
    "            BLE = e + 1\n",
    "            torch.save(save_dict,os.path.join(save_path, ble_name))\n",
    "        \n",
    "        if epochAccs[\"valid\"] > bestAccs[\"valid\"]:\n",
    "            bestAccs = epochAccs\n",
    "            BAE = e + 1\n",
    "            torch.save(save_dict,os.path.join(save_path, bae_name))\n",
    "        \n",
    "        if scheduler_rlrop: scheduler_rlrop.step(epochLoss[\"valid\"])\n",
    "        \n",
    "        if verbose:\n",
    "            print(\"Epoch: {} | Train Loss: {:.5f} | Valid Loss: {:.5f} |\\\n",
    " Train Accs: {:.5f} | Valid Accs: {:.5f} | Time: {:.2f} seconds\".format(e+1, \n",
    "                                                                        epochLoss[\"train\"], epochLoss[\"valid\"], \n",
    "                                                                        epochAccs[\"train\"], epochAccs[\"valid\"], \n",
    "                                                                        time()-e_st))\n",
    "\n",
    "    if verbose:                                           \n",
    "        breaker()\n",
    "        print(f\"Best Validation Loss at Epoch {BLE}\")\n",
    "        breaker()\n",
    "        print(f\"Best Validation Accs at Epoch {BAE}\")\n",
    "        breaker()\n",
    "        print(\"Time Taken [{} Epochs] : {:.2f} minutes\".format(len(Losses), (time()-start_time)/60))\n",
    "    \n",
    "    return Losses, Accuracies, LRs, bestLoss, bestAccs, BLE, BAE, ble_name, bae_name\n",
    "\n",
    "\n",
    "# def predict_batch(model=None, dataloader=None, path=None, device=None) -> np.ndarray:\n",
    "#     model.load_state_dict(torch.load(path, map_location=device)[\"model_state_dict\"])\n",
    "#     model.to(device)    \n",
    "#     model.eval()\n",
    "    \n",
    "#     y_pred = torch.zeros(1, 1).to(device)\n",
    "    \n",
    "#     for X in dataloader:\n",
    "#         X = X.to(device)\n",
    "#         with torch.no_grad():\n",
    "#             output = torch.argmax(torch.exp(model(X)), dim=1)\n",
    "#         y_pred = torch.cat((y_pred, output.view(-1, 1)), dim=0)\n",
    "    \n",
    "#     return y_pred[1:].detach().cpu().numpy()"
   ]
  },
  {
   "cell_type": "markdown",
   "id": "60df9ed7",
   "metadata": {
    "papermill": {
     "duration": 0.003784,
     "end_time": "2023-02-22T05:49:11.922496",
     "exception": false,
     "start_time": "2023-02-22T05:49:11.918712",
     "status": "completed"
    },
    "tags": []
   },
   "source": [
    "### **Train**"
   ]
  },
  {
   "cell_type": "code",
   "execution_count": 8,
   "id": "c36a3ecf",
   "metadata": {
    "execution": {
     "iopub.execute_input": "2023-02-22T05:49:11.931681Z",
     "iopub.status.busy": "2023-02-22T05:49:11.931355Z",
     "iopub.status.idle": "2023-02-22T05:49:11.983216Z",
     "shell.execute_reply": "2023-02-22T05:49:11.982200Z"
    },
    "papermill": {
     "duration": 0.059118,
     "end_time": "2023-02-22T05:49:11.985653",
     "exception": false,
     "start_time": "2023-02-22T05:49:11.926535",
     "status": "completed"
    },
    "tags": []
   },
   "outputs": [],
   "source": [
    "df = pd.read_csv(\"/kaggle/input/bmic-dataframe/train.csv\")\n",
    "\n",
    "filepaths = df.filepaths.copy().values\n",
    "labels = df.labels.copy().values"
   ]
  },
  {
   "cell_type": "code",
   "execution_count": 9,
   "id": "74f26d4b",
   "metadata": {
    "execution": {
     "iopub.execute_input": "2023-02-22T05:49:11.995704Z",
     "iopub.status.busy": "2023-02-22T05:49:11.995363Z",
     "iopub.status.idle": "2023-02-22T06:21:02.704226Z",
     "shell.execute_reply": "2023-02-22T06:21:02.703232Z"
    },
    "papermill": {
     "duration": 1910.716618,
     "end_time": "2023-02-22T06:21:02.706525",
     "exception": false,
     "start_time": "2023-02-22T05:49:11.989907",
     "status": "completed"
    },
    "tags": []
   },
   "outputs": [
    {
     "name": "stderr",
     "output_type": "stream",
     "text": [
      "Downloading: \"https://github.com/rwightman/pytorch-image-models/releases/download/v0.1-weights/efficientnet_b4_ra2_320-7eb33cd5.pth\" to /root/.cache/torch/hub/checkpoints/efficientnet_b4_ra2_320-7eb33cd5.pth\n"
     ]
    },
    {
     "name": "stdout",
     "output_type": "stream",
     "text": [
      "\n",
      "**************************************************\n",
      "\n",
      "Training Fold 1...\n",
      "\n",
      "**************************************************\n",
      "\n",
      "Epoch: 1 | Train Loss: 3.70878 | Valid Loss: 0.63699 | Train Accs: 0.25489 | Valid Accs: 0.82366 | Time: 250.43 seconds\n",
      "Epoch: 2 | Train Loss: 0.47449 | Valid Loss: 0.36305 | Train Accs: 0.86671 | Valid Accs: 0.89360 | Time: 188.24 seconds\n",
      "Epoch: 3 | Train Loss: 0.26585 | Valid Loss: 0.28613 | Train Accs: 0.92431 | Valid Accs: 0.92708 | Time: 184.13 seconds\n",
      "Epoch: 4 | Train Loss: 0.17806 | Valid Loss: 0.26490 | Train Accs: 0.94678 | Valid Accs: 0.93378 | Time: 184.09 seconds\n",
      "Epoch: 5 | Train Loss: 0.11819 | Valid Loss: 0.26221 | Train Accs: 0.96264 | Valid Accs: 0.93824 | Time: 182.59 seconds\n",
      "Epoch: 6 | Train Loss: 0.08239 | Valid Loss: 0.25910 | Train Accs: 0.97595 | Valid Accs: 0.94568 | Time: 183.08 seconds\n",
      "Epoch: 7 | Train Loss: 0.05749 | Valid Loss: 0.26042 | Train Accs: 0.98068 | Valid Accs: 0.94903 | Time: 181.47 seconds\n",
      "Epoch: 8 | Train Loss: 0.03805 | Valid Loss: 0.26855 | Train Accs: 0.98722 | Valid Accs: 0.95015 | Time: 182.66 seconds\n",
      "Epoch: 9 | Train Loss: 0.02598 | Valid Loss: 0.27394 | Train Accs: 0.99053 | Valid Accs: 0.95201 | Time: 183.05 seconds\n",
      "Epoch: 10 | Train Loss: 0.02843 | Valid Loss: 0.27191 | Train Accs: 0.99126 | Valid Accs: 0.95015 | Time: 181.96 seconds\n",
      "\n",
      "**************************************************\n",
      "\n",
      "Best Validation Loss at Epoch 6\n",
      "\n",
      "**************************************************\n",
      "\n",
      "Best Validation Accs at Epoch 9\n",
      "\n",
      "**************************************************\n",
      "\n",
      "Time Taken [10 Epochs] : 31.69 minutes\n",
      "\n",
      "**************************************************\n",
      "\n"
     ]
    },
    {
     "data": {
      "image/png": "[encoded data removed]",
      "text/plain": [
       "<Figure size 640x480 with 1 Axes>"
      ]
     },
     "metadata": {},
     "output_type": "display_data"
    },
    {
     "name": "stdout",
     "output_type": "stream",
     "text": [
      "\n",
      "**************************************************\n",
      "\n"
     ]
    },
    {
     "data": {
      "image/png": "[encoded data removed]",
      "text/plain": [
       "<Figure size 640x480 with 1 Axes>"
      ]
     },
     "metadata": {},
     "output_type": "display_data"
    },
    {
     "name": "stdout",
     "output_type": "stream",
     "text": [
      "\n",
      "**************************************************\n",
      "\n"
     ]
    },
    {
     "data": {
      "image/png": "[encoded data removed]",
      "text/plain": [
       "<Figure size 800x600 with 1 Axes>"
      ]
     },
     "metadata": {},
     "output_type": "display_data"
    },
    {
     "name": "stdout",
     "output_type": "stream",
     "text": [
      "\n",
      "**************************************************\n",
      "\n"
     ]
    }
   ],
   "source": [
    "fold: int = 1\n",
    "BLs: list = []\n",
    "BAs: list = []\n",
    "    \n",
    "cfg.batch_size = 64\n",
    "cfg.epochs = 10\n",
    "    \n",
    "for tr_idx, va_idx in StratifiedKFold(n_splits=cfg.n_splits, random_state=cfg.seed, shuffle=True).split(filepaths, labels):\n",
    "    if fold == 1: break\n",
    "    fold += 1\n",
    "\n",
    "tr_filepaths, va_filepaths = filepaths[tr_idx], filepaths[va_idx] \n",
    "tr_labels, va_labels       = labels[tr_idx], labels[va_idx]\n",
    "\n",
    "tr_data_setup = DS(\n",
    "    filepaths=tr_filepaths, \n",
    "    labels=tr_labels.reshape(-1, 1),\n",
    "    transform=cfg.train_transform\n",
    ")\n",
    "\n",
    "va_data_setup = DS(\n",
    "    filepaths=va_filepaths, \n",
    "    labels=va_labels.reshape(-1, 1),\n",
    "    transform=cfg.valid_transform\n",
    ")\n",
    "\n",
    "dataloaders = {\n",
    "    \"train\" : DL(tr_data_setup, batch_size=cfg.batch_size, shuffle=True, generator=torch.manual_seed(cfg.seed)),\n",
    "    \"valid\" : DL(va_data_setup, batch_size=cfg.batch_size, shuffle=False),\n",
    "}\n",
    "\n",
    "cfg.steps_per_epoch=len(dataloaders[\"train\"])\n",
    "\n",
    "torch.manual_seed(cfg.seed)\n",
    "model = Model().to(cfg.device)\n",
    "\n",
    "optimizer = optim.Adam([p for p in model.parameters() if p.requires_grad], lr=cfg.lr, weight_decay=cfg.wd)\n",
    "# optimizer = optim.AdamW([p for p in model.parameters() if p.requires_grad], lr=cfg.lr, weight_decay=cfg.wd)\n",
    "# optimizer = optim.SGD([p for p in model.parameters() if p.requires_grad], lr=cfg.lr, weight_decay=cfg.wd, momentum=0.9)\n",
    "\n",
    "scheduler_oclr = optim.lr_scheduler.OneCycleLR(\n",
    "    optimizer=optimizer, \n",
    "    max_lr=cfg.max_lr, \n",
    "    epochs=cfg.epochs, \n",
    "    steps_per_epoch=cfg.steps_per_epoch,\n",
    "    pct_start=cfg.pct_start, \n",
    "    div_factor=cfg.div_factor, \n",
    "    final_div_factor=cfg.final_div_factor\n",
    ")\n",
    "\n",
    "# scheduler_rlrop = optim.lr_scheduler.ReduceLROnPlateau(\n",
    "#     optimizer=optimizer,\n",
    "#     patience=cfg.patience,\n",
    "#     eps=cfg.eps,\n",
    "#     verbose=True\n",
    "# )\n",
    "\n",
    "# scheduler_oclr = None\n",
    "scheduler_rlrop = None\n",
    "\n",
    "\n",
    "L, A, LR, BL, BA, _, _, _, _ = fit(\n",
    "    model=model, \n",
    "    optimizer=optimizer, \n",
    "    scheduler_oclr=scheduler_oclr,\n",
    "    scheduler_rlrop=scheduler_rlrop,\n",
    "    epochs=cfg.epochs, \n",
    "    early_stopping_patience=cfg.early_stopping, \n",
    "    dataloaders=dataloaders, \n",
    "    device=cfg.device,\n",
    "    save_path=cfg.save_path,\n",
    "    fold=fold,\n",
    "    verbose=True\n",
    ")\n",
    "\n",
    "\n",
    "breaker()\n",
    "show_loss_graphs(L)\n",
    "breaker()\n",
    "show_accuracy_graphs(A)\n",
    "breaker()\n",
    "if scheduler_oclr:\n",
    "    show_lr_graph(LR)\n",
    "    breaker()\n",
    "\n",
    "#     BLs.append(BL)\n",
    "#     BAs.append(BA)\n",
    "\n",
    "#     fold += 1"
   ]
  },
  {
   "cell_type": "markdown",
   "id": "81c5f327",
   "metadata": {
    "papermill": {
     "duration": 0.005633,
     "end_time": "2023-02-22T06:21:02.718512",
     "exception": false,
     "start_time": "2023-02-22T06:21:02.712879",
     "status": "completed"
    },
    "tags": []
   },
   "source": [
    "### **Best Model**"
   ]
  },
  {
   "cell_type": "code",
   "execution_count": 10,
   "id": "3d58d322",
   "metadata": {
    "execution": {
     "iopub.execute_input": "2023-02-22T06:21:02.732375Z",
     "iopub.status.busy": "2023-02-22T06:21:02.730867Z",
     "iopub.status.idle": "2023-02-22T06:21:02.736477Z",
     "shell.execute_reply": "2023-02-22T06:21:02.735623Z"
    },
    "papermill": {
     "duration": 0.014192,
     "end_time": "2023-02-22T06:21:02.738379",
     "exception": false,
     "start_time": "2023-02-22T06:21:02.724187",
     "status": "completed"
    },
    "tags": []
   },
   "outputs": [],
   "source": [
    "# BL = np.inf\n",
    "# for i in range(len(BLs)):\n",
    "#     if BLs[i][\"valid\"] < BL:\n",
    "#         BL = BLs[i][\"valid\"]\n",
    "#         best_loss_index = i\n",
    "\n",
    "        \n",
    "# BA = 0.0\n",
    "# for i in range(len(BAs)):\n",
    "#     if BAs[i][\"valid\"] > BA:\n",
    "#         BA = BAs[i][\"valid\"]\n",
    "#         best_accs_index = i\n",
    "\n",
    "# breaker()\n",
    "# print(f\"Best Loss Model Fold     : {best_loss_index + 1}\")\n",
    "# print(f\"Best Accuracy Model Fold : {best_accs_index + 1}\")\n",
    "# breaker()"
   ]
  }
 ],
 "metadata": {
  "kernelspec": {
   "display_name": "Python 3",
   "language": "python",
   "name": "python3"
  },
  "language_info": {
   "codemirror_mode": {
    "name": "ipython",
    "version": 3
   },
   "file_extension": ".py",
   "mimetype": "text/x-python",
   "name": "python",
   "nbconvert_exporter": "python",
   "pygments_lexer": "ipython3",
   "version": "3.7.12"
  },
  "papermill": {
   "default_parameters": {},
   "duration": 1935.236895,
   "end_time": "2023-02-22T06:21:05.446495",
   "environment_variables": {},
   "exception": null,
   "input_path": "__notebook__.ipynb",
   "output_path": "__notebook__.ipynb",
   "parameters": {},
   "start_time": "2023-02-22T05:48:50.209600",
   "version": "2.3.4"
  }
 },
 "nbformat": 4,
 "nbformat_minor": 5
}
