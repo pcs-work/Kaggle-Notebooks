{
 "cells": [
  {
   "cell_type": "code",
   "execution_count": 1,
   "id": "ceb01c8d",
   "metadata": {
    "_cell_guid": "b1076dfc-b9ad-4769-8c92-a6c4dae69d19",
    "_uuid": "8f2839f25d086af736a60e9eeb907d3b93b6e0e5",
    "execution": {
     "iopub.execute_input": "2023-03-17T17:07:23.035221Z",
     "iopub.status.busy": "2023-03-17T17:07:23.034810Z",
     "iopub.status.idle": "2023-03-17T17:07:23.260368Z",
     "shell.execute_reply": "2023-03-17T17:07:23.259114Z"
    },
    "papermill": {
     "duration": 0.232494,
     "end_time": "2023-03-17T17:07:23.263306",
     "exception": false,
     "start_time": "2023-03-17T17:07:23.030812",
     "status": "completed"
    },
    "tags": []
   },
   "outputs": [],
   "source": [
    "import os, cv2\n",
    "import numpy as np\n",
    "import pandas as pd\n",
    "\n",
    "BASE_PATH: str = \"/kaggle/input/chicken-disease-1/Train\""
   ]
  },
  {
   "cell_type": "code",
   "execution_count": 2,
   "id": "c6096af1",
   "metadata": {
    "execution": {
     "iopub.execute_input": "2023-03-17T17:07:23.268498Z",
     "iopub.status.busy": "2023-03-17T17:07:23.268126Z",
     "iopub.status.idle": "2023-03-17T17:07:23.358013Z",
     "shell.execute_reply": "2023-03-17T17:07:23.356800Z"
    },
    "papermill": {
     "duration": 0.095732,
     "end_time": "2023-03-17T17:07:23.360890",
     "exception": false,
     "start_time": "2023-03-17T17:07:23.265158",
     "status": "completed"
    },
    "tags": []
   },
   "outputs": [],
   "source": [
    "df = pd.read_csv(\"/kaggle/input/chicken-disease-1/train_data.csv\")\n",
    "\n",
    "labels: dict = {\n",
    "    \"Coccidiosis\" : 0,\n",
    "    \"Healthy\" : 1,\n",
    "    \"New Castle Disease\" : 2,\n",
    "    \"Salmonella\" : 3,\n",
    "}\n",
    "    \n",
    "filepaths: list = [os.path.join(BASE_PATH, filename) for filename in df.images]\n",
    "label_index: list = [labels[label] for label in df.label]\n",
    "    \n",
    "df[\"filepaths\"] = filepaths\n",
    "df[\"label_index\"] = label_index\n",
    "\n",
    "df.to_csv(\"train.csv\", index=False)"
   ]
  }
 ],
 "metadata": {
  "kernelspec": {
   "display_name": "Python 3",
   "language": "python",
   "name": "python3"
  },
  "language_info": {
   "codemirror_mode": {
    "name": "ipython",
    "version": 3
   },
   "file_extension": ".py",
   "mimetype": "text/x-python",
   "name": "python",
   "nbconvert_exporter": "python",
   "pygments_lexer": "ipython3",
   "version": "3.7.12"
  },
  "papermill": {
   "default_parameters": {},
   "duration": 10.933394,
   "end_time": "2023-03-17T17:07:24.186818",
   "environment_variables": {},
   "exception": null,
   "input_path": "__notebook__.ipynb",
   "output_path": "__notebook__.ipynb",
   "parameters": {},
   "start_time": "2023-03-17T17:07:13.253424",
   "version": "2.4.0"
  }
 },
 "nbformat": 4,
 "nbformat_minor": 5
}
