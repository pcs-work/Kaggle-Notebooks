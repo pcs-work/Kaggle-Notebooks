{
 "cells": [
  {
   "cell_type": "markdown",
   "id": "677bfab2",
   "metadata": {
    "_cell_guid": "07c37a54-07e0-469d-b28d-ba41588122c1",
    "_uuid": "1757e0ed-8cf2-4e48-8a69-94ef75c0d828",
    "papermill": {
     "duration": 0.005017,
     "end_time": "2023-03-17T20:24:08.008850",
     "exception": false,
     "start_time": "2023-03-17T20:24:08.003833",
     "status": "completed"
    },
    "tags": []
   },
   "source": [
    "### **Setup**"
   ]
  },
  {
   "cell_type": "code",
   "execution_count": 1,
   "id": "569d9d28",
   "metadata": {
    "_cell_guid": "55feb915-6d99-404a-983d-b629397a4882",
    "_uuid": "616d2115-2f2c-4cc3-8eb7-14cf7c2c86c2",
    "collapsed": false,
    "execution": {
     "iopub.execute_input": "2023-03-17T20:24:08.018910Z",
     "iopub.status.busy": "2023-03-17T20:24:08.017842Z",
     "iopub.status.idle": "2023-03-17T20:24:17.532089Z",
     "shell.execute_reply": "2023-03-17T20:24:17.530752Z"
    },
    "jupyter": {
     "outputs_hidden": false
    },
    "papermill": {
     "duration": 9.521752,
     "end_time": "2023-03-17T20:24:17.534643",
     "exception": false,
     "start_time": "2023-03-17T20:24:08.012891",
     "status": "completed"
    },
    "tags": []
   },
   "outputs": [
    {
     "name": "stderr",
     "output_type": "stream",
     "text": [
      "WARNING: Running pip as the 'root' user can result in broken permissions and conflicting behaviour with the system package manager. It is recommended to use a virtual environment instead: https://pip.pypa.io/warnings/venv\n"
     ]
    }
   ],
   "source": [
    "%%bash\n",
    "pip install timm -q"
   ]
  },
  {
   "cell_type": "markdown",
   "id": "6b6e92bd",
   "metadata": {
    "_cell_guid": "d5cbe850-b6b0-4e7c-9dc6-8c23ba79dc9d",
    "_uuid": "a3159eb9-8bcf-4482-9e24-d10dfa7742da",
    "papermill": {
     "duration": 0.003895,
     "end_time": "2023-03-17T20:24:17.542911",
     "exception": false,
     "start_time": "2023-03-17T20:24:17.539016",
     "status": "completed"
    },
    "tags": []
   },
   "source": [
    "### **Library Imports**"
   ]
  },
  {
   "cell_type": "code",
   "execution_count": 2,
   "id": "1a418c02",
   "metadata": {
    "_cell_guid": "3ce23f86-1260-4cfc-a93e-e364053f4d8c",
    "_uuid": "20fce95f-0d9b-4588-a27b-6dc754f7bf60",
    "collapsed": false,
    "execution": {
     "iopub.execute_input": "2023-03-17T20:24:17.552254Z",
     "iopub.status.busy": "2023-03-17T20:24:17.551944Z",
     "iopub.status.idle": "2023-03-17T20:24:22.062168Z",
     "shell.execute_reply": "2023-03-17T20:24:22.061063Z"
    },
    "jupyter": {
     "outputs_hidden": false
    },
    "papermill": {
     "duration": 4.517962,
     "end_time": "2023-03-17T20:24:22.064833",
     "exception": false,
     "start_time": "2023-03-17T20:24:17.546871",
     "status": "completed"
    },
    "tags": []
   },
   "outputs": [],
   "source": [
    "import os\n",
    "import re\n",
    "import cv2\n",
    "import timm\n",
    "import torch\n",
    "import numpy as np\n",
    "import pandas as pd\n",
    "import matplotlib.pyplot as plt\n",
    "\n",
    "from time import time\n",
    "from typing import Union\n",
    "from torch import nn, optim\n",
    "from torch.utils.data import Dataset\n",
    "from torch.utils.data import DataLoader as DL\n",
    "from torchvision import transforms\n",
    "\n",
    "from sklearn.model_selection import StratifiedKFold"
   ]
  },
  {
   "cell_type": "markdown",
   "id": "c352e2c0",
   "metadata": {
    "_cell_guid": "da92f801-bcbe-4412-b885-e49e47820751",
    "_uuid": "16b0366c-d501-4f48-9782-b7a5cf1085d1",
    "papermill": {
     "duration": 0.003867,
     "end_time": "2023-03-17T20:24:22.073593",
     "exception": false,
     "start_time": "2023-03-17T20:24:22.069726",
     "status": "completed"
    },
    "tags": []
   },
   "source": [
    "### **Utilities and Helpers**"
   ]
  },
  {
   "cell_type": "code",
   "execution_count": 3,
   "id": "cfa0842b",
   "metadata": {
    "_cell_guid": "39f7de58-8456-4c5c-b760-45b73a5ced69",
    "_uuid": "dda75f90-bc7c-444f-8b31-eb3ec51d22eb",
    "collapsed": false,
    "execution": {
     "iopub.execute_input": "2023-03-17T20:24:22.083651Z",
     "iopub.status.busy": "2023-03-17T20:24:22.082914Z",
     "iopub.status.idle": "2023-03-17T20:24:22.094950Z",
     "shell.execute_reply": "2023-03-17T20:24:22.093934Z"
    },
    "jupyter": {
     "outputs_hidden": false
    },
    "papermill": {
     "duration": 0.0194,
     "end_time": "2023-03-17T20:24:22.097053",
     "exception": false,
     "start_time": "2023-03-17T20:24:22.077653",
     "status": "completed"
    },
    "tags": []
   },
   "outputs": [],
   "source": [
    "SEED: int = 42\n",
    "\n",
    "\n",
    "def breaker(num: int=50, char: str=\"*\") -> None: print(\"\\n\" + num*char + \"\\n\")\n",
    "\n",
    "    \n",
    "def get_image(path: str) -> np.ndarray:\n",
    "    image = cv2.imread(path, cv2.IMREAD_COLOR)\n",
    "    return cv2.cvtColor(src=image, code=cv2.COLOR_BGR2RGB)\n",
    "\n",
    "    \n",
    "def show_loss_graphs(L: list) -> None:\n",
    "    TL, VL = [], []\n",
    "    for i in range(len(L)):\n",
    "        TL.append(L[i][\"train\"])\n",
    "        VL.append(L[i][\"valid\"])\n",
    "    x_Axis = np.arange(1, len(TL) + 1)\n",
    "    plt.figure()\n",
    "    plt.plot(x_Axis, TL, \"r\", label=\"Train\")\n",
    "    plt.plot(x_Axis, VL, \"b\", label=\"Valid\")\n",
    "    plt.legend()\n",
    "    plt.grid()\n",
    "    plt.title(\"Loss Graph\")\n",
    "    plt.show()\n",
    "\n",
    "    \n",
    "def show_accuracy_graphs(A: list) -> None:\n",
    "    TA, VA = [], []\n",
    "    for i in range(len(A)):\n",
    "        TA.append(A[i][\"train\"])\n",
    "        VA.append(A[i][\"valid\"])\n",
    "    x_Axis = np.arange(1, len(TA) + 1)\n",
    "    plt.figure()\n",
    "    plt.plot(x_Axis, TA, \"r\", label=\"Train\")\n",
    "    plt.plot(x_Axis, VA, \"b\", label=\"Valid\")\n",
    "    plt.legend()\n",
    "    plt.grid()\n",
    "    plt.title(\"Accuracy Graph\")\n",
    "    plt.show()\n",
    "    \n",
    "\n",
    "def show_lr_graph(LR: list) -> None:\n",
    "    x_Axis = [i+1 for i in range(len(LR))]\n",
    "    plt.figure(figsize=(8, 6))\n",
    "    plt.plot(x_Axis, LR, \"rx\")\n",
    "    plt.grid()\n",
    "    plt.show()"
   ]
  },
  {
   "cell_type": "markdown",
   "id": "676b07e6",
   "metadata": {
    "_cell_guid": "245fce00-efee-4818-bb58-975a27931490",
    "_uuid": "83d548a2-1532-40eb-accd-98c4009003d1",
    "papermill": {
     "duration": 0.003868,
     "end_time": "2023-03-17T20:24:22.105004",
     "exception": false,
     "start_time": "2023-03-17T20:24:22.101136",
     "status": "completed"
    },
    "tags": []
   },
   "source": [
    "\n",
    "\n",
    "### **Configuration**"
   ]
  },
  {
   "cell_type": "code",
   "execution_count": 4,
   "id": "f43603bd",
   "metadata": {
    "_cell_guid": "90549b8f-814a-43c6-b9a7-2daf6d1254b6",
    "_uuid": "ecc82294-8d9a-4be1-944d-c500c818aee4",
    "collapsed": false,
    "execution": {
     "iopub.execute_input": "2023-03-17T20:24:22.114336Z",
     "iopub.status.busy": "2023-03-17T20:24:22.114061Z",
     "iopub.status.idle": "2023-03-17T20:24:22.184354Z",
     "shell.execute_reply": "2023-03-17T20:24:22.183365Z"
    },
    "jupyter": {
     "outputs_hidden": false
    },
    "papermill": {
     "duration": 0.077356,
     "end_time": "2023-03-17T20:24:22.186493",
     "exception": false,
     "start_time": "2023-03-17T20:24:22.109137",
     "status": "completed"
    },
    "tags": []
   },
   "outputs": [],
   "source": [
    "class CFG(object):\n",
    "    def __init__(\n",
    "        self, \n",
    "        seed: int = 42,\n",
    "        n_splits: int = 5,\n",
    "        batch_size: int = 16,\n",
    "        epochs: int = 25,\n",
    "        early_stopping: int = 5,\n",
    "        lr: float = 1e-4,\n",
    "        wd: float = 0.0,\n",
    "        max_lr: float = 1e-3,\n",
    "        pct_start: float = 0.2,\n",
    "        steps_per_epoch: int = 100,\n",
    "        div_factor: int = 1e3, \n",
    "        final_div_factor: float = 1e3,\n",
    "    ):\n",
    "        self.seed = seed\n",
    "        self.n_splits = n_splits\n",
    "        self.batch_size = batch_size\n",
    "        self.epochs = epochs\n",
    "        self.early_stopping = early_stopping\n",
    "        self.lr = lr\n",
    "        self.wd = wd\n",
    "        self.max_lr = max_lr\n",
    "        self.pct_start = pct_start\n",
    "        self.steps_per_epoch = steps_per_epoch\n",
    "        self.div_factor = div_factor\n",
    "        self.final_div_factor = final_div_factor\n",
    "        self.device = torch.device(\"cuda\" if torch.cuda.is_available() else \"cpu\")\n",
    "        \n",
    "        self.train_transform = transforms.Compose([\n",
    "            transforms.ToTensor(),\n",
    "            transforms.Normalize([0.57326, 0.54719, 0.49966], [0.15555, 0.15846, 0.16933]),\n",
    "            transforms.RandomAffine(degrees=(-45, 45), translate=(0.15, 0.15), scale=(0.5, 1.5)),\n",
    "            transforms.RandomHorizontalFlip(p=0.25),\n",
    "            transforms.RandomVerticalFlip(p=0.25),\n",
    "        ])\n",
    "        self.valid_transform = transforms.Compose([\n",
    "            transforms.ToTensor(),\n",
    "            transforms.Normalize([0.57326, 0.54719, 0.49966], [0.15555, 0.15846, 0.16933]),\n",
    "        ])\n",
    "                                \n",
    "        self.save_path = \"saves\"\n",
    "        if not os.path.exists(self.save_path): os.makedirs(self.save_path)\n",
    "    \n",
    "cfg = CFG(\n",
    "    seed=SEED, \n",
    ")"
   ]
  },
  {
   "cell_type": "markdown",
   "id": "c2c034f4",
   "metadata": {
    "_cell_guid": "89c20f93-2f1f-47f0-93d1-c307f6d62c83",
    "_uuid": "ab9cb3eb-65a7-44b7-a4c7-bc34a8ca31a1",
    "papermill": {
     "duration": 0.003991,
     "end_time": "2023-03-17T20:24:22.194755",
     "exception": false,
     "start_time": "2023-03-17T20:24:22.190764",
     "status": "completed"
    },
    "tags": []
   },
   "source": [
    "### **Dataset Template**"
   ]
  },
  {
   "cell_type": "code",
   "execution_count": 5,
   "id": "100e02ed",
   "metadata": {
    "_cell_guid": "701c5ad9-f951-498b-b305-db19d4088267",
    "_uuid": "7b773aaf-2ff5-4c26-a67f-d52b8df59a77",
    "collapsed": false,
    "execution": {
     "iopub.execute_input": "2023-03-17T20:24:22.204488Z",
     "iopub.status.busy": "2023-03-17T20:24:22.203774Z",
     "iopub.status.idle": "2023-03-17T20:24:22.211544Z",
     "shell.execute_reply": "2023-03-17T20:24:22.210629Z"
    },
    "jupyter": {
     "outputs_hidden": false
    },
    "papermill": {
     "duration": 0.014842,
     "end_time": "2023-03-17T20:24:22.213643",
     "exception": false,
     "start_time": "2023-03-17T20:24:22.198801",
     "status": "completed"
    },
    "tags": []
   },
   "outputs": [],
   "source": [
    "class DS(Dataset):\n",
    "    def __init__(\n",
    "        self, \n",
    "        filepaths: np.ndarray, \n",
    "        labels: Union[np.ndarray, None]=None, \n",
    "        transform=None\n",
    "    ):\n",
    "        \n",
    "        self.filepaths = filepaths\n",
    "        self.labels = labels\n",
    "        self.transform = transform\n",
    "    \n",
    "    def __len__(self):\n",
    "        return self.filepaths.shape[0]\n",
    "    \n",
    "    def __getitem__(self, idx):\n",
    "        image = get_image(self.filepaths[idx])\n",
    "        if self.labels is None:\n",
    "            return self.transform(image)\n",
    "        return self.transform(image), torch.LongTensor(self.labels[idx])"
   ]
  },
  {
   "cell_type": "markdown",
   "id": "8fa063e2",
   "metadata": {
    "_cell_guid": "34865a3d-37aa-4578-a036-73a2a40b0551",
    "_uuid": "656d010e-012b-40fd-afb6-3acb1af5e304",
    "papermill": {
     "duration": 0.003952,
     "end_time": "2023-03-17T20:24:22.221803",
     "exception": false,
     "start_time": "2023-03-17T20:24:22.217851",
     "status": "completed"
    },
    "tags": []
   },
   "source": [
    "### **Model**"
   ]
  },
  {
   "cell_type": "code",
   "execution_count": 6,
   "id": "5e0c6e9d",
   "metadata": {
    "_cell_guid": "a41bca76-fe32-42fb-bc37-b1dde4952bc3",
    "_uuid": "3bb3befb-9787-461f-8604-f37f85f69907",
    "collapsed": false,
    "execution": {
     "iopub.execute_input": "2023-03-17T20:24:22.231232Z",
     "iopub.status.busy": "2023-03-17T20:24:22.230960Z",
     "iopub.status.idle": "2023-03-17T20:24:22.236085Z",
     "shell.execute_reply": "2023-03-17T20:24:22.235139Z"
    },
    "jupyter": {
     "outputs_hidden": false
    },
    "papermill": {
     "duration": 0.012152,
     "end_time": "2023-03-17T20:24:22.238120",
     "exception": false,
     "start_time": "2023-03-17T20:24:22.225968",
     "status": "completed"
    },
    "tags": []
   },
   "outputs": [],
   "source": [
    "class Model(nn.Module):\n",
    "    def __init__(self):\n",
    "        super(Model, self).__init__()\n",
    "            \n",
    "        self.model = timm.create_model(model_name=\"efficientnet_b4\", pretrained=True)\n",
    "        self.model.classifier = nn.Linear(in_features=self.model.classifier.in_features, out_features=4)\n",
    "\n",
    "    def forward(self, x):\n",
    "        return nn.LogSoftmax(dim=1)(self.model(x))"
   ]
  },
  {
   "cell_type": "markdown",
   "id": "cae4a271",
   "metadata": {
    "_cell_guid": "5e3e0729-e195-46bb-929b-37253155c986",
    "_uuid": "9ba2dd5d-2e23-4d8d-a025-3c339faf561a",
    "papermill": {
     "duration": 0.004005,
     "end_time": "2023-03-17T20:24:22.246324",
     "exception": false,
     "start_time": "2023-03-17T20:24:22.242319",
     "status": "completed"
    },
    "tags": []
   },
   "source": [
    "### **Fit and Predict**"
   ]
  },
  {
   "cell_type": "code",
   "execution_count": 7,
   "id": "74ef604d",
   "metadata": {
    "_cell_guid": "7f8776e6-7b28-44dc-b0d8-5f43abd72046",
    "_uuid": "ab955cb9-751f-4d0d-a190-72551c26cecf",
    "collapsed": false,
    "execution": {
     "iopub.execute_input": "2023-03-17T20:24:22.256198Z",
     "iopub.status.busy": "2023-03-17T20:24:22.255939Z",
     "iopub.status.idle": "2023-03-17T20:24:22.277190Z",
     "shell.execute_reply": "2023-03-17T20:24:22.276073Z"
    },
    "jupyter": {
     "outputs_hidden": false
    },
    "papermill": {
     "duration": 0.029298,
     "end_time": "2023-03-17T20:24:22.279850",
     "exception": false,
     "start_time": "2023-03-17T20:24:22.250552",
     "status": "completed"
    },
    "tags": []
   },
   "outputs": [],
   "source": [
    "def fit(\n",
    "    model=None,\n",
    "    optimizer=None, \n",
    "    scheduler_rlrop=None,\n",
    "    scheduler_oclr=None,\n",
    "    epochs=None, \n",
    "    early_stopping_patience=None, \n",
    "    dataloaders=None, \n",
    "    fold=None, \n",
    "    save_path=None,\n",
    "    device=None,\n",
    "    verbose=False\n",
    ") -> tuple:\n",
    "    \n",
    "    def get_accuracy(y_pred, y_true):\n",
    "        y_pred = torch.argmax(y_pred, dim=1)\n",
    "        return torch.count_nonzero(y_pred == y_true).item() / len(y_pred)\n",
    "    \n",
    "    \n",
    "    if verbose:\n",
    "        breaker()\n",
    "        if fold: print(f\"Training Fold {fold}...\")\n",
    "        else: print(\"Training ...\")\n",
    "        breaker()\n",
    "        \n",
    "    bestLoss: dict = {\"train\" : np.inf, \"valid\" : np.inf} \n",
    "    bestAccs: dict = {\"train\" : 0.0, \"valid\" : 0.0}\n",
    "    \n",
    "    Losses: list = []\n",
    "    Accuracies: list = [] \n",
    "    LRs: list = []\n",
    "        \n",
    "    if fold: \n",
    "        ble_name = f\"ble_state_fold_{fold}.pt\"\n",
    "        bae_name = f\"bae_state_fold_{fold}.pt\"\n",
    "    else: \n",
    "        ble_name = f\"ble_state.pt\"\n",
    "        bae_name = f\"bae_state.pt\"\n",
    "        \n",
    "    start_time = time()\n",
    "    for e in range(epochs):\n",
    "        e_st = time()\n",
    "        epochLoss: dict = {\"train\" : 0.0, \"valid\" : 0.0} \n",
    "        epochAccs: dict = {\"train\" : 0.0, \"valid\" : 0.0}\n",
    "\n",
    "        for phase in [\"train\", \"valid\"]:\n",
    "            if phase == \"train\":\n",
    "                model.train()\n",
    "            else:\n",
    "                model.eval()\n",
    "            \n",
    "            lossPerPass: list = []\n",
    "            accsPerPass: list = []\n",
    "                \n",
    "            for X, y in dataloaders[phase]:\n",
    "                X, y = X.to(device), y.to(device).view(-1)\n",
    "\n",
    "                optimizer.zero_grad()\n",
    "                with torch.set_grad_enabled(phase == \"train\"):\n",
    "                    output = model(X)\n",
    "                    loss = nn.NLLLoss()(output, y)\n",
    "                    if phase == \"train\":\n",
    "                        loss.backward()\n",
    "                        optimizer.step()\n",
    "                        if scheduler_oclr: scheduler_oclr.step()\n",
    "                lossPerPass.append(loss.item())\n",
    "                accsPerPass.append(get_accuracy(output, y))\n",
    "            epochLoss[phase] = np.mean(np.array(lossPerPass))\n",
    "            epochAccs[phase] = np.mean(np.array(accsPerPass))\n",
    "        if scheduler_oclr: LRs.append(scheduler_oclr.get_last_lr())\n",
    "        Losses.append(epochLoss)\n",
    "        Accuracies.append(epochAccs)\n",
    "        \n",
    "        if scheduler_oclr:\n",
    "            save_dict = {\"model_state_dict\"     : model.state_dict(),\n",
    "                         \"optim_state_dict\"     : optimizer.state_dict(),\n",
    "                         \"scheduler_state_dict\" : scheduler_oclr.state_dict()}\n",
    "        \n",
    "        elif scheduler_rlrop:\n",
    "            save_dict = {\"model_state_dict\"     : model.state_dict(),\n",
    "                         \"optim_state_dict\"     : optimizer.state_dict(),\n",
    "                         \"scheduler_state_dict\" : scheduler_rlrop.state_dict()}\n",
    "        \n",
    "        else:\n",
    "            save_dict = {\"model_state_dict\"     : model.state_dict(),\n",
    "                         \"optim_state_dict\"     : optimizer.state_dict()}\n",
    "        \n",
    "        if early_stopping_patience:\n",
    "            if epochLoss[\"valid\"] < bestLoss[\"valid\"]:\n",
    "                bestLoss = epochLoss\n",
    "                BLE = e + 1\n",
    "                torch.save(save_dict, os.path.join(save_path, ble_name))\n",
    "                torch.save(save_dict, os.path.join(save_path, bae_name))\n",
    "                early_stopping_step = 0\n",
    "            else:\n",
    "                early_stopping_step += 1\n",
    "                if early_stopping_step > early_stopping_patience:\n",
    "                    print(\"\\nEarly Stopping at Epoch {}\".format(e + 1))\n",
    "                    break\n",
    "        \n",
    "        if epochLoss[\"valid\"] < bestLoss[\"valid\"]:\n",
    "            bestLoss = epochLoss\n",
    "            BLE = e + 1\n",
    "            torch.save(save_dict,os.path.join(save_path, ble_name))\n",
    "        \n",
    "        if epochAccs[\"valid\"] > bestAccs[\"valid\"]:\n",
    "            bestAccs = epochAccs\n",
    "            BAE = e + 1\n",
    "            torch.save(save_dict,os.path.join(save_path, bae_name))\n",
    "        \n",
    "        if scheduler_rlrop: scheduler_rlrop.step(epochLoss[\"valid\"])\n",
    "        \n",
    "        if verbose:\n",
    "            print(\"Epoch: {} | Train Loss: {:.5f} | Valid Loss: {:.5f} |\\\n",
    " Train Accs: {:.5f} | Valid Accs: {:.5f} | Time: {:.2f} seconds\".format(e+1, \n",
    "                                                                        epochLoss[\"train\"], epochLoss[\"valid\"], \n",
    "                                                                        epochAccs[\"train\"], epochAccs[\"valid\"], \n",
    "                                                                        time()-e_st))\n",
    "\n",
    "    if verbose:                                           \n",
    "        breaker()\n",
    "        print(f\"Best Validation Loss at Epoch {BLE}\")\n",
    "        breaker()\n",
    "        print(f\"Best Validation Accs at Epoch {BAE}\")\n",
    "        breaker()\n",
    "        print(\"Time Taken [{} Epochs] : {:.2f} minutes\".format(len(Losses), (time()-start_time)/60))\n",
    "    \n",
    "    return Losses, Accuracies, LRs, bestLoss, bestAccs, BLE, BAE, ble_name, bae_name\n",
    "\n",
    "\n",
    "# def predict_batch(model=None, dataloader=None, path=None, device=None) -> np.ndarray:\n",
    "#     model.load_state_dict(torch.load(path, map_location=device)[\"model_state_dict\"])\n",
    "#     model.to(device)    \n",
    "#     model.eval()\n",
    "    \n",
    "#     y_pred = torch.zeros(1, 1).to(device)\n",
    "    \n",
    "#     for X in dataloader:\n",
    "#         X = X.to(device)\n",
    "#         with torch.no_grad():\n",
    "#             output = torch.argmax(torch.exp(model(X)), dim=1)\n",
    "#         y_pred = torch.cat((y_pred, output.view(-1, 1)), dim=0)\n",
    "    \n",
    "#     return y_pred[1:].detach().cpu().numpy()"
   ]
  },
  {
   "cell_type": "markdown",
   "id": "ac99a392",
   "metadata": {
    "_cell_guid": "76161ad8-791c-4b35-97d7-acd7a4953e86",
    "_uuid": "fd294bf6-aefc-4f05-9171-ac624b825a17",
    "papermill": {
     "duration": 0.004217,
     "end_time": "2023-03-17T20:24:22.288239",
     "exception": false,
     "start_time": "2023-03-17T20:24:22.284022",
     "status": "completed"
    },
    "tags": []
   },
   "source": [
    "### **Train**"
   ]
  },
  {
   "cell_type": "code",
   "execution_count": 8,
   "id": "69971e91",
   "metadata": {
    "_cell_guid": "8f2b6d08-bbe2-4fe3-ab01-9eadee965e2b",
    "_uuid": "48652bb5-0a09-488e-b8c6-344b432a509a",
    "collapsed": false,
    "execution": {
     "iopub.execute_input": "2023-03-17T20:24:22.297873Z",
     "iopub.status.busy": "2023-03-17T20:24:22.297584Z",
     "iopub.status.idle": "2023-03-17T20:24:22.339599Z",
     "shell.execute_reply": "2023-03-17T20:24:22.338714Z"
    },
    "jupyter": {
     "outputs_hidden": false
    },
    "papermill": {
     "duration": 0.049361,
     "end_time": "2023-03-17T20:24:22.341831",
     "exception": false,
     "start_time": "2023-03-17T20:24:22.292470",
     "status": "completed"
    },
    "tags": []
   },
   "outputs": [],
   "source": [
    "df = pd.read_csv(\"/kaggle/input/cdd-dataframe/train.csv\")\n",
    "\n",
    "filepaths = df.filepaths.copy().values\n",
    "labels = df.label_index.copy().values"
   ]
  },
  {
   "cell_type": "code",
   "execution_count": 9,
   "id": "f4e8c927",
   "metadata": {
    "_cell_guid": "a398a37c-8be2-4130-91f7-95f21865d226",
    "_uuid": "8595ab3b-4843-4ab7-be1b-55c6af2eff79",
    "collapsed": false,
    "execution": {
     "iopub.execute_input": "2023-03-17T20:24:22.353325Z",
     "iopub.status.busy": "2023-03-17T20:24:22.353019Z",
     "iopub.status.idle": "2023-03-17T20:43:39.979402Z",
     "shell.execute_reply": "2023-03-17T20:43:39.978497Z"
    },
    "jupyter": {
     "outputs_hidden": false
    },
    "papermill": {
     "duration": 1157.635307,
     "end_time": "2023-03-17T20:43:39.981482",
     "exception": false,
     "start_time": "2023-03-17T20:24:22.346175",
     "status": "completed"
    },
    "tags": []
   },
   "outputs": [
    {
     "name": "stderr",
     "output_type": "stream",
     "text": [
      "Downloading: \"https://github.com/rwightman/pytorch-image-models/releases/download/v0.1-weights/efficientnet_b4_ra2_320-7eb33cd5.pth\" to /root/.cache/torch/hub/checkpoints/efficientnet_b4_ra2_320-7eb33cd5.pth\n"
     ]
    },
    {
     "name": "stdout",
     "output_type": "stream",
     "text": [
      "\n",
      "**************************************************\n",
      "\n",
      "Training Fold 1...\n",
      "\n",
      "**************************************************\n",
      "\n",
      "Epoch: 1 | Train Loss: 0.96995 | Valid Loss: 0.18011 | Train Accs: 0.65900 | Valid Accs: 0.94712 | Time: 167.76 seconds\n",
      "Epoch: 2 | Train Loss: 0.16535 | Valid Loss: 0.11441 | Train Accs: 0.94201 | Valid Accs: 0.95793 | Time: 111.19 seconds\n",
      "Epoch: 3 | Train Loss: 0.10454 | Valid Loss: 0.07187 | Train Accs: 0.96241 | Valid Accs: 0.97476 | Time: 110.77 seconds\n",
      "Epoch: 4 | Train Loss: 0.07478 | Valid Loss: 0.07004 | Train Accs: 0.97355 | Valid Accs: 0.97656 | Time: 111.11 seconds\n",
      "Epoch: 5 | Train Loss: 0.05889 | Valid Loss: 0.08500 | Train Accs: 0.97893 | Valid Accs: 0.97055 | Time: 108.90 seconds\n",
      "Epoch: 6 | Train Loss: 0.03908 | Valid Loss: 0.06005 | Train Accs: 0.98685 | Valid Accs: 0.98077 | Time: 111.22 seconds\n",
      "Epoch: 7 | Train Loss: 0.03047 | Valid Loss: 0.06595 | Train Accs: 0.98902 | Valid Accs: 0.98077 | Time: 109.01 seconds\n",
      "Epoch: 8 | Train Loss: 0.02791 | Valid Loss: 0.06143 | Train Accs: 0.98929 | Valid Accs: 0.98377 | Time: 107.73 seconds\n",
      "Epoch: 9 | Train Loss: 0.01999 | Valid Loss: 0.06112 | Train Accs: 0.99257 | Valid Accs: 0.98137 | Time: 107.00 seconds\n",
      "Epoch: 10 | Train Loss: 0.01958 | Valid Loss: 0.06096 | Train Accs: 0.99242 | Valid Accs: 0.98257 | Time: 106.87 seconds\n",
      "\n",
      "**************************************************\n",
      "\n",
      "Best Validation Loss at Epoch 6\n",
      "\n",
      "**************************************************\n",
      "\n",
      "Best Validation Accs at Epoch 8\n",
      "\n",
      "**************************************************\n",
      "\n",
      "Time Taken [10 Epochs] : 19.19 minutes\n",
      "\n",
      "**************************************************\n",
      "\n"
     ]
    },
    {
     "data": {
      "image/png": "[encoded data removed]",
      "text/plain": [
       "<Figure size 640x480 with 1 Axes>"
      ]
     },
     "metadata": {},
     "output_type": "display_data"
    },
    {
     "name": "stdout",
     "output_type": "stream",
     "text": [
      "\n",
      "**************************************************\n",
      "\n"
     ]
    },
    {
     "data": {
      "image/png": "[encoded data removed]",
      "text/plain": [
       "<Figure size 640x480 with 1 Axes>"
      ]
     },
     "metadata": {},
     "output_type": "display_data"
    },
    {
     "name": "stdout",
     "output_type": "stream",
     "text": [
      "\n",
      "**************************************************\n",
      "\n"
     ]
    },
    {
     "data": {
      "image/png": "[encoded data removed]",
      "text/plain": [
       "<Figure size 800x600 with 1 Axes>"
      ]
     },
     "metadata": {},
     "output_type": "display_data"
    },
    {
     "name": "stdout",
     "output_type": "stream",
     "text": [
      "\n",
      "**************************************************\n",
      "\n"
     ]
    }
   ],
   "source": [
    "fold: int = 1\n",
    "BLs: list = []\n",
    "BAs: list = []\n",
    "    \n",
    "cfg.batch_size = 64\n",
    "cfg.epochs = 10\n",
    "    \n",
    "for tr_idx, va_idx in StratifiedKFold(n_splits=cfg.n_splits, random_state=cfg.seed, shuffle=True).split(filepaths, labels):\n",
    "    if fold == 1: break\n",
    "    fold += 1\n",
    "\n",
    "tr_filepaths, va_filepaths = filepaths[tr_idx], filepaths[va_idx] \n",
    "tr_labels, va_labels       = labels[tr_idx], labels[va_idx]\n",
    "\n",
    "tr_data_setup = DS(\n",
    "    filepaths=tr_filepaths, \n",
    "    labels=tr_labels.reshape(-1, 1),\n",
    "    transform=cfg.train_transform\n",
    ")\n",
    "\n",
    "va_data_setup = DS(\n",
    "    filepaths=va_filepaths, \n",
    "    labels=va_labels.reshape(-1, 1),\n",
    "    transform=cfg.valid_transform\n",
    ")\n",
    "\n",
    "dataloaders = {\n",
    "    \"train\" : DL(tr_data_setup, batch_size=cfg.batch_size, shuffle=True, generator=torch.manual_seed(cfg.seed)),\n",
    "    \"valid\" : DL(va_data_setup, batch_size=cfg.batch_size, shuffle=False),\n",
    "}\n",
    "\n",
    "cfg.steps_per_epoch=len(dataloaders[\"train\"])\n",
    "\n",
    "torch.manual_seed(cfg.seed)\n",
    "model = Model().to(cfg.device)\n",
    "\n",
    "optimizer = optim.Adam([p for p in model.parameters() if p.requires_grad], lr=cfg.lr, weight_decay=cfg.wd)\n",
    "# optimizer = optim.AdamW([p for p in model.parameters() if p.requires_grad], lr=cfg.lr, weight_decay=cfg.wd)\n",
    "# optimizer = optim.SGD([p for p in model.parameters() if p.requires_grad], lr=cfg.lr, weight_decay=cfg.wd, momentum=0.9)\n",
    "\n",
    "scheduler_oclr = optim.lr_scheduler.OneCycleLR(\n",
    "    optimizer=optimizer, \n",
    "    max_lr=cfg.max_lr, \n",
    "    epochs=cfg.epochs, \n",
    "    steps_per_epoch=cfg.steps_per_epoch,\n",
    "    pct_start=cfg.pct_start, \n",
    "    div_factor=cfg.div_factor, \n",
    "    final_div_factor=cfg.final_div_factor\n",
    ")\n",
    "\n",
    "# scheduler_rlrop = optim.lr_scheduler.ReduceLROnPlateau(\n",
    "#     optimizer=optimizer,\n",
    "#     patience=cfg.patience,\n",
    "#     eps=cfg.eps,\n",
    "#     verbose=True\n",
    "# )\n",
    "\n",
    "# scheduler_oclr = None\n",
    "scheduler_rlrop = None\n",
    "\n",
    "\n",
    "L, A, LR, BL, BA, _, _, _, _ = fit(\n",
    "    model=model, \n",
    "    optimizer=optimizer, \n",
    "    scheduler_oclr=scheduler_oclr,\n",
    "    scheduler_rlrop=scheduler_rlrop,\n",
    "    epochs=cfg.epochs, \n",
    "    early_stopping_patience=cfg.early_stopping, \n",
    "    dataloaders=dataloaders, \n",
    "    device=cfg.device,\n",
    "    save_path=cfg.save_path,\n",
    "    fold=fold,\n",
    "    verbose=True\n",
    ")\n",
    "\n",
    "\n",
    "breaker()\n",
    "show_loss_graphs(L)\n",
    "breaker()\n",
    "show_accuracy_graphs(A)\n",
    "breaker()\n",
    "if scheduler_oclr:\n",
    "    show_lr_graph(LR)\n",
    "    breaker()\n",
    "\n",
    "#     BLs.append(BL)\n",
    "#     BAs.append(BA)\n",
    "\n",
    "#     fold += 1"
   ]
  },
  {
   "cell_type": "markdown",
   "id": "8215462f",
   "metadata": {
    "_cell_guid": "1eb965e8-51e5-4bb5-92dd-420a63173daf",
    "_uuid": "3edf7a7c-b205-427e-b5f2-99428e245eeb",
    "papermill": {
     "duration": 0.006094,
     "end_time": "2023-03-17T20:43:39.994185",
     "exception": false,
     "start_time": "2023-03-17T20:43:39.988091",
     "status": "completed"
    },
    "tags": []
   },
   "source": [
    "### **Best Model**"
   ]
  },
  {
   "cell_type": "code",
   "execution_count": 10,
   "id": "07e0f732",
   "metadata": {
    "_cell_guid": "8dc05ae2-4b94-4be0-9c7f-4e785880a816",
    "_uuid": "4e423690-c24e-4177-a182-d064a83680f3",
    "collapsed": false,
    "execution": {
     "iopub.execute_input": "2023-03-17T20:43:40.008288Z",
     "iopub.status.busy": "2023-03-17T20:43:40.007450Z",
     "iopub.status.idle": "2023-03-17T20:43:40.012970Z",
     "shell.execute_reply": "2023-03-17T20:43:40.012052Z"
    },
    "jupyter": {
     "outputs_hidden": false
    },
    "papermill": {
     "duration": 0.01462,
     "end_time": "2023-03-17T20:43:40.014896",
     "exception": false,
     "start_time": "2023-03-17T20:43:40.000276",
     "status": "completed"
    },
    "tags": []
   },
   "outputs": [],
   "source": [
    "# BL = np.inf\n",
    "# for i in range(len(BLs)):\n",
    "#     if BLs[i][\"valid\"] < BL:\n",
    "#         BL = BLs[i][\"valid\"]\n",
    "#         best_loss_index = i\n",
    "\n",
    "        \n",
    "# BA = 0.0\n",
    "# for i in range(len(BAs)):\n",
    "#     if BAs[i][\"valid\"] > BA:\n",
    "#         BA = BAs[i][\"valid\"]\n",
    "#         best_accs_index = i\n",
    "\n",
    "# breaker()\n",
    "# print(f\"Best Loss Model Fold     : {best_loss_index + 1}\")\n",
    "# print(f\"Best Accuracy Model Fold : {best_accs_index + 1}\")\n",
    "# breaker()"
   ]
  }
 ],
 "metadata": {
  "kernelspec": {
   "display_name": "Python 3",
   "language": "python",
   "name": "python3"
  },
  "language_info": {
   "codemirror_mode": {
    "name": "ipython",
    "version": 3
   },
   "file_extension": ".py",
   "mimetype": "text/x-python",
   "name": "python",
   "nbconvert_exporter": "python",
   "pygments_lexer": "ipython3",
   "version": "3.7.12"
  },
  "papermill": {
   "default_parameters": {},
   "duration": 1183.288638,
   "end_time": "2023-03-17T20:43:42.453102",
   "environment_variables": {},
   "exception": null,
   "input_path": "__notebook__.ipynb",
   "output_path": "__notebook__.ipynb",
   "parameters": {},
   "start_time": "2023-03-17T20:23:59.164464",
   "version": "2.4.0"
  }
 },
 "nbformat": 4,
 "nbformat_minor": 5
}
