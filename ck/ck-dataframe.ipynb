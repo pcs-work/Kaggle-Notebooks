{
 "cells": [
  {
   "cell_type": "code",
   "execution_count": 1,
   "id": "5995b9d8",
   "metadata": {
    "_cell_guid": "b1076dfc-b9ad-4769-8c92-a6c4dae69d19",
    "_uuid": "8f2839f25d086af736a60e9eeb907d3b93b6e0e5",
    "execution": {
     "iopub.execute_input": "2023-09-08T18:27:03.334201Z",
     "iopub.status.busy": "2023-09-08T18:27:03.333615Z",
     "iopub.status.idle": "2023-09-08T18:27:03.911582Z",
     "shell.execute_reply": "2023-09-08T18:27:03.910546Z"
    },
    "papermill": {
     "duration": 0.585617,
     "end_time": "2023-09-08T18:27:03.914069",
     "exception": false,
     "start_time": "2023-09-08T18:27:03.328452",
     "status": "completed"
    },
    "tags": []
   },
   "outputs": [],
   "source": [
    "import os\n",
    "import cv2\n",
    "import numpy as np\n",
    "import pandas as pd\n",
    "\n",
    "BASE_PATH: str = \"/kaggle/input/how-much-would-you-pay-for-a-fake-cat\""
   ]
  },
  {
   "cell_type": "code",
   "execution_count": 2,
   "id": "530a6b2c",
   "metadata": {
    "execution": {
     "iopub.execute_input": "2023-09-08T18:27:03.923617Z",
     "iopub.status.busy": "2023-09-08T18:27:03.923111Z",
     "iopub.status.idle": "2023-09-08T18:27:03.970140Z",
     "shell.execute_reply": "2023-09-08T18:27:03.968832Z"
    },
    "papermill": {
     "duration": 0.053449,
     "end_time": "2023-09-08T18:27:03.972601",
     "exception": false,
     "start_time": "2023-09-08T18:27:03.919152",
     "status": "completed"
    },
    "tags": []
   },
   "outputs": [],
   "source": [
    "tr_df: pd.DataFrame = pd.read_csv(f\"{BASE_PATH}/train.csv\")\n",
    "    \n",
    "filepaths: list = []\n",
    "\n",
    "for filename in tr_df.image:\n",
    "    filepaths.append(f\"{BASE_PATH}/images/{filename.split('./')[1]}\")\n",
    "\n",
    "tr_df[\"filepaths\"] = filepaths\n",
    "tr_df.to_csv(\"train.csv\", index=False)"
   ]
  },
  {
   "cell_type": "code",
   "execution_count": 3,
   "id": "b7d8a36b",
   "metadata": {
    "execution": {
     "iopub.execute_input": "2023-09-08T18:27:03.980583Z",
     "iopub.status.busy": "2023-09-08T18:27:03.979686Z",
     "iopub.status.idle": "2023-09-08T18:27:03.995866Z",
     "shell.execute_reply": "2023-09-08T18:27:03.994064Z"
    },
    "papermill": {
     "duration": 0.023221,
     "end_time": "2023-09-08T18:27:03.998758",
     "exception": false,
     "start_time": "2023-09-08T18:27:03.975537",
     "status": "completed"
    },
    "tags": []
   },
   "outputs": [],
   "source": [
    "ts_df: pd.DataFrame = pd.read_csv(f\"{BASE_PATH}/test.csv\")\n",
    "    \n",
    "filepaths: list = []\n",
    "labels: list = []\n",
    "\n",
    "for filename in ts_df.image:\n",
    "    filepaths.append(f\"{BASE_PATH}/images/{filename.split('./')[1]}\")\n",
    "\n",
    "ts_df[\"filepaths\"] = filepaths\n",
    "ts_df.to_csv(\"test.csv\", index=False)"
   ]
  }
 ],
 "kernelspec": {
  "display_name": "Python 3",
  "language": "python",
  "name": "python3"
 },
 "language_info": {
  "codemirror_mode": {
   "name": "ipython",
   "version": 3
  },
  "file_extension": ".py",
  "mimetype": "text/x-python",
  "name": "python",
  "nbconvert_exporter": "python",
  "pygments_lexer": "ipython3",
  "version": "3.6.4"
 },
 "metadata": {
  "kernelspec": {
   "display_name": "Python 3",
   "language": "python",
   "name": "python3"
  },
  "language_info": {
   "codemirror_mode": {
    "name": "ipython",
    "version": 3
   },
   "file_extension": ".py",
   "mimetype": "text/x-python",
   "name": "python",
   "nbconvert_exporter": "python",
   "pygments_lexer": "ipython3",
   "version": "3.10.12"
  },
  "papermill": {
   "default_parameters": {},
   "duration": 4.20893,
   "end_time": "2023-09-08T18:27:04.524012",
   "environment_variables": {},
   "exception": null,
   "input_path": "__notebook__.ipynb",
   "output_path": "__notebook__.ipynb",
   "parameters": {},
   "start_time": "2023-09-08T18:27:00.315082",
   "version": "2.4.0"
  }
 },
 "nbformat": 4,
 "nbformat_minor": 5
}
