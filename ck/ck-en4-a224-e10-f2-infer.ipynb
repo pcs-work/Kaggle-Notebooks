{
 "cells": [
  {
   "cell_type": "markdown",
   "id": "079f8d6b",
   "metadata": {
    "_cell_guid": "b1076dfc-b9ad-4769-8c92-a6c4dae69d19",
    "_uuid": "8f2839f25d086af736a60e9eeb907d3b93b6e0e5",
    "papermill": {
     "duration": 0.017422,
     "end_time": "2023-09-10T07:24:40.000150",
     "exception": false,
     "start_time": "2023-09-10T07:24:39.982728",
     "status": "completed"
    },
    "tags": []
   },
   "source": [
    "### **Setup**"
   ]
  },
  {
   "cell_type": "code",
   "execution_count": 1,
   "id": "8f295daa",
   "metadata": {
    "execution": {
     "iopub.execute_input": "2023-09-10T07:24:40.035373Z",
     "iopub.status.busy": "2023-09-10T07:24:40.035025Z",
     "iopub.status.idle": "2023-09-10T07:24:51.323017Z",
     "shell.execute_reply": "2023-09-10T07:24:51.321989Z"
    },
    "papermill": {
     "duration": 11.308763,
     "end_time": "2023-09-10T07:24:51.325655",
     "exception": false,
     "start_time": "2023-09-10T07:24:40.016892",
     "status": "completed"
    },
    "tags": []
   },
   "outputs": [],
   "source": [
    "%%bash\n",
    "pip install timm -q"
   ]
  },
  {
   "cell_type": "markdown",
   "id": "3cab56e3",
   "metadata": {
    "papermill": {
     "duration": 0.016783,
     "end_time": "2023-09-10T07:24:51.359804",
     "exception": false,
     "start_time": "2023-09-10T07:24:51.343021",
     "status": "completed"
    },
    "tags": []
   },
   "source": [
    "### **Library Imports**"
   ]
  },
  {
   "cell_type": "code",
   "execution_count": 2,
   "id": "e2c871a9",
   "metadata": {
    "execution": {
     "iopub.execute_input": "2023-09-10T07:24:51.394258Z",
     "iopub.status.busy": "2023-09-10T07:24:51.393962Z",
     "iopub.status.idle": "2023-09-10T07:24:58.205874Z",
     "shell.execute_reply": "2023-09-10T07:24:58.204897Z"
    },
    "papermill": {
     "duration": 6.831868,
     "end_time": "2023-09-10T07:24:58.208335",
     "exception": false,
     "start_time": "2023-09-10T07:24:51.376467",
     "status": "completed"
    },
    "tags": []
   },
   "outputs": [
    {
     "name": "stderr",
     "output_type": "stream",
     "text": [
      "/opt/conda/lib/python3.10/site-packages/scipy/__init__.py:146: UserWarning: A NumPy version >=1.16.5 and <1.23.0 is required for this version of SciPy (detected version 1.23.5\n",
      "  warnings.warn(f\"A NumPy version >={np_minversion} and <{np_maxversion}\"\n"
     ]
    }
   ],
   "source": [
    "import os\n",
    "import re\n",
    "import cv2\n",
    "import timm\n",
    "import torch\n",
    "import numpy as np\n",
    "import pandas as pd\n",
    "import matplotlib.pyplot as plt\n",
    "\n",
    "from time import time\n",
    "from scipy import stats\n",
    "from typing import Union\n",
    "from torch import nn, optim\n",
    "from torch.utils.data import Dataset\n",
    "from torch.utils.data import DataLoader as DL\n",
    "from torchvision import transforms\n",
    "\n",
    "from sklearn.model_selection import KFold\n",
    "from sklearn.preprocessing import StandardScaler"
   ]
  },
  {
   "cell_type": "markdown",
   "id": "0773e5ac",
   "metadata": {
    "papermill": {
     "duration": 0.016546,
     "end_time": "2023-09-10T07:24:58.242214",
     "exception": false,
     "start_time": "2023-09-10T07:24:58.225668",
     "status": "completed"
    },
    "tags": []
   },
   "source": [
    "### **Utilities and Helpers**"
   ]
  },
  {
   "cell_type": "code",
   "execution_count": 3,
   "id": "11ee9231",
   "metadata": {
    "execution": {
     "iopub.execute_input": "2023-09-10T07:24:58.277060Z",
     "iopub.status.busy": "2023-09-10T07:24:58.276617Z",
     "iopub.status.idle": "2023-09-10T07:24:58.284395Z",
     "shell.execute_reply": "2023-09-10T07:24:58.283380Z"
    },
    "papermill": {
     "duration": 0.027526,
     "end_time": "2023-09-10T07:24:58.286439",
     "exception": false,
     "start_time": "2023-09-10T07:24:58.258913",
     "status": "completed"
    },
    "tags": []
   },
   "outputs": [],
   "source": [
    "SEED: int = 42\n",
    "SIZE: int = 224\n",
    "\n",
    "\n",
    "def breaker(num: int=50, char: str=\"*\") -> None: print(\"\\n\" + num*char + \"\\n\")\n",
    "\n",
    "    \n",
    "def get_image(path: str, size: int=224) -> np.ndarray:\n",
    "    image = cv2.imread(path, cv2.IMREAD_COLOR)\n",
    "    image = cv2.cvtColor(src=image, code=cv2.COLOR_BGR2RGB)\n",
    "    return cv2.resize(src=image, dsize=(size, size), interpolation=cv2.INTER_AREA)\n",
    "\n",
    "    \n",
    "# def show_loss_graphs(L: list) -> None:\n",
    "#     TL, VL = [], []\n",
    "#     for i in range(len(L)):\n",
    "#         TL.append(L[i][\"train\"])\n",
    "#         VL.append(L[i][\"valid\"])\n",
    "#     x_Axis = np.arange(1, len(TL) + 1)\n",
    "#     plt.figure()\n",
    "#     plt.plot(x_Axis, TL, \"r\", label=\"Train\")\n",
    "#     plt.plot(x_Axis, VL, \"b\", label=\"Valid\")\n",
    "#     plt.legend()\n",
    "#     plt.grid()\n",
    "#     plt.title(\"Loss Graph\")\n",
    "#     plt.show()\n",
    "\n",
    "    \n",
    "# def show_accuracy_graphs(A: list) -> None:\n",
    "#     TA, VA = [], []\n",
    "#     for i in range(len(A)):\n",
    "#         TA.append(A[i][\"train\"])\n",
    "#         VA.append(A[i][\"valid\"])\n",
    "#     x_Axis = np.arange(1, len(TA) + 1)\n",
    "#     plt.figure()\n",
    "#     plt.plot(x_Axis, TA, \"r\", label=\"Train\")\n",
    "#     plt.plot(x_Axis, VA, \"b\", label=\"Valid\")\n",
    "#     plt.legend()\n",
    "#     plt.grid()\n",
    "#     plt.title(\"Accuracy Graph\")\n",
    "#     plt.show()\n",
    "    \n",
    "\n",
    "# def show_lr_graph(LR: list) -> None:\n",
    "#     x_Axis = [i+1 for i in range(len(LR))]\n",
    "#     plt.figure(figsize=(8, 6))\n",
    "#     plt.plot(x_Axis, LR, \"rx\")\n",
    "#     plt.grid()\n",
    "#     plt.show()"
   ]
  },
  {
   "cell_type": "markdown",
   "id": "a2a573c6",
   "metadata": {
    "papermill": {
     "duration": 0.016724,
     "end_time": "2023-09-10T07:24:58.319793",
     "exception": false,
     "start_time": "2023-09-10T07:24:58.303069",
     "status": "completed"
    },
    "tags": []
   },
   "source": [
    "\n",
    "\n",
    "### **Configuration**"
   ]
  },
  {
   "cell_type": "code",
   "execution_count": 4,
   "id": "3fd5d40b",
   "metadata": {
    "execution": {
     "iopub.execute_input": "2023-09-10T07:24:58.354702Z",
     "iopub.status.busy": "2023-09-10T07:24:58.354397Z",
     "iopub.status.idle": "2023-09-10T07:24:58.432178Z",
     "shell.execute_reply": "2023-09-10T07:24:58.431215Z"
    },
    "papermill": {
     "duration": 0.098433,
     "end_time": "2023-09-10T07:24:58.434936",
     "exception": false,
     "start_time": "2023-09-10T07:24:58.336503",
     "status": "completed"
    },
    "tags": []
   },
   "outputs": [],
   "source": [
    "class CFG(object):\n",
    "    def __init__(\n",
    "        self, \n",
    "        seed: int = 42,\n",
    "        size: int = 224,\n",
    "        n_splits: int = 5,\n",
    "        batch_size: int = 16,\n",
    "        epochs: int = 25,\n",
    "        early_stopping: int = 5,\n",
    "        lr: float = 1e-4,\n",
    "        wd: float = 0.0,\n",
    "        max_lr: float = 1e-3,\n",
    "        pct_start: float = 0.2,\n",
    "        steps_per_epoch: int = 100,\n",
    "        div_factor: int = 1e3, \n",
    "        final_div_factor: float = 1e3,\n",
    "    ):\n",
    "        self.seed = seed\n",
    "        self.size = size\n",
    "        self.n_splits = n_splits\n",
    "        self.batch_size = batch_size\n",
    "        self.epochs = epochs\n",
    "        self.early_stopping = early_stopping\n",
    "        self.lr = lr\n",
    "        self.wd = wd\n",
    "        self.max_lr = max_lr\n",
    "        self.pct_start = pct_start\n",
    "        self.steps_per_epoch = steps_per_epoch\n",
    "        self.div_factor = div_factor\n",
    "        self.final_div_factor = final_div_factor\n",
    "        self.device = torch.device(\"cuda\" if torch.cuda.is_available() else \"cpu\")\n",
    "        \n",
    "        if self.size == 224:\n",
    "            self.train_transform = transforms.Compose([\n",
    "                transforms.ToTensor(),\n",
    "                transforms.Normalize(\n",
    "                    [0.15007, 0.14655, 0.14763], \n",
    "                    [0.29899, 0.28881, 0.29155]),\n",
    "                transforms.RandomAffine(degrees=(-45, 45), translate=(0.15, 0.15), scale=(0.5, 1.5)),\n",
    "                transforms.RandomHorizontalFlip(p=0.25),\n",
    "                transforms.RandomVerticalFlip(p=0.25),\n",
    "            ])\n",
    "            self.valid_transform = transforms.Compose([\n",
    "                transforms.ToTensor(),\n",
    "                transforms.Normalize(\n",
    "                    [0.15007, 0.14655, 0.14763], \n",
    "                    [0.29899, 0.28881, 0.29155]),\n",
    "            ])\n",
    "        \n",
    "        if self.size == 384:\n",
    "            self.train_transform = transforms.Compose([\n",
    "                transforms.ToTensor(),\n",
    "                transforms.Normalize(\n",
    "                    [0.14990, 0.14639, 0.14749], \n",
    "                    [0.29882, 0.28866, 0.29141]),\n",
    "                transforms.RandomAffine(degrees=(-45, 45), translate=(0.15, 0.15), scale=(0.5, 1.5)),\n",
    "                transforms.RandomHorizontalFlip(p=0.25),\n",
    "                transforms.RandomVerticalFlip(p=0.25),\n",
    "            ])\n",
    "            self.valid_transform = transforms.Compose([\n",
    "                transforms.ToTensor(),\n",
    "                transforms.Normalize(\n",
    "                    [0.14990, 0.14639, 0.14749], \n",
    "                    [0.29882, 0.28866, 0.29141]),\n",
    "            ])\n",
    "        \n",
    "        if self.size == 512:\n",
    "            self.train_transform = transforms.Compose([\n",
    "                transforms.ToTensor(),\n",
    "                transforms.Normalize(\n",
    "                    [0.15000, 0.14648, 0.14758], \n",
    "                    [0.29885, 0.28868, 0.29144]),\n",
    "                transforms.RandomAffine(degrees=(-45, 45), translate=(0.15, 0.15), scale=(0.5, 1.5)),\n",
    "                transforms.RandomHorizontalFlip(p=0.25),\n",
    "                transforms.RandomVerticalFlip(p=0.25),\n",
    "            ])\n",
    "            self.valid_transform = transforms.Compose([\n",
    "                transforms.ToTensor(),\n",
    "                transforms.Normalize(\n",
    "                    [0.15000, 0.14648, 0.14758], \n",
    "                    [0.29885, 0.28868, 0.29144]),\n",
    "            ])\n",
    "        \n",
    "        if self.size == 768:\n",
    "            self.train_transform = transforms.Compose([\n",
    "                transforms.ToTensor(),\n",
    "                transforms.Normalize(\n",
    "                    [0.15006, 0.14653, 0.14762], \n",
    "                    [0.29901, 0.28882, 0.29157]),\n",
    "                transforms.RandomAffine(degrees=(-45, 45), translate=(0.15, 0.15), scale=(0.5, 1.5)),\n",
    "                transforms.RandomHorizontalFlip(p=0.25),\n",
    "                transforms.RandomVerticalFlip(p=0.25),\n",
    "            ])\n",
    "            self.valid_transform = transforms.Compose([\n",
    "                transforms.ToTensor(),\n",
    "                transforms.Normalize(\n",
    "                    [0.15006, 0.14653, 0.14762], \n",
    "                    [0.29901, 0.28882, 0.29157]),\n",
    "            ])\n",
    "                    \n",
    "        self.save_path = \"saves\"\n",
    "        if not os.path.exists(self.save_path): os.makedirs(self.save_path)\n",
    "    \n",
    "cfg = CFG(\n",
    "    seed=SEED, \n",
    "    size=SIZE,\n",
    ")"
   ]
  },
  {
   "cell_type": "markdown",
   "id": "94a74239",
   "metadata": {
    "papermill": {
     "duration": 0.016821,
     "end_time": "2023-09-10T07:24:58.468869",
     "exception": false,
     "start_time": "2023-09-10T07:24:58.452048",
     "status": "completed"
    },
    "tags": []
   },
   "source": [
    "### **Dataset Template**"
   ]
  },
  {
   "cell_type": "code",
   "execution_count": 5,
   "id": "6b6fe81b",
   "metadata": {
    "execution": {
     "iopub.execute_input": "2023-09-10T07:24:58.503526Z",
     "iopub.status.busy": "2023-09-10T07:24:58.503202Z",
     "iopub.status.idle": "2023-09-10T07:24:58.511149Z",
     "shell.execute_reply": "2023-09-10T07:24:58.509455Z"
    },
    "papermill": {
     "duration": 0.027733,
     "end_time": "2023-09-10T07:24:58.513223",
     "exception": false,
     "start_time": "2023-09-10T07:24:58.485490",
     "status": "completed"
    },
    "tags": []
   },
   "outputs": [],
   "source": [
    "class DS(Dataset):\n",
    "    def __init__(\n",
    "        self, \n",
    "        filepaths: np.ndarray,\n",
    "        size: int,\n",
    "        labels: Union[np.ndarray, None]=None, \n",
    "        transform=None\n",
    "    ):\n",
    "        \n",
    "        self.filepaths = filepaths\n",
    "        self.size = size\n",
    "        self.labels = labels\n",
    "        self.transform = transform\n",
    "    \n",
    "    def __len__(self):\n",
    "        return self.filepaths.shape[0]\n",
    "    \n",
    "    def __getitem__(self, idx):\n",
    "        image = get_image(self.filepaths[idx], self.size)\n",
    "        if self.labels is None:\n",
    "            return self.transform(image)\n",
    "        return self.transform(image), torch.FloatTensor(self.labels[idx])"
   ]
  },
  {
   "cell_type": "markdown",
   "id": "78690844",
   "metadata": {
    "papermill": {
     "duration": 0.016484,
     "end_time": "2023-09-10T07:24:58.546386",
     "exception": false,
     "start_time": "2023-09-10T07:24:58.529902",
     "status": "completed"
    },
    "tags": []
   },
   "source": [
    "### **Model**"
   ]
  },
  {
   "cell_type": "code",
   "execution_count": 6,
   "id": "63dcaac0",
   "metadata": {
    "execution": {
     "iopub.execute_input": "2023-09-10T07:24:58.581456Z",
     "iopub.status.busy": "2023-09-10T07:24:58.581078Z",
     "iopub.status.idle": "2023-09-10T07:24:58.586979Z",
     "shell.execute_reply": "2023-09-10T07:24:58.585965Z"
    },
    "papermill": {
     "duration": 0.026333,
     "end_time": "2023-09-10T07:24:58.589444",
     "exception": false,
     "start_time": "2023-09-10T07:24:58.563111",
     "status": "completed"
    },
    "tags": []
   },
   "outputs": [],
   "source": [
    "class Model(nn.Module):\n",
    "    def __init__(self):\n",
    "        super(Model, self).__init__()\n",
    "            \n",
    "        self.model = timm.create_model(model_name=\"efficientnet_b4\", pretrained=False)\n",
    "        self.model.classifier = nn.Linear(in_features=self.model.classifier.in_features, out_features=1)\n",
    "\n",
    "    def forward(self, x):\n",
    "        return self.model(x)"
   ]
  },
  {
   "cell_type": "markdown",
   "id": "7798d00c",
   "metadata": {
    "papermill": {
     "duration": 0.016829,
     "end_time": "2023-09-10T07:24:58.623341",
     "exception": false,
     "start_time": "2023-09-10T07:24:58.606512",
     "status": "completed"
    },
    "tags": []
   },
   "source": [
    "### **Fit and Predict**"
   ]
  },
  {
   "cell_type": "code",
   "execution_count": 7,
   "id": "5ec9a219",
   "metadata": {
    "execution": {
     "iopub.execute_input": "2023-09-10T07:24:58.658064Z",
     "iopub.status.busy": "2023-09-10T07:24:58.657805Z",
     "iopub.status.idle": "2023-09-10T07:24:58.668191Z",
     "shell.execute_reply": "2023-09-10T07:24:58.667311Z"
    },
    "papermill": {
     "duration": 0.030287,
     "end_time": "2023-09-10T07:24:58.670219",
     "exception": false,
     "start_time": "2023-09-10T07:24:58.639932",
     "status": "completed"
    },
    "tags": []
   },
   "outputs": [],
   "source": [
    "# def fit(\n",
    "#     model=None,\n",
    "#     optimizer=None, \n",
    "#     scheduler_rlrop=None,\n",
    "#     scheduler_oclr=None,\n",
    "#     epochs=None, \n",
    "#     early_stopping_patience=None, \n",
    "#     dataloaders=None, \n",
    "#     fold=None, \n",
    "#     save_path=None,\n",
    "#     device=None,\n",
    "#     verbose=False\n",
    "# ) -> tuple:\n",
    "    \n",
    "#     if verbose:\n",
    "#         breaker()\n",
    "#         if fold: print(f\"Training Fold {fold}...\")\n",
    "#         else: print(\"Training ...\")\n",
    "#         breaker()\n",
    "        \n",
    "#     bestLoss: dict = {\"train\" : np.inf, \"valid\" : np.inf} \n",
    "    \n",
    "#     Losses: list = []\n",
    "#     LRs: list = []\n",
    "        \n",
    "#     if fold: \n",
    "#         ble_name = f\"ble_state_fold_{fold}.pt\"\n",
    "#     else: \n",
    "#         ble_name = f\"ble_state.pt\"\n",
    "        \n",
    "#     start_time = time()\n",
    "#     for e in range(epochs):\n",
    "#         e_st = time()\n",
    "#         epochLoss: dict = {\"train\" : 0.0, \"valid\" : 0.0} \n",
    "\n",
    "#         for phase in [\"train\", \"valid\"]:\n",
    "#             if phase == \"train\":\n",
    "#                 model.train()\n",
    "#             else:\n",
    "#                 model.eval()\n",
    "            \n",
    "#             lossPerPass: list = []\n",
    "                \n",
    "#             for X, y in dataloaders[phase]:\n",
    "#                 X, y = X.to(device), y.to(device)\n",
    "                \n",
    "#                 optimizer.zero_grad()\n",
    "#                 with torch.set_grad_enabled(phase == \"train\"):\n",
    "#                     output = model(X)\n",
    "#                     loss = nn.MSELoss()(output, y)\n",
    "#                     if phase == \"train\":\n",
    "#                         loss.backward()\n",
    "#                         optimizer.step()\n",
    "#                         if scheduler_oclr: scheduler_oclr.step()\n",
    "#                 lossPerPass.append(loss.item())\n",
    "#             epochLoss[phase] = np.mean(np.array(lossPerPass))\n",
    "#         if scheduler_oclr: LRs.append(scheduler_oclr.get_last_lr())\n",
    "#         Losses.append(epochLoss)\n",
    "        \n",
    "#         if scheduler_oclr:\n",
    "#             save_dict = {\"model_state_dict\"     : model.state_dict(),\n",
    "#                          \"optim_state_dict\"     : optimizer.state_dict(),\n",
    "#                          \"scheduler_state_dict\" : scheduler_oclr.state_dict()}\n",
    "        \n",
    "#         elif scheduler_rlrop:\n",
    "#             save_dict = {\"model_state_dict\"     : model.state_dict(),\n",
    "#                          \"optim_state_dict\"     : optimizer.state_dict(),\n",
    "#                          \"scheduler_state_dict\" : scheduler_rlrop.state_dict()}\n",
    "        \n",
    "#         else:\n",
    "#             save_dict = {\"model_state_dict\"     : model.state_dict(),\n",
    "#                          \"optim_state_dict\"     : optimizer.state_dict()}\n",
    "        \n",
    "#         if early_stopping_patience:\n",
    "#             if epochLoss[\"valid\"] < bestLoss[\"valid\"]:\n",
    "#                 bestLoss = epochLoss\n",
    "#                 BLE = e + 1\n",
    "#                 torch.save(save_dict, os.path.join(save_path, ble_name))\n",
    "#                 early_stopping_step = 0\n",
    "#             else:\n",
    "#                 early_stopping_step += 1\n",
    "#                 if early_stopping_step > early_stopping_patience:\n",
    "#                     print(\"\\nEarly Stopping at Epoch {}\".format(e + 1))\n",
    "#                     break\n",
    "        \n",
    "#         if epochLoss[\"valid\"] < bestLoss[\"valid\"]:\n",
    "#             bestLoss = epochLoss\n",
    "#             BLE = e + 1\n",
    "#             torch.save(save_dict,os.path.join(save_path, ble_name))\n",
    "        \n",
    "#         if scheduler_rlrop: scheduler_rlrop.step(epochLoss[\"valid\"])\n",
    "        \n",
    "#         if verbose:\n",
    "#             print(\"Epoch: {} | Train Loss: {:.5f} | Valid Loss: {:.5f} | Time: {:.2f} seconds\".format(e+1, epochLoss[\"train\"], epochLoss[\"valid\"], time()-e_st))\n",
    "\n",
    "#     if verbose:                                           \n",
    "#         breaker()\n",
    "#         print(f\"Best Validation Loss at Epoch {BLE}\")\n",
    "#         breaker()\n",
    "#         print(\"Time Taken [{} Epochs] : {:.2f} minutes\".format(len(Losses), (time()-start_time)/60))\n",
    "    \n",
    "#     return Losses, LRs, bestLoss, BLE, ble_name\n",
    "\n",
    "\n",
    "def predict_batch(\n",
    "    model=None, \n",
    "    dataloader=None, \n",
    "    path=None, \n",
    "    device=None\n",
    ") -> np.ndarray:\n",
    "    model.load_state_dict(torch.load(path, map_location=device)[\"model_state_dict\"])\n",
    "    model.to(device)    \n",
    "    model.eval()\n",
    "    \n",
    "    y_pred = torch.zeros(1, 1).to(device)\n",
    "    \n",
    "    for X in dataloader:\n",
    "        X = X.to(device)\n",
    "        with torch.no_grad():\n",
    "            output = model(X)\n",
    "        y_pred = torch.cat((y_pred, output.view(-1, 1)), dim=0)\n",
    "    \n",
    "    return y_pred[1:].detach().cpu().numpy()"
   ]
  },
  {
   "cell_type": "markdown",
   "id": "f9a73aad",
   "metadata": {
    "papermill": {
     "duration": 0.016614,
     "end_time": "2023-09-10T07:24:58.703349",
     "exception": false,
     "start_time": "2023-09-10T07:24:58.686735",
     "status": "completed"
    },
    "tags": []
   },
   "source": [
    "### **Train**"
   ]
  },
  {
   "cell_type": "code",
   "execution_count": 8,
   "id": "ac17538f",
   "metadata": {
    "execution": {
     "iopub.execute_input": "2023-09-10T07:24:58.738115Z",
     "iopub.status.busy": "2023-09-10T07:24:58.737831Z",
     "iopub.status.idle": "2023-09-10T07:24:58.780629Z",
     "shell.execute_reply": "2023-09-10T07:24:58.779738Z"
    },
    "papermill": {
     "duration": 0.062569,
     "end_time": "2023-09-10T07:24:58.782799",
     "exception": false,
     "start_time": "2023-09-10T07:24:58.720230",
     "status": "completed"
    },
    "tags": []
   },
   "outputs": [],
   "source": [
    "df = pd.read_csv(\"/kaggle/input/ck-dataframe/train.csv\")\n",
    "\n",
    "filepaths = df.filepaths.copy().values\n",
    "labels = df.price.copy().values\n",
    "labels = np.array([float(\"\".join(label.split(\",\"))) for label in labels])\n",
    "\n",
    "sc_y = StandardScaler()\n",
    "labels = sc_y.fit_transform(labels.reshape(-1, 1)).reshape(-1)"
   ]
  },
  {
   "cell_type": "code",
   "execution_count": 9,
   "id": "436473af",
   "metadata": {
    "execution": {
     "iopub.execute_input": "2023-09-10T07:24:58.818030Z",
     "iopub.status.busy": "2023-09-10T07:24:58.817765Z",
     "iopub.status.idle": "2023-09-10T07:24:58.823939Z",
     "shell.execute_reply": "2023-09-10T07:24:58.822927Z"
    },
    "papermill": {
     "duration": 0.026365,
     "end_time": "2023-09-10T07:24:58.826313",
     "exception": false,
     "start_time": "2023-09-10T07:24:58.799948",
     "status": "completed"
    },
    "tags": []
   },
   "outputs": [],
   "source": [
    "# fold: int = 1\n",
    "# BLs: list = []\n",
    "# BAs: list = []\n",
    "    \n",
    "# cfg.batch_size = 64\n",
    "# cfg.epochs = 10\n",
    "    \n",
    "# for tr_idx, va_idx in KFold(n_splits=cfg.n_splits, random_state=cfg.seed, shuffle=True).split(filepaths):\n",
    "#     if fold == 2: break\n",
    "#     fold += 1\n",
    "    \n",
    "# tr_filepaths, va_filepaths = filepaths[tr_idx], filepaths[va_idx] \n",
    "# tr_labels, va_labels       = labels[tr_idx], labels[va_idx]\n",
    "\n",
    "# tr_data_setup = DS(\n",
    "#     filepaths=tr_filepaths,\n",
    "#     size=cfg.size,\n",
    "#     labels=tr_labels.reshape(-1, 1),\n",
    "#     transform=cfg.train_transform\n",
    "# )\n",
    "\n",
    "# va_data_setup = DS(\n",
    "#     filepaths=va_filepaths,\n",
    "#     size = cfg.size,\n",
    "#     labels=va_labels.reshape(-1, 1),\n",
    "#     transform=cfg.valid_transform\n",
    "# )\n",
    "\n",
    "# dataloaders = {\n",
    "#     \"train\" : DL(tr_data_setup, batch_size=cfg.batch_size, shuffle=True, generator=torch.manual_seed(cfg.seed)),\n",
    "#     \"valid\" : DL(va_data_setup, batch_size=cfg.batch_size, shuffle=False),\n",
    "# }\n",
    "\n",
    "# cfg.steps_per_epoch=len(dataloaders[\"train\"])\n",
    "\n",
    "# torch.manual_seed(cfg.seed)\n",
    "# model = Model().to(cfg.device)\n",
    "\n",
    "# optimizer = optim.Adam([p for p in model.parameters() if p.requires_grad], lr=cfg.lr, weight_decay=cfg.wd)\n",
    "# # optimizer = optim.AdamW([p for p in model.parameters() if p.requires_grad], lr=cfg.lr, weight_decay=cfg.wd)\n",
    "# # optimizer = optim.SGD([p for p in model.parameters() if p.requires_grad], lr=cfg.lr, weight_decay=cfg.wd, momentum=0.9)\n",
    "\n",
    "# scheduler_oclr = optim.lr_scheduler.OneCycleLR(\n",
    "#     optimizer=optimizer, \n",
    "#     max_lr=cfg.max_lr, \n",
    "#     epochs=cfg.epochs, \n",
    "#     steps_per_epoch=cfg.steps_per_epoch,\n",
    "#     pct_start=cfg.pct_start, \n",
    "#     div_factor=cfg.div_factor, \n",
    "#     final_div_factor=cfg.final_div_factor\n",
    "# )\n",
    "\n",
    "# # scheduler_rlrop = optim.lr_scheduler.ReduceLROnPlateau(\n",
    "# #     optimizer=optimizer,\n",
    "# #     patience=cfg.patience,\n",
    "# #     eps=cfg.eps,\n",
    "# #     verbose=True\n",
    "# # )\n",
    "\n",
    "# # scheduler_oclr = None\n",
    "# scheduler_rlrop = None\n",
    "\n",
    "\n",
    "# L, LR, BL, _, _ = fit(\n",
    "#     model=model, \n",
    "#     optimizer=optimizer, \n",
    "#     scheduler_oclr=scheduler_oclr,\n",
    "#     scheduler_rlrop=scheduler_rlrop,\n",
    "#     epochs=cfg.epochs, \n",
    "#     early_stopping_patience=cfg.early_stopping, \n",
    "#     dataloaders=dataloaders, \n",
    "#     device=cfg.device,\n",
    "#     save_path=cfg.save_path,\n",
    "#     fold=fold,\n",
    "#     verbose=True\n",
    "# )\n",
    "\n",
    "# # breaker()\n",
    "# # show_loss_graphs(L)\n",
    "# # breaker()\n",
    "# # show_accuracy_graphs(A)\n",
    "# # breaker()\n",
    "# # if scheduler_oclr:\n",
    "# #     show_lr_graph(LR)\n",
    "# #     breaker()\n",
    "\n",
    "# # BLs.append(BL)\n",
    "# # BAs.append(BA)\n",
    "\n",
    "# # fold += 1"
   ]
  },
  {
   "cell_type": "markdown",
   "id": "8da56621",
   "metadata": {
    "papermill": {
     "duration": 0.016356,
     "end_time": "2023-09-10T07:24:58.859742",
     "exception": false,
     "start_time": "2023-09-10T07:24:58.843386",
     "status": "completed"
    },
    "tags": []
   },
   "source": [
    "### **Best Model**"
   ]
  },
  {
   "cell_type": "code",
   "execution_count": 10,
   "id": "003b083e",
   "metadata": {
    "execution": {
     "iopub.execute_input": "2023-09-10T07:24:58.897068Z",
     "iopub.status.busy": "2023-09-10T07:24:58.896788Z",
     "iopub.status.idle": "2023-09-10T07:24:58.901634Z",
     "shell.execute_reply": "2023-09-10T07:24:58.900637Z"
    },
    "papermill": {
     "duration": 0.02424,
     "end_time": "2023-09-10T07:24:58.903537",
     "exception": false,
     "start_time": "2023-09-10T07:24:58.879297",
     "status": "completed"
    },
    "tags": []
   },
   "outputs": [],
   "source": [
    "# BL = np.inf\n",
    "# for i in range(len(BLs)):\n",
    "#     if BLs[i][\"valid\"] < BL:\n",
    "#         BL = BLs[i][\"valid\"]\n",
    "#         best_loss_index = i\n",
    "\n",
    "        \n",
    "# BA = 0.0\n",
    "# for i in range(len(BAs)):\n",
    "#     if BAs[i][\"valid\"] > BA:\n",
    "#         BA = BAs[i][\"valid\"]\n",
    "#         best_accs_index = i\n",
    "\n",
    "# breaker()\n",
    "# print(f\"Best Loss Model Fold     : {best_loss_index + 1}\")\n",
    "# print(f\"Best Accuracy Model Fold : {best_accs_index + 1}\")\n",
    "# breaker()"
   ]
  },
  {
   "cell_type": "markdown",
   "id": "7c51fc98",
   "metadata": {
    "papermill": {
     "duration": 0.016597,
     "end_time": "2023-09-10T07:24:58.936729",
     "exception": false,
     "start_time": "2023-09-10T07:24:58.920132",
     "status": "completed"
    },
    "tags": []
   },
   "source": [
    "### **Submission**"
   ]
  },
  {
   "cell_type": "code",
   "execution_count": 11,
   "id": "bb10d531",
   "metadata": {
    "execution": {
     "iopub.execute_input": "2023-09-10T07:24:58.972003Z",
     "iopub.status.busy": "2023-09-10T07:24:58.971214Z",
     "iopub.status.idle": "2023-09-10T07:25:31.203157Z",
     "shell.execute_reply": "2023-09-10T07:25:31.202118Z"
    },
    "papermill": {
     "duration": 32.252106,
     "end_time": "2023-09-10T07:25:31.205490",
     "exception": false,
     "start_time": "2023-09-10T07:24:58.953384",
     "status": "completed"
    },
    "tags": []
   },
   "outputs": [],
   "source": [
    "df = pd.read_csv(\"/kaggle/input/ck-dataframe/test.csv\")\n",
    "\n",
    "ts_filepaths = df.filepaths.copy().values\n",
    "ts_data_setup = DS(\n",
    "    filepaths=ts_filepaths,\n",
    "    size=cfg.size,\n",
    "    labels=None,\n",
    "    transform=cfg.valid_transform\n",
    ")\n",
    "ts_data = DL(ts_data_setup, batch_size=cfg.batch_size, shuffle=False)\n",
    "\n",
    "model = Model().to(cfg.device)\n",
    "\n",
    "y_pred = predict_batch(\n",
    "    model=model, \n",
    "    dataloader=ts_data, \n",
    "    path=\"/kaggle/input/ck-en4-a224-e10-f2/saves/ble_state_fold_2.pt\", \n",
    "    device=cfg.device\n",
    ")\n",
    "y_pred = sc_y.inverse_transform(y_pred)\n",
    "\n",
    "ss_df = pd.read_csv(\"/kaggle/input/how-much-would-you-pay-for-a-fake-cat/sample_submission.csv\")\n",
    "ss_df.price = y_pred\n",
    "ss_df.to_csv(\"submission.csv\", index=False)"
   ]
  }
 ],
 "kernelspec": {
  "display_name": "Python 3",
  "language": "python",
  "name": "python3"
 },
 "language_info": {
  "codemirror_mode": {
   "name": "ipython",
   "version": 3
  },
  "file_extension": ".py",
  "mimetype": "text/x-python",
  "name": "python",
  "nbconvert_exporter": "python",
  "pygments_lexer": "ipython3",
  "version": "3.6.4"
 },
 "metadata": {
  "kernelspec": {
   "display_name": "Python 3",
   "language": "python",
   "name": "python3"
  },
  "language_info": {
   "codemirror_mode": {
    "name": "ipython",
    "version": 3
   },
   "file_extension": ".py",
   "mimetype": "text/x-python",
   "name": "python",
   "nbconvert_exporter": "python",
   "pygments_lexer": "ipython3",
   "version": "3.10.12"
  },
  "papermill": {
   "default_parameters": {},
   "duration": 56.210777,
   "end_time": "2023-09-10T07:25:32.946965",
   "environment_variables": {},
   "exception": null,
   "input_path": "__notebook__.ipynb",
   "output_path": "__notebook__.ipynb",
   "parameters": {},
   "start_time": "2023-09-10T07:24:36.736188",
   "version": "2.4.0"
  },
  "widgets": {
   "application/vnd.jupyter.widget-state+json": {
    "state": {
     "01a2ea051e304c948c6fc7d0da48761c": {
      "model_module": "@jupyter-widgets/controls",
      "model_module_version": "1.5.0",
      "model_name": "FloatProgressModel",
      "state": {
       "_dom_classes": [],
       "_model_module": "@jupyter-widgets/controls",
       "_model_module_version": "1.5.0",
       "_model_name": "FloatProgressModel",
       "_view_count": null,
       "_view_module": "@jupyter-widgets/controls",
       "_view_module_version": "1.5.0",
       "_view_name": "ProgressView",
       "bar_style": "success",
       "description": "",
       "description_tooltip": null,
       "layout": "IPY_MODEL_5d89834b6f6c4a0b8bf873e2a1f83fcb",
       "max": 77933206,
       "min": 0,
       "orientation": "horizontal",
       "style": "IPY_MODEL_537473f8e47e4db0931ae423ae63959c",
       "value": 77933206
      }
     },
     "1e73ef05128640509bc78e56d7c8f264": {
      "model_module": "@jupyter-widgets/base",
      "model_module_version": "1.2.0",
      "model_name": "LayoutModel",
      "state": {
       "_model_module": "@jupyter-widgets/base",
       "_model_module_version": "1.2.0",
       "_model_name": "LayoutModel",
       "_view_count": null,
       "_view_module": "@jupyter-widgets/base",
       "_view_module_version": "1.2.0",
       "_view_name": "LayoutView",
       "align_content": null,
       "align_items": null,
       "align_self": null,
       "border": null,
       "bottom": null,
       "display": null,
       "flex": null,
       "flex_flow": null,
       "grid_area": null,
       "grid_auto_columns": null,
       "grid_auto_flow": null,
       "grid_auto_rows": null,
       "grid_column": null,
       "grid_gap": null,
       "grid_row": null,
       "grid_template_areas": null,
       "grid_template_columns": null,
       "grid_template_rows": null,
       "height": null,
       "justify_content": null,
       "justify_items": null,
       "left": null,
       "margin": null,
       "max_height": null,
       "max_width": null,
       "min_height": null,
       "min_width": null,
       "object_fit": null,
       "object_position": null,
       "order": null,
       "overflow": null,
       "overflow_x": null,
       "overflow_y": null,
       "padding": null,
       "right": null,
       "top": null,
       "visibility": null,
       "width": null
      }
     },
     "22141e88c0a24d44b298ada23550397c": {
      "model_module": "@jupyter-widgets/controls",
      "model_module_version": "1.5.0",
      "model_name": "HBoxModel",
      "state": {
       "_dom_classes": [],
       "_model_module": "@jupyter-widgets/controls",
       "_model_module_version": "1.5.0",
       "_model_name": "HBoxModel",
       "_view_count": null,
       "_view_module": "@jupyter-widgets/controls",
       "_view_module_version": "1.5.0",
       "_view_name": "HBoxView",
       "box_style": "",
       "children": [
        "IPY_MODEL_880ca624f2d7448db91f7567d8880b92",
        "IPY_MODEL_01a2ea051e304c948c6fc7d0da48761c",
        "IPY_MODEL_e21cec11bafd4529be343eff27298655"
       ],
       "layout": "IPY_MODEL_e2aab6b34c744d119beb5cf8ab0d0cd4"
      }
     },
     "317198178fbc45939c4fa6ef4421c449": {
      "model_module": "@jupyter-widgets/controls",
      "model_module_version": "1.5.0",
      "model_name": "DescriptionStyleModel",
      "state": {
       "_model_module": "@jupyter-widgets/controls",
       "_model_module_version": "1.5.0",
       "_model_name": "DescriptionStyleModel",
       "_view_count": null,
       "_view_module": "@jupyter-widgets/base",
       "_view_module_version": "1.2.0",
       "_view_name": "StyleView",
       "description_width": ""
      }
     },
     "537473f8e47e4db0931ae423ae63959c": {
      "model_module": "@jupyter-widgets/controls",
      "model_module_version": "1.5.0",
      "model_name": "ProgressStyleModel",
      "state": {
       "_model_module": "@jupyter-widgets/controls",
       "_model_module_version": "1.5.0",
       "_model_name": "ProgressStyleModel",
       "_view_count": null,
       "_view_module": "@jupyter-widgets/base",
       "_view_module_version": "1.2.0",
       "_view_name": "StyleView",
       "bar_color": null,
       "description_width": ""
      }
     },
     "5d89834b6f6c4a0b8bf873e2a1f83fcb": {
      "model_module": "@jupyter-widgets/base",
      "model_module_version": "1.2.0",
      "model_name": "LayoutModel",
      "state": {
       "_model_module": "@jupyter-widgets/base",
       "_model_module_version": "1.2.0",
       "_model_name": "LayoutModel",
       "_view_count": null,
       "_view_module": "@jupyter-widgets/base",
       "_view_module_version": "1.2.0",
       "_view_name": "LayoutView",
       "align_content": null,
       "align_items": null,
       "align_self": null,
       "border": null,
       "bottom": null,
       "display": null,
       "flex": null,
       "flex_flow": null,
       "grid_area": null,
       "grid_auto_columns": null,
       "grid_auto_flow": null,
       "grid_auto_rows": null,
       "grid_column": null,
       "grid_gap": null,
       "grid_row": null,
       "grid_template_areas": null,
       "grid_template_columns": null,
       "grid_template_rows": null,
       "height": null,
       "justify_content": null,
       "justify_items": null,
       "left": null,
       "margin": null,
       "max_height": null,
       "max_width": null,
       "min_height": null,
       "min_width": null,
       "object_fit": null,
       "object_position": null,
       "order": null,
       "overflow": null,
       "overflow_x": null,
       "overflow_y": null,
       "padding": null,
       "right": null,
       "top": null,
       "visibility": null,
       "width": null
      }
     },
     "880ca624f2d7448db91f7567d8880b92": {
      "model_module": "@jupyter-widgets/controls",
      "model_module_version": "1.5.0",
      "model_name": "HTMLModel",
      "state": {
       "_dom_classes": [],
       "_model_module": "@jupyter-widgets/controls",
       "_model_module_version": "1.5.0",
       "_model_name": "HTMLModel",
       "_view_count": null,
       "_view_module": "@jupyter-widgets/controls",
       "_view_module_version": "1.5.0",
       "_view_name": "HTMLView",
       "description": "",
       "description_tooltip": null,
       "layout": "IPY_MODEL_f6b472248d934d03bb2d7648cbdeb651",
       "placeholder": "​",
       "style": "IPY_MODEL_317198178fbc45939c4fa6ef4421c449",
       "value": "Downloading model.safetensors: 100%"
      }
     },
     "9f72845fc45848778d2efcb76d51c68d": {
      "model_module": "@jupyter-widgets/controls",
      "model_module_version": "1.5.0",
      "model_name": "DescriptionStyleModel",
      "state": {
       "_model_module": "@jupyter-widgets/controls",
       "_model_module_version": "1.5.0",
       "_model_name": "DescriptionStyleModel",
       "_view_count": null,
       "_view_module": "@jupyter-widgets/base",
       "_view_module_version": "1.2.0",
       "_view_name": "StyleView",
       "description_width": ""
      }
     },
     "e21cec11bafd4529be343eff27298655": {
      "model_module": "@jupyter-widgets/controls",
      "model_module_version": "1.5.0",
      "model_name": "HTMLModel",
      "state": {
       "_dom_classes": [],
       "_model_module": "@jupyter-widgets/controls",
       "_model_module_version": "1.5.0",
       "_model_name": "HTMLModel",
       "_view_count": null,
       "_view_module": "@jupyter-widgets/controls",
       "_view_module_version": "1.5.0",
       "_view_name": "HTMLView",
       "description": "",
       "description_tooltip": null,
       "layout": "IPY_MODEL_1e73ef05128640509bc78e56d7c8f264",
       "placeholder": "​",
       "style": "IPY_MODEL_9f72845fc45848778d2efcb76d51c68d",
       "value": " 77.9M/77.9M [00:00&lt;00:00, 182MB/s]"
      }
     },
     "e2aab6b34c744d119beb5cf8ab0d0cd4": {
      "model_module": "@jupyter-widgets/base",
      "model_module_version": "1.2.0",
      "model_name": "LayoutModel",
      "state": {
       "_model_module": "@jupyter-widgets/base",
       "_model_module_version": "1.2.0",
       "_model_name": "LayoutModel",
       "_view_count": null,
       "_view_module": "@jupyter-widgets/base",
       "_view_module_version": "1.2.0",
       "_view_name": "LayoutView",
       "align_content": null,
       "align_items": null,
       "align_self": null,
       "border": null,
       "bottom": null,
       "display": null,
       "flex": null,
       "flex_flow": null,
       "grid_area": null,
       "grid_auto_columns": null,
       "grid_auto_flow": null,
       "grid_auto_rows": null,
       "grid_column": null,
       "grid_gap": null,
       "grid_row": null,
       "grid_template_areas": null,
       "grid_template_columns": null,
       "grid_template_rows": null,
       "height": null,
       "justify_content": null,
       "justify_items": null,
       "left": null,
       "margin": null,
       "max_height": null,
       "max_width": null,
       "min_height": null,
       "min_width": null,
       "object_fit": null,
       "object_position": null,
       "order": null,
       "overflow": null,
       "overflow_x": null,
       "overflow_y": null,
       "padding": null,
       "right": null,
       "top": null,
       "visibility": null,
       "width": null
      }
     },
     "f6b472248d934d03bb2d7648cbdeb651": {
      "model_module": "@jupyter-widgets/base",
      "model_module_version": "1.2.0",
      "model_name": "LayoutModel",
      "state": {
       "_model_module": "@jupyter-widgets/base",
       "_model_module_version": "1.2.0",
       "_model_name": "LayoutModel",
       "_view_count": null,
       "_view_module": "@jupyter-widgets/base",
       "_view_module_version": "1.2.0",
       "_view_name": "LayoutView",
       "align_content": null,
       "align_items": null,
       "align_self": null,
       "border": null,
       "bottom": null,
       "display": null,
       "flex": null,
       "flex_flow": null,
       "grid_area": null,
       "grid_auto_columns": null,
       "grid_auto_flow": null,
       "grid_auto_rows": null,
       "grid_column": null,
       "grid_gap": null,
       "grid_row": null,
       "grid_template_areas": null,
       "grid_template_columns": null,
       "grid_template_rows": null,
       "height": null,
       "justify_content": null,
       "justify_items": null,
       "left": null,
       "margin": null,
       "max_height": null,
       "max_width": null,
       "min_height": null,
       "min_width": null,
       "object_fit": null,
       "object_position": null,
       "order": null,
       "overflow": null,
       "overflow_x": null,
       "overflow_y": null,
       "padding": null,
       "right": null,
       "top": null,
       "visibility": null,
       "width": null
      }
     }
    },
    "version_major": 2,
    "version_minor": 0
   }
  }
 },
 "nbformat": 4,
 "nbformat_minor": 5
}
