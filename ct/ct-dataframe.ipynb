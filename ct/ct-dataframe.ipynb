{
 "cells": [
  {
   "cell_type": "code",
   "execution_count": 1,
   "id": "a7692b6c",
   "metadata": {
    "_cell_guid": "b1076dfc-b9ad-4769-8c92-a6c4dae69d19",
    "_uuid": "8f2839f25d086af736a60e9eeb907d3b93b6e0e5",
    "execution": {
     "iopub.execute_input": "2023-02-23T06:16:10.828949Z",
     "iopub.status.busy": "2023-02-23T06:16:10.827753Z",
     "iopub.status.idle": "2023-02-23T06:16:11.028684Z",
     "shell.execute_reply": "2023-02-23T06:16:11.027312Z"
    },
    "papermill": {
     "duration": 0.208576,
     "end_time": "2023-02-23T06:16:11.031589",
     "exception": false,
     "start_time": "2023-02-23T06:16:10.823013",
     "status": "completed"
    },
    "tags": []
   },
   "outputs": [],
   "source": [
    "import os\n",
    "import cv2\n",
    "import json\n",
    "import numpy as np\n",
    "import pandas as pd\n",
    "\n",
    "BASE_PATH: str = \"/kaggle/input/cars-and-tanks-image-classification/cars_tanks\""
   ]
  },
  {
   "cell_type": "code",
   "execution_count": 2,
   "id": "ee4c36d3",
   "metadata": {
    "execution": {
     "iopub.execute_input": "2023-02-23T06:16:11.038069Z",
     "iopub.status.busy": "2023-02-23T06:16:11.037678Z",
     "iopub.status.idle": "2023-02-23T06:16:11.054240Z",
     "shell.execute_reply": "2023-02-23T06:16:11.053245Z"
    },
    "papermill": {
     "duration": 0.022227,
     "end_time": "2023-02-23T06:16:11.056394",
     "exception": false,
     "start_time": "2023-02-23T06:16:11.034167",
     "status": "completed"
    },
    "tags": []
   },
   "outputs": [],
   "source": [
    "tr_df: pd.DataFrame = pd.DataFrame(data=None, columns=[\"filepaths\", \"labels\"])\n",
    "ts_df: pd.DataFrame = pd.DataFrame(data=None, columns=[\"filepaths\", \"labels\"])"
   ]
  },
  {
   "cell_type": "code",
   "execution_count": 3,
   "id": "179d7469",
   "metadata": {
    "execution": {
     "iopub.execute_input": "2023-02-23T06:16:11.063218Z",
     "iopub.status.busy": "2023-02-23T06:16:11.062610Z",
     "iopub.status.idle": "2023-02-23T06:16:11.305252Z",
     "shell.execute_reply": "2023-02-23T06:16:11.303759Z"
    },
    "papermill": {
     "duration": 0.249135,
     "end_time": "2023-02-23T06:16:11.307995",
     "exception": false,
     "start_time": "2023-02-23T06:16:11.058860",
     "status": "completed"
    },
    "tags": []
   },
   "outputs": [],
   "source": [
    "tr_filepaths: list = []\n",
    "tr_labels: list = []\n",
    "\n",
    "va_filepaths: list = []\n",
    "va_labels: list = []\n",
    "\n",
    "i: int = 0\n",
    "for folder in sorted(os.listdir(f\"{BASE_PATH}/train\")):\n",
    "    for filename in os.listdir(f\"{BASE_PATH}/train/{folder}\"):\n",
    "        tr_filepaths.append(os.path.join(f\"{BASE_PATH}/train/{folder}\", filename))\n",
    "        tr_labels.append(i)\n",
    "    i += 1\n",
    "\n",
    "tr_df.filepaths = tr_filepaths\n",
    "tr_df.labels = tr_labels\n",
    "tr_df.to_csv(\"train.csv\", index=False)"
   ]
  },
  {
   "cell_type": "code",
   "execution_count": 4,
   "id": "2c0cbeb4",
   "metadata": {
    "execution": {
     "iopub.execute_input": "2023-02-23T06:16:11.314650Z",
     "iopub.status.busy": "2023-02-23T06:16:11.314191Z",
     "iopub.status.idle": "2023-02-23T06:16:11.364882Z",
     "shell.execute_reply": "2023-02-23T06:16:11.363649Z"
    },
    "papermill": {
     "duration": 0.057601,
     "end_time": "2023-02-23T06:16:11.367985",
     "exception": false,
     "start_time": "2023-02-23T06:16:11.310384",
     "status": "completed"
    },
    "tags": []
   },
   "outputs": [],
   "source": [
    "filepaths: list = []\n",
    "labels: list = []\n",
    "\n",
    "i: int = 0    \n",
    "for folder in sorted(os.listdir(f\"{BASE_PATH}/test\")):\n",
    "    for filename in os.listdir(f\"{BASE_PATH}/test/{folder}\"):\n",
    "        filepaths.append(os.path.join(f\"{BASE_PATH}/test/{folder}\", filename))\n",
    "        labels.append(i)\n",
    "    i += 1\n",
    "\n",
    "ts_df.filepaths = filepaths\n",
    "ts_df.labels = labels\n",
    "ts_df.to_csv(\"test.csv\", index=False)"
   ]
  },
  {
   "cell_type": "code",
   "execution_count": 5,
   "id": "437a6225",
   "metadata": {
    "execution": {
     "iopub.execute_input": "2023-02-23T06:16:11.375591Z",
     "iopub.status.busy": "2023-02-23T06:16:11.374186Z",
     "iopub.status.idle": "2023-02-23T06:16:11.382241Z",
     "shell.execute_reply": "2023-02-23T06:16:11.380900Z"
    },
    "papermill": {
     "duration": 0.014618,
     "end_time": "2023-02-23T06:16:11.385073",
     "exception": false,
     "start_time": "2023-02-23T06:16:11.370455",
     "status": "completed"
    },
    "tags": []
   },
   "outputs": [],
   "source": [
    "labels: dict = dict()\n",
    "\n",
    "i = 0\n",
    "for folder in sorted(os.listdir(f\"{BASE_PATH}/train\")):\n",
    "    labels[i] = folder\n",
    "    i += 1\n",
    "\n",
    "json.dump(labels, open(\"labels.json\", \"w\"))"
   ]
  }
 ],
 "metadata": {
  "kernelspec": {
   "display_name": "Python 3",
   "language": "python",
   "name": "python3"
  },
  "language_info": {
   "codemirror_mode": {
    "name": "ipython",
    "version": 3
   },
   "file_extension": ".py",
   "mimetype": "text/x-python",
   "name": "python",
   "nbconvert_exporter": "python",
   "pygments_lexer": "ipython3",
   "version": "3.7.12"
  },
  "papermill": {
   "default_parameters": {},
   "duration": 10.803621,
   "end_time": "2023-02-23T06:16:12.112464",
   "environment_variables": {},
   "exception": null,
   "input_path": "__notebook__.ipynb",
   "output_path": "__notebook__.ipynb",
   "parameters": {},
   "start_time": "2023-02-23T06:16:01.308843",
   "version": "2.3.4"
  }
 },
 "nbformat": 4,
 "nbformat_minor": 5
}
