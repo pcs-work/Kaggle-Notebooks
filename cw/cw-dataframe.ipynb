{
 "cells": [
  {
   "cell_type": "code",
   "execution_count": 1,
   "id": "ec3fbc6f",
   "metadata": {
    "_cell_guid": "b1076dfc-b9ad-4769-8c92-a6c4dae69d19",
    "_uuid": "8f2839f25d086af736a60e9eeb907d3b93b6e0e5",
    "execution": {
     "iopub.execute_input": "2023-03-02T12:23:55.044087Z",
     "iopub.status.busy": "2023-03-02T12:23:55.043657Z",
     "iopub.status.idle": "2023-03-02T12:23:55.293551Z",
     "shell.execute_reply": "2023-03-02T12:23:55.291989Z"
    },
    "papermill": {
     "duration": 0.25863,
     "end_time": "2023-03-02T12:23:55.296819",
     "exception": false,
     "start_time": "2023-03-02T12:23:55.038189",
     "status": "completed"
    },
    "tags": []
   },
   "outputs": [],
   "source": [
    "import os\n",
    "import cv2\n",
    "import json\n",
    "import numpy as np\n",
    "import pandas as pd\n",
    "\n",
    "BASE_PATH: str = \"/kaggle/input/cats-in-the-wild-image-classification\""
   ]
  },
  {
   "cell_type": "code",
   "execution_count": 2,
   "id": "fcf8d3a4",
   "metadata": {
    "execution": {
     "iopub.execute_input": "2023-03-02T12:23:55.304141Z",
     "iopub.status.busy": "2023-03-02T12:23:55.303682Z",
     "iopub.status.idle": "2023-03-02T12:23:55.322768Z",
     "shell.execute_reply": "2023-03-02T12:23:55.321159Z"
    },
    "papermill": {
     "duration": 0.02613,
     "end_time": "2023-03-02T12:23:55.325701",
     "exception": false,
     "start_time": "2023-03-02T12:23:55.299571",
     "status": "completed"
    },
    "tags": []
   },
   "outputs": [],
   "source": [
    "tr_df: pd.DataFrame = pd.DataFrame(data=None, columns=[\"filepaths\", \"labels\"])\n",
    "ts_df: pd.DataFrame = pd.DataFrame(data=None, columns=[\"filepaths\", \"labels\"])\n",
    "fu_df: pd.DataFrame = pd.DataFrame(data=None, columns=[\"filepaths\", \"labels\"]) "
   ]
  },
  {
   "cell_type": "code",
   "execution_count": 3,
   "id": "78a1161f",
   "metadata": {
    "execution": {
     "iopub.execute_input": "2023-03-02T12:23:55.332426Z",
     "iopub.status.busy": "2023-03-02T12:23:55.331979Z",
     "iopub.status.idle": "2023-03-02T12:23:56.449656Z",
     "shell.execute_reply": "2023-03-02T12:23:56.448264Z"
    },
    "papermill": {
     "duration": 1.124791,
     "end_time": "2023-03-02T12:23:56.452945",
     "exception": false,
     "start_time": "2023-03-02T12:23:55.328154",
     "status": "completed"
    },
    "tags": []
   },
   "outputs": [],
   "source": [
    "tr_filepaths: list = []\n",
    "tr_labels: list = []\n",
    "\n",
    "va_filepaths: list = []\n",
    "va_labels: list = []\n",
    "\n",
    "i: int = 0\n",
    "for folder in sorted(os.listdir(f\"{BASE_PATH}/train\")):\n",
    "    for filename in os.listdir(f\"{BASE_PATH}/train/{folder}\"):\n",
    "        tr_filepaths.append(os.path.join(f\"{BASE_PATH}/train/{folder}\", filename))\n",
    "        tr_labels.append(i)\n",
    "    i += 1\n",
    "    \n",
    "i: int = 0\n",
    "for folder in sorted(os.listdir(f\"{BASE_PATH}/valid\")):\n",
    "    for filename in os.listdir(f\"{BASE_PATH}/valid/{folder}\"):\n",
    "        va_filepaths.append(os.path.join(f\"{BASE_PATH}/valid/{folder}\", filename))\n",
    "        va_labels.append(i)\n",
    "    i += 1\n",
    "\n",
    "tr_df.filepaths = tr_filepaths + va_filepaths\n",
    "tr_df.labels = tr_labels + va_labels\n",
    "tr_df.to_csv(\"train.csv\", index=False)"
   ]
  },
  {
   "cell_type": "code",
   "execution_count": 4,
   "id": "dfeb5e47",
   "metadata": {
    "execution": {
     "iopub.execute_input": "2023-03-02T12:23:56.460082Z",
     "iopub.status.busy": "2023-03-02T12:23:56.459631Z",
     "iopub.status.idle": "2023-03-02T12:23:56.543813Z",
     "shell.execute_reply": "2023-03-02T12:23:56.542491Z"
    },
    "papermill": {
     "duration": 0.091118,
     "end_time": "2023-03-02T12:23:56.546697",
     "exception": false,
     "start_time": "2023-03-02T12:23:56.455579",
     "status": "completed"
    },
    "tags": []
   },
   "outputs": [],
   "source": [
    "filepaths: list = []\n",
    "labels: list = []\n",
    "\n",
    "i: int = 0    \n",
    "for folder in sorted(os.listdir(f\"{BASE_PATH}/test\")):\n",
    "    for filename in os.listdir(f\"{BASE_PATH}/test/{folder}\"):\n",
    "        filepaths.append(os.path.join(f\"{BASE_PATH}/test/{folder}\", filename))\n",
    "        labels.append(i)\n",
    "    i += 1\n",
    "\n",
    "ts_df.filepaths = filepaths\n",
    "ts_df.labels = labels\n",
    "ts_df.to_csv(\"test.csv\", index=False)"
   ]
  },
  {
   "cell_type": "code",
   "execution_count": 5,
   "id": "2ddf9e5e",
   "metadata": {
    "execution": {
     "iopub.execute_input": "2023-03-02T12:23:56.554149Z",
     "iopub.status.busy": "2023-03-02T12:23:56.553506Z",
     "iopub.status.idle": "2023-03-02T12:23:56.568924Z",
     "shell.execute_reply": "2023-03-02T12:23:56.567836Z"
    },
    "papermill": {
     "duration": 0.022313,
     "end_time": "2023-03-02T12:23:56.571686",
     "exception": false,
     "start_time": "2023-03-02T12:23:56.549373",
     "status": "completed"
    },
    "tags": []
   },
   "outputs": [],
   "source": [
    "fu_df.filepaths = tr_filepaths + va_filepaths + filepaths\n",
    "fu_df.labels = tr_labels + va_labels + labels\n",
    "fu_df.to_csv(\"full.csv\", index=False)"
   ]
  },
  {
   "cell_type": "code",
   "execution_count": 6,
   "id": "6f7bcc74",
   "metadata": {
    "execution": {
     "iopub.execute_input": "2023-03-02T12:23:56.579615Z",
     "iopub.status.busy": "2023-03-02T12:23:56.578511Z",
     "iopub.status.idle": "2023-03-02T12:23:56.586018Z",
     "shell.execute_reply": "2023-03-02T12:23:56.584677Z"
    },
    "papermill": {
     "duration": 0.01447,
     "end_time": "2023-03-02T12:23:56.588900",
     "exception": false,
     "start_time": "2023-03-02T12:23:56.574430",
     "status": "completed"
    },
    "tags": []
   },
   "outputs": [],
   "source": [
    "labels: dict = dict()\n",
    "\n",
    "i = 0\n",
    "for folder in sorted(os.listdir(f\"{BASE_PATH}/train\")):\n",
    "    labels[i] = folder\n",
    "    i += 1\n",
    "\n",
    "json.dump(labels, open(\"labels.json\", \"w\"))"
   ]
  }
 ],
 "metadata": {
  "kernelspec": {
   "display_name": "Python 3",
   "language": "python",
   "name": "python3"
  },
  "language_info": {
   "codemirror_mode": {
    "name": "ipython",
    "version": 3
   },
   "file_extension": ".py",
   "mimetype": "text/x-python",
   "name": "python",
   "nbconvert_exporter": "python",
   "pygments_lexer": "ipython3",
   "version": "3.7.12"
  },
  "papermill": {
   "default_parameters": {},
   "duration": 16.165621,
   "end_time": "2023-03-02T12:23:57.316040",
   "environment_variables": {},
   "exception": null,
   "input_path": "__notebook__.ipynb",
   "output_path": "__notebook__.ipynb",
   "parameters": {},
   "start_time": "2023-03-02T12:23:41.150419",
   "version": "2.4.0"
  }
 },
 "nbformat": 4,
 "nbformat_minor": 5
}
