{
 "cells": [
  {
   "cell_type": "code",
   "execution_count": 1,
   "id": "ee319ce1",
   "metadata": {
    "_cell_guid": "b1076dfc-b9ad-4769-8c92-a6c4dae69d19",
    "_uuid": "8f2839f25d086af736a60e9eeb907d3b93b6e0e5",
    "execution": {
     "iopub.execute_input": "2023-03-05T04:58:54.337116Z",
     "iopub.status.busy": "2023-03-05T04:58:54.336705Z",
     "iopub.status.idle": "2023-03-05T04:59:04.818107Z",
     "shell.execute_reply": "2023-03-05T04:59:04.816297Z"
    },
    "papermill": {
     "duration": 10.489094,
     "end_time": "2023-03-05T04:59:04.820818",
     "exception": false,
     "start_time": "2023-03-05T04:58:54.331724",
     "status": "completed"
    },
    "tags": []
   },
   "outputs": [
    {
     "name": "stderr",
     "output_type": "stream",
     "text": [
      "WARNING: Running pip as the 'root' user can result in broken permissions and conflicting behaviour with the system package manager. It is recommended to use a virtual environment instead: https://pip.pypa.io/warnings/venv\n"
     ]
    }
   ],
   "source": [
    "%%bash\n",
    "pip install timm onnx onnxruntime -q"
   ]
  },
  {
   "cell_type": "code",
   "execution_count": 2,
   "id": "5bc6c4a4",
   "metadata": {
    "execution": {
     "iopub.execute_input": "2023-03-05T04:59:04.827567Z",
     "iopub.status.busy": "2023-03-05T04:59:04.827187Z",
     "iopub.status.idle": "2023-03-05T04:59:09.116260Z",
     "shell.execute_reply": "2023-03-05T04:59:09.114816Z"
    },
    "papermill": {
     "duration": 4.295334,
     "end_time": "2023-03-05T04:59:09.118661",
     "exception": false,
     "start_time": "2023-03-05T04:59:04.823327",
     "status": "completed"
    },
    "tags": []
   },
   "outputs": [],
   "source": [
    "import os\n",
    "import sys\n",
    "import cv2\n",
    "import json\n",
    "import onnx\n",
    "import timm\n",
    "import torch\n",
    "import random as r\n",
    "import numpy as np\n",
    "import pandas as pd\n",
    "import onnxruntime as ort\n",
    "import matplotlib.pyplot as plt\n",
    "\n",
    "from typing import Union\n",
    "from torchvision import models\n",
    "from IPython.display import clear_output\n",
    "\n",
    "import warnings\n",
    "warnings.filterwarnings(\"ignore\")\n",
    "\n",
    "if not os.path.exists(\"onnx\"): os.makedirs(\"onnx\")\n",
    "    \n",
    "ort.set_default_logger_severity(3)"
   ]
  },
  {
   "cell_type": "code",
   "execution_count": 3,
   "id": "60933977",
   "metadata": {
    "execution": {
     "iopub.execute_input": "2023-03-05T04:59:09.124898Z",
     "iopub.status.busy": "2023-03-05T04:59:09.124541Z",
     "iopub.status.idle": "2023-03-05T04:59:09.136534Z",
     "shell.execute_reply": "2023-03-05T04:59:09.135399Z"
    },
    "papermill": {
     "duration": 0.017851,
     "end_time": "2023-03-05T04:59:09.138855",
     "exception": false,
     "start_time": "2023-03-05T04:59:09.121004",
     "status": "completed"
    },
    "tags": []
   },
   "outputs": [],
   "source": [
    "labels: dict = json.load(open(\"/kaggle/input/cw-dataframe/labels.json\", \"r\"))\n",
    "    \n",
    "    \n",
    "def breaker() -> None:\n",
    "    print(\"\\n\" + 50*\"*\" + \"\\n\")\n",
    "\n",
    "\n",
    "def get_image(path: str, size: int=224) -> np.ndarray:\n",
    "    image = cv2.imread(path, cv2.IMREAD_COLOR)\n",
    "    image = cv2.cvtColor(src=image, code=cv2.COLOR_BGR2RGB)\n",
    "    return image"
   ]
  },
  {
   "cell_type": "code",
   "execution_count": 4,
   "id": "07bc829c",
   "metadata": {
    "execution": {
     "iopub.execute_input": "2023-03-05T04:59:09.144839Z",
     "iopub.status.busy": "2023-03-05T04:59:09.144518Z",
     "iopub.status.idle": "2023-03-05T04:59:09.152390Z",
     "shell.execute_reply": "2023-03-05T04:59:09.151145Z"
    },
    "papermill": {
     "duration": 0.013936,
     "end_time": "2023-03-05T04:59:09.155158",
     "exception": false,
     "start_time": "2023-03-05T04:59:09.141222",
     "status": "completed"
    },
    "tags": []
   },
   "outputs": [],
   "source": [
    "class Model(torch.nn.Module):\n",
    "    def __init__(self):\n",
    "        super(Model, self).__init__()\n",
    "        \n",
    "        self.model = timm.create_model(model_name=\"efficientnet_b4\", pretrained=False)\n",
    "        self.model.classifier = torch.nn.Linear(in_features=self.model.classifier.in_features, out_features=10)\n",
    "\n",
    "    def forward(self, x):\n",
    "        return self.model(x)\n",
    "\n",
    "    \n",
    "class CFG(object):  \n",
    "    def __init__(\n",
    "        self, \n",
    "        in_channels: int=3, \n",
    "        size: int=256, \n",
    "        opset_version: int=9, \n",
    "        path: str=None\n",
    "    ):\n",
    "        self.in_channels = in_channels\n",
    "        self.size = size\n",
    "        self.dummy = torch.randn(1, self.in_channels, self.size, self.size)\n",
    "        self.opset_version = opset_version\n",
    "        self.path = path"
   ]
  },
  {
   "cell_type": "code",
   "execution_count": 5,
   "id": "39d3f01a",
   "metadata": {
    "execution": {
     "iopub.execute_input": "2023-03-05T04:59:09.161515Z",
     "iopub.status.busy": "2023-03-05T04:59:09.161203Z",
     "iopub.status.idle": "2023-03-05T04:59:21.909534Z",
     "shell.execute_reply": "2023-03-05T04:59:21.908258Z"
    },
    "papermill": {
     "duration": 12.754926,
     "end_time": "2023-03-05T04:59:21.912681",
     "exception": false,
     "start_time": "2023-03-05T04:59:09.157755",
     "status": "completed"
    },
    "tags": []
   },
   "outputs": [],
   "source": [
    "for v in [\"a\", \"l\"]:\n",
    "    cfg = CFG(\n",
    "        in_channels=3, \n",
    "        size=224, \n",
    "        opset_version=15, \n",
    "        path=f\"/kaggle/input/cw-en4-a224-e10/saves/b{v}e_state_fold_1.pt\"\n",
    "    )\n",
    "\n",
    "    model = Model()\n",
    "    model.load_state_dict(torch.load(cfg.path, map_location=torch.device(\"cpu\"))[\"model_state_dict\"])\n",
    "    model.eval()\n",
    "\n",
    "    clear_output()\n",
    "\n",
    "    torch.onnx.export(\n",
    "        model=model, \n",
    "        args=cfg.dummy, \n",
    "        f=f\"onnx/b{v}e_model_f1.onnx\", \n",
    "        input_names=[\"input\"], \n",
    "        output_names=[\"output\"], \n",
    "        opset_version=cfg.opset_version,\n",
    "        export_params=True,\n",
    "        training=torch.onnx.TrainingMode.EVAL,\n",
    "        operator_export_type=torch.onnx.OperatorExportTypes.ONNX_ATEN_FALLBACK,\n",
    "        dynamic_axes={\n",
    "          \"input\"  : {0 : \"batch_size\"},\n",
    "          \"output\" : {0 : \"batch_size\"},\n",
    "        }\n",
    "    )"
   ]
  },
  {
   "cell_type": "code",
   "execution_count": 6,
   "id": "4ba815be",
   "metadata": {
    "execution": {
     "iopub.execute_input": "2023-03-05T04:59:21.918753Z",
     "iopub.status.busy": "2023-03-05T04:59:21.918399Z",
     "iopub.status.idle": "2023-03-05T04:59:21.929295Z",
     "shell.execute_reply": "2023-03-05T04:59:21.928284Z"
    },
    "papermill": {
     "duration": 0.015971,
     "end_time": "2023-03-05T04:59:21.931071",
     "exception": false,
     "start_time": "2023-03-05T04:59:21.915100",
     "status": "completed"
    },
    "tags": []
   },
   "outputs": [],
   "source": [
    "class OnnxModel(object):\n",
    "    def __init__(self, path: str) -> None:\n",
    "        self.ort_session = None\n",
    "        self.size: int = 224\n",
    "        \n",
    "        self.mean: list = [0.49001, 0.44577, 0.36634]\n",
    "        self.std: list  = [0.21707, 0.20650, 0.20139]\n",
    "        \n",
    "        self.path: str = path\n",
    "    \n",
    "        model = onnx.load(self.path)\n",
    "        onnx.checker.check_model(model)\n",
    "        self.ort_session = ort.InferenceSession(self.path)\n",
    "        \n",
    "    def infer(self, image: np.ndarray, labels: dict) -> np.ndarray:\n",
    "        image = image / 255\n",
    "        image = cv2.resize(src=image, dsize=(self.size, self.size), interpolation=cv2.INTER_AREA).transpose(2, 0, 1)\n",
    "        for i in range(image.shape[0]): image[i, :, :] = (image[i, :, :] - self.mean[i]) / self.std[i]\n",
    "        image = np.expand_dims(image, axis=0)\n",
    "        inputs = {self.ort_session.get_inputs()[0].name: image.astype(\"float32\")}\n",
    "        result = self.ort_session.run(None, inputs)\n",
    "        odds = np.exp(np.max(result))\n",
    "        return labels[str(np.argmax(result))].title(), odds / (1 + odds)"
   ]
  },
  {
   "cell_type": "code",
   "execution_count": 7,
   "id": "33366b10",
   "metadata": {
    "execution": {
     "iopub.execute_input": "2023-03-05T04:59:21.938006Z",
     "iopub.status.busy": "2023-03-05T04:59:21.937047Z",
     "iopub.status.idle": "2023-03-05T04:59:25.143422Z",
     "shell.execute_reply": "2023-03-05T04:59:25.142488Z"
    },
    "papermill": {
     "duration": 3.211801,
     "end_time": "2023-03-05T04:59:25.145248",
     "exception": false,
     "start_time": "2023-03-05T04:59:21.933447",
     "status": "completed"
    },
    "tags": []
   },
   "outputs": [
    {
     "name": "stdout",
     "output_type": "stream",
     "text": [
      "\n",
      "**************************************************\n",
      "\n",
      "BAE_MODEL_F1.ONNX\n",
      "\n",
      "Ocelot, Ocelot\n",
      "Puma, Puma\n",
      "Lions, Lions\n",
      "Cheetah, Cheetah\n",
      "Cheetah, Cheetah\n",
      "Snow Leopard, Snow Leopard\n",
      "Ocelot, Ocelot\n",
      "African Leopard, African Leopard\n",
      "Ocelot, Ocelot\n",
      "\n",
      "**************************************************\n",
      "\n",
      "BLE_MODEL_F1.ONNX\n",
      "\n",
      "Snow Leopard, Snow Leopard\n",
      "Tiger, Tiger\n",
      "African Leopard, African Leopard\n",
      "Ocelot, Ocelot\n",
      "African Leopard, African Leopard\n",
      "African Leopard, African Leopard\n",
      "Ocelot, Ocelot\n",
      "Cheetah, Cheetah\n",
      "Cheetah, Cheetah\n",
      "\n",
      "**************************************************\n",
      "\n"
     ]
    }
   ],
   "source": [
    "df = pd.read_csv(\"/kaggle/input/cw-dataframe/test.csv\")\n",
    "\n",
    "breaker()\n",
    "for model_name in sorted(os.listdir(\"onnx\")):\n",
    "    \n",
    "    onnx_model = OnnxModel(f\"onnx/{model_name}\")\n",
    "    \n",
    "    print(f\"{model_name.upper()}\\n\")\n",
    "    \n",
    "    for i in range(9):\n",
    "        index = r.randint(0, len(df)-1)\n",
    "        filepath = df.iloc[index, 0]\n",
    "        y_true   = df.iloc[index, 1]\n",
    "\n",
    "        image = get_image(filepath, cfg.size)\n",
    "\n",
    "        y_pred, _ = onnx_model.infer(image, labels)\n",
    "        \n",
    "        print(f\"{labels[str(y_true)].title()}, {y_pred}\")\n",
    "\n",
    "    breaker()"
   ]
  }
 ],
 "metadata": {
  "kernelspec": {
   "display_name": "Python 3",
   "language": "python",
   "name": "python3"
  },
  "language_info": {
   "codemirror_mode": {
    "name": "ipython",
    "version": 3
   },
   "file_extension": ".py",
   "mimetype": "text/x-python",
   "name": "python",
   "nbconvert_exporter": "python",
   "pygments_lexer": "ipython3",
   "version": "3.7.12"
  },
  "papermill": {
   "default_parameters": {},
   "duration": 40.893533,
   "end_time": "2023-03-05T04:59:26.272609",
   "environment_variables": {},
   "exception": null,
   "input_path": "__notebook__.ipynb",
   "output_path": "__notebook__.ipynb",
   "parameters": {},
   "start_time": "2023-03-05T04:58:45.379076",
   "version": "2.4.0"
  }
 },
 "nbformat": 4,
 "nbformat_minor": 5
}
