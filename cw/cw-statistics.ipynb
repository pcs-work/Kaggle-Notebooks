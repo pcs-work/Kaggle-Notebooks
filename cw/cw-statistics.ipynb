{
 "cells": [
  {
   "cell_type": "code",
   "execution_count": 1,
   "id": "7cdadae9",
   "metadata": {
    "_cell_guid": "b1076dfc-b9ad-4769-8c92-a6c4dae69d19",
    "_uuid": "8f2839f25d086af736a60e9eeb907d3b93b6e0e5",
    "execution": {
     "iopub.execute_input": "2023-03-02T12:31:47.413327Z",
     "iopub.status.busy": "2023-03-02T12:31:47.411972Z",
     "iopub.status.idle": "2023-03-02T12:31:47.621782Z",
     "shell.execute_reply": "2023-03-02T12:31:47.620508Z"
    },
    "papermill": {
     "duration": 0.217882,
     "end_time": "2023-03-02T12:31:47.624971",
     "exception": false,
     "start_time": "2023-03-02T12:31:47.407089",
     "status": "completed"
    },
    "tags": []
   },
   "outputs": [],
   "source": [
    "import os\n",
    "import cv2\n",
    "import numpy as np\n",
    "import pandas as pd\n",
    "\n",
    "\n",
    "def breaker(num: int = 50, char: str = \"*\") -> None: print(\"\\n\" + num*char + \"\\n\")"
   ]
  },
  {
   "cell_type": "code",
   "execution_count": 2,
   "id": "d3405352",
   "metadata": {
    "execution": {
     "iopub.execute_input": "2023-03-02T12:31:47.630820Z",
     "iopub.status.busy": "2023-03-02T12:31:47.630349Z",
     "iopub.status.idle": "2023-03-02T12:31:47.644398Z",
     "shell.execute_reply": "2023-03-02T12:31:47.643093Z"
    },
    "papermill": {
     "duration": 0.020115,
     "end_time": "2023-03-02T12:31:47.647228",
     "exception": false,
     "start_time": "2023-03-02T12:31:47.627113",
     "status": "completed"
    },
    "tags": []
   },
   "outputs": [],
   "source": [
    "def get_image(path: str) -> np.ndarray:\n",
    "    image = cv2.imread(path, cv2.IMREAD_COLOR)\n",
    "    image = cv2.cvtColor(src=image, code=cv2.COLOR_BGR2RGB)\n",
    "    return image\n",
    "\n",
    "\n",
    "def get_statistics(filepaths: np.ndarray) -> dict:\n",
    "\n",
    "    stats: dict = dict()\n",
    "    means: dict = dict()\n",
    "    stds: dict  = dict()\n",
    "    total_num_of_images: int = 0\n",
    "    r_mean, g_mean, b_mean, r_std, g_std, b_std = 0.0, 0.0, 0.0, 0.0, 0.0, 0.0\n",
    "    for filepath in filepaths:\n",
    "        image = get_image(filepath)\n",
    "        r_mean += image[:, :, 0].mean()\n",
    "        g_mean += image[:, :, 1].mean()\n",
    "        b_mean += image[:, :, 2].mean()\n",
    "        r_std += image[:, :, 0].std()\n",
    "        g_std += image[:, :, 1].std()\n",
    "        b_std += image[:, :, 2].std()\n",
    "        total_num_of_images += 1\n",
    "    \n",
    "    stats[\"means\"] = [\n",
    "            r_mean / total_num_of_images / 255, \n",
    "            g_mean / total_num_of_images / 255, \n",
    "            b_mean / total_num_of_images / 255,\n",
    "        ]\n",
    "    stats[\"stds\"] = [\n",
    "            r_std / total_num_of_images / 255, \n",
    "            g_std / total_num_of_images / 255, \n",
    "            b_std / total_num_of_images / 255,\n",
    "        ]\n",
    "    \n",
    "    return stats\n",
    "\n",
    "\n",
    "def print_statistics(stats: dict) -> None:\n",
    "    breaker()\n",
    "    for k, v in stats.items():\n",
    "        print(f\"{k.title()}\\n\")\n",
    "        for i in range(len(v)):\n",
    "            if i == 0: print(f\"Red   : {v[i]:.5f}\")\n",
    "            if i == 1: print(f\"Green : {v[i]:.5f}\")\n",
    "            if i == 2: print(f\"Blue  : {v[i]:.5f}\")\n",
    "        breaker()"
   ]
  },
  {
   "cell_type": "code",
   "execution_count": 3,
   "id": "a3a1b684",
   "metadata": {
    "execution": {
     "iopub.execute_input": "2023-03-02T12:31:47.653101Z",
     "iopub.status.busy": "2023-03-02T12:31:47.652653Z",
     "iopub.status.idle": "2023-03-02T12:32:19.944261Z",
     "shell.execute_reply": "2023-03-02T12:32:19.942642Z"
    },
    "papermill": {
     "duration": 32.300823,
     "end_time": "2023-03-02T12:32:19.950113",
     "exception": false,
     "start_time": "2023-03-02T12:31:47.649290",
     "status": "completed"
    },
    "tags": []
   },
   "outputs": [
    {
     "name": "stdout",
     "output_type": "stream",
     "text": [
      "\n",
      "**************************************************\n",
      "\n",
      "Means\n",
      "\n",
      "Red   : 0.49001\n",
      "Green : 0.44577\n",
      "Blue  : 0.36634\n",
      "\n",
      "**************************************************\n",
      "\n",
      "Stds\n",
      "\n",
      "Red   : 0.21707\n",
      "Green : 0.20650\n",
      "Blue  : 0.20139\n",
      "\n",
      "**************************************************\n",
      "\n"
     ]
    }
   ],
   "source": [
    "df = pd.read_csv(\"/kaggle/input/cw-dataframe/train.csv\")\n",
    "\n",
    "stats = get_statistics(df.filepaths.copy().values)\n",
    "print_statistics(stats)"
   ]
  }
 ],
 "metadata": {
  "kernelspec": {
   "display_name": "Python 3",
   "language": "python",
   "name": "python3"
  },
  "language_info": {
   "codemirror_mode": {
    "name": "ipython",
    "version": 3
   },
   "file_extension": ".py",
   "mimetype": "text/x-python",
   "name": "python",
   "nbconvert_exporter": "python",
   "pygments_lexer": "ipython3",
   "version": "3.7.12"
  },
  "papermill": {
   "default_parameters": {},
   "duration": 45.570169,
   "end_time": "2023-03-02T12:32:20.676939",
   "environment_variables": {},
   "exception": null,
   "input_path": "__notebook__.ipynb",
   "output_path": "__notebook__.ipynb",
   "parameters": {},
   "start_time": "2023-03-02T12:31:35.106770",
   "version": "2.4.0"
  }
 },
 "nbformat": 4,
 "nbformat_minor": 5
}
