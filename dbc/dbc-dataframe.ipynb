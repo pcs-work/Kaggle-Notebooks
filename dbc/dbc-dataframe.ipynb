{
 "cells": [
  {
   "cell_type": "code",
   "execution_count": 1,
   "id": "bbf22a0a",
   "metadata": {
    "_cell_guid": "b1076dfc-b9ad-4769-8c92-a6c4dae69d19",
    "_uuid": "8f2839f25d086af736a60e9eeb907d3b93b6e0e5",
    "execution": {
     "iopub.execute_input": "2023-06-15T05:31:22.397219Z",
     "iopub.status.busy": "2023-06-15T05:31:22.396091Z",
     "iopub.status.idle": "2023-06-15T05:31:24.026310Z",
     "shell.execute_reply": "2023-06-15T05:31:24.025364Z"
    },
    "papermill": {
     "duration": 1.638221,
     "end_time": "2023-06-15T05:31:24.029456",
     "exception": false,
     "start_time": "2023-06-15T05:31:22.391235",
     "status": "completed"
    },
    "tags": []
   },
   "outputs": [],
   "source": [
    "import os\n",
    "import cv2\n",
    "import json\n",
    "import numpy as np\n",
    "import pandas as pd\n",
    "\n",
    "from sklearn.model_selection import train_test_split\n",
    "\n",
    "BASE_PATH: str = \"/kaggle/input/143-different-dog-breeds-image-classifier/pet classifer image directory\""
   ]
  },
  {
   "cell_type": "code",
   "execution_count": 2,
   "id": "eb9cf1e9",
   "metadata": {
    "execution": {
     "iopub.execute_input": "2023-06-15T05:31:24.037035Z",
     "iopub.status.busy": "2023-06-15T05:31:24.036342Z",
     "iopub.status.idle": "2023-06-15T05:31:25.952339Z",
     "shell.execute_reply": "2023-06-15T05:31:25.951116Z"
    },
    "papermill": {
     "duration": 1.922954,
     "end_time": "2023-06-15T05:31:25.955315",
     "exception": false,
     "start_time": "2023-06-15T05:31:24.032361",
     "status": "completed"
    },
    "tags": []
   },
   "outputs": [],
   "source": [
    "df: pd.DataFrame = pd.DataFrame(data=None, columns=[\"filepaths\", \"labels\"])\n",
    "    \n",
    "filepaths: list = []\n",
    "labels: list = []\n",
    "\n",
    "i: int = 0\n",
    "for folder in sorted(os.listdir(f\"{BASE_PATH}\")):\n",
    "    for filename in os.listdir(f\"{BASE_PATH}/{folder}\"):\n",
    "        filepaths.append(os.path.join(f\"{BASE_PATH}/{folder}\", filename))\n",
    "        labels.append(i)\n",
    "    i += 1\n",
    "\n",
    "df.filepaths = filepaths\n",
    "df.labels = labels\n",
    "df.to_csv(\"full.csv\", index=False)"
   ]
  },
  {
   "cell_type": "code",
   "execution_count": 3,
   "id": "20c6700f",
   "metadata": {
    "execution": {
     "iopub.execute_input": "2023-06-15T05:31:25.962120Z",
     "iopub.status.busy": "2023-06-15T05:31:25.961727Z",
     "iopub.status.idle": "2023-06-15T05:31:26.113742Z",
     "shell.execute_reply": "2023-06-15T05:31:26.112788Z"
    },
    "papermill": {
     "duration": 0.158383,
     "end_time": "2023-06-15T05:31:26.116350",
     "exception": false,
     "start_time": "2023-06-15T05:31:25.957967",
     "status": "completed"
    },
    "tags": []
   },
   "outputs": [],
   "source": [
    "tr_df: pd.DataFrame = pd.DataFrame(data=None, columns=[\"filepaths\", \"labels\"])\n",
    "ts_df: pd.DataFrame = pd.DataFrame(data=None, columns=[\"filepaths\", \"labels\"])\n",
    "\n",
    "\n",
    "tr_filepaths, ts_filepaths, tr_labels, ts_labels = train_test_split(\n",
    "    filepaths,\n",
    "    labels,\n",
    "    test_size=0.2,\n",
    "    random_state=42,\n",
    "    shuffle=True,\n",
    "    stratify=labels,\n",
    ")\n",
    "\n",
    "tr_df.filepaths = tr_filepaths\n",
    "tr_df.labels = tr_labels\n",
    "\n",
    "ts_df.filepaths = ts_filepaths\n",
    "ts_df.labels = ts_labels\n",
    "\n",
    "tr_df.to_csv(\"train.csv\", index=False)\n",
    "ts_df.to_csv(\"test.csv\", index=False)"
   ]
  },
  {
   "cell_type": "code",
   "execution_count": 4,
   "id": "8541ebae",
   "metadata": {
    "execution": {
     "iopub.execute_input": "2023-06-15T05:31:26.122808Z",
     "iopub.status.busy": "2023-06-15T05:31:26.122450Z",
     "iopub.status.idle": "2023-06-15T05:31:26.129826Z",
     "shell.execute_reply": "2023-06-15T05:31:26.128641Z"
    },
    "papermill": {
     "duration": 0.013899,
     "end_time": "2023-06-15T05:31:26.132735",
     "exception": false,
     "start_time": "2023-06-15T05:31:26.118836",
     "status": "completed"
    },
    "tags": []
   },
   "outputs": [],
   "source": [
    "labels: dict = dict()\n",
    "\n",
    "i = 0\n",
    "for folder in sorted(os.listdir(f\"{BASE_PATH}\")):\n",
    "    labels[i] = folder\n",
    "    i += 1\n",
    "\n",
    "json.dump(labels, open(\"labels.json\", \"w\"))"
   ]
  }
 ],
 "metadata": {
  "kernelspec": {
   "display_name": "Python 3",
   "language": "python",
   "name": "python3"
  },
  "language_info": {
   "codemirror_mode": {
    "name": "ipython",
    "version": 3
   },
   "file_extension": ".py",
   "mimetype": "text/x-python",
   "name": "python",
   "nbconvert_exporter": "python",
   "pygments_lexer": "ipython3",
   "version": "3.10.10"
  },
  "papermill": {
   "default_parameters": {},
   "duration": 16.740397,
   "end_time": "2023-06-15T05:31:27.160924",
   "environment_variables": {},
   "exception": null,
   "input_path": "__notebook__.ipynb",
   "output_path": "__notebook__.ipynb",
   "parameters": {},
   "start_time": "2023-06-15T05:31:10.420527",
   "version": "2.4.0"
  }
 },
 "nbformat": 4,
 "nbformat_minor": 5
}
