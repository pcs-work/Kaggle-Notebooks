{
 "cells": [
  {
   "cell_type": "code",
   "execution_count": 1,
   "id": "dc251175",
   "metadata": {
    "_cell_guid": "b1076dfc-b9ad-4769-8c92-a6c4dae69d19",
    "_uuid": "8f2839f25d086af736a60e9eeb907d3b93b6e0e5",
    "execution": {
     "iopub.execute_input": "2023-06-15T10:52:51.076191Z",
     "iopub.status.busy": "2023-06-15T10:52:51.075572Z",
     "iopub.status.idle": "2023-06-15T10:52:53.133965Z",
     "shell.execute_reply": "2023-06-15T10:52:53.132352Z"
    },
    "papermill": {
     "duration": 2.06733,
     "end_time": "2023-06-15T10:52:53.137251",
     "exception": false,
     "start_time": "2023-06-15T10:52:51.069921",
     "status": "completed"
    },
    "tags": []
   },
   "outputs": [],
   "source": [
    "import os\n",
    "import cv2\n",
    "import json\n",
    "import numpy as np\n",
    "import pandas as pd\n",
    "\n",
    "from sklearn.model_selection import train_test_split\n",
    "\n",
    "BASE_PATH: str = \"/kaggle/input/143-different-dog-breeds-image-classifier/pet classifer image directory\""
   ]
  },
  {
   "cell_type": "code",
   "execution_count": 2,
   "id": "1e4d02a6",
   "metadata": {
    "execution": {
     "iopub.execute_input": "2023-06-15T10:52:53.145433Z",
     "iopub.status.busy": "2023-06-15T10:52:53.144900Z",
     "iopub.status.idle": "2023-06-15T10:52:55.164056Z",
     "shell.execute_reply": "2023-06-15T10:52:55.162542Z"
    },
    "papermill": {
     "duration": 2.027488,
     "end_time": "2023-06-15T10:52:55.167874",
     "exception": false,
     "start_time": "2023-06-15T10:52:53.140386",
     "status": "completed"
    },
    "tags": []
   },
   "outputs": [],
   "source": [
    "df: pd.DataFrame = pd.DataFrame(data=None, columns=[\"filepaths\", \"labels\"])\n",
    "    \n",
    "filepaths: list = []\n",
    "labels: list = []\n",
    "\n",
    "i: int = 0\n",
    "for folder in sorted(os.listdir(f\"{BASE_PATH}\")):\n",
    "    for filename in os.listdir(f\"{BASE_PATH}/{folder}\"):\n",
    "        if filename[-3:] != \"gif\":\n",
    "            filepaths.append(os.path.join(f\"{BASE_PATH}/{folder}\", filename))\n",
    "            labels.append(i)\n",
    "    i += 1\n",
    "\n",
    "df.filepaths = filepaths\n",
    "df.labels = labels\n",
    "df.to_csv(\"full.csv\", index=False)"
   ]
  },
  {
   "cell_type": "code",
   "execution_count": 3,
   "id": "5d066e52",
   "metadata": {
    "execution": {
     "iopub.execute_input": "2023-06-15T10:52:55.175897Z",
     "iopub.status.busy": "2023-06-15T10:52:55.175485Z",
     "iopub.status.idle": "2023-06-15T10:52:55.331566Z",
     "shell.execute_reply": "2023-06-15T10:52:55.330302Z"
    },
    "papermill": {
     "duration": 0.163968,
     "end_time": "2023-06-15T10:52:55.334975",
     "exception": false,
     "start_time": "2023-06-15T10:52:55.171007",
     "status": "completed"
    },
    "tags": []
   },
   "outputs": [],
   "source": [
    "tr_df: pd.DataFrame = pd.DataFrame(data=None, columns=[\"filepaths\", \"labels\"])\n",
    "ts_df: pd.DataFrame = pd.DataFrame(data=None, columns=[\"filepaths\", \"labels\"])\n",
    "\n",
    "\n",
    "tr_filepaths, ts_filepaths, tr_labels, ts_labels = train_test_split(\n",
    "    filepaths,\n",
    "    labels,\n",
    "    test_size=0.2,\n",
    "    random_state=42,\n",
    "    shuffle=True,\n",
    "    stratify=labels,\n",
    ")\n",
    "\n",
    "tr_df.filepaths = tr_filepaths\n",
    "tr_df.labels = tr_labels\n",
    "\n",
    "ts_df.filepaths = ts_filepaths\n",
    "ts_df.labels = ts_labels\n",
    "\n",
    "tr_df.to_csv(\"train.csv\", index=False)\n",
    "ts_df.to_csv(\"test.csv\", index=False)"
   ]
  },
  {
   "cell_type": "code",
   "execution_count": 4,
   "id": "6da0c3ce",
   "metadata": {
    "execution": {
     "iopub.execute_input": "2023-06-15T10:52:55.342890Z",
     "iopub.status.busy": "2023-06-15T10:52:55.341946Z",
     "iopub.status.idle": "2023-06-15T10:52:55.350458Z",
     "shell.execute_reply": "2023-06-15T10:52:55.349231Z"
    },
    "papermill": {
     "duration": 0.01543,
     "end_time": "2023-06-15T10:52:55.353287",
     "exception": false,
     "start_time": "2023-06-15T10:52:55.337857",
     "status": "completed"
    },
    "tags": []
   },
   "outputs": [],
   "source": [
    "labels: dict = dict()\n",
    "\n",
    "i = 0\n",
    "for folder in sorted(os.listdir(f\"{BASE_PATH}\")):\n",
    "    labels[i] = folder\n",
    "    i += 1\n",
    "\n",
    "json.dump(labels, open(\"labels.json\", \"w\"))"
   ]
  }
 ],
 "metadata": {
  "kernelspec": {
   "display_name": "Python 3",
   "language": "python",
   "name": "python3"
  },
  "language_info": {
   "codemirror_mode": {
    "name": "ipython",
    "version": 3
   },
   "file_extension": ".py",
   "mimetype": "text/x-python",
   "name": "python",
   "nbconvert_exporter": "python",
   "pygments_lexer": "ipython3",
   "version": "3.10.10"
  },
  "papermill": {
   "default_parameters": {},
   "duration": 21.921938,
   "end_time": "2023-06-15T10:52:56.782882",
   "environment_variables": {},
   "exception": null,
   "input_path": "__notebook__.ipynb",
   "output_path": "__notebook__.ipynb",
   "parameters": {},
   "start_time": "2023-06-15T10:52:34.860944",
   "version": "2.4.0"
  }
 },
 "nbformat": 4,
 "nbformat_minor": 5
}
