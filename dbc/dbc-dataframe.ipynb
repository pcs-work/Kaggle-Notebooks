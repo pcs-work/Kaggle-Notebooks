{
 "cells": [
  {
   "cell_type": "code",
   "execution_count": 1,
   "id": "6009b1b2",
   "metadata": {
    "_cell_guid": "b1076dfc-b9ad-4769-8c92-a6c4dae69d19",
    "_uuid": "8f2839f25d086af736a60e9eeb907d3b93b6e0e5",
    "execution": {
     "iopub.execute_input": "2023-06-18T05:39:12.268412Z",
     "iopub.status.busy": "2023-06-18T05:39:12.267318Z",
     "iopub.status.idle": "2023-06-18T05:39:14.123107Z",
     "shell.execute_reply": "2023-06-18T05:39:14.121629Z"
    },
    "papermill": {
     "duration": 1.863769,
     "end_time": "2023-06-18T05:39:14.126193",
     "exception": false,
     "start_time": "2023-06-18T05:39:12.262424",
     "status": "completed"
    },
    "tags": []
   },
   "outputs": [],
   "source": [
    "import os\n",
    "import cv2\n",
    "import json\n",
    "import pickle\n",
    "import numpy as np\n",
    "import pandas as pd\n",
    "\n",
    "from sklearn.model_selection import train_test_split\n",
    "\n",
    "BASE_PATH: str = \"/kaggle/input/143-different-dog-breeds-image-classifier/pet classifer image directory\""
   ]
  },
  {
   "cell_type": "code",
   "execution_count": 2,
   "id": "bff5878a",
   "metadata": {
    "execution": {
     "iopub.execute_input": "2023-06-18T05:39:14.133720Z",
     "iopub.status.busy": "2023-06-18T05:39:14.133289Z",
     "iopub.status.idle": "2023-06-18T05:39:20.562736Z",
     "shell.execute_reply": "2023-06-18T05:39:20.561387Z"
    },
    "papermill": {
     "duration": 6.436522,
     "end_time": "2023-06-18T05:39:20.565747",
     "exception": false,
     "start_time": "2023-06-18T05:39:14.129225",
     "status": "completed"
    },
    "tags": []
   },
   "outputs": [],
   "source": [
    "df: pd.DataFrame = pd.DataFrame(data=None, columns=[\"filepaths\", \"labels\"])\n",
    "    \n",
    "filepaths: list = []\n",
    "labels: list = []\n",
    "\n",
    "i: int = 0\n",
    "for folder in sorted(os.listdir(f\"{BASE_PATH}\")):\n",
    "    for filename in os.listdir(f\"{BASE_PATH}/{folder}\"):\n",
    "        if filename[-3:] != \"gif\":\n",
    "            filepaths.append(os.path.join(f\"{BASE_PATH}/{folder}\", filename))\n",
    "            labels.append(i)\n",
    "    i += 1\n",
    "\n",
    "with open(\"/kaggle/input/dbc-analysis/delete_paths.pkl\", \"rb\") as fp:\n",
    "    delete_paths = pickle.load(fp)\n",
    "    \n",
    "    \n",
    "new_filepaths: list = []\n",
    "new_labels: list = []\n",
    "\n",
    "for i in range(len(filepaths)):\n",
    "    if filepaths[i] not in delete_paths:\n",
    "        new_filepaths.append(filepaths[i])\n",
    "        new_labels.append(labels[i])\n",
    "        \n",
    "del filepaths, labels\n",
    "\n",
    "df.filepaths = new_filepaths\n",
    "df.labels = new_labels\n",
    "df.to_csv(\"full.csv\", index=False)"
   ]
  },
  {
   "cell_type": "code",
   "execution_count": 3,
   "id": "e877b780",
   "metadata": {
    "execution": {
     "iopub.execute_input": "2023-06-18T05:39:20.572855Z",
     "iopub.status.busy": "2023-06-18T05:39:20.572434Z",
     "iopub.status.idle": "2023-06-18T05:39:20.720524Z",
     "shell.execute_reply": "2023-06-18T05:39:20.719275Z"
    },
    "papermill": {
     "duration": 0.154915,
     "end_time": "2023-06-18T05:39:20.723452",
     "exception": false,
     "start_time": "2023-06-18T05:39:20.568537",
     "status": "completed"
    },
    "tags": []
   },
   "outputs": [],
   "source": [
    "tr_df: pd.DataFrame = pd.DataFrame(data=None, columns=[\"filepaths\", \"labels\"])\n",
    "ts_df: pd.DataFrame = pd.DataFrame(data=None, columns=[\"filepaths\", \"labels\"])\n",
    "\n",
    "\n",
    "tr_filepaths, ts_filepaths, tr_labels, ts_labels = train_test_split(\n",
    "    new_filepaths,\n",
    "    new_labels,\n",
    "    test_size=0.2,\n",
    "    random_state=42,\n",
    "    shuffle=True,\n",
    "    stratify=new_labels,\n",
    ")\n",
    "\n",
    "tr_df.filepaths = tr_filepaths\n",
    "tr_df.labels = tr_labels\n",
    "\n",
    "ts_df.filepaths = ts_filepaths\n",
    "ts_df.labels = ts_labels\n",
    "\n",
    "tr_df.to_csv(\"train.csv\", index=False)\n",
    "ts_df.to_csv(\"test.csv\", index=False)"
   ]
  },
  {
   "cell_type": "code",
   "execution_count": 4,
   "id": "f6ace9c9",
   "metadata": {
    "execution": {
     "iopub.execute_input": "2023-06-18T05:39:20.730135Z",
     "iopub.status.busy": "2023-06-18T05:39:20.729736Z",
     "iopub.status.idle": "2023-06-18T05:39:20.737222Z",
     "shell.execute_reply": "2023-06-18T05:39:20.736059Z"
    },
    "papermill": {
     "duration": 0.013756,
     "end_time": "2023-06-18T05:39:20.739847",
     "exception": false,
     "start_time": "2023-06-18T05:39:20.726091",
     "status": "completed"
    },
    "tags": []
   },
   "outputs": [],
   "source": [
    "labels: dict = dict()\n",
    "\n",
    "i = 0\n",
    "for folder in sorted(os.listdir(f\"{BASE_PATH}\")):\n",
    "    labels[i] = folder\n",
    "    i += 1\n",
    "\n",
    "json.dump(labels, open(\"labels.json\", \"w\"))"
   ]
  }
 ],
 "metadata": {
  "kernelspec": {
   "display_name": "Python 3",
   "language": "python",
   "name": "python3"
  },
  "language_info": {
   "codemirror_mode": {
    "name": "ipython",
    "version": 3
   },
   "file_extension": ".py",
   "mimetype": "text/x-python",
   "name": "python",
   "nbconvert_exporter": "python",
   "pygments_lexer": "ipython3",
   "version": "3.10.10"
  },
  "papermill": {
   "default_parameters": {},
   "duration": 24.872068,
   "end_time": "2023-06-18T05:39:23.550527",
   "environment_variables": {},
   "exception": null,
   "input_path": "__notebook__.ipynb",
   "output_path": "__notebook__.ipynb",
   "parameters": {},
   "start_time": "2023-06-18T05:38:58.678459",
   "version": "2.4.0"
  }
 },
 "nbformat": 4,
 "nbformat_minor": 5
}
