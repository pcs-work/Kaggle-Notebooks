{
 "cells": [
  {
   "cell_type": "code",
   "execution_count": 1,
   "id": "5f1af5e2",
   "metadata": {
    "_cell_guid": "b1076dfc-b9ad-4769-8c92-a6c4dae69d19",
    "_uuid": "8f2839f25d086af736a60e9eeb907d3b93b6e0e5",
    "execution": {
     "iopub.execute_input": "2023-06-19T13:23:26.690388Z",
     "iopub.status.busy": "2023-06-19T13:23:26.689229Z",
     "iopub.status.idle": "2023-06-19T13:23:40.929549Z",
     "shell.execute_reply": "2023-06-19T13:23:40.928693Z"
    },
    "papermill": {
     "duration": 14.248973,
     "end_time": "2023-06-19T13:23:40.932375",
     "exception": false,
     "start_time": "2023-06-19T13:23:26.683402",
     "status": "completed"
    },
    "tags": []
   },
   "outputs": [
    {
     "name": "stderr",
     "output_type": "stream",
     "text": [
      "WARNING: Running pip as the 'root' user can result in broken permissions and conflicting behaviour with the system package manager. It is recommended to use a virtual environment instead: https://pip.pypa.io/warnings/venv\n"
     ]
    }
   ],
   "source": [
    "%%bash\n",
    "pip install timm onnx onnxruntime -q"
   ]
  },
  {
   "cell_type": "code",
   "execution_count": 2,
   "id": "5d58331f",
   "metadata": {
    "execution": {
     "iopub.execute_input": "2023-06-19T13:23:40.941513Z",
     "iopub.status.busy": "2023-06-19T13:23:40.941120Z",
     "iopub.status.idle": "2023-06-19T13:23:46.803875Z",
     "shell.execute_reply": "2023-06-19T13:23:46.802877Z"
    },
    "papermill": {
     "duration": 5.87012,
     "end_time": "2023-06-19T13:23:46.806379",
     "exception": false,
     "start_time": "2023-06-19T13:23:40.936259",
     "status": "completed"
    },
    "tags": []
   },
   "outputs": [],
   "source": [
    "import os\n",
    "import sys\n",
    "import cv2\n",
    "import json\n",
    "import onnx\n",
    "import timm\n",
    "import torch\n",
    "import random as r\n",
    "import numpy as np\n",
    "import pandas as pd\n",
    "import onnxruntime as ort\n",
    "import matplotlib.pyplot as plt\n",
    "\n",
    "from PIL import Image\n",
    "from typing import Union\n",
    "from torchvision import models\n",
    "from IPython.display import clear_output\n",
    "\n",
    "import warnings\n",
    "warnings.filterwarnings(\"ignore\")\n",
    "\n",
    "if not os.path.exists(\"onnx\"): os.makedirs(\"onnx\")\n",
    "    \n",
    "ort.set_default_logger_severity(3)"
   ]
  },
  {
   "cell_type": "code",
   "execution_count": 3,
   "id": "a09c1713",
   "metadata": {
    "execution": {
     "iopub.execute_input": "2023-06-19T13:23:46.815854Z",
     "iopub.status.busy": "2023-06-19T13:23:46.815226Z",
     "iopub.status.idle": "2023-06-19T13:23:46.830709Z",
     "shell.execute_reply": "2023-06-19T13:23:46.829317Z"
    },
    "papermill": {
     "duration": 0.023425,
     "end_time": "2023-06-19T13:23:46.833623",
     "exception": false,
     "start_time": "2023-06-19T13:23:46.810198",
     "status": "completed"
    },
    "tags": []
   },
   "outputs": [],
   "source": [
    "labels: dict = json.load(open(\"/kaggle/input/dbc-dataframe/labels.json\", \"r\"))\n",
    "    \n",
    "    \n",
    "def breaker() -> None:\n",
    "    print(\"\\n\" + 50*\"*\" + \"\\n\")\n",
    "\n",
    "\n",
    "def get_image(path: str) -> np.ndarray:\n",
    "    image = cv2.imread(path, cv2.IMREAD_COLOR)\n",
    "    if image is None:\n",
    "        image = np.array(Image.open(path))\n",
    "        image = np.concatenate(\n",
    "            (\n",
    "                np.expand_dims(image, axis=2),\n",
    "                np.expand_dims(image, axis=2),\n",
    "                np.expand_dims(image, axis=2),\n",
    "            ), axis=2\n",
    "        )\n",
    "        return image\n",
    "    return cv2.cvtColor(src=image, code=cv2.COLOR_BGR2RGB)\n",
    "\n",
    "\n",
    "def show_image(\n",
    "    image: np.ndarray, \n",
    "    cmap: str=\"gnuplot2\", \n",
    "    title: Union[str, None]=None\n",
    ") -> None:\n",
    "    plt.figure()\n",
    "    plt.imshow(image, cmap=cmap)\n",
    "    plt.axis(\"off\")\n",
    "    if title: plt.title(title)\n",
    "    plt.show()"
   ]
  },
  {
   "cell_type": "code",
   "execution_count": 4,
   "id": "84f58d3f",
   "metadata": {
    "execution": {
     "iopub.execute_input": "2023-06-19T13:23:46.842513Z",
     "iopub.status.busy": "2023-06-19T13:23:46.842134Z",
     "iopub.status.idle": "2023-06-19T13:23:46.851463Z",
     "shell.execute_reply": "2023-06-19T13:23:46.850144Z"
    },
    "papermill": {
     "duration": 0.016696,
     "end_time": "2023-06-19T13:23:46.853938",
     "exception": false,
     "start_time": "2023-06-19T13:23:46.837242",
     "status": "completed"
    },
    "tags": []
   },
   "outputs": [],
   "source": [
    "class Model(torch.nn.Module):\n",
    "    def __init__(self):\n",
    "        super(Model, self).__init__()\n",
    "        \n",
    "        self.model = timm.create_model(model_name=\"efficientnet_b4\", pretrained=False)\n",
    "        self.model.classifier = torch.nn.Linear(in_features=self.model.classifier.in_features, out_features=142)\n",
    "\n",
    "    def forward(self, x):\n",
    "        return self.model(x)\n",
    "\n",
    "    \n",
    "class CFG(object):  \n",
    "    def __init__(\n",
    "        self, \n",
    "        in_channels: int=3, \n",
    "        size: int=256, \n",
    "        opset_version: int=9, \n",
    "        path: str=None\n",
    "    ):\n",
    "        self.in_channels = in_channels\n",
    "        self.size = size\n",
    "        self.dummy = torch.randn(1, self.in_channels, self.size, self.size)\n",
    "        self.opset_version = opset_version\n",
    "        self.path = path"
   ]
  },
  {
   "cell_type": "code",
   "execution_count": 5,
   "id": "b165a8f9",
   "metadata": {
    "execution": {
     "iopub.execute_input": "2023-06-19T13:23:46.862853Z",
     "iopub.status.busy": "2023-06-19T13:23:46.862456Z",
     "iopub.status.idle": "2023-06-19T13:24:33.256424Z",
     "shell.execute_reply": "2023-06-19T13:24:33.255182Z"
    },
    "papermill": {
     "duration": 46.402232,
     "end_time": "2023-06-19T13:24:33.259807",
     "exception": false,
     "start_time": "2023-06-19T13:23:46.857575",
     "status": "completed"
    },
    "tags": []
   },
   "outputs": [
    {
     "name": "stdout",
     "output_type": "stream",
     "text": [
      "============== Diagnostic Run torch.onnx.export version 2.0.0+cpu ==============\n",
      "verbose: False, log level: Level.ERROR\n",
      "======================= 0 NONE 0 NOTE 0 WARNING 0 ERROR ========================\n",
      "\n"
     ]
    }
   ],
   "source": [
    "for fold in [1, 4, 5]:\n",
    "    for v in [\"a\", \"l\"]:\n",
    "        cfg = CFG(\n",
    "            in_channels=3, \n",
    "            size=224, \n",
    "            opset_version=15, \n",
    "            path=f\"/kaggle/input/dbc-en4-a224-e10-f{fold}/saves/b{v}e_state_fold_{fold}.pt\"\n",
    "        )\n",
    "\n",
    "        model = Model()\n",
    "        model.load_state_dict(torch.load(cfg.path, map_location=torch.device(\"cpu\"))[\"model_state_dict\"])\n",
    "        model.eval()\n",
    "\n",
    "        clear_output()\n",
    "\n",
    "        torch.onnx.export(\n",
    "            model=model, \n",
    "            args=cfg.dummy, \n",
    "            f=f\"onnx/b{v}e_model_f{fold}.onnx\", \n",
    "            input_names=[\"input\"], \n",
    "            output_names=[\"output\"], \n",
    "            opset_version=cfg.opset_version,\n",
    "            export_params=True,\n",
    "            training=torch.onnx.TrainingMode.EVAL,\n",
    "            operator_export_type=torch.onnx.OperatorExportTypes.ONNX_ATEN_FALLBACK,\n",
    "            dynamic_axes={\n",
    "              \"input\"  : {0 : \"batch_size\"},\n",
    "              \"output\" : {0 : \"batch_size\"},\n",
    "            }\n",
    "        )"
   ]
  },
  {
   "cell_type": "code",
   "execution_count": 6,
   "id": "c0a49768",
   "metadata": {
    "execution": {
     "iopub.execute_input": "2023-06-19T13:24:33.269405Z",
     "iopub.status.busy": "2023-06-19T13:24:33.268976Z",
     "iopub.status.idle": "2023-06-19T13:24:33.281197Z",
     "shell.execute_reply": "2023-06-19T13:24:33.280050Z"
    },
    "papermill": {
     "duration": 0.020057,
     "end_time": "2023-06-19T13:24:33.283697",
     "exception": false,
     "start_time": "2023-06-19T13:24:33.263640",
     "status": "completed"
    },
    "tags": []
   },
   "outputs": [],
   "source": [
    "class OnnxModel(object):\n",
    "    def __init__(self, path: str) -> None:\n",
    "        self.size: int = 224\n",
    "        \n",
    "        self.mean: list = [0.52497, 0.51415, 0.42639]\n",
    "        self.std: list  = [0.22347, 0.22211, 0.22381]\n",
    "        \n",
    "        self.path: str = path\n",
    "    \n",
    "        model = onnx.load(self.path)\n",
    "        onnx.checker.check_model(model)\n",
    "        self.ort_session = ort.InferenceSession(self.path)\n",
    "        \n",
    "    def infer(self, image: np.ndarray, labels: dict) -> np.ndarray:\n",
    "        image = image / 255\n",
    "        image = cv2.resize(src=image, dsize=(self.size, self.size), interpolation=cv2.INTER_AREA).transpose(2, 0, 1)\n",
    "        for i in range(image.shape[0]): image[i, :, :] = (image[i, :, :] - self.mean[i]) / self.std[i]\n",
    "        image = np.expand_dims(image, axis=0)\n",
    "        inputs = {self.ort_session.get_inputs()[0].name: image.astype(\"float32\")}\n",
    "        result = self.ort_session.run(None, inputs)\n",
    "        odds = np.exp(np.max(result))\n",
    "        return labels[str(np.argmax(result))].title(), odds / (1 + odds)"
   ]
  },
  {
   "cell_type": "code",
   "execution_count": 7,
   "id": "a4bd77f2",
   "metadata": {
    "execution": {
     "iopub.execute_input": "2023-06-19T13:24:33.292764Z",
     "iopub.status.busy": "2023-06-19T13:24:33.292363Z",
     "iopub.status.idle": "2023-06-19T13:24:45.610605Z",
     "shell.execute_reply": "2023-06-19T13:24:45.608368Z"
    },
    "papermill": {
     "duration": 12.325821,
     "end_time": "2023-06-19T13:24:45.613248",
     "exception": false,
     "start_time": "2023-06-19T13:24:33.287427",
     "status": "completed"
    },
    "tags": []
   },
   "outputs": [
    {
     "name": "stdout",
     "output_type": "stream",
     "text": [
      "\n",
      "**************************************************\n",
      "\n",
      "BAE_MODEL_F1.ONNX\n",
      "\n",
      "Portuguese Water Dog, Portuguese Water Dog\n",
      "Affenpinscher, Affenpinscher\n",
      "Alaskan Malamute, Alaskan Malamute\n",
      "German Wirehaired Pointer, Dutch Shepherd\n",
      "French Bulldog, French Bulldog\n",
      "Cocker Spaniel, Cocker Spaniel\n",
      "Irish Setter, Irish Setter\n",
      "Lowchen, Lowchen\n",
      "Boxer, Boxer\n",
      "\n",
      "**************************************************\n",
      "\n",
      "BAE_MODEL_F4.ONNX\n",
      "\n",
      "Pointer, German Shorthaired Pointer\n",
      "Greyhound, Pointer\n",
      "Bull Terrier, Miniature Bull Terrier\n",
      "Petit Basset Griffon Vendeen, Petit Basset Griffon Vendeen\n",
      "Goldendoodle, Labradoodle\n",
      "Irish Setter, Irish Setter\n",
      "Basenji, Basenji\n",
      "Miniature Schnauzer, Miniature Schnauzer\n",
      "Dutch Shepherd, Dutch Shepherd\n",
      "\n",
      "**************************************************\n",
      "\n",
      "BAE_MODEL_F5.ONNX\n",
      "\n",
      "Great Pyrenees, Great Pyrenees\n",
      "Icelandic Sheepdog, Finnish Lapphund\n",
      "Dachshund, English Setter\n",
      "Flat-Coated Retriever, Flat-Coated Retriever\n",
      "Great Dane, Great Dane\n",
      "Portuguese Water Dog, Portuguese Water Dog\n",
      "Cesky Terrier, Cesky Terrier\n",
      "German Pinscher, Doberman Pinscher\n",
      "American Foxhound, English Foxhound\n",
      "\n",
      "**************************************************\n",
      "\n",
      "BLE_MODEL_F1.ONNX\n",
      "\n",
      "Pumi, Pumi\n",
      "Irish Red And White Setter, Irish Red And White Setter\n",
      "Italian Greyhound, Italian Greyhound\n",
      "English Setter, English Setter\n",
      "Pointer, Pointer\n",
      "Irish Terrier, Irish Terrier\n",
      "Norfolk Terrier, Norfolk Terrier\n",
      "Newfoundland, Flat-Coated Retriever\n",
      "Pomeranian, Pomeranian\n",
      "\n",
      "**************************************************\n",
      "\n",
      "BLE_MODEL_F4.ONNX\n",
      "\n",
      "Chesapeake Bay Retriever, Chesapeake Bay Retriever\n",
      "Irish Setter, Irish Setter\n",
      "Labradoodle, Labradoodle\n",
      "Komondor, Komondor\n",
      "Italian Greyhound, Italian Greyhound\n",
      "Doberman Pinscher, Doberman Pinscher\n",
      "Cane Corso, Cane Corso\n",
      "Pembroke Welsh Corgi, Pembroke Welsh Corgi\n",
      "Siberian Husky, Siberian Husky\n",
      "\n",
      "**************************************************\n",
      "\n",
      "BLE_MODEL_F5.ONNX\n",
      "\n",
      "Coton De Tulear, Coton De Tulear\n",
      "Great Pyrenees, Akita\n",
      "Siberian Husky, Siberian Husky\n",
      "Chinook Dog, Chinook Dog\n",
      "Irish Red And White Setter, Irish Red And White Setter\n",
      "Jack Russell Terrier, Jack Russell Terrier\n",
      "Afghan Hound, Afghan Hound\n",
      "Leonberger, Leonberger\n",
      "Boxer, Boxer\n",
      "\n",
      "**************************************************\n",
      "\n"
     ]
    }
   ],
   "source": [
    "df = pd.read_csv(\"/kaggle/input/dbc-dataframe/test.csv\")\n",
    "\n",
    "breaker()\n",
    "for model_name in sorted(os.listdir(\"onnx\")):\n",
    "    \n",
    "    onnx_model = OnnxModel(f\"onnx/{model_name}\")\n",
    "    \n",
    "    print(f\"{model_name.upper()}\\n\")\n",
    "    \n",
    "    for i in range(9):\n",
    "        index = r.randint(0, len(df)-1)\n",
    "        filepath = df.iloc[index, 0]\n",
    "        y_true   = df.iloc[index, 1]\n",
    "\n",
    "        image = get_image(filepath)\n",
    "\n",
    "        y_pred, _ = onnx_model.infer(image, labels)\n",
    "        \n",
    "        print(f\"{labels[str(y_true)].title()}, {y_pred}\")\n",
    "        # show_image(image, title=y_pred)\n",
    "\n",
    "    breaker()"
   ]
  }
 ],
 "metadata": {
  "kernelspec": {
   "display_name": "Python 3",
   "language": "python",
   "name": "python3"
  },
  "language_info": {
   "codemirror_mode": {
    "name": "ipython",
    "version": 3
   },
   "file_extension": ".py",
   "mimetype": "text/x-python",
   "name": "python",
   "nbconvert_exporter": "python",
   "pygments_lexer": "ipython3",
   "version": "3.10.10"
  },
  "papermill": {
   "default_parameters": {},
   "duration": 92.620687,
   "end_time": "2023-06-19T13:24:47.346144",
   "environment_variables": {},
   "exception": null,
   "input_path": "__notebook__.ipynb",
   "output_path": "__notebook__.ipynb",
   "parameters": {},
   "start_time": "2023-06-19T13:23:14.725457",
   "version": "2.4.0"
  }
 },
 "nbformat": 4,
 "nbformat_minor": 5
}
