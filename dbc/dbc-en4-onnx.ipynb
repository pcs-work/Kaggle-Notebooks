{
 "cells": [
  {
   "cell_type": "code",
   "execution_count": 1,
   "id": "109ab1f3",
   "metadata": {
    "_cell_guid": "b1076dfc-b9ad-4769-8c92-a6c4dae69d19",
    "_uuid": "8f2839f25d086af736a60e9eeb907d3b93b6e0e5",
    "execution": {
     "iopub.execute_input": "2023-06-19T05:09:28.228724Z",
     "iopub.status.busy": "2023-06-19T05:09:28.227721Z",
     "iopub.status.idle": "2023-06-19T05:09:39.264477Z",
     "shell.execute_reply": "2023-06-19T05:09:39.263407Z"
    },
    "papermill": {
     "duration": 11.043026,
     "end_time": "2023-06-19T05:09:39.266749",
     "exception": false,
     "start_time": "2023-06-19T05:09:28.223723",
     "status": "completed"
    },
    "tags": []
   },
   "outputs": [
    {
     "name": "stderr",
     "output_type": "stream",
     "text": [
      "WARNING: Running pip as the 'root' user can result in broken permissions and conflicting behaviour with the system package manager. It is recommended to use a virtual environment instead: https://pip.pypa.io/warnings/venv\n"
     ]
    }
   ],
   "source": [
    "%%bash\n",
    "pip install timm onnx onnxruntime -q"
   ]
  },
  {
   "cell_type": "code",
   "execution_count": 2,
   "id": "50487966",
   "metadata": {
    "execution": {
     "iopub.execute_input": "2023-06-19T05:09:39.273041Z",
     "iopub.status.busy": "2023-06-19T05:09:39.272738Z",
     "iopub.status.idle": "2023-06-19T05:09:44.248110Z",
     "shell.execute_reply": "2023-06-19T05:09:44.247190Z"
    },
    "papermill": {
     "duration": 4.981028,
     "end_time": "2023-06-19T05:09:44.250488",
     "exception": false,
     "start_time": "2023-06-19T05:09:39.269460",
     "status": "completed"
    },
    "tags": []
   },
   "outputs": [],
   "source": [
    "import os\n",
    "import sys\n",
    "import cv2\n",
    "import json\n",
    "import onnx\n",
    "import timm\n",
    "import torch\n",
    "import random as r\n",
    "import numpy as np\n",
    "import pandas as pd\n",
    "import onnxruntime as ort\n",
    "import matplotlib.pyplot as plt\n",
    "\n",
    "from PIL import Image\n",
    "from typing import Union\n",
    "from torchvision import models\n",
    "from IPython.display import clear_output\n",
    "\n",
    "import warnings\n",
    "warnings.filterwarnings(\"ignore\")\n",
    "\n",
    "if not os.path.exists(\"onnx\"): os.makedirs(\"onnx\")\n",
    "    \n",
    "ort.set_default_logger_severity(3)"
   ]
  },
  {
   "cell_type": "code",
   "execution_count": 3,
   "id": "469505de",
   "metadata": {
    "execution": {
     "iopub.execute_input": "2023-06-19T05:09:44.256450Z",
     "iopub.status.busy": "2023-06-19T05:09:44.256170Z",
     "iopub.status.idle": "2023-06-19T05:09:44.273563Z",
     "shell.execute_reply": "2023-06-19T05:09:44.272185Z"
    },
    "papermill": {
     "duration": 0.022914,
     "end_time": "2023-06-19T05:09:44.276004",
     "exception": false,
     "start_time": "2023-06-19T05:09:44.253090",
     "status": "completed"
    },
    "tags": []
   },
   "outputs": [],
   "source": [
    "labels: dict = json.load(open(\"/kaggle/input/dbc-dataframe/labels.json\", \"r\"))\n",
    "    \n",
    "    \n",
    "def breaker() -> None:\n",
    "    print(\"\\n\" + 50*\"*\" + \"\\n\")\n",
    "\n",
    "\n",
    "def get_image(path: str) -> np.ndarray:\n",
    "    image = cv2.imread(path, cv2.IMREAD_COLOR)\n",
    "    if image is None:\n",
    "        image = np.array(Image.open(path))\n",
    "        image = np.concatenate(\n",
    "            (\n",
    "                np.expand_dims(image, axis=2),\n",
    "                np.expand_dims(image, axis=2),\n",
    "                np.expand_dims(image, axis=2),\n",
    "            ), axis=2\n",
    "        )\n",
    "        return image\n",
    "    return cv2.cvtColor(src=image, code=cv2.COLOR_BGR2RGB)\n",
    "\n",
    "\n",
    "def show_image(\n",
    "    image: np.ndarray, \n",
    "    cmap: str=\"gnuplot2\", \n",
    "    title: Union[str, None]=None\n",
    ") -> None:\n",
    "    plt.figure()\n",
    "    plt.imshow(image, cmap=cmap)\n",
    "    plt.axis(\"off\")\n",
    "    if title: plt.title(title)\n",
    "    plt.show()"
   ]
  },
  {
   "cell_type": "code",
   "execution_count": 4,
   "id": "93ee3baa",
   "metadata": {
    "execution": {
     "iopub.execute_input": "2023-06-19T05:09:44.282654Z",
     "iopub.status.busy": "2023-06-19T05:09:44.282297Z",
     "iopub.status.idle": "2023-06-19T05:09:44.289483Z",
     "shell.execute_reply": "2023-06-19T05:09:44.288525Z"
    },
    "papermill": {
     "duration": 0.012573,
     "end_time": "2023-06-19T05:09:44.291296",
     "exception": false,
     "start_time": "2023-06-19T05:09:44.278723",
     "status": "completed"
    },
    "tags": []
   },
   "outputs": [],
   "source": [
    "class Model(torch.nn.Module):\n",
    "    def __init__(self):\n",
    "        super(Model, self).__init__()\n",
    "        \n",
    "        self.model = timm.create_model(model_name=\"efficientnet_b4\", pretrained=False)\n",
    "        self.model.classifier = torch.nn.Linear(in_features=self.model.classifier.in_features, out_features=143)\n",
    "\n",
    "    def forward(self, x):\n",
    "        return self.model(x)\n",
    "\n",
    "    \n",
    "class CFG(object):  \n",
    "    def __init__(\n",
    "        self, \n",
    "        in_channels: int=3, \n",
    "        size: int=256, \n",
    "        opset_version: int=9, \n",
    "        path: str=None\n",
    "    ):\n",
    "        self.in_channels = in_channels\n",
    "        self.size = size\n",
    "        self.dummy = torch.randn(1, self.in_channels, self.size, self.size)\n",
    "        self.opset_version = opset_version\n",
    "        self.path = path"
   ]
  },
  {
   "cell_type": "code",
   "execution_count": 5,
   "id": "c2d29389",
   "metadata": {
    "execution": {
     "iopub.execute_input": "2023-06-19T05:09:44.297153Z",
     "iopub.status.busy": "2023-06-19T05:09:44.296825Z",
     "iopub.status.idle": "2023-06-19T05:10:14.788009Z",
     "shell.execute_reply": "2023-06-19T05:10:14.787177Z"
    },
    "papermill": {
     "duration": 30.49822,
     "end_time": "2023-06-19T05:10:14.791988",
     "exception": false,
     "start_time": "2023-06-19T05:09:44.293768",
     "status": "completed"
    },
    "tags": []
   },
   "outputs": [
    {
     "name": "stdout",
     "output_type": "stream",
     "text": [
      "============== Diagnostic Run torch.onnx.export version 2.0.0+cpu ==============\n",
      "verbose: False, log level: Level.ERROR\n",
      "======================= 0 NONE 0 NOTE 0 WARNING 0 ERROR ========================\n",
      "\n"
     ]
    }
   ],
   "source": [
    "for fold in [1, 4, 5]:\n",
    "    for v in [\"a\", \"l\"]:\n",
    "        cfg = CFG(\n",
    "            in_channels=3, \n",
    "            size=224, \n",
    "            opset_version=15, \n",
    "            path=f\"/kaggle/input/dbc-en4-a224-e10-f{fold}/saves/b{v}e_state_fold_{fold}.pt\"\n",
    "        )\n",
    "\n",
    "        model = Model()\n",
    "        model.load_state_dict(torch.load(cfg.path, map_location=torch.device(\"cpu\"))[\"model_state_dict\"])\n",
    "        model.eval()\n",
    "\n",
    "        clear_output()\n",
    "\n",
    "        torch.onnx.export(\n",
    "            model=model, \n",
    "            args=cfg.dummy, \n",
    "            f=f\"onnx/b{v}e_model_f{fold}.onnx\", \n",
    "            input_names=[\"input\"], \n",
    "            output_names=[\"output\"], \n",
    "            opset_version=cfg.opset_version,\n",
    "            export_params=True,\n",
    "            training=torch.onnx.TrainingMode.EVAL,\n",
    "            operator_export_type=torch.onnx.OperatorExportTypes.ONNX_ATEN_FALLBACK,\n",
    "            dynamic_axes={\n",
    "              \"input\"  : {0 : \"batch_size\"},\n",
    "              \"output\" : {0 : \"batch_size\"},\n",
    "            }\n",
    "        )"
   ]
  },
  {
   "cell_type": "code",
   "execution_count": 6,
   "id": "7cd432a9",
   "metadata": {
    "execution": {
     "iopub.execute_input": "2023-06-19T05:10:14.798032Z",
     "iopub.status.busy": "2023-06-19T05:10:14.797500Z",
     "iopub.status.idle": "2023-06-19T05:10:14.807224Z",
     "shell.execute_reply": "2023-06-19T05:10:14.806189Z"
    },
    "papermill": {
     "duration": 0.01553,
     "end_time": "2023-06-19T05:10:14.809757",
     "exception": false,
     "start_time": "2023-06-19T05:10:14.794227",
     "status": "completed"
    },
    "tags": []
   },
   "outputs": [],
   "source": [
    "class OnnxModel(object):\n",
    "    def __init__(self, path: str) -> None:\n",
    "        self.size: int = 224\n",
    "        \n",
    "        self.mean: list = [0.52497, 0.51415, 0.42639]\n",
    "        self.std: list  = [0.22347, 0.22211, 0.22381]\n",
    "        \n",
    "        self.path: str = path\n",
    "    \n",
    "        model = onnx.load(self.path)\n",
    "        onnx.checker.check_model(model)\n",
    "        self.ort_session = ort.InferenceSession(self.path)\n",
    "        \n",
    "    def infer(self, image: np.ndarray, labels: dict) -> np.ndarray:\n",
    "        image = image / 255\n",
    "        image = cv2.resize(src=image, dsize=(self.size, self.size), interpolation=cv2.INTER_AREA).transpose(2, 0, 1)\n",
    "        for i in range(image.shape[0]): image[i, :, :] = (image[i, :, :] - self.mean[i]) / self.std[i]\n",
    "        image = np.expand_dims(image, axis=0)\n",
    "        inputs = {self.ort_session.get_inputs()[0].name: image.astype(\"float32\")}\n",
    "        result = self.ort_session.run(None, inputs)\n",
    "        odds = np.exp(np.max(result))\n",
    "        return labels[str(np.argmax(result))].title(), odds / (1 + odds)"
   ]
  },
  {
   "cell_type": "code",
   "execution_count": 7,
   "id": "8c4434f4",
   "metadata": {
    "execution": {
     "iopub.execute_input": "2023-06-19T05:10:14.816022Z",
     "iopub.status.busy": "2023-06-19T05:10:14.815736Z",
     "iopub.status.idle": "2023-06-19T05:10:24.747356Z",
     "shell.execute_reply": "2023-06-19T05:10:24.746555Z"
    },
    "papermill": {
     "duration": 9.937109,
     "end_time": "2023-06-19T05:10:24.749572",
     "exception": false,
     "start_time": "2023-06-19T05:10:14.812463",
     "status": "completed"
    },
    "tags": []
   },
   "outputs": [
    {
     "name": "stdout",
     "output_type": "stream",
     "text": [
      "\n",
      "**************************************************\n",
      "\n",
      "BAE_MODEL_F1.ONNX\n",
      "\n",
      "Beagle, Beagle\n",
      "Miniature Schnauzer, Lowchen\n",
      "Clumber Spaniel, Cocker Spaniel\n",
      "Mastiff, Mastiff\n",
      "Basenji, Basenji\n",
      "Brussels Griffon, Lhasa Apso\n",
      "Brussels Griffon, Brussels Griffon\n",
      "Miniature Pinscher, Chihuahua\n",
      "Beagle, Beagle\n",
      "\n",
      "**************************************************\n",
      "\n",
      "BAE_MODEL_F4.ONNX\n",
      "\n",
      "Affenpinscher, Affenpinscher\n",
      "Boston Terrier, Boston Terrier\n",
      "Lowchen, Cockapoo\n",
      "Bouvier Des Flandres, Bouvier Des Flandres\n",
      "Clumber Spaniel, Clumber Spaniel\n",
      "Maltese, Maltese\n",
      "Brussels Griffon, Brussels Griffon\n",
      "Corgi, Pembroke Welsh Corgi\n",
      "Chow Chow, Chow Chow\n",
      "\n",
      "**************************************************\n",
      "\n",
      "BAE_MODEL_F5.ONNX\n",
      "\n",
      "Cavalier King Charles Spaniel, Cavalier King Charles Spaniel\n",
      "Bouvier Des Flandres, Bouvier Des Flandres\n",
      "Giant Schnauzer, German Wirehaired Pointer\n",
      "English Toy Spaniel, English Toy Spaniel\n",
      "Coton De Tulear, Lhasa Apso\n",
      "Miniature Pinscher, Miniature Pinscher\n",
      "Labrador Retriever, Labrador Retriever\n",
      "Chinook Dog, Chinook Dog\n",
      "Norwegian Elkhound, Alaskan Malamute\n",
      "\n",
      "**************************************************\n",
      "\n",
      "BLE_MODEL_F1.ONNX\n",
      "\n",
      "Miniature Schnauzer, Miniature Schnauzer\n",
      "Ibizan Hound, Ibizan Hound\n",
      "Boykin Spaniel, Boykin Spaniel\n",
      "Anatolian Shepherd Dog, Anatolian Shepherd Dog\n",
      "Mudi, Mudi\n",
      "Norfolk Terrier, Norfolk Terrier\n",
      "Newfoundland, Newfoundland\n",
      "Petit Basset Griffon Vendeen, English Setter\n",
      "Azawakh, Azawakh\n",
      "\n",
      "**************************************************\n",
      "\n",
      "BLE_MODEL_F4.ONNX\n",
      "\n",
      "Cane Corso, Cane Corso\n",
      "Doberman Pinscher, Doberman Pinscher\n",
      "Finnish Spitz, Finnish Spitz\n",
      "Japanese Chin, Japanese Chin\n",
      "Bearded Collie, Bearded Collie\n",
      "Azawakh, Greyhound\n",
      "Chesapeake Bay Retriever, Chesapeake Bay Retriever\n",
      "Bouvier Des Flandres, Bouvier Des Flandres\n",
      "Cane Corso, Cane Corso\n",
      "\n",
      "**************************************************\n",
      "\n",
      "BLE_MODEL_F5.ONNX\n",
      "\n",
      "Beagle, American Foxhound\n",
      "English Foxhound, Plott\n",
      "Boston Terrier, Boston Terrier\n",
      "Coonhound, Coonhound\n",
      "German Shepherd, German Shepherd\n",
      "Norwegian Buhund, Norwegian Buhund\n",
      "Goldendoodle, Goldendoodle\n",
      "Finnish Lapphund, Finnish Lapphund\n",
      "Alaskan Malamute, Alaskan Malamute\n",
      "\n",
      "**************************************************\n",
      "\n"
     ]
    }
   ],
   "source": [
    "df = pd.read_csv(\"/kaggle/input/dbc-dataframe/test.csv\")\n",
    "\n",
    "breaker()\n",
    "for model_name in sorted(os.listdir(\"onnx\")):\n",
    "    \n",
    "    onnx_model = OnnxModel(f\"onnx/{model_name}\")\n",
    "    \n",
    "    print(f\"{model_name.upper()}\\n\")\n",
    "    \n",
    "    for i in range(9):\n",
    "        index = r.randint(0, len(df)-1)\n",
    "        filepath = df.iloc[index, 0]\n",
    "        y_true   = df.iloc[index, 1]\n",
    "\n",
    "        image = get_image(filepath)\n",
    "\n",
    "        y_pred, _ = onnx_model.infer(image, labels)\n",
    "        \n",
    "        print(f\"{labels[str(y_true)].title()}, {y_pred}\")\n",
    "        # show_image(image, title=y_pred)\n",
    "\n",
    "    breaker()"
   ]
  }
 ],
 "metadata": {
  "kernelspec": {
   "display_name": "Python 3",
   "language": "python",
   "name": "python3"
  },
  "language_info": {
   "codemirror_mode": {
    "name": "ipython",
    "version": 3
   },
   "file_extension": ".py",
   "mimetype": "text/x-python",
   "name": "python",
   "nbconvert_exporter": "python",
   "pygments_lexer": "ipython3",
   "version": "3.10.10"
  },
  "papermill": {
   "default_parameters": {},
   "duration": 67.968183,
   "end_time": "2023-06-19T05:10:26.183441",
   "environment_variables": {},
   "exception": null,
   "input_path": "__notebook__.ipynb",
   "output_path": "__notebook__.ipynb",
   "parameters": {},
   "start_time": "2023-06-19T05:09:18.215258",
   "version": "2.4.0"
  }
 },
 "nbformat": 4,
 "nbformat_minor": 5
}
