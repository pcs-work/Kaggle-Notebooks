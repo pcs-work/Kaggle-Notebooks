{
 "cells": [
  {
   "cell_type": "code",
   "execution_count": 1,
   "id": "0c162f54",
   "metadata": {
    "execution": {
     "iopub.execute_input": "2023-07-10T06:27:51.262448Z",
     "iopub.status.busy": "2023-07-10T06:27:51.261914Z",
     "iopub.status.idle": "2023-07-10T06:27:52.979306Z",
     "shell.execute_reply": "2023-07-10T06:27:52.978134Z"
    },
    "papermill": {
     "duration": 1.725173,
     "end_time": "2023-07-10T06:27:52.982241",
     "exception": false,
     "start_time": "2023-07-10T06:27:51.257068",
     "status": "completed"
    },
    "tags": []
   },
   "outputs": [],
   "source": [
    "import os\n",
    "import cv2\n",
    "import json\n",
    "import numpy as np\n",
    "import pandas as pd\n",
    "\n",
    "from sklearn.model_selection import train_test_split\n",
    "\n",
    "BASE_PATH: str = \"/kaggle/input/dangerous-insects-dataset/farm_insects\""
   ]
  },
  {
   "cell_type": "code",
   "execution_count": 2,
   "id": "4a4a530d",
   "metadata": {
    "_cell_guid": "b1076dfc-b9ad-4769-8c92-a6c4dae69d19",
    "_uuid": "8f2839f25d086af736a60e9eeb907d3b93b6e0e5",
    "execution": {
     "iopub.execute_input": "2023-07-10T06:27:52.988755Z",
     "iopub.status.busy": "2023-07-10T06:27:52.988363Z",
     "iopub.status.idle": "2023-07-10T06:27:53.866414Z",
     "shell.execute_reply": "2023-07-10T06:27:53.865210Z"
    },
    "papermill": {
     "duration": 0.884771,
     "end_time": "2023-07-10T06:27:53.869447",
     "exception": false,
     "start_time": "2023-07-10T06:27:52.984676",
     "status": "completed"
    },
    "tags": []
   },
   "outputs": [],
   "source": [
    "df: pd.DataFrame = pd.DataFrame(data=None, columns=[\"filepaths\", \"labels\"])\n",
    "    \n",
    "filepaths: list = []\n",
    "labels: list = []\n",
    "\n",
    "i: int = 0\n",
    "for folder in sorted(os.listdir(f\"{BASE_PATH}\")):\n",
    "    for filename in os.listdir(f\"{BASE_PATH}/{folder}\"):\n",
    "        if filename[-3:] != \"gif\":\n",
    "            filepaths.append(os.path.join(f\"{BASE_PATH}/{folder}\", filename))\n",
    "            labels.append(i)\n",
    "    i += 1\n",
    "\n",
    "df.filepaths = filepaths\n",
    "df.labels = labels\n",
    "df.to_csv(\"full.csv\", index=False)"
   ]
  },
  {
   "cell_type": "code",
   "execution_count": 3,
   "id": "760c629a",
   "metadata": {
    "execution": {
     "iopub.execute_input": "2023-07-10T06:27:53.876426Z",
     "iopub.status.busy": "2023-07-10T06:27:53.875976Z",
     "iopub.status.idle": "2023-07-10T06:27:53.909853Z",
     "shell.execute_reply": "2023-07-10T06:27:53.908684Z"
    },
    "papermill": {
     "duration": 0.040864,
     "end_time": "2023-07-10T06:27:53.912739",
     "exception": false,
     "start_time": "2023-07-10T06:27:53.871875",
     "status": "completed"
    },
    "tags": []
   },
   "outputs": [],
   "source": [
    "tr_filepaths, va_filepaths, tr_labels, va_labels = train_test_split(\n",
    "    filepaths,\n",
    "    labels,\n",
    "    test_size=0.2, \n",
    "    random_state=0,\n",
    "    shuffle=True,\n",
    "    stratify=labels,\n",
    ")\n",
    "\n",
    "tr_df: pd.DataFrame = pd.DataFrame(data=None, columns=[\"filepaths\", \"labels\"])\n",
    "va_df: pd.DataFrame = pd.DataFrame(data=None, columns=[\"filepaths\", \"labels\"])\n",
    "\n",
    "tr_df.filepaths = tr_filepaths\n",
    "tr_df.labels = tr_labels\n",
    "tr_df.to_csv(\"train.csv\", index=False)\n",
    "\n",
    "va_df.filepaths = va_filepaths\n",
    "va_df.labels = va_labels\n",
    "va_df.to_csv(\"valid.csv\", index=False)"
   ]
  }
 ],
 "metadata": {
  "kernelspec": {
   "display_name": "Python 3",
   "language": "python",
   "name": "python3"
  },
  "language_info": {
   "codemirror_mode": {
    "name": "ipython",
    "version": 3
   },
   "file_extension": ".py",
   "mimetype": "text/x-python",
   "name": "python",
   "nbconvert_exporter": "python",
   "pygments_lexer": "ipython3",
   "version": "3.10.10"
  },
  "papermill": {
   "default_parameters": {},
   "duration": 18.326201,
   "end_time": "2023-07-10T06:27:55.040213",
   "environment_variables": {},
   "exception": null,
   "input_path": "__notebook__.ipynb",
   "output_path": "__notebook__.ipynb",
   "parameters": {},
   "start_time": "2023-07-10T06:27:36.714012",
   "version": "2.4.0"
  }
 },
 "nbformat": 4,
 "nbformat_minor": 5
}
