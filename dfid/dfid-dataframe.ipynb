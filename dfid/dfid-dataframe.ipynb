{
 "cells": [
  {
   "cell_type": "code",
   "execution_count": 1,
   "id": "c3f4d758",
   "metadata": {
    "execution": {
     "iopub.execute_input": "2023-07-13T08:54:05.066092Z",
     "iopub.status.busy": "2023-07-13T08:54:05.065572Z",
     "iopub.status.idle": "2023-07-13T08:54:07.043953Z",
     "shell.execute_reply": "2023-07-13T08:54:07.042697Z"
    },
    "papermill": {
     "duration": 1.986055,
     "end_time": "2023-07-13T08:54:07.047008",
     "exception": false,
     "start_time": "2023-07-13T08:54:05.060953",
     "status": "completed"
    },
    "tags": []
   },
   "outputs": [],
   "source": [
    "import os\n",
    "import cv2\n",
    "import json\n",
    "import numpy as np\n",
    "import pandas as pd\n",
    "\n",
    "from sklearn.model_selection import train_test_split\n",
    "\n",
    "BASE_PATH: str = \"/kaggle/input/dangerous-insects-dataset/farm_insects\""
   ]
  },
  {
   "cell_type": "code",
   "execution_count": 2,
   "id": "596397a7",
   "metadata": {
    "_cell_guid": "b1076dfc-b9ad-4769-8c92-a6c4dae69d19",
    "_uuid": "8f2839f25d086af736a60e9eeb907d3b93b6e0e5",
    "execution": {
     "iopub.execute_input": "2023-07-13T08:54:07.054382Z",
     "iopub.status.busy": "2023-07-13T08:54:07.053304Z",
     "iopub.status.idle": "2023-07-13T08:54:07.303113Z",
     "shell.execute_reply": "2023-07-13T08:54:07.302259Z"
    },
    "papermill": {
     "duration": 0.25609,
     "end_time": "2023-07-13T08:54:07.305820",
     "exception": false,
     "start_time": "2023-07-13T08:54:07.049730",
     "status": "completed"
    },
    "tags": []
   },
   "outputs": [],
   "source": [
    "df: pd.DataFrame = pd.DataFrame(data=None, columns=[\"filepaths\", \"labels\"])\n",
    "    \n",
    "filepaths: list = []\n",
    "labels: list = []\n",
    "\n",
    "i: int = 0\n",
    "for folder in sorted(os.listdir(f\"{BASE_PATH}\")):\n",
    "    for filename in os.listdir(f\"{BASE_PATH}/{folder}\"):\n",
    "        if filename[-3:] != \"gif\":\n",
    "            filepaths.append(os.path.join(f\"{BASE_PATH}/{folder}\", filename))\n",
    "            labels.append(i)\n",
    "    i += 1\n",
    "\n",
    "df.filepaths = filepaths\n",
    "df.labels = labels\n",
    "df.to_csv(\"full.csv\", index=False)"
   ]
  },
  {
   "cell_type": "code",
   "execution_count": 3,
   "id": "c02985f6",
   "metadata": {
    "execution": {
     "iopub.execute_input": "2023-07-13T08:54:07.312892Z",
     "iopub.status.busy": "2023-07-13T08:54:07.312288Z",
     "iopub.status.idle": "2023-07-13T08:54:07.346706Z",
     "shell.execute_reply": "2023-07-13T08:54:07.345235Z"
    },
    "papermill": {
     "duration": 0.041277,
     "end_time": "2023-07-13T08:54:07.349672",
     "exception": false,
     "start_time": "2023-07-13T08:54:07.308395",
     "status": "completed"
    },
    "tags": []
   },
   "outputs": [],
   "source": [
    "tr_filepaths, va_filepaths, tr_labels, va_labels = train_test_split(\n",
    "    filepaths,\n",
    "    labels,\n",
    "    test_size=0.2, \n",
    "    random_state=0,\n",
    "    shuffle=True,\n",
    "    stratify=labels,\n",
    ")\n",
    "\n",
    "tr_df: pd.DataFrame = pd.DataFrame(data=None, columns=[\"filepaths\", \"labels\"])\n",
    "va_df: pd.DataFrame = pd.DataFrame(data=None, columns=[\"filepaths\", \"labels\"])\n",
    "\n",
    "tr_df.filepaths = tr_filepaths\n",
    "tr_df.labels = tr_labels\n",
    "tr_df.to_csv(\"train.csv\", index=False)\n",
    "\n",
    "va_df.filepaths = va_filepaths\n",
    "va_df.labels = va_labels\n",
    "va_df.to_csv(\"valid.csv\", index=False)"
   ]
  },
  {
   "cell_type": "code",
   "execution_count": 4,
   "id": "774b8eef",
   "metadata": {
    "execution": {
     "iopub.execute_input": "2023-07-13T08:54:07.356368Z",
     "iopub.status.busy": "2023-07-13T08:54:07.355921Z",
     "iopub.status.idle": "2023-07-13T08:54:07.364472Z",
     "shell.execute_reply": "2023-07-13T08:54:07.363293Z"
    },
    "papermill": {
     "duration": 0.014701,
     "end_time": "2023-07-13T08:54:07.366941",
     "exception": false,
     "start_time": "2023-07-13T08:54:07.352240",
     "status": "completed"
    },
    "tags": []
   },
   "outputs": [],
   "source": [
    "labels: dict = dict()\n",
    "\n",
    "i = 0\n",
    "for folder in sorted(os.listdir(f\"{BASE_PATH}\")):\n",
    "    labels[i] = folder\n",
    "    i += 1\n",
    "\n",
    "json.dump(labels, open(\"labels.json\", \"w\"))"
   ]
  }
 ],
 "metadata": {
  "kernelspec": {
   "display_name": "Python 3",
   "language": "python",
   "name": "python3"
  },
  "language_info": {
   "codemirror_mode": {
    "name": "ipython",
    "version": 3
   },
   "file_extension": ".py",
   "mimetype": "text/x-python",
   "name": "python",
   "nbconvert_exporter": "python",
   "pygments_lexer": "ipython3",
   "version": "3.10.10"
  },
  "papermill": {
   "default_parameters": {},
   "duration": 18.425904,
   "end_time": "2023-07-13T08:54:08.492144",
   "environment_variables": {},
   "exception": null,
   "input_path": "__notebook__.ipynb",
   "output_path": "__notebook__.ipynb",
   "parameters": {},
   "start_time": "2023-07-13T08:53:50.066240",
   "version": "2.4.0"
  }
 },
 "nbformat": 4,
 "nbformat_minor": 5
}
