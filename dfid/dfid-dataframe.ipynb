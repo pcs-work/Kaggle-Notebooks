{
 "cells": [
  {
   "cell_type": "code",
   "execution_count": 1,
   "id": "89d9f76d",
   "metadata": {
    "execution": {
     "iopub.execute_input": "2023-07-10T06:14:05.416116Z",
     "iopub.status.busy": "2023-07-10T06:14:05.415143Z",
     "iopub.status.idle": "2023-07-10T06:14:07.320171Z",
     "shell.execute_reply": "2023-07-10T06:14:07.318890Z"
    },
    "papermill": {
     "duration": 1.914257,
     "end_time": "2023-07-10T06:14:07.323397",
     "exception": false,
     "start_time": "2023-07-10T06:14:05.409140",
     "status": "completed"
    },
    "tags": []
   },
   "outputs": [],
   "source": [
    "import os\n",
    "import cv2\n",
    "import json\n",
    "import numpy as np\n",
    "import pandas as pd\n",
    "\n",
    "from sklearn.model_selection import train_test_split\n",
    "\n",
    "BASE_PATH: str = \"/kaggle/input/dangerous-insects-dataset/farm_insects\""
   ]
  },
  {
   "cell_type": "code",
   "execution_count": 2,
   "id": "a30c730c",
   "metadata": {
    "_cell_guid": "b1076dfc-b9ad-4769-8c92-a6c4dae69d19",
    "_uuid": "8f2839f25d086af736a60e9eeb907d3b93b6e0e5",
    "execution": {
     "iopub.execute_input": "2023-07-10T06:14:07.330035Z",
     "iopub.status.busy": "2023-07-10T06:14:07.329579Z",
     "iopub.status.idle": "2023-07-10T06:14:07.609325Z",
     "shell.execute_reply": "2023-07-10T06:14:07.608409Z"
    },
    "papermill": {
     "duration": 0.286046,
     "end_time": "2023-07-10T06:14:07.611932",
     "exception": false,
     "start_time": "2023-07-10T06:14:07.325886",
     "status": "completed"
    },
    "tags": []
   },
   "outputs": [],
   "source": [
    "df: pd.DataFrame = pd.DataFrame(data=None, columns=[\"filepaths\", \"labels\"])\n",
    "    \n",
    "filepaths: list = []\n",
    "labels: list = []\n",
    "\n",
    "i: int = 0\n",
    "for folder in sorted(os.listdir(f\"{BASE_PATH}\")):\n",
    "    for filename in os.listdir(f\"{BASE_PATH}/{folder}\"):\n",
    "        filepaths.append(os.path.join(f\"{BASE_PATH}/{folder}\", filename))\n",
    "        labels.append(i)\n",
    "    i += 1\n",
    "\n",
    "df.filepaths = filepaths\n",
    "df.labels = labels\n",
    "df.to_csv(\"full.csv\", index=False)"
   ]
  },
  {
   "cell_type": "code",
   "execution_count": 3,
   "id": "655b020f",
   "metadata": {
    "execution": {
     "iopub.execute_input": "2023-07-10T06:14:07.620698Z",
     "iopub.status.busy": "2023-07-10T06:14:07.620111Z",
     "iopub.status.idle": "2023-07-10T06:14:07.655554Z",
     "shell.execute_reply": "2023-07-10T06:14:07.654300Z"
    },
    "papermill": {
     "duration": 0.043374,
     "end_time": "2023-07-10T06:14:07.658536",
     "exception": false,
     "start_time": "2023-07-10T06:14:07.615162",
     "status": "completed"
    },
    "tags": []
   },
   "outputs": [],
   "source": [
    "tr_filepaths, va_filepaths, tr_labels, va_labels = train_test_split(\n",
    "    filepaths,\n",
    "    labels,\n",
    "    test_size=0.2, \n",
    "    random_state=0,\n",
    "    shuffle=True,\n",
    "    stratify=labels,\n",
    ")\n",
    "\n",
    "tr_df: pd.DataFrame = pd.DataFrame(data=None, columns=[\"filepaths\", \"labels\"])\n",
    "va_df: pd.DataFrame = pd.DataFrame(data=None, columns=[\"filepaths\", \"labels\"])\n",
    "\n",
    "tr_df.filepaths = tr_filepaths\n",
    "tr_df.labels = tr_labels\n",
    "tr_df.to_csv(\"train.csv\", index=False)\n",
    "\n",
    "va_df.filepaths = va_filepaths\n",
    "va_df.labels = va_labels\n",
    "va_df.to_csv(\"valid.csv\", index=False)"
   ]
  }
 ],
 "metadata": {
  "kernelspec": {
   "display_name": "Python 3",
   "language": "python",
   "name": "python3"
  },
  "language_info": {
   "codemirror_mode": {
    "name": "ipython",
    "version": 3
   },
   "file_extension": ".py",
   "mimetype": "text/x-python",
   "name": "python",
   "nbconvert_exporter": "python",
   "pygments_lexer": "ipython3",
   "version": "3.10.10"
  },
  "papermill": {
   "default_parameters": {},
   "duration": 16.613742,
   "end_time": "2023-07-10T06:14:08.684423",
   "environment_variables": {},
   "exception": null,
   "input_path": "__notebook__.ipynb",
   "output_path": "__notebook__.ipynb",
   "parameters": {},
   "start_time": "2023-07-10T06:13:52.070681",
   "version": "2.4.0"
  }
 },
 "nbformat": 4,
 "nbformat_minor": 5
}
