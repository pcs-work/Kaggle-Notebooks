{
 "cells": [
  {
   "cell_type": "markdown",
   "id": "5209901d",
   "metadata": {
    "_cell_guid": "b1076dfc-b9ad-4769-8c92-a6c4dae69d19",
    "_uuid": "8f2839f25d086af736a60e9eeb907d3b93b6e0e5",
    "papermill": {
     "duration": 0.006522,
     "end_time": "2023-06-04T09:04:00.883219",
     "exception": false,
     "start_time": "2023-06-04T09:04:00.876697",
     "status": "completed"
    },
    "tags": []
   },
   "source": [
    "### **Setup**"
   ]
  },
  {
   "cell_type": "code",
   "execution_count": 1,
   "id": "9f7300cd",
   "metadata": {
    "execution": {
     "iopub.execute_input": "2023-06-04T09:04:00.897607Z",
     "iopub.status.busy": "2023-06-04T09:04:00.897103Z",
     "iopub.status.idle": "2023-06-04T09:04:12.593543Z",
     "shell.execute_reply": "2023-06-04T09:04:12.592535Z"
    },
    "papermill": {
     "duration": 11.706929,
     "end_time": "2023-06-04T09:04:12.596592",
     "exception": false,
     "start_time": "2023-06-04T09:04:00.889663",
     "status": "completed"
    },
    "tags": []
   },
   "outputs": [
    {
     "name": "stderr",
     "output_type": "stream",
     "text": [
      "WARNING: Running pip as the 'root' user can result in broken permissions and conflicting behaviour with the system package manager. It is recommended to use a virtual environment instead: https://pip.pypa.io/warnings/venv\n"
     ]
    }
   ],
   "source": [
    "%%bash\n",
    "pip install timm -q"
   ]
  },
  {
   "cell_type": "markdown",
   "id": "6b4bdc7c",
   "metadata": {
    "papermill": {
     "duration": 0.005705,
     "end_time": "2023-06-04T09:04:12.608696",
     "exception": false,
     "start_time": "2023-06-04T09:04:12.602991",
     "status": "completed"
    },
    "tags": []
   },
   "source": [
    "### **Library Imports**"
   ]
  },
  {
   "cell_type": "code",
   "execution_count": 2,
   "id": "4a76a81c",
   "metadata": {
    "execution": {
     "iopub.execute_input": "2023-06-04T09:04:12.621904Z",
     "iopub.status.busy": "2023-06-04T09:04:12.621563Z",
     "iopub.status.idle": "2023-06-04T09:04:18.938315Z",
     "shell.execute_reply": "2023-06-04T09:04:18.937273Z"
    },
    "papermill": {
     "duration": 6.32627,
     "end_time": "2023-06-04T09:04:18.940902",
     "exception": false,
     "start_time": "2023-06-04T09:04:12.614632",
     "status": "completed"
    },
    "tags": []
   },
   "outputs": [],
   "source": [
    "import os\n",
    "import re\n",
    "import cv2\n",
    "import timm\n",
    "import torch\n",
    "import numpy as np\n",
    "import pandas as pd\n",
    "import matplotlib.pyplot as plt\n",
    "\n",
    "from time import time\n",
    "from scipy import stats\n",
    "from typing import Union\n",
    "from torch import nn, optim\n",
    "from torch.utils.data import Dataset\n",
    "from torch.utils.data import DataLoader as DL\n",
    "from torchvision import transforms\n",
    "\n",
    "from sklearn.model_selection import StratifiedKFold"
   ]
  },
  {
   "cell_type": "markdown",
   "id": "84a1a630",
   "metadata": {
    "papermill": {
     "duration": 0.005392,
     "end_time": "2023-06-04T09:04:18.952149",
     "exception": false,
     "start_time": "2023-06-04T09:04:18.946757",
     "status": "completed"
    },
    "tags": []
   },
   "source": [
    "### **Utilities and Helpers**"
   ]
  },
  {
   "cell_type": "code",
   "execution_count": 3,
   "id": "949822d5",
   "metadata": {
    "execution": {
     "iopub.execute_input": "2023-06-04T09:04:18.966414Z",
     "iopub.status.busy": "2023-06-04T09:04:18.965758Z",
     "iopub.status.idle": "2023-06-04T09:04:18.974897Z",
     "shell.execute_reply": "2023-06-04T09:04:18.974054Z"
    },
    "papermill": {
     "duration": 0.017876,
     "end_time": "2023-06-04T09:04:18.976910",
     "exception": false,
     "start_time": "2023-06-04T09:04:18.959034",
     "status": "completed"
    },
    "tags": []
   },
   "outputs": [],
   "source": [
    "SEED: int = 42\n",
    "SIZE: int = 224\n",
    "\n",
    "\n",
    "def breaker(num: int=50, char: str=\"*\") -> None: print(\"\\n\" + num*char + \"\\n\")\n",
    "\n",
    "    \n",
    "def get_image(path: str, size: int=224) -> np.ndarray:\n",
    "    image = cv2.imread(path, cv2.IMREAD_COLOR)\n",
    "    image = cv2.cvtColor(src=image, code=cv2.COLOR_BGR2RGB)\n",
    "    return cv2.resize(src=image, dsize=(size, size), interpolation=cv2.INTER_AREA)\n",
    "\n",
    "    \n",
    "# def show_loss_graphs(L: list) -> None:\n",
    "#     TL, VL = [], []\n",
    "#     for i in range(len(L)):\n",
    "#         TL.append(L[i][\"train\"])\n",
    "#         VL.append(L[i][\"valid\"])\n",
    "#     x_Axis = np.arange(1, len(TL) + 1)\n",
    "#     plt.figure()\n",
    "#     plt.plot(x_Axis, TL, \"r\", label=\"Train\")\n",
    "#     plt.plot(x_Axis, VL, \"b\", label=\"Valid\")\n",
    "#     plt.legend()\n",
    "#     plt.grid()\n",
    "#     plt.title(\"Loss Graph\")\n",
    "#     plt.show()\n",
    "\n",
    "    \n",
    "# def show_accuracy_graphs(A: list) -> None:\n",
    "#     TA, VA = [], []\n",
    "#     for i in range(len(A)):\n",
    "#         TA.append(A[i][\"train\"])\n",
    "#         VA.append(A[i][\"valid\"])\n",
    "#     x_Axis = np.arange(1, len(TA) + 1)\n",
    "#     plt.figure()\n",
    "#     plt.plot(x_Axis, TA, \"r\", label=\"Train\")\n",
    "#     plt.plot(x_Axis, VA, \"b\", label=\"Valid\")\n",
    "#     plt.legend()\n",
    "#     plt.grid()\n",
    "#     plt.title(\"Accuracy Graph\")\n",
    "#     plt.show()\n",
    "    \n",
    "\n",
    "# def show_lr_graph(LR: list) -> None:\n",
    "#     x_Axis = [i+1 for i in range(len(LR))]\n",
    "#     plt.figure(figsize=(8, 6))\n",
    "#     plt.plot(x_Axis, LR, \"rx\")\n",
    "#     plt.grid()\n",
    "#     plt.show()"
   ]
  },
  {
   "cell_type": "markdown",
   "id": "8b275f48",
   "metadata": {
    "papermill": {
     "duration": 0.005459,
     "end_time": "2023-06-04T09:04:18.988213",
     "exception": false,
     "start_time": "2023-06-04T09:04:18.982754",
     "status": "completed"
    },
    "tags": []
   },
   "source": [
    "\n",
    "\n",
    "### **Configuration**"
   ]
  },
  {
   "cell_type": "code",
   "execution_count": 4,
   "id": "49acaa93",
   "metadata": {
    "execution": {
     "iopub.execute_input": "2023-06-04T09:04:19.001139Z",
     "iopub.status.busy": "2023-06-04T09:04:19.000524Z",
     "iopub.status.idle": "2023-06-04T09:04:19.077160Z",
     "shell.execute_reply": "2023-06-04T09:04:19.076209Z"
    },
    "papermill": {
     "duration": 0.085861,
     "end_time": "2023-06-04T09:04:19.079713",
     "exception": false,
     "start_time": "2023-06-04T09:04:18.993852",
     "status": "completed"
    },
    "tags": []
   },
   "outputs": [],
   "source": [
    "class CFG(object):\n",
    "    def __init__(\n",
    "        self, \n",
    "        seed: int = 42,\n",
    "        size: int = 224,\n",
    "        n_splits: int = 5,\n",
    "        batch_size: int = 16,\n",
    "        epochs: int = 25,\n",
    "        early_stopping: int = 5,\n",
    "        lr: float = 1e-4,\n",
    "        wd: float = 0.0,\n",
    "        max_lr: float = 1e-3,\n",
    "        pct_start: float = 0.2,\n",
    "        steps_per_epoch: int = 100,\n",
    "        div_factor: int = 1e3, \n",
    "        final_div_factor: float = 1e3,\n",
    "    ):\n",
    "        self.seed = seed\n",
    "        self.size = size\n",
    "        self.n_splits = n_splits\n",
    "        self.batch_size = batch_size\n",
    "        self.epochs = epochs\n",
    "        self.early_stopping = early_stopping\n",
    "        self.lr = lr\n",
    "        self.wd = wd\n",
    "        self.max_lr = max_lr\n",
    "        self.pct_start = pct_start\n",
    "        self.steps_per_epoch = steps_per_epoch\n",
    "        self.div_factor = div_factor\n",
    "        self.final_div_factor = final_div_factor\n",
    "        self.device = torch.device(\"cuda\" if torch.cuda.is_available() else \"cpu\")\n",
    "        \n",
    "        if self.size == 224:\n",
    "            self.train_transform = transforms.Compose([\n",
    "                transforms.ToTensor(),\n",
    "                transforms.Normalize([0.74628, 0.71980, 0.71150], [0.26142, 0.27938, 0.28378]),\n",
    "                transforms.RandomAffine(degrees=(-45, 45), translate=(0.15, 0.15), scale=(0.5, 1.5)),\n",
    "                transforms.RandomHorizontalFlip(p=0.25),\n",
    "                transforms.RandomVerticalFlip(p=0.25),\n",
    "            ])\n",
    "            self.valid_transform = transforms.Compose([\n",
    "                transforms.ToTensor(),\n",
    "                transforms.Normalize([0.74628, 0.71980, 0.71150], [0.26142, 0.27938, 0.28378]),\n",
    "            ])\n",
    "        \n",
    "        if self.size == 384:\n",
    "            self.train_transform = transforms.Compose([\n",
    "                transforms.ToTensor(),\n",
    "                transforms.Normalize([0.74627, 0.71980, 0.71149], [0.26283, 0.28071, 0.28509]),\n",
    "                transforms.RandomAffine(degrees=(-45, 45), translate=(0.15, 0.15), scale=(0.5, 1.5)),\n",
    "                transforms.RandomHorizontalFlip(p=0.25),\n",
    "                transforms.RandomVerticalFlip(p=0.25),\n",
    "            ])\n",
    "            self.valid_transform = transforms.Compose([\n",
    "                transforms.ToTensor(),\n",
    "                transforms.Normalize([0.74627, 0.71980, 0.71149], [0.26283, 0.28071, 0.28509]),\n",
    "            ])\n",
    "        \n",
    "        if self.size == 512:\n",
    "            self.train_transform = transforms.Compose([\n",
    "                transforms.ToTensor(),\n",
    "                transforms.Normalize([0.74605, 0.71957, 0.71127], [0.26359, 0.28144, 0.28580]),\n",
    "                transforms.RandomAffine(degrees=(-45, 45), translate=(0.15, 0.15), scale=(0.5, 1.5)),\n",
    "                transforms.RandomHorizontalFlip(p=0.25),\n",
    "                transforms.RandomVerticalFlip(p=0.25),\n",
    "            ])\n",
    "            self.valid_transform = transforms.Compose([\n",
    "                transforms.ToTensor(),\n",
    "                transforms.Normalize([0.74605, 0.71957, 0.71127], [0.26359, 0.28144, 0.28580]),\n",
    "            ])\n",
    "                    \n",
    "        self.save_path = \"saves\"\n",
    "        if not os.path.exists(self.save_path): os.makedirs(self.save_path)\n",
    "    \n",
    "cfg = CFG(\n",
    "    seed=SEED, \n",
    "    size=SIZE\n",
    ")"
   ]
  },
  {
   "cell_type": "markdown",
   "id": "50558a8a",
   "metadata": {
    "papermill": {
     "duration": 0.005698,
     "end_time": "2023-06-04T09:04:19.091438",
     "exception": false,
     "start_time": "2023-06-04T09:04:19.085740",
     "status": "completed"
    },
    "tags": []
   },
   "source": [
    "### **Dataset Template**"
   ]
  },
  {
   "cell_type": "code",
   "execution_count": 5,
   "id": "9b69e0e6",
   "metadata": {
    "execution": {
     "iopub.execute_input": "2023-06-04T09:04:19.105618Z",
     "iopub.status.busy": "2023-06-04T09:04:19.104705Z",
     "iopub.status.idle": "2023-06-04T09:04:19.112411Z",
     "shell.execute_reply": "2023-06-04T09:04:19.111573Z"
    },
    "papermill": {
     "duration": 0.016934,
     "end_time": "2023-06-04T09:04:19.114517",
     "exception": false,
     "start_time": "2023-06-04T09:04:19.097583",
     "status": "completed"
    },
    "tags": []
   },
   "outputs": [],
   "source": [
    "class DS(Dataset):\n",
    "    def __init__(\n",
    "        self, \n",
    "        filepaths: np.ndarray,\n",
    "        size: int=224,\n",
    "        labels: Union[np.ndarray, None]=None, \n",
    "        transform=None\n",
    "    ):\n",
    "        \n",
    "        self.filepaths = filepaths\n",
    "        self.size = size\n",
    "        self.labels = labels\n",
    "        self.transform = transform\n",
    "    \n",
    "    def __len__(self):\n",
    "        return self.filepaths.shape[0]\n",
    "    \n",
    "    def __getitem__(self, idx):\n",
    "        image = get_image(self.filepaths[idx], self.size)\n",
    "        if self.labels is None:\n",
    "            return self.transform(image)\n",
    "        return self.transform(image), torch.LongTensor(self.labels[idx])"
   ]
  },
  {
   "cell_type": "markdown",
   "id": "0cf46b54",
   "metadata": {
    "papermill": {
     "duration": 0.00565,
     "end_time": "2023-06-04T09:04:19.126090",
     "exception": false,
     "start_time": "2023-06-04T09:04:19.120440",
     "status": "completed"
    },
    "tags": []
   },
   "source": [
    "### **Model**"
   ]
  },
  {
   "cell_type": "code",
   "execution_count": 6,
   "id": "58ff7387",
   "metadata": {
    "execution": {
     "iopub.execute_input": "2023-06-04T09:04:19.140252Z",
     "iopub.status.busy": "2023-06-04T09:04:19.139188Z",
     "iopub.status.idle": "2023-06-04T09:04:19.145950Z",
     "shell.execute_reply": "2023-06-04T09:04:19.145035Z"
    },
    "papermill": {
     "duration": 0.015993,
     "end_time": "2023-06-04T09:04:19.147956",
     "exception": false,
     "start_time": "2023-06-04T09:04:19.131963",
     "status": "completed"
    },
    "tags": []
   },
   "outputs": [],
   "source": [
    "class Model(nn.Module):\n",
    "    def __init__(self):\n",
    "        super(Model, self).__init__()\n",
    "            \n",
    "        self.model = timm.create_model(model_name=\"densenet169.tv_in1k\", pretrained=True)\n",
    "        self.model.classifier = nn.Linear(in_features=self.model.classifier.in_features, out_features=7)\n",
    "\n",
    "    def forward(self, x):\n",
    "        return nn.LogSoftmax(dim=1)(self.model(x))"
   ]
  },
  {
   "cell_type": "markdown",
   "id": "4ab84032",
   "metadata": {
    "papermill": {
     "duration": 0.005693,
     "end_time": "2023-06-04T09:04:19.159543",
     "exception": false,
     "start_time": "2023-06-04T09:04:19.153850",
     "status": "completed"
    },
    "tags": []
   },
   "source": [
    "### **Fit and Predict**"
   ]
  },
  {
   "cell_type": "code",
   "execution_count": 7,
   "id": "f41ca016",
   "metadata": {
    "execution": {
     "iopub.execute_input": "2023-06-04T09:04:19.173405Z",
     "iopub.status.busy": "2023-06-04T09:04:19.172722Z",
     "iopub.status.idle": "2023-06-04T09:04:19.184607Z",
     "shell.execute_reply": "2023-06-04T09:04:19.183771Z"
    },
    "papermill": {
     "duration": 0.021302,
     "end_time": "2023-06-04T09:04:19.186644",
     "exception": false,
     "start_time": "2023-06-04T09:04:19.165342",
     "status": "completed"
    },
    "tags": []
   },
   "outputs": [],
   "source": [
    "# def fit(\n",
    "#     model=None,\n",
    "#     optimizer=None, \n",
    "#     scheduler_rlrop=None,\n",
    "#     scheduler_oclr=None,\n",
    "#     epochs=None, \n",
    "#     early_stopping_patience=None, \n",
    "#     dataloaders=None, \n",
    "#     fold=None, \n",
    "#     save_path=None,\n",
    "#     device=None,\n",
    "#     verbose=False\n",
    "# ) -> tuple:\n",
    "    \n",
    "#     def get_accuracy(y_pred, y_true):\n",
    "#         y_pred = torch.argmax(y_pred, dim=1)\n",
    "#         return torch.count_nonzero(y_pred == y_true).item() / len(y_pred)\n",
    "    \n",
    "    \n",
    "#     if verbose:\n",
    "#         breaker()\n",
    "#         if fold: print(f\"Training Fold {fold}...\")\n",
    "#         else: print(\"Training ...\")\n",
    "#         breaker()\n",
    "        \n",
    "#     bestLoss: dict = {\"train\" : np.inf, \"valid\" : np.inf} \n",
    "#     bestAccs: dict = {\"train\" : 0.0, \"valid\" : 0.0}\n",
    "    \n",
    "#     Losses: list = []\n",
    "#     Accuracies: list = [] \n",
    "#     LRs: list = []\n",
    "        \n",
    "#     if fold: \n",
    "#         ble_name = f\"ble_state_fold_{fold}.pt\"\n",
    "#         bae_name = f\"bae_state_fold_{fold}.pt\"\n",
    "#     else: \n",
    "#         ble_name = f\"ble_state.pt\"\n",
    "#         bae_name = f\"bae_state.pt\"\n",
    "        \n",
    "#     start_time = time()\n",
    "#     for e in range(epochs):\n",
    "#         e_st = time()\n",
    "#         epochLoss: dict = {\"train\" : 0.0, \"valid\" : 0.0} \n",
    "#         epochAccs: dict = {\"train\" : 0.0, \"valid\" : 0.0}\n",
    "\n",
    "#         for phase in [\"train\", \"valid\"]:\n",
    "#             if phase == \"train\":\n",
    "#                 model.train()\n",
    "#             else:\n",
    "#                 model.eval()\n",
    "            \n",
    "#             lossPerPass: list = []\n",
    "#             accsPerPass: list = []\n",
    "                \n",
    "#             for X, y in dataloaders[phase]:\n",
    "#                 X, y = X.to(device), y.to(device).view(-1)\n",
    "\n",
    "#                 optimizer.zero_grad()\n",
    "#                 with torch.set_grad_enabled(phase == \"train\"):\n",
    "#                     output = model(X)\n",
    "#                     loss = nn.NLLLoss()(output, y)\n",
    "#                     if phase == \"train\":\n",
    "#                         loss.backward()\n",
    "#                         optimizer.step()\n",
    "#                         if scheduler_oclr: scheduler_oclr.step()\n",
    "#                 lossPerPass.append(loss.item())\n",
    "#                 accsPerPass.append(get_accuracy(output, y))\n",
    "#             epochLoss[phase] = np.mean(np.array(lossPerPass))\n",
    "#             epochAccs[phase] = np.mean(np.array(accsPerPass))\n",
    "#         if scheduler_oclr: LRs.append(scheduler_oclr.get_last_lr())\n",
    "#         Losses.append(epochLoss)\n",
    "#         Accuracies.append(epochAccs)\n",
    "        \n",
    "#         if scheduler_oclr:\n",
    "#             save_dict = {\"model_state_dict\"     : model.state_dict(),\n",
    "#                          \"optim_state_dict\"     : optimizer.state_dict(),\n",
    "#                          \"scheduler_state_dict\" : scheduler_oclr.state_dict()}\n",
    "        \n",
    "#         elif scheduler_rlrop:\n",
    "#             save_dict = {\"model_state_dict\"     : model.state_dict(),\n",
    "#                          \"optim_state_dict\"     : optimizer.state_dict(),\n",
    "#                          \"scheduler_state_dict\" : scheduler_rlrop.state_dict()}\n",
    "        \n",
    "#         else:\n",
    "#             save_dict = {\"model_state_dict\"     : model.state_dict(),\n",
    "#                          \"optim_state_dict\"     : optimizer.state_dict()}\n",
    "        \n",
    "#         if early_stopping_patience:\n",
    "#             if epochLoss[\"valid\"] < bestLoss[\"valid\"]:\n",
    "#                 bestLoss = epochLoss\n",
    "#                 BLE = e + 1\n",
    "#                 torch.save(save_dict, os.path.join(save_path, ble_name))\n",
    "#                 torch.save(save_dict, os.path.join(save_path, bae_name))\n",
    "#                 early_stopping_step = 0\n",
    "#             else:\n",
    "#                 early_stopping_step += 1\n",
    "#                 if early_stopping_step > early_stopping_patience:\n",
    "#                     print(\"\\nEarly Stopping at Epoch {}\".format(e + 1))\n",
    "#                     break\n",
    "        \n",
    "#         if epochLoss[\"valid\"] < bestLoss[\"valid\"]:\n",
    "#             bestLoss = epochLoss\n",
    "#             BLE = e + 1\n",
    "#             torch.save(save_dict,os.path.join(save_path, ble_name))\n",
    "        \n",
    "#         if epochAccs[\"valid\"] > bestAccs[\"valid\"]:\n",
    "#             bestAccs = epochAccs\n",
    "#             BAE = e + 1\n",
    "#             torch.save(save_dict,os.path.join(save_path, bae_name))\n",
    "        \n",
    "#         if scheduler_rlrop: scheduler_rlrop.step(epochLoss[\"valid\"])\n",
    "        \n",
    "#         if verbose:\n",
    "#             print(\"Epoch: {} | Train Loss: {:.5f} | Valid Loss: {:.5f} |\\\n",
    "#  Train Accs: {:.5f} | Valid Accs: {:.5f} | Time: {:.2f} seconds\".format(e+1, \n",
    "#                                                                         epochLoss[\"train\"], epochLoss[\"valid\"], \n",
    "#                                                                         epochAccs[\"train\"], epochAccs[\"valid\"], \n",
    "#                                                                         time()-e_st))\n",
    "\n",
    "#     if verbose:                                           \n",
    "#         breaker()\n",
    "#         print(f\"Best Validation Loss at Epoch {BLE}\")\n",
    "#         breaker()\n",
    "#         print(f\"Best Validation Accs at Epoch {BAE}\")\n",
    "#         breaker()\n",
    "#         print(\"Time Taken [{} Epochs] : {:.2f} minutes\".format(len(Losses), (time()-start_time)/60))\n",
    "    \n",
    "#     return Losses, Accuracies, LRs, bestLoss, bestAccs, BLE, BAE, ble_name, bae_name\n",
    "\n",
    "\n",
    "def predict_batch(model=None, dataloader=None, path=None, device=None) -> np.ndarray:\n",
    "    model.load_state_dict(torch.load(path, map_location=device)[\"model_state_dict\"])\n",
    "    model.to(device)    \n",
    "    model.eval()\n",
    "    \n",
    "    y_pred = torch.zeros(1, 1).to(device)\n",
    "    \n",
    "    for X in dataloader:\n",
    "        X = X.to(device)\n",
    "        with torch.no_grad():\n",
    "            output = torch.argmax(torch.exp(model(X)), dim=1)\n",
    "        y_pred = torch.cat((y_pred, output.view(-1, 1)), dim=0)\n",
    "    \n",
    "    return y_pred[1:].detach().cpu().numpy()"
   ]
  },
  {
   "cell_type": "markdown",
   "id": "edd5e6b0",
   "metadata": {
    "papermill": {
     "duration": 0.005629,
     "end_time": "2023-06-04T09:04:19.198142",
     "exception": false,
     "start_time": "2023-06-04T09:04:19.192513",
     "status": "completed"
    },
    "tags": []
   },
   "source": [
    "### **Train**"
   ]
  },
  {
   "cell_type": "code",
   "execution_count": 8,
   "id": "5e276bea",
   "metadata": {
    "execution": {
     "iopub.execute_input": "2023-06-04T09:04:19.211647Z",
     "iopub.status.busy": "2023-06-04T09:04:19.210814Z",
     "iopub.status.idle": "2023-06-04T09:04:19.215281Z",
     "shell.execute_reply": "2023-06-04T09:04:19.214431Z"
    },
    "papermill": {
     "duration": 0.013326,
     "end_time": "2023-06-04T09:04:19.217254",
     "exception": false,
     "start_time": "2023-06-04T09:04:19.203928",
     "status": "completed"
    },
    "tags": []
   },
   "outputs": [],
   "source": [
    "# df = pd.read_csv(\"/kaggle/input/eafi-dataframe/train.csv\")\n",
    "\n",
    "# filepaths = df.filepaths.copy().values\n",
    "# labels = df.label.copy().values"
   ]
  },
  {
   "cell_type": "code",
   "execution_count": 9,
   "id": "df2663b0",
   "metadata": {
    "execution": {
     "iopub.execute_input": "2023-06-04T09:04:19.230488Z",
     "iopub.status.busy": "2023-06-04T09:04:19.230188Z",
     "iopub.status.idle": "2023-06-04T09:04:19.236218Z",
     "shell.execute_reply": "2023-06-04T09:04:19.235347Z"
    },
    "papermill": {
     "duration": 0.015071,
     "end_time": "2023-06-04T09:04:19.238193",
     "exception": false,
     "start_time": "2023-06-04T09:04:19.223122",
     "status": "completed"
    },
    "tags": []
   },
   "outputs": [],
   "source": [
    "# fold: int = 1\n",
    "# BLs: list = []\n",
    "# BAs: list = []\n",
    "    \n",
    "# cfg.batch_size = 64\n",
    "# cfg.epochs = 10\n",
    "    \n",
    "# for tr_idx, va_idx in StratifiedKFold(n_splits=cfg.n_splits, random_state=cfg.seed, shuffle=True).split(filepaths, labels):\n",
    "#     if fold == 4: break\n",
    "#     fold += 1\n",
    "    \n",
    "# tr_filepaths, va_filepaths = filepaths[tr_idx], filepaths[va_idx] \n",
    "# tr_labels, va_labels       = labels[tr_idx], labels[va_idx]\n",
    "\n",
    "# tr_data_setup = DS(\n",
    "#     filepaths=tr_filepaths,\n",
    "#     size=cfg.size,\n",
    "#     labels=tr_labels.reshape(-1, 1),\n",
    "#     transform=cfg.train_transform\n",
    "# )\n",
    "\n",
    "# va_data_setup = DS(\n",
    "#     filepaths=va_filepaths, \n",
    "#     size=cfg.size,\n",
    "#     labels=va_labels.reshape(-1, 1),\n",
    "#     transform=cfg.valid_transform\n",
    "# )\n",
    "\n",
    "# dataloaders = {\n",
    "#     \"train\" : DL(tr_data_setup, batch_size=cfg.batch_size, shuffle=True, generator=torch.manual_seed(cfg.seed)),\n",
    "#     \"valid\" : DL(va_data_setup, batch_size=cfg.batch_size, shuffle=False),\n",
    "# }\n",
    "\n",
    "# cfg.steps_per_epoch=len(dataloaders[\"train\"])\n",
    "\n",
    "# torch.manual_seed(cfg.seed)\n",
    "# model = Model().to(cfg.device)\n",
    "\n",
    "# optimizer = optim.Adam([p for p in model.parameters() if p.requires_grad], lr=cfg.lr, weight_decay=cfg.wd)\n",
    "# # optimizer = optim.AdamW([p for p in model.parameters() if p.requires_grad], lr=cfg.lr, weight_decay=cfg.wd)\n",
    "# # optimizer = optim.SGD([p for p in model.parameters() if p.requires_grad], lr=cfg.lr, weight_decay=cfg.wd, momentum=0.9)\n",
    "\n",
    "# scheduler_oclr = optim.lr_scheduler.OneCycleLR(\n",
    "#     optimizer=optimizer, \n",
    "#     max_lr=cfg.max_lr, \n",
    "#     epochs=cfg.epochs, \n",
    "#     steps_per_epoch=cfg.steps_per_epoch,\n",
    "#     pct_start=cfg.pct_start, \n",
    "#     div_factor=cfg.div_factor, \n",
    "#     final_div_factor=cfg.final_div_factor\n",
    "# )\n",
    "\n",
    "# # scheduler_rlrop = optim.lr_scheduler.ReduceLROnPlateau(\n",
    "# #     optimizer=optimizer,\n",
    "# #     patience=cfg.patience,\n",
    "# #     eps=cfg.eps,\n",
    "# #     verbose=True\n",
    "# # )\n",
    "\n",
    "# # scheduler_oclr = None\n",
    "# scheduler_rlrop = None\n",
    "\n",
    "\n",
    "# L, A, LR, BL, BA, _, _, _, _ = fit(\n",
    "#     model=model, \n",
    "#     optimizer=optimizer, \n",
    "#     scheduler_oclr=scheduler_oclr,\n",
    "#     scheduler_rlrop=scheduler_rlrop,\n",
    "#     epochs=cfg.epochs, \n",
    "#     early_stopping_patience=cfg.early_stopping, \n",
    "#     dataloaders=dataloaders, \n",
    "#     device=cfg.device,\n",
    "#     save_path=cfg.save_path,\n",
    "#     fold=fold,\n",
    "#     verbose=True\n",
    "# )\n",
    "\n",
    "\n",
    "# # breaker()\n",
    "# # show_loss_graphs(L)\n",
    "# # breaker()\n",
    "# # show_accuracy_graphs(A)\n",
    "# # breaker()\n",
    "# # if scheduler_oclr:\n",
    "# #     show_lr_graph(LR)\n",
    "# #     breaker()\n",
    "\n",
    "# # BLs.append(BL)\n",
    "# # BAs.append(BA)\n",
    "\n",
    "# # fold += 1"
   ]
  },
  {
   "cell_type": "markdown",
   "id": "35c284a7",
   "metadata": {
    "papermill": {
     "duration": 0.005726,
     "end_time": "2023-06-04T09:04:19.249915",
     "exception": false,
     "start_time": "2023-06-04T09:04:19.244189",
     "status": "completed"
    },
    "tags": []
   },
   "source": [
    "### **Best Model**"
   ]
  },
  {
   "cell_type": "code",
   "execution_count": 10,
   "id": "9ab29441",
   "metadata": {
    "execution": {
     "iopub.execute_input": "2023-06-04T09:04:19.264103Z",
     "iopub.status.busy": "2023-06-04T09:04:19.263186Z",
     "iopub.status.idle": "2023-06-04T09:04:19.268415Z",
     "shell.execute_reply": "2023-06-04T09:04:19.267509Z"
    },
    "papermill": {
     "duration": 0.014594,
     "end_time": "2023-06-04T09:04:19.270576",
     "exception": false,
     "start_time": "2023-06-04T09:04:19.255982",
     "status": "completed"
    },
    "tags": []
   },
   "outputs": [],
   "source": [
    "# BL = np.inf\n",
    "# for i in range(len(BLs)):\n",
    "#     if BLs[i][\"valid\"] < BL:\n",
    "#         BL = BLs[i][\"valid\"]\n",
    "#         best_loss_index = i\n",
    "\n",
    "        \n",
    "# BA = 0.0\n",
    "# for i in range(len(BAs)):\n",
    "#     if BAs[i][\"valid\"] > BA:\n",
    "#         BA = BAs[i][\"valid\"]\n",
    "#         best_accs_index = i\n",
    "\n",
    "# breaker()\n",
    "# print(f\"Best Loss Model Fold     : {best_loss_index + 1}\")\n",
    "# print(f\"Best Accuracy Model Fold : {best_accs_index + 1}\")\n",
    "# breaker()"
   ]
  },
  {
   "cell_type": "markdown",
   "id": "8df8703c",
   "metadata": {
    "papermill": {
     "duration": 0.005899,
     "end_time": "2023-06-04T09:04:19.282720",
     "exception": false,
     "start_time": "2023-06-04T09:04:19.276821",
     "status": "completed"
    },
    "tags": []
   },
   "source": [
    "### **Submission**"
   ]
  },
  {
   "cell_type": "code",
   "execution_count": 11,
   "id": "b96d5aa5",
   "metadata": {
    "execution": {
     "iopub.execute_input": "2023-06-04T09:04:19.298397Z",
     "iopub.status.busy": "2023-06-04T09:04:19.296614Z",
     "iopub.status.idle": "2023-06-04T09:04:23.579327Z",
     "shell.execute_reply": "2023-06-04T09:04:23.578392Z"
    },
    "papermill": {
     "duration": 4.292593,
     "end_time": "2023-06-04T09:04:23.581732",
     "exception": false,
     "start_time": "2023-06-04T09:04:19.289139",
     "status": "completed"
    },
    "tags": []
   },
   "outputs": [
    {
     "data": {
      "application/vnd.jupyter.widget-view+json": {
       "model_id": "5fab20a8aaee4ec89c4070fc1c29d3e6",
       "version_major": 2,
       "version_minor": 0
      },
      "text/plain": [
       "Downloading model.safetensors:   0%|          | 0.00/57.4M [00:00<?, ?B/s]"
      ]
     },
     "metadata": {},
     "output_type": "display_data"
    }
   ],
   "source": [
    "df = pd.read_csv(\"/kaggle/input/eafi-dataframe/test.csv\")\n",
    "\n",
    "ts_filepaths = df.filepaths.copy().values\n",
    "ts_data_setup = DS(\n",
    "    filepaths=ts_filepaths,\n",
    "    size=cfg.size,\n",
    "    labels=None,\n",
    "    transform=cfg.valid_transform\n",
    ")\n",
    "ts_data = DL(ts_data_setup, batch_size=cfg.batch_size, shuffle=False)\n",
    "\n",
    "model = Model().to(cfg.device)"
   ]
  },
  {
   "cell_type": "code",
   "execution_count": 12,
   "id": "5498a6b6",
   "metadata": {
    "execution": {
     "iopub.execute_input": "2023-06-04T09:04:23.598026Z",
     "iopub.status.busy": "2023-06-04T09:04:23.596287Z",
     "iopub.status.idle": "2023-06-04T09:09:53.700915Z",
     "shell.execute_reply": "2023-06-04T09:09:53.699925Z"
    },
    "papermill": {
     "duration": 330.115124,
     "end_time": "2023-06-04T09:09:53.703410",
     "exception": false,
     "start_time": "2023-06-04T09:04:23.588286",
     "status": "completed"
    },
    "tags": []
   },
   "outputs": [],
   "source": [
    "y_pred_l_1 = predict_batch(\n",
    "    model=model, \n",
    "    dataloader=ts_data, \n",
    "    path=\"/kaggle/input/eafi-d169-a224-e10-f1/saves/ble_state_fold_1.pt\", \n",
    "    device=cfg.device\n",
    ").astype(\"uint8\")\n",
    "\n",
    "y_pred_l_2 = predict_batch(\n",
    "    model=model, \n",
    "    dataloader=ts_data, \n",
    "    path=\"/kaggle/input/eafi-d169-a224-e10-f2/saves/ble_state_fold_2.pt\", \n",
    "    device=cfg.device\n",
    ").astype(\"uint8\")\n",
    "\n",
    "y_pred_l_3 = predict_batch(\n",
    "    model=model, \n",
    "    dataloader=ts_data, \n",
    "    path=\"/kaggle/input/eafi-d169-a224-e10-f3/saves/ble_state_fold_3.pt\", \n",
    "    device=cfg.device\n",
    ").astype(\"uint8\")\n",
    "\n",
    "y_pred_l_4 = predict_batch(\n",
    "    model=model, \n",
    "    dataloader=ts_data, \n",
    "    path=\"/kaggle/input/eafi-d169-a224-e10-f4/saves/ble_state_fold_4.pt\", \n",
    "    device=cfg.device\n",
    ").astype(\"uint8\")\n",
    "\n",
    "y_pred_l_5 = predict_batch(\n",
    "    model=model, \n",
    "    dataloader=ts_data, \n",
    "    path=\"/kaggle/input/eafi-d169-a224-e10-f5/saves/ble_state_fold_5.pt\", \n",
    "    device=cfg.device\n",
    ").astype(\"uint8\")"
   ]
  },
  {
   "cell_type": "code",
   "execution_count": 13,
   "id": "e70e8afd",
   "metadata": {
    "execution": {
     "iopub.execute_input": "2023-06-04T09:09:53.717886Z",
     "iopub.status.busy": "2023-06-04T09:09:53.717537Z",
     "iopub.status.idle": "2023-06-04T09:14:49.988753Z",
     "shell.execute_reply": "2023-06-04T09:14:49.987758Z"
    },
    "papermill": {
     "duration": 296.281352,
     "end_time": "2023-06-04T09:14:49.991625",
     "exception": false,
     "start_time": "2023-06-04T09:09:53.710273",
     "status": "completed"
    },
    "tags": []
   },
   "outputs": [],
   "source": [
    "y_pred_a_1 = predict_batch(\n",
    "    model=model, \n",
    "    dataloader=ts_data, \n",
    "    path=\"/kaggle/input/eafi-d169-a224-e10-f1/saves/bae_state_fold_1.pt\", \n",
    "    device=cfg.device\n",
    ").astype(\"uint8\")\n",
    "\n",
    "y_pred_a_2 = predict_batch(\n",
    "    model=model, \n",
    "    dataloader=ts_data, \n",
    "    path=\"/kaggle/input/eafi-d169-a224-e10-f2/saves/bae_state_fold_2.pt\", \n",
    "    device=cfg.device\n",
    ").astype(\"uint8\")\n",
    "\n",
    "y_pred_a_3 = predict_batch(\n",
    "    model=model, \n",
    "    dataloader=ts_data, \n",
    "    path=\"/kaggle/input/eafi-d169-a224-e10-f3/saves/bae_state_fold_3.pt\", \n",
    "    device=cfg.device\n",
    ").astype(\"uint8\")\n",
    "\n",
    "y_pred_a_4 = predict_batch(\n",
    "    model=model, \n",
    "    dataloader=ts_data, \n",
    "    path=\"/kaggle/input/eafi-d169-a224-e10-f4/saves/bae_state_fold_4.pt\", \n",
    "    device=cfg.device\n",
    ").astype(\"uint8\")\n",
    "\n",
    "y_pred_a_5 = predict_batch(\n",
    "    model=model, \n",
    "    dataloader=ts_data, \n",
    "    path=\"/kaggle/input/eafi-d169-a224-e10-f5/saves/bae_state_fold_5.pt\", \n",
    "    device=cfg.device\n",
    ").astype(\"uint8\")"
   ]
  },
  {
   "cell_type": "code",
   "execution_count": 14,
   "id": "0608bf8d",
   "metadata": {
    "execution": {
     "iopub.execute_input": "2023-06-04T09:14:50.006296Z",
     "iopub.status.busy": "2023-06-04T09:14:50.005980Z",
     "iopub.status.idle": "2023-06-04T09:14:50.234932Z",
     "shell.execute_reply": "2023-06-04T09:14:50.232824Z"
    },
    "papermill": {
     "duration": 0.238738,
     "end_time": "2023-06-04T09:14:50.237123",
     "exception": false,
     "start_time": "2023-06-04T09:14:49.998385",
     "status": "completed"
    },
    "tags": []
   },
   "outputs": [
    {
     "name": "stderr",
     "output_type": "stream",
     "text": [
      "/tmp/ipykernel_24/1553571171.py:16: FutureWarning: Unlike other reduction functions (e.g. `skew`, `kurtosis`), the default behavior of `mode` typically preserves the axis it acts along. In SciPy 1.11.0, this behavior will change: the default value of `keepdims` will become False, the `axis` over which the statistic is taken will be eliminated, and the value None will no longer be accepted. Set `keepdims` to True or False to avoid this warning.\n",
      "  y_pred = stats.mode(y_pred)[0].reshape(-1).astype(\"uint8\")\n"
     ]
    }
   ],
   "source": [
    "y_pred = np.concatenate(\n",
    "    (\n",
    "        y_pred_l_1.reshape(1, -1),\n",
    "        y_pred_l_2.reshape(1, -1),\n",
    "        y_pred_l_3.reshape(1, -1),\n",
    "        y_pred_l_4.reshape(1, -1),\n",
    "        y_pred_l_5.reshape(1, -1),\n",
    "        y_pred_a_1.reshape(1, -1),\n",
    "        y_pred_a_2.reshape(1, -1), \n",
    "        y_pred_a_3.reshape(1, -1), \n",
    "        y_pred_a_4.reshape(1, -1), \n",
    "        y_pred_a_5.reshape(1, -1), \n",
    "    )\n",
    ")\n",
    "\n",
    "y_pred = stats.mode(y_pred)[0].reshape(-1).astype(\"uint8\")\n",
    "\n",
    "ss_df = pd.read_csv(\"/kaggle/input/extracting-attributes-from-fashion-images-2/sample_submission.csv\")\n",
    "ss_df.label = y_pred\n",
    "ss_df.to_csv(\"submission.csv\", index=False)"
   ]
  }
 ],
 "metadata": {
  "kernelspec": {
   "display_name": "Python 3",
   "language": "python",
   "name": "python3"
  },
  "language_info": {
   "codemirror_mode": {
    "name": "ipython",
    "version": 3
   },
   "file_extension": ".py",
   "mimetype": "text/x-python",
   "name": "python",
   "nbconvert_exporter": "python",
   "pygments_lexer": "ipython3",
   "version": "3.10.10"
  },
  "papermill": {
   "default_parameters": {},
   "duration": 663.013286,
   "end_time": "2023-06-04T09:14:52.748591",
   "environment_variables": {},
   "exception": null,
   "input_path": "__notebook__.ipynb",
   "output_path": "__notebook__.ipynb",
   "parameters": {},
   "start_time": "2023-06-04T09:03:49.735305",
   "version": "2.4.0"
  },
  "widgets": {
   "application/vnd.jupyter.widget-state+json": {
    "state": {
     "2904978aeea146c79189291ce8599ae9": {
      "model_module": "@jupyter-widgets/controls",
      "model_module_version": "1.5.0",
      "model_name": "DescriptionStyleModel",
      "state": {
       "_model_module": "@jupyter-widgets/controls",
       "_model_module_version": "1.5.0",
       "_model_name": "DescriptionStyleModel",
       "_view_count": null,
       "_view_module": "@jupyter-widgets/base",
       "_view_module_version": "1.2.0",
       "_view_name": "StyleView",
       "description_width": ""
      }
     },
     "3dbbbd97cd70410abe8ea564f65fc0bb": {
      "model_module": "@jupyter-widgets/base",
      "model_module_version": "1.2.0",
      "model_name": "LayoutModel",
      "state": {
       "_model_module": "@jupyter-widgets/base",
       "_model_module_version": "1.2.0",
       "_model_name": "LayoutModel",
       "_view_count": null,
       "_view_module": "@jupyter-widgets/base",
       "_view_module_version": "1.2.0",
       "_view_name": "LayoutView",
       "align_content": null,
       "align_items": null,
       "align_self": null,
       "border": null,
       "bottom": null,
       "display": null,
       "flex": null,
       "flex_flow": null,
       "grid_area": null,
       "grid_auto_columns": null,
       "grid_auto_flow": null,
       "grid_auto_rows": null,
       "grid_column": null,
       "grid_gap": null,
       "grid_row": null,
       "grid_template_areas": null,
       "grid_template_columns": null,
       "grid_template_rows": null,
       "height": null,
       "justify_content": null,
       "justify_items": null,
       "left": null,
       "margin": null,
       "max_height": null,
       "max_width": null,
       "min_height": null,
       "min_width": null,
       "object_fit": null,
       "object_position": null,
       "order": null,
       "overflow": null,
       "overflow_x": null,
       "overflow_y": null,
       "padding": null,
       "right": null,
       "top": null,
       "visibility": null,
       "width": null
      }
     },
     "43050f0a043948ae96551b829c5c00d4": {
      "model_module": "@jupyter-widgets/base",
      "model_module_version": "1.2.0",
      "model_name": "LayoutModel",
      "state": {
       "_model_module": "@jupyter-widgets/base",
       "_model_module_version": "1.2.0",
       "_model_name": "LayoutModel",
       "_view_count": null,
       "_view_module": "@jupyter-widgets/base",
       "_view_module_version": "1.2.0",
       "_view_name": "LayoutView",
       "align_content": null,
       "align_items": null,
       "align_self": null,
       "border": null,
       "bottom": null,
       "display": null,
       "flex": null,
       "flex_flow": null,
       "grid_area": null,
       "grid_auto_columns": null,
       "grid_auto_flow": null,
       "grid_auto_rows": null,
       "grid_column": null,
       "grid_gap": null,
       "grid_row": null,
       "grid_template_areas": null,
       "grid_template_columns": null,
       "grid_template_rows": null,
       "height": null,
       "justify_content": null,
       "justify_items": null,
       "left": null,
       "margin": null,
       "max_height": null,
       "max_width": null,
       "min_height": null,
       "min_width": null,
       "object_fit": null,
       "object_position": null,
       "order": null,
       "overflow": null,
       "overflow_x": null,
       "overflow_y": null,
       "padding": null,
       "right": null,
       "top": null,
       "visibility": null,
       "width": null
      }
     },
     "5fab20a8aaee4ec89c4070fc1c29d3e6": {
      "model_module": "@jupyter-widgets/controls",
      "model_module_version": "1.5.0",
      "model_name": "HBoxModel",
      "state": {
       "_dom_classes": [],
       "_model_module": "@jupyter-widgets/controls",
       "_model_module_version": "1.5.0",
       "_model_name": "HBoxModel",
       "_view_count": null,
       "_view_module": "@jupyter-widgets/controls",
       "_view_module_version": "1.5.0",
       "_view_name": "HBoxView",
       "box_style": "",
       "children": [
        "IPY_MODEL_70f01e4fa83b4801a095c26c69857723",
        "IPY_MODEL_f433b7809c8a4d5fa4037e2d9d18bb23",
        "IPY_MODEL_8d01347697ad44cf82804a465da24456"
       ],
       "layout": "IPY_MODEL_6aadce498e3e46d496e4f94f47f68076"
      }
     },
     "651b2307c1604b1d893ae5e7b3c9beee": {
      "model_module": "@jupyter-widgets/controls",
      "model_module_version": "1.5.0",
      "model_name": "ProgressStyleModel",
      "state": {
       "_model_module": "@jupyter-widgets/controls",
       "_model_module_version": "1.5.0",
       "_model_name": "ProgressStyleModel",
       "_view_count": null,
       "_view_module": "@jupyter-widgets/base",
       "_view_module_version": "1.2.0",
       "_view_name": "StyleView",
       "bar_color": null,
       "description_width": ""
      }
     },
     "6aadce498e3e46d496e4f94f47f68076": {
      "model_module": "@jupyter-widgets/base",
      "model_module_version": "1.2.0",
      "model_name": "LayoutModel",
      "state": {
       "_model_module": "@jupyter-widgets/base",
       "_model_module_version": "1.2.0",
       "_model_name": "LayoutModel",
       "_view_count": null,
       "_view_module": "@jupyter-widgets/base",
       "_view_module_version": "1.2.0",
       "_view_name": "LayoutView",
       "align_content": null,
       "align_items": null,
       "align_self": null,
       "border": null,
       "bottom": null,
       "display": null,
       "flex": null,
       "flex_flow": null,
       "grid_area": null,
       "grid_auto_columns": null,
       "grid_auto_flow": null,
       "grid_auto_rows": null,
       "grid_column": null,
       "grid_gap": null,
       "grid_row": null,
       "grid_template_areas": null,
       "grid_template_columns": null,
       "grid_template_rows": null,
       "height": null,
       "justify_content": null,
       "justify_items": null,
       "left": null,
       "margin": null,
       "max_height": null,
       "max_width": null,
       "min_height": null,
       "min_width": null,
       "object_fit": null,
       "object_position": null,
       "order": null,
       "overflow": null,
       "overflow_x": null,
       "overflow_y": null,
       "padding": null,
       "right": null,
       "top": null,
       "visibility": null,
       "width": null
      }
     },
     "70f01e4fa83b4801a095c26c69857723": {
      "model_module": "@jupyter-widgets/controls",
      "model_module_version": "1.5.0",
      "model_name": "HTMLModel",
      "state": {
       "_dom_classes": [],
       "_model_module": "@jupyter-widgets/controls",
       "_model_module_version": "1.5.0",
       "_model_name": "HTMLModel",
       "_view_count": null,
       "_view_module": "@jupyter-widgets/controls",
       "_view_module_version": "1.5.0",
       "_view_name": "HTMLView",
       "description": "",
       "description_tooltip": null,
       "layout": "IPY_MODEL_3dbbbd97cd70410abe8ea564f65fc0bb",
       "placeholder": "​",
       "style": "IPY_MODEL_2904978aeea146c79189291ce8599ae9",
       "value": "Downloading model.safetensors: 100%"
      }
     },
     "8d01347697ad44cf82804a465da24456": {
      "model_module": "@jupyter-widgets/controls",
      "model_module_version": "1.5.0",
      "model_name": "HTMLModel",
      "state": {
       "_dom_classes": [],
       "_model_module": "@jupyter-widgets/controls",
       "_model_module_version": "1.5.0",
       "_model_name": "HTMLModel",
       "_view_count": null,
       "_view_module": "@jupyter-widgets/controls",
       "_view_module_version": "1.5.0",
       "_view_name": "HTMLView",
       "description": "",
       "description_tooltip": null,
       "layout": "IPY_MODEL_c0df7915d0244a119af7e1a2d996ca7e",
       "placeholder": "​",
       "style": "IPY_MODEL_a4e38687f22c4107815eebea2e2fe861",
       "value": " 57.4M/57.4M [00:00&lt;00:00, 224MB/s]"
      }
     },
     "a4e38687f22c4107815eebea2e2fe861": {
      "model_module": "@jupyter-widgets/controls",
      "model_module_version": "1.5.0",
      "model_name": "DescriptionStyleModel",
      "state": {
       "_model_module": "@jupyter-widgets/controls",
       "_model_module_version": "1.5.0",
       "_model_name": "DescriptionStyleModel",
       "_view_count": null,
       "_view_module": "@jupyter-widgets/base",
       "_view_module_version": "1.2.0",
       "_view_name": "StyleView",
       "description_width": ""
      }
     },
     "c0df7915d0244a119af7e1a2d996ca7e": {
      "model_module": "@jupyter-widgets/base",
      "model_module_version": "1.2.0",
      "model_name": "LayoutModel",
      "state": {
       "_model_module": "@jupyter-widgets/base",
       "_model_module_version": "1.2.0",
       "_model_name": "LayoutModel",
       "_view_count": null,
       "_view_module": "@jupyter-widgets/base",
       "_view_module_version": "1.2.0",
       "_view_name": "LayoutView",
       "align_content": null,
       "align_items": null,
       "align_self": null,
       "border": null,
       "bottom": null,
       "display": null,
       "flex": null,
       "flex_flow": null,
       "grid_area": null,
       "grid_auto_columns": null,
       "grid_auto_flow": null,
       "grid_auto_rows": null,
       "grid_column": null,
       "grid_gap": null,
       "grid_row": null,
       "grid_template_areas": null,
       "grid_template_columns": null,
       "grid_template_rows": null,
       "height": null,
       "justify_content": null,
       "justify_items": null,
       "left": null,
       "margin": null,
       "max_height": null,
       "max_width": null,
       "min_height": null,
       "min_width": null,
       "object_fit": null,
       "object_position": null,
       "order": null,
       "overflow": null,
       "overflow_x": null,
       "overflow_y": null,
       "padding": null,
       "right": null,
       "top": null,
       "visibility": null,
       "width": null
      }
     },
     "f433b7809c8a4d5fa4037e2d9d18bb23": {
      "model_module": "@jupyter-widgets/controls",
      "model_module_version": "1.5.0",
      "model_name": "FloatProgressModel",
      "state": {
       "_dom_classes": [],
       "_model_module": "@jupyter-widgets/controls",
       "_model_module_version": "1.5.0",
       "_model_name": "FloatProgressModel",
       "_view_count": null,
       "_view_module": "@jupyter-widgets/controls",
       "_view_module_version": "1.5.0",
       "_view_name": "ProgressView",
       "bar_style": "success",
       "description": "",
       "description_tooltip": null,
       "layout": "IPY_MODEL_43050f0a043948ae96551b829c5c00d4",
       "max": 57350342.0,
       "min": 0.0,
       "orientation": "horizontal",
       "style": "IPY_MODEL_651b2307c1604b1d893ae5e7b3c9beee",
       "value": 57350342.0
      }
     }
    },
    "version_major": 2,
    "version_minor": 0
   }
  }
 },
 "nbformat": 4,
 "nbformat_minor": 5
}
