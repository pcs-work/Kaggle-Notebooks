{
 "cells": [
  {
   "cell_type": "code",
   "execution_count": 1,
   "id": "3354d5a3",
   "metadata": {
    "_cell_guid": "b1076dfc-b9ad-4769-8c92-a6c4dae69d19",
    "_uuid": "8f2839f25d086af736a60e9eeb907d3b93b6e0e5",
    "execution": {
     "iopub.execute_input": "2023-06-05T09:09:01.997429Z",
     "iopub.status.busy": "2023-06-05T09:09:01.997005Z",
     "iopub.status.idle": "2023-06-05T09:09:02.007518Z",
     "shell.execute_reply": "2023-06-05T09:09:02.006698Z"
    },
    "papermill": {
     "duration": 0.016952,
     "end_time": "2023-06-05T09:09:02.009765",
     "exception": false,
     "start_time": "2023-06-05T09:09:01.992813",
     "status": "completed"
    },
    "tags": []
   },
   "outputs": [],
   "source": [
    "import numpy as np\n",
    "import pandas as pd"
   ]
  },
  {
   "cell_type": "code",
   "execution_count": 2,
   "id": "fa9b5263",
   "metadata": {
    "execution": {
     "iopub.execute_input": "2023-06-05T09:09:02.015903Z",
     "iopub.status.busy": "2023-06-05T09:09:02.014887Z",
     "iopub.status.idle": "2023-06-05T09:09:02.101291Z",
     "shell.execute_reply": "2023-06-05T09:09:02.100350Z"
    },
    "papermill": {
     "duration": 0.091915,
     "end_time": "2023-06-05T09:09:02.103845",
     "exception": false,
     "start_time": "2023-06-05T09:09:02.011930",
     "status": "completed"
    },
    "tags": []
   },
   "outputs": [],
   "source": [
    "y_pred_1 = pd.read_csv(\"/kaggle/input/eafi-en4-a224-e10-inferall/submission.csv\")[\"label\"].copy().values\n",
    "y_pred_2 = pd.read_csv(\"/kaggle/input/eafi-d169-a224-e10-inferall/submission.csv\")[\"label\"].copy().values\n",
    "\n",
    "y_pred = np.floor((y_pred_1 + y_pred_2) / 2).astype(\"uint8\")\n",
    "\n",
    "ss_df = pd.read_csv(\"/kaggle/input/extracting-attributes-from-fashion-images-2/sample_submission.csv\")\n",
    "ss_df.label = y_pred\n",
    "ss_df.to_csv(\"submission.csv\", index=False)"
   ]
  }
 ],
 "metadata": {
  "kernelspec": {
   "display_name": "Python 3",
   "language": "python",
   "name": "python3"
  },
  "language_info": {
   "codemirror_mode": {
    "name": "ipython",
    "version": 3
   },
   "file_extension": ".py",
   "mimetype": "text/x-python",
   "name": "python",
   "nbconvert_exporter": "python",
   "pygments_lexer": "ipython3",
   "version": "3.10.10"
  },
  "papermill": {
   "default_parameters": {},
   "duration": 13.838453,
   "end_time": "2023-06-05T09:09:03.030110",
   "environment_variables": {},
   "exception": null,
   "input_path": "__notebook__.ipynb",
   "output_path": "__notebook__.ipynb",
   "parameters": {},
   "start_time": "2023-06-05T09:08:49.191657",
   "version": "2.4.0"
  }
 },
 "nbformat": 4,
 "nbformat_minor": 5
}
