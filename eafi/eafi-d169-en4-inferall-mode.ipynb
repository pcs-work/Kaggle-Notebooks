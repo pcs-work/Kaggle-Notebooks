{
 "cells": [
  {
   "cell_type": "code",
   "execution_count": 1,
   "id": "92f14e32",
   "metadata": {
    "_cell_guid": "b1076dfc-b9ad-4769-8c92-a6c4dae69d19",
    "_uuid": "8f2839f25d086af736a60e9eeb907d3b93b6e0e5",
    "execution": {
     "iopub.execute_input": "2023-06-04T19:32:23.778799Z",
     "iopub.status.busy": "2023-06-04T19:32:23.778413Z",
     "iopub.status.idle": "2023-06-04T19:32:25.034630Z",
     "shell.execute_reply": "2023-06-04T19:32:25.033530Z"
    },
    "papermill": {
     "duration": 1.262596,
     "end_time": "2023-06-04T19:32:25.037616",
     "exception": false,
     "start_time": "2023-06-04T19:32:23.775020",
     "status": "completed"
    },
    "tags": []
   },
   "outputs": [],
   "source": [
    "import numpy as np\n",
    "import pandas as pd\n",
    "\n",
    "from scipy import stats"
   ]
  },
  {
   "cell_type": "code",
   "execution_count": 2,
   "id": "1bedb5fd",
   "metadata": {
    "execution": {
     "iopub.execute_input": "2023-06-04T19:32:25.042778Z",
     "iopub.status.busy": "2023-06-04T19:32:25.042352Z",
     "iopub.status.idle": "2023-06-04T19:32:25.224224Z",
     "shell.execute_reply": "2023-06-04T19:32:25.222441Z"
    },
    "papermill": {
     "duration": 0.187789,
     "end_time": "2023-06-04T19:32:25.227273",
     "exception": false,
     "start_time": "2023-06-04T19:32:25.039484",
     "status": "completed"
    },
    "tags": []
   },
   "outputs": [
    {
     "name": "stderr",
     "output_type": "stream",
     "text": [
      "/tmp/ipykernel_20/2382368027.py:11: FutureWarning: Unlike other reduction functions (e.g. `skew`, `kurtosis`), the default behavior of `mode` typically preserves the axis it acts along. In SciPy 1.11.0, this behavior will change: the default value of `keepdims` will become False, the `axis` over which the statistic is taken will be eliminated, and the value None will no longer be accepted. Set `keepdims` to True or False to avoid this warning.\n",
      "  y_pred = stats.mode(y_pred)[0].reshape(-1).astype(\"uint8\")\n"
     ]
    }
   ],
   "source": [
    "y_pred_1 = pd.read_csv(\"/kaggle/input/eafi-en4-a224-e10-inferall/submission.csv\")[\"label\"].copy().values\n",
    "y_pred_2 = pd.read_csv(\"/kaggle/input/eafi-d169-a224-e10-inferall/submission.csv\")[\"label\"].copy().values\n",
    "\n",
    "y_pred = np.concatenate(\n",
    "    (\n",
    "        y_pred_1.reshape(1, -1),\n",
    "        y_pred_2.reshape(1, -1),\n",
    "    )\n",
    ")\n",
    "\n",
    "y_pred = stats.mode(y_pred)[0].reshape(-1).astype(\"uint8\")\n",
    "\n",
    "ss_df = pd.read_csv(\"/kaggle/input/extracting-attributes-from-fashion-images-2/sample_submission.csv\")\n",
    "ss_df.label = y_pred\n",
    "ss_df.to_csv(\"submission.csv\", index=False)"
   ]
  }
 ],
 "metadata": {
  "kernelspec": {
   "display_name": "Python 3",
   "language": "python",
   "name": "python3"
  },
  "language_info": {
   "codemirror_mode": {
    "name": "ipython",
    "version": 3
   },
   "file_extension": ".py",
   "mimetype": "text/x-python",
   "name": "python",
   "nbconvert_exporter": "python",
   "pygments_lexer": "ipython3",
   "version": "3.10.10"
  },
  "papermill": {
   "default_parameters": {},
   "duration": 12.890952,
   "end_time": "2023-06-04T19:32:26.154613",
   "environment_variables": {},
   "exception": null,
   "input_path": "__notebook__.ipynb",
   "output_path": "__notebook__.ipynb",
   "parameters": {},
   "start_time": "2023-06-04T19:32:13.263661",
   "version": "2.4.0"
  }
 },
 "nbformat": 4,
 "nbformat_minor": 5
}
