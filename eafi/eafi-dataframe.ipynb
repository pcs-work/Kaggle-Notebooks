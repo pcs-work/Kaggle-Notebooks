{
 "cells": [
  {
   "cell_type": "code",
   "execution_count": 1,
   "id": "a4cef876",
   "metadata": {
    "_cell_guid": "b1076dfc-b9ad-4769-8c92-a6c4dae69d19",
    "_uuid": "8f2839f25d086af736a60e9eeb907d3b93b6e0e5",
    "execution": {
     "iopub.execute_input": "2023-05-31T10:39:34.260988Z",
     "iopub.status.busy": "2023-05-31T10:39:34.260417Z",
     "iopub.status.idle": "2023-05-31T10:39:34.473809Z",
     "shell.execute_reply": "2023-05-31T10:39:34.472242Z"
    },
    "papermill": {
     "duration": 0.22241,
     "end_time": "2023-05-31T10:39:34.477289",
     "exception": false,
     "start_time": "2023-05-31T10:39:34.254879",
     "status": "completed"
    },
    "tags": []
   },
   "outputs": [],
   "source": [
    "import os\n",
    "import cv2\n",
    "import json\n",
    "import numpy as np\n",
    "import pandas as pd\n",
    "\n",
    "BASE_PATH: str = \"/kaggle/input/extracting-attributes-from-fashion-images-2\""
   ]
  },
  {
   "cell_type": "code",
   "execution_count": 2,
   "id": "35d76644",
   "metadata": {
    "execution": {
     "iopub.execute_input": "2023-05-31T10:39:34.485661Z",
     "iopub.status.busy": "2023-05-31T10:39:34.485259Z",
     "iopub.status.idle": "2023-05-31T10:39:34.737673Z",
     "shell.execute_reply": "2023-05-31T10:39:34.736011Z"
    },
    "papermill": {
     "duration": 0.260211,
     "end_time": "2023-05-31T10:39:34.741251",
     "exception": false,
     "start_time": "2023-05-31T10:39:34.481040",
     "status": "completed"
    },
    "tags": []
   },
   "outputs": [],
   "source": [
    "df = pd.read_csv(\"/kaggle/input/extracting-attributes-from-fashion-images-2/train.csv\")    \n",
    "    \n",
    "filepaths: list = []\n",
    "\n",
    "i: int = 0\n",
    "for filename in df.file_name:\n",
    "    filepaths.append(os.path.join(f\"{BASE_PATH}/train\", filename))\n",
    "    i += 1\n",
    "    \n",
    "df[\"filepaths\"] = filepaths\n",
    "df.to_csv(\"train.csv\", index=False)"
   ]
  },
  {
   "cell_type": "code",
   "execution_count": 3,
   "id": "92f6c6c4",
   "metadata": {
    "execution": {
     "iopub.execute_input": "2023-05-31T10:39:34.747911Z",
     "iopub.status.busy": "2023-05-31T10:39:34.747473Z",
     "iopub.status.idle": "2023-05-31T10:39:34.827174Z",
     "shell.execute_reply": "2023-05-31T10:39:34.825946Z"
    },
    "papermill": {
     "duration": 0.086423,
     "end_time": "2023-05-31T10:39:34.830256",
     "exception": false,
     "start_time": "2023-05-31T10:39:34.743833",
     "status": "completed"
    },
    "tags": []
   },
   "outputs": [],
   "source": [
    "df = pd.read_csv(\"/kaggle/input/extracting-attributes-from-fashion-images-2/sample_submission.csv\")    \n",
    "    \n",
    "filepaths: list = []\n",
    "\n",
    "i: int = 0\n",
    "for filename in df.file_name:\n",
    "    filepaths.append(os.path.join(f\"{BASE_PATH}/test\", filename))\n",
    "    i += 1\n",
    "    \n",
    "df[\"filepaths\"] = filepaths\n",
    "df.to_csv(\"test.csv\", index=False)"
   ]
  }
 ],
 "metadata": {
  "kernelspec": {
   "display_name": "Python 3",
   "language": "python",
   "name": "python3"
  },
  "language_info": {
   "codemirror_mode": {
    "name": "ipython",
    "version": 3
   },
   "file_extension": ".py",
   "mimetype": "text/x-python",
   "name": "python",
   "nbconvert_exporter": "python",
   "pygments_lexer": "ipython3",
   "version": "3.10.10"
  },
  "papermill": {
   "default_parameters": {},
   "duration": 14.325381,
   "end_time": "2023-05-31T10:39:35.756866",
   "environment_variables": {},
   "exception": null,
   "input_path": "__notebook__.ipynb",
   "output_path": "__notebook__.ipynb",
   "parameters": {},
   "start_time": "2023-05-31T10:39:21.431485",
   "version": "2.4.0"
  }
 },
 "nbformat": 4,
 "nbformat_minor": 5
}
