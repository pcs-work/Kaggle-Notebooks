{
 "cells": [
  {
   "cell_type": "code",
   "execution_count": 1,
   "id": "9f10e0eb",
   "metadata": {
    "_cell_guid": "b1076dfc-b9ad-4769-8c92-a6c4dae69d19",
    "_uuid": "8f2839f25d086af736a60e9eeb907d3b93b6e0e5",
    "execution": {
     "iopub.execute_input": "2023-06-01T12:42:51.158974Z",
     "iopub.status.busy": "2023-06-01T12:42:51.157998Z",
     "iopub.status.idle": "2023-06-01T12:42:54.356236Z",
     "shell.execute_reply": "2023-06-01T12:42:54.354936Z"
    },
    "papermill": {
     "duration": 3.205285,
     "end_time": "2023-06-01T12:42:54.358970",
     "exception": false,
     "start_time": "2023-06-01T12:42:51.153685",
     "status": "completed"
    },
    "tags": []
   },
   "outputs": [],
   "source": [
    "import os\n",
    "import pickle\n",
    "import numpy as np\n",
    "import pandas as pd\n",
    "import random as r\n",
    "import seaborn as sns\n",
    "import matplotlib.pyplot as plt\n",
    "\n",
    "from time import time\n",
    "from sklearn.pipeline import Pipeline\n",
    "from sklearn.model_selection import StratifiedKFold\n",
    "\n",
    "from sklearn.svm import SVC\n",
    "from sklearn.naive_bayes import GaussianNB\n",
    "from sklearn.neighbors import KNeighborsClassifier\n",
    "from sklearn.linear_model import LogisticRegression\n",
    "from sklearn.tree import DecisionTreeClassifier, ExtraTreeClassifier\n",
    "from sklearn.ensemble import AdaBoostClassifier, ExtraTreesClassifier, GradientBoostingClassifier, RandomForestClassifier\n",
    "from xgboost import XGBClassifier\n",
    "from lightgbm import LGBMClassifier\n",
    "\n",
    "from sklearn.metrics import accuracy_score"
   ]
  },
  {
   "cell_type": "code",
   "execution_count": 2,
   "id": "64dc45cb",
   "metadata": {
    "execution": {
     "iopub.execute_input": "2023-06-01T12:42:54.365540Z",
     "iopub.status.busy": "2023-06-01T12:42:54.365143Z",
     "iopub.status.idle": "2023-06-01T12:42:54.370557Z",
     "shell.execute_reply": "2023-06-01T12:42:54.369451Z"
    },
    "papermill": {
     "duration": 0.010979,
     "end_time": "2023-06-01T12:42:54.372657",
     "exception": false,
     "start_time": "2023-06-01T12:42:54.361678",
     "status": "completed"
    },
    "tags": []
   },
   "outputs": [],
   "source": [
    "def breaker() -> None: print(\"\\n\" + 50*\"*\" + \"\\n\")\n",
    "    \n",
    "STR_TO_INT: dict = {\n",
    "    \"cup\"   : 0,\n",
    "    \"fork\"  : 1,\n",
    "    \"glass\" : 2,\n",
    "    \"knife\" : 3,\n",
    "    \"plate\" : 4,\n",
    "    \"spoon\" : 5\n",
    "}"
   ]
  },
  {
   "cell_type": "code",
   "execution_count": 3,
   "id": "19370012",
   "metadata": {
    "execution": {
     "iopub.execute_input": "2023-06-01T12:42:54.379090Z",
     "iopub.status.busy": "2023-06-01T12:42:54.378763Z",
     "iopub.status.idle": "2023-06-01T12:42:54.385317Z",
     "shell.execute_reply": "2023-06-01T12:42:54.384369Z"
    },
    "papermill": {
     "duration": 0.012147,
     "end_time": "2023-06-01T12:42:54.387473",
     "exception": false,
     "start_time": "2023-06-01T12:42:54.375326",
     "status": "completed"
    },
    "tags": []
   },
   "outputs": [],
   "source": [
    "class CFG(object):\n",
    "    def __init__(self,\n",
    "                 seed: int = 42,\n",
    "                 n_splits: int = 5,\n",
    "                 show_info: bool = False,\n",
    "                 ):\n",
    "\n",
    "        self.seed = seed\n",
    "        self.n_splits = n_splits\n",
    "        self.show_info = show_info\n",
    "        self.features_path = \"/kaggle/input/eafi-swin-features\"\n",
    "        self.model_save_path = \"models\"\n",
    "        if not os.path.exists(self.model_save_path): os.makedirs(self.model_save_path)\n",
    "\n",
    "cfg = CFG(seed=42, show_info=True)"
   ]
  },
  {
   "cell_type": "code",
   "execution_count": 4,
   "id": "6ce56100",
   "metadata": {
    "execution": {
     "iopub.execute_input": "2023-06-01T12:42:54.394391Z",
     "iopub.status.busy": "2023-06-01T12:42:54.394042Z",
     "iopub.status.idle": "2023-06-01T12:42:54.489889Z",
     "shell.execute_reply": "2023-06-01T12:42:54.488725Z"
    },
    "papermill": {
     "duration": 0.102746,
     "end_time": "2023-06-01T12:42:54.492732",
     "exception": false,
     "start_time": "2023-06-01T12:42:54.389986",
     "status": "completed"
    },
    "tags": []
   },
   "outputs": [],
   "source": [
    "y = pd.read_csv(\"/kaggle/input/eafi-dataframe/train.csv\")[\"label\"].copy().values"
   ]
  },
  {
   "cell_type": "code",
   "execution_count": 5,
   "id": "0f36ca25",
   "metadata": {
    "execution": {
     "iopub.execute_input": "2023-06-01T12:42:54.500145Z",
     "iopub.status.busy": "2023-06-01T12:42:54.499157Z",
     "iopub.status.idle": "2023-06-01T12:42:54.511142Z",
     "shell.execute_reply": "2023-06-01T12:42:54.509982Z"
    },
    "papermill": {
     "duration": 0.018554,
     "end_time": "2023-06-01T12:42:54.513911",
     "exception": false,
     "start_time": "2023-06-01T12:42:54.495357",
     "status": "completed"
    },
    "tags": []
   },
   "outputs": [],
   "source": [
    "class Model(object):\n",
    "    def __init__(self, model_name: str, seed: int):\n",
    "        self.model_name = model_name\n",
    "\n",
    "        if self.model_name == \"lgr\":\n",
    "            self.model = Pipeline(\n",
    "                steps=[\n",
    "                    (\"classifier\", LogisticRegression(random_state=seed)),\n",
    "                ]\n",
    "            )\n",
    "        \n",
    "        elif self.model_name == \"knc\":\n",
    "            self.model = Pipeline(\n",
    "                steps=[\n",
    "                    (\"classifier\", KNeighborsClassifier()),\n",
    "                ]\n",
    "            )\n",
    "        \n",
    "        elif self.model_name == \"svc\":\n",
    "            self.model = Pipeline(\n",
    "                steps=[\n",
    "                    (\"classifier\", SVC()),\n",
    "                ]\n",
    "            )\n",
    "        \n",
    "        elif self.model_name == \"dtc\":\n",
    "            self.model = Pipeline(\n",
    "                steps=[\n",
    "                    (\"classifier\", DecisionTreeClassifier(random_state=seed)),\n",
    "                ]\n",
    "            )\n",
    "\n",
    "        elif self.model_name == \"etc\":\n",
    "            self.model = Pipeline(\n",
    "                steps=[\n",
    "                    (\"classifier\", ExtraTreeClassifier(random_state=seed)),\n",
    "                ]\n",
    "            )\n",
    "        \n",
    "        elif self.model_name == \"rfc\":\n",
    "            self.model = Pipeline(\n",
    "                steps=[\n",
    "                    (\"classifier\", RandomForestClassifier(random_state=seed)),\n",
    "                ]\n",
    "            )\n",
    "        \n",
    "        elif self.model_name == \"gbc\":\n",
    "            self.model = Pipeline(\n",
    "                steps=[\n",
    "                    (\"classifier\", GradientBoostingClassifier(random_state=seed)),\n",
    "                ]\n",
    "            )\n",
    "        \n",
    "        elif self.model_name == \"abc\":\n",
    "            self.model = Pipeline(\n",
    "                steps=[\n",
    "                    (\"classifier\", AdaBoostClassifier(random_state=seed)),\n",
    "                ]\n",
    "            )\n",
    "        \n",
    "        elif self.model_name == \"etcs\":\n",
    "            self.model = Pipeline(\n",
    "                steps=[\n",
    "                    (\"classifier\", ExtraTreesClassifier(random_state=seed)),\n",
    "                ]\n",
    "            )\n",
    "        \n",
    "        elif self.model_name == \"gnb\":\n",
    "            self.model = Pipeline(\n",
    "                steps=[\n",
    "                    (\"classifier\", GaussianNB()),\n",
    "                ]\n",
    "            )\n",
    "        \n",
    "        elif self.model_name == \"xgbc\":\n",
    "            self.model = Pipeline(\n",
    "                steps=[\n",
    "                    (\"classifier\", XGBClassifier(random_state=seed)),\n",
    "                ]\n",
    "            )\n",
    "        \n",
    "        elif self.model_name == \"lgbmc\":\n",
    "            self.model = Pipeline(\n",
    "                steps=[\n",
    "                    (\"classifier\", LGBMClassifier(random_state=seed)),\n",
    "                ]\n",
    "            )"
   ]
  },
  {
   "cell_type": "code",
   "execution_count": 6,
   "id": "693e449f",
   "metadata": {
    "execution": {
     "iopub.execute_input": "2023-06-01T12:42:54.520657Z",
     "iopub.status.busy": "2023-06-01T12:42:54.520267Z",
     "iopub.status.idle": "2023-06-01T13:38:01.634194Z",
     "shell.execute_reply": "2023-06-01T13:38:01.632363Z"
    },
    "papermill": {
     "duration": 3307.120685,
     "end_time": "2023-06-01T13:38:01.637288",
     "exception": false,
     "start_time": "2023-06-01T12:42:54.516603",
     "status": "completed"
    },
    "tags": []
   },
   "outputs": [
    {
     "name": "stdout",
     "output_type": "stream",
     "text": [
      "\n",
      "**************************************************\n",
      "\n",
      "SWIN_LARGE_PATCH4_WINDOW12_384_IN22K\n",
      "\n",
      "**************************************************\n",
      "\n"
     ]
    },
    {
     "name": "stderr",
     "output_type": "stream",
     "text": [
      "/opt/conda/lib/python3.10/site-packages/sklearn/linear_model/_logistic.py:458: ConvergenceWarning: lbfgs failed to converge (status=1):\n",
      "STOP: TOTAL NO. of ITERATIONS REACHED LIMIT.\n",
      "\n",
      "Increase the number of iterations (max_iter) or scale the data as shown in:\n",
      "    https://scikit-learn.org/stable/modules/preprocessing.html\n",
      "Please also refer to the documentation for alternative solver options:\n",
      "    https://scikit-learn.org/stable/modules/linear_model.html#logistic-regression\n",
      "  n_iter_i = _check_optimize_result(\n"
     ]
    },
    {
     "name": "stdout",
     "output_type": "stream",
     "text": [
      "lgr, 1, Accuracy : 0.66812\n"
     ]
    },
    {
     "name": "stderr",
     "output_type": "stream",
     "text": [
      "/opt/conda/lib/python3.10/site-packages/sklearn/linear_model/_logistic.py:458: ConvergenceWarning: lbfgs failed to converge (status=1):\n",
      "STOP: TOTAL NO. of ITERATIONS REACHED LIMIT.\n",
      "\n",
      "Increase the number of iterations (max_iter) or scale the data as shown in:\n",
      "    https://scikit-learn.org/stable/modules/preprocessing.html\n",
      "Please also refer to the documentation for alternative solver options:\n",
      "    https://scikit-learn.org/stable/modules/linear_model.html#logistic-regression\n",
      "  n_iter_i = _check_optimize_result(\n"
     ]
    },
    {
     "name": "stdout",
     "output_type": "stream",
     "text": [
      "lgr, 2, Accuracy : 0.68380\n"
     ]
    },
    {
     "name": "stderr",
     "output_type": "stream",
     "text": [
      "/opt/conda/lib/python3.10/site-packages/sklearn/linear_model/_logistic.py:458: ConvergenceWarning: lbfgs failed to converge (status=1):\n",
      "STOP: TOTAL NO. of ITERATIONS REACHED LIMIT.\n",
      "\n",
      "Increase the number of iterations (max_iter) or scale the data as shown in:\n",
      "    https://scikit-learn.org/stable/modules/preprocessing.html\n",
      "Please also refer to the documentation for alternative solver options:\n",
      "    https://scikit-learn.org/stable/modules/linear_model.html#logistic-regression\n",
      "  n_iter_i = _check_optimize_result(\n"
     ]
    },
    {
     "name": "stdout",
     "output_type": "stream",
     "text": [
      "lgr, 3, Accuracy : 0.69386\n"
     ]
    },
    {
     "name": "stderr",
     "output_type": "stream",
     "text": [
      "/opt/conda/lib/python3.10/site-packages/sklearn/linear_model/_logistic.py:458: ConvergenceWarning: lbfgs failed to converge (status=1):\n",
      "STOP: TOTAL NO. of ITERATIONS REACHED LIMIT.\n",
      "\n",
      "Increase the number of iterations (max_iter) or scale the data as shown in:\n",
      "    https://scikit-learn.org/stable/modules/preprocessing.html\n",
      "Please also refer to the documentation for alternative solver options:\n",
      "    https://scikit-learn.org/stable/modules/linear_model.html#logistic-regression\n",
      "  n_iter_i = _check_optimize_result(\n"
     ]
    },
    {
     "name": "stdout",
     "output_type": "stream",
     "text": [
      "lgr, 4, Accuracy : 0.68951\n"
     ]
    },
    {
     "name": "stderr",
     "output_type": "stream",
     "text": [
      "/opt/conda/lib/python3.10/site-packages/sklearn/linear_model/_logistic.py:458: ConvergenceWarning: lbfgs failed to converge (status=1):\n",
      "STOP: TOTAL NO. of ITERATIONS REACHED LIMIT.\n",
      "\n",
      "Increase the number of iterations (max_iter) or scale the data as shown in:\n",
      "    https://scikit-learn.org/stable/modules/preprocessing.html\n",
      "Please also refer to the documentation for alternative solver options:\n",
      "    https://scikit-learn.org/stable/modules/linear_model.html#logistic-regression\n",
      "  n_iter_i = _check_optimize_result(\n"
     ]
    },
    {
     "name": "stdout",
     "output_type": "stream",
     "text": [
      "lgr, 5, Accuracy : 0.67673\n",
      "\n",
      "Best : swin_large_patch4_window12_384_in22k_lgr_3\n",
      "\n",
      "**************************************************\n",
      "\n",
      "knc, 1, Accuracy : 0.54716\n",
      "knc, 2, Accuracy : 0.54840\n",
      "knc, 3, Accuracy : 0.53970\n",
      "knc, 4, Accuracy : 0.54649\n",
      "knc, 5, Accuracy : 0.54840\n",
      "\n",
      "Best : swin_large_patch4_window12_384_in22k_knc_2\n",
      "\n",
      "**************************************************\n",
      "\n",
      "svc, 1, Accuracy : 0.66757\n",
      "svc, 2, Accuracy : 0.67863\n",
      "svc, 3, Accuracy : 0.68679\n",
      "svc, 4, Accuracy : 0.66911\n",
      "svc, 5, Accuracy : 0.66993\n",
      "\n",
      "Best : swin_large_patch4_window12_384_in22k_svc_3\n",
      "\n",
      "**************************************************\n",
      "\n",
      "dtc, 1, Accuracy : 0.43979\n",
      "dtc, 2, Accuracy : 0.44263\n",
      "dtc, 3, Accuracy : 0.44100\n",
      "dtc, 4, Accuracy : 0.45432\n",
      "dtc, 5, Accuracy : 0.44209\n",
      "\n",
      "Best : swin_large_patch4_window12_384_in22k_dtc_4\n",
      "\n",
      "**************************************************\n",
      "\n",
      "etc, 1, Accuracy : 0.38489\n",
      "etc, 2, Accuracy : 0.39695\n",
      "etc, 3, Accuracy : 0.37847\n",
      "etc, 4, Accuracy : 0.38526\n",
      "etc, 5, Accuracy : 0.39560\n",
      "\n",
      "Best : swin_large_patch4_window12_384_in22k_etc_2\n",
      "\n",
      "**************************************************\n",
      "\n",
      "rfc, 1, Accuracy : 0.60587\n",
      "rfc, 2, Accuracy : 0.61800\n",
      "rfc, 3, Accuracy : 0.62045\n",
      "rfc, 4, Accuracy : 0.60495\n",
      "rfc, 5, Accuracy : 0.60332\n",
      "\n",
      "Best : swin_large_patch4_window12_384_in22k_rfc_3\n",
      "\n",
      "**************************************************\n",
      "\n",
      "etcs, 1, Accuracy : 0.59527\n",
      "etcs, 2, Accuracy : 0.60005\n",
      "etcs, 3, Accuracy : 0.60930\n",
      "etcs, 4, Accuracy : 0.61011\n",
      "etcs, 5, Accuracy : 0.60141\n",
      "\n",
      "Best : swin_large_patch4_window12_384_in22k_etcs_4\n",
      "\n",
      "**************************************************\n",
      "\n",
      "gnb, 1, Accuracy : 0.44441\n",
      "gnb, 2, Accuracy : 0.45160\n",
      "gnb, 3, Accuracy : 0.46411\n",
      "gnb, 4, Accuracy : 0.46085\n",
      "gnb, 5, Accuracy : 0.45459\n",
      "\n",
      "Best : swin_large_patch4_window12_384_in22k_gnb_3\n",
      "\n",
      "**************************************************\n",
      "\n",
      "SWIN_BASE_PATCH4_WINDOW12_384_IN22K\n",
      "\n",
      "**************************************************\n",
      "\n"
     ]
    },
    {
     "name": "stderr",
     "output_type": "stream",
     "text": [
      "/opt/conda/lib/python3.10/site-packages/sklearn/linear_model/_logistic.py:458: ConvergenceWarning: lbfgs failed to converge (status=1):\n",
      "STOP: TOTAL NO. of ITERATIONS REACHED LIMIT.\n",
      "\n",
      "Increase the number of iterations (max_iter) or scale the data as shown in:\n",
      "    https://scikit-learn.org/stable/modules/preprocessing.html\n",
      "Please also refer to the documentation for alternative solver options:\n",
      "    https://scikit-learn.org/stable/modules/linear_model.html#logistic-regression\n",
      "  n_iter_i = _check_optimize_result(\n"
     ]
    },
    {
     "name": "stdout",
     "output_type": "stream",
     "text": [
      "lgr, 1, Accuracy : 0.62816\n"
     ]
    },
    {
     "name": "stderr",
     "output_type": "stream",
     "text": [
      "/opt/conda/lib/python3.10/site-packages/sklearn/linear_model/_logistic.py:458: ConvergenceWarning: lbfgs failed to converge (status=1):\n",
      "STOP: TOTAL NO. of ITERATIONS REACHED LIMIT.\n",
      "\n",
      "Increase the number of iterations (max_iter) or scale the data as shown in:\n",
      "    https://scikit-learn.org/stable/modules/preprocessing.html\n",
      "Please also refer to the documentation for alternative solver options:\n",
      "    https://scikit-learn.org/stable/modules/linear_model.html#logistic-regression\n",
      "  n_iter_i = _check_optimize_result(\n"
     ]
    },
    {
     "name": "stdout",
     "output_type": "stream",
     "text": [
      "lgr, 2, Accuracy : 0.62561\n"
     ]
    },
    {
     "name": "stderr",
     "output_type": "stream",
     "text": [
      "/opt/conda/lib/python3.10/site-packages/sklearn/linear_model/_logistic.py:458: ConvergenceWarning: lbfgs failed to converge (status=1):\n",
      "STOP: TOTAL NO. of ITERATIONS REACHED LIMIT.\n",
      "\n",
      "Increase the number of iterations (max_iter) or scale the data as shown in:\n",
      "    https://scikit-learn.org/stable/modules/preprocessing.html\n",
      "Please also refer to the documentation for alternative solver options:\n",
      "    https://scikit-learn.org/stable/modules/linear_model.html#logistic-regression\n",
      "  n_iter_i = _check_optimize_result(\n"
     ]
    },
    {
     "name": "stdout",
     "output_type": "stream",
     "text": [
      "lgr, 3, Accuracy : 0.62969\n"
     ]
    },
    {
     "name": "stderr",
     "output_type": "stream",
     "text": [
      "/opt/conda/lib/python3.10/site-packages/sklearn/linear_model/_logistic.py:458: ConvergenceWarning: lbfgs failed to converge (status=1):\n",
      "STOP: TOTAL NO. of ITERATIONS REACHED LIMIT.\n",
      "\n",
      "Increase the number of iterations (max_iter) or scale the data as shown in:\n",
      "    https://scikit-learn.org/stable/modules/preprocessing.html\n",
      "Please also refer to the documentation for alternative solver options:\n",
      "    https://scikit-learn.org/stable/modules/linear_model.html#logistic-regression\n",
      "  n_iter_i = _check_optimize_result(\n"
     ]
    },
    {
     "name": "stdout",
     "output_type": "stream",
     "text": [
      "lgr, 4, Accuracy : 0.62697\n"
     ]
    },
    {
     "name": "stderr",
     "output_type": "stream",
     "text": [
      "/opt/conda/lib/python3.10/site-packages/sklearn/linear_model/_logistic.py:458: ConvergenceWarning: lbfgs failed to converge (status=1):\n",
      "STOP: TOTAL NO. of ITERATIONS REACHED LIMIT.\n",
      "\n",
      "Increase the number of iterations (max_iter) or scale the data as shown in:\n",
      "    https://scikit-learn.org/stable/modules/preprocessing.html\n",
      "Please also refer to the documentation for alternative solver options:\n",
      "    https://scikit-learn.org/stable/modules/linear_model.html#logistic-regression\n",
      "  n_iter_i = _check_optimize_result(\n"
     ]
    },
    {
     "name": "stdout",
     "output_type": "stream",
     "text": [
      "lgr, 5, Accuracy : 0.62072\n",
      "\n",
      "Best : swin_base_patch4_window12_384_in22k_lgr_3\n",
      "\n",
      "**************************************************\n",
      "\n",
      "knc, 1, Accuracy : 0.49144\n",
      "knc, 2, Accuracy : 0.49647\n",
      "knc, 3, Accuracy : 0.51169\n",
      "knc, 4, Accuracy : 0.50408\n",
      "knc, 5, Accuracy : 0.50653\n",
      "\n",
      "Best : swin_base_patch4_window12_384_in22k_knc_3\n",
      "\n",
      "**************************************************\n",
      "\n",
      "svc, 1, Accuracy : 0.59500\n",
      "svc, 2, Accuracy : 0.59625\n",
      "svc, 3, Accuracy : 0.60495\n",
      "svc, 4, Accuracy : 0.59652\n",
      "svc, 5, Accuracy : 0.59543\n",
      "\n",
      "Best : swin_base_patch4_window12_384_in22k_svc_3\n",
      "\n",
      "**************************************************\n",
      "\n",
      "dtc, 1, Accuracy : 0.43164\n",
      "dtc, 2, Accuracy : 0.42088\n",
      "dtc, 3, Accuracy : 0.41979\n",
      "dtc, 4, Accuracy : 0.43203\n",
      "dtc, 5, Accuracy : 0.44372\n",
      "\n",
      "Best : swin_base_patch4_window12_384_in22k_dtc_5\n",
      "\n",
      "**************************************************\n",
      "\n",
      "etc, 1, Accuracy : 0.37266\n",
      "etc, 2, Accuracy : 0.37031\n",
      "etc, 3, Accuracy : 0.37928\n",
      "etc, 4, Accuracy : 0.36514\n",
      "etc, 5, Accuracy : 0.37656\n",
      "\n",
      "Best : swin_base_patch4_window12_384_in22k_etc_3\n",
      "\n",
      "**************************************************\n",
      "\n",
      "rfc, 1, Accuracy : 0.56836\n",
      "rfc, 2, Accuracy : 0.57993\n",
      "rfc, 3, Accuracy : 0.57912\n",
      "rfc, 4, Accuracy : 0.57830\n",
      "rfc, 5, Accuracy : 0.57477\n",
      "\n",
      "Best : swin_base_patch4_window12_384_in22k_rfc_2\n",
      "\n",
      "**************************************************\n",
      "\n",
      "etcs, 1, Accuracy : 0.56129\n",
      "etcs, 2, Accuracy : 0.56253\n",
      "etcs, 3, Accuracy : 0.56906\n",
      "etcs, 4, Accuracy : 0.56879\n",
      "etcs, 5, Accuracy : 0.56362\n",
      "\n",
      "Best : swin_base_patch4_window12_384_in22k_etcs_3\n",
      "\n",
      "**************************************************\n",
      "\n",
      "gnb, 1, Accuracy : 0.33895\n",
      "gnb, 2, Accuracy : 0.37113\n",
      "gnb, 3, Accuracy : 0.40212\n",
      "gnb, 4, Accuracy : 0.37928\n",
      "gnb, 5, Accuracy : 0.33143\n",
      "\n",
      "Best : swin_base_patch4_window12_384_in22k_gnb_3\n",
      "\n",
      "**************************************************\n",
      "\n",
      "Overall Best Model : swin_large_patch4_window12_384_in22k_lgr_3\n",
      "\n",
      "**************************************************\n",
      "\n"
     ]
    }
   ],
   "source": [
    "names: list = [\"lgr\", \"knc\", \"svc\", \"dtc\", \"etc\", \"rfc\", \"etcs\", \"gnb\"]\n",
    "\n",
    "model_names: list = [\n",
    "    \"swin_large_patch4_window12_384_in22k\",\n",
    "    \"swin_base_patch4_window12_384_in22k\",\n",
    "]\n",
    "\n",
    "overall_best_acc: float = 0.0\n",
    "for model_name in model_names:\n",
    "    X = np.load(os.path.join(cfg.features_path, f\"tr_{model_name}.npy\"))\n",
    "    if cfg.show_info: \n",
    "        breaker()\n",
    "        print(f\"{model_name.upper()}\")\n",
    "    for name in names:\n",
    "        fold: int = 1\n",
    "        best_name: str = None\n",
    "        best_acc: float = 0.0\n",
    "        if cfg.show_info: breaker()\n",
    "        for tr_idx, va_idx in StratifiedKFold(n_splits=cfg.n_splits, random_state=cfg.seed, shuffle=True).split(X, y):\n",
    "            X_train, X_valid, y_train, y_valid = X[tr_idx], X[va_idx], y[tr_idx], y[va_idx]\n",
    "            my_pipeline = Model(name, cfg.seed)\n",
    "            my_pipeline.model.fit(X_train, y_train)\n",
    "\n",
    "            y_pred = my_pipeline.model.predict(X_valid)\n",
    "            if cfg.show_info:\n",
    "                acc = accuracy_score(y_pred, y_valid)\n",
    "                print(f\"{my_pipeline.model_name}, {fold}, Accuracy : {acc:.5f}\")\n",
    "            else:\n",
    "                acc = accuracy_score(y_pred, y_valid)\n",
    "\n",
    "            if acc > overall_best_acc:\n",
    "                overall_best_acc = acc\n",
    "                overall_best_name = f\"{model_name}_{name}_{fold}\"\n",
    "\n",
    "            if acc > best_acc:\n",
    "                best_acc = acc\n",
    "                best_name = f\"{model_name}_{name}_{fold}\"\n",
    "\n",
    "            with open(os.path.join(cfg.model_save_path, f\"{model_name}_{name}_{fold}.pkl\"), \"wb\") as fp: pickle.dump(my_pipeline.model, fp)\n",
    "            fold += 1\n",
    "\n",
    "        print(f\"\\nBest : {best_name}\")\n",
    "\n",
    "\n",
    "if cfg.show_info: \n",
    "    breaker()\n",
    "    print(f\"Overall Best Model : {overall_best_name}\")\n",
    "\n",
    "breaker()"
   ]
  },
  {
   "cell_type": "code",
   "execution_count": 7,
   "id": "251fdb8a",
   "metadata": {
    "execution": {
     "iopub.execute_input": "2023-06-01T13:38:01.657833Z",
     "iopub.status.busy": "2023-06-01T13:38:01.657329Z",
     "iopub.status.idle": "2023-06-01T13:38:01.662862Z",
     "shell.execute_reply": "2023-06-01T13:38:01.661738Z"
    },
    "papermill": {
     "duration": 0.019009,
     "end_time": "2023-06-01T13:38:01.665117",
     "exception": false,
     "start_time": "2023-06-01T13:38:01.646108",
     "status": "completed"
    },
    "tags": []
   },
   "outputs": [],
   "source": [
    "# ts_features = np.load(os.path.join(cfg.features_path, f\"ts_{model_names[0]}.npy\"))\n",
    "# model = pickle.load(open(os.path.join(cfg.model_save_path, f\"{overall_best_name}.pkl\"), \"rb\"))\n",
    "# y_pred = model.predict(ts_features)\n",
    "\n",
    "# ss_df = pd.read_csv(\"/kaggle/input/kitchenware-classification/sample_submission.csv\")\n",
    "# ss_df.label = y_pred.astype(\"uint8\")\n",
    "# ss_df.to_csv(\"submission.csv\", index=False)"
   ]
  }
 ],
 "metadata": {
  "kernelspec": {
   "display_name": "Python 3",
   "language": "python",
   "name": "python3"
  },
  "language_info": {
   "codemirror_mode": {
    "name": "ipython",
    "version": 3
   },
   "file_extension": ".py",
   "mimetype": "text/x-python",
   "name": "python",
   "nbconvert_exporter": "python",
   "pygments_lexer": "ipython3",
   "version": "3.10.10"
  },
  "papermill": {
   "default_parameters": {},
   "duration": 3321.69455,
   "end_time": "2023-06-01T13:38:03.006189",
   "environment_variables": {},
   "exception": null,
   "input_path": "__notebook__.ipynb",
   "output_path": "__notebook__.ipynb",
   "parameters": {},
   "start_time": "2023-06-01T12:42:41.311639",
   "version": "2.4.0"
  }
 },
 "nbformat": 4,
 "nbformat_minor": 5
}
