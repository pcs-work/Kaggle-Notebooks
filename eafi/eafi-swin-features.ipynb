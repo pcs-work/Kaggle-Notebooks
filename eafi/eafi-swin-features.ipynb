{
 "cells": [
  {
   "cell_type": "markdown",
   "id": "76aff58b",
   "metadata": {
    "_cell_guid": "b1076dfc-b9ad-4769-8c92-a6c4dae69d19",
    "_uuid": "8f2839f25d086af736a60e9eeb907d3b93b6e0e5",
    "papermill": {
     "duration": 0.004629,
     "end_time": "2023-06-01T11:49:14.026923",
     "exception": false,
     "start_time": "2023-06-01T11:49:14.022294",
     "status": "completed"
    },
    "tags": []
   },
   "source": [
    "### **Setup**"
   ]
  },
  {
   "cell_type": "code",
   "execution_count": 1,
   "id": "695368c6",
   "metadata": {
    "execution": {
     "iopub.execute_input": "2023-06-01T11:49:14.036984Z",
     "iopub.status.busy": "2023-06-01T11:49:14.036552Z",
     "iopub.status.idle": "2023-06-01T11:49:26.034451Z",
     "shell.execute_reply": "2023-06-01T11:49:26.033303Z"
    },
    "papermill": {
     "duration": 12.005853,
     "end_time": "2023-06-01T11:49:26.036931",
     "exception": false,
     "start_time": "2023-06-01T11:49:14.031078",
     "status": "completed"
    },
    "tags": []
   },
   "outputs": [
    {
     "name": "stdout",
     "output_type": "stream",
     "text": [
      "\u001b[33mWARNING: Running pip as the 'root' user can result in broken permissions and conflicting behaviour with the system package manager. It is recommended to use a virtual environment instead: https://pip.pypa.io/warnings/venv\u001b[0m\u001b[33m\r\n",
      "\u001b[0m"
     ]
    }
   ],
   "source": [
    "!pip install timm -q"
   ]
  },
  {
   "cell_type": "markdown",
   "id": "893903a8",
   "metadata": {
    "papermill": {
     "duration": 0.003861,
     "end_time": "2023-06-01T11:49:26.045228",
     "exception": false,
     "start_time": "2023-06-01T11:49:26.041367",
     "status": "completed"
    },
    "tags": []
   },
   "source": [
    "### **Library Imports**"
   ]
  },
  {
   "cell_type": "code",
   "execution_count": 2,
   "id": "e2b9d092",
   "metadata": {
    "execution": {
     "iopub.execute_input": "2023-06-01T11:49:26.054824Z",
     "iopub.status.busy": "2023-06-01T11:49:26.054510Z",
     "iopub.status.idle": "2023-06-01T11:49:30.980412Z",
     "shell.execute_reply": "2023-06-01T11:49:30.979469Z"
    },
    "papermill": {
     "duration": 4.933641,
     "end_time": "2023-06-01T11:49:30.982791",
     "exception": false,
     "start_time": "2023-06-01T11:49:26.049150",
     "status": "completed"
    },
    "tags": []
   },
   "outputs": [],
   "source": [
    "import os\n",
    "import re\n",
    "import cv2\n",
    "import timm\n",
    "import torch\n",
    "import numpy as np\n",
    "import pandas as pd\n",
    "\n",
    "from PIL import Image\n",
    "from time import time, sleep\n",
    "\n",
    "from torch import nn\n",
    "from torch.utils.data import Dataset\n",
    "from torch.utils.data import DataLoader as DL\n",
    "from torchvision import transforms"
   ]
  },
  {
   "cell_type": "markdown",
   "id": "ad1c8fee",
   "metadata": {
    "papermill": {
     "duration": 0.00399,
     "end_time": "2023-06-01T11:49:30.991218",
     "exception": false,
     "start_time": "2023-06-01T11:49:30.987228",
     "status": "completed"
    },
    "tags": []
   },
   "source": [
    "### **Models**"
   ]
  },
  {
   "cell_type": "code",
   "execution_count": 3,
   "id": "6af180c0",
   "metadata": {
    "execution": {
     "iopub.execute_input": "2023-06-01T11:49:31.000988Z",
     "iopub.status.busy": "2023-06-01T11:49:31.000710Z",
     "iopub.status.idle": "2023-06-01T11:49:31.007963Z",
     "shell.execute_reply": "2023-06-01T11:49:31.007079Z"
    },
    "papermill": {
     "duration": 0.014759,
     "end_time": "2023-06-01T11:49:31.009975",
     "exception": false,
     "start_time": "2023-06-01T11:49:30.995216",
     "status": "completed"
    },
    "tags": []
   },
   "outputs": [],
   "source": [
    "class Model(nn.Module):\n",
    "    def __init__(self, model_name: str):\n",
    "        super(Model, self).__init__()\n",
    "        \n",
    "        if model_name == \"swin_base_patch4_window12_384_in22k\":\n",
    "            self.model = timm.create_model(model_name, pretrained=True)\n",
    "            self.freeze()\n",
    "            self.model = nn.Sequential(*[*self.model.children()][:-1])\n",
    "        \n",
    "        elif model_name == \"swin_large_patch4_window12_384_in22k\":\n",
    "            self.model = timm.create_model(model_name, pretrained=True)\n",
    "            self.freeze()\n",
    "            self.model = nn.Sequential(*[*self.model.children()][:-1])\n",
    "        \n",
    "    def freeze(self):\n",
    "        for p in self.parameters(): p.requires_grad = False\n",
    "    \n",
    "    def forward(self, x):\n",
    "        return self.model(x)"
   ]
  },
  {
   "cell_type": "markdown",
   "id": "220ffcee",
   "metadata": {
    "papermill": {
     "duration": 0.003761,
     "end_time": "2023-06-01T11:49:31.017803",
     "exception": false,
     "start_time": "2023-06-01T11:49:31.014042",
     "status": "completed"
    },
    "tags": []
   },
   "source": [
    "### **Utils**"
   ]
  },
  {
   "cell_type": "code",
   "execution_count": 4,
   "id": "bfd83eaf",
   "metadata": {
    "execution": {
     "iopub.execute_input": "2023-06-01T11:49:31.026947Z",
     "iopub.status.busy": "2023-06-01T11:49:31.026669Z",
     "iopub.status.idle": "2023-06-01T11:49:31.036171Z",
     "shell.execute_reply": "2023-06-01T11:49:31.035350Z"
    },
    "papermill": {
     "duration": 0.016537,
     "end_time": "2023-06-01T11:49:31.038330",
     "exception": false,
     "start_time": "2023-06-01T11:49:31.021793",
     "status": "completed"
    },
    "tags": []
   },
   "outputs": [],
   "source": [
    "def breaker(num: int=50, char: str=\"*\") -> None:\n",
    "    print(\"\\n\" + num*char + \"\\n\")\n",
    "\n",
    "    \n",
    "def get_image(path: str, size: int=224) -> np.ndarray:\n",
    "    image = cv2.imread(path, cv2.IMREAD_COLOR)\n",
    "    image = cv2.cvtColor(src=image, code=cv2.COLOR_BGR2RGB)\n",
    "    return cv2.resize(src=image, dsize=(size, size), interpolation=cv2.INTER_AREA)\n",
    "\n",
    "\n",
    "def get_features(model=None, dataloader=None, feature_length: int=None) -> np.ndarray: \n",
    "    model.eval()\n",
    "    \n",
    "    y_pred = torch.zeros(1, feature_length).to(torch.device(\"cuda\" if torch.cuda.is_available() else \"cpu\"))\n",
    "        \n",
    "    for X in dataloader:\n",
    "        X = X.to(torch.device(\"cuda\" if torch.cuda.is_available() else \"cpu\"))\n",
    "        with torch.no_grad():\n",
    "            output = model(X)[:, -1, -1, :]\n",
    "        y_pred = torch.cat((y_pred, output), dim=0)\n",
    "    \n",
    "    return y_pred[1:].detach().cpu().numpy()"
   ]
  },
  {
   "cell_type": "markdown",
   "id": "6a10df41",
   "metadata": {
    "papermill": {
     "duration": 0.004006,
     "end_time": "2023-06-01T11:49:31.046377",
     "exception": false,
     "start_time": "2023-06-01T11:49:31.042371",
     "status": "completed"
    },
    "tags": []
   },
   "source": [
    "### **Dataset Template**"
   ]
  },
  {
   "cell_type": "code",
   "execution_count": 5,
   "id": "52c8edf0",
   "metadata": {
    "execution": {
     "iopub.execute_input": "2023-06-01T11:49:31.056131Z",
     "iopub.status.busy": "2023-06-01T11:49:31.055862Z",
     "iopub.status.idle": "2023-06-01T11:49:31.061992Z",
     "shell.execute_reply": "2023-06-01T11:49:31.061112Z"
    },
    "papermill": {
     "duration": 0.013472,
     "end_time": "2023-06-01T11:49:31.064022",
     "exception": false,
     "start_time": "2023-06-01T11:49:31.050550",
     "status": "completed"
    },
    "tags": []
   },
   "outputs": [],
   "source": [
    "class DS(Dataset):\n",
    "    def __init__(\n",
    "        self, \n",
    "        filepaths: np.ndarray, \n",
    "        size: int,\n",
    "        transform=None\n",
    "    ):\n",
    "        \n",
    "        self.filepaths = filepaths\n",
    "        self.size = size\n",
    "        self.transform = transform\n",
    "    \n",
    "    def __len__(self):\n",
    "        if isinstance(self.filepaths, np.ndarray):\n",
    "            return self.filepaths.shape[0]\n",
    "        else:\n",
    "            return len(self.filepaths)\n",
    "    \n",
    "    def __getitem__(self, idx):\n",
    "        image = get_image(self.filepaths[idx], self.size)\n",
    "        return self.transform(image)"
   ]
  },
  {
   "cell_type": "code",
   "execution_count": 6,
   "id": "274aa681",
   "metadata": {
    "execution": {
     "iopub.execute_input": "2023-06-01T11:49:31.073236Z",
     "iopub.status.busy": "2023-06-01T11:49:31.072985Z",
     "iopub.status.idle": "2023-06-01T11:49:31.077330Z",
     "shell.execute_reply": "2023-06-01T11:49:31.076371Z"
    },
    "papermill": {
     "duration": 0.011537,
     "end_time": "2023-06-01T11:49:31.079623",
     "exception": false,
     "start_time": "2023-06-01T11:49:31.068086",
     "status": "completed"
    },
    "tags": []
   },
   "outputs": [],
   "source": [
    "model_names: list = [\n",
    "    \"swin_base_patch4_window12_384_in22k\",\n",
    "    \"swin_large_patch4_window12_384_in22k\"\n",
    "]\n",
    "    \n",
    "feature_lengths: list = [\n",
    "    1024,\n",
    "    1536\n",
    "]"
   ]
  },
  {
   "cell_type": "markdown",
   "id": "eb039359",
   "metadata": {
    "papermill": {
     "duration": 0.00377,
     "end_time": "2023-06-01T11:49:31.087452",
     "exception": false,
     "start_time": "2023-06-01T11:49:31.083682",
     "status": "completed"
    },
    "tags": []
   },
   "source": [
    "### **Train Features**"
   ]
  },
  {
   "cell_type": "code",
   "execution_count": 7,
   "id": "99782aec",
   "metadata": {
    "execution": {
     "iopub.execute_input": "2023-06-01T11:49:31.096520Z",
     "iopub.status.busy": "2023-06-01T11:49:31.096221Z",
     "iopub.status.idle": "2023-06-01T12:10:26.132538Z",
     "shell.execute_reply": "2023-06-01T12:10:26.131519Z"
    },
    "papermill": {
     "duration": 1255.044102,
     "end_time": "2023-06-01T12:10:26.135526",
     "exception": false,
     "start_time": "2023-06-01T11:49:31.091424",
     "status": "completed"
    },
    "tags": []
   },
   "outputs": [
    {
     "name": "stderr",
     "output_type": "stream",
     "text": [
      "/opt/conda/lib/python3.10/site-packages/timm/models/_factory.py:114: UserWarning: Mapping deprecated model name swin_base_patch4_window12_384_in22k to current swin_base_patch4_window12_384.ms_in22k.\n",
      "  model = create_fn(\n",
      "/opt/conda/lib/python3.10/site-packages/torch/functional.py:504: UserWarning: torch.meshgrid: in an upcoming release, it will be required to pass the indexing argument. (Triggered internally at /usr/local/src/pytorch/aten/src/ATen/native/TensorShape.cpp:3483.)\n",
      "  return _VF.meshgrid(tensors, **kwargs)  # type: ignore[attr-defined]\n"
     ]
    },
    {
     "data": {
      "application/vnd.jupyter.widget-view+json": {
       "model_id": "0da41aa6e16b459aa1e75784aebd5a94",
       "version_major": 2,
       "version_minor": 0
      },
      "text/plain": [
       "Downloading model.safetensors:   0%|          | 0.00/451M [00:00<?, ?B/s]"
      ]
     },
     "metadata": {},
     "output_type": "display_data"
    },
    {
     "name": "stderr",
     "output_type": "stream",
     "text": [
      "/opt/conda/lib/python3.10/site-packages/timm/models/_factory.py:114: UserWarning: Mapping deprecated model name swin_large_patch4_window12_384_in22k to current swin_large_patch4_window12_384.ms_in22k.\n",
      "  model = create_fn(\n"
     ]
    },
    {
     "data": {
      "application/vnd.jupyter.widget-view+json": {
       "model_id": "b9358608055549ad9a3beb7d8a4473f5",
       "version_major": 2,
       "version_minor": 0
      },
      "text/plain": [
       "Downloading model.safetensors:   0%|          | 0.00/929M [00:00<?, ?B/s]"
      ]
     },
     "metadata": {},
     "output_type": "display_data"
    }
   ],
   "source": [
    "df = pd.read_csv(\"/kaggle/input/eafi-dataframe/train.csv\")\n",
    "\n",
    "data_setup = DS(\n",
    "    filepaths=df.filepaths.copy().values, \n",
    "    size=384,\n",
    "    transform=transforms.Compose([\n",
    "        transforms.ToTensor(),\n",
    "        transforms.Normalize([0.74628, 0.71980, 0.71150], [0.26142, 0.27938, 0.28378]),\n",
    "    ])\n",
    ")\n",
    "    \n",
    "for i in range(len(model_names)):\n",
    "    model = Model(model_names[i]).to(torch.device(\"cuda\" if torch.cuda.is_available() else \"cpu\"))\n",
    "    data = DL(data_setup, batch_size=16, shuffle=False)\n",
    "    features = get_features(model=model, dataloader=data, feature_length=feature_lengths[i])\n",
    "    np.save(f\"tr_{model_names[i]}.npy\", features)\n",
    "    \n",
    "    del model, data\n",
    "    torch.cuda.empty_cache()\n",
    "    \n",
    "    sleep(30)"
   ]
  },
  {
   "cell_type": "markdown",
   "id": "4372b223",
   "metadata": {
    "papermill": {
     "duration": 0.004447,
     "end_time": "2023-06-01T12:10:26.145048",
     "exception": false,
     "start_time": "2023-06-01T12:10:26.140601",
     "status": "completed"
    },
    "tags": []
   },
   "source": [
    "### **Test Featues**"
   ]
  },
  {
   "cell_type": "code",
   "execution_count": 8,
   "id": "014dd187",
   "metadata": {
    "execution": {
     "iopub.execute_input": "2023-06-01T12:10:26.155849Z",
     "iopub.status.busy": "2023-06-01T12:10:26.155522Z",
     "iopub.status.idle": "2023-06-01T12:17:40.302275Z",
     "shell.execute_reply": "2023-06-01T12:17:40.301334Z"
    },
    "papermill": {
     "duration": 434.156371,
     "end_time": "2023-06-01T12:17:40.305966",
     "exception": false,
     "start_time": "2023-06-01T12:10:26.149595",
     "status": "completed"
    },
    "tags": []
   },
   "outputs": [
    {
     "name": "stderr",
     "output_type": "stream",
     "text": [
      "/opt/conda/lib/python3.10/site-packages/timm/models/_factory.py:114: UserWarning: Mapping deprecated model name swin_base_patch4_window12_384_in22k to current swin_base_patch4_window12_384.ms_in22k.\n",
      "  model = create_fn(\n",
      "/opt/conda/lib/python3.10/site-packages/timm/models/_factory.py:114: UserWarning: Mapping deprecated model name swin_large_patch4_window12_384_in22k to current swin_large_patch4_window12_384.ms_in22k.\n",
      "  model = create_fn(\n"
     ]
    }
   ],
   "source": [
    "df = pd.read_csv(\"/kaggle/input/eafi-dataframe/test.csv\")\n",
    "\n",
    "data_setup = DS(\n",
    "    filepaths=df.filepaths.copy().values, \n",
    "    size=384,\n",
    "    transform=transforms.Compose([\n",
    "        transforms.ToTensor(),\n",
    "        transforms.Normalize([0.74628, 0.71980, 0.71150], [0.26142, 0.27938, 0.28378]),\n",
    "    ])\n",
    ")\n",
    "    \n",
    "for i in range(len(model_names)):\n",
    "    model = Model(model_names[i]).to(torch.device(\"cuda\" if torch.cuda.is_available() else \"cpu\"))\n",
    "    data = DL(data_setup, batch_size=16, shuffle=False)\n",
    "    features = get_features(model=model, dataloader=data, feature_length=feature_lengths[i])\n",
    "    np.save(f\"ts_{model_names[i]}.npy\", features)\n",
    "    \n",
    "    del model, data\n",
    "    torch.cuda.empty_cache()\n",
    "    \n",
    "    sleep(30)"
   ]
  }
 ],
 "metadata": {
  "kernelspec": {
   "display_name": "Python 3",
   "language": "python",
   "name": "python3"
  },
  "language_info": {
   "codemirror_mode": {
    "name": "ipython",
    "version": 3
   },
   "file_extension": ".py",
   "mimetype": "text/x-python",
   "name": "python",
   "nbconvert_exporter": "python",
   "pygments_lexer": "ipython3",
   "version": "3.10.10"
  },
  "papermill": {
   "default_parameters": {},
   "duration": 1719.610439,
   "end_time": "2023-06-01T12:17:43.347119",
   "environment_variables": {},
   "exception": null,
   "input_path": "__notebook__.ipynb",
   "output_path": "__notebook__.ipynb",
   "parameters": {},
   "start_time": "2023-06-01T11:49:03.736680",
   "version": "2.4.0"
  },
  "widgets": {
   "application/vnd.jupyter.widget-state+json": {
    "state": {
     "0358adaf3c064bd9bb8fd8a29413395b": {
      "model_module": "@jupyter-widgets/controls",
      "model_module_version": "1.5.0",
      "model_name": "HTMLModel",
      "state": {
       "_dom_classes": [],
       "_model_module": "@jupyter-widgets/controls",
       "_model_module_version": "1.5.0",
       "_model_name": "HTMLModel",
       "_view_count": null,
       "_view_module": "@jupyter-widgets/controls",
       "_view_module_version": "1.5.0",
       "_view_name": "HTMLView",
       "description": "",
       "description_tooltip": null,
       "layout": "IPY_MODEL_7f39e8fc930546ebba13736d5ad99ee8",
       "placeholder": "​",
       "style": "IPY_MODEL_0747680238524010bce089dafe7a7e19",
       "value": " 451M/451M [00:01&lt;00:00, 321MB/s]"
      }
     },
     "0723727c244948bf8dd918cd3b3efff9": {
      "model_module": "@jupyter-widgets/base",
      "model_module_version": "1.2.0",
      "model_name": "LayoutModel",
      "state": {
       "_model_module": "@jupyter-widgets/base",
       "_model_module_version": "1.2.0",
       "_model_name": "LayoutModel",
       "_view_count": null,
       "_view_module": "@jupyter-widgets/base",
       "_view_module_version": "1.2.0",
       "_view_name": "LayoutView",
       "align_content": null,
       "align_items": null,
       "align_self": null,
       "border": null,
       "bottom": null,
       "display": null,
       "flex": null,
       "flex_flow": null,
       "grid_area": null,
       "grid_auto_columns": null,
       "grid_auto_flow": null,
       "grid_auto_rows": null,
       "grid_column": null,
       "grid_gap": null,
       "grid_row": null,
       "grid_template_areas": null,
       "grid_template_columns": null,
       "grid_template_rows": null,
       "height": null,
       "justify_content": null,
       "justify_items": null,
       "left": null,
       "margin": null,
       "max_height": null,
       "max_width": null,
       "min_height": null,
       "min_width": null,
       "object_fit": null,
       "object_position": null,
       "order": null,
       "overflow": null,
       "overflow_x": null,
       "overflow_y": null,
       "padding": null,
       "right": null,
       "top": null,
       "visibility": null,
       "width": null
      }
     },
     "0747680238524010bce089dafe7a7e19": {
      "model_module": "@jupyter-widgets/controls",
      "model_module_version": "1.5.0",
      "model_name": "DescriptionStyleModel",
      "state": {
       "_model_module": "@jupyter-widgets/controls",
       "_model_module_version": "1.5.0",
       "_model_name": "DescriptionStyleModel",
       "_view_count": null,
       "_view_module": "@jupyter-widgets/base",
       "_view_module_version": "1.2.0",
       "_view_name": "StyleView",
       "description_width": ""
      }
     },
     "0ab27f5cc4ac49beb1a8aad5aea90775": {
      "model_module": "@jupyter-widgets/base",
      "model_module_version": "1.2.0",
      "model_name": "LayoutModel",
      "state": {
       "_model_module": "@jupyter-widgets/base",
       "_model_module_version": "1.2.0",
       "_model_name": "LayoutModel",
       "_view_count": null,
       "_view_module": "@jupyter-widgets/base",
       "_view_module_version": "1.2.0",
       "_view_name": "LayoutView",
       "align_content": null,
       "align_items": null,
       "align_self": null,
       "border": null,
       "bottom": null,
       "display": null,
       "flex": null,
       "flex_flow": null,
       "grid_area": null,
       "grid_auto_columns": null,
       "grid_auto_flow": null,
       "grid_auto_rows": null,
       "grid_column": null,
       "grid_gap": null,
       "grid_row": null,
       "grid_template_areas": null,
       "grid_template_columns": null,
       "grid_template_rows": null,
       "height": null,
       "justify_content": null,
       "justify_items": null,
       "left": null,
       "margin": null,
       "max_height": null,
       "max_width": null,
       "min_height": null,
       "min_width": null,
       "object_fit": null,
       "object_position": null,
       "order": null,
       "overflow": null,
       "overflow_x": null,
       "overflow_y": null,
       "padding": null,
       "right": null,
       "top": null,
       "visibility": null,
       "width": null
      }
     },
     "0da41aa6e16b459aa1e75784aebd5a94": {
      "model_module": "@jupyter-widgets/controls",
      "model_module_version": "1.5.0",
      "model_name": "HBoxModel",
      "state": {
       "_dom_classes": [],
       "_model_module": "@jupyter-widgets/controls",
       "_model_module_version": "1.5.0",
       "_model_name": "HBoxModel",
       "_view_count": null,
       "_view_module": "@jupyter-widgets/controls",
       "_view_module_version": "1.5.0",
       "_view_name": "HBoxView",
       "box_style": "",
       "children": [
        "IPY_MODEL_afaae1d1b7f046a88d45e78c466a2690",
        "IPY_MODEL_978bef6a179c4fdabb996bed29f79218",
        "IPY_MODEL_0358adaf3c064bd9bb8fd8a29413395b"
       ],
       "layout": "IPY_MODEL_326ef56d07ce45ed8ea909df3f95c82b"
      }
     },
     "326ef56d07ce45ed8ea909df3f95c82b": {
      "model_module": "@jupyter-widgets/base",
      "model_module_version": "1.2.0",
      "model_name": "LayoutModel",
      "state": {
       "_model_module": "@jupyter-widgets/base",
       "_model_module_version": "1.2.0",
       "_model_name": "LayoutModel",
       "_view_count": null,
       "_view_module": "@jupyter-widgets/base",
       "_view_module_version": "1.2.0",
       "_view_name": "LayoutView",
       "align_content": null,
       "align_items": null,
       "align_self": null,
       "border": null,
       "bottom": null,
       "display": null,
       "flex": null,
       "flex_flow": null,
       "grid_area": null,
       "grid_auto_columns": null,
       "grid_auto_flow": null,
       "grid_auto_rows": null,
       "grid_column": null,
       "grid_gap": null,
       "grid_row": null,
       "grid_template_areas": null,
       "grid_template_columns": null,
       "grid_template_rows": null,
       "height": null,
       "justify_content": null,
       "justify_items": null,
       "left": null,
       "margin": null,
       "max_height": null,
       "max_width": null,
       "min_height": null,
       "min_width": null,
       "object_fit": null,
       "object_position": null,
       "order": null,
       "overflow": null,
       "overflow_x": null,
       "overflow_y": null,
       "padding": null,
       "right": null,
       "top": null,
       "visibility": null,
       "width": null
      }
     },
     "465c74c4ad694f14b204b7a2539493bd": {
      "model_module": "@jupyter-widgets/controls",
      "model_module_version": "1.5.0",
      "model_name": "HTMLModel",
      "state": {
       "_dom_classes": [],
       "_model_module": "@jupyter-widgets/controls",
       "_model_module_version": "1.5.0",
       "_model_name": "HTMLModel",
       "_view_count": null,
       "_view_module": "@jupyter-widgets/controls",
       "_view_module_version": "1.5.0",
       "_view_name": "HTMLView",
       "description": "",
       "description_tooltip": null,
       "layout": "IPY_MODEL_9948e78be5774ae6b2af6d2835d65792",
       "placeholder": "​",
       "style": "IPY_MODEL_7665302ed09f4378bcd6e475bffe02f6",
       "value": "Downloading model.safetensors: 100%"
      }
     },
     "703fd97d4d17418c83ef3ac87b47bf21": {
      "model_module": "@jupyter-widgets/controls",
      "model_module_version": "1.5.0",
      "model_name": "ProgressStyleModel",
      "state": {
       "_model_module": "@jupyter-widgets/controls",
       "_model_module_version": "1.5.0",
       "_model_name": "ProgressStyleModel",
       "_view_count": null,
       "_view_module": "@jupyter-widgets/base",
       "_view_module_version": "1.2.0",
       "_view_name": "StyleView",
       "bar_color": null,
       "description_width": ""
      }
     },
     "7254a002ff2a4c5bb66016fce76b1879": {
      "model_module": "@jupyter-widgets/controls",
      "model_module_version": "1.5.0",
      "model_name": "HTMLModel",
      "state": {
       "_dom_classes": [],
       "_model_module": "@jupyter-widgets/controls",
       "_model_module_version": "1.5.0",
       "_model_name": "HTMLModel",
       "_view_count": null,
       "_view_module": "@jupyter-widgets/controls",
       "_view_module_version": "1.5.0",
       "_view_name": "HTMLView",
       "description": "",
       "description_tooltip": null,
       "layout": "IPY_MODEL_0ab27f5cc4ac49beb1a8aad5aea90775",
       "placeholder": "​",
       "style": "IPY_MODEL_8c529a54043e46b0a2840cb8a66b67a1",
       "value": " 929M/929M [00:03&lt;00:00, 280MB/s]"
      }
     },
     "7665302ed09f4378bcd6e475bffe02f6": {
      "model_module": "@jupyter-widgets/controls",
      "model_module_version": "1.5.0",
      "model_name": "DescriptionStyleModel",
      "state": {
       "_model_module": "@jupyter-widgets/controls",
       "_model_module_version": "1.5.0",
       "_model_name": "DescriptionStyleModel",
       "_view_count": null,
       "_view_module": "@jupyter-widgets/base",
       "_view_module_version": "1.2.0",
       "_view_name": "StyleView",
       "description_width": ""
      }
     },
     "77f14a23b30e4ec8b057fdf7ce17b988": {
      "model_module": "@jupyter-widgets/controls",
      "model_module_version": "1.5.0",
      "model_name": "ProgressStyleModel",
      "state": {
       "_model_module": "@jupyter-widgets/controls",
       "_model_module_version": "1.5.0",
       "_model_name": "ProgressStyleModel",
       "_view_count": null,
       "_view_module": "@jupyter-widgets/base",
       "_view_module_version": "1.2.0",
       "_view_name": "StyleView",
       "bar_color": null,
       "description_width": ""
      }
     },
     "7f39e8fc930546ebba13736d5ad99ee8": {
      "model_module": "@jupyter-widgets/base",
      "model_module_version": "1.2.0",
      "model_name": "LayoutModel",
      "state": {
       "_model_module": "@jupyter-widgets/base",
       "_model_module_version": "1.2.0",
       "_model_name": "LayoutModel",
       "_view_count": null,
       "_view_module": "@jupyter-widgets/base",
       "_view_module_version": "1.2.0",
       "_view_name": "LayoutView",
       "align_content": null,
       "align_items": null,
       "align_self": null,
       "border": null,
       "bottom": null,
       "display": null,
       "flex": null,
       "flex_flow": null,
       "grid_area": null,
       "grid_auto_columns": null,
       "grid_auto_flow": null,
       "grid_auto_rows": null,
       "grid_column": null,
       "grid_gap": null,
       "grid_row": null,
       "grid_template_areas": null,
       "grid_template_columns": null,
       "grid_template_rows": null,
       "height": null,
       "justify_content": null,
       "justify_items": null,
       "left": null,
       "margin": null,
       "max_height": null,
       "max_width": null,
       "min_height": null,
       "min_width": null,
       "object_fit": null,
       "object_position": null,
       "order": null,
       "overflow": null,
       "overflow_x": null,
       "overflow_y": null,
       "padding": null,
       "right": null,
       "top": null,
       "visibility": null,
       "width": null
      }
     },
     "807828cc55164d8d9baf80234e88ccce": {
      "model_module": "@jupyter-widgets/base",
      "model_module_version": "1.2.0",
      "model_name": "LayoutModel",
      "state": {
       "_model_module": "@jupyter-widgets/base",
       "_model_module_version": "1.2.0",
       "_model_name": "LayoutModel",
       "_view_count": null,
       "_view_module": "@jupyter-widgets/base",
       "_view_module_version": "1.2.0",
       "_view_name": "LayoutView",
       "align_content": null,
       "align_items": null,
       "align_self": null,
       "border": null,
       "bottom": null,
       "display": null,
       "flex": null,
       "flex_flow": null,
       "grid_area": null,
       "grid_auto_columns": null,
       "grid_auto_flow": null,
       "grid_auto_rows": null,
       "grid_column": null,
       "grid_gap": null,
       "grid_row": null,
       "grid_template_areas": null,
       "grid_template_columns": null,
       "grid_template_rows": null,
       "height": null,
       "justify_content": null,
       "justify_items": null,
       "left": null,
       "margin": null,
       "max_height": null,
       "max_width": null,
       "min_height": null,
       "min_width": null,
       "object_fit": null,
       "object_position": null,
       "order": null,
       "overflow": null,
       "overflow_x": null,
       "overflow_y": null,
       "padding": null,
       "right": null,
       "top": null,
       "visibility": null,
       "width": null
      }
     },
     "8c529a54043e46b0a2840cb8a66b67a1": {
      "model_module": "@jupyter-widgets/controls",
      "model_module_version": "1.5.0",
      "model_name": "DescriptionStyleModel",
      "state": {
       "_model_module": "@jupyter-widgets/controls",
       "_model_module_version": "1.5.0",
       "_model_name": "DescriptionStyleModel",
       "_view_count": null,
       "_view_module": "@jupyter-widgets/base",
       "_view_module_version": "1.2.0",
       "_view_name": "StyleView",
       "description_width": ""
      }
     },
     "978bef6a179c4fdabb996bed29f79218": {
      "model_module": "@jupyter-widgets/controls",
      "model_module_version": "1.5.0",
      "model_name": "FloatProgressModel",
      "state": {
       "_dom_classes": [],
       "_model_module": "@jupyter-widgets/controls",
       "_model_module_version": "1.5.0",
       "_model_name": "FloatProgressModel",
       "_view_count": null,
       "_view_module": "@jupyter-widgets/controls",
       "_view_module_version": "1.5.0",
       "_view_name": "ProgressView",
       "bar_style": "success",
       "description": "",
       "description_tooltip": null,
       "layout": "IPY_MODEL_0723727c244948bf8dd918cd3b3efff9",
       "max": 450703408.0,
       "min": 0.0,
       "orientation": "horizontal",
       "style": "IPY_MODEL_77f14a23b30e4ec8b057fdf7ce17b988",
       "value": 450703408.0
      }
     },
     "9948e78be5774ae6b2af6d2835d65792": {
      "model_module": "@jupyter-widgets/base",
      "model_module_version": "1.2.0",
      "model_name": "LayoutModel",
      "state": {
       "_model_module": "@jupyter-widgets/base",
       "_model_module_version": "1.2.0",
       "_model_name": "LayoutModel",
       "_view_count": null,
       "_view_module": "@jupyter-widgets/base",
       "_view_module_version": "1.2.0",
       "_view_name": "LayoutView",
       "align_content": null,
       "align_items": null,
       "align_self": null,
       "border": null,
       "bottom": null,
       "display": null,
       "flex": null,
       "flex_flow": null,
       "grid_area": null,
       "grid_auto_columns": null,
       "grid_auto_flow": null,
       "grid_auto_rows": null,
       "grid_column": null,
       "grid_gap": null,
       "grid_row": null,
       "grid_template_areas": null,
       "grid_template_columns": null,
       "grid_template_rows": null,
       "height": null,
       "justify_content": null,
       "justify_items": null,
       "left": null,
       "margin": null,
       "max_height": null,
       "max_width": null,
       "min_height": null,
       "min_width": null,
       "object_fit": null,
       "object_position": null,
       "order": null,
       "overflow": null,
       "overflow_x": null,
       "overflow_y": null,
       "padding": null,
       "right": null,
       "top": null,
       "visibility": null,
       "width": null
      }
     },
     "afaae1d1b7f046a88d45e78c466a2690": {
      "model_module": "@jupyter-widgets/controls",
      "model_module_version": "1.5.0",
      "model_name": "HTMLModel",
      "state": {
       "_dom_classes": [],
       "_model_module": "@jupyter-widgets/controls",
       "_model_module_version": "1.5.0",
       "_model_name": "HTMLModel",
       "_view_count": null,
       "_view_module": "@jupyter-widgets/controls",
       "_view_module_version": "1.5.0",
       "_view_name": "HTMLView",
       "description": "",
       "description_tooltip": null,
       "layout": "IPY_MODEL_807828cc55164d8d9baf80234e88ccce",
       "placeholder": "​",
       "style": "IPY_MODEL_ee3461dcec34431399c54ce2fae67a42",
       "value": "Downloading model.safetensors: 100%"
      }
     },
     "b02c6f4087a34f8cae0bfc26c7a1c8fd": {
      "model_module": "@jupyter-widgets/base",
      "model_module_version": "1.2.0",
      "model_name": "LayoutModel",
      "state": {
       "_model_module": "@jupyter-widgets/base",
       "_model_module_version": "1.2.0",
       "_model_name": "LayoutModel",
       "_view_count": null,
       "_view_module": "@jupyter-widgets/base",
       "_view_module_version": "1.2.0",
       "_view_name": "LayoutView",
       "align_content": null,
       "align_items": null,
       "align_self": null,
       "border": null,
       "bottom": null,
       "display": null,
       "flex": null,
       "flex_flow": null,
       "grid_area": null,
       "grid_auto_columns": null,
       "grid_auto_flow": null,
       "grid_auto_rows": null,
       "grid_column": null,
       "grid_gap": null,
       "grid_row": null,
       "grid_template_areas": null,
       "grid_template_columns": null,
       "grid_template_rows": null,
       "height": null,
       "justify_content": null,
       "justify_items": null,
       "left": null,
       "margin": null,
       "max_height": null,
       "max_width": null,
       "min_height": null,
       "min_width": null,
       "object_fit": null,
       "object_position": null,
       "order": null,
       "overflow": null,
       "overflow_x": null,
       "overflow_y": null,
       "padding": null,
       "right": null,
       "top": null,
       "visibility": null,
       "width": null
      }
     },
     "b34576cceb4f4163b28f62b0670b1ec6": {
      "model_module": "@jupyter-widgets/base",
      "model_module_version": "1.2.0",
      "model_name": "LayoutModel",
      "state": {
       "_model_module": "@jupyter-widgets/base",
       "_model_module_version": "1.2.0",
       "_model_name": "LayoutModel",
       "_view_count": null,
       "_view_module": "@jupyter-widgets/base",
       "_view_module_version": "1.2.0",
       "_view_name": "LayoutView",
       "align_content": null,
       "align_items": null,
       "align_self": null,
       "border": null,
       "bottom": null,
       "display": null,
       "flex": null,
       "flex_flow": null,
       "grid_area": null,
       "grid_auto_columns": null,
       "grid_auto_flow": null,
       "grid_auto_rows": null,
       "grid_column": null,
       "grid_gap": null,
       "grid_row": null,
       "grid_template_areas": null,
       "grid_template_columns": null,
       "grid_template_rows": null,
       "height": null,
       "justify_content": null,
       "justify_items": null,
       "left": null,
       "margin": null,
       "max_height": null,
       "max_width": null,
       "min_height": null,
       "min_width": null,
       "object_fit": null,
       "object_position": null,
       "order": null,
       "overflow": null,
       "overflow_x": null,
       "overflow_y": null,
       "padding": null,
       "right": null,
       "top": null,
       "visibility": null,
       "width": null
      }
     },
     "b9358608055549ad9a3beb7d8a4473f5": {
      "model_module": "@jupyter-widgets/controls",
      "model_module_version": "1.5.0",
      "model_name": "HBoxModel",
      "state": {
       "_dom_classes": [],
       "_model_module": "@jupyter-widgets/controls",
       "_model_module_version": "1.5.0",
       "_model_name": "HBoxModel",
       "_view_count": null,
       "_view_module": "@jupyter-widgets/controls",
       "_view_module_version": "1.5.0",
       "_view_name": "HBoxView",
       "box_style": "",
       "children": [
        "IPY_MODEL_465c74c4ad694f14b204b7a2539493bd",
        "IPY_MODEL_f3938c1a2ccb4a409e32bfb28ecb1064",
        "IPY_MODEL_7254a002ff2a4c5bb66016fce76b1879"
       ],
       "layout": "IPY_MODEL_b02c6f4087a34f8cae0bfc26c7a1c8fd"
      }
     },
     "ee3461dcec34431399c54ce2fae67a42": {
      "model_module": "@jupyter-widgets/controls",
      "model_module_version": "1.5.0",
      "model_name": "DescriptionStyleModel",
      "state": {
       "_model_module": "@jupyter-widgets/controls",
       "_model_module_version": "1.5.0",
       "_model_name": "DescriptionStyleModel",
       "_view_count": null,
       "_view_module": "@jupyter-widgets/base",
       "_view_module_version": "1.2.0",
       "_view_name": "StyleView",
       "description_width": ""
      }
     },
     "f3938c1a2ccb4a409e32bfb28ecb1064": {
      "model_module": "@jupyter-widgets/controls",
      "model_module_version": "1.5.0",
      "model_name": "FloatProgressModel",
      "state": {
       "_dom_classes": [],
       "_model_module": "@jupyter-widgets/controls",
       "_model_module_version": "1.5.0",
       "_model_name": "FloatProgressModel",
       "_view_count": null,
       "_view_module": "@jupyter-widgets/controls",
       "_view_module_version": "1.5.0",
       "_view_name": "ProgressView",
       "bar_style": "success",
       "description": "",
       "description_tooltip": null,
       "layout": "IPY_MODEL_b34576cceb4f4163b28f62b0670b1ec6",
       "max": 928713552.0,
       "min": 0.0,
       "orientation": "horizontal",
       "style": "IPY_MODEL_703fd97d4d17418c83ef3ac87b47bf21",
       "value": 928713552.0
      }
     }
    },
    "version_major": 2,
    "version_minor": 0
   }
  }
 },
 "nbformat": 4,
 "nbformat_minor": 5
}
