{
 "cells": [
  {
   "cell_type": "code",
   "execution_count": 1,
   "id": "6503e956",
   "metadata": {
    "_cell_guid": "b1076dfc-b9ad-4769-8c92-a6c4dae69d19",
    "_uuid": "8f2839f25d086af736a60e9eeb907d3b93b6e0e5",
    "execution": {
     "iopub.execute_input": "2023-02-13T08:03:36.542501Z",
     "iopub.status.busy": "2023-02-13T08:03:36.541829Z",
     "iopub.status.idle": "2023-02-13T08:03:36.759096Z",
     "shell.execute_reply": "2023-02-13T08:03:36.757942Z"
    },
    "papermill": {
     "duration": 0.225708,
     "end_time": "2023-02-13T08:03:36.762060",
     "exception": false,
     "start_time": "2023-02-13T08:03:36.536352",
     "status": "completed"
    },
    "tags": []
   },
   "outputs": [],
   "source": [
    "import os\n",
    "import cv2\n",
    "import json\n",
    "import numpy as np\n",
    "import pandas as pd\n",
    "\n",
    "BASE_PATH: str = \"/kaggle/input/earthquake-road-crack-detection/Earthquake Road Crack Detection\""
   ]
  },
  {
   "cell_type": "code",
   "execution_count": 2,
   "id": "503882a4",
   "metadata": {
    "execution": {
     "iopub.execute_input": "2023-02-13T08:03:36.768240Z",
     "iopub.status.busy": "2023-02-13T08:03:36.767852Z",
     "iopub.status.idle": "2023-02-13T08:03:36.785719Z",
     "shell.execute_reply": "2023-02-13T08:03:36.784626Z"
    },
    "papermill": {
     "duration": 0.023915,
     "end_time": "2023-02-13T08:03:36.788345",
     "exception": false,
     "start_time": "2023-02-13T08:03:36.764430",
     "status": "completed"
    },
    "tags": []
   },
   "outputs": [],
   "source": [
    "tr_df: pd.DataFrame = pd.DataFrame(data=None, columns=[\"filepaths\", \"labels\"])\n",
    "# ts_df: pd.DataFrame = pd.DataFrame(data=None, columns=[\"filepaths\"])"
   ]
  },
  {
   "cell_type": "code",
   "execution_count": 3,
   "id": "208bbafb",
   "metadata": {
    "execution": {
     "iopub.execute_input": "2023-02-13T08:03:36.794325Z",
     "iopub.status.busy": "2023-02-13T08:03:36.793896Z",
     "iopub.status.idle": "2023-02-13T08:03:37.161494Z",
     "shell.execute_reply": "2023-02-13T08:03:37.160297Z"
    },
    "papermill": {
     "duration": 0.373845,
     "end_time": "2023-02-13T08:03:37.164344",
     "exception": false,
     "start_time": "2023-02-13T08:03:36.790499",
     "status": "completed"
    },
    "tags": []
   },
   "outputs": [],
   "source": [
    "tr_filepaths: list = []\n",
    "tr_labels: list = []\n",
    "\n",
    "folders: list = sorted([name for name in os.listdir(f\"{BASE_PATH}\") if \"txt\" not in name])\n",
    "\n",
    "i: int = 0\n",
    "for folder in folders:\n",
    "    for filename in os.listdir(f\"{BASE_PATH}/{folder}\"):\n",
    "        tr_filepaths.append(os.path.join(f\"{BASE_PATH}/{folder}\", filename))\n",
    "        tr_labels.append(i)\n",
    "    i += 1\n",
    "    \n",
    "tr_df.filepaths = tr_filepaths\n",
    "tr_df.labels = tr_labels\n",
    "tr_df.to_csv(\"train.csv\", index=False)"
   ]
  },
  {
   "cell_type": "code",
   "execution_count": 4,
   "id": "c3464f74",
   "metadata": {
    "execution": {
     "iopub.execute_input": "2023-02-13T08:03:37.170512Z",
     "iopub.status.busy": "2023-02-13T08:03:37.170095Z",
     "iopub.status.idle": "2023-02-13T08:03:37.176178Z",
     "shell.execute_reply": "2023-02-13T08:03:37.175024Z"
    },
    "papermill": {
     "duration": 0.012005,
     "end_time": "2023-02-13T08:03:37.178560",
     "exception": false,
     "start_time": "2023-02-13T08:03:37.166555",
     "status": "completed"
    },
    "tags": []
   },
   "outputs": [],
   "source": [
    "labels: dict = dict()\n",
    "\n",
    "i = 0\n",
    "for folder in folders:\n",
    "    labels[i] = folder\n",
    "    i += 1\n",
    "\n",
    "json.dump(labels, open(\"labels.json\", \"w\"))"
   ]
  }
 ],
 "metadata": {
  "kernelspec": {
   "display_name": "Python 3",
   "language": "python",
   "name": "python3"
  },
  "language_info": {
   "codemirror_mode": {
    "name": "ipython",
    "version": 3
   },
   "file_extension": ".py",
   "mimetype": "text/x-python",
   "name": "python",
   "nbconvert_exporter": "python",
   "pygments_lexer": "ipython3",
   "version": "3.7.12"
  },
  "papermill": {
   "default_parameters": {},
   "duration": 15.382386,
   "end_time": "2023-02-13T08:03:40.528734",
   "environment_variables": {},
   "exception": null,
   "input_path": "__notebook__.ipynb",
   "output_path": "__notebook__.ipynb",
   "parameters": {},
   "start_time": "2023-02-13T08:03:25.146348",
   "version": "2.3.4"
  }
 },
 "nbformat": 4,
 "nbformat_minor": 5
}
