{
 "cells": [
  {
   "cell_type": "markdown",
   "id": "69a15663",
   "metadata": {
    "_cell_guid": "b1076dfc-b9ad-4769-8c92-a6c4dae69d19",
    "_uuid": "8f2839f25d086af736a60e9eeb907d3b93b6e0e5",
    "papermill": {
     "duration": 0.004824,
     "end_time": "2023-02-13T16:48:01.443226",
     "exception": false,
     "start_time": "2023-02-13T16:48:01.438402",
     "status": "completed"
    },
    "tags": []
   },
   "source": [
    "### **Setup**"
   ]
  },
  {
   "cell_type": "code",
   "execution_count": 1,
   "id": "e082b3cd",
   "metadata": {
    "execution": {
     "iopub.execute_input": "2023-02-13T16:48:01.456299Z",
     "iopub.status.busy": "2023-02-13T16:48:01.455108Z",
     "iopub.status.idle": "2023-02-13T16:48:11.554961Z",
     "shell.execute_reply": "2023-02-13T16:48:11.553793Z"
    },
    "papermill": {
     "duration": 10.107988,
     "end_time": "2023-02-13T16:48:11.557253",
     "exception": false,
     "start_time": "2023-02-13T16:48:01.449265",
     "status": "completed"
    },
    "tags": []
   },
   "outputs": [
    {
     "name": "stderr",
     "output_type": "stream",
     "text": [
      "WARNING: Running pip as the 'root' user can result in broken permissions and conflicting behaviour with the system package manager. It is recommended to use a virtual environment instead: https://pip.pypa.io/warnings/venv\n"
     ]
    }
   ],
   "source": [
    "%%bash\n",
    "pip install timm -q"
   ]
  },
  {
   "cell_type": "markdown",
   "id": "170b0b6d",
   "metadata": {
    "papermill": {
     "duration": 0.00336,
     "end_time": "2023-02-13T16:48:11.564576",
     "exception": false,
     "start_time": "2023-02-13T16:48:11.561216",
     "status": "completed"
    },
    "tags": []
   },
   "source": [
    "### **Library Imports**"
   ]
  },
  {
   "cell_type": "code",
   "execution_count": 2,
   "id": "600c200f",
   "metadata": {
    "execution": {
     "iopub.execute_input": "2023-02-13T16:48:11.573324Z",
     "iopub.status.busy": "2023-02-13T16:48:11.572995Z",
     "iopub.status.idle": "2023-02-13T16:48:15.583239Z",
     "shell.execute_reply": "2023-02-13T16:48:15.582178Z"
    },
    "papermill": {
     "duration": 4.017683,
     "end_time": "2023-02-13T16:48:15.585768",
     "exception": false,
     "start_time": "2023-02-13T16:48:11.568085",
     "status": "completed"
    },
    "tags": []
   },
   "outputs": [],
   "source": [
    "import os\n",
    "import re\n",
    "import cv2\n",
    "import timm\n",
    "import torch\n",
    "import numpy as np\n",
    "import pandas as pd\n",
    "import matplotlib.pyplot as plt\n",
    "\n",
    "from time import time\n",
    "from typing import Union\n",
    "from torch import nn, optim\n",
    "from torch.utils.data import Dataset\n",
    "from torch.utils.data import DataLoader as DL\n",
    "from torchvision import models, transforms\n",
    "\n",
    "from sklearn.model_selection import KFold"
   ]
  },
  {
   "cell_type": "markdown",
   "id": "9196d8f7",
   "metadata": {
    "papermill": {
     "duration": 0.003685,
     "end_time": "2023-02-13T16:48:15.593631",
     "exception": false,
     "start_time": "2023-02-13T16:48:15.589946",
     "status": "completed"
    },
    "tags": []
   },
   "source": [
    "### **Utilities and Helpers**"
   ]
  },
  {
   "cell_type": "code",
   "execution_count": 3,
   "id": "7a9bcb6e",
   "metadata": {
    "execution": {
     "iopub.execute_input": "2023-02-13T16:48:15.602531Z",
     "iopub.status.busy": "2023-02-13T16:48:15.602210Z",
     "iopub.status.idle": "2023-02-13T16:48:15.615902Z",
     "shell.execute_reply": "2023-02-13T16:48:15.615024Z"
    },
    "papermill": {
     "duration": 0.020643,
     "end_time": "2023-02-13T16:48:15.617945",
     "exception": false,
     "start_time": "2023-02-13T16:48:15.597302",
     "status": "completed"
    },
    "tags": []
   },
   "outputs": [],
   "source": [
    "SEED: int = 42\n",
    "SIZE: int = 384\n",
    "\n",
    "\n",
    "def breaker(num: int=50, char: str=\"*\") -> None:\n",
    "    print(\"\\n\" + num*char + \"\\n\")\n",
    "\n",
    "    \n",
    "def get_image(path: str, size: int=224) -> np.ndarray:\n",
    "    image = cv2.imread(path, cv2.IMREAD_COLOR)\n",
    "    image = cv2.cvtColor(src=image, code=cv2.COLOR_BGR2RGB)\n",
    "    return cv2.resize(src=image, dsize=(size, size), interpolation=cv2.INTER_AREA)\n",
    "\n",
    "    \n",
    "def show_loss_graphs(L: list) -> None:\n",
    "    TL, VL = [], []\n",
    "    for i in range(len(L)):\n",
    "        TL.append(L[i][\"train\"])\n",
    "        VL.append(L[i][\"valid\"])\n",
    "    x_Axis = np.arange(1, len(TL) + 1)\n",
    "    plt.figure()\n",
    "    plt.plot(x_Axis, TL, \"r\", label=\"Train\")\n",
    "    plt.plot(x_Axis, VL, \"b\", label=\"Valid\")\n",
    "    plt.legend()\n",
    "    plt.grid()\n",
    "    plt.title(\"Loss Graph\")\n",
    "    plt.show()\n",
    "\n",
    "    \n",
    "def show_accuracy_graphs(A: list) -> None:\n",
    "    TA, VA = [], []\n",
    "    for i in range(len(A)):\n",
    "        TA.append(A[i][\"train\"])\n",
    "        VA.append(A[i][\"valid\"])\n",
    "    x_Axis = np.arange(1, len(TA) + 1)\n",
    "    plt.figure()\n",
    "    plt.plot(x_Axis, TA, \"r\", label=\"Train\")\n",
    "    plt.plot(x_Axis, VA, \"b\", label=\"Valid\")\n",
    "    plt.legend()\n",
    "    plt.grid()\n",
    "    plt.title(\"Accuracy Graph\")\n",
    "    plt.show()\n",
    "    \n",
    "\n",
    "def show_lr_graph(LR: list) -> None:\n",
    "    x_Axis = [i+1 for i in range(len(LR))]\n",
    "    plt.figure(figsize=(8, 6))\n",
    "    plt.plot(x_Axis, LR, \"rx\")\n",
    "    plt.grid()\n",
    "    plt.show()"
   ]
  },
  {
   "cell_type": "markdown",
   "id": "468b8084",
   "metadata": {
    "papermill": {
     "duration": 0.003547,
     "end_time": "2023-02-13T16:48:15.625230",
     "exception": false,
     "start_time": "2023-02-13T16:48:15.621683",
     "status": "completed"
    },
    "tags": []
   },
   "source": [
    "\n",
    "\n",
    "### **Configuration**"
   ]
  },
  {
   "cell_type": "code",
   "execution_count": 4,
   "id": "72ec683d",
   "metadata": {
    "execution": {
     "iopub.execute_input": "2023-02-13T16:48:15.634124Z",
     "iopub.status.busy": "2023-02-13T16:48:15.633835Z",
     "iopub.status.idle": "2023-02-13T16:48:15.712651Z",
     "shell.execute_reply": "2023-02-13T16:48:15.711675Z"
    },
    "papermill": {
     "duration": 0.085829,
     "end_time": "2023-02-13T16:48:15.714671",
     "exception": false,
     "start_time": "2023-02-13T16:48:15.628842",
     "status": "completed"
    },
    "tags": []
   },
   "outputs": [],
   "source": [
    "class CFG(object):\n",
    "    def __init__(\n",
    "        self, \n",
    "        seed: int = 42,\n",
    "        size: int = 224,\n",
    "        n_splits: int = 5,\n",
    "        batch_size: int = 16,\n",
    "        epochs: int = 25,\n",
    "        early_stopping: int = 5,\n",
    "        lr: float = 1e-4,\n",
    "        wd: float = 0.0,\n",
    "        max_lr: float = 1e-3,\n",
    "        pct_start: float = 0.2,\n",
    "        steps_per_epoch: int = 100,\n",
    "        div_factor: int = 1e3, \n",
    "        final_div_factor: float = 1e3,\n",
    "    ):\n",
    "        self.seed = seed\n",
    "        self.size = size\n",
    "        self.n_splits = n_splits\n",
    "        self.batch_size = batch_size\n",
    "        self.epochs = epochs\n",
    "        self.early_stopping = early_stopping\n",
    "        self.lr = lr\n",
    "        self.wd = wd\n",
    "        self.max_lr = max_lr\n",
    "        self.pct_start = pct_start\n",
    "        self.steps_per_epoch = steps_per_epoch\n",
    "        self.div_factor = div_factor\n",
    "        self.final_div_factor = final_div_factor\n",
    "        self.device = torch.device(\"cuda\" if torch.cuda.is_available() else \"cpu\")\n",
    "        \n",
    "        if self.size == 224:\n",
    "            self.train_transform = transforms.Compose([\n",
    "                transforms.ToTensor(),\n",
    "                transforms.Normalize([0.46030, 0.46723, 0.44280], [0.21070, 0.20513, 0.22681]),\n",
    "                transforms.RandomAffine(degrees=(-45, 45), translate=(0.15, 0.15), scale=(0.5, 1.5)),\n",
    "                transforms.RandomHorizontalFlip(p=0.25),\n",
    "                transforms.RandomVerticalFlip(p=0.25),\n",
    "            ])\n",
    "            self.valid_transform = transforms.Compose([\n",
    "                transforms.ToTensor(),\n",
    "                transforms.Normalize([0.46030, 0.46723, 0.44280], [0.21070, 0.20513, 0.22681]),\n",
    "            ])\n",
    "        \n",
    "        if self.size == 384:\n",
    "            self.train_transform = transforms.Compose([\n",
    "                transforms.ToTensor(),\n",
    "                transforms.Normalize([0.46023, 0.46716, 0.44273], [0.21309, 0.20754, 0.22900]),\n",
    "                transforms.RandomAffine(degrees=(-45, 45), translate=(0.15, 0.15), scale=(0.5, 1.5)),\n",
    "                transforms.RandomHorizontalFlip(p=0.25),\n",
    "                transforms.RandomVerticalFlip(p=0.25),\n",
    "            ])\n",
    "            self.valid_transform = transforms.Compose([\n",
    "                transforms.ToTensor(),\n",
    "                transforms.Normalize([0.46023, 0.46716, 0.44273], [0.21309, 0.20754, 0.22900]),\n",
    "            ])\n",
    "        \n",
    "        if self.size == 512:\n",
    "            self.train_transform = transforms.Compose([\n",
    "                transforms.ToTensor(),\n",
    "                transforms.Normalize([0.46027, 0.46720, 0.44277], [0.21400, 0.20846, 0.22984]),\n",
    "                transforms.RandomAffine(degrees=(-45, 45), translate=(0.15, 0.15), scale=(0.5, 1.5)),\n",
    "                transforms.RandomHorizontalFlip(p=0.25),\n",
    "                transforms.RandomVerticalFlip(p=0.25),\n",
    "            ])\n",
    "            self.valid_transform = transforms.Compose([\n",
    "                transforms.ToTensor(),\n",
    "                transforms.Normalize([0.46027, 0.46720, 0.44277], [0.21400, 0.20846, 0.22984]),\n",
    "            ])\n",
    "              \n",
    "        self.save_path = \"saves\"\n",
    "        if not os.path.exists(self.save_path): os.makedirs(self.save_path)\n",
    "    \n",
    "cfg = CFG(\n",
    "    seed=SEED,\n",
    "    size=SIZE,\n",
    ")"
   ]
  },
  {
   "cell_type": "markdown",
   "id": "48a36923",
   "metadata": {
    "papermill": {
     "duration": 0.003568,
     "end_time": "2023-02-13T16:48:15.722257",
     "exception": false,
     "start_time": "2023-02-13T16:48:15.718689",
     "status": "completed"
    },
    "tags": []
   },
   "source": [
    "### **Dataset Template**"
   ]
  },
  {
   "cell_type": "code",
   "execution_count": 5,
   "id": "4fd573ec",
   "metadata": {
    "execution": {
     "iopub.execute_input": "2023-02-13T16:48:15.731427Z",
     "iopub.status.busy": "2023-02-13T16:48:15.730571Z",
     "iopub.status.idle": "2023-02-13T16:48:15.737618Z",
     "shell.execute_reply": "2023-02-13T16:48:15.736724Z"
    },
    "papermill": {
     "duration": 0.013709,
     "end_time": "2023-02-13T16:48:15.739649",
     "exception": false,
     "start_time": "2023-02-13T16:48:15.725940",
     "status": "completed"
    },
    "tags": []
   },
   "outputs": [],
   "source": [
    "class DS(Dataset):\n",
    "    def __init__(\n",
    "        self, \n",
    "        filepaths: np.ndarray, \n",
    "        size: int,\n",
    "        labels: Union[np.ndarray, None]=None, \n",
    "        transform=None\n",
    "    ):\n",
    "        \n",
    "        self.filepaths = filepaths\n",
    "        self.size = size\n",
    "        self.labels = labels\n",
    "        self.transform = transform\n",
    "    \n",
    "    def __len__(self):\n",
    "        return self.filepaths.shape[0]\n",
    "    \n",
    "    def __getitem__(self, idx):\n",
    "        image = get_image(self.filepaths[idx], self.size)\n",
    "        if self.labels is None:\n",
    "            return self.transform(image)\n",
    "        return self.transform(image), torch.FloatTensor(self.labels[idx])"
   ]
  },
  {
   "cell_type": "markdown",
   "id": "364d195d",
   "metadata": {
    "papermill": {
     "duration": 0.003631,
     "end_time": "2023-02-13T16:48:15.747197",
     "exception": false,
     "start_time": "2023-02-13T16:48:15.743566",
     "status": "completed"
    },
    "tags": []
   },
   "source": [
    "### **Model**"
   ]
  },
  {
   "cell_type": "code",
   "execution_count": 6,
   "id": "b181fddb",
   "metadata": {
    "execution": {
     "iopub.execute_input": "2023-02-13T16:48:15.755846Z",
     "iopub.status.busy": "2023-02-13T16:48:15.755557Z",
     "iopub.status.idle": "2023-02-13T16:48:15.761377Z",
     "shell.execute_reply": "2023-02-13T16:48:15.760402Z"
    },
    "papermill": {
     "duration": 0.012427,
     "end_time": "2023-02-13T16:48:15.763376",
     "exception": false,
     "start_time": "2023-02-13T16:48:15.750949",
     "status": "completed"
    },
    "tags": []
   },
   "outputs": [],
   "source": [
    "class Model(nn.Module):\n",
    "    def __init__(self):\n",
    "        super(Model, self).__init__()\n",
    "            \n",
    "        self.model = timm.create_model(model_name=\"efficientnet_b4\", pretrained=True)\n",
    "        self.model.classifier = nn.Linear(in_features=self.model.classifier.in_features, out_features=1)\n",
    "\n",
    "    def forward(self, x):\n",
    "        return self.model(x)"
   ]
  },
  {
   "cell_type": "markdown",
   "id": "a0dfad95",
   "metadata": {
    "papermill": {
     "duration": 0.003738,
     "end_time": "2023-02-13T16:48:15.770937",
     "exception": false,
     "start_time": "2023-02-13T16:48:15.767199",
     "status": "completed"
    },
    "tags": []
   },
   "source": [
    "### **Fit and Predict**"
   ]
  },
  {
   "cell_type": "code",
   "execution_count": 7,
   "id": "425932a9",
   "metadata": {
    "execution": {
     "iopub.execute_input": "2023-02-13T16:48:15.780177Z",
     "iopub.status.busy": "2023-02-13T16:48:15.779692Z",
     "iopub.status.idle": "2023-02-13T16:48:15.800908Z",
     "shell.execute_reply": "2023-02-13T16:48:15.800043Z"
    },
    "papermill": {
     "duration": 0.028194,
     "end_time": "2023-02-13T16:48:15.802853",
     "exception": false,
     "start_time": "2023-02-13T16:48:15.774659",
     "status": "completed"
    },
    "tags": []
   },
   "outputs": [],
   "source": [
    "def fit(\n",
    "    model=None,\n",
    "    optimizer=None, \n",
    "    scheduler_rlrop=None,\n",
    "    scheduler_oclr=None,\n",
    "    epochs=None, \n",
    "    early_stopping_patience=None, \n",
    "    dataloaders=None, \n",
    "    fold=None, \n",
    "    save_path=None,\n",
    "    device=None,\n",
    "    verbose=False\n",
    ") -> tuple:\n",
    "    \n",
    "    def get_accuracy(y_pred, y_true):\n",
    "        y_pred = torch.sigmoid(y_pred)\n",
    "        \n",
    "        y_pred[y_pred > 0.5] = 1\n",
    "        y_pred[y_pred <= 0.5] = 0\n",
    "        \n",
    "        return torch.count_nonzero(y_pred == y_true).item() / len(y_pred)\n",
    "    \n",
    "    \n",
    "    if verbose:\n",
    "        breaker()\n",
    "        if fold: print(f\"Training Fold {fold}...\")\n",
    "        else: print(\"Training ...\")\n",
    "        breaker()\n",
    "        \n",
    "    bestLoss: dict = {\"train\" : np.inf, \"valid\" : np.inf} \n",
    "    bestAccs: dict = {\"train\" : 0.0, \"valid\" : 0.0}\n",
    "    \n",
    "    Losses: list = []\n",
    "    Accuracies: list = [] \n",
    "    LRs: list = []\n",
    "        \n",
    "    if fold: \n",
    "        ble_name = f\"ble_state_fold_{fold}.pt\"\n",
    "        bae_name = f\"bae_state_fold_{fold}.pt\"\n",
    "    else: \n",
    "        ble_name = f\"ble_state.pt\"\n",
    "        bae_name = f\"bae_state.pt\"\n",
    "        \n",
    "    start_time = time()\n",
    "    for e in range(epochs):\n",
    "        e_st = time()\n",
    "        epochLoss: dict = {\"train\" : 0.0, \"valid\" : 0.0} \n",
    "        epochAccs: dict = {\"train\" : 0.0, \"valid\" : 0.0}\n",
    "\n",
    "        for phase in [\"train\", \"valid\"]:\n",
    "            if phase == \"train\":\n",
    "                model.train()\n",
    "            else:\n",
    "                model.eval()\n",
    "            \n",
    "            lossPerPass: list = []\n",
    "            accsPerPass: list = []\n",
    "                \n",
    "            for X, y in dataloaders[phase]:\n",
    "                X, y = X.to(device), y.to(device)\n",
    "\n",
    "                optimizer.zero_grad()\n",
    "                with torch.set_grad_enabled(phase == \"train\"):\n",
    "                    output = model(X)\n",
    "                    loss = torch.nn.BCEWithLogitsLoss()(output, y)\n",
    "                    if phase == \"train\":\n",
    "                        loss.backward()\n",
    "                        optimizer.step()\n",
    "                        if scheduler_oclr: scheduler_oclr.step()\n",
    "                lossPerPass.append(loss.item())\n",
    "                accsPerPass.append(get_accuracy(output, y))\n",
    "            epochLoss[phase] = np.mean(np.array(lossPerPass))\n",
    "            epochAccs[phase] = np.mean(np.array(accsPerPass))\n",
    "        if scheduler_oclr: LRs.append(scheduler_oclr.get_last_lr())\n",
    "        Losses.append(epochLoss)\n",
    "        Accuracies.append(epochAccs)\n",
    "        \n",
    "        if scheduler_oclr:\n",
    "            save_dict = {\"model_state_dict\"     : model.state_dict(),\n",
    "                         \"optim_state_dict\"     : optimizer.state_dict(),\n",
    "                         \"scheduler_state_dict\" : scheduler_oclr.state_dict()}\n",
    "        \n",
    "        elif scheduler_rlrop:\n",
    "            save_dict = {\"model_state_dict\"     : model.state_dict(),\n",
    "                         \"optim_state_dict\"     : optimizer.state_dict(),\n",
    "                         \"scheduler_state_dict\" : scheduler_rlrop.state_dict()}\n",
    "        \n",
    "        else:\n",
    "            save_dict = {\"model_state_dict\"     : model.state_dict(),\n",
    "                         \"optim_state_dict\"     : optimizer.state_dict()}\n",
    "        \n",
    "        if early_stopping_patience:\n",
    "            if epochLoss[\"valid\"] < bestLoss[\"valid\"]:\n",
    "                bestLoss = epochLoss\n",
    "                BLE = e + 1\n",
    "                torch.save(save_dict, os.path.join(save_path, ble_name))\n",
    "                torch.save(save_dict, os.path.join(save_path, bae_name))\n",
    "                early_stopping_step = 0\n",
    "            else:\n",
    "                early_stopping_step += 1\n",
    "                if early_stopping_step > early_stopping_patience:\n",
    "                    print(\"\\nEarly Stopping at Epoch {}\".format(e + 1))\n",
    "                    break\n",
    "        \n",
    "        if epochLoss[\"valid\"] < bestLoss[\"valid\"]:\n",
    "            bestLoss = epochLoss\n",
    "            BLE = e + 1\n",
    "            torch.save(save_dict,os.path.join(save_path, ble_name))\n",
    "        \n",
    "        if epochAccs[\"valid\"] > bestAccs[\"valid\"]:\n",
    "            bestAccs = epochAccs\n",
    "            BAE = e + 1\n",
    "            torch.save(save_dict,os.path.join(save_path, bae_name))\n",
    "        \n",
    "        if scheduler_rlrop: scheduler_rlrop.step(epochLoss[\"valid\"])\n",
    "        \n",
    "        if verbose:\n",
    "            print(\"Epoch: {} | Train Loss: {:.5f} | Valid Loss: {:.5f} |\\\n",
    " Train Accs: {:.5f} | Valid Accs: {:.5f} | Time: {:.2f} seconds\".format(e+1, \n",
    "                                                                        epochLoss[\"train\"], epochLoss[\"valid\"], \n",
    "                                                                        epochAccs[\"train\"], epochAccs[\"valid\"], \n",
    "                                                                        time()-e_st))\n",
    "\n",
    "    if verbose:                                           \n",
    "        breaker()\n",
    "        print(f\"Best Validation Loss at Epoch {BLE}\")\n",
    "        breaker()\n",
    "        print(f\"Best Validation Accs at Epoch {BAE}\")\n",
    "        breaker()\n",
    "        print(\"Time Taken [{} Epochs] : {:.2f} minutes\".format(len(Losses), (time()-start_time)/60))\n",
    "    \n",
    "    return Losses, Accuracies, LRs, bestLoss, bestAccs, BLE, BAE, ble_name, bae_name\n",
    "\n",
    "\n",
    "# def predict_batch(model=None, dataloader=None, path=None, device=None) -> np.ndarray:\n",
    "#     model.load_state_dict(torch.load(path, map_location=device)[\"model_state_dict\"])\n",
    "#     model.to(device)    \n",
    "#     model.eval()\n",
    "    \n",
    "#     y_pred = torch.zeros(1, 1).to(device)\n",
    "    \n",
    "#     for X in dataloader:\n",
    "#         X = X.to(device)\n",
    "#         with torch.no_grad():\n",
    "#             output = torch.sigmoid(model(X))\n",
    "#         y_pred = torch.cat((y_pred, output.view(-1, 1)), dim=0)\n",
    "    \n",
    "#     # y_pred[y_pred > 0.5] = 1\n",
    "#     # y_pred[y_pred <= 0.5] = 0\n",
    "    \n",
    "#     return y_pred[1:].detach().cpu().numpy()"
   ]
  },
  {
   "cell_type": "markdown",
   "id": "5c3a26f5",
   "metadata": {
    "papermill": {
     "duration": 0.004647,
     "end_time": "2023-02-13T16:48:15.811579",
     "exception": false,
     "start_time": "2023-02-13T16:48:15.806932",
     "status": "completed"
    },
    "tags": []
   },
   "source": [
    "### **Train**"
   ]
  },
  {
   "cell_type": "code",
   "execution_count": 8,
   "id": "d6420d0c",
   "metadata": {
    "execution": {
     "iopub.execute_input": "2023-02-13T16:48:15.821464Z",
     "iopub.status.busy": "2023-02-13T16:48:15.820578Z",
     "iopub.status.idle": "2023-02-13T16:48:15.890110Z",
     "shell.execute_reply": "2023-02-13T16:48:15.889043Z"
    },
    "papermill": {
     "duration": 0.079373,
     "end_time": "2023-02-13T16:48:15.894989",
     "exception": false,
     "start_time": "2023-02-13T16:48:15.815616",
     "status": "completed"
    },
    "tags": []
   },
   "outputs": [],
   "source": [
    "df = pd.read_csv(\"/kaggle/input/ercd-dataframe/train.csv\")\n",
    "\n",
    "filepaths = df.filepaths.copy().values\n",
    "labels = df.labels.copy().values"
   ]
  },
  {
   "cell_type": "code",
   "execution_count": 9,
   "id": "ad1415d2",
   "metadata": {
    "execution": {
     "iopub.execute_input": "2023-02-13T16:48:15.911630Z",
     "iopub.status.busy": "2023-02-13T16:48:15.911284Z",
     "iopub.status.idle": "2023-02-13T17:40:57.391468Z",
     "shell.execute_reply": "2023-02-13T17:40:57.389616Z"
    },
    "papermill": {
     "duration": 3161.492188,
     "end_time": "2023-02-13T17:40:57.394680",
     "exception": false,
     "start_time": "2023-02-13T16:48:15.902492",
     "status": "completed"
    },
    "tags": []
   },
   "outputs": [
    {
     "name": "stderr",
     "output_type": "stream",
     "text": [
      "Downloading: \"https://github.com/rwightman/pytorch-image-models/releases/download/v0.1-weights/efficientnet_b4_ra2_320-7eb33cd5.pth\" to /root/.cache/torch/hub/checkpoints/efficientnet_b4_ra2_320-7eb33cd5.pth\n"
     ]
    },
    {
     "name": "stdout",
     "output_type": "stream",
     "text": [
      "\n",
      "**************************************************\n",
      "\n",
      "Training Fold 4...\n",
      "\n",
      "**************************************************\n",
      "\n",
      "Epoch: 1 | Train Loss: 0.35202 | Valid Loss: 0.05317 | Train Accs: 0.85232 | Valid Accs: 0.97868 | Time: 381.13 seconds\n",
      "Epoch: 2 | Train Loss: 0.09468 | Valid Loss: 0.05173 | Train Accs: 0.96792 | Valid Accs: 0.98088 | Time: 308.55 seconds\n",
      "Epoch: 3 | Train Loss: 0.08290 | Valid Loss: 0.05767 | Train Accs: 0.97290 | Valid Accs: 0.98529 | Time: 307.90 seconds\n",
      "Epoch: 4 | Train Loss: 0.05773 | Valid Loss: 0.02519 | Train Accs: 0.98212 | Valid Accs: 0.99338 | Time: 310.06 seconds\n",
      "Epoch: 5 | Train Loss: 0.03668 | Valid Loss: 0.03910 | Train Accs: 0.98912 | Valid Accs: 0.98897 | Time: 310.85 seconds\n",
      "Epoch: 6 | Train Loss: 0.02881 | Valid Loss: 0.04119 | Train Accs: 0.99060 | Valid Accs: 0.99118 | Time: 307.85 seconds\n",
      "Epoch: 7 | Train Loss: 0.01397 | Valid Loss: 0.04244 | Train Accs: 0.99521 | Valid Accs: 0.99044 | Time: 306.41 seconds\n",
      "Epoch: 8 | Train Loss: 0.01864 | Valid Loss: 0.04182 | Train Accs: 0.99558 | Valid Accs: 0.99044 | Time: 306.91 seconds\n",
      "Epoch: 9 | Train Loss: 0.01187 | Valid Loss: 0.03593 | Train Accs: 0.99539 | Valid Accs: 0.99044 | Time: 304.31 seconds\n",
      "\n",
      "Early Stopping at Epoch 10\n",
      "\n",
      "**************************************************\n",
      "\n",
      "Best Validation Loss at Epoch 4\n",
      "\n",
      "**************************************************\n",
      "\n",
      "Best Validation Accs at Epoch 4\n",
      "\n",
      "**************************************************\n",
      "\n",
      "Time Taken [10 Epochs] : 52.54 minutes\n",
      "\n",
      "**************************************************\n",
      "\n"
     ]
    },
    {
     "data": {
      "image/png": "[encoded data removed]",
      "text/plain": [
       "<Figure size 432x288 with 1 Axes>"
      ]
     },
     "metadata": {
      "needs_background": "light"
     },
     "output_type": "display_data"
    },
    {
     "name": "stdout",
     "output_type": "stream",
     "text": [
      "\n",
      "**************************************************\n",
      "\n"
     ]
    },
    {
     "data": {
      "image/png": "[encoded data removed]",
      "text/plain": [
       "<Figure size 432x288 with 1 Axes>"
      ]
     },
     "metadata": {
      "needs_background": "light"
     },
     "output_type": "display_data"
    },
    {
     "name": "stdout",
     "output_type": "stream",
     "text": [
      "\n",
      "**************************************************\n",
      "\n"
     ]
    },
    {
     "data": {
      "image/png": "[encoded data removed]",
      "text/plain": [
       "<Figure size 576x432 with 1 Axes>"
      ]
     },
     "metadata": {
      "needs_background": "light"
     },
     "output_type": "display_data"
    },
    {
     "name": "stdout",
     "output_type": "stream",
     "text": [
      "\n",
      "**************************************************\n",
      "\n"
     ]
    }
   ],
   "source": [
    "fold: int = 1\n",
    "BLs: list = []\n",
    "BAs: list = []\n",
    "    \n",
    "cfg.batch_size = 16\n",
    "cfg.epochs = 10\n",
    "    \n",
    "for tr_idx, va_idx in KFold(n_splits=cfg.n_splits, random_state=cfg.seed, shuffle=True).split(filepaths):\n",
    "    if fold == 4: break\n",
    "    fold += 1\n",
    "    \n",
    "tr_filepaths, va_filepaths = filepaths[tr_idx], filepaths[va_idx] \n",
    "tr_labels, va_labels       = labels[tr_idx], labels[va_idx]\n",
    "\n",
    "tr_data_setup = DS(\n",
    "    filepaths=tr_filepaths, \n",
    "    size=cfg.size,\n",
    "    labels=tr_labels.reshape(-1, 1),\n",
    "    transform=cfg.train_transform\n",
    ")\n",
    "\n",
    "va_data_setup = DS(\n",
    "    filepaths=va_filepaths,\n",
    "    size=cfg.size,\n",
    "    labels=va_labels.reshape(-1, 1),\n",
    "    transform=cfg.valid_transform\n",
    ")\n",
    "\n",
    "dataloaders = {\n",
    "    \"train\" : DL(tr_data_setup, batch_size=cfg.batch_size, shuffle=True, generator=torch.manual_seed(cfg.seed)),\n",
    "    \"valid\" : DL(va_data_setup, batch_size=cfg.batch_size, shuffle=False),\n",
    "}\n",
    "\n",
    "cfg.steps_per_epoch=len(dataloaders[\"train\"])\n",
    "\n",
    "torch.manual_seed(cfg.seed)\n",
    "model = Model().to(cfg.device)\n",
    "\n",
    "optimizer = optim.Adam([p for p in model.parameters() if p.requires_grad], lr=cfg.lr, weight_decay=cfg.wd)\n",
    "# optimizer = optim.AdamW([p for p in model.parameters() if p.requires_grad], lr=cfg.lr, weight_decay=cfg.wd)\n",
    "# optimizer = optim.SGD([p for p in model.parameters() if p.requires_grad], lr=cfg.lr, weight_decay=cfg.wd, momentum=0.9)\n",
    "\n",
    "scheduler_oclr = optim.lr_scheduler.OneCycleLR(\n",
    "    optimizer=optimizer, \n",
    "    max_lr=cfg.max_lr, \n",
    "    epochs=cfg.epochs, \n",
    "    steps_per_epoch=cfg.steps_per_epoch,\n",
    "    pct_start=cfg.pct_start, \n",
    "    div_factor=cfg.div_factor, \n",
    "    final_div_factor=cfg.final_div_factor\n",
    ")\n",
    "\n",
    "# scheduler_rlrop = optim.lr_scheduler.ReduceLROnPlateau(\n",
    "#     optimizer=optimizer,\n",
    "#     patience=cfg.patience,\n",
    "#     eps=cfg.eps,\n",
    "#     verbose=True\n",
    "# )\n",
    "\n",
    "# scheduler_oclr = None\n",
    "scheduler_rlrop = None\n",
    "\n",
    "\n",
    "L, A, LR, BL, BA, _, _, _, _ = fit(\n",
    "    model=model, \n",
    "    optimizer=optimizer, \n",
    "    scheduler_oclr=scheduler_oclr,\n",
    "    scheduler_rlrop=scheduler_rlrop,\n",
    "    epochs=cfg.epochs, \n",
    "    early_stopping_patience=cfg.early_stopping, \n",
    "    dataloaders=dataloaders, \n",
    "    device=cfg.device,\n",
    "    save_path=cfg.save_path,\n",
    "    fold=fold,\n",
    "    verbose=True\n",
    ")\n",
    "\n",
    "\n",
    "breaker()\n",
    "show_loss_graphs(L)\n",
    "breaker()\n",
    "show_accuracy_graphs(A)\n",
    "breaker()\n",
    "if scheduler_oclr:\n",
    "    show_lr_graph(LR)\n",
    "    breaker()\n",
    "\n",
    "#         BLs.append(BL)\n",
    "#         BAs.append(BA)\n",
    "\n",
    "#         fold += 1"
   ]
  },
  {
   "cell_type": "markdown",
   "id": "fb904865",
   "metadata": {
    "papermill": {
     "duration": 0.006956,
     "end_time": "2023-02-13T17:40:57.411076",
     "exception": false,
     "start_time": "2023-02-13T17:40:57.404120",
     "status": "completed"
    },
    "tags": []
   },
   "source": [
    "### **Best Model**"
   ]
  },
  {
   "cell_type": "code",
   "execution_count": 10,
   "id": "4ca16401",
   "metadata": {
    "execution": {
     "iopub.execute_input": "2023-02-13T17:40:57.423166Z",
     "iopub.status.busy": "2023-02-13T17:40:57.422843Z",
     "iopub.status.idle": "2023-02-13T17:40:57.426775Z",
     "shell.execute_reply": "2023-02-13T17:40:57.425845Z"
    },
    "papermill": {
     "duration": 0.012499,
     "end_time": "2023-02-13T17:40:57.428917",
     "exception": false,
     "start_time": "2023-02-13T17:40:57.416418",
     "status": "completed"
    },
    "tags": []
   },
   "outputs": [],
   "source": [
    "# BL = np.inf\n",
    "# for i in range(len(BLs)):\n",
    "#     if BLs[i][\"valid\"] < BL:\n",
    "#         BL = BLs[i][\"valid\"]\n",
    "#         best_loss_index = i\n",
    "\n",
    "        \n",
    "# BA = 0.0\n",
    "# for i in range(len(BAs)):\n",
    "#     if BAs[i][\"valid\"] > BA:\n",
    "#         BA = BAs[i][\"valid\"]\n",
    "#         best_accs_index = i\n",
    "\n",
    "# breaker()\n",
    "# print(f\"Best Loss Model Fold     : {best_loss_index + 1}\")\n",
    "# print(f\"Best Accuracy Model Fold : {best_accs_index + 1}\")\n",
    "# breaker()"
   ]
  }
 ],
 "metadata": {
  "kernelspec": {
   "display_name": "Python 3",
   "language": "python",
   "name": "python3"
  },
  "language_info": {
   "codemirror_mode": {
    "name": "ipython",
    "version": 3
   },
   "file_extension": ".py",
   "mimetype": "text/x-python",
   "name": "python",
   "nbconvert_exporter": "python",
   "pygments_lexer": "ipython3",
   "version": "3.7.12"
  },
  "papermill": {
   "default_parameters": {},
   "duration": 3185.933544,
   "end_time": "2023-02-13T17:40:59.768269",
   "environment_variables": {},
   "exception": null,
   "input_path": "__notebook__.ipynb",
   "output_path": "__notebook__.ipynb",
   "parameters": {},
   "start_time": "2023-02-13T16:47:53.834725",
   "version": "2.3.4"
  }
 },
 "nbformat": 4,
 "nbformat_minor": 5
}
