{
 "cells": [
  {
   "cell_type": "code",
   "execution_count": 1,
   "id": "9037e01c",
   "metadata": {
    "_cell_guid": "b1076dfc-b9ad-4769-8c92-a6c4dae69d19",
    "_uuid": "8f2839f25d086af736a60e9eeb907d3b93b6e0e5",
    "execution": {
     "iopub.execute_input": "2023-02-14T05:22:44.842200Z",
     "iopub.status.busy": "2023-02-14T05:22:44.841392Z",
     "iopub.status.idle": "2023-02-14T05:23:19.748656Z",
     "shell.execute_reply": "2023-02-14T05:23:19.746921Z"
    },
    "papermill": {
     "duration": 34.919906,
     "end_time": "2023-02-14T05:23:19.753238",
     "exception": false,
     "start_time": "2023-02-14T05:22:44.833332",
     "status": "completed"
    },
    "tags": []
   },
   "outputs": [
    {
     "name": "stderr",
     "output_type": "stream",
     "text": [
      "WARNING: Running pip as the 'root' user can result in broken permissions and conflicting behaviour with the system package manager. It is recommended to use a virtual environment instead: https://pip.pypa.io/warnings/venv\n",
      "WARNING: Running pip as the 'root' user can result in broken permissions and conflicting behaviour with the system package manager. It is recommended to use a virtual environment instead: https://pip.pypa.io/warnings/venv\n",
      "WARNING: Running pip as the 'root' user can result in broken permissions and conflicting behaviour with the system package manager. It is recommended to use a virtual environment instead: https://pip.pypa.io/warnings/venv\n"
     ]
    }
   ],
   "source": [
    "%%bash\n",
    "pip install timm -q\n",
    "pip install onnx -q\n",
    "pip install onnxruntime -q"
   ]
  },
  {
   "cell_type": "code",
   "execution_count": 2,
   "id": "77cc59b4",
   "metadata": {
    "execution": {
     "iopub.execute_input": "2023-02-14T05:23:19.763555Z",
     "iopub.status.busy": "2023-02-14T05:23:19.763096Z",
     "iopub.status.idle": "2023-02-14T05:23:23.698874Z",
     "shell.execute_reply": "2023-02-14T05:23:23.697241Z"
    },
    "papermill": {
     "duration": 3.944912,
     "end_time": "2023-02-14T05:23:23.702127",
     "exception": false,
     "start_time": "2023-02-14T05:23:19.757215",
     "status": "completed"
    },
    "tags": []
   },
   "outputs": [],
   "source": [
    "import os\n",
    "import sys\n",
    "import cv2\n",
    "import json\n",
    "import onnx\n",
    "import timm\n",
    "import torch\n",
    "import random as r\n",
    "import numpy as np\n",
    "import pandas as pd\n",
    "import onnxruntime as ort\n",
    "import matplotlib.pyplot as plt\n",
    "\n",
    "from typing import Union\n",
    "from torchvision import models\n",
    "from IPython.display import clear_output\n",
    "\n",
    "import warnings\n",
    "warnings.filterwarnings(\"ignore\")\n",
    "\n",
    "if not os.path.exists(\"onnx\"): os.makedirs(\"onnx\")\n",
    "    \n",
    "ort.set_default_logger_severity(3)"
   ]
  },
  {
   "cell_type": "code",
   "execution_count": 3,
   "id": "f50bca3d",
   "metadata": {
    "execution": {
     "iopub.execute_input": "2023-02-14T05:23:23.710252Z",
     "iopub.status.busy": "2023-02-14T05:23:23.709799Z",
     "iopub.status.idle": "2023-02-14T05:23:23.718359Z",
     "shell.execute_reply": "2023-02-14T05:23:23.717116Z"
    },
    "papermill": {
     "duration": 0.015273,
     "end_time": "2023-02-14T05:23:23.720633",
     "exception": false,
     "start_time": "2023-02-14T05:23:23.705360",
     "status": "completed"
    },
    "tags": []
   },
   "outputs": [],
   "source": [
    "labels: dict = {\n",
    "    \"0\" : \"No Crack\",\n",
    "    \"1\" : \"Crack\",\n",
    "}\n",
    "\n",
    "def breaker() -> None:\n",
    "    print(\"\\n\" + 50*\"*\" + \"\\n\")\n",
    "\n",
    "    \n",
    "def sigmoid(x):\n",
    "    return 1 / (1 + np.exp(-x))\n",
    "\n",
    "\n",
    "def get_image(path: str, size: int=224) -> np.ndarray:\n",
    "    image = cv2.imread(path, cv2.IMREAD_COLOR)\n",
    "    image = cv2.cvtColor(src=image, code=cv2.COLOR_BGR2RGB)\n",
    "    return cv2.resize(src=image, dsize=(size, size), interpolation=cv2.INTER_AREA)"
   ]
  },
  {
   "cell_type": "code",
   "execution_count": 4,
   "id": "5ef01ef8",
   "metadata": {
    "execution": {
     "iopub.execute_input": "2023-02-14T05:23:23.729451Z",
     "iopub.status.busy": "2023-02-14T05:23:23.728153Z",
     "iopub.status.idle": "2023-02-14T05:23:23.738235Z",
     "shell.execute_reply": "2023-02-14T05:23:23.737002Z"
    },
    "papermill": {
     "duration": 0.016968,
     "end_time": "2023-02-14T05:23:23.740734",
     "exception": false,
     "start_time": "2023-02-14T05:23:23.723766",
     "status": "completed"
    },
    "tags": []
   },
   "outputs": [],
   "source": [
    "class Model(torch.nn.Module):\n",
    "    def __init__(self):\n",
    "        super(Model, self).__init__()\n",
    "        \n",
    "        self.model = timm.create_model(model_name=\"efficientnet_b4\", pretrained=False)\n",
    "        self.model.classifier = torch.nn.Linear(in_features=self.model.classifier.in_features, out_features=1)\n",
    "\n",
    "    def forward(self, x):\n",
    "        return self.model(x)\n",
    "\n",
    "    \n",
    "    \n",
    "class CFG(object):  \n",
    "    def __init__(\n",
    "        self, \n",
    "        in_channels: int=3, \n",
    "        size: int=256, \n",
    "        opset_version: int=9, \n",
    "        path: str=None\n",
    "    ):\n",
    "        self.in_channels = in_channels\n",
    "        self.size = size\n",
    "        self.dummy = torch.randn(1, self.in_channels, self.size, self.size)\n",
    "        self.opset_version = opset_version\n",
    "        self.path = path"
   ]
  },
  {
   "cell_type": "code",
   "execution_count": 5,
   "id": "a8c5d3ea",
   "metadata": {
    "execution": {
     "iopub.execute_input": "2023-02-14T05:23:23.749345Z",
     "iopub.status.busy": "2023-02-14T05:23:23.748299Z",
     "iopub.status.idle": "2023-02-14T05:24:19.821205Z",
     "shell.execute_reply": "2023-02-14T05:24:19.820137Z"
    },
    "papermill": {
     "duration": 56.080409,
     "end_time": "2023-02-14T05:24:19.824289",
     "exception": false,
     "start_time": "2023-02-14T05:23:23.743880",
     "status": "completed"
    },
    "tags": []
   },
   "outputs": [],
   "source": [
    "for v in [\"a\", \"l\"]:\n",
    "    cfg = CFG(\n",
    "        in_channels=3, \n",
    "        size=384, \n",
    "        opset_version=15, \n",
    "        path=f\"/kaggle/input/ercd-en4-a384-e10-f5/saves/b{v}e_state_fold_5.pt\"\n",
    "    )\n",
    "\n",
    "    model = Model()\n",
    "    model.load_state_dict(torch.load(cfg.path, map_location=torch.device(\"cpu\"))[\"model_state_dict\"])\n",
    "    model.eval()\n",
    "\n",
    "    clear_output()\n",
    "\n",
    "    # param_size: float = 0\n",
    "    # for param in model.parameters():\n",
    "    #     param_size += param.nelement() * param.element_size()\n",
    "\n",
    "    # buffer_size: float = 0\n",
    "    # for buffer in model.buffers():\n",
    "    #     buffer_size += buffer.nelement() * buffer.element_size()\n",
    "\n",
    "    # size_all_mb: float = (param_size + buffer_size) / 1024**2\n",
    "\n",
    "    # breaker()\n",
    "    # print(f\"Model size: {size_all_mb:.3f} MB\")\n",
    "    # breaker()\n",
    "\n",
    "    torch.onnx.export(\n",
    "        model=model, \n",
    "        args=cfg.dummy, \n",
    "        f=f\"onnx/b{v}e_model_f2.onnx\", \n",
    "        input_names=[\"input\"], \n",
    "        output_names=[\"output\"], \n",
    "        opset_version=cfg.opset_version,\n",
    "        export_params=True,\n",
    "        training=torch.onnx.TrainingMode.EVAL,\n",
    "        operator_export_type=torch.onnx.OperatorExportTypes.ONNX,\n",
    "        dynamic_axes={\n",
    "          \"input\"  : {0 : \"batch_size\"},\n",
    "          \"output\" : {0 : \"batch_size\"},\n",
    "        }\n",
    "    )"
   ]
  },
  {
   "cell_type": "code",
   "execution_count": 6,
   "id": "ac3276de",
   "metadata": {
    "execution": {
     "iopub.execute_input": "2023-02-14T05:24:19.832715Z",
     "iopub.status.busy": "2023-02-14T05:24:19.832274Z",
     "iopub.status.idle": "2023-02-14T05:24:19.843856Z",
     "shell.execute_reply": "2023-02-14T05:24:19.842558Z"
    },
    "papermill": {
     "duration": 0.018784,
     "end_time": "2023-02-14T05:24:19.846398",
     "exception": false,
     "start_time": "2023-02-14T05:24:19.827614",
     "status": "completed"
    },
    "tags": []
   },
   "outputs": [],
   "source": [
    "class OnnxModel(object):\n",
    "    def __init__(self, path: str) -> None:\n",
    "        self.size: int = 384\n",
    "        \n",
    "        self.mean: list = [0.46023, 0.46716, 0.44273]\n",
    "        self.std: list  = [0.21309, 0.20754, 0.22900]\n",
    "        \n",
    "        self.path: str = path\n",
    "    \n",
    "        model = onnx.load(self.path)\n",
    "        onnx.checker.check_model(model)\n",
    "        self.ort_session = ort.InferenceSession(self.path)\n",
    "    \n",
    "    def infer(self, image: np.ndarray, labels: dict) -> str:\n",
    "        image = image / 255\n",
    "        image = cv2.resize(src=image, dsize=(self.size, self.size), interpolation=cv2.INTER_AREA).transpose(2, 0, 1)\n",
    "        for i in range(image.shape[0]): image[i, :, :] = (image[i, :, :] - self.mean[i]) / self.std[i]\n",
    "        image = np.expand_dims(image, axis=0)\n",
    "        inputs = {self.ort_session.get_inputs()[0].name : image.astype(\"float32\")}\n",
    "        prob = sigmoid(self.ort_session.run(None, inputs)[0][0])\n",
    "        if prob <= 0.5:\n",
    "            return \"No Crack\", 1-prob\n",
    "        else:\n",
    "            return \"Crack\", prob"
   ]
  },
  {
   "cell_type": "code",
   "execution_count": 7,
   "id": "fd5fc794",
   "metadata": {
    "execution": {
     "iopub.execute_input": "2023-02-14T05:24:19.854677Z",
     "iopub.status.busy": "2023-02-14T05:24:19.853721Z",
     "iopub.status.idle": "2023-02-14T05:24:24.390448Z",
     "shell.execute_reply": "2023-02-14T05:24:24.388942Z"
    },
    "papermill": {
     "duration": 4.5445,
     "end_time": "2023-02-14T05:24:24.393951",
     "exception": false,
     "start_time": "2023-02-14T05:24:19.849451",
     "status": "completed"
    },
    "tags": []
   },
   "outputs": [
    {
     "name": "stdout",
     "output_type": "stream",
     "text": [
      "\n",
      "**************************************************\n",
      "\n",
      "BAE_MODEL_F2.ONNX\n",
      "\n",
      "No Crack, No Crack\n",
      "Crack, Crack\n",
      "Crack, Crack\n",
      "No Crack, No Crack\n",
      "No Crack, No Crack\n",
      "No Crack, No Crack\n",
      "No Crack, No Crack\n",
      "No Crack, No Crack\n",
      "No Crack, No Crack\n",
      "\n",
      "**************************************************\n",
      "\n",
      "BLE_MODEL_F2.ONNX\n",
      "\n",
      "No Crack, No Crack\n",
      "No Crack, No Crack\n",
      "No Crack, No Crack\n",
      "No Crack, No Crack\n",
      "No Crack, No Crack\n",
      "Crack, Crack\n",
      "Crack, Crack\n",
      "No Crack, No Crack\n",
      "No Crack, No Crack\n",
      "\n",
      "**************************************************\n",
      "\n"
     ]
    }
   ],
   "source": [
    "df = pd.read_csv(\"/kaggle/input/ercd-dataframe/train.csv\")\n",
    "\n",
    "\n",
    "breaker()\n",
    "for model_name in sorted(os.listdir(\"onnx\")):\n",
    "    \n",
    "    onnx_model = OnnxModel(f\"onnx/{model_name}\")\n",
    "    print(f\"{model_name.upper()}\\n\")\n",
    "    \n",
    "    for i in range(9):\n",
    "        index = r.randint(0, len(df)-1)\n",
    "\n",
    "        filepath = df.iloc[index, 0]\n",
    "        y_true   = df.iloc[index, 1]\n",
    "\n",
    "        image = get_image(filepath, cfg.size)\n",
    "\n",
    "        y_pred, _ = onnx_model.infer(image, labels)\n",
    "        \n",
    "        print(f\"{labels[str(y_true)].title()}, {y_pred}\")\n",
    "\n",
    "    breaker()"
   ]
  }
 ],
 "metadata": {
  "kernelspec": {
   "display_name": "Python 3",
   "language": "python",
   "name": "python3"
  },
  "language_info": {
   "codemirror_mode": {
    "name": "ipython",
    "version": 3
   },
   "file_extension": ".py",
   "mimetype": "text/x-python",
   "name": "python",
   "nbconvert_exporter": "python",
   "pygments_lexer": "ipython3",
   "version": "3.7.12"
  },
  "papermill": {
   "default_parameters": {},
   "duration": 109.864778,
   "end_time": "2023-02-14T05:24:25.522231",
   "environment_variables": {},
   "exception": null,
   "input_path": "__notebook__.ipynb",
   "output_path": "__notebook__.ipynb",
   "parameters": {},
   "start_time": "2023-02-14T05:22:35.657453",
   "version": "2.3.4"
  }
 },
 "nbformat": 4,
 "nbformat_minor": 5
}
