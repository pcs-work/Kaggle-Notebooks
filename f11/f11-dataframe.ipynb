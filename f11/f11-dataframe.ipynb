{
 "cells": [
  {
   "cell_type": "code",
   "execution_count": 1,
   "id": "da6ea18f",
   "metadata": {
    "_cell_guid": "b1076dfc-b9ad-4769-8c92-a6c4dae69d19",
    "_uuid": "8f2839f25d086af736a60e9eeb907d3b93b6e0e5",
    "execution": {
     "iopub.execute_input": "2023-03-20T12:03:04.395905Z",
     "iopub.status.busy": "2023-03-20T12:03:04.395306Z",
     "iopub.status.idle": "2023-03-20T12:03:04.407404Z",
     "shell.execute_reply": "2023-03-20T12:03:04.405996Z"
    },
    "papermill": {
     "duration": 0.020221,
     "end_time": "2023-03-20T12:03:04.410084",
     "exception": false,
     "start_time": "2023-03-20T12:03:04.389863",
     "status": "completed"
    },
    "tags": []
   },
   "outputs": [],
   "source": [
    "import os\n",
    "import json\n",
    "import numpy as np\n",
    "import pandas as pd\n",
    "\n",
    "BASE_PATH: str = \"/kaggle/input/food11-image-dataset\""
   ]
  },
  {
   "cell_type": "code",
   "execution_count": 2,
   "id": "f9f406b8",
   "metadata": {
    "execution": {
     "iopub.execute_input": "2023-03-20T12:03:04.416534Z",
     "iopub.status.busy": "2023-03-20T12:03:04.416159Z",
     "iopub.status.idle": "2023-03-20T12:03:04.432410Z",
     "shell.execute_reply": "2023-03-20T12:03:04.431036Z"
    },
    "papermill": {
     "duration": 0.022473,
     "end_time": "2023-03-20T12:03:04.435123",
     "exception": false,
     "start_time": "2023-03-20T12:03:04.412650",
     "status": "completed"
    },
    "tags": []
   },
   "outputs": [],
   "source": [
    "tr_df: pd.DataFrame = pd.DataFrame(data=None, columns=[\"filepaths\", \"labels\"])\n",
    "ts_df: pd.DataFrame = pd.DataFrame(data=None, columns=[\"filepaths\", \"labels\"])\n",
    "fu_df: pd.DataFrame = pd.DataFrame(data=None, columns=[\"filepaths\", \"labels\"])  "
   ]
  },
  {
   "cell_type": "code",
   "execution_count": 3,
   "id": "2eab82c9",
   "metadata": {
    "execution": {
     "iopub.execute_input": "2023-03-20T12:03:04.441412Z",
     "iopub.status.busy": "2023-03-20T12:03:04.441015Z",
     "iopub.status.idle": "2023-03-20T12:03:05.863673Z",
     "shell.execute_reply": "2023-03-20T12:03:05.862576Z"
    },
    "papermill": {
     "duration": 1.429181,
     "end_time": "2023-03-20T12:03:05.866708",
     "exception": false,
     "start_time": "2023-03-20T12:03:04.437527",
     "status": "completed"
    },
    "tags": []
   },
   "outputs": [],
   "source": [
    "tr_filepaths: list = []\n",
    "tr_labels: list = []\n",
    "\n",
    "va_filepaths: list = []\n",
    "va_labels: list = []\n",
    "\n",
    "i: int = 0\n",
    "for folder in sorted(os.listdir(f\"{BASE_PATH}/training\")):\n",
    "    for filename in os.listdir(f\"{BASE_PATH}/training/{folder}\"):\n",
    "        tr_filepaths.append(os.path.join(f\"{BASE_PATH}/training/{folder}\", filename))\n",
    "        tr_labels.append(i)\n",
    "    i += 1\n",
    "    \n",
    "i: int = 0\n",
    "for folder in sorted(os.listdir(f\"{BASE_PATH}/validation\")):\n",
    "    for filename in os.listdir(f\"{BASE_PATH}/validation/{folder}\"):\n",
    "        va_filepaths.append(os.path.join(f\"{BASE_PATH}/validation/{folder}\", filename))\n",
    "        va_labels.append(i)\n",
    "    i += 1\n",
    "\n",
    "tr_df.filepaths = tr_filepaths + va_filepaths\n",
    "tr_df.labels = tr_labels + va_labels\n",
    "tr_df.to_csv(\"train.csv\", index=False)"
   ]
  },
  {
   "cell_type": "code",
   "execution_count": 4,
   "id": "d3d52289",
   "metadata": {
    "execution": {
     "iopub.execute_input": "2023-03-20T12:03:05.873965Z",
     "iopub.status.busy": "2023-03-20T12:03:05.873261Z",
     "iopub.status.idle": "2023-03-20T12:03:06.217532Z",
     "shell.execute_reply": "2023-03-20T12:03:06.216151Z"
    },
    "papermill": {
     "duration": 0.350846,
     "end_time": "2023-03-20T12:03:06.220507",
     "exception": false,
     "start_time": "2023-03-20T12:03:05.869661",
     "status": "completed"
    },
    "tags": []
   },
   "outputs": [],
   "source": [
    "filepaths: list = []\n",
    "labels: list = []\n",
    "\n",
    "i: int = 0    \n",
    "for folder in sorted(os.listdir(f\"{BASE_PATH}/evaluation\")):\n",
    "    for filename in os.listdir(f\"{BASE_PATH}/evaluation/{folder}\"):\n",
    "        filepaths.append(os.path.join(f\"{BASE_PATH}/evaluation/{folder}\", filename))\n",
    "        labels.append(i)\n",
    "    i += 1\n",
    "\n",
    "ts_df.filepaths = filepaths\n",
    "ts_df.labels = labels\n",
    "ts_df.to_csv(\"test.csv\", index=False)"
   ]
  },
  {
   "cell_type": "code",
   "execution_count": 5,
   "id": "ba9f3711",
   "metadata": {
    "execution": {
     "iopub.execute_input": "2023-03-20T12:03:06.227825Z",
     "iopub.status.busy": "2023-03-20T12:03:06.227407Z",
     "iopub.status.idle": "2023-03-20T12:03:06.279885Z",
     "shell.execute_reply": "2023-03-20T12:03:06.278594Z"
    },
    "papermill": {
     "duration": 0.059837,
     "end_time": "2023-03-20T12:03:06.282892",
     "exception": false,
     "start_time": "2023-03-20T12:03:06.223055",
     "status": "completed"
    },
    "tags": []
   },
   "outputs": [],
   "source": [
    "fu_df.filepaths = tr_filepaths + va_filepaths + filepaths\n",
    "fu_df.labels = tr_labels + va_labels + labels\n",
    "fu_df.to_csv(\"full.csv\", index=False)"
   ]
  },
  {
   "cell_type": "code",
   "execution_count": 6,
   "id": "8f372f7f",
   "metadata": {
    "execution": {
     "iopub.execute_input": "2023-03-20T12:03:06.289844Z",
     "iopub.status.busy": "2023-03-20T12:03:06.289431Z",
     "iopub.status.idle": "2023-03-20T12:03:06.296209Z",
     "shell.execute_reply": "2023-03-20T12:03:06.294962Z"
    },
    "papermill": {
     "duration": 0.013306,
     "end_time": "2023-03-20T12:03:06.298867",
     "exception": false,
     "start_time": "2023-03-20T12:03:06.285561",
     "status": "completed"
    },
    "tags": []
   },
   "outputs": [],
   "source": [
    "labels: dict = dict()\n",
    "\n",
    "i = 0\n",
    "for folder in sorted(os.listdir(f\"{BASE_PATH}/training\")):\n",
    "    labels[i] = folder\n",
    "    i += 1\n",
    "\n",
    "json.dump(labels, open(\"labels.json\", \"w\"))"
   ]
  }
 ],
 "metadata": {
  "kernelspec": {
   "display_name": "Python 3",
   "language": "python",
   "name": "python3"
  },
  "language_info": {
   "codemirror_mode": {
    "name": "ipython",
    "version": 3
   },
   "file_extension": ".py",
   "mimetype": "text/x-python",
   "name": "python",
   "nbconvert_exporter": "python",
   "pygments_lexer": "ipython3",
   "version": "3.7.12"
  },
  "papermill": {
   "default_parameters": {},
   "duration": 14.463113,
   "end_time": "2023-03-20T12:03:07.023616",
   "environment_variables": {},
   "exception": null,
   "input_path": "__notebook__.ipynb",
   "output_path": "__notebook__.ipynb",
   "parameters": {},
   "start_time": "2023-03-20T12:02:52.560503",
   "version": "2.4.0"
  }
 },
 "nbformat": 4,
 "nbformat_minor": 5
}
