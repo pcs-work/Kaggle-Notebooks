{
 "cells": [
  {
   "cell_type": "code",
   "execution_count": 1,
   "id": "1bc3096d",
   "metadata": {
    "_cell_guid": "b1076dfc-b9ad-4769-8c92-a6c4dae69d19",
    "_uuid": "8f2839f25d086af736a60e9eeb907d3b93b6e0e5",
    "execution": {
     "iopub.execute_input": "2023-03-22T05:05:07.515431Z",
     "iopub.status.busy": "2023-03-22T05:05:07.514924Z",
     "iopub.status.idle": "2023-03-22T05:05:20.173188Z",
     "shell.execute_reply": "2023-03-22T05:05:20.171192Z"
    },
    "papermill": {
     "duration": 12.667495,
     "end_time": "2023-03-22T05:05:20.176336",
     "exception": false,
     "start_time": "2023-03-22T05:05:07.508841",
     "status": "completed"
    },
    "tags": []
   },
   "outputs": [
    {
     "name": "stderr",
     "output_type": "stream",
     "text": [
      "WARNING: Running pip as the 'root' user can result in broken permissions and conflicting behaviour with the system package manager. It is recommended to use a virtual environment instead: https://pip.pypa.io/warnings/venv\n"
     ]
    }
   ],
   "source": [
    "%%bash\n",
    "pip install timm onnx onnxruntime -q"
   ]
  },
  {
   "cell_type": "code",
   "execution_count": 2,
   "id": "aebf6ee4",
   "metadata": {
    "execution": {
     "iopub.execute_input": "2023-03-22T05:05:20.184662Z",
     "iopub.status.busy": "2023-03-22T05:05:20.184236Z",
     "iopub.status.idle": "2023-03-22T05:05:24.945708Z",
     "shell.execute_reply": "2023-03-22T05:05:24.944216Z"
    },
    "papermill": {
     "duration": 4.769205,
     "end_time": "2023-03-22T05:05:24.948874",
     "exception": false,
     "start_time": "2023-03-22T05:05:20.179669",
     "status": "completed"
    },
    "tags": []
   },
   "outputs": [],
   "source": [
    "import os\n",
    "import sys\n",
    "import cv2\n",
    "import json\n",
    "import onnx\n",
    "import timm\n",
    "import torch\n",
    "import random as r\n",
    "import numpy as np\n",
    "import pandas as pd\n",
    "import onnxruntime as ort\n",
    "import matplotlib.pyplot as plt\n",
    "\n",
    "from typing import Union\n",
    "from torchvision import models\n",
    "from IPython.display import clear_output\n",
    "\n",
    "import warnings\n",
    "warnings.filterwarnings(\"ignore\")\n",
    "\n",
    "if not os.path.exists(\"onnx\"): os.makedirs(\"onnx\")\n",
    "    \n",
    "ort.set_default_logger_severity(3)"
   ]
  },
  {
   "cell_type": "code",
   "execution_count": 3,
   "id": "aea9ee4e",
   "metadata": {
    "execution": {
     "iopub.execute_input": "2023-03-22T05:05:24.958172Z",
     "iopub.status.busy": "2023-03-22T05:05:24.956735Z",
     "iopub.status.idle": "2023-03-22T05:05:24.974165Z",
     "shell.execute_reply": "2023-03-22T05:05:24.972557Z"
    },
    "papermill": {
     "duration": 0.025174,
     "end_time": "2023-03-22T05:05:24.977137",
     "exception": false,
     "start_time": "2023-03-22T05:05:24.951963",
     "status": "completed"
    },
    "tags": []
   },
   "outputs": [],
   "source": [
    "labels: dict = json.load(open(\"/kaggle/input/f11-dataframe/labels.json\", \"r\"))\n",
    "    \n",
    "    \n",
    "def breaker() -> None:\n",
    "    print(\"\\n\" + 50*\"*\" + \"\\n\")\n",
    "\n",
    "\n",
    "def get_image(path: str) -> np.ndarray:\n",
    "    image = cv2.imread(path, cv2.IMREAD_COLOR)\n",
    "    image = cv2.cvtColor(src=image, code=cv2.COLOR_BGR2RGB)\n",
    "    return cv2.resize(src=image, dsize=(224, 224), interpolation=cv2.INTER_AREA)\n",
    "\n",
    "\n",
    "def show_image(\n",
    "    image: np.ndarray, \n",
    "    cmap: str=\"gnuplot2\", \n",
    "    title: Union[str, None]=None\n",
    ") -> None:\n",
    "    plt.figure()\n",
    "    plt.imshow(image, cmap=cmap)\n",
    "    plt.axis(\"off\")\n",
    "    if title: plt.title(title)\n",
    "    plt.show()"
   ]
  },
  {
   "cell_type": "code",
   "execution_count": 4,
   "id": "fd42d491",
   "metadata": {
    "execution": {
     "iopub.execute_input": "2023-03-22T05:05:24.985745Z",
     "iopub.status.busy": "2023-03-22T05:05:24.985009Z",
     "iopub.status.idle": "2023-03-22T05:05:24.994998Z",
     "shell.execute_reply": "2023-03-22T05:05:24.993716Z"
    },
    "papermill": {
     "duration": 0.017721,
     "end_time": "2023-03-22T05:05:24.997944",
     "exception": false,
     "start_time": "2023-03-22T05:05:24.980223",
     "status": "completed"
    },
    "tags": []
   },
   "outputs": [],
   "source": [
    "class Model(torch.nn.Module):\n",
    "    def __init__(self):\n",
    "        super(Model, self).__init__()\n",
    "        \n",
    "        self.model = timm.create_model(model_name=\"efficientnet_b4\", pretrained=False)\n",
    "        self.model.classifier = torch.nn.Linear(in_features=self.model.classifier.in_features, out_features=11)\n",
    "\n",
    "    def forward(self, x):\n",
    "        return self.model(x)\n",
    "\n",
    "    \n",
    "class CFG(object):  \n",
    "    def __init__(\n",
    "        self, \n",
    "        in_channels: int=3, \n",
    "        size: int=256, \n",
    "        opset_version: int=9, \n",
    "        path: str=None\n",
    "    ):\n",
    "        self.in_channels = in_channels\n",
    "        self.size = size\n",
    "        self.dummy = torch.randn(1, self.in_channels, self.size, self.size)\n",
    "        self.opset_version = opset_version\n",
    "        self.path = path"
   ]
  },
  {
   "cell_type": "code",
   "execution_count": 5,
   "id": "8c952808",
   "metadata": {
    "execution": {
     "iopub.execute_input": "2023-03-22T05:05:25.006631Z",
     "iopub.status.busy": "2023-03-22T05:05:25.005405Z",
     "iopub.status.idle": "2023-03-22T05:05:41.387544Z",
     "shell.execute_reply": "2023-03-22T05:05:41.386509Z"
    },
    "papermill": {
     "duration": 16.389846,
     "end_time": "2023-03-22T05:05:41.390805",
     "exception": false,
     "start_time": "2023-03-22T05:05:25.000959",
     "status": "completed"
    },
    "tags": []
   },
   "outputs": [],
   "source": [
    "for v in [\"a\", \"l\"]:\n",
    "    cfg = CFG(\n",
    "        in_channels=3, \n",
    "        size=224, \n",
    "        opset_version=15, \n",
    "        path=f\"/kaggle/input/f11-en4-a224-e10-f2/saves/b{v}e_state_fold_2.pt\"\n",
    "    )\n",
    "\n",
    "    model = Model()\n",
    "    model.load_state_dict(torch.load(cfg.path, map_location=torch.device(\"cpu\"))[\"model_state_dict\"])\n",
    "    model.eval()\n",
    "\n",
    "    clear_output()\n",
    "\n",
    "    torch.onnx.export(\n",
    "        model=model, \n",
    "        args=cfg.dummy, \n",
    "        f=f\"onnx/b{v}e_model_f2.onnx\", \n",
    "        input_names=[\"input\"], \n",
    "        output_names=[\"output\"], \n",
    "        opset_version=cfg.opset_version,\n",
    "        export_params=True,\n",
    "        training=torch.onnx.TrainingMode.EVAL,\n",
    "        operator_export_type=torch.onnx.OperatorExportTypes.ONNX_ATEN_FALLBACK,\n",
    "        dynamic_axes={\n",
    "          \"input\"  : {0 : \"batch_size\"},\n",
    "          \"output\" : {0 : \"batch_size\"},\n",
    "        }\n",
    "    )"
   ]
  },
  {
   "cell_type": "code",
   "execution_count": 6,
   "id": "e31d50a9",
   "metadata": {
    "execution": {
     "iopub.execute_input": "2023-03-22T05:05:41.399347Z",
     "iopub.status.busy": "2023-03-22T05:05:41.398612Z",
     "iopub.status.idle": "2023-03-22T05:05:41.409115Z",
     "shell.execute_reply": "2023-03-22T05:05:41.408187Z"
    },
    "papermill": {
     "duration": 0.018472,
     "end_time": "2023-03-22T05:05:41.412268",
     "exception": false,
     "start_time": "2023-03-22T05:05:41.393796",
     "status": "completed"
    },
    "tags": []
   },
   "outputs": [],
   "source": [
    "class OnnxModel(object):\n",
    "    def __init__(self, path: str) -> None:\n",
    "        self.size: int = 224\n",
    "        \n",
    "        self.mean: list = [0.55620, 0.45161, 0.34468]\n",
    "        self.std: list  = [0.22839, 0.23884, 0.23777]\n",
    "        \n",
    "        self.path: str = path\n",
    "    \n",
    "        model = onnx.load(self.path)\n",
    "        onnx.checker.check_model(model)\n",
    "        self.ort_session = ort.InferenceSession(self.path)\n",
    "        \n",
    "    def infer(self, image: np.ndarray, labels: dict) -> np.ndarray:\n",
    "        image = image / 255\n",
    "        image = cv2.resize(src=image, dsize=(self.size, self.size), interpolation=cv2.INTER_AREA).transpose(2, 0, 1)\n",
    "        for i in range(image.shape[0]): image[i, :, :] = (image[i, :, :] - self.mean[i]) / self.std[i]\n",
    "        image = np.expand_dims(image, axis=0)\n",
    "        inputs = {self.ort_session.get_inputs()[0].name: image.astype(\"float32\")}\n",
    "        result = self.ort_session.run(None, inputs)\n",
    "        odds = np.exp(np.max(result))\n",
    "        return labels[str(np.argmax(result))].title(), odds / (1 + odds)"
   ]
  },
  {
   "cell_type": "code",
   "execution_count": 7,
   "id": "b9a0a33a",
   "metadata": {
    "execution": {
     "iopub.execute_input": "2023-03-22T05:05:41.423435Z",
     "iopub.status.busy": "2023-03-22T05:05:41.422614Z",
     "iopub.status.idle": "2023-03-22T05:05:45.172075Z",
     "shell.execute_reply": "2023-03-22T05:05:45.170887Z"
    },
    "papermill": {
     "duration": 3.758179,
     "end_time": "2023-03-22T05:05:45.174826",
     "exception": false,
     "start_time": "2023-03-22T05:05:41.416647",
     "status": "completed"
    },
    "tags": []
   },
   "outputs": [
    {
     "name": "stdout",
     "output_type": "stream",
     "text": [
      "\n",
      "**************************************************\n",
      "\n",
      "BAE_MODEL_F2.ONNX\n",
      "\n",
      "Dairy Product, Dairy Product\n",
      "Dessert, Dessert\n",
      "Soup, Soup\n",
      "Vegetable-Fruit, Vegetable-Fruit\n",
      "Egg, Egg\n",
      "Dessert, Dessert\n",
      "Egg, Egg\n",
      "Meat, Meat\n",
      "Dessert, Dairy Product\n",
      "\n",
      "**************************************************\n",
      "\n",
      "BLE_MODEL_F2.ONNX\n",
      "\n",
      "Soup, Soup\n",
      "Seafood, Seafood\n",
      "Egg, Egg\n",
      "Meat, Meat\n",
      "Egg, Egg\n",
      "Egg, Egg\n",
      "Meat, Meat\n",
      "Dessert, Dessert\n",
      "Dessert, Dessert\n",
      "\n",
      "**************************************************\n",
      "\n"
     ]
    }
   ],
   "source": [
    "df = pd.read_csv(\"/kaggle/input/f11-dataframe/test.csv\")\n",
    "\n",
    "breaker()\n",
    "for model_name in sorted(os.listdir(\"onnx\")):\n",
    "    \n",
    "    onnx_model = OnnxModel(f\"onnx/{model_name}\")\n",
    "    \n",
    "    print(f\"{model_name.upper()}\\n\")\n",
    "    \n",
    "    for i in range(9):\n",
    "        index = r.randint(0, len(df)-1)\n",
    "        filepath = df.iloc[index, 0]\n",
    "        y_true   = df.iloc[index, 1]\n",
    "\n",
    "        image = get_image(filepath)\n",
    "\n",
    "        y_pred, _ = onnx_model.infer(image, labels)\n",
    "        \n",
    "        print(f\"{labels[str(y_true)].title()}, {y_pred}\")\n",
    "        # show_image(image, title=y_pred)\n",
    "\n",
    "    breaker()"
   ]
  }
 ],
 "metadata": {
  "kernelspec": {
   "display_name": "Python 3",
   "language": "python",
   "name": "python3"
  },
  "language_info": {
   "codemirror_mode": {
    "name": "ipython",
    "version": 3
   },
   "file_extension": ".py",
   "mimetype": "text/x-python",
   "name": "python",
   "nbconvert_exporter": "python",
   "pygments_lexer": "ipython3",
   "version": "3.7.12"
  },
  "papermill": {
   "default_parameters": {},
   "duration": 51.734379,
   "end_time": "2023-03-22T05:05:46.506254",
   "environment_variables": {},
   "exception": null,
   "input_path": "__notebook__.ipynb",
   "output_path": "__notebook__.ipynb",
   "parameters": {},
   "start_time": "2023-03-22T05:04:54.771875",
   "version": "2.4.0"
  }
 },
 "nbformat": 4,
 "nbformat_minor": 5
}
