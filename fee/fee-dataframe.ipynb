{
 "cells": [
  {
   "cell_type": "code",
   "execution_count": 1,
   "id": "7a434367",
   "metadata": {
    "_cell_guid": "b1076dfc-b9ad-4769-8c92-a6c4dae69d19",
    "_uuid": "8f2839f25d086af736a60e9eeb907d3b93b6e0e5",
    "execution": {
     "iopub.execute_input": "2023-02-16T05:37:36.850618Z",
     "iopub.status.busy": "2023-02-16T05:37:36.850084Z",
     "iopub.status.idle": "2023-02-16T05:37:37.052785Z",
     "shell.execute_reply": "2023-02-16T05:37:37.051557Z"
    },
    "papermill": {
     "duration": 0.211297,
     "end_time": "2023-02-16T05:37:37.056075",
     "exception": false,
     "start_time": "2023-02-16T05:37:36.844778",
     "status": "completed"
    },
    "tags": []
   },
   "outputs": [],
   "source": [
    "import os\n",
    "import cv2\n",
    "import json\n",
    "import numpy as np\n",
    "import pandas as pd\n",
    "\n",
    "BASE_PATH: str = \"/kaggle/input/facial-emotion-expressions/images\""
   ]
  },
  {
   "cell_type": "code",
   "execution_count": 2,
   "id": "a280a0d0",
   "metadata": {
    "execution": {
     "iopub.execute_input": "2023-02-16T05:37:37.062534Z",
     "iopub.status.busy": "2023-02-16T05:37:37.062115Z",
     "iopub.status.idle": "2023-02-16T05:37:37.076757Z",
     "shell.execute_reply": "2023-02-16T05:37:37.075518Z"
    },
    "papermill": {
     "duration": 0.020404,
     "end_time": "2023-02-16T05:37:37.078986",
     "exception": false,
     "start_time": "2023-02-16T05:37:37.058582",
     "status": "completed"
    },
    "tags": []
   },
   "outputs": [],
   "source": [
    "tr_df: pd.DataFrame = pd.DataFrame(data=None, columns=[\"filepaths\", \"labels\"])\n",
    "ts_df: pd.DataFrame = pd.DataFrame(data=None, columns=[\"filepaths\", \"labels\"])"
   ]
  },
  {
   "cell_type": "code",
   "execution_count": 3,
   "id": "9f621b6e",
   "metadata": {
    "execution": {
     "iopub.execute_input": "2023-02-16T05:37:37.085360Z",
     "iopub.status.busy": "2023-02-16T05:37:37.084974Z",
     "iopub.status.idle": "2023-02-16T05:37:39.668610Z",
     "shell.execute_reply": "2023-02-16T05:37:39.667568Z"
    },
    "papermill": {
     "duration": 2.590095,
     "end_time": "2023-02-16T05:37:39.671581",
     "exception": false,
     "start_time": "2023-02-16T05:37:37.081486",
     "status": "completed"
    },
    "tags": []
   },
   "outputs": [],
   "source": [
    "tr_filepaths: list = []\n",
    "tr_labels: list = []\n",
    "\n",
    "i: int = 0\n",
    "for folder in sorted(os.listdir(f\"{BASE_PATH}/train\")):\n",
    "    for filename in os.listdir(f\"{BASE_PATH}/train/{folder}\"):\n",
    "        tr_filepaths.append(os.path.join(f\"{BASE_PATH}/train/{folder}\", filename))\n",
    "        tr_labels.append(i)\n",
    "    i += 1\n",
    "    \n",
    "tr_df.filepaths = tr_filepaths\n",
    "tr_df.labels = tr_labels\n",
    "tr_df.to_csv(\"train.csv\", index=False)"
   ]
  },
  {
   "cell_type": "code",
   "execution_count": 4,
   "id": "b4faac81",
   "metadata": {
    "execution": {
     "iopub.execute_input": "2023-02-16T05:37:39.678578Z",
     "iopub.status.busy": "2023-02-16T05:37:39.677505Z",
     "iopub.status.idle": "2023-02-16T05:37:41.031238Z",
     "shell.execute_reply": "2023-02-16T05:37:41.029920Z"
    },
    "papermill": {
     "duration": 1.36064,
     "end_time": "2023-02-16T05:37:41.034730",
     "exception": false,
     "start_time": "2023-02-16T05:37:39.674090",
     "status": "completed"
    },
    "tags": []
   },
   "outputs": [],
   "source": [
    "ts_filepaths: list = []\n",
    "ts_labels: list = []\n",
    "\n",
    "i: int = 0\n",
    "for folder in sorted(os.listdir(f\"{BASE_PATH}/validation\")):\n",
    "    for filename in os.listdir(f\"{BASE_PATH}/validation/{folder}\"):\n",
    "        ts_filepaths.append(os.path.join(f\"{BASE_PATH}/validation/{folder}\", filename))\n",
    "        ts_labels.append(i)\n",
    "    i += 1\n",
    "    \n",
    "ts_df.filepaths = ts_filepaths\n",
    "ts_df.labels = ts_labels\n",
    "ts_df.to_csv(\"test.csv\", index=False)"
   ]
  },
  {
   "cell_type": "code",
   "execution_count": 5,
   "id": "2a6f3708",
   "metadata": {
    "execution": {
     "iopub.execute_input": "2023-02-16T05:37:41.041231Z",
     "iopub.status.busy": "2023-02-16T05:37:41.040793Z",
     "iopub.status.idle": "2023-02-16T05:37:41.048721Z",
     "shell.execute_reply": "2023-02-16T05:37:41.047605Z"
    },
    "papermill": {
     "duration": 0.013967,
     "end_time": "2023-02-16T05:37:41.051217",
     "exception": false,
     "start_time": "2023-02-16T05:37:41.037250",
     "status": "completed"
    },
    "tags": []
   },
   "outputs": [],
   "source": [
    "labels: dict = dict()\n",
    "\n",
    "i = 0\n",
    "for folder in sorted(os.listdir(f\"{BASE_PATH}/train\")):\n",
    "    labels[i] = folder\n",
    "    i += 1\n",
    "\n",
    "json.dump(labels, open(\"labels.json\", \"w\"))"
   ]
  }
 ],
 "metadata": {
  "kernelspec": {
   "display_name": "Python 3",
   "language": "python",
   "name": "python3"
  },
  "language_info": {
   "codemirror_mode": {
    "name": "ipython",
    "version": 3
   },
   "file_extension": ".py",
   "mimetype": "text/x-python",
   "name": "python",
   "nbconvert_exporter": "python",
   "pygments_lexer": "ipython3",
   "version": "3.7.12"
  },
  "papermill": {
   "default_parameters": {},
   "duration": 13.454081,
   "end_time": "2023-02-16T05:37:41.776020",
   "environment_variables": {},
   "exception": null,
   "input_path": "__notebook__.ipynb",
   "output_path": "__notebook__.ipynb",
   "parameters": {},
   "start_time": "2023-02-16T05:37:28.321939",
   "version": "2.3.4"
  }
 },
 "nbformat": 4,
 "nbformat_minor": 5
}
