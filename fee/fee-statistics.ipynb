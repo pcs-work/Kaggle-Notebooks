{
 "cells": [
  {
   "cell_type": "code",
   "execution_count": 1,
   "id": "4f5b9cbc",
   "metadata": {
    "_cell_guid": "b1076dfc-b9ad-4769-8c92-a6c4dae69d19",
    "_uuid": "8f2839f25d086af736a60e9eeb907d3b93b6e0e5",
    "execution": {
     "iopub.execute_input": "2023-02-20T09:03:06.228122Z",
     "iopub.status.busy": "2023-02-20T09:03:06.227473Z",
     "iopub.status.idle": "2023-02-20T09:03:06.432815Z",
     "shell.execute_reply": "2023-02-20T09:03:06.431915Z"
    },
    "papermill": {
     "duration": 0.213075,
     "end_time": "2023-02-20T09:03:06.435462",
     "exception": false,
     "start_time": "2023-02-20T09:03:06.222387",
     "status": "completed"
    },
    "tags": []
   },
   "outputs": [],
   "source": [
    "import os\n",
    "import cv2\n",
    "import numpy as np\n",
    "import pandas as pd\n",
    "\n",
    "\n",
    "def breaker(num: int = 50, char: str = \"*\") -> None: print(\"\\n\" + num*char + \"\\n\")"
   ]
  },
  {
   "cell_type": "code",
   "execution_count": 2,
   "id": "e7e2cc1f",
   "metadata": {
    "execution": {
     "iopub.execute_input": "2023-02-20T09:03:06.441477Z",
     "iopub.status.busy": "2023-02-20T09:03:06.440432Z",
     "iopub.status.idle": "2023-02-20T09:03:06.449581Z",
     "shell.execute_reply": "2023-02-20T09:03:06.448310Z"
    },
    "papermill": {
     "duration": 0.014483,
     "end_time": "2023-02-20T09:03:06.452045",
     "exception": false,
     "start_time": "2023-02-20T09:03:06.437562",
     "status": "completed"
    },
    "tags": []
   },
   "outputs": [],
   "source": [
    "def get_image(path: str) -> np.ndarray:\n",
    "    return cv2.imread(path, cv2.IMREAD_GRAYSCALE)\n",
    "\n",
    "\n",
    "def get_statistics(filepaths: np.ndarray) -> None:\n",
    "\n",
    "    stats: dict = dict()\n",
    "    means: dict = dict()\n",
    "    stds: dict  = dict()\n",
    "        \n",
    "    total_num_of_images: int = 0\n",
    "    mean, std = 0.0, 0.0\n",
    "    for filepath in filepaths:\n",
    "        image = get_image(filepath)\n",
    "        mean += image.mean()\n",
    "        std += image.std()\n",
    "        total_num_of_images += 1\n",
    "    \n",
    "    print(f\"Mean : {mean:.5f}\")\n",
    "    print(f\"Mean : {mean:.5f}\")    "
   ]
  },
  {
   "cell_type": "code",
   "execution_count": 3,
   "id": "cb9566fb",
   "metadata": {
    "execution": {
     "iopub.execute_input": "2023-02-20T09:03:06.457322Z",
     "iopub.status.busy": "2023-02-20T09:03:06.456912Z",
     "iopub.status.idle": "2023-02-20T09:08:12.772549Z",
     "shell.execute_reply": "2023-02-20T09:08:12.771487Z"
    },
    "papermill": {
     "duration": 306.323297,
     "end_time": "2023-02-20T09:08:12.777253",
     "exception": false,
     "start_time": "2023-02-20T09:03:06.453956",
     "status": "completed"
    },
    "tags": []
   },
   "outputs": [
    {
     "name": "stdout",
     "output_type": "stream",
     "text": [
      "Mean : 3726045.60460\n",
      "Mean : 3726045.60460\n"
     ]
    }
   ],
   "source": [
    "df = pd.read_csv(\"/kaggle/input/fee-dataframe/train.csv\")\n",
    "\n",
    "get_statistics(df.filepaths.copy().values)"
   ]
  }
 ],
 "metadata": {
  "kernelspec": {
   "display_name": "Python 3",
   "language": "python",
   "name": "python3"
  },
  "language_info": {
   "codemirror_mode": {
    "name": "ipython",
    "version": 3
   },
   "file_extension": ".py",
   "mimetype": "text/x-python",
   "name": "python",
   "nbconvert_exporter": "python",
   "pygments_lexer": "ipython3",
   "version": "3.7.12"
  },
  "papermill": {
   "default_parameters": {},
   "duration": 316.316145,
   "end_time": "2023-02-20T09:08:13.502411",
   "environment_variables": {},
   "exception": null,
   "input_path": "__notebook__.ipynb",
   "output_path": "__notebook__.ipynb",
   "parameters": {},
   "start_time": "2023-02-20T09:02:57.186266",
   "version": "2.3.4"
  }
 },
 "nbformat": 4,
 "nbformat_minor": 5
}
