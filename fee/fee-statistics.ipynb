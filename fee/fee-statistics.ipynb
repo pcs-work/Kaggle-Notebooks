{
 "cells": [
  {
   "cell_type": "code",
   "execution_count": 1,
   "id": "467e0ffe",
   "metadata": {
    "_cell_guid": "b1076dfc-b9ad-4769-8c92-a6c4dae69d19",
    "_uuid": "8f2839f25d086af736a60e9eeb907d3b93b6e0e5",
    "execution": {
     "iopub.execute_input": "2023-02-20T10:25:15.873028Z",
     "iopub.status.busy": "2023-02-20T10:25:15.872380Z",
     "iopub.status.idle": "2023-02-20T10:25:16.059679Z",
     "shell.execute_reply": "2023-02-20T10:25:16.058510Z"
    },
    "papermill": {
     "duration": 0.194593,
     "end_time": "2023-02-20T10:25:16.062505",
     "exception": false,
     "start_time": "2023-02-20T10:25:15.867912",
     "status": "completed"
    },
    "tags": []
   },
   "outputs": [],
   "source": [
    "import os\n",
    "import cv2\n",
    "import numpy as np\n",
    "import pandas as pd\n",
    "\n",
    "\n",
    "def breaker(num: int = 50, char: str = \"*\") -> None: print(\"\\n\" + num*char + \"\\n\")"
   ]
  },
  {
   "cell_type": "code",
   "execution_count": 2,
   "id": "51925499",
   "metadata": {
    "execution": {
     "iopub.execute_input": "2023-02-20T10:25:16.067657Z",
     "iopub.status.busy": "2023-02-20T10:25:16.067287Z",
     "iopub.status.idle": "2023-02-20T10:25:16.074419Z",
     "shell.execute_reply": "2023-02-20T10:25:16.073482Z"
    },
    "papermill": {
     "duration": 0.012141,
     "end_time": "2023-02-20T10:25:16.076677",
     "exception": false,
     "start_time": "2023-02-20T10:25:16.064536",
     "status": "completed"
    },
    "tags": []
   },
   "outputs": [],
   "source": [
    "def get_image(path: str) -> np.ndarray:\n",
    "    return cv2.imread(path, cv2.IMREAD_GRAYSCALE)\n",
    "\n",
    "\n",
    "def get_statistics(filepaths: np.ndarray) -> None:\n",
    "\n",
    "    stats: dict = dict()\n",
    "    means: dict = dict()\n",
    "    stds: dict  = dict()\n",
    "        \n",
    "    total_num_of_images: int = 0\n",
    "    mean, std = 0.0, 0.0\n",
    "    for filepath in filepaths:\n",
    "        image = get_image(filepath)\n",
    "        mean += image.mean()\n",
    "        std += image.std()\n",
    "        total_num_of_images += 1\n",
    "    \n",
    "    print(f\"Mean : {mean / total_num_of_images / 255:.5f}\")\n",
    "    print(f\"Std  : {std / total_num_of_images / 255:.5f}\")    "
   ]
  },
  {
   "cell_type": "code",
   "execution_count": 3,
   "id": "d66835d3",
   "metadata": {
    "execution": {
     "iopub.execute_input": "2023-02-20T10:25:16.081696Z",
     "iopub.status.busy": "2023-02-20T10:25:16.081213Z",
     "iopub.status.idle": "2023-02-20T10:30:19.029082Z",
     "shell.execute_reply": "2023-02-20T10:30:19.027841Z"
    },
    "papermill": {
     "duration": 302.955652,
     "end_time": "2023-02-20T10:30:19.034172",
     "exception": false,
     "start_time": "2023-02-20T10:25:16.078520",
     "status": "completed"
    },
    "tags": []
   },
   "outputs": [
    {
     "name": "stdout",
     "output_type": "stream",
     "text": [
      "Mean : 0.50699\n",
      "Std  : 0.21214\n"
     ]
    }
   ],
   "source": [
    "df = pd.read_csv(\"/kaggle/input/fee-dataframe/train.csv\")\n",
    "\n",
    "get_statistics(df.filepaths.copy().values)"
   ]
  }
 ],
 "metadata": {
  "kernelspec": {
   "display_name": "Python 3",
   "language": "python",
   "name": "python3"
  },
  "language_info": {
   "codemirror_mode": {
    "name": "ipython",
    "version": 3
   },
   "file_extension": ".py",
   "mimetype": "text/x-python",
   "name": "python",
   "nbconvert_exporter": "python",
   "pygments_lexer": "ipython3",
   "version": "3.7.12"
  },
  "papermill": {
   "default_parameters": {},
   "duration": 312.097518,
   "end_time": "2023-02-20T10:30:19.659712",
   "environment_variables": {},
   "exception": null,
   "input_path": "__notebook__.ipynb",
   "output_path": "__notebook__.ipynb",
   "parameters": {},
   "start_time": "2023-02-20T10:25:07.562194",
   "version": "2.3.4"
  }
 },
 "nbformat": 4,
 "nbformat_minor": 5
}
