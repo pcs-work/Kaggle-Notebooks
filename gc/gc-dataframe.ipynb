{
 "cells": [
  {
   "cell_type": "code",
   "execution_count": 1,
   "id": "66719a76",
   "metadata": {
    "_cell_guid": "b1076dfc-b9ad-4769-8c92-a6c4dae69d19",
    "_uuid": "8f2839f25d086af736a60e9eeb907d3b93b6e0e5",
    "execution": {
     "iopub.execute_input": "2023-03-26T08:39:20.572079Z",
     "iopub.status.busy": "2023-03-26T08:39:20.571071Z",
     "iopub.status.idle": "2023-03-26T08:39:20.583469Z",
     "shell.execute_reply": "2023-03-26T08:39:20.582021Z"
    },
    "papermill": {
     "duration": 0.021865,
     "end_time": "2023-03-26T08:39:20.586380",
     "exception": false,
     "start_time": "2023-03-26T08:39:20.564515",
     "status": "completed"
    },
    "tags": []
   },
   "outputs": [],
   "source": [
    "import os\n",
    "import json\n",
    "import numpy as np\n",
    "import pandas as pd\n",
    "\n",
    "BASE_PATH: str = \"/kaggle/input/glasses-and-coverings/glasses-and-coverings\""
   ]
  },
  {
   "cell_type": "code",
   "execution_count": 2,
   "id": "7d89eb4c",
   "metadata": {
    "execution": {
     "iopub.execute_input": "2023-03-26T08:39:20.592650Z",
     "iopub.status.busy": "2023-03-26T08:39:20.592175Z",
     "iopub.status.idle": "2023-03-26T08:39:21.653504Z",
     "shell.execute_reply": "2023-03-26T08:39:21.651610Z"
    },
    "papermill": {
     "duration": 1.068177,
     "end_time": "2023-03-26T08:39:21.656757",
     "exception": false,
     "start_time": "2023-03-26T08:39:20.588580",
     "status": "completed"
    },
    "tags": []
   },
   "outputs": [],
   "source": [
    "df: pd.DataFrame = pd.DataFrame(data=None, columns=[\"filepaths\", \"labels\"])\n",
    "    \n",
    "filepaths: list = []\n",
    "labels: list = []\n",
    "    \n",
    "i: int = 0\n",
    "for folder in sorted(os.listdir(f\"{BASE_PATH}\")):\n",
    "    for filename in os.listdir(f\"{BASE_PATH}/{folder}\"):\n",
    "        filepaths.append(os.path.join(f\"{BASE_PATH}/{folder}\", filename))\n",
    "        labels.append(i)\n",
    "    i += 1\n",
    "    \n",
    "df.filepaths = filepaths\n",
    "df.labels = labels\n",
    "df.to_csv(\"train.csv\", index=False)\n",
    "\n",
    "labels: dict = dict()\n",
    "i = 0\n",
    "for folder in sorted(os.listdir(f\"{BASE_PATH}\")):\n",
    "    labels[i] = folder\n",
    "    i += 1\n",
    "json.dump(labels, open(\"labels.json\", \"w\"))"
   ]
  }
 ],
 "metadata": {
  "kernelspec": {
   "display_name": "Python 3",
   "language": "python",
   "name": "python3"
  },
  "language_info": {
   "codemirror_mode": {
    "name": "ipython",
    "version": 3
   },
   "file_extension": ".py",
   "mimetype": "text/x-python",
   "name": "python",
   "nbconvert_exporter": "python",
   "pygments_lexer": "ipython3",
   "version": "3.7.12"
  },
  "papermill": {
   "default_parameters": {},
   "duration": 14.291669,
   "end_time": "2023-03-26T08:39:22.686674",
   "environment_variables": {},
   "exception": null,
   "input_path": "__notebook__.ipynb",
   "output_path": "__notebook__.ipynb",
   "parameters": {},
   "start_time": "2023-03-26T08:39:08.395005",
   "version": "2.4.0"
  }
 },
 "nbformat": 4,
 "nbformat_minor": 5
}
