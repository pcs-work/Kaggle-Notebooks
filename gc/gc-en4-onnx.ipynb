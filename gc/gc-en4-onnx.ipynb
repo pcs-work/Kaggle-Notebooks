{
 "cells": [
  {
   "cell_type": "code",
   "execution_count": 1,
   "id": "e64ee04b",
   "metadata": {
    "_cell_guid": "b1076dfc-b9ad-4769-8c92-a6c4dae69d19",
    "_uuid": "8f2839f25d086af736a60e9eeb907d3b93b6e0e5",
    "execution": {
     "iopub.execute_input": "2023-03-30T06:54:56.644664Z",
     "iopub.status.busy": "2023-03-30T06:54:56.644258Z",
     "iopub.status.idle": "2023-03-30T06:55:08.606873Z",
     "shell.execute_reply": "2023-03-30T06:55:08.605287Z"
    },
    "papermill": {
     "duration": 11.971118,
     "end_time": "2023-03-30T06:55:08.609855",
     "exception": false,
     "start_time": "2023-03-30T06:54:56.638737",
     "status": "completed"
    },
    "tags": []
   },
   "outputs": [
    {
     "name": "stderr",
     "output_type": "stream",
     "text": [
      "WARNING: Running pip as the 'root' user can result in broken permissions and conflicting behaviour with the system package manager. It is recommended to use a virtual environment instead: https://pip.pypa.io/warnings/venv\n"
     ]
    }
   ],
   "source": [
    "%%bash\n",
    "pip install timm onnx onnxruntime -q"
   ]
  },
  {
   "cell_type": "code",
   "execution_count": 2,
   "id": "762ac64c",
   "metadata": {
    "execution": {
     "iopub.execute_input": "2023-03-30T06:55:08.618316Z",
     "iopub.status.busy": "2023-03-30T06:55:08.617166Z",
     "iopub.status.idle": "2023-03-30T06:55:12.593123Z",
     "shell.execute_reply": "2023-03-30T06:55:12.591766Z"
    },
    "papermill": {
     "duration": 3.983145,
     "end_time": "2023-03-30T06:55:12.596086",
     "exception": false,
     "start_time": "2023-03-30T06:55:08.612941",
     "status": "completed"
    },
    "tags": []
   },
   "outputs": [],
   "source": [
    "import os\n",
    "import sys\n",
    "import cv2\n",
    "import json\n",
    "import onnx\n",
    "import timm\n",
    "import torch\n",
    "import random as r\n",
    "import numpy as np\n",
    "import pandas as pd\n",
    "import onnxruntime as ort\n",
    "import matplotlib.pyplot as plt\n",
    "\n",
    "from typing import Union\n",
    "from torchvision import models\n",
    "from IPython.display import clear_output\n",
    "\n",
    "import warnings\n",
    "warnings.filterwarnings(\"ignore\")\n",
    "\n",
    "if not os.path.exists(\"onnx\"): os.makedirs(\"onnx\")\n",
    "    \n",
    "ort.set_default_logger_severity(3)"
   ]
  },
  {
   "cell_type": "code",
   "execution_count": 3,
   "id": "a03a643e",
   "metadata": {
    "execution": {
     "iopub.execute_input": "2023-03-30T06:55:12.604783Z",
     "iopub.status.busy": "2023-03-30T06:55:12.602844Z",
     "iopub.status.idle": "2023-03-30T06:55:12.627970Z",
     "shell.execute_reply": "2023-03-30T06:55:12.626758Z"
    },
    "papermill": {
     "duration": 0.032008,
     "end_time": "2023-03-30T06:55:12.630982",
     "exception": false,
     "start_time": "2023-03-30T06:55:12.598974",
     "status": "completed"
    },
    "tags": []
   },
   "outputs": [],
   "source": [
    "labels: dict = json.load(open(\"/kaggle/input/gc-dataframe/labels.json\", \"r\"))\n",
    "    \n",
    "    \n",
    "def breaker() -> None:\n",
    "    print(\"\\n\" + 50*\"*\" + \"\\n\")\n",
    "\n",
    "\n",
    "def get_image(path: str) -> np.ndarray:\n",
    "    image = cv2.imread(path, cv2.IMREAD_COLOR)\n",
    "    return cv2.cvtColor(src=image, code=cv2.COLOR_BGR2RGB)\n",
    "\n",
    "\n",
    "def show_image(\n",
    "    image: np.ndarray, \n",
    "    cmap: str=\"gnuplot2\", \n",
    "    title: Union[str, None]=None\n",
    ") -> None:\n",
    "    plt.figure()\n",
    "    plt.imshow(image, cmap=cmap)\n",
    "    plt.axis(\"off\")\n",
    "    if title: plt.title(title)\n",
    "    plt.show()"
   ]
  },
  {
   "cell_type": "code",
   "execution_count": 4,
   "id": "3381bbe2",
   "metadata": {
    "execution": {
     "iopub.execute_input": "2023-03-30T06:55:12.638067Z",
     "iopub.status.busy": "2023-03-30T06:55:12.637657Z",
     "iopub.status.idle": "2023-03-30T06:55:12.647130Z",
     "shell.execute_reply": "2023-03-30T06:55:12.645704Z"
    },
    "papermill": {
     "duration": 0.015651,
     "end_time": "2023-03-30T06:55:12.649498",
     "exception": false,
     "start_time": "2023-03-30T06:55:12.633847",
     "status": "completed"
    },
    "tags": []
   },
   "outputs": [],
   "source": [
    "class Model(torch.nn.Module):\n",
    "    def __init__(self):\n",
    "        super(Model, self).__init__()\n",
    "        \n",
    "        self.model = timm.create_model(model_name=\"efficientnet_b4\", pretrained=False)\n",
    "        self.model.classifier = torch.nn.Linear(in_features=self.model.classifier.in_features, out_features=5)\n",
    "\n",
    "    def forward(self, x):\n",
    "        return self.model(x)\n",
    "\n",
    "    \n",
    "class CFG(object):  \n",
    "    def __init__(\n",
    "        self, \n",
    "        in_channels: int=3, \n",
    "        size: int=256, \n",
    "        opset_version: int=9, \n",
    "        path: str=None\n",
    "    ):\n",
    "        self.in_channels = in_channels\n",
    "        self.size = size\n",
    "        self.dummy = torch.randn(1, self.in_channels, self.size, self.size)\n",
    "        self.opset_version = opset_version\n",
    "        self.path = path"
   ]
  },
  {
   "cell_type": "code",
   "execution_count": 5,
   "id": "dec8e6f9",
   "metadata": {
    "execution": {
     "iopub.execute_input": "2023-03-30T06:55:12.657062Z",
     "iopub.status.busy": "2023-03-30T06:55:12.656382Z",
     "iopub.status.idle": "2023-03-30T06:55:28.153462Z",
     "shell.execute_reply": "2023-03-30T06:55:28.152047Z"
    },
    "papermill": {
     "duration": 15.504454,
     "end_time": "2023-03-30T06:55:28.156744",
     "exception": false,
     "start_time": "2023-03-30T06:55:12.652290",
     "status": "completed"
    },
    "tags": []
   },
   "outputs": [],
   "source": [
    "for v in [\"a\", \"l\"]:\n",
    "    cfg = CFG(\n",
    "        in_channels=3, \n",
    "        size=256, \n",
    "        opset_version=15, \n",
    "        path=f\"/kaggle/input/gc-en4-a256-e10/saves/b{v}e_state_fold_1.pt\"\n",
    "    )\n",
    "\n",
    "    model = Model()\n",
    "    model.load_state_dict(torch.load(cfg.path, map_location=torch.device(\"cpu\"))[\"model_state_dict\"])\n",
    "    model.eval()\n",
    "\n",
    "    clear_output()\n",
    "\n",
    "    torch.onnx.export(\n",
    "        model=model, \n",
    "        args=cfg.dummy, \n",
    "        f=f\"onnx/b{v}e_model_f1.onnx\", \n",
    "        input_names=[\"input\"], \n",
    "        output_names=[\"output\"], \n",
    "        opset_version=cfg.opset_version,\n",
    "        export_params=True,\n",
    "        training=torch.onnx.TrainingMode.EVAL,\n",
    "        operator_export_type=torch.onnx.OperatorExportTypes.ONNX_ATEN_FALLBACK,\n",
    "        dynamic_axes={\n",
    "          \"input\"  : {0 : \"batch_size\"},\n",
    "          \"output\" : {0 : \"batch_size\"},\n",
    "        }\n",
    "    )"
   ]
  },
  {
   "cell_type": "code",
   "execution_count": 6,
   "id": "a1ec3ab8",
   "metadata": {
    "execution": {
     "iopub.execute_input": "2023-03-30T06:55:28.165032Z",
     "iopub.status.busy": "2023-03-30T06:55:28.164252Z",
     "iopub.status.idle": "2023-03-30T06:55:28.175367Z",
     "shell.execute_reply": "2023-03-30T06:55:28.174168Z"
    },
    "papermill": {
     "duration": 0.017865,
     "end_time": "2023-03-30T06:55:28.177661",
     "exception": false,
     "start_time": "2023-03-30T06:55:28.159796",
     "status": "completed"
    },
    "tags": []
   },
   "outputs": [],
   "source": [
    "class OnnxModel(object):\n",
    "    def __init__(self, path: str) -> None:\n",
    "        self.size: int = 256\n",
    "        \n",
    "        self.mean: list = [0.48522, 0.42293, 0.38819]\n",
    "        self.std: list  = [0.24762, 0.23333, 0.23002]\n",
    "        \n",
    "        self.path: str = path\n",
    "    \n",
    "        model = onnx.load(self.path)\n",
    "        onnx.checker.check_model(model)\n",
    "        self.ort_session = ort.InferenceSession(self.path)\n",
    "        \n",
    "    def infer(self, image: np.ndarray, labels: dict) -> np.ndarray:\n",
    "        image = image / 255\n",
    "        image = cv2.resize(src=image, dsize=(self.size, self.size), interpolation=cv2.INTER_AREA).transpose(2, 0, 1)\n",
    "        for i in range(image.shape[0]): image[i, :, :] = (image[i, :, :] - self.mean[i]) / self.std[i]\n",
    "        image = np.expand_dims(image, axis=0)\n",
    "        inputs = {self.ort_session.get_inputs()[0].name: image.astype(\"float32\")}\n",
    "        result = self.ort_session.run(None, inputs)\n",
    "        odds = np.exp(np.max(result))\n",
    "        return labels[str(np.argmax(result))].title(), odds / (1 + odds)"
   ]
  },
  {
   "cell_type": "code",
   "execution_count": 7,
   "id": "788edb7a",
   "metadata": {
    "execution": {
     "iopub.execute_input": "2023-03-30T06:55:28.185163Z",
     "iopub.status.busy": "2023-03-30T06:55:28.184501Z",
     "iopub.status.idle": "2023-03-30T06:55:32.389474Z",
     "shell.execute_reply": "2023-03-30T06:55:32.387686Z"
    },
    "papermill": {
     "duration": 4.212574,
     "end_time": "2023-03-30T06:55:32.393169",
     "exception": false,
     "start_time": "2023-03-30T06:55:28.180595",
     "status": "completed"
    },
    "tags": []
   },
   "outputs": [
    {
     "name": "stdout",
     "output_type": "stream",
     "text": [
      "\n",
      "**************************************************\n",
      "\n",
      "BAE_MODEL_F1.ONNX\n",
      "\n",
      "Glasses, Glasses\n",
      "Glasses, Glasses\n",
      "Glasses, Glasses\n",
      "Sunglasses-Imagenet, Sunglasses-Imagenet\n",
      "Plain, Plain\n",
      "Sunglasses, Sunglasses\n",
      "Glasses, Glasses\n",
      "Covering, Covering\n",
      "Sunglasses-Imagenet, Sunglasses-Imagenet\n",
      "\n",
      "**************************************************\n",
      "\n",
      "BLE_MODEL_F1.ONNX\n",
      "\n",
      "Sunglasses, Sunglasses\n",
      "Covering, Covering\n",
      "Sunglasses, Sunglasses\n",
      "Glasses, Glasses\n",
      "Sunglasses, Sunglasses\n",
      "Glasses, Glasses\n",
      "Plain, Plain\n",
      "Sunglasses, Sunglasses\n",
      "Sunglasses-Imagenet, Sunglasses-Imagenet\n",
      "\n",
      "**************************************************\n",
      "\n"
     ]
    }
   ],
   "source": [
    "df = pd.read_csv(\"/kaggle/input/gc-dataframe/train.csv\")\n",
    "\n",
    "breaker()\n",
    "for model_name in sorted(os.listdir(\"onnx\")):\n",
    "    \n",
    "    onnx_model = OnnxModel(f\"onnx/{model_name}\")\n",
    "    \n",
    "    print(f\"{model_name.upper()}\\n\")\n",
    "    \n",
    "    for i in range(9):\n",
    "        index = r.randint(0, len(df)-1)\n",
    "        filepath = df.iloc[index, 0]\n",
    "        y_true   = df.iloc[index, 1]\n",
    "\n",
    "        image = get_image(filepath)\n",
    "\n",
    "        y_pred, _ = onnx_model.infer(image, labels)\n",
    "        \n",
    "        print(f\"{labels[str(y_true)].title()}, {y_pred}\")\n",
    "        # show_image(image, title=y_pred)\n",
    "\n",
    "    breaker()"
   ]
  }
 ],
 "metadata": {
  "kernelspec": {
   "display_name": "Python 3",
   "language": "python",
   "name": "python3"
  },
  "language_info": {
   "codemirror_mode": {
    "name": "ipython",
    "version": 3
   },
   "file_extension": ".py",
   "mimetype": "text/x-python",
   "name": "python",
   "nbconvert_exporter": "python",
   "pygments_lexer": "ipython3",
   "version": "3.7.12"
  },
  "papermill": {
   "default_parameters": {},
   "duration": 46.742225,
   "end_time": "2023-03-30T06:55:33.622618",
   "environment_variables": {},
   "exception": null,
   "input_path": "__notebook__.ipynb",
   "output_path": "__notebook__.ipynb",
   "parameters": {},
   "start_time": "2023-03-30T06:54:46.880393",
   "version": "2.4.0"
  }
 },
 "nbformat": 4,
 "nbformat_minor": 5
}
