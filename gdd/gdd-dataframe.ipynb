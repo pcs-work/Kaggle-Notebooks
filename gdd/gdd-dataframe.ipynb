{
 "cells": [
  {
   "cell_type": "code",
   "execution_count": 1,
   "id": "1c6a40da",
   "metadata": {
    "_cell_guid": "b1076dfc-b9ad-4769-8c92-a6c4dae69d19",
    "_uuid": "8f2839f25d086af736a60e9eeb907d3b93b6e0e5",
    "execution": {
     "iopub.execute_input": "2023-02-23T06:17:47.588015Z",
     "iopub.status.busy": "2023-02-23T06:17:47.587533Z",
     "iopub.status.idle": "2023-02-23T06:17:47.805112Z",
     "shell.execute_reply": "2023-02-23T06:17:47.804118Z"
    },
    "papermill": {
     "duration": 0.225296,
     "end_time": "2023-02-23T06:17:47.807924",
     "exception": false,
     "start_time": "2023-02-23T06:17:47.582628",
     "status": "completed"
    },
    "tags": []
   },
   "outputs": [],
   "source": [
    "import os\n",
    "import cv2\n",
    "import json\n",
    "import numpy as np\n",
    "import pandas as pd\n",
    "\n",
    "BASE_PATH: str = \"/kaggle/input/grape-disease-dataset-original/Original Data\""
   ]
  },
  {
   "cell_type": "code",
   "execution_count": 2,
   "id": "5287f3b0",
   "metadata": {
    "execution": {
     "iopub.execute_input": "2023-02-23T06:17:47.813921Z",
     "iopub.status.busy": "2023-02-23T06:17:47.813515Z",
     "iopub.status.idle": "2023-02-23T06:17:47.830507Z",
     "shell.execute_reply": "2023-02-23T06:17:47.829602Z"
    },
    "papermill": {
     "duration": 0.022698,
     "end_time": "2023-02-23T06:17:47.832929",
     "exception": false,
     "start_time": "2023-02-23T06:17:47.810231",
     "status": "completed"
    },
    "tags": []
   },
   "outputs": [],
   "source": [
    "tr_df: pd.DataFrame = pd.DataFrame(data=None, columns=[\"filepaths\", \"labels\"])\n",
    "ts_df: pd.DataFrame = pd.DataFrame(data=None, columns=[\"filepaths\", \"labels\"])"
   ]
  },
  {
   "cell_type": "code",
   "execution_count": 3,
   "id": "c40505da",
   "metadata": {
    "execution": {
     "iopub.execute_input": "2023-02-23T06:17:47.841017Z",
     "iopub.status.busy": "2023-02-23T06:17:47.840489Z",
     "iopub.status.idle": "2023-02-23T06:17:48.146763Z",
     "shell.execute_reply": "2023-02-23T06:17:48.145664Z"
    },
    "papermill": {
     "duration": 0.313041,
     "end_time": "2023-02-23T06:17:48.149559",
     "exception": false,
     "start_time": "2023-02-23T06:17:47.836518",
     "status": "completed"
    },
    "tags": []
   },
   "outputs": [],
   "source": [
    "tr_filepaths: list = []\n",
    "tr_labels: list = []\n",
    "\n",
    "i: int = 0\n",
    "for folder in sorted(os.listdir(f\"{BASE_PATH}/train\")):\n",
    "    for filename in os.listdir(f\"{BASE_PATH}/train/{folder}\"):\n",
    "        tr_filepaths.append(os.path.join(f\"{BASE_PATH}/train/{folder}\", filename))\n",
    "        tr_labels.append(i)\n",
    "    i += 1\n",
    "\n",
    "tr_df.filepaths = tr_filepaths\n",
    "tr_df.labels = tr_labels\n",
    "tr_df.to_csv(\"train.csv\", index=False)"
   ]
  },
  {
   "cell_type": "code",
   "execution_count": 4,
   "id": "2b7bbbb0",
   "metadata": {
    "execution": {
     "iopub.execute_input": "2023-02-23T06:17:48.156122Z",
     "iopub.status.busy": "2023-02-23T06:17:48.155179Z",
     "iopub.status.idle": "2023-02-23T06:17:48.378346Z",
     "shell.execute_reply": "2023-02-23T06:17:48.377301Z"
    },
    "papermill": {
     "duration": 0.228936,
     "end_time": "2023-02-23T06:17:48.380855",
     "exception": false,
     "start_time": "2023-02-23T06:17:48.151919",
     "status": "completed"
    },
    "tags": []
   },
   "outputs": [],
   "source": [
    "filepaths: list = []\n",
    "labels: list = []\n",
    "\n",
    "i: int = 0    \n",
    "for folder in sorted(os.listdir(f\"{BASE_PATH}/test\")):\n",
    "    for filename in os.listdir(f\"{BASE_PATH}/test/{folder}\"):\n",
    "        filepaths.append(os.path.join(f\"{BASE_PATH}/test/{folder}\", filename))\n",
    "        labels.append(i)\n",
    "    i += 1\n",
    "\n",
    "ts_df.filepaths = filepaths\n",
    "ts_df.labels = labels\n",
    "ts_df.to_csv(\"test.csv\", index=False)"
   ]
  },
  {
   "cell_type": "code",
   "execution_count": 5,
   "id": "1107b62e",
   "metadata": {
    "execution": {
     "iopub.execute_input": "2023-02-23T06:17:48.387422Z",
     "iopub.status.busy": "2023-02-23T06:17:48.386482Z",
     "iopub.status.idle": "2023-02-23T06:17:48.396038Z",
     "shell.execute_reply": "2023-02-23T06:17:48.394877Z"
    },
    "papermill": {
     "duration": 0.015533,
     "end_time": "2023-02-23T06:17:48.398808",
     "exception": false,
     "start_time": "2023-02-23T06:17:48.383275",
     "status": "completed"
    },
    "tags": []
   },
   "outputs": [],
   "source": [
    "labels: dict = dict()\n",
    "\n",
    "i = 0\n",
    "for folder in sorted(os.listdir(f\"{BASE_PATH}/train\")):\n",
    "    labels[i] = folder\n",
    "    i += 1\n",
    "\n",
    "json.dump(labels, open(\"labels.json\", \"w\"))"
   ]
  }
 ],
 "metadata": {
  "kernelspec": {
   "display_name": "Python 3",
   "language": "python",
   "name": "python3"
  },
  "language_info": {
   "codemirror_mode": {
    "name": "ipython",
    "version": 3
   },
   "file_extension": ".py",
   "mimetype": "text/x-python",
   "name": "python",
   "nbconvert_exporter": "python",
   "pygments_lexer": "ipython3",
   "version": "3.7.12"
  },
  "papermill": {
   "default_parameters": {},
   "duration": 10.21572,
   "end_time": "2023-02-23T06:17:49.121838",
   "environment_variables": {},
   "exception": null,
   "input_path": "__notebook__.ipynb",
   "output_path": "__notebook__.ipynb",
   "parameters": {},
   "start_time": "2023-02-23T06:17:38.906118",
   "version": "2.3.4"
  }
 },
 "nbformat": 4,
 "nbformat_minor": 5
}
