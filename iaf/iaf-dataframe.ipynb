{
 "cells": [
  {
   "cell_type": "code",
   "execution_count": 1,
   "id": "9cfa2268",
   "metadata": {
    "_cell_guid": "b1076dfc-b9ad-4769-8c92-a6c4dae69d19",
    "_uuid": "8f2839f25d086af736a60e9eeb907d3b93b6e0e5",
    "execution": {
     "iopub.execute_input": "2023-09-03T05:38:50.652410Z",
     "iopub.status.busy": "2023-09-03T05:38:50.651962Z",
     "iopub.status.idle": "2023-09-03T05:38:52.601088Z",
     "shell.execute_reply": "2023-09-03T05:38:52.600023Z"
    },
    "papermill": {
     "duration": 1.958947,
     "end_time": "2023-09-03T05:38:52.604119",
     "exception": false,
     "start_time": "2023-09-03T05:38:50.645172",
     "status": "completed"
    },
    "tags": []
   },
   "outputs": [],
   "source": [
    "import os\n",
    "import cv2\n",
    "import json\n",
    "import numpy as np\n",
    "import pandas as pd\n",
    "\n",
    "from sklearn.model_selection import train_test_split\n",
    "\n",
    "BASE_PATH: str = \"/kaggle/input/indian-actor-faces-for-face-recognition/actors_dataset/Indian_actors_faces\""
   ]
  },
  {
   "cell_type": "code",
   "execution_count": 2,
   "id": "3cf91fd3",
   "metadata": {
    "execution": {
     "iopub.execute_input": "2023-09-03T05:38:52.614126Z",
     "iopub.status.busy": "2023-09-03T05:38:52.613564Z",
     "iopub.status.idle": "2023-09-03T05:38:53.843262Z",
     "shell.execute_reply": "2023-09-03T05:38:53.842309Z"
    },
    "papermill": {
     "duration": 1.237785,
     "end_time": "2023-09-03T05:38:53.846252",
     "exception": false,
     "start_time": "2023-09-03T05:38:52.608467",
     "status": "completed"
    },
    "tags": []
   },
   "outputs": [],
   "source": [
    "df: pd.DataFrame = pd.DataFrame(data=None, columns=[\"filepaths\", \"labels\"])\n",
    "    \n",
    "filepaths: list = []\n",
    "labels: list = []\n",
    "\n",
    "i: int = 0\n",
    "for folder in sorted(os.listdir(f\"{BASE_PATH}\")):\n",
    "    for filename in os.listdir(f\"{BASE_PATH}/{folder}\"):\n",
    "        if filename[-3:] != \"gif\":\n",
    "            filepaths.append(os.path.join(f\"{BASE_PATH}/{folder}\", filename))\n",
    "            labels.append(i)\n",
    "    i += 1\n",
    "\n",
    "df.filepaths = filepaths\n",
    "df.labels = labels\n",
    "df.to_csv(\"full.csv\", index=False)"
   ]
  },
  {
   "cell_type": "code",
   "execution_count": 3,
   "id": "26a99050",
   "metadata": {
    "execution": {
     "iopub.execute_input": "2023-09-03T05:38:53.855983Z",
     "iopub.status.busy": "2023-09-03T05:38:53.855356Z",
     "iopub.status.idle": "2023-09-03T05:38:53.931029Z",
     "shell.execute_reply": "2023-09-03T05:38:53.929891Z"
    },
    "papermill": {
     "duration": 0.083549,
     "end_time": "2023-09-03T05:38:53.933779",
     "exception": false,
     "start_time": "2023-09-03T05:38:53.850230",
     "status": "completed"
    },
    "tags": []
   },
   "outputs": [],
   "source": [
    "tr_filepaths, va_filepaths, tr_labels, va_labels = train_test_split(\n",
    "    filepaths,\n",
    "    labels,\n",
    "    test_size=0.2, \n",
    "    random_state=0,\n",
    "    shuffle=True,\n",
    "    stratify=labels,\n",
    ")\n",
    "\n",
    "tr_df: pd.DataFrame = pd.DataFrame(data=None, columns=[\"filepaths\", \"labels\"])\n",
    "va_df: pd.DataFrame = pd.DataFrame(data=None, columns=[\"filepaths\", \"labels\"])\n",
    "\n",
    "tr_df.filepaths = tr_filepaths\n",
    "tr_df.labels = tr_labels\n",
    "tr_df.to_csv(\"train.csv\", index=False)\n",
    "\n",
    "va_df.filepaths = va_filepaths\n",
    "va_df.labels = va_labels\n",
    "va_df.to_csv(\"valid.csv\", index=False)"
   ]
  },
  {
   "cell_type": "code",
   "execution_count": 4,
   "id": "64c69cff",
   "metadata": {
    "execution": {
     "iopub.execute_input": "2023-09-03T05:38:53.943458Z",
     "iopub.status.busy": "2023-09-03T05:38:53.943097Z",
     "iopub.status.idle": "2023-09-03T05:38:53.949829Z",
     "shell.execute_reply": "2023-09-03T05:38:53.948844Z"
    },
    "papermill": {
     "duration": 0.014452,
     "end_time": "2023-09-03T05:38:53.952357",
     "exception": false,
     "start_time": "2023-09-03T05:38:53.937905",
     "status": "completed"
    },
    "tags": []
   },
   "outputs": [],
   "source": [
    "labels: dict = dict()\n",
    "\n",
    "i = 0\n",
    "for folder in sorted(os.listdir(f\"{BASE_PATH}\")):\n",
    "    labels[i] = folder\n",
    "    i += 1\n",
    "\n",
    "json.dump(labels, open(\"labels.json\", \"w\"))"
   ]
  }
 ],
 "kernelspec": {
  "display_name": "Python 3",
  "language": "python",
  "name": "python3"
 },
 "language_info": {
  "codemirror_mode": {
   "name": "ipython",
   "version": 3
  },
  "file_extension": ".py",
  "mimetype": "text/x-python",
  "name": "python",
  "nbconvert_exporter": "python",
  "pygments_lexer": "ipython3",
  "version": "3.6.4"
 },
 "metadata": {
  "kernelspec": {
   "display_name": "Python 3",
   "language": "python",
   "name": "python3"
  },
  "language_info": {
   "codemirror_mode": {
    "name": "ipython",
    "version": 3
   },
   "file_extension": ".py",
   "mimetype": "text/x-python",
   "name": "python",
   "nbconvert_exporter": "python",
   "pygments_lexer": "ipython3",
   "version": "3.10.12"
  },
  "papermill": {
   "default_parameters": {},
   "duration": 7.500356,
   "end_time": "2023-09-03T05:38:54.577567",
   "environment_variables": {},
   "exception": null,
   "input_path": "__notebook__.ipynb",
   "output_path": "__notebook__.ipynb",
   "parameters": {},
   "start_time": "2023-09-03T05:38:47.077211",
   "version": "2.4.0"
  }
 },
 "nbformat": 4,
 "nbformat_minor": 5
}
