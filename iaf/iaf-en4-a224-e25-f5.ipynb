{
 "cells": [
  {
   "cell_type": "markdown",
   "id": "66a5e699",
   "metadata": {
    "_cell_guid": "b1076dfc-b9ad-4769-8c92-a6c4dae69d19",
    "_uuid": "8f2839f25d086af736a60e9eeb907d3b93b6e0e5",
    "papermill": {
     "duration": 0.017107,
     "end_time": "2023-09-08T18:18:08.347738",
     "exception": false,
     "start_time": "2023-09-08T18:18:08.330631",
     "status": "completed"
    },
    "tags": []
   },
   "source": [
    "### **Setup**"
   ]
  },
  {
   "cell_type": "code",
   "execution_count": 1,
   "id": "4cd6fc98",
   "metadata": {
    "execution": {
     "iopub.execute_input": "2023-09-08T18:18:08.383190Z",
     "iopub.status.busy": "2023-09-08T18:18:08.382776Z",
     "iopub.status.idle": "2023-09-08T18:18:20.655517Z",
     "shell.execute_reply": "2023-09-08T18:18:20.654413Z"
    },
    "papermill": {
     "duration": 12.29351,
     "end_time": "2023-09-08T18:18:20.657866",
     "exception": false,
     "start_time": "2023-09-08T18:18:08.364356",
     "status": "completed"
    },
    "tags": []
   },
   "outputs": [],
   "source": [
    "%%bash\n",
    "pip install timm -q"
   ]
  },
  {
   "cell_type": "markdown",
   "id": "8b4b61e2",
   "metadata": {
    "papermill": {
     "duration": 0.016271,
     "end_time": "2023-09-08T18:18:20.691283",
     "exception": false,
     "start_time": "2023-09-08T18:18:20.675012",
     "status": "completed"
    },
    "tags": []
   },
   "source": [
    "### **Library Imports**"
   ]
  },
  {
   "cell_type": "code",
   "execution_count": 2,
   "id": "0c1035fc",
   "metadata": {
    "execution": {
     "iopub.execute_input": "2023-09-08T18:18:20.725517Z",
     "iopub.status.busy": "2023-09-08T18:18:20.725196Z",
     "iopub.status.idle": "2023-09-08T18:18:27.489548Z",
     "shell.execute_reply": "2023-09-08T18:18:27.488587Z"
    },
    "papermill": {
     "duration": 6.784615,
     "end_time": "2023-09-08T18:18:27.492303",
     "exception": false,
     "start_time": "2023-09-08T18:18:20.707688",
     "status": "completed"
    },
    "tags": []
   },
   "outputs": [
    {
     "name": "stderr",
     "output_type": "stream",
     "text": [
      "/opt/conda/lib/python3.10/site-packages/scipy/__init__.py:146: UserWarning: A NumPy version >=1.16.5 and <1.23.0 is required for this version of SciPy (detected version 1.23.5\n",
      "  warnings.warn(f\"A NumPy version >={np_minversion} and <{np_maxversion}\"\n"
     ]
    }
   ],
   "source": [
    "import os\n",
    "import re\n",
    "import cv2\n",
    "import timm\n",
    "import torch\n",
    "import numpy as np\n",
    "import pandas as pd\n",
    "import matplotlib.pyplot as plt\n",
    "\n",
    "from time import time\n",
    "from typing import Union\n",
    "from torch import nn, optim\n",
    "from torch.utils.data import Dataset\n",
    "from torch.utils.data import DataLoader as DL\n",
    "from torchvision import transforms\n",
    "\n",
    "from sklearn.model_selection import StratifiedKFold"
   ]
  },
  {
   "cell_type": "markdown",
   "id": "e54c9d9a",
   "metadata": {
    "papermill": {
     "duration": 0.016912,
     "end_time": "2023-09-08T18:18:27.526423",
     "exception": false,
     "start_time": "2023-09-08T18:18:27.509511",
     "status": "completed"
    },
    "tags": []
   },
   "source": [
    "### **Utilities and Helpers**"
   ]
  },
  {
   "cell_type": "code",
   "execution_count": 3,
   "id": "5d49d8ae",
   "metadata": {
    "execution": {
     "iopub.execute_input": "2023-09-08T18:18:27.561079Z",
     "iopub.status.busy": "2023-09-08T18:18:27.560603Z",
     "iopub.status.idle": "2023-09-08T18:18:27.573559Z",
     "shell.execute_reply": "2023-09-08T18:18:27.572544Z"
    },
    "papermill": {
     "duration": 0.032597,
     "end_time": "2023-09-08T18:18:27.575528",
     "exception": false,
     "start_time": "2023-09-08T18:18:27.542931",
     "status": "completed"
    },
    "tags": []
   },
   "outputs": [],
   "source": [
    "SEED: int = 42\n",
    "SIZE: int = 224\n",
    "\n",
    "\n",
    "def breaker(num: int=50, char: str=\"*\") -> None: print(\"\\n\" + num*char + \"\\n\")\n",
    "\n",
    "    \n",
    "def get_image(path: str, size: int=224) -> np.ndarray:\n",
    "    image = cv2.imread(path, cv2.IMREAD_COLOR)\n",
    "    image = cv2.cvtColor(src=image, code=cv2.COLOR_BGR2RGB)\n",
    "    return cv2.resize(src=image, dsize=(size, size), interpolation=cv2.INTER_AREA)\n",
    "\n",
    "    \n",
    "def show_loss_graphs(L: list) -> None:\n",
    "    TL, VL = [], []\n",
    "    for i in range(len(L)):\n",
    "        TL.append(L[i][\"train\"])\n",
    "        VL.append(L[i][\"valid\"])\n",
    "    x_Axis = np.arange(1, len(TL) + 1)\n",
    "    plt.figure()\n",
    "    plt.plot(x_Axis, TL, \"r\", label=\"Train\")\n",
    "    plt.plot(x_Axis, VL, \"b\", label=\"Valid\")\n",
    "    plt.legend()\n",
    "    plt.grid()\n",
    "    plt.title(\"Loss Graph\")\n",
    "    plt.show()\n",
    "\n",
    "    \n",
    "def show_accuracy_graphs(A: list) -> None:\n",
    "    TA, VA = [], []\n",
    "    for i in range(len(A)):\n",
    "        TA.append(A[i][\"train\"])\n",
    "        VA.append(A[i][\"valid\"])\n",
    "    x_Axis = np.arange(1, len(TA) + 1)\n",
    "    plt.figure()\n",
    "    plt.plot(x_Axis, TA, \"r\", label=\"Train\")\n",
    "    plt.plot(x_Axis, VA, \"b\", label=\"Valid\")\n",
    "    plt.legend()\n",
    "    plt.grid()\n",
    "    plt.title(\"Accuracy Graph\")\n",
    "    plt.show()\n",
    "    \n",
    "\n",
    "def show_lr_graph(LR: list) -> None:\n",
    "    x_Axis = [i+1 for i in range(len(LR))]\n",
    "    plt.figure(figsize=(8, 6))\n",
    "    plt.plot(x_Axis, LR, \"rx\")\n",
    "    plt.grid()\n",
    "    plt.show()"
   ]
  },
  {
   "cell_type": "markdown",
   "id": "95be44cc",
   "metadata": {
    "papermill": {
     "duration": 0.016615,
     "end_time": "2023-09-08T18:18:27.608479",
     "exception": false,
     "start_time": "2023-09-08T18:18:27.591864",
     "status": "completed"
    },
    "tags": []
   },
   "source": [
    "\n",
    "\n",
    "### **Configuration**"
   ]
  },
  {
   "cell_type": "code",
   "execution_count": 4,
   "id": "8702f38d",
   "metadata": {
    "execution": {
     "iopub.execute_input": "2023-09-08T18:18:27.644308Z",
     "iopub.status.busy": "2023-09-08T18:18:27.643762Z",
     "iopub.status.idle": "2023-09-08T18:18:27.730430Z",
     "shell.execute_reply": "2023-09-08T18:18:27.729408Z"
    },
    "papermill": {
     "duration": 0.107786,
     "end_time": "2023-09-08T18:18:27.732682",
     "exception": false,
     "start_time": "2023-09-08T18:18:27.624896",
     "status": "completed"
    },
    "tags": []
   },
   "outputs": [],
   "source": [
    "class CFG(object):\n",
    "    def __init__(\n",
    "        self, \n",
    "        seed: int = 42,\n",
    "        size: int = 224,\n",
    "        n_splits: int = 5,\n",
    "        batch_size: int = 16,\n",
    "        epochs: int = 25,\n",
    "        early_stopping: int = 5,\n",
    "        lr: float = 1e-4,\n",
    "        wd: float = 0.0,\n",
    "        max_lr: float = 1e-3,\n",
    "        pct_start: float = 0.2,\n",
    "        steps_per_epoch: int = 100,\n",
    "        div_factor: int = 1e3, \n",
    "        final_div_factor: float = 1e3,\n",
    "    ):\n",
    "        self.seed = seed\n",
    "        self.size = size\n",
    "        self.n_splits = n_splits\n",
    "        self.batch_size = batch_size\n",
    "        self.epochs = epochs\n",
    "        self.early_stopping = early_stopping\n",
    "        self.lr = lr\n",
    "        self.wd = wd\n",
    "        self.max_lr = max_lr\n",
    "        self.pct_start = pct_start\n",
    "        self.steps_per_epoch = steps_per_epoch\n",
    "        self.div_factor = div_factor\n",
    "        self.final_div_factor = final_div_factor\n",
    "        self.device = torch.device(\"cuda\" if torch.cuda.is_available() else \"cpu\")\n",
    "        \n",
    "        if self.size == 192:\n",
    "            self.train_transform = transforms.Compose([\n",
    "                transforms.ToTensor(),\n",
    "                transforms.Normalize([0.59881, 0.44761, 0.38006], [0.23384, 0.20223, 0.18433]),\n",
    "                transforms.RandomAffine(degrees=(-45, 45), translate=(0.15, 0.15), scale=(0.5, 1.5)),\n",
    "                transforms.RandomHorizontalFlip(p=0.25),\n",
    "                transforms.RandomVerticalFlip(p=0.25),\n",
    "            ])\n",
    "            self.valid_transform = transforms.Compose([\n",
    "                transforms.ToTensor(),\n",
    "                transforms.Normalize([0.59881, 0.44761, 0.38006], [0.23384, 0.20223, 0.18433]),\n",
    "            ])\n",
    "        \n",
    "        if self.size == 224:\n",
    "            self.train_transform = transforms.Compose([\n",
    "                transforms.ToTensor(),\n",
    "                transforms.Normalize([0.59881, 0.44761, 0.38006], [0.23384, 0.20223, 0.18433]),\n",
    "                transforms.RandomAffine(degrees=(-45, 45), translate=(0.15, 0.15), scale=(0.5, 1.5)),\n",
    "                transforms.RandomHorizontalFlip(p=0.25),\n",
    "                transforms.RandomVerticalFlip(p=0.25),\n",
    "            ])\n",
    "            self.valid_transform = transforms.Compose([\n",
    "                transforms.ToTensor(),\n",
    "                transforms.Normalize([0.59881, 0.44761, 0.38006], [0.23384, 0.20223, 0.18433]),\n",
    "            ])\n",
    "        \n",
    "        if self.size == 384:\n",
    "            self.train_transform = transforms.Compose([\n",
    "                transforms.ToTensor(),\n",
    "                transforms.Normalize([0.59881, 0.44761, 0.38006], [0.23384, 0.20223, 0.18433]),\n",
    "                transforms.RandomAffine(degrees=(-45, 45), translate=(0.15, 0.15), scale=(0.5, 1.5)),\n",
    "                transforms.RandomHorizontalFlip(p=0.25),\n",
    "                transforms.RandomVerticalFlip(p=0.25),\n",
    "            ])\n",
    "            self.valid_transform = transforms.Compose([\n",
    "                transforms.ToTensor(),\n",
    "                transforms.Normalize([0.59881, 0.44761, 0.38006], [0.23384, 0.20223, 0.18433]),\n",
    "            ])\n",
    "                    \n",
    "        self.save_path = \"saves\"\n",
    "        if not os.path.exists(self.save_path): os.makedirs(self.save_path)\n",
    "    \n",
    "cfg = CFG(\n",
    "    seed=SEED, \n",
    "    size=SIZE\n",
    ")"
   ]
  },
  {
   "cell_type": "markdown",
   "id": "6eee61e4",
   "metadata": {
    "papermill": {
     "duration": 0.01676,
     "end_time": "2023-09-08T18:18:27.766344",
     "exception": false,
     "start_time": "2023-09-08T18:18:27.749584",
     "status": "completed"
    },
    "tags": []
   },
   "source": [
    "### **Dataset Template**"
   ]
  },
  {
   "cell_type": "code",
   "execution_count": 5,
   "id": "b51595d2",
   "metadata": {
    "execution": {
     "iopub.execute_input": "2023-09-08T18:18:27.802542Z",
     "iopub.status.busy": "2023-09-08T18:18:27.800754Z",
     "iopub.status.idle": "2023-09-08T18:18:27.808794Z",
     "shell.execute_reply": "2023-09-08T18:18:27.807921Z"
    },
    "papermill": {
     "duration": 0.027988,
     "end_time": "2023-09-08T18:18:27.810924",
     "exception": false,
     "start_time": "2023-09-08T18:18:27.782936",
     "status": "completed"
    },
    "tags": []
   },
   "outputs": [],
   "source": [
    "class DS(Dataset):\n",
    "    def __init__(\n",
    "        self, \n",
    "        filepaths: np.ndarray,\n",
    "        size: int=224,\n",
    "        labels: Union[np.ndarray, None]=None, \n",
    "        transform=None\n",
    "    ):\n",
    "        \n",
    "        self.filepaths = filepaths\n",
    "        self.size = size\n",
    "        self.labels = labels\n",
    "        self.transform = transform\n",
    "    \n",
    "    def __len__(self):\n",
    "        return self.filepaths.shape[0]\n",
    "    \n",
    "    def __getitem__(self, idx):\n",
    "        image = get_image(self.filepaths[idx], self.size)\n",
    "        if self.labels is None:\n",
    "            return self.transform(image)\n",
    "        return self.transform(image), torch.LongTensor(self.labels[idx])"
   ]
  },
  {
   "cell_type": "markdown",
   "id": "57ae2981",
   "metadata": {
    "papermill": {
     "duration": 0.016333,
     "end_time": "2023-09-08T18:18:27.844254",
     "exception": false,
     "start_time": "2023-09-08T18:18:27.827921",
     "status": "completed"
    },
    "tags": []
   },
   "source": [
    "### **Model**"
   ]
  },
  {
   "cell_type": "code",
   "execution_count": 6,
   "id": "b71ad429",
   "metadata": {
    "execution": {
     "iopub.execute_input": "2023-09-08T18:18:27.878323Z",
     "iopub.status.busy": "2023-09-08T18:18:27.878015Z",
     "iopub.status.idle": "2023-09-08T18:18:27.883888Z",
     "shell.execute_reply": "2023-09-08T18:18:27.882938Z"
    },
    "papermill": {
     "duration": 0.025237,
     "end_time": "2023-09-08T18:18:27.885855",
     "exception": false,
     "start_time": "2023-09-08T18:18:27.860618",
     "status": "completed"
    },
    "tags": []
   },
   "outputs": [],
   "source": [
    "class Model(nn.Module):\n",
    "    def __init__(self):\n",
    "        super(Model, self).__init__()\n",
    "            \n",
    "        self.model = timm.create_model(model_name=\"efficientnet_b4\", pretrained=True)\n",
    "        self.model.classifier = nn.Linear(in_features=self.model.classifier.in_features, out_features=135)\n",
    "\n",
    "    def forward(self, x):\n",
    "        return nn.LogSoftmax(dim=1)(self.model(x))"
   ]
  },
  {
   "cell_type": "markdown",
   "id": "59cccd13",
   "metadata": {
    "papermill": {
     "duration": 0.016241,
     "end_time": "2023-09-08T18:18:27.918447",
     "exception": false,
     "start_time": "2023-09-08T18:18:27.902206",
     "status": "completed"
    },
    "tags": []
   },
   "source": [
    "### **Fit and Predict**"
   ]
  },
  {
   "cell_type": "code",
   "execution_count": 7,
   "id": "50e12ed4",
   "metadata": {
    "execution": {
     "iopub.execute_input": "2023-09-08T18:18:27.953908Z",
     "iopub.status.busy": "2023-09-08T18:18:27.953574Z",
     "iopub.status.idle": "2023-09-08T18:18:27.977076Z",
     "shell.execute_reply": "2023-09-08T18:18:27.976210Z"
    },
    "papermill": {
     "duration": 0.043637,
     "end_time": "2023-09-08T18:18:27.979193",
     "exception": false,
     "start_time": "2023-09-08T18:18:27.935556",
     "status": "completed"
    },
    "tags": []
   },
   "outputs": [],
   "source": [
    "def fit(\n",
    "    model=None,\n",
    "    optimizer=None, \n",
    "    scheduler_rlrop=None,\n",
    "    scheduler_oclr=None,\n",
    "    epochs=None, \n",
    "    early_stopping_patience=None, \n",
    "    dataloaders=None, \n",
    "    fold=None, \n",
    "    save_path=None,\n",
    "    device=None,\n",
    "    verbose=False\n",
    ") -> tuple:\n",
    "    \n",
    "    def get_accuracy(y_pred, y_true):\n",
    "        y_pred = torch.argmax(y_pred, dim=1)\n",
    "        return torch.count_nonzero(y_pred == y_true).item() / len(y_pred)\n",
    "    \n",
    "    \n",
    "    if verbose:\n",
    "        breaker()\n",
    "        if fold: print(f\"Training Fold {fold}...\")\n",
    "        else: print(\"Training ...\")\n",
    "        breaker()\n",
    "        \n",
    "    bestLoss: dict = {\"train\" : np.inf, \"valid\" : np.inf} \n",
    "    bestAccs: dict = {\"train\" : 0.0, \"valid\" : 0.0}\n",
    "    \n",
    "    Losses: list = []\n",
    "    Accuracies: list = [] \n",
    "    LRs: list = []\n",
    "        \n",
    "    if fold: \n",
    "        ble_name = f\"ble_state_fold_{fold}.pt\"\n",
    "        bae_name = f\"bae_state_fold_{fold}.pt\"\n",
    "    else: \n",
    "        ble_name = f\"ble_state.pt\"\n",
    "        bae_name = f\"bae_state.pt\"\n",
    "        \n",
    "    start_time = time()\n",
    "    for e in range(epochs):\n",
    "        e_st = time()\n",
    "        epochLoss: dict = {\"train\" : 0.0, \"valid\" : 0.0} \n",
    "        epochAccs: dict = {\"train\" : 0.0, \"valid\" : 0.0}\n",
    "\n",
    "        for phase in [\"train\", \"valid\"]:\n",
    "            if phase == \"train\":\n",
    "                model.train()\n",
    "            else:\n",
    "                model.eval()\n",
    "            \n",
    "            lossPerPass: list = []\n",
    "            accsPerPass: list = []\n",
    "                \n",
    "            for X, y in dataloaders[phase]:\n",
    "                X, y = X.to(device), y.to(device).view(-1)\n",
    "\n",
    "                optimizer.zero_grad()\n",
    "                with torch.set_grad_enabled(phase == \"train\"):\n",
    "                    output = model(X)\n",
    "                    loss = nn.NLLLoss()(output, y)\n",
    "                    if phase == \"train\":\n",
    "                        loss.backward()\n",
    "                        optimizer.step()\n",
    "                        if scheduler_oclr: scheduler_oclr.step()\n",
    "                lossPerPass.append(loss.item())\n",
    "                accsPerPass.append(get_accuracy(output, y))\n",
    "            epochLoss[phase] = np.mean(np.array(lossPerPass))\n",
    "            epochAccs[phase] = np.mean(np.array(accsPerPass))\n",
    "        if scheduler_oclr: LRs.append(scheduler_oclr.get_last_lr())\n",
    "        Losses.append(epochLoss)\n",
    "        Accuracies.append(epochAccs)\n",
    "        \n",
    "        if scheduler_oclr:\n",
    "            save_dict = {\"model_state_dict\"     : model.state_dict(),\n",
    "                         \"optim_state_dict\"     : optimizer.state_dict(),\n",
    "                         \"scheduler_state_dict\" : scheduler_oclr.state_dict()}\n",
    "        \n",
    "        elif scheduler_rlrop:\n",
    "            save_dict = {\"model_state_dict\"     : model.state_dict(),\n",
    "                         \"optim_state_dict\"     : optimizer.state_dict(),\n",
    "                         \"scheduler_state_dict\" : scheduler_rlrop.state_dict()}\n",
    "        \n",
    "        else:\n",
    "            save_dict = {\"model_state_dict\"     : model.state_dict(),\n",
    "                         \"optim_state_dict\"     : optimizer.state_dict()}\n",
    "        \n",
    "        if early_stopping_patience:\n",
    "            if epochLoss[\"valid\"] < bestLoss[\"valid\"]:\n",
    "                bestLoss = epochLoss\n",
    "                BLE = e + 1\n",
    "                torch.save(save_dict, os.path.join(save_path, ble_name))\n",
    "                torch.save(save_dict, os.path.join(save_path, bae_name))\n",
    "                early_stopping_step = 0\n",
    "            else:\n",
    "                early_stopping_step += 1\n",
    "                if early_stopping_step > early_stopping_patience:\n",
    "                    print(\"\\nEarly Stopping at Epoch {}\".format(e + 1))\n",
    "                    break\n",
    "        \n",
    "        if epochLoss[\"valid\"] < bestLoss[\"valid\"]:\n",
    "            bestLoss = epochLoss\n",
    "            BLE = e + 1\n",
    "            torch.save(save_dict,os.path.join(save_path, ble_name))\n",
    "        \n",
    "        if epochAccs[\"valid\"] > bestAccs[\"valid\"]:\n",
    "            bestAccs = epochAccs\n",
    "            BAE = e + 1\n",
    "            torch.save(save_dict,os.path.join(save_path, bae_name))\n",
    "        \n",
    "        if scheduler_rlrop: scheduler_rlrop.step(epochLoss[\"valid\"])\n",
    "        \n",
    "        if verbose:\n",
    "            print(\"Epoch: {} | Train Loss: {:.5f} | Valid Loss: {:.5f} |\\\n",
    " Train Accs: {:.5f} | Valid Accs: {:.5f} | Time: {:.2f} seconds\".format(e+1, \n",
    "                                                                        epochLoss[\"train\"], epochLoss[\"valid\"], \n",
    "                                                                        epochAccs[\"train\"], epochAccs[\"valid\"], \n",
    "                                                                        time()-e_st))\n",
    "\n",
    "    if verbose:                                           \n",
    "        breaker()\n",
    "        print(f\"Best Validation Loss at Epoch {BLE}\")\n",
    "        breaker()\n",
    "        print(f\"Best Validation Accs at Epoch {BAE}\")\n",
    "        breaker()\n",
    "        print(\"Time Taken [{} Epochs] : {:.2f} minutes\".format(len(Losses), (time()-start_time)/60))\n",
    "    \n",
    "    return Losses, Accuracies, LRs, bestLoss, bestAccs, BLE, BAE, ble_name, bae_name\n",
    "\n",
    "\n",
    "# def predict_batch(model=None, dataloader=None, path=None, device=None) -> np.ndarray:\n",
    "#     model.load_state_dict(torch.load(path, map_location=device)[\"model_state_dict\"])\n",
    "#     model.to(device)    \n",
    "#     model.eval()\n",
    "    \n",
    "#     y_pred = torch.zeros(1, 1).to(device)\n",
    "    \n",
    "#     for X in dataloader:\n",
    "#         X = X.to(device)\n",
    "#         with torch.no_grad():\n",
    "#             output = torch.argmax(torch.exp(model(X)), dim=1)\n",
    "#         y_pred = torch.cat((y_pred, output.view(-1, 1)), dim=0)\n",
    "    \n",
    "#     return y_pred[1:].detach().cpu().numpy()"
   ]
  },
  {
   "cell_type": "markdown",
   "id": "9ce5cb5d",
   "metadata": {
    "papermill": {
     "duration": 0.016169,
     "end_time": "2023-09-08T18:18:28.012067",
     "exception": false,
     "start_time": "2023-09-08T18:18:27.995898",
     "status": "completed"
    },
    "tags": []
   },
   "source": [
    "### **Train**"
   ]
  },
  {
   "cell_type": "code",
   "execution_count": 8,
   "id": "c055251a",
   "metadata": {
    "execution": {
     "iopub.execute_input": "2023-09-08T18:18:28.046523Z",
     "iopub.status.busy": "2023-09-08T18:18:28.046195Z",
     "iopub.status.idle": "2023-09-08T18:18:28.103540Z",
     "shell.execute_reply": "2023-09-08T18:18:28.102628Z"
    },
    "papermill": {
     "duration": 0.077032,
     "end_time": "2023-09-08T18:18:28.105645",
     "exception": false,
     "start_time": "2023-09-08T18:18:28.028613",
     "status": "completed"
    },
    "tags": []
   },
   "outputs": [],
   "source": [
    "df = pd.read_csv(\"/kaggle/input/iaf-dataframe/train.csv\")\n",
    "\n",
    "filepaths = df.filepaths.copy().values\n",
    "labels = df.labels.copy().values"
   ]
  },
  {
   "cell_type": "code",
   "execution_count": 9,
   "id": "1f66cca3",
   "metadata": {
    "execution": {
     "iopub.execute_input": "2023-09-08T18:18:28.140298Z",
     "iopub.status.busy": "2023-09-08T18:18:28.139997Z",
     "iopub.status.idle": "2023-09-08T18:38:32.536684Z",
     "shell.execute_reply": "2023-09-08T18:38:32.532522Z"
    },
    "papermill": {
     "duration": 1204.43195,
     "end_time": "2023-09-08T18:38:32.554505",
     "exception": false,
     "start_time": "2023-09-08T18:18:28.122555",
     "status": "completed"
    },
    "tags": []
   },
   "outputs": [
    {
     "data": {
      "application/vnd.jupyter.widget-view+json": {
       "model_id": "8dd9f2c4ae354732b7288a06c7e6c97a",
       "version_major": 2,
       "version_minor": 0
      },
      "text/plain": [
       "Downloading model.safetensors:   0%|          | 0.00/77.9M [00:00<?, ?B/s]"
      ]
     },
     "metadata": {},
     "output_type": "display_data"
    },
    {
     "name": "stdout",
     "output_type": "stream",
     "text": [
      "\n",
      "**************************************************\n",
      "\n",
      "Training Fold 5...\n",
      "\n",
      "**************************************************\n",
      "\n",
      "Epoch: 1 | Train Loss: 4.90934 | Valid Loss: 4.90027 | Train Accs: 0.00844 | Valid Accs: 0.00729 | Time: 105.01 seconds\n",
      "Epoch: 2 | Train Loss: 4.87989 | Valid Loss: 4.82644 | Train Accs: 0.02146 | Valid Accs: 0.04288 | Time: 70.15 seconds\n",
      "Epoch: 3 | Train Loss: 4.38639 | Valid Loss: 3.73711 | Train Accs: 0.07681 | Valid Accs: 0.13065 | Time: 69.35 seconds\n",
      "Epoch: 4 | Train Loss: 3.19460 | Valid Loss: 2.94003 | Train Accs: 0.24018 | Valid Accs: 0.27763 | Time: 68.89 seconds\n",
      "Epoch: 5 | Train Loss: 2.15265 | Valid Loss: 2.13044 | Train Accs: 0.43302 | Valid Accs: 0.47539 | Time: 68.23 seconds\n",
      "Epoch: 6 | Train Loss: 1.39193 | Valid Loss: 1.87827 | Train Accs: 0.62421 | Valid Accs: 0.52470 | Time: 68.98 seconds\n",
      "Epoch: 7 | Train Loss: 0.86790 | Valid Loss: 1.85512 | Train Accs: 0.75811 | Valid Accs: 0.54970 | Time: 67.84 seconds\n",
      "Epoch: 8 | Train Loss: 0.59702 | Valid Loss: 1.77143 | Train Accs: 0.82476 | Valid Accs: 0.60318 | Time: 69.48 seconds\n",
      "Epoch: 9 | Train Loss: 0.44483 | Valid Loss: 1.68988 | Train Accs: 0.87527 | Valid Accs: 0.61993 | Time: 69.19 seconds\n",
      "Epoch: 10 | Train Loss: 0.31281 | Valid Loss: 1.69717 | Train Accs: 0.90568 | Valid Accs: 0.64380 | Time: 67.24 seconds\n",
      "Epoch: 11 | Train Loss: 0.23129 | Valid Loss: 1.53610 | Train Accs: 0.93245 | Valid Accs: 0.68035 | Time: 68.14 seconds\n",
      "Epoch: 12 | Train Loss: 0.17342 | Valid Loss: 1.64305 | Train Accs: 0.94537 | Valid Accs: 0.67609 | Time: 67.99 seconds\n",
      "Epoch: 13 | Train Loss: 0.13926 | Valid Loss: 1.80330 | Train Accs: 0.95865 | Valid Accs: 0.69198 | Time: 68.29 seconds\n",
      "Epoch: 14 | Train Loss: 0.11739 | Valid Loss: 1.65387 | Train Accs: 0.96500 | Valid Accs: 0.69936 | Time: 68.39 seconds\n",
      "Epoch: 15 | Train Loss: 0.08235 | Valid Loss: 1.78445 | Train Accs: 0.97714 | Valid Accs: 0.69502 | Time: 66.99 seconds\n",
      "Epoch: 16 | Train Loss: 0.07039 | Valid Loss: 1.81987 | Train Accs: 0.97891 | Valid Accs: 0.69823 | Time: 68.09 seconds\n",
      "\n",
      "Early Stopping at Epoch 17\n",
      "\n",
      "**************************************************\n",
      "\n",
      "Best Validation Loss at Epoch 11\n",
      "\n",
      "**************************************************\n",
      "\n",
      "Best Validation Accs at Epoch 14\n",
      "\n",
      "**************************************************\n",
      "\n",
      "Time Taken [17 Epochs] : 20.00 minutes\n"
     ]
    }
   ],
   "source": [
    "fold: int = 1\n",
    "BLs: list = []\n",
    "BAs: list = []\n",
    "    \n",
    "cfg.batch_size = 64\n",
    "cfg.epochs = 25\n",
    "    \n",
    "for tr_idx, va_idx in StratifiedKFold(n_splits=cfg.n_splits, random_state=cfg.seed, shuffle=True).split(filepaths, labels):\n",
    "    if fold == 5: break\n",
    "    fold += 1\n",
    "    \n",
    "tr_filepaths, va_filepaths = filepaths[tr_idx], filepaths[va_idx] \n",
    "tr_labels, va_labels       = labels[tr_idx], labels[va_idx]\n",
    "\n",
    "tr_data_setup = DS(\n",
    "    filepaths=tr_filepaths,\n",
    "    size=cfg.size,\n",
    "    labels=tr_labels.reshape(-1, 1),\n",
    "    transform=cfg.train_transform\n",
    ")\n",
    "\n",
    "va_data_setup = DS(\n",
    "    filepaths=va_filepaths, \n",
    "    size=cfg.size,\n",
    "    labels=va_labels.reshape(-1, 1),\n",
    "    transform=cfg.valid_transform\n",
    ")\n",
    "\n",
    "dataloaders = {\n",
    "    \"train\" : DL(tr_data_setup, batch_size=cfg.batch_size, shuffle=True, generator=torch.manual_seed(cfg.seed)),\n",
    "    \"valid\" : DL(va_data_setup, batch_size=cfg.batch_size, shuffle=False),\n",
    "}\n",
    "\n",
    "cfg.steps_per_epoch=len(dataloaders[\"train\"])\n",
    "\n",
    "torch.manual_seed(cfg.seed)\n",
    "model = Model().to(cfg.device)\n",
    "\n",
    "optimizer = optim.Adam([p for p in model.parameters() if p.requires_grad], lr=cfg.lr, weight_decay=cfg.wd)\n",
    "# optimizer = optim.AdamW([p for p in model.parameters() if p.requires_grad], lr=cfg.lr, weight_decay=cfg.wd)\n",
    "# optimizer = optim.SGD([p for p in model.parameters() if p.requires_grad], lr=cfg.lr, weight_decay=cfg.wd, momentum=0.9)\n",
    "\n",
    "scheduler_oclr = optim.lr_scheduler.OneCycleLR(\n",
    "    optimizer=optimizer, \n",
    "    max_lr=cfg.max_lr, \n",
    "    epochs=cfg.epochs, \n",
    "    steps_per_epoch=cfg.steps_per_epoch,\n",
    "    pct_start=cfg.pct_start, \n",
    "    div_factor=cfg.div_factor, \n",
    "    final_div_factor=cfg.final_div_factor\n",
    ")\n",
    "\n",
    "# scheduler_rlrop = optim.lr_scheduler.ReduceLROnPlateau(\n",
    "#     optimizer=optimizer,\n",
    "#     patience=cfg.patience,\n",
    "#     eps=cfg.eps,\n",
    "#     verbose=True\n",
    "# )\n",
    "\n",
    "# scheduler_oclr = None\n",
    "scheduler_rlrop = None\n",
    "\n",
    "\n",
    "L, A, LR, BL, BA, _, _, _, _ = fit(\n",
    "    model=model, \n",
    "    optimizer=optimizer, \n",
    "    scheduler_oclr=scheduler_oclr,\n",
    "    scheduler_rlrop=scheduler_rlrop,\n",
    "    epochs=cfg.epochs, \n",
    "    early_stopping_patience=cfg.early_stopping, \n",
    "    dataloaders=dataloaders, \n",
    "    device=cfg.device,\n",
    "    save_path=cfg.save_path,\n",
    "    fold=fold,\n",
    "    verbose=True\n",
    ")\n",
    "\n",
    "\n",
    "# breaker()\n",
    "# show_loss_graphs(L)\n",
    "# breaker()\n",
    "# show_accuracy_graphs(A)\n",
    "# breaker()\n",
    "# if scheduler_oclr:\n",
    "#     show_lr_graph(LR)\n",
    "#     breaker()\n",
    "\n",
    "# BLs.append(BL)\n",
    "# BAs.append(BA)\n",
    "\n",
    "# fold += 1"
   ]
  },
  {
   "cell_type": "markdown",
   "id": "fd366cc7",
   "metadata": {
    "papermill": {
     "duration": 0.017943,
     "end_time": "2023-09-08T18:38:32.590506",
     "exception": false,
     "start_time": "2023-09-08T18:38:32.572563",
     "status": "completed"
    },
    "tags": []
   },
   "source": [
    "### **Best Model**"
   ]
  },
  {
   "cell_type": "code",
   "execution_count": 10,
   "id": "51117fe9",
   "metadata": {
    "execution": {
     "iopub.execute_input": "2023-09-08T18:38:32.628651Z",
     "iopub.status.busy": "2023-09-08T18:38:32.628321Z",
     "iopub.status.idle": "2023-09-08T18:38:32.633319Z",
     "shell.execute_reply": "2023-09-08T18:38:32.632130Z"
    },
    "papermill": {
     "duration": 0.02676,
     "end_time": "2023-09-08T18:38:32.635868",
     "exception": false,
     "start_time": "2023-09-08T18:38:32.609108",
     "status": "completed"
    },
    "tags": []
   },
   "outputs": [],
   "source": [
    "# BL = np.inf\n",
    "# for i in range(len(BLs)):\n",
    "#     if BLs[i][\"valid\"] < BL:\n",
    "#         BL = BLs[i][\"valid\"]\n",
    "#         best_loss_index = i\n",
    "\n",
    "        \n",
    "# BA = 0.0\n",
    "# for i in range(len(BAs)):\n",
    "#     if BAs[i][\"valid\"] > BA:\n",
    "#         BA = BAs[i][\"valid\"]\n",
    "#         best_accs_index = i\n",
    "\n",
    "# breaker()\n",
    "# print(f\"Best Loss Model Fold     : {best_loss_index + 1}\")\n",
    "# print(f\"Best Accuracy Model Fold : {best_accs_index + 1}\")\n",
    "# breaker()"
   ]
  }
 ],
 "kernelspec": {
  "display_name": "Python 3",
  "language": "python",
  "name": "python3"
 },
 "language_info": {
  "codemirror_mode": {
   "name": "ipython",
   "version": 3
  },
  "file_extension": ".py",
  "mimetype": "text/x-python",
  "name": "python",
  "nbconvert_exporter": "python",
  "pygments_lexer": "ipython3",
  "version": "3.6.4"
 },
 "metadata": {
  "kernelspec": {
   "display_name": "Python 3",
   "language": "python",
   "name": "python3"
  },
  "language_info": {
   "codemirror_mode": {
    "name": "ipython",
    "version": 3
   },
   "file_extension": ".py",
   "mimetype": "text/x-python",
   "name": "python",
   "nbconvert_exporter": "python",
   "pygments_lexer": "ipython3",
   "version": "3.10.12"
  },
  "papermill": {
   "default_parameters": {},
   "duration": 1230.17968,
   "end_time": "2023-09-08T18:38:35.111270",
   "environment_variables": {},
   "exception": null,
   "input_path": "__notebook__.ipynb",
   "output_path": "__notebook__.ipynb",
   "parameters": {},
   "start_time": "2023-09-08T18:18:04.931590",
   "version": "2.4.0"
  },
  "widgets": {
   "application/vnd.jupyter.widget-state+json": {
    "state": {
     "1f6168554bf343afa7853c10d6d9dea9": {
      "model_module": "@jupyter-widgets/base",
      "model_module_version": "1.2.0",
      "model_name": "LayoutModel",
      "state": {
       "_model_module": "@jupyter-widgets/base",
       "_model_module_version": "1.2.0",
       "_model_name": "LayoutModel",
       "_view_count": null,
       "_view_module": "@jupyter-widgets/base",
       "_view_module_version": "1.2.0",
       "_view_name": "LayoutView",
       "align_content": null,
       "align_items": null,
       "align_self": null,
       "border": null,
       "bottom": null,
       "display": null,
       "flex": null,
       "flex_flow": null,
       "grid_area": null,
       "grid_auto_columns": null,
       "grid_auto_flow": null,
       "grid_auto_rows": null,
       "grid_column": null,
       "grid_gap": null,
       "grid_row": null,
       "grid_template_areas": null,
       "grid_template_columns": null,
       "grid_template_rows": null,
       "height": null,
       "justify_content": null,
       "justify_items": null,
       "left": null,
       "margin": null,
       "max_height": null,
       "max_width": null,
       "min_height": null,
       "min_width": null,
       "object_fit": null,
       "object_position": null,
       "order": null,
       "overflow": null,
       "overflow_x": null,
       "overflow_y": null,
       "padding": null,
       "right": null,
       "top": null,
       "visibility": null,
       "width": null
      }
     },
     "4ed19a8df1b04dcc919c05e23e883888": {
      "model_module": "@jupyter-widgets/base",
      "model_module_version": "1.2.0",
      "model_name": "LayoutModel",
      "state": {
       "_model_module": "@jupyter-widgets/base",
       "_model_module_version": "1.2.0",
       "_model_name": "LayoutModel",
       "_view_count": null,
       "_view_module": "@jupyter-widgets/base",
       "_view_module_version": "1.2.0",
       "_view_name": "LayoutView",
       "align_content": null,
       "align_items": null,
       "align_self": null,
       "border": null,
       "bottom": null,
       "display": null,
       "flex": null,
       "flex_flow": null,
       "grid_area": null,
       "grid_auto_columns": null,
       "grid_auto_flow": null,
       "grid_auto_rows": null,
       "grid_column": null,
       "grid_gap": null,
       "grid_row": null,
       "grid_template_areas": null,
       "grid_template_columns": null,
       "grid_template_rows": null,
       "height": null,
       "justify_content": null,
       "justify_items": null,
       "left": null,
       "margin": null,
       "max_height": null,
       "max_width": null,
       "min_height": null,
       "min_width": null,
       "object_fit": null,
       "object_position": null,
       "order": null,
       "overflow": null,
       "overflow_x": null,
       "overflow_y": null,
       "padding": null,
       "right": null,
       "top": null,
       "visibility": null,
       "width": null
      }
     },
     "564359cfcfe44bf6ad9ad801b7d6f029": {
      "model_module": "@jupyter-widgets/controls",
      "model_module_version": "1.5.0",
      "model_name": "DescriptionStyleModel",
      "state": {
       "_model_module": "@jupyter-widgets/controls",
       "_model_module_version": "1.5.0",
       "_model_name": "DescriptionStyleModel",
       "_view_count": null,
       "_view_module": "@jupyter-widgets/base",
       "_view_module_version": "1.2.0",
       "_view_name": "StyleView",
       "description_width": ""
      }
     },
     "5efee481a4f5494bb938882c556e36d2": {
      "model_module": "@jupyter-widgets/controls",
      "model_module_version": "1.5.0",
      "model_name": "ProgressStyleModel",
      "state": {
       "_model_module": "@jupyter-widgets/controls",
       "_model_module_version": "1.5.0",
       "_model_name": "ProgressStyleModel",
       "_view_count": null,
       "_view_module": "@jupyter-widgets/base",
       "_view_module_version": "1.2.0",
       "_view_name": "StyleView",
       "bar_color": null,
       "description_width": ""
      }
     },
     "8dd9f2c4ae354732b7288a06c7e6c97a": {
      "model_module": "@jupyter-widgets/controls",
      "model_module_version": "1.5.0",
      "model_name": "HBoxModel",
      "state": {
       "_dom_classes": [],
       "_model_module": "@jupyter-widgets/controls",
       "_model_module_version": "1.5.0",
       "_model_name": "HBoxModel",
       "_view_count": null,
       "_view_module": "@jupyter-widgets/controls",
       "_view_module_version": "1.5.0",
       "_view_name": "HBoxView",
       "box_style": "",
       "children": [
        "IPY_MODEL_fd09ad5cabe14dd89674808f53c795df",
        "IPY_MODEL_fec7b0d2a3ea44f0b97de67716d52708",
        "IPY_MODEL_a4dacf0fffcb41e18ca9ce8c9a7fa66d"
       ],
       "layout": "IPY_MODEL_1f6168554bf343afa7853c10d6d9dea9"
      }
     },
     "a4dacf0fffcb41e18ca9ce8c9a7fa66d": {
      "model_module": "@jupyter-widgets/controls",
      "model_module_version": "1.5.0",
      "model_name": "HTMLModel",
      "state": {
       "_dom_classes": [],
       "_model_module": "@jupyter-widgets/controls",
       "_model_module_version": "1.5.0",
       "_model_name": "HTMLModel",
       "_view_count": null,
       "_view_module": "@jupyter-widgets/controls",
       "_view_module_version": "1.5.0",
       "_view_name": "HTMLView",
       "description": "",
       "description_tooltip": null,
       "layout": "IPY_MODEL_e0ef209840754f659fbab2773811a236",
       "placeholder": "​",
       "style": "IPY_MODEL_564359cfcfe44bf6ad9ad801b7d6f029",
       "value": " 77.9M/77.9M [00:00&lt;00:00, 169MB/s]"
      }
     },
     "e0ef209840754f659fbab2773811a236": {
      "model_module": "@jupyter-widgets/base",
      "model_module_version": "1.2.0",
      "model_name": "LayoutModel",
      "state": {
       "_model_module": "@jupyter-widgets/base",
       "_model_module_version": "1.2.0",
       "_model_name": "LayoutModel",
       "_view_count": null,
       "_view_module": "@jupyter-widgets/base",
       "_view_module_version": "1.2.0",
       "_view_name": "LayoutView",
       "align_content": null,
       "align_items": null,
       "align_self": null,
       "border": null,
       "bottom": null,
       "display": null,
       "flex": null,
       "flex_flow": null,
       "grid_area": null,
       "grid_auto_columns": null,
       "grid_auto_flow": null,
       "grid_auto_rows": null,
       "grid_column": null,
       "grid_gap": null,
       "grid_row": null,
       "grid_template_areas": null,
       "grid_template_columns": null,
       "grid_template_rows": null,
       "height": null,
       "justify_content": null,
       "justify_items": null,
       "left": null,
       "margin": null,
       "max_height": null,
       "max_width": null,
       "min_height": null,
       "min_width": null,
       "object_fit": null,
       "object_position": null,
       "order": null,
       "overflow": null,
       "overflow_x": null,
       "overflow_y": null,
       "padding": null,
       "right": null,
       "top": null,
       "visibility": null,
       "width": null
      }
     },
     "e904fb8798c9480eb725be745ef039b5": {
      "model_module": "@jupyter-widgets/base",
      "model_module_version": "1.2.0",
      "model_name": "LayoutModel",
      "state": {
       "_model_module": "@jupyter-widgets/base",
       "_model_module_version": "1.2.0",
       "_model_name": "LayoutModel",
       "_view_count": null,
       "_view_module": "@jupyter-widgets/base",
       "_view_module_version": "1.2.0",
       "_view_name": "LayoutView",
       "align_content": null,
       "align_items": null,
       "align_self": null,
       "border": null,
       "bottom": null,
       "display": null,
       "flex": null,
       "flex_flow": null,
       "grid_area": null,
       "grid_auto_columns": null,
       "grid_auto_flow": null,
       "grid_auto_rows": null,
       "grid_column": null,
       "grid_gap": null,
       "grid_row": null,
       "grid_template_areas": null,
       "grid_template_columns": null,
       "grid_template_rows": null,
       "height": null,
       "justify_content": null,
       "justify_items": null,
       "left": null,
       "margin": null,
       "max_height": null,
       "max_width": null,
       "min_height": null,
       "min_width": null,
       "object_fit": null,
       "object_position": null,
       "order": null,
       "overflow": null,
       "overflow_x": null,
       "overflow_y": null,
       "padding": null,
       "right": null,
       "top": null,
       "visibility": null,
       "width": null
      }
     },
     "f9c95986684d4b8b833ab9919d07159c": {
      "model_module": "@jupyter-widgets/controls",
      "model_module_version": "1.5.0",
      "model_name": "DescriptionStyleModel",
      "state": {
       "_model_module": "@jupyter-widgets/controls",
       "_model_module_version": "1.5.0",
       "_model_name": "DescriptionStyleModel",
       "_view_count": null,
       "_view_module": "@jupyter-widgets/base",
       "_view_module_version": "1.2.0",
       "_view_name": "StyleView",
       "description_width": ""
      }
     },
     "fd09ad5cabe14dd89674808f53c795df": {
      "model_module": "@jupyter-widgets/controls",
      "model_module_version": "1.5.0",
      "model_name": "HTMLModel",
      "state": {
       "_dom_classes": [],
       "_model_module": "@jupyter-widgets/controls",
       "_model_module_version": "1.5.0",
       "_model_name": "HTMLModel",
       "_view_count": null,
       "_view_module": "@jupyter-widgets/controls",
       "_view_module_version": "1.5.0",
       "_view_name": "HTMLView",
       "description": "",
       "description_tooltip": null,
       "layout": "IPY_MODEL_e904fb8798c9480eb725be745ef039b5",
       "placeholder": "​",
       "style": "IPY_MODEL_f9c95986684d4b8b833ab9919d07159c",
       "value": "Downloading model.safetensors: 100%"
      }
     },
     "fec7b0d2a3ea44f0b97de67716d52708": {
      "model_module": "@jupyter-widgets/controls",
      "model_module_version": "1.5.0",
      "model_name": "FloatProgressModel",
      "state": {
       "_dom_classes": [],
       "_model_module": "@jupyter-widgets/controls",
       "_model_module_version": "1.5.0",
       "_model_name": "FloatProgressModel",
       "_view_count": null,
       "_view_module": "@jupyter-widgets/controls",
       "_view_module_version": "1.5.0",
       "_view_name": "ProgressView",
       "bar_style": "success",
       "description": "",
       "description_tooltip": null,
       "layout": "IPY_MODEL_4ed19a8df1b04dcc919c05e23e883888",
       "max": 77933206.0,
       "min": 0.0,
       "orientation": "horizontal",
       "style": "IPY_MODEL_5efee481a4f5494bb938882c556e36d2",
       "value": 77933206.0
      }
     }
    },
    "version_major": 2,
    "version_minor": 0
   }
  }
 },
 "nbformat": 4,
 "nbformat_minor": 5
}
