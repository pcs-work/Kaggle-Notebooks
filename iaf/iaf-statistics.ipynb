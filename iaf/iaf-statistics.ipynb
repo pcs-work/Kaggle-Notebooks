{
 "cells": [
  {
   "cell_type": "code",
   "execution_count": 1,
   "id": "83a41ce0",
   "metadata": {
    "_cell_guid": "b1076dfc-b9ad-4769-8c92-a6c4dae69d19",
    "_uuid": "8f2839f25d086af736a60e9eeb907d3b93b6e0e5",
    "execution": {
     "iopub.execute_input": "2023-09-03T05:47:09.023990Z",
     "iopub.status.busy": "2023-09-03T05:47:09.022959Z",
     "iopub.status.idle": "2023-09-03T05:47:09.779472Z",
     "shell.execute_reply": "2023-09-03T05:47:09.778396Z"
    },
    "papermill": {
     "duration": 0.768125,
     "end_time": "2023-09-03T05:47:09.783186",
     "exception": false,
     "start_time": "2023-09-03T05:47:09.015061",
     "status": "completed"
    },
    "tags": []
   },
   "outputs": [],
   "source": [
    "import os\n",
    "import cv2\n",
    "import numpy as np\n",
    "import pandas as pd\n",
    "\n",
    "\n",
    "def breaker(num: int = 50, char: str = \"*\") -> None: print(\"\\n\" + num*char + \"\\n\")"
   ]
  },
  {
   "cell_type": "code",
   "execution_count": 2,
   "id": "215a2daa",
   "metadata": {
    "execution": {
     "iopub.execute_input": "2023-09-03T05:47:09.795253Z",
     "iopub.status.busy": "2023-09-03T05:47:09.794655Z",
     "iopub.status.idle": "2023-09-03T05:47:09.814743Z",
     "shell.execute_reply": "2023-09-03T05:47:09.813464Z"
    },
    "papermill": {
     "duration": 0.029032,
     "end_time": "2023-09-03T05:47:09.817329",
     "exception": false,
     "start_time": "2023-09-03T05:47:09.788297",
     "status": "completed"
    },
    "tags": []
   },
   "outputs": [],
   "source": [
    "def get_image(path: str, size: int=224) -> np.ndarray:\n",
    "    image = cv2.imread(path, cv2.IMREAD_COLOR)\n",
    "    image = cv2.cvtColor(src=image, code=cv2.COLOR_BGR2RGB)\n",
    "    return cv2.resize(src=image, dsize=(size, size), interpolation=cv2.INTER_CUBIC)\n",
    "\n",
    "\n",
    "def get_statistics(filepaths: np.ndarray) -> dict:\n",
    "\n",
    "    sizes: list = [192, 224, 384]\n",
    "    stats: dict = dict()\n",
    "    means: dict = dict()\n",
    "    stds: dict  = dict()\n",
    "        \n",
    "    for size in sizes:\n",
    "        total_num_of_images: int = 0\n",
    "        r_mean, g_mean, b_mean, r_std, g_std, b_std = 0.0, 0.0, 0.0, 0.0, 0.0, 0.0\n",
    "        for filepath in filepaths:\n",
    "            try:\n",
    "                image = get_image(filepath, size)\n",
    "            except:\n",
    "                print(filepath)\n",
    "            r_mean += image[:, :, 0].mean()\n",
    "            g_mean += image[:, :, 1].mean()\n",
    "            b_mean += image[:, :, 2].mean()\n",
    "            r_std += image[:, :, 0].std()\n",
    "            g_std += image[:, :, 1].std()\n",
    "            b_std += image[:, :, 2].std()\n",
    "            total_num_of_images += 1\n",
    "        \n",
    "        means[f\"{size}\"] = [\n",
    "            r_mean / total_num_of_images / 255, \n",
    "            g_mean / total_num_of_images / 255, \n",
    "            b_mean / total_num_of_images / 255,\n",
    "        ]\n",
    "        \n",
    "        stds[f\"{size}\"]  = [\n",
    "            r_std / total_num_of_images / 255, \n",
    "            g_std / total_num_of_images / 255, \n",
    "            b_std / total_num_of_images / 255,\n",
    "        ]\n",
    "    \n",
    "    stats[\"means\"] = means\n",
    "    stats[\"stds\"] = stds\n",
    "    \n",
    "    return stats\n",
    "\n",
    "\n",
    "def print_statistics(stats: dict) -> None:\n",
    "    breaker()\n",
    "    print(\"Means\".upper())\n",
    "    breaker()\n",
    "    for k, v in stats[\"means\"].items():\n",
    "        print(f\"{k} x {k} Means\\n\")\n",
    "        for i in range(len(v)):\n",
    "            if i == 0:\n",
    "                print(f\"Red   : {v[i]:.5f}\")\n",
    "            if i == 1:\n",
    "                print(f\"Green : {v[i]:.5f}\")\n",
    "            if i == 2:\n",
    "                print(f\"Blue  : {v[i]:.5f}\")\n",
    "        breaker()\n",
    "    \n",
    "    breaker()\n",
    "    print(\"Stds\".upper())\n",
    "    breaker()\n",
    "    for k, v in stats[\"stds\"].items():\n",
    "        print(f\"{k} x {k} Stds\\n\")\n",
    "        for i in range(len(v)):\n",
    "            if i == 0:\n",
    "                print(f\"Red   : {v[i]:.5f}\")\n",
    "            if i == 1:\n",
    "                print(f\"Green : {v[i]:.5f}\")\n",
    "            if i == 2:\n",
    "                print(f\"Blue  : {v[i]:.5f}\")\n",
    "        breaker()"
   ]
  },
  {
   "cell_type": "code",
   "execution_count": 3,
   "id": "3a47d610",
   "metadata": {
    "execution": {
     "iopub.execute_input": "2023-09-03T05:47:09.828730Z",
     "iopub.status.busy": "2023-09-03T05:47:09.827524Z",
     "iopub.status.idle": "2023-09-03T05:48:28.414276Z",
     "shell.execute_reply": "2023-09-03T05:48:28.413052Z"
    },
    "papermill": {
     "duration": 78.600647,
     "end_time": "2023-09-03T05:48:28.422016",
     "exception": false,
     "start_time": "2023-09-03T05:47:09.821369",
     "status": "completed"
    },
    "tags": []
   },
   "outputs": [
    {
     "name": "stdout",
     "output_type": "stream",
     "text": [
      "\n",
      "**************************************************\n",
      "\n",
      "MEANS\n",
      "\n",
      "**************************************************\n",
      "\n",
      "192 x 192 Means\n",
      "\n",
      "Red   : 0.59881\n",
      "Green : 0.44761\n",
      "Blue  : 0.38006\n",
      "\n",
      "**************************************************\n",
      "\n",
      "224 x 224 Means\n",
      "\n",
      "Red   : 0.59881\n",
      "Green : 0.44761\n",
      "Blue  : 0.38006\n",
      "\n",
      "**************************************************\n",
      "\n",
      "384 x 384 Means\n",
      "\n",
      "Red   : 0.59881\n",
      "Green : 0.44761\n",
      "Blue  : 0.38006\n",
      "\n",
      "**************************************************\n",
      "\n",
      "\n",
      "**************************************************\n",
      "\n",
      "STDS\n",
      "\n",
      "**************************************************\n",
      "\n",
      "192 x 192 Stds\n",
      "\n",
      "Red   : 0.23384\n",
      "Green : 0.20223\n",
      "Blue  : 0.18433\n",
      "\n",
      "**************************************************\n",
      "\n",
      "224 x 224 Stds\n",
      "\n",
      "Red   : 0.23384\n",
      "Green : 0.20223\n",
      "Blue  : 0.18433\n",
      "\n",
      "**************************************************\n",
      "\n",
      "384 x 384 Stds\n",
      "\n",
      "Red   : 0.23384\n",
      "Green : 0.20223\n",
      "Blue  : 0.18433\n",
      "\n",
      "**************************************************\n",
      "\n"
     ]
    }
   ],
   "source": [
    "df = pd.read_csv(\"/kaggle/input/iaf-dataframe/train.csv\")\n",
    "\n",
    "stats = get_statistics(df.filepaths.copy().values)\n",
    "print_statistics(stats)"
   ]
  }
 ],
 "kernelspec": {
  "display_name": "Python 3",
  "language": "python",
  "name": "python3"
 },
 "language_info": {
  "codemirror_mode": {
   "name": "ipython",
   "version": 3
  },
  "file_extension": ".py",
  "mimetype": "text/x-python",
  "name": "python",
  "nbconvert_exporter": "python",
  "pygments_lexer": "ipython3",
  "version": "3.6.4"
 },
 "metadata": {
  "kernelspec": {
   "display_name": "Python 3",
   "language": "python",
   "name": "python3"
  },
  "language_info": {
   "codemirror_mode": {
    "name": "ipython",
    "version": 3
   },
   "file_extension": ".py",
   "mimetype": "text/x-python",
   "name": "python",
   "nbconvert_exporter": "python",
   "pygments_lexer": "ipython3",
   "version": "3.10.12"
  },
  "papermill": {
   "default_parameters": {},
   "duration": 84.210774,
   "end_time": "2023-09-03T05:48:29.150455",
   "environment_variables": {},
   "exception": null,
   "input_path": "__notebook__.ipynb",
   "output_path": "__notebook__.ipynb",
   "parameters": {},
   "start_time": "2023-09-03T05:47:04.939681",
   "version": "2.4.0"
  }
 },
 "nbformat": 4,
 "nbformat_minor": 5
}
