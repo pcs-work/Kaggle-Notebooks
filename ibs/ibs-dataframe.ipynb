{
 "cells": [
  {
   "cell_type": "code",
   "execution_count": 1,
   "id": "d5b47c37",
   "metadata": {
    "_cell_guid": "b1076dfc-b9ad-4769-8c92-a6c4dae69d19",
    "_uuid": "8f2839f25d086af736a60e9eeb907d3b93b6e0e5",
    "execution": {
     "iopub.execute_input": "2023-03-05T06:52:50.550809Z",
     "iopub.status.busy": "2023-03-05T06:52:50.550393Z",
     "iopub.status.idle": "2023-03-05T06:52:50.762240Z",
     "shell.execute_reply": "2023-03-05T06:52:50.760642Z"
    },
    "papermill": {
     "duration": 0.219041,
     "end_time": "2023-03-05T06:52:50.765224",
     "exception": false,
     "start_time": "2023-03-05T06:52:50.546183",
     "status": "completed"
    },
    "tags": []
   },
   "outputs": [],
   "source": [
    "import os\n",
    "import cv2\n",
    "import json\n",
    "import numpy as np\n",
    "import pandas as pd\n",
    "\n",
    "BASE_PATH: str = \"/kaggle/input/25-indian-bird-species-with-226k-images/training_set\""
   ]
  },
  {
   "cell_type": "code",
   "execution_count": 2,
   "id": "89aa8926",
   "metadata": {
    "execution": {
     "iopub.execute_input": "2023-03-05T06:52:50.770199Z",
     "iopub.status.busy": "2023-03-05T06:52:50.769830Z",
     "iopub.status.idle": "2023-03-05T06:52:58.981949Z",
     "shell.execute_reply": "2023-03-05T06:52:58.980384Z"
    },
    "papermill": {
     "duration": 8.217871,
     "end_time": "2023-03-05T06:52:58.985025",
     "exception": false,
     "start_time": "2023-03-05T06:52:50.767154",
     "status": "completed"
    },
    "tags": []
   },
   "outputs": [],
   "source": [
    "df = pd.DataFrame(data=None, columns=[\"filepaths\", \"labels\"])\n",
    "\n",
    "filepaths: list = []\n",
    "labels: list = []\n",
    "\n",
    "i: int = 0\n",
    "for folder in sorted(os.listdir(f\"{BASE_PATH}\")):\n",
    "    for filename in os.listdir(f\"{BASE_PATH}/{folder}\"):\n",
    "        filepaths.append(os.path.join(f\"{BASE_PATH}/{folder}\", filename))\n",
    "        labels.append(i)\n",
    "    i += 1\n",
    "                                                        \n",
    "df.filepaths = filepaths\n",
    "df.labels = labels\n",
    "df.to_csv(\"train.csv\", index=False)"
   ]
  },
  {
   "cell_type": "code",
   "execution_count": 3,
   "id": "e937c7e5",
   "metadata": {
    "execution": {
     "iopub.execute_input": "2023-03-05T06:52:58.990125Z",
     "iopub.status.busy": "2023-03-05T06:52:58.989739Z",
     "iopub.status.idle": "2023-03-05T06:52:58.997984Z",
     "shell.execute_reply": "2023-03-05T06:52:58.996174Z"
    },
    "papermill": {
     "duration": 0.013862,
     "end_time": "2023-03-05T06:52:59.000802",
     "exception": false,
     "start_time": "2023-03-05T06:52:58.986940",
     "status": "completed"
    },
    "tags": []
   },
   "outputs": [],
   "source": [
    "labels: dict = dict()\n",
    "\n",
    "i = 0\n",
    "for folder in sorted(os.listdir(f\"{BASE_PATH}\")):\n",
    "    labels[i] = folder\n",
    "    i += 1\n",
    "\n",
    "json.dump(labels, open(\"labels.json\", \"w\"))"
   ]
  }
 ],
 "metadata": {
  "kernelspec": {
   "display_name": "Python 3",
   "language": "python",
   "name": "python3"
  },
  "language_info": {
   "codemirror_mode": {
    "name": "ipython",
    "version": 3
   },
   "file_extension": ".py",
   "mimetype": "text/x-python",
   "name": "python",
   "nbconvert_exporter": "python",
   "pygments_lexer": "ipython3",
   "version": "3.7.12"
  },
  "papermill": {
   "default_parameters": {},
   "duration": 18.460635,
   "end_time": "2023-03-05T06:52:59.729009",
   "environment_variables": {},
   "exception": null,
   "input_path": "__notebook__.ipynb",
   "output_path": "__notebook__.ipynb",
   "parameters": {},
   "start_time": "2023-03-05T06:52:41.268374",
   "version": "2.4.0"
  }
 },
 "nbformat": 4,
 "nbformat_minor": 5
}
