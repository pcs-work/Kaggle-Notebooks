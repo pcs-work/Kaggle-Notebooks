{
 "cells": [
  {
   "cell_type": "code",
   "execution_count": 1,
   "id": "e1da4abe",
   "metadata": {
    "_cell_guid": "b1076dfc-b9ad-4769-8c92-a6c4dae69d19",
    "_uuid": "8f2839f25d086af736a60e9eeb907d3b93b6e0e5",
    "execution": {
     "iopub.execute_input": "2023-03-06T12:15:20.456199Z",
     "iopub.status.busy": "2023-03-06T12:15:20.455614Z",
     "iopub.status.idle": "2023-03-06T12:15:20.660426Z",
     "shell.execute_reply": "2023-03-06T12:15:20.659433Z"
    },
    "papermill": {
     "duration": 0.213336,
     "end_time": "2023-03-06T12:15:20.663580",
     "exception": false,
     "start_time": "2023-03-06T12:15:20.450244",
     "status": "completed"
    },
    "tags": []
   },
   "outputs": [],
   "source": [
    "import os\n",
    "import cv2\n",
    "import json\n",
    "import numpy as np\n",
    "import pandas as pd\n",
    "\n",
    "BASE_PATH: str = \"/kaggle/input/intel-image-classification\""
   ]
  },
  {
   "cell_type": "code",
   "execution_count": 2,
   "id": "d478142f",
   "metadata": {
    "execution": {
     "iopub.execute_input": "2023-03-06T12:15:20.670675Z",
     "iopub.status.busy": "2023-03-06T12:15:20.669889Z",
     "iopub.status.idle": "2023-03-06T12:15:20.687830Z",
     "shell.execute_reply": "2023-03-06T12:15:20.686546Z"
    },
    "papermill": {
     "duration": 0.02457,
     "end_time": "2023-03-06T12:15:20.690734",
     "exception": false,
     "start_time": "2023-03-06T12:15:20.666164",
     "status": "completed"
    },
    "tags": []
   },
   "outputs": [],
   "source": [
    "tr_only_df: pd.DataFrame = pd.DataFrame(data=None, columns=[\"filepaths\", \"labels\"])\n",
    "tr_df: pd.DataFrame = pd.DataFrame(data=None, columns=[\"filepaths\", \"labels\"])     \n",
    "va_df: pd.DataFrame = pd.DataFrame(data=None, columns=[\"filepaths\", \"labels\"])\n",
    "ts_df: pd.DataFrame = pd.DataFrame(data=None, columns=[\"filepaths\"]) "
   ]
  },
  {
   "cell_type": "code",
   "execution_count": 3,
   "id": "ef997d59",
   "metadata": {
    "execution": {
     "iopub.execute_input": "2023-03-06T12:15:20.697227Z",
     "iopub.status.busy": "2023-03-06T12:15:20.696766Z",
     "iopub.status.idle": "2023-03-06T12:15:21.946227Z",
     "shell.execute_reply": "2023-03-06T12:15:21.945235Z"
    },
    "papermill": {
     "duration": 1.255967,
     "end_time": "2023-03-06T12:15:21.949035",
     "exception": false,
     "start_time": "2023-03-06T12:15:20.693068",
     "status": "completed"
    },
    "tags": []
   },
   "outputs": [],
   "source": [
    "tr_filepaths: list = []\n",
    "tr_labels: list = []\n",
    "\n",
    "va_filepaths: list = []\n",
    "va_labels: list = []\n",
    "\n",
    "i: int = 0\n",
    "for folder in sorted(os.listdir(f\"{BASE_PATH}/seg_train/seg_train\")):\n",
    "    for filename in os.listdir(f\"{BASE_PATH}/seg_train/seg_train/{folder}\"):\n",
    "        tr_filepaths.append(os.path.join(f\"{BASE_PATH}/seg_train/seg_train/{folder}\", filename))\n",
    "        tr_labels.append(i)\n",
    "    i += 1\n",
    "    \n",
    "i: int = 0\n",
    "for folder in sorted(os.listdir(f\"{BASE_PATH}/seg_test/seg_test\")):\n",
    "    for filename in os.listdir(f\"{BASE_PATH}/seg_test/seg_test/{folder}\"):\n",
    "        va_filepaths.append(os.path.join(f\"{BASE_PATH}/seg_test/seg_test/{folder}\", filename))\n",
    "        va_labels.append(i)\n",
    "    i += 1\n",
    "\n",
    "tr_only_df.filepaths = tr_filepaths\n",
    "tr_only_df.labels = tr_labels\n",
    "tr_only_df.to_csv(\"train_only.csv\", index=False)\n",
    "\n",
    "va_df.filepaths = va_filepaths\n",
    "va_df.labels = va_labels\n",
    "va_df.to_csv(\"valid.csv\", index=False)\n",
    "\n",
    "tr_df.filepaths = tr_filepaths + va_filepaths\n",
    "tr_df.labels = tr_labels + va_labels\n",
    "tr_df.to_csv(\"train.csv\", index=False)"
   ]
  },
  {
   "cell_type": "code",
   "execution_count": 4,
   "id": "5474d86e",
   "metadata": {
    "execution": {
     "iopub.execute_input": "2023-03-06T12:15:21.955816Z",
     "iopub.status.busy": "2023-03-06T12:15:21.955072Z",
     "iopub.status.idle": "2023-03-06T12:15:22.681315Z",
     "shell.execute_reply": "2023-03-06T12:15:22.680236Z"
    },
    "papermill": {
     "duration": 0.732903,
     "end_time": "2023-03-06T12:15:22.684224",
     "exception": false,
     "start_time": "2023-03-06T12:15:21.951321",
     "status": "completed"
    },
    "tags": []
   },
   "outputs": [],
   "source": [
    "filepaths: list = []\n",
    "labels: list = []\n",
    "\n",
    "for filename in sorted(os.listdir(f\"{BASE_PATH}/seg_pred/seg_pred\")):\n",
    "    filepaths.append(os.path.join(f\"{BASE_PATH}/seg_pred/seg_pred\", filename))\n",
    "\n",
    "ts_df.filepaths = filepaths\n",
    "ts_df.to_csv(\"test.csv\", index=False)"
   ]
  },
  {
   "cell_type": "code",
   "execution_count": 5,
   "id": "fcc2d0d7",
   "metadata": {
    "execution": {
     "iopub.execute_input": "2023-03-06T12:15:22.693570Z",
     "iopub.status.busy": "2023-03-06T12:15:22.692631Z",
     "iopub.status.idle": "2023-03-06T12:15:22.701392Z",
     "shell.execute_reply": "2023-03-06T12:15:22.700201Z"
    },
    "papermill": {
     "duration": 0.016814,
     "end_time": "2023-03-06T12:15:22.704630",
     "exception": false,
     "start_time": "2023-03-06T12:15:22.687816",
     "status": "completed"
    },
    "tags": []
   },
   "outputs": [],
   "source": [
    "labels: dict = dict()\n",
    "\n",
    "i = 0\n",
    "for folder in sorted(os.listdir(f\"{BASE_PATH}/seg_train/seg_train\")):\n",
    "    labels[i] = folder\n",
    "    i += 1\n",
    "\n",
    "json.dump(labels, open(\"labels.json\", \"w\"))"
   ]
  }
 ],
 "metadata": {
  "kernelspec": {
   "display_name": "Python 3",
   "language": "python",
   "name": "python3"
  },
  "language_info": {
   "codemirror_mode": {
    "name": "ipython",
    "version": 3
   },
   "file_extension": ".py",
   "mimetype": "text/x-python",
   "name": "python",
   "nbconvert_exporter": "python",
   "pygments_lexer": "ipython3",
   "version": "3.7.12"
  },
  "papermill": {
   "default_parameters": {},
   "duration": 13.973641,
   "end_time": "2023-03-06T12:15:23.431156",
   "environment_variables": {},
   "exception": null,
   "input_path": "__notebook__.ipynb",
   "output_path": "__notebook__.ipynb",
   "parameters": {},
   "start_time": "2023-03-06T12:15:09.457515",
   "version": "2.4.0"
  }
 },
 "nbformat": 4,
 "nbformat_minor": 5
}
