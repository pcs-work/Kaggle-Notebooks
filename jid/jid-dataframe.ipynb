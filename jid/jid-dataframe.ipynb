{
 "cells": [
  {
   "cell_type": "code",
   "execution_count": 1,
   "id": "223f6422",
   "metadata": {
    "_cell_guid": "b1076dfc-b9ad-4769-8c92-a6c4dae69d19",
    "_uuid": "8f2839f25d086af736a60e9eeb907d3b93b6e0e5",
    "execution": {
     "iopub.execute_input": "2023-11-15T09:04:42.888207Z",
     "iopub.status.busy": "2023-11-15T09:04:42.886957Z",
     "iopub.status.idle": "2023-11-15T09:04:44.825076Z",
     "shell.execute_reply": "2023-11-15T09:04:44.823884Z"
    },
    "papermill": {
     "duration": 1.946134,
     "end_time": "2023-11-15T09:04:44.828170",
     "exception": false,
     "start_time": "2023-11-15T09:04:42.882036",
     "status": "completed"
    },
    "tags": []
   },
   "outputs": [],
   "source": [
    "import os\n",
    "import cv2\n",
    "import json\n",
    "import numpy as np\n",
    "import pandas as pd\n",
    "\n",
    "from sklearn.model_selection import train_test_split\n",
    "\n",
    "BASE_PATH: str = \"/kaggle/input/jellyfish-types\""
   ]
  },
  {
   "cell_type": "code",
   "execution_count": 2,
   "id": "2c618e5f",
   "metadata": {
    "execution": {
     "iopub.execute_input": "2023-11-15T09:04:44.836166Z",
     "iopub.status.busy": "2023-11-15T09:04:44.835017Z",
     "iopub.status.idle": "2023-11-15T09:04:45.191007Z",
     "shell.execute_reply": "2023-11-15T09:04:45.189692Z"
    },
    "papermill": {
     "duration": 0.363028,
     "end_time": "2023-11-15T09:04:45.194018",
     "exception": false,
     "start_time": "2023-11-15T09:04:44.830990",
     "status": "completed"
    },
    "tags": []
   },
   "outputs": [],
   "source": [
    "folders = [folder for folder in sorted(os.listdir(f\"{BASE_PATH}\")) if folder != \"Train_Test_Valid\"]\n",
    "\n",
    "df: pd.DataFrame = pd.DataFrame(data=None, columns=[\"filepaths\", \"labels\"])\n",
    "    \n",
    "filepaths: list = []\n",
    "labels: list = []\n",
    "    \n",
    "i: int = 0\n",
    "for folder in folders:\n",
    "    for filename in os.listdir(f\"{BASE_PATH}/{folder}\"):\n",
    "        filepaths.append(os.path.join(f\"{BASE_PATH}/{folder}\", filename))\n",
    "        labels.append(i)\n",
    "    i += 1\n",
    "\n",
    "df.filepaths = filepaths\n",
    "df.labels = labels\n",
    "df.to_csv(\"full.csv\", index=False)"
   ]
  },
  {
   "cell_type": "code",
   "execution_count": 3,
   "id": "d14a6317",
   "metadata": {
    "execution": {
     "iopub.execute_input": "2023-11-15T09:04:45.200997Z",
     "iopub.status.busy": "2023-11-15T09:04:45.200501Z",
     "iopub.status.idle": "2023-11-15T09:04:45.221071Z",
     "shell.execute_reply": "2023-11-15T09:04:45.219727Z"
    },
    "papermill": {
     "duration": 0.027533,
     "end_time": "2023-11-15T09:04:45.224016",
     "exception": false,
     "start_time": "2023-11-15T09:04:45.196483",
     "status": "completed"
    },
    "tags": []
   },
   "outputs": [],
   "source": [
    "tr_filepaths, ts_filepaths, tr_labels, ts_labels = train_test_split(\n",
    "    filepaths,\n",
    "    labels,\n",
    "    test_size=0.2, \n",
    "    random_state=0,\n",
    "    shuffle=True,\n",
    "    stratify=labels,\n",
    ")\n",
    "\n",
    "tr_df: pd.DataFrame = pd.DataFrame(data=None, columns=[\"filepaths\", \"labels\"])\n",
    "ts_df: pd.DataFrame = pd.DataFrame(data=None, columns=[\"filepaths\", \"labels\"])\n",
    "\n",
    "tr_df.filepaths = tr_filepaths\n",
    "tr_df.labels = tr_labels\n",
    "tr_df.to_csv(\"train.csv\", index=False)\n",
    "\n",
    "ts_df.filepaths = ts_filepaths\n",
    "ts_df.labels = ts_labels\n",
    "ts_df.to_csv(\"test.csv\", index=False)"
   ]
  },
  {
   "cell_type": "code",
   "execution_count": 4,
   "id": "c2609176",
   "metadata": {
    "execution": {
     "iopub.execute_input": "2023-11-15T09:04:45.231031Z",
     "iopub.status.busy": "2023-11-15T09:04:45.230535Z",
     "iopub.status.idle": "2023-11-15T09:04:45.237056Z",
     "shell.execute_reply": "2023-11-15T09:04:45.235899Z"
    },
    "papermill": {
     "duration": 0.01305,
     "end_time": "2023-11-15T09:04:45.239547",
     "exception": false,
     "start_time": "2023-11-15T09:04:45.226497",
     "status": "completed"
    },
    "tags": []
   },
   "outputs": [],
   "source": [
    "labels: dict = dict()\n",
    "\n",
    "i = 0\n",
    "for folder in folders:\n",
    "    labels[i] = folder.title()\n",
    "    i += 1\n",
    "\n",
    "json.dump(labels, open(\"labels.json\", \"w\"))"
   ]
  }
 ],
 "metadata": {
  "kaggle": {
   "accelerator": "none",
   "dataSources": [
    {
     "datasetId": 3893117,
     "sourceId": 6800124,
     "sourceType": "datasetVersion"
    }
   ],
   "dockerImageVersionId": 30579,
   "isGpuEnabled": false,
   "isInternetEnabled": true,
   "language": "python",
   "sourceType": "notebook"
  },
  "kernelspec": {
   "display_name": "Python 3",
   "language": "python",
   "name": "python3"
  },
  "language_info": {
   "codemirror_mode": {
    "name": "ipython",
    "version": 3
   },
   "file_extension": ".py",
   "mimetype": "text/x-python",
   "name": "python",
   "nbconvert_exporter": "python",
   "pygments_lexer": "ipython3",
   "version": "3.10.12"
  },
  "papermill": {
   "default_parameters": {},
   "duration": 6.682305,
   "end_time": "2023-11-15T09:04:46.164715",
   "environment_variables": {},
   "exception": null,
   "input_path": "__notebook__.ipynb",
   "output_path": "__notebook__.ipynb",
   "parameters": {},
   "start_time": "2023-11-15T09:04:39.482410",
   "version": "2.4.0"
  }
 },
 "nbformat": 4,
 "nbformat_minor": 5
}
