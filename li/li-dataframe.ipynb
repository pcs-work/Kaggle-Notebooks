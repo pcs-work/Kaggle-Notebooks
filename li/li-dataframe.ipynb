{
 "cells": [
  {
   "cell_type": "code",
   "execution_count": 1,
   "id": "2dc407d4",
   "metadata": {
    "_cell_guid": "b1076dfc-b9ad-4769-8c92-a6c4dae69d19",
    "_uuid": "8f2839f25d086af736a60e9eeb907d3b93b6e0e5",
    "execution": {
     "iopub.execute_input": "2023-03-19T12:56:23.843797Z",
     "iopub.status.busy": "2023-03-19T12:56:23.843133Z",
     "iopub.status.idle": "2023-03-19T12:56:24.025337Z",
     "shell.execute_reply": "2023-03-19T12:56:24.023848Z"
    },
    "papermill": {
     "duration": 0.189886,
     "end_time": "2023-03-19T12:56:24.028535",
     "exception": false,
     "start_time": "2023-03-19T12:56:23.838649",
     "status": "completed"
    },
    "tags": []
   },
   "outputs": [],
   "source": [
    "import os, cv2, json\n",
    "import numpy as np\n",
    "import pandas as pd\n",
    "\n",
    "BASE_PATH: str = \"/kaggle/input/leaf-images/300_dataset\""
   ]
  },
  {
   "cell_type": "code",
   "execution_count": 2,
   "id": "8afcba72",
   "metadata": {
    "execution": {
     "iopub.execute_input": "2023-03-19T12:56:24.034358Z",
     "iopub.status.busy": "2023-03-19T12:56:24.033914Z",
     "iopub.status.idle": "2023-03-19T12:56:24.479839Z",
     "shell.execute_reply": "2023-03-19T12:56:24.477515Z"
    },
    "papermill": {
     "duration": 0.453858,
     "end_time": "2023-03-19T12:56:24.484507",
     "exception": false,
     "start_time": "2023-03-19T12:56:24.030649",
     "status": "completed"
    },
    "tags": []
   },
   "outputs": [],
   "source": [
    "df: pd.DataFrame = pd.DataFrame(data=None, columns=[\"filepaths\", \"labels\"])\n",
    "    \n",
    "filepaths: list = []\n",
    "labels: list = []\n",
    "    \n",
    "i: int = 0\n",
    "for folder in sorted(os.listdir(f\"{BASE_PATH}\")):\n",
    "    for filename in os.listdir(f\"{BASE_PATH}/{folder}\"):\n",
    "        filepaths.append(os.path.join(f\"{BASE_PATH}/{folder}\", filename))\n",
    "        labels.append(i)\n",
    "    i += 1\n",
    "\n",
    "df.filepaths = filepaths\n",
    "df.labels = labels\n",
    "df.to_csv(\"train.csv\", index=False)"
   ]
  },
  {
   "cell_type": "code",
   "execution_count": 3,
   "id": "8c931e60",
   "metadata": {
    "execution": {
     "iopub.execute_input": "2023-03-19T12:56:24.491551Z",
     "iopub.status.busy": "2023-03-19T12:56:24.490217Z",
     "iopub.status.idle": "2023-03-19T12:56:24.499742Z",
     "shell.execute_reply": "2023-03-19T12:56:24.498554Z"
    },
    "papermill": {
     "duration": 0.016994,
     "end_time": "2023-03-19T12:56:24.503750",
     "exception": false,
     "start_time": "2023-03-19T12:56:24.486756",
     "status": "completed"
    },
    "tags": []
   },
   "outputs": [],
   "source": [
    "labels: dict = dict()\n",
    "\n",
    "i = 0\n",
    "for folder in sorted(os.listdir(f\"{BASE_PATH}\")):\n",
    "    labels[i] = folder\n",
    "    i += 1\n",
    "\n",
    "json.dump(labels, open(\"labels.json\", \"w\"))"
   ]
  }
 ],
 "metadata": {
  "kernelspec": {
   "display_name": "Python 3",
   "language": "python",
   "name": "python3"
  },
  "language_info": {
   "codemirror_mode": {
    "name": "ipython",
    "version": 3
   },
   "file_extension": ".py",
   "mimetype": "text/x-python",
   "name": "python",
   "nbconvert_exporter": "python",
   "pygments_lexer": "ipython3",
   "version": "3.7.12"
  },
  "papermill": {
   "default_parameters": {},
   "duration": 11.810115,
   "end_time": "2023-03-19T12:56:25.231017",
   "environment_variables": {},
   "exception": null,
   "input_path": "__notebook__.ipynb",
   "output_path": "__notebook__.ipynb",
   "parameters": {},
   "start_time": "2023-03-19T12:56:13.420902",
   "version": "2.4.0"
  }
 },
 "nbformat": 4,
 "nbformat_minor": 5
}
