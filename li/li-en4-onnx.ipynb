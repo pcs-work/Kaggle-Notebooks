{
 "cells": [
  {
   "cell_type": "code",
   "execution_count": 1,
   "id": "6272b548",
   "metadata": {
    "_cell_guid": "b1076dfc-b9ad-4769-8c92-a6c4dae69d19",
    "_uuid": "8f2839f25d086af736a60e9eeb907d3b93b6e0e5",
    "execution": {
     "iopub.execute_input": "2023-03-21T05:29:18.440754Z",
     "iopub.status.busy": "2023-03-21T05:29:18.440078Z",
     "iopub.status.idle": "2023-03-21T05:29:30.847879Z",
     "shell.execute_reply": "2023-03-21T05:29:30.846010Z"
    },
    "papermill": {
     "duration": 12.41662,
     "end_time": "2023-03-21T05:29:30.851095",
     "exception": false,
     "start_time": "2023-03-21T05:29:18.434475",
     "status": "completed"
    },
    "tags": []
   },
   "outputs": [
    {
     "name": "stderr",
     "output_type": "stream",
     "text": [
      "WARNING: Running pip as the 'root' user can result in broken permissions and conflicting behaviour with the system package manager. It is recommended to use a virtual environment instead: https://pip.pypa.io/warnings/venv\n"
     ]
    }
   ],
   "source": [
    "%%bash\n",
    "pip install timm onnx onnxruntime -q"
   ]
  },
  {
   "cell_type": "code",
   "execution_count": 2,
   "id": "a6f2e26f",
   "metadata": {
    "execution": {
     "iopub.execute_input": "2023-03-21T05:29:30.859300Z",
     "iopub.status.busy": "2023-03-21T05:29:30.858908Z",
     "iopub.status.idle": "2023-03-21T05:29:35.221014Z",
     "shell.execute_reply": "2023-03-21T05:29:35.219595Z"
    },
    "papermill": {
     "duration": 4.369741,
     "end_time": "2023-03-21T05:29:35.224090",
     "exception": false,
     "start_time": "2023-03-21T05:29:30.854349",
     "status": "completed"
    },
    "tags": []
   },
   "outputs": [],
   "source": [
    "import os\n",
    "import sys\n",
    "import cv2\n",
    "import json\n",
    "import onnx\n",
    "import timm\n",
    "import torch\n",
    "import random as r\n",
    "import numpy as np\n",
    "import pandas as pd\n",
    "import onnxruntime as ort\n",
    "import matplotlib.pyplot as plt\n",
    "\n",
    "from typing import Union\n",
    "from torchvision import models\n",
    "from IPython.display import clear_output\n",
    "\n",
    "import warnings\n",
    "warnings.filterwarnings(\"ignore\")\n",
    "\n",
    "if not os.path.exists(\"onnx\"): os.makedirs(\"onnx\")\n",
    "    \n",
    "ort.set_default_logger_severity(3)"
   ]
  },
  {
   "cell_type": "code",
   "execution_count": 3,
   "id": "2fc3133d",
   "metadata": {
    "execution": {
     "iopub.execute_input": "2023-03-21T05:29:35.232524Z",
     "iopub.status.busy": "2023-03-21T05:29:35.232096Z",
     "iopub.status.idle": "2023-03-21T05:29:35.246431Z",
     "shell.execute_reply": "2023-03-21T05:29:35.245081Z"
    },
    "papermill": {
     "duration": 0.021933,
     "end_time": "2023-03-21T05:29:35.249122",
     "exception": false,
     "start_time": "2023-03-21T05:29:35.227189",
     "status": "completed"
    },
    "tags": []
   },
   "outputs": [],
   "source": [
    "labels: dict = json.load(open(\"/kaggle/input/li-dataframe/labels.json\", \"r\"))\n",
    "    \n",
    "    \n",
    "def breaker() -> None:\n",
    "    print(\"\\n\" + 50*\"*\" + \"\\n\")\n",
    "\n",
    "\n",
    "def get_image(path: str) -> np.ndarray:\n",
    "    image = cv2.imread(path, cv2.IMREAD_COLOR)\n",
    "    image = cv2.cvtColor(src=image, code=cv2.COLOR_BGR2RGB)\n",
    "    return cv2.resize(src=image, dsize=(224, 224), interpolation=cv2.INTER_AREA)\n",
    "\n",
    "\n",
    "def show_image(\n",
    "    image: np.ndarray, \n",
    "    cmap: str=\"gnuplot2\", \n",
    "    title: Union[str, None]=None\n",
    ") -> None:\n",
    "    plt.figure()\n",
    "    plt.imshow(image, cmap=cmap)\n",
    "    plt.axis(\"off\")\n",
    "    if title: plt.title(title)\n",
    "    plt.show()"
   ]
  },
  {
   "cell_type": "code",
   "execution_count": 4,
   "id": "8c927f02",
   "metadata": {
    "execution": {
     "iopub.execute_input": "2023-03-21T05:29:35.257043Z",
     "iopub.status.busy": "2023-03-21T05:29:35.256212Z",
     "iopub.status.idle": "2023-03-21T05:29:35.265183Z",
     "shell.execute_reply": "2023-03-21T05:29:35.263736Z"
    },
    "papermill": {
     "duration": 0.015796,
     "end_time": "2023-03-21T05:29:35.267938",
     "exception": false,
     "start_time": "2023-03-21T05:29:35.252142",
     "status": "completed"
    },
    "tags": []
   },
   "outputs": [],
   "source": [
    "class Model(torch.nn.Module):\n",
    "    def __init__(self):\n",
    "        super(Model, self).__init__()\n",
    "        \n",
    "        self.model = timm.create_model(model_name=\"efficientnet_b4\", pretrained=False)\n",
    "        self.model.classifier = torch.nn.Linear(in_features=self.model.classifier.in_features, out_features=10)\n",
    "\n",
    "    def forward(self, x):\n",
    "        return self.model(x)\n",
    "\n",
    "    \n",
    "class CFG(object):  \n",
    "    def __init__(\n",
    "        self, \n",
    "        in_channels: int=3, \n",
    "        size: int=256, \n",
    "        opset_version: int=9, \n",
    "        path: str=None\n",
    "    ):\n",
    "        self.in_channels = in_channels\n",
    "        self.size = size\n",
    "        self.dummy = torch.randn(1, self.in_channels, self.size, self.size)\n",
    "        self.opset_version = opset_version\n",
    "        self.path = path"
   ]
  },
  {
   "cell_type": "code",
   "execution_count": 5,
   "id": "da3f7c1b",
   "metadata": {
    "execution": {
     "iopub.execute_input": "2023-03-21T05:29:35.276195Z",
     "iopub.status.busy": "2023-03-21T05:29:35.275341Z",
     "iopub.status.idle": "2023-03-21T05:30:07.425275Z",
     "shell.execute_reply": "2023-03-21T05:30:07.423823Z"
    },
    "papermill": {
     "duration": 32.15762,
     "end_time": "2023-03-21T05:30:07.428627",
     "exception": false,
     "start_time": "2023-03-21T05:29:35.271007",
     "status": "completed"
    },
    "tags": []
   },
   "outputs": [],
   "source": [
    "for v in [\"a\", \"l\"]:\n",
    "    for fold in [2, 5]:\n",
    "        cfg = CFG(\n",
    "            in_channels=3, \n",
    "            size=224, \n",
    "            opset_version=15, \n",
    "            path=f\"/kaggle/input/li-en4-a224-e10-f{fold}/saves/b{v}e_state_fold_{fold}.pt\"\n",
    "        )\n",
    "\n",
    "        model = Model()\n",
    "        model.load_state_dict(torch.load(cfg.path, map_location=torch.device(\"cpu\"))[\"model_state_dict\"])\n",
    "        model.eval()\n",
    "\n",
    "        clear_output()\n",
    "\n",
    "        torch.onnx.export(\n",
    "            model=model, \n",
    "            args=cfg.dummy, \n",
    "            f=f\"onnx/b{v}e_model_f{fold}.onnx\", \n",
    "            input_names=[\"input\"], \n",
    "            output_names=[\"output\"], \n",
    "            opset_version=cfg.opset_version,\n",
    "            export_params=True,\n",
    "            training=torch.onnx.TrainingMode.EVAL,\n",
    "            operator_export_type=torch.onnx.OperatorExportTypes.ONNX_ATEN_FALLBACK,\n",
    "            dynamic_axes={\n",
    "              \"input\"  : {0 : \"batch_size\"},\n",
    "              \"output\" : {0 : \"batch_size\"},\n",
    "            }\n",
    "        )"
   ]
  },
  {
   "cell_type": "code",
   "execution_count": 6,
   "id": "a8be1186",
   "metadata": {
    "execution": {
     "iopub.execute_input": "2023-03-21T05:30:07.436520Z",
     "iopub.status.busy": "2023-03-21T05:30:07.436066Z",
     "iopub.status.idle": "2023-03-21T05:30:07.447935Z",
     "shell.execute_reply": "2023-03-21T05:30:07.446772Z"
    },
    "papermill": {
     "duration": 0.019041,
     "end_time": "2023-03-21T05:30:07.450857",
     "exception": false,
     "start_time": "2023-03-21T05:30:07.431816",
     "status": "completed"
    },
    "tags": []
   },
   "outputs": [],
   "source": [
    "class OnnxModel(object):\n",
    "    def __init__(self, path: str) -> None:\n",
    "        self.size: int = 224\n",
    "        \n",
    "        self.mean: list = [0.45728, 0.50227, 0.45732]\n",
    "        self.std: list  = [0.16540, 0.16823, 0.19489]\n",
    "        \n",
    "        self.path: str = path\n",
    "    \n",
    "        model = onnx.load(self.path)\n",
    "        onnx.checker.check_model(model)\n",
    "        self.ort_session = ort.InferenceSession(self.path)\n",
    "        \n",
    "    def infer(self, image: np.ndarray, labels: dict) -> np.ndarray:\n",
    "        image = image / 255\n",
    "        image = cv2.resize(src=image, dsize=(self.size, self.size), interpolation=cv2.INTER_AREA).transpose(2, 0, 1)\n",
    "        for i in range(image.shape[0]): image[i, :, :] = (image[i, :, :] - self.mean[i]) / self.std[i]\n",
    "        image = np.expand_dims(image, axis=0)\n",
    "        inputs = {self.ort_session.get_inputs()[0].name: image.astype(\"float32\")}\n",
    "        result = self.ort_session.run(None, inputs)\n",
    "        odds = np.exp(np.max(result))\n",
    "        return labels[str(np.argmax(result))].title(), odds / (1 + odds)"
   ]
  },
  {
   "cell_type": "code",
   "execution_count": 7,
   "id": "dfe64e98",
   "metadata": {
    "execution": {
     "iopub.execute_input": "2023-03-21T05:30:07.458766Z",
     "iopub.status.busy": "2023-03-21T05:30:07.458335Z",
     "iopub.status.idle": "2023-03-21T05:30:23.988615Z",
     "shell.execute_reply": "2023-03-21T05:30:23.986842Z"
    },
    "papermill": {
     "duration": 16.537739,
     "end_time": "2023-03-21T05:30:23.991603",
     "exception": false,
     "start_time": "2023-03-21T05:30:07.453864",
     "status": "completed"
    },
    "tags": []
   },
   "outputs": [
    {
     "name": "stdout",
     "output_type": "stream",
     "text": [
      "\n",
      "**************************************************\n",
      "\n",
      "BAE_MODEL_F2.ONNX\n",
      "\n",
      "Indian Rubber Tree, Indian Rubber Tree\n",
      "Sonmohar, Sonmohar\n",
      "Kashid, Kashid\n",
      "Karanj, Karanj\n",
      "Indian Rubber Tree, Indian Rubber Tree\n",
      "Apta, Apta\n",
      "Sonmohar, Sonmohar\n",
      "Sonmohar, Sonmohar\n",
      "Vilayati Chinch, Vilayati Chinch\n",
      "\n",
      "**************************************************\n",
      "\n",
      "BAE_MODEL_F5.ONNX\n",
      "\n",
      "Indian Rubber Tree, Indian Rubber Tree\n",
      "Indian Rubber Tree, Indian Rubber Tree\n",
      "Sonmohar, Sonmohar\n",
      "Karanj, Karanj\n",
      "Kashid, Kashid\n",
      "Vad, Vad\n",
      "Sita Ashok, Sita Ashok\n",
      "Vilayati Chinch, Vilayati Chinch\n",
      "Karanj, Karanj\n",
      "\n",
      "**************************************************\n",
      "\n",
      "BLE_MODEL_F2.ONNX\n",
      "\n",
      "Nilgiri, Nilgiri\n",
      "Nilgiri, Nilgiri\n",
      "Pimpal, Pimpal\n",
      "Karanj, Karanj\n",
      "Vad, Vad\n",
      "Pimpal, Pimpal\n",
      "Sita Ashok, Sita Ashok\n",
      "Indian Rubber Tree, Indian Rubber Tree\n",
      "Karanj, Karanj\n",
      "\n",
      "**************************************************\n",
      "\n",
      "BLE_MODEL_F5.ONNX\n",
      "\n",
      "Sita Ashok, Sita Ashok\n",
      "Nilgiri, Nilgiri\n",
      "Vad, Vad\n",
      "Sonmohar, Sonmohar\n",
      "Sita Ashok, Sita Ashok\n",
      "Sita Ashok, Sita Ashok\n",
      "Kashid, Kashid\n",
      "Apta, Apta\n",
      "Karanj, Karanj\n",
      "\n",
      "**************************************************\n",
      "\n"
     ]
    }
   ],
   "source": [
    "df = pd.read_csv(\"/kaggle/input/li-dataframe/train.csv\")\n",
    "df = df.drop(index=df[df.filepaths == \"/kaggle/input/leaf-images/300_dataset/Sonmohar/301.jpg\"].index)\n",
    "df = df.drop(index=df[df.filepaths == \"/kaggle/input/leaf-images/300_dataset/Vad/301.jpg\"].index)\n",
    "df = df.drop(index=df[df.filepaths == \"/kaggle/input/leaf-images/300_dataset/Vilayati Chinch/301.jpg\"].index)\n",
    "\n",
    "breaker()\n",
    "for model_name in sorted(os.listdir(\"onnx\")):\n",
    "    \n",
    "    onnx_model = OnnxModel(f\"onnx/{model_name}\")\n",
    "    \n",
    "    print(f\"{model_name.upper()}\\n\")\n",
    "    \n",
    "    for i in range(9):\n",
    "        index = r.randint(0, len(df)-1)\n",
    "        filepath = df.iloc[index, 0]\n",
    "        y_true   = df.iloc[index, 1]\n",
    "\n",
    "        image = get_image(filepath)\n",
    "\n",
    "        y_pred, _ = onnx_model.infer(image, labels)\n",
    "        \n",
    "        print(f\"{labels[str(y_true)].title()}, {y_pred}\")\n",
    "        # show_image(image, title=y_pred)\n",
    "\n",
    "    breaker()"
   ]
  }
 ],
 "metadata": {
  "kernelspec": {
   "display_name": "Python 3",
   "language": "python",
   "name": "python3"
  },
  "language_info": {
   "codemirror_mode": {
    "name": "ipython",
    "version": 3
   },
   "file_extension": ".py",
   "mimetype": "text/x-python",
   "name": "python",
   "nbconvert_exporter": "python",
   "pygments_lexer": "ipython3",
   "version": "3.7.12"
  },
  "papermill": {
   "default_parameters": {},
   "duration": 77.314241,
   "end_time": "2023-03-21T05:30:25.323710",
   "environment_variables": {},
   "exception": null,
   "input_path": "__notebook__.ipynb",
   "output_path": "__notebook__.ipynb",
   "parameters": {},
   "start_time": "2023-03-21T05:29:08.009469",
   "version": "2.4.0"
  }
 },
 "nbformat": 4,
 "nbformat_minor": 5
}
