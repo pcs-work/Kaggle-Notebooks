{
 "cells": [
  {
   "cell_type": "code",
   "execution_count": 1,
   "id": "28fc0197",
   "metadata": {
    "_cell_guid": "b1076dfc-b9ad-4769-8c92-a6c4dae69d19",
    "_uuid": "8f2839f25d086af736a60e9eeb907d3b93b6e0e5",
    "execution": {
     "iopub.execute_input": "2023-09-11T05:04:23.983997Z",
     "iopub.status.busy": "2023-09-11T05:04:23.983620Z",
     "iopub.status.idle": "2023-09-11T05:04:26.069914Z",
     "shell.execute_reply": "2023-09-11T05:04:26.068243Z"
    },
    "papermill": {
     "duration": 2.094679,
     "end_time": "2023-09-11T05:04:26.072914",
     "exception": false,
     "start_time": "2023-09-11T05:04:23.978235",
     "status": "completed"
    },
    "tags": []
   },
   "outputs": [],
   "source": [
    "import os\n",
    "import cv2\n",
    "import json\n",
    "import numpy as np\n",
    "import pandas as pd\n",
    "\n",
    "from sklearn.model_selection import train_test_split\n",
    "\n",
    "BASE_PATH: str = \"/kaggle/input/lightweight-dataset-for-maize-classification/Lightweight Dataset for Maize Classification on Resource-Constrained Devices/EfficientMaize\""
   ]
  },
  {
   "cell_type": "code",
   "execution_count": 2,
   "id": "d018176a",
   "metadata": {
    "execution": {
     "iopub.execute_input": "2023-09-11T05:04:26.084260Z",
     "iopub.status.busy": "2023-09-11T05:04:26.083689Z",
     "iopub.status.idle": "2023-09-11T05:04:27.170891Z",
     "shell.execute_reply": "2023-09-11T05:04:27.168916Z"
    },
    "papermill": {
     "duration": 1.094631,
     "end_time": "2023-09-11T05:04:27.173644",
     "exception": false,
     "start_time": "2023-09-11T05:04:26.079013",
     "status": "completed"
    },
    "tags": []
   },
   "outputs": [],
   "source": [
    "df: pd.DataFrame = pd.DataFrame(data=None, columns=[\"filepaths\", \"labels\"])\n",
    "    \n",
    "filepaths: list = []\n",
    "labels: list = []\n",
    "    \n",
    "i: int = 0\n",
    "for folder in sorted(os.listdir(f\"{BASE_PATH}\")):\n",
    "    for filename in os.listdir(f\"{BASE_PATH}/{folder}\"):\n",
    "        filepaths.append(os.path.join(f\"{BASE_PATH}/{folder}\", filename))\n",
    "        labels.append(i)\n",
    "    i += 1\n",
    "\n",
    "df.filepaths = filepaths\n",
    "df.labels = labels\n",
    "df.to_csv(\"full.csv\", index=False)"
   ]
  },
  {
   "cell_type": "code",
   "execution_count": 3,
   "id": "44176f8c",
   "metadata": {
    "execution": {
     "iopub.execute_input": "2023-09-11T05:04:27.182644Z",
     "iopub.status.busy": "2023-09-11T05:04:27.180998Z",
     "iopub.status.idle": "2023-09-11T05:04:27.220939Z",
     "shell.execute_reply": "2023-09-11T05:04:27.220046Z"
    },
    "papermill": {
     "duration": 0.046665,
     "end_time": "2023-09-11T05:04:27.223513",
     "exception": false,
     "start_time": "2023-09-11T05:04:27.176848",
     "status": "completed"
    },
    "tags": []
   },
   "outputs": [],
   "source": [
    "tr_filepaths, ts_filepaths, tr_labels, ts_labels = train_test_split(\n",
    "    filepaths,\n",
    "    labels,\n",
    "    test_size=0.2, \n",
    "    random_state=0,\n",
    "    shuffle=True,\n",
    "    stratify=labels,\n",
    ")\n",
    "\n",
    "tr_df: pd.DataFrame = pd.DataFrame(data=None, columns=[\"filepaths\", \"labels\"])\n",
    "ts_df: pd.DataFrame = pd.DataFrame(data=None, columns=[\"filepaths\", \"labels\"])\n",
    "\n",
    "tr_df.filepaths = tr_filepaths\n",
    "tr_df.labels = tr_labels\n",
    "tr_df.to_csv(\"train.csv\", index=False)\n",
    "\n",
    "ts_df.filepaths = ts_filepaths\n",
    "ts_df.labels = ts_labels\n",
    "ts_df.to_csv(\"test.csv\", index=False)"
   ]
  },
  {
   "cell_type": "code",
   "execution_count": 4,
   "id": "8a034590",
   "metadata": {
    "execution": {
     "iopub.execute_input": "2023-09-11T05:04:27.231864Z",
     "iopub.status.busy": "2023-09-11T05:04:27.231416Z",
     "iopub.status.idle": "2023-09-11T05:04:27.238855Z",
     "shell.execute_reply": "2023-09-11T05:04:27.237127Z"
    },
    "papermill": {
     "duration": 0.014637,
     "end_time": "2023-09-11T05:04:27.241529",
     "exception": false,
     "start_time": "2023-09-11T05:04:27.226892",
     "status": "completed"
    },
    "tags": []
   },
   "outputs": [],
   "source": [
    "labels: dict = dict()\n",
    "\n",
    "i = 0\n",
    "for folder in sorted(os.listdir(f\"{BASE_PATH}\")):\n",
    "    labels[i] = folder.title()\n",
    "    i += 1\n",
    "\n",
    "json.dump(labels, open(\"labels.json\", \"w\"))"
   ]
  }
 ],
 "kernelspec": {
  "display_name": "Python 3",
  "language": "python",
  "name": "python3"
 },
 "language_info": {
  "codemirror_mode": {
   "name": "ipython",
   "version": 3
  },
  "file_extension": ".py",
  "mimetype": "text/x-python",
  "name": "python",
  "nbconvert_exporter": "python",
  "pygments_lexer": "ipython3",
  "version": "3.6.4"
 },
 "metadata": {
  "kernelspec": {
   "display_name": "Python 3",
   "language": "python",
   "name": "python3"
  },
  "language_info": {
   "codemirror_mode": {
    "name": "ipython",
    "version": 3
   },
   "file_extension": ".py",
   "mimetype": "text/x-python",
   "name": "python",
   "nbconvert_exporter": "python",
   "pygments_lexer": "ipython3",
   "version": "3.10.12"
  },
  "papermill": {
   "default_parameters": {},
   "duration": 7.229823,
   "end_time": "2023-09-11T05:04:27.966043",
   "environment_variables": {},
   "exception": null,
   "input_path": "__notebook__.ipynb",
   "output_path": "__notebook__.ipynb",
   "parameters": {},
   "start_time": "2023-09-11T05:04:20.736220",
   "version": "2.4.0"
  }
 },
 "nbformat": 4,
 "nbformat_minor": 5
}
