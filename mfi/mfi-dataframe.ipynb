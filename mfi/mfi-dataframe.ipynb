{
 "cells": [
  {
   "cell_type": "code",
   "execution_count": 1,
   "id": "f108c327",
   "metadata": {
    "_cell_guid": "b1076dfc-b9ad-4769-8c92-a6c4dae69d19",
    "_uuid": "8f2839f25d086af736a60e9eeb907d3b93b6e0e5",
    "execution": {
     "iopub.execute_input": "2023-08-09T17:32:43.842061Z",
     "iopub.status.busy": "2023-08-09T17:32:43.841191Z",
     "iopub.status.idle": "2023-08-09T17:32:44.066071Z",
     "shell.execute_reply": "2023-08-09T17:32:44.064797Z"
    },
    "papermill": {
     "duration": 0.231864,
     "end_time": "2023-08-09T17:32:44.068668",
     "exception": false,
     "start_time": "2023-08-09T17:32:43.836804",
     "status": "completed"
    },
    "tags": []
   },
   "outputs": [],
   "source": [
    "import os\n",
    "import cv2\n",
    "import json\n",
    "import numpy as np\n",
    "import pandas as pd\n",
    "\n",
    "BASE_PATH: str = \"/kaggle/input/microscopic-fungi-images\""
   ]
  },
  {
   "cell_type": "code",
   "execution_count": 2,
   "id": "3fec4b8a",
   "metadata": {
    "execution": {
     "iopub.execute_input": "2023-08-09T17:32:44.074590Z",
     "iopub.status.busy": "2023-08-09T17:32:44.074103Z",
     "iopub.status.idle": "2023-08-09T17:32:48.584819Z",
     "shell.execute_reply": "2023-08-09T17:32:48.583709Z"
    },
    "papermill": {
     "duration": 4.516517,
     "end_time": "2023-08-09T17:32:48.587441",
     "exception": false,
     "start_time": "2023-08-09T17:32:44.070924",
     "status": "completed"
    },
    "tags": []
   },
   "outputs": [],
   "source": [
    "tr_df: pd.DataFrame = pd.DataFrame(data=None, columns=[\"filepaths\", \"labels\"])\n",
    "    \n",
    "filepaths: list = []\n",
    "labels: list = []\n",
    "\n",
    "i: int = 0\n",
    "for folder in sorted(os.listdir(f\"{BASE_PATH}/train\")):\n",
    "    for filename in os.listdir(f\"{BASE_PATH}/train/{folder}\"):\n",
    "        filepaths.append(os.path.join(f\"{BASE_PATH}/train/{folder}\", filename))\n",
    "        labels.append(i)\n",
    "    i += 1\n",
    "\n",
    "tr_df.filepaths = filepaths\n",
    "tr_df.labels = labels\n",
    "tr_df.to_csv(\"train.csv\", index=False)"
   ]
  },
  {
   "cell_type": "code",
   "execution_count": 3,
   "id": "710e78ed",
   "metadata": {
    "execution": {
     "iopub.execute_input": "2023-08-09T17:32:48.593082Z",
     "iopub.status.busy": "2023-08-09T17:32:48.592721Z",
     "iopub.status.idle": "2023-08-09T17:32:49.368149Z",
     "shell.execute_reply": "2023-08-09T17:32:49.366840Z"
    },
    "papermill": {
     "duration": 0.781711,
     "end_time": "2023-08-09T17:32:49.371314",
     "exception": false,
     "start_time": "2023-08-09T17:32:48.589603",
     "status": "completed"
    },
    "tags": []
   },
   "outputs": [],
   "source": [
    "va_df: pd.DataFrame = pd.DataFrame(data=None, columns=[\"filepaths\", \"labels\"])\n",
    "    \n",
    "filepaths: list = []\n",
    "labels: list = []\n",
    "\n",
    "i: int = 0\n",
    "for folder in sorted(os.listdir(f\"{BASE_PATH}/valid\")):\n",
    "    for filename in os.listdir(f\"{BASE_PATH}/valid/{folder}\"):\n",
    "        filepaths.append(os.path.join(f\"{BASE_PATH}/valid/{folder}\", filename))\n",
    "        labels.append(i)\n",
    "    i += 1\n",
    "\n",
    "va_df.filepaths = filepaths\n",
    "va_df.labels = labels\n",
    "va_df.to_csv(\"valid.csv\", index=False)"
   ]
  },
  {
   "cell_type": "code",
   "execution_count": 4,
   "id": "7ab923dd",
   "metadata": {
    "execution": {
     "iopub.execute_input": "2023-08-09T17:32:49.377949Z",
     "iopub.status.busy": "2023-08-09T17:32:49.377514Z",
     "iopub.status.idle": "2023-08-09T17:32:50.197890Z",
     "shell.execute_reply": "2023-08-09T17:32:50.196436Z"
    },
    "papermill": {
     "duration": 0.827183,
     "end_time": "2023-08-09T17:32:50.200987",
     "exception": false,
     "start_time": "2023-08-09T17:32:49.373804",
     "status": "completed"
    },
    "tags": []
   },
   "outputs": [],
   "source": [
    "ts_df: pd.DataFrame = pd.DataFrame(data=None, columns=[\"filepaths\", \"labels\"])\n",
    "    \n",
    "filepaths: list = []\n",
    "labels: list = []\n",
    "\n",
    "i: int = 0\n",
    "for folder in sorted(os.listdir(f\"{BASE_PATH}/test\")):\n",
    "    for filename in os.listdir(f\"{BASE_PATH}/test/{folder}\"):\n",
    "        filepaths.append(os.path.join(f\"{BASE_PATH}/test/{folder}\", filename))\n",
    "        labels.append(i)\n",
    "    i += 1\n",
    "\n",
    "ts_df.filepaths = filepaths\n",
    "ts_df.labels = labels\n",
    "ts_df.to_csv(\"test.csv\", index=False)"
   ]
  },
  {
   "cell_type": "code",
   "execution_count": 5,
   "id": "2f6f591e",
   "metadata": {
    "execution": {
     "iopub.execute_input": "2023-08-09T17:32:50.207440Z",
     "iopub.status.busy": "2023-08-09T17:32:50.206978Z",
     "iopub.status.idle": "2023-08-09T17:32:50.213668Z",
     "shell.execute_reply": "2023-08-09T17:32:50.212619Z"
    },
    "papermill": {
     "duration": 0.012487,
     "end_time": "2023-08-09T17:32:50.215896",
     "exception": false,
     "start_time": "2023-08-09T17:32:50.203409",
     "status": "completed"
    },
    "tags": []
   },
   "outputs": [],
   "source": [
    "labels: dict = dict()\n",
    "\n",
    "i = 0\n",
    "for folder in sorted(os.listdir(f\"{BASE_PATH}/train\")):\n",
    "    labels[i] = folder\n",
    "    i += 1\n",
    "\n",
    "json.dump(labels, open(\"labels.json\", \"w\"))"
   ]
  }
 ],
 "metadata": {
  "kernelspec": {
   "display_name": "Python 3",
   "language": "python",
   "name": "python3"
  },
  "language_info": {
   "codemirror_mode": {
    "name": "ipython",
    "version": 3
   },
   "file_extension": ".py",
   "mimetype": "text/x-python",
   "name": "python",
   "nbconvert_exporter": "python",
   "pygments_lexer": "ipython3",
   "version": "3.10.12"
  },
  "papermill": {
   "default_parameters": {},
   "duration": 16.673439,
   "end_time": "2023-08-09T17:32:51.241737",
   "environment_variables": {},
   "exception": null,
   "input_path": "__notebook__.ipynb",
   "output_path": "__notebook__.ipynb",
   "parameters": {},
   "start_time": "2023-08-09T17:32:34.568298",
   "version": "2.4.0"
  }
 },
 "nbformat": 4,
 "nbformat_minor": 5
}
