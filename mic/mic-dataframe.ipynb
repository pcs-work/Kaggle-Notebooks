{
 "cells": [
  {
   "cell_type": "code",
   "execution_count": 1,
   "id": "2f1a68fd",
   "metadata": {
    "_cell_guid": "b1076dfc-b9ad-4769-8c92-a6c4dae69d19",
    "_uuid": "8f2839f25d086af736a60e9eeb907d3b93b6e0e5",
    "execution": {
     "iopub.execute_input": "2023-05-22T05:35:07.323468Z",
     "iopub.status.busy": "2023-05-22T05:35:07.323006Z",
     "iopub.status.idle": "2023-05-22T05:35:08.691237Z",
     "shell.execute_reply": "2023-05-22T05:35:08.690533Z"
    },
    "papermill": {
     "duration": 1.374344,
     "end_time": "2023-05-22T05:35:08.693372",
     "exception": false,
     "start_time": "2023-05-22T05:35:07.319028",
     "status": "completed"
    },
    "tags": []
   },
   "outputs": [
    {
     "name": "stderr",
     "output_type": "stream",
     "text": [
      "/opt/conda/lib/python3.10/site-packages/scipy/__init__.py:146: UserWarning: A NumPy version >=1.16.5 and <1.23.0 is required for this version of SciPy (detected version 1.23.5\n",
      "  warnings.warn(f\"A NumPy version >={np_minversion} and <{np_maxversion}\"\n"
     ]
    }
   ],
   "source": [
    "import os\n",
    "import cv2\n",
    "import json\n",
    "import numpy as np\n",
    "import pandas as pd\n",
    "\n",
    "from sklearn.model_selection import train_test_split\n",
    "\n",
    "BASE_PATH: str = \"/kaggle/input/mushrooms-images-classification-215/data/data\""
   ]
  },
  {
   "cell_type": "code",
   "execution_count": 2,
   "id": "22b7653c",
   "metadata": {
    "execution": {
     "iopub.execute_input": "2023-05-22T05:35:08.701489Z",
     "iopub.status.busy": "2023-05-22T05:35:08.699789Z",
     "iopub.status.idle": "2023-05-22T05:35:08.718542Z",
     "shell.execute_reply": "2023-05-22T05:35:08.717477Z"
    },
    "papermill": {
     "duration": 0.023652,
     "end_time": "2023-05-22T05:35:08.720721",
     "exception": false,
     "start_time": "2023-05-22T05:35:08.697069",
     "status": "completed"
    },
    "tags": []
   },
   "outputs": [],
   "source": [
    "tr_df: pd.DataFrame = pd.DataFrame(data=None, columns=[\"filepaths\", \"labels\"])\n",
    "ts_df: pd.DataFrame = pd.DataFrame(data=None, columns=[\"filepaths\", \"labels\"])\n",
    "fu_df: pd.DataFrame = pd.DataFrame(data=None, columns=[\"filepaths\", \"labels\"])  "
   ]
  },
  {
   "cell_type": "code",
   "execution_count": 3,
   "id": "91e78ed3",
   "metadata": {
    "execution": {
     "iopub.execute_input": "2023-05-22T05:35:08.725962Z",
     "iopub.status.busy": "2023-05-22T05:35:08.725651Z",
     "iopub.status.idle": "2023-05-22T05:35:10.072564Z",
     "shell.execute_reply": "2023-05-22T05:35:10.071441Z"
    },
    "papermill": {
     "duration": 1.352746,
     "end_time": "2023-05-22T05:35:10.075473",
     "exception": false,
     "start_time": "2023-05-22T05:35:08.722727",
     "status": "completed"
    },
    "tags": []
   },
   "outputs": [],
   "source": [
    "filepaths: list = []\n",
    "labels: list = []\n",
    "\n",
    "i: int = 0    \n",
    "for folder in sorted(os.listdir(f\"{BASE_PATH}\")):\n",
    "    for filename in os.listdir(f\"{BASE_PATH}/{folder}\"):\n",
    "        filepaths.append(os.path.join(f\"{BASE_PATH}/{folder}\", filename))\n",
    "        labels.append(i)\n",
    "    i += 1\n",
    "\n",
    "fu_df.filepaths = filepaths\n",
    "fu_df.labels = labels\n",
    "fu_df.to_csv(\"full.csv\", index=False)"
   ]
  },
  {
   "cell_type": "code",
   "execution_count": 4,
   "id": "2b76ff3a",
   "metadata": {
    "execution": {
     "iopub.execute_input": "2023-05-22T05:35:10.080820Z",
     "iopub.status.busy": "2023-05-22T05:35:10.080476Z",
     "iopub.status.idle": "2023-05-22T05:35:10.106253Z",
     "shell.execute_reply": "2023-05-22T05:35:10.104922Z"
    },
    "papermill": {
     "duration": 0.030995,
     "end_time": "2023-05-22T05:35:10.108478",
     "exception": false,
     "start_time": "2023-05-22T05:35:10.077483",
     "status": "completed"
    },
    "tags": []
   },
   "outputs": [],
   "source": [
    "tr_filepaths, \\\n",
    "ts_filepaths, \\\n",
    "tr_labels, \\\n",
    "ts_labels = train_test_split(\n",
    "    filepaths, \n",
    "    labels, \n",
    "    test_size=0.2, \n",
    "    random_state=42, \n",
    "    stratify=labels\n",
    ")\n",
    "\n",
    "tr_df.filepaths = tr_filepaths\n",
    "tr_df.labels = tr_labels\n",
    "tr_df.to_csv(\"train.csv\", index=False)\n",
    "\n",
    "ts_df.filepaths = ts_filepaths\n",
    "ts_df.labels = ts_labels\n",
    "ts_df.to_csv(\"test.csv\", index=False)"
   ]
  }
 ],
 "metadata": {
  "kernelspec": {
   "display_name": "Python 3",
   "language": "python",
   "name": "python3"
  },
  "language_info": {
   "codemirror_mode": {
    "name": "ipython",
    "version": 3
   },
   "file_extension": ".py",
   "mimetype": "text/x-python",
   "name": "python",
   "nbconvert_exporter": "python",
   "pygments_lexer": "ipython3",
   "version": "3.10.10"
  },
  "papermill": {
   "default_parameters": {},
   "duration": 12.677644,
   "end_time": "2023-05-22T05:35:11.031898",
   "environment_variables": {},
   "exception": null,
   "input_path": "__notebook__.ipynb",
   "output_path": "__notebook__.ipynb",
   "parameters": {},
   "start_time": "2023-05-22T05:34:58.354254",
   "version": "2.4.0"
  }
 },
 "nbformat": 4,
 "nbformat_minor": 5
}
