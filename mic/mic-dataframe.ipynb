{
 "cells": [
  {
   "cell_type": "code",
   "execution_count": 1,
   "id": "507d24a2",
   "metadata": {
    "_cell_guid": "b1076dfc-b9ad-4769-8c92-a6c4dae69d19",
    "_uuid": "8f2839f25d086af736a60e9eeb907d3b93b6e0e5",
    "execution": {
     "iopub.execute_input": "2023-05-23T11:57:46.966079Z",
     "iopub.status.busy": "2023-05-23T11:57:46.965095Z",
     "iopub.status.idle": "2023-05-23T11:57:48.572425Z",
     "shell.execute_reply": "2023-05-23T11:57:48.571268Z"
    },
    "papermill": {
     "duration": 1.615456,
     "end_time": "2023-05-23T11:57:48.575201",
     "exception": false,
     "start_time": "2023-05-23T11:57:46.959745",
     "status": "completed"
    },
    "tags": []
   },
   "outputs": [
    {
     "name": "stderr",
     "output_type": "stream",
     "text": [
      "/opt/conda/lib/python3.10/site-packages/scipy/__init__.py:146: UserWarning: A NumPy version >=1.16.5 and <1.23.0 is required for this version of SciPy (detected version 1.23.5\n",
      "  warnings.warn(f\"A NumPy version >={np_minversion} and <{np_maxversion}\"\n"
     ]
    }
   ],
   "source": [
    "import os\n",
    "import cv2\n",
    "import json\n",
    "import numpy as np\n",
    "import pandas as pd\n",
    "\n",
    "from sklearn.model_selection import train_test_split\n",
    "\n",
    "BASE_PATH: str = \"/kaggle/input/mushrooms-images-classification-215/data/data\""
   ]
  },
  {
   "cell_type": "code",
   "execution_count": 2,
   "id": "e60be718",
   "metadata": {
    "execution": {
     "iopub.execute_input": "2023-05-23T11:57:48.585083Z",
     "iopub.status.busy": "2023-05-23T11:57:48.584602Z",
     "iopub.status.idle": "2023-05-23T11:57:48.605490Z",
     "shell.execute_reply": "2023-05-23T11:57:48.604223Z"
    },
    "papermill": {
     "duration": 0.027673,
     "end_time": "2023-05-23T11:57:48.607915",
     "exception": false,
     "start_time": "2023-05-23T11:57:48.580242",
     "status": "completed"
    },
    "tags": []
   },
   "outputs": [],
   "source": [
    "tr_df: pd.DataFrame = pd.DataFrame(data=None, columns=[\"filepaths\", \"labels\"])\n",
    "ts_df: pd.DataFrame = pd.DataFrame(data=None, columns=[\"filepaths\", \"labels\"])\n",
    "fu_df: pd.DataFrame = pd.DataFrame(data=None, columns=[\"filepaths\", \"labels\"])  "
   ]
  },
  {
   "cell_type": "code",
   "execution_count": 3,
   "id": "83a7a55e",
   "metadata": {
    "execution": {
     "iopub.execute_input": "2023-05-23T11:57:48.615622Z",
     "iopub.status.busy": "2023-05-23T11:57:48.615217Z",
     "iopub.status.idle": "2023-05-23T11:57:50.557368Z",
     "shell.execute_reply": "2023-05-23T11:57:50.556222Z"
    },
    "papermill": {
     "duration": 1.949422,
     "end_time": "2023-05-23T11:57:50.560338",
     "exception": false,
     "start_time": "2023-05-23T11:57:48.610916",
     "status": "completed"
    },
    "tags": []
   },
   "outputs": [],
   "source": [
    "filepaths: list = []\n",
    "labels: list = []\n",
    "\n",
    "i: int = 0    \n",
    "for folder in sorted(os.listdir(f\"{BASE_PATH}\")):\n",
    "    for filename in os.listdir(f\"{BASE_PATH}/{folder}\"):\n",
    "        filepaths.append(os.path.join(f\"{BASE_PATH}/{folder}\", filename))\n",
    "        labels.append(i)\n",
    "    i += 1\n",
    "\n",
    "fu_df.filepaths = filepaths\n",
    "fu_df.labels = labels\n",
    "fu_df.to_csv(\"full.csv\", index=False)"
   ]
  },
  {
   "cell_type": "code",
   "execution_count": 4,
   "id": "1405d89d",
   "metadata": {
    "execution": {
     "iopub.execute_input": "2023-05-23T11:57:50.568330Z",
     "iopub.status.busy": "2023-05-23T11:57:50.567883Z",
     "iopub.status.idle": "2023-05-23T11:57:50.611733Z",
     "shell.execute_reply": "2023-05-23T11:57:50.610516Z"
    },
    "papermill": {
     "duration": 0.051231,
     "end_time": "2023-05-23T11:57:50.614571",
     "exception": false,
     "start_time": "2023-05-23T11:57:50.563340",
     "status": "completed"
    },
    "tags": []
   },
   "outputs": [],
   "source": [
    "tr_filepaths, \\\n",
    "ts_filepaths, \\\n",
    "tr_labels, \\\n",
    "ts_labels = train_test_split(\n",
    "    filepaths, \n",
    "    labels, \n",
    "    test_size=0.2, \n",
    "    random_state=42, \n",
    "    stratify=labels\n",
    ")\n",
    "\n",
    "tr_df.filepaths = tr_filepaths\n",
    "tr_df.labels = tr_labels\n",
    "tr_df.to_csv(\"train.csv\", index=False)\n",
    "\n",
    "ts_df.filepaths = ts_filepaths\n",
    "ts_df.labels = ts_labels\n",
    "ts_df.to_csv(\"test.csv\", index=False)"
   ]
  },
  {
   "cell_type": "code",
   "execution_count": 5,
   "id": "5a124217",
   "metadata": {
    "execution": {
     "iopub.execute_input": "2023-05-23T11:57:50.622680Z",
     "iopub.status.busy": "2023-05-23T11:57:50.622004Z",
     "iopub.status.idle": "2023-05-23T11:57:50.629290Z",
     "shell.execute_reply": "2023-05-23T11:57:50.628257Z"
    },
    "papermill": {
     "duration": 0.014088,
     "end_time": "2023-05-23T11:57:50.631848",
     "exception": false,
     "start_time": "2023-05-23T11:57:50.617760",
     "status": "completed"
    },
    "tags": []
   },
   "outputs": [],
   "source": [
    "labels: dict = dict()\n",
    "\n",
    "i = 0\n",
    "for folder in sorted(os.listdir(f\"{BASE_PATH}\")):\n",
    "    labels[i] = folder\n",
    "    i += 1\n",
    "\n",
    "json.dump(labels, open(\"labels.json\", \"w\"))"
   ]
  }
 ],
 "metadata": {
  "kernelspec": {
   "display_name": "Python 3",
   "language": "python",
   "name": "python3"
  },
  "language_info": {
   "codemirror_mode": {
    "name": "ipython",
    "version": 3
   },
   "file_extension": ".py",
   "mimetype": "text/x-python",
   "name": "python",
   "nbconvert_exporter": "python",
   "pygments_lexer": "ipython3",
   "version": "3.10.10"
  },
  "papermill": {
   "default_parameters": {},
   "duration": 18.100948,
   "end_time": "2023-05-23T11:57:51.657636",
   "environment_variables": {},
   "exception": null,
   "input_path": "__notebook__.ipynb",
   "output_path": "__notebook__.ipynb",
   "parameters": {},
   "start_time": "2023-05-23T11:57:33.556688",
   "version": "2.4.0"
  }
 },
 "nbformat": 4,
 "nbformat_minor": 5
}
