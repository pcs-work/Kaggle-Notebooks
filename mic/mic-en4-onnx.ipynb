{
 "cells": [
  {
   "cell_type": "code",
   "execution_count": 1,
   "id": "b5e2c2af",
   "metadata": {
    "_cell_guid": "b1076dfc-b9ad-4769-8c92-a6c4dae69d19",
    "_uuid": "8f2839f25d086af736a60e9eeb907d3b93b6e0e5",
    "execution": {
     "iopub.execute_input": "2023-05-23T13:24:05.699442Z",
     "iopub.status.busy": "2023-05-23T13:24:05.698954Z",
     "iopub.status.idle": "2023-05-23T13:24:20.250374Z",
     "shell.execute_reply": "2023-05-23T13:24:20.249467Z"
    },
    "papermill": {
     "duration": 14.559121,
     "end_time": "2023-05-23T13:24:20.252687",
     "exception": false,
     "start_time": "2023-05-23T13:24:05.693566",
     "status": "completed"
    },
    "tags": []
   },
   "outputs": [
    {
     "name": "stderr",
     "output_type": "stream",
     "text": [
      "\u001b[33mWARNING: Running pip as the 'root' user can result in broken permissions and conflicting behaviour with the system package manager. It is recommended to use a virtual environment instead: https://pip.pypa.io/warnings/venv\u001b[0m\u001b[33m\n",
      "\u001b[0m"
     ]
    }
   ],
   "source": [
    "%%bash\n",
    "pip install timm onnx onnxruntime -q"
   ]
  },
  {
   "cell_type": "code",
   "execution_count": 2,
   "id": "097d9b18",
   "metadata": {
    "execution": {
     "iopub.execute_input": "2023-05-23T13:24:20.260924Z",
     "iopub.status.busy": "2023-05-23T13:24:20.260464Z",
     "iopub.status.idle": "2023-05-23T13:24:25.793612Z",
     "shell.execute_reply": "2023-05-23T13:24:25.792379Z"
    },
    "papermill": {
     "duration": 5.540128,
     "end_time": "2023-05-23T13:24:25.796275",
     "exception": false,
     "start_time": "2023-05-23T13:24:20.256147",
     "status": "completed"
    },
    "tags": []
   },
   "outputs": [],
   "source": [
    "import os\n",
    "import sys\n",
    "import cv2\n",
    "import json\n",
    "import onnx\n",
    "import timm\n",
    "import torch\n",
    "import random as r\n",
    "import numpy as np\n",
    "import pandas as pd\n",
    "import onnxruntime as ort\n",
    "import matplotlib.pyplot as plt\n",
    "\n",
    "from typing import Union\n",
    "from torchvision import models\n",
    "from IPython.display import clear_output\n",
    "\n",
    "import warnings\n",
    "warnings.filterwarnings(\"ignore\")\n",
    "\n",
    "if not os.path.exists(\"onnx\"): os.makedirs(\"onnx\")\n",
    "    \n",
    "ort.set_default_logger_severity(3)"
   ]
  },
  {
   "cell_type": "code",
   "execution_count": 3,
   "id": "458f76b2",
   "metadata": {
    "execution": {
     "iopub.execute_input": "2023-05-23T13:24:25.805103Z",
     "iopub.status.busy": "2023-05-23T13:24:25.804683Z",
     "iopub.status.idle": "2023-05-23T13:24:25.821590Z",
     "shell.execute_reply": "2023-05-23T13:24:25.820502Z"
    },
    "papermill": {
     "duration": 0.024465,
     "end_time": "2023-05-23T13:24:25.824359",
     "exception": false,
     "start_time": "2023-05-23T13:24:25.799894",
     "status": "completed"
    },
    "tags": []
   },
   "outputs": [],
   "source": [
    "labels: dict = json.load(open(\"/kaggle/input/mic-dataframe/labels.json\", \"r\"))\n",
    "    \n",
    "    \n",
    "def breaker() -> None:\n",
    "    print(\"\\n\" + 50*\"*\" + \"\\n\")\n",
    "\n",
    "\n",
    "def get_image(path: str, size: int=224) -> np.ndarray:\n",
    "    image = cv2.imread(path, cv2.IMREAD_COLOR)\n",
    "    image = cv2.cvtColor(src=image, code=cv2.COLOR_BGR2RGB)\n",
    "    return cv2.resize(src=image, dsize=(size, size), interpolation=cv2.INTER_AREA)\n",
    "\n",
    "\n",
    "def show_image(\n",
    "    image: np.ndarray, \n",
    "    cmap: str=\"gnuplot2\", \n",
    "    title: Union[str, None]=None\n",
    ") -> None:\n",
    "    plt.figure()\n",
    "    plt.imshow(image, cmap=cmap)\n",
    "    plt.axis(\"off\")\n",
    "    if title: plt.title(title)\n",
    "    plt.show()"
   ]
  },
  {
   "cell_type": "code",
   "execution_count": 4,
   "id": "2f3c6c31",
   "metadata": {
    "execution": {
     "iopub.execute_input": "2023-05-23T13:24:25.833417Z",
     "iopub.status.busy": "2023-05-23T13:24:25.833016Z",
     "iopub.status.idle": "2023-05-23T13:24:25.842792Z",
     "shell.execute_reply": "2023-05-23T13:24:25.841479Z"
    },
    "papermill": {
     "duration": 0.017094,
     "end_time": "2023-05-23T13:24:25.845191",
     "exception": false,
     "start_time": "2023-05-23T13:24:25.828097",
     "status": "completed"
    },
    "tags": []
   },
   "outputs": [],
   "source": [
    "class Model(torch.nn.Module):\n",
    "    def __init__(self):\n",
    "        super(Model, self).__init__()\n",
    "        \n",
    "        self.model = timm.create_model(model_name=\"efficientnet_b4\", pretrained=False)\n",
    "        self.model.classifier = torch.nn.Linear(in_features=self.model.classifier.in_features, out_features=215)\n",
    "\n",
    "    def forward(self, x):\n",
    "        return self.model(x)\n",
    "\n",
    "    \n",
    "class CFG(object):  \n",
    "    def __init__(\n",
    "        self, \n",
    "        in_channels: int=3, \n",
    "        size: int=256, \n",
    "        opset_version: int=9, \n",
    "        path: str=None\n",
    "    ):\n",
    "        self.in_channels = in_channels\n",
    "        self.size = size\n",
    "        self.dummy = torch.randn(1, self.in_channels, self.size, self.size)\n",
    "        self.opset_version = opset_version\n",
    "        self.path = path"
   ]
  },
  {
   "cell_type": "code",
   "execution_count": 5,
   "id": "a9922346",
   "metadata": {
    "execution": {
     "iopub.execute_input": "2023-05-23T13:24:25.854366Z",
     "iopub.status.busy": "2023-05-23T13:24:25.853208Z",
     "iopub.status.idle": "2023-05-23T13:24:42.493599Z",
     "shell.execute_reply": "2023-05-23T13:24:42.491833Z"
    },
    "papermill": {
     "duration": 16.647334,
     "end_time": "2023-05-23T13:24:42.496012",
     "exception": false,
     "start_time": "2023-05-23T13:24:25.848678",
     "status": "completed"
    },
    "tags": []
   },
   "outputs": [
    {
     "name": "stdout",
     "output_type": "stream",
     "text": [
      "============== Diagnostic Run torch.onnx.export version 2.0.0+cpu ==============\n",
      "verbose: False, log level: Level.ERROR\n",
      "======================= 0 NONE 0 NOTE 0 WARNING 0 ERROR ========================\n",
      "\n"
     ]
    }
   ],
   "source": [
    "for v in [\"a\", \"l\"]:\n",
    "    cfg = CFG(\n",
    "        in_channels=3, \n",
    "        size=384, \n",
    "        opset_version=15, \n",
    "        path=f\"/kaggle/input/mic-en4-a384-e10/saves/b{v}e_state_fold_2.pt\"\n",
    "    )\n",
    "\n",
    "    model = Model()\n",
    "    model.load_state_dict(torch.load(cfg.path, map_location=torch.device(\"cpu\"))[\"model_state_dict\"])\n",
    "    model.eval()\n",
    "\n",
    "    clear_output()\n",
    "\n",
    "    torch.onnx.export(\n",
    "        model=model, \n",
    "        args=cfg.dummy, \n",
    "        f=f\"onnx/b{v}e_model_f3.onnx\", \n",
    "        input_names=[\"input\"], \n",
    "        output_names=[\"output\"], \n",
    "        opset_version=cfg.opset_version,\n",
    "        export_params=True,\n",
    "        training=torch.onnx.TrainingMode.EVAL,\n",
    "        operator_export_type=torch.onnx.OperatorExportTypes.ONNX_ATEN_FALLBACK,\n",
    "        dynamic_axes={\n",
    "          \"input\"  : {0 : \"batch_size\"},\n",
    "          \"output\" : {0 : \"batch_size\"},\n",
    "        }\n",
    "    )"
   ]
  },
  {
   "cell_type": "code",
   "execution_count": 6,
   "id": "464ada7f",
   "metadata": {
    "execution": {
     "iopub.execute_input": "2023-05-23T13:24:42.504966Z",
     "iopub.status.busy": "2023-05-23T13:24:42.504591Z",
     "iopub.status.idle": "2023-05-23T13:24:42.515434Z",
     "shell.execute_reply": "2023-05-23T13:24:42.514572Z"
    },
    "papermill": {
     "duration": 0.018163,
     "end_time": "2023-05-23T13:24:42.517763",
     "exception": false,
     "start_time": "2023-05-23T13:24:42.499600",
     "status": "completed"
    },
    "tags": []
   },
   "outputs": [],
   "source": [
    "class OnnxModel(object):\n",
    "    def __init__(self, path: str) -> None:\n",
    "        self.size: int = 384\n",
    "        \n",
    "        self.mean: list = [0.34673, 0.34088, 0.28146]\n",
    "        self.std: list  = [0.23150, 0.21951, 0.21481]\n",
    "        \n",
    "        self.path: str = path\n",
    "    \n",
    "        model = onnx.load(self.path)\n",
    "        onnx.checker.check_model(model)\n",
    "        self.ort_session = ort.InferenceSession(self.path)\n",
    "        \n",
    "    def infer(self, image: np.ndarray, labels: dict) -> np.ndarray:\n",
    "        image = image / 255\n",
    "        image = cv2.resize(src=image, dsize=(self.size, self.size), interpolation=cv2.INTER_AREA).transpose(2, 0, 1)\n",
    "        for i in range(image.shape[0]): image[i, :, :] = (image[i, :, :] - self.mean[i]) / self.std[i]\n",
    "        image = np.expand_dims(image, axis=0)\n",
    "        inputs = {self.ort_session.get_inputs()[0].name: image.astype(\"float32\")}\n",
    "        result = self.ort_session.run(None, inputs)\n",
    "        odds = np.exp(np.max(result))\n",
    "        return labels[str(np.argmax(result))].title(), odds / (1 + odds)"
   ]
  },
  {
   "cell_type": "code",
   "execution_count": 7,
   "id": "c54107dc",
   "metadata": {
    "execution": {
     "iopub.execute_input": "2023-05-23T13:24:42.526416Z",
     "iopub.status.busy": "2023-05-23T13:24:42.526045Z",
     "iopub.status.idle": "2023-05-23T13:24:49.489873Z",
     "shell.execute_reply": "2023-05-23T13:24:49.488945Z"
    },
    "papermill": {
     "duration": 6.971006,
     "end_time": "2023-05-23T13:24:49.492364",
     "exception": false,
     "start_time": "2023-05-23T13:24:42.521358",
     "status": "completed"
    },
    "tags": []
   },
   "outputs": [
    {
     "name": "stdout",
     "output_type": "stream",
     "text": [
      "\n",
      "**************************************************\n",
      "\n",
      "BAE_MODEL_F3.ONNX\n",
      "\n",
      "Pale_Oyster, Pale_Oyster\n",
      "Lilac_Fibrecap, Lilac_Fibrecap\n",
      "Scarlet_Waxcap, Scarlet_Waxcap\n",
      "Chicken_Of_The_Woods, Blackening_Polypore\n",
      "Bitter_Bolete, Common_Rustgill\n",
      "Glistening_Inkcap, Glistening_Inkcap\n",
      "Snakeskin_Grisette, Snakeskin_Grisette\n",
      "False_Deathcap, White_False_Death_Cap\n",
      "Pavement_Mushroom, Pavement_Mushroom\n",
      "\n",
      "**************************************************\n",
      "\n",
      "BLE_MODEL_F3.ONNX\n",
      "\n",
      "Bruising_Webcap, Slippery_Jack\n",
      "Stinking_Dapperling, Stinking_Dapperling\n",
      "Shaggy_Scalycap, Stinking_Dapperling\n",
      "Peppery_Bolete, Peppery_Bolete\n",
      "Amethyst_Deceiver, Amethyst_Deceiver\n",
      "Bay_Bolete, Bronze_Bolete\n",
      "Hen_Of_The_Woods, Hen_Of_The_Woods\n",
      "Chicken_Of_The_Woods, Chicken_Of_The_Woods\n",
      "Hairy_Curtain_Crust, Frosted_Chanterelle\n",
      "\n",
      "**************************************************\n",
      "\n"
     ]
    }
   ],
   "source": [
    "df = pd.read_csv(\"/kaggle/input/mic-dataframe/test.csv\")\n",
    "\n",
    "breaker()\n",
    "for model_name in sorted(os.listdir(\"onnx\")):\n",
    "    \n",
    "    onnx_model = OnnxModel(f\"onnx/{model_name}\")\n",
    "    \n",
    "    print(f\"{model_name.upper()}\\n\")\n",
    "    \n",
    "    for i in range(9):\n",
    "        index = r.randint(0, len(df)-1)\n",
    "        filepath = df.iloc[index, 0]\n",
    "        y_true   = df.iloc[index, 1]\n",
    "\n",
    "        image = get_image(filepath)\n",
    "\n",
    "        y_pred, _ = onnx_model.infer(image, labels)\n",
    "        \n",
    "        print(f\"{labels[str(y_true)].title()}, {y_pred}\")\n",
    "        # show_image(image, title=y_pred)\n",
    "\n",
    "    breaker()"
   ]
  }
 ],
 "metadata": {
  "kernelspec": {
   "display_name": "Python 3",
   "language": "python",
   "name": "python3"
  },
  "language_info": {
   "codemirror_mode": {
    "name": "ipython",
    "version": 3
   },
   "file_extension": ".py",
   "mimetype": "text/x-python",
   "name": "python",
   "nbconvert_exporter": "python",
   "pygments_lexer": "ipython3",
   "version": "3.10.10"
  },
  "papermill": {
   "default_parameters": {},
   "duration": 57.127161,
   "end_time": "2023-05-23T13:24:51.127034",
   "environment_variables": {},
   "exception": null,
   "input_path": "__notebook__.ipynb",
   "output_path": "__notebook__.ipynb",
   "parameters": {},
   "start_time": "2023-05-23T13:23:53.999873",
   "version": "2.4.0"
  }
 },
 "nbformat": 4,
 "nbformat_minor": 5
}
