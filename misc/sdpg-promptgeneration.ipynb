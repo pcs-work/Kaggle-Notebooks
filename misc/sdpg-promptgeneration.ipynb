{
 "cells": [
  {
   "cell_type": "code",
   "execution_count": 1,
   "id": "a2a7ef57",
   "metadata": {
    "_cell_guid": "b1076dfc-b9ad-4769-8c92-a6c4dae69d19",
    "_uuid": "8f2839f25d086af736a60e9eeb907d3b93b6e0e5",
    "execution": {
     "iopub.execute_input": "2023-09-01T01:35:05.251590Z",
     "iopub.status.busy": "2023-09-01T01:35:05.251053Z",
     "iopub.status.idle": "2023-09-01T01:35:38.639960Z",
     "shell.execute_reply": "2023-09-01T01:35:38.638170Z"
    },
    "papermill": {
     "duration": 33.398518,
     "end_time": "2023-09-01T01:35:38.643313",
     "exception": false,
     "start_time": "2023-09-01T01:35:05.244795",
     "status": "completed"
    },
    "tags": []
   },
   "outputs": [
    {
     "name": "stdout",
     "output_type": "stream",
     "text": [
      "/opt/conda/lib/python3.10/site-packages/scipy/__init__.py:146: UserWarning: A NumPy version >=1.16.5 and <1.23.0 is required for this version of SciPy (detected version 1.23.5\r\n",
      "  warnings.warn(f\"A NumPy version >={np_minversion} and <{np_maxversion}\"\r\n",
      "/opt/conda/lib/python3.10/site-packages/tensorflow_io/python/ops/__init__.py:98: UserWarning: unable to load libtensorflow_io_plugins.so: unable to open file: libtensorflow_io_plugins.so, from paths: ['/opt/conda/lib/python3.10/site-packages/tensorflow_io/python/ops/libtensorflow_io_plugins.so']\r\n",
      "caused by: ['/opt/conda/lib/python3.10/site-packages/tensorflow_io/python/ops/libtensorflow_io_plugins.so: undefined symbol: _ZN3tsl6StatusC1EN10tensorflow5error4CodeESt17basic_string_viewIcSt11char_traitsIcEENS_14SourceLocationE']\r\n",
      "  warnings.warn(f\"unable to load libtensorflow_io_plugins.so: {e}\")\r\n",
      "/opt/conda/lib/python3.10/site-packages/tensorflow_io/python/ops/__init__.py:104: UserWarning: file system plugins are not loaded: unable to open file: libtensorflow_io.so, from paths: ['/opt/conda/lib/python3.10/site-packages/tensorflow_io/python/ops/libtensorflow_io.so']\r\n",
      "caused by: ['/opt/conda/lib/python3.10/site-packages/tensorflow_io/python/ops/libtensorflow_io.so: undefined symbol: _ZTVN10tensorflow13GcsFileSystemE']\r\n",
      "  warnings.warn(f\"file system plugins are not loaded: {e}\")\r\n",
      "Xformers is not installed correctly. If you want to use memory_efficient_attention to accelerate training use the following command to install Xformers\r\n",
      "pip install xformers.\r\n",
      "Setting `pad_token_id` to `eos_token_id`:50256 for open-end generation.\r\n",
      "\r\n",
      "**************************************************\r\n",
      "\r\n",
      "Landscape of a cozy cabin in the woods, natural light, fantasy, natural light, concept art, by greg rutkowski and craig\r\n",
      "Landscape of a Modern Atlantis temple, by Cedric Peyravernay, highly detailed, excellent composition, cinematic concept art, dramatic lighting,\r\n",
      "Landscape of a cozy cabin in a frozen tundra, digital art, concept art, cgsociety, ue 5, rated by\r\n",
      "Landscape of an izuku midoriya anime forest landscape, a magic portal inside izuku midoriya. Anime, cinematic, concept\r\n",
      "Landscape of a majestic post-nuclear Tokyo at dusk, with neon signs, by Studio Ghibli, Makoto Shinkai, by Artger\r\n",
      "Landscape of a Modern Atlantis temple, detailed, centered, digital painting, artstation, concept art, donato giancola, Joseph Christian\r\n",
      "Landscape of a Modern Atlantis temple, surrounded by Limestone Hills. Ocean, waterfalls, airships, aerial perspective, detailed, concept art,\r\n",
      "Landscape of a heavenly terrifying giant, intricate Asteroid belt nebula, by Greg Rutkowski, cumulonimbus clouds, Trending on\r\n",
      "Landscape of a massive  empty gorgeous crystal temple on the snowy mountains in a gossamer purple sunset, flying cars and people walking by, no\r\n",
      "Landscape of a!!!beautiful!! spaceship, intricate, elegant, highly detailed, digital painting, artstation,  concept art, smooth,\r\n",
      "\r\n",
      "**************************************************\r\n",
      "\r\n"
     ]
    }
   ],
   "source": [
    "!python /kaggle/input/sdpg-script/main.py --prompt \"Landscape of\" --model-path \"/kaggle/input/hf-sd-prompt-generator\" --num-sequences 10"
   ]
  },
  {
   "cell_type": "code",
   "execution_count": null,
   "id": "5a9b0915",
   "metadata": {
    "papermill": {
     "duration": 0.004289,
     "end_time": "2023-09-01T01:35:38.652607",
     "exception": false,
     "start_time": "2023-09-01T01:35:38.648318",
     "status": "completed"
    },
    "tags": []
   },
   "outputs": [],
   "source": []
  }
 ],
 "kernelspec": {
  "display_name": "Python 3",
  "language": "python",
  "name": "python3"
 },
 "language_info": {
  "codemirror_mode": {
   "name": "ipython",
   "version": 3
  },
  "file_extension": ".py",
  "mimetype": "text/x-python",
  "name": "python",
  "nbconvert_exporter": "python",
  "pygments_lexer": "ipython3",
  "version": "3.6.4"
 },
 "metadata": {
  "kernelspec": {
   "display_name": "Python 3",
   "language": "python",
   "name": "python3"
  },
  "language_info": {
   "codemirror_mode": {
    "name": "ipython",
    "version": 3
   },
   "file_extension": ".py",
   "mimetype": "text/x-python",
   "name": "python",
   "nbconvert_exporter": "python",
   "pygments_lexer": "ipython3",
   "version": "3.10.12"
  },
  "papermill": {
   "default_parameters": {},
   "duration": 46.8253,
   "end_time": "2023-09-01T01:35:39.680278",
   "environment_variables": {},
   "exception": null,
   "input_path": "__notebook__.ipynb",
   "output_path": "__notebook__.ipynb",
   "parameters": {},
   "start_time": "2023-09-01T01:34:52.854978",
   "version": "2.4.0"
  }
 },
 "nbformat": 4,
 "nbformat_minor": 5
}
