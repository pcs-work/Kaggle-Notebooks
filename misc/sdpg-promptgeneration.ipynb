{
 "cells": [
  {
   "cell_type": "code",
   "execution_count": 1,
   "id": "061c8613",
   "metadata": {
    "_cell_guid": "b1076dfc-b9ad-4769-8c92-a6c4dae69d19",
    "_uuid": "8f2839f25d086af736a60e9eeb907d3b93b6e0e5",
    "execution": {
     "iopub.execute_input": "2023-10-10T20:31:46.492566Z",
     "iopub.status.busy": "2023-10-10T20:31:46.491514Z",
     "iopub.status.idle": "2023-10-10T20:32:21.110290Z",
     "shell.execute_reply": "2023-10-10T20:32:21.108841Z"
    },
    "papermill": {
     "duration": 34.62578,
     "end_time": "2023-10-10T20:32:21.113183",
     "exception": false,
     "start_time": "2023-10-10T20:31:46.487403",
     "status": "completed"
    },
    "tags": []
   },
   "outputs": [
    {
     "name": "stdout",
     "output_type": "stream",
     "text": [
      "/opt/conda/lib/python3.10/site-packages/scipy/__init__.py:146: UserWarning: A NumPy version >=1.16.5 and <1.23.0 is required for this version of SciPy (detected version 1.23.5\r\n",
      "  warnings.warn(f\"A NumPy version >={np_minversion} and <{np_maxversion}\"\r\n",
      "/opt/conda/lib/python3.10/site-packages/tensorflow_io/python/ops/__init__.py:98: UserWarning: unable to load libtensorflow_io_plugins.so: unable to open file: libtensorflow_io_plugins.so, from paths: ['/opt/conda/lib/python3.10/site-packages/tensorflow_io/python/ops/libtensorflow_io_plugins.so']\r\n",
      "caused by: ['/opt/conda/lib/python3.10/site-packages/tensorflow_io/python/ops/libtensorflow_io_plugins.so: undefined symbol: _ZN3tsl6StatusC1EN10tensorflow5error4CodeESt17basic_string_viewIcSt11char_traitsIcEENS_14SourceLocationE']\r\n",
      "  warnings.warn(f\"unable to load libtensorflow_io_plugins.so: {e}\")\r\n",
      "/opt/conda/lib/python3.10/site-packages/tensorflow_io/python/ops/__init__.py:104: UserWarning: file system plugins are not loaded: unable to open file: libtensorflow_io.so, from paths: ['/opt/conda/lib/python3.10/site-packages/tensorflow_io/python/ops/libtensorflow_io.so']\r\n",
      "caused by: ['/opt/conda/lib/python3.10/site-packages/tensorflow_io/python/ops/libtensorflow_io.so: undefined symbol: _ZTVN10tensorflow13GcsFileSystemE']\r\n",
      "  warnings.warn(f\"file system plugins are not loaded: {e}\")\r\n",
      "Xformers is not installed correctly. If you want to use memory_efficient_attention to accelerate training use the following command to install Xformers\r\n",
      "pip install xformers.\r\n",
      "Setting `pad_token_id` to `eos_token_id`:50256 for open-end generation.\r\n",
      "\r\n",
      "**************************************************\r\n",
      "\r\n",
      "A candle in a dark room, highly detailed, digital painting, artstation, concept art, smooth, sharp focus, illustration, art by artger\r\n",
      "A candle in a dark room, detailed, Octane Render, unreal 5, digital art, Greg rutkowski and Thomas kinkade, Trend\r\n",
      "A candle in a dark room, dramatic lighting, detailed, cell shaded, 4 k, warm colours, concept art, by wlop,\r\n",
      "A candle in a dark room, Trending on Artstation\r\n",
      "A candle in a dark room, detailed, soft focus, night, trending on ArtStation\r\n",
      "A candle in a dark room, Trending on Artstation, Hiroaki Tsutsumi style\r\n",
      "A candle in a dark room, detailed shadows, atmospheric lighting, stunning composition, creative, detailed 3D matte painting, bold shapes, hard edges,\r\n",
      "A candle in a dark room, very vibrant colors, soft Asteroid belt lighting,smoke at the top, trending on artstation, 4k\r\n",
      "A candle in a dark room with a few candles, detailed, centered, digital painting, artstation, concept art, donato giancola\r\n",
      "A candle in a dark room, Trending on Artstation, cloudy background\r\n",
      "\r\n",
      "**************************************************\r\n",
      "\r\n"
     ]
    }
   ],
   "source": [
    "!python /kaggle/input/sdpg-script/main.py --prompt \"A candle in a dark room\" --model-path \"/kaggle/input/hf-sd-prompt-generator\" --num-sequences 10"
   ]
  }
 ],
 "metadata": {
  "kernelspec": {
   "display_name": "Python 3",
   "language": "python",
   "name": "python3"
  },
  "language_info": {
   "codemirror_mode": {
    "name": "ipython",
    "version": 3
   },
   "file_extension": ".py",
   "mimetype": "text/x-python",
   "name": "python",
   "nbconvert_exporter": "python",
   "pygments_lexer": "ipython3",
   "version": "3.10.12"
  },
  "papermill": {
   "default_parameters": {},
   "duration": 46.683467,
   "end_time": "2023-10-10T20:32:22.441264",
   "environment_variables": {},
   "exception": null,
   "input_path": "__notebook__.ipynb",
   "output_path": "__notebook__.ipynb",
   "parameters": {},
   "start_time": "2023-10-10T20:31:35.757797",
   "version": "2.4.0"
  }
 },
 "nbformat": 4,
 "nbformat_minor": 5
}
