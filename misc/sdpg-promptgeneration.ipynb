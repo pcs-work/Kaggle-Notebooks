{
 "cells": [
  {
   "cell_type": "code",
   "execution_count": 1,
   "id": "33768580",
   "metadata": {
    "_cell_guid": "b1076dfc-b9ad-4769-8c92-a6c4dae69d19",
    "_uuid": "8f2839f25d086af736a60e9eeb907d3b93b6e0e5",
    "execution": {
     "iopub.execute_input": "2023-09-10T17:43:16.560028Z",
     "iopub.status.busy": "2023-09-10T17:43:16.559336Z",
     "iopub.status.idle": "2023-09-10T17:43:47.638230Z",
     "shell.execute_reply": "2023-09-10T17:43:47.636961Z"
    },
    "papermill": {
     "duration": 31.087424,
     "end_time": "2023-09-10T17:43:47.641082",
     "exception": false,
     "start_time": "2023-09-10T17:43:16.553658",
     "status": "completed"
    },
    "tags": []
   },
   "outputs": [
    {
     "name": "stdout",
     "output_type": "stream",
     "text": [
      "/opt/conda/lib/python3.10/site-packages/scipy/__init__.py:146: UserWarning: A NumPy version >=1.16.5 and <1.23.0 is required for this version of SciPy (detected version 1.23.5\r\n",
      "  warnings.warn(f\"A NumPy version >={np_minversion} and <{np_maxversion}\"\r\n",
      "/opt/conda/lib/python3.10/site-packages/tensorflow_io/python/ops/__init__.py:98: UserWarning: unable to load libtensorflow_io_plugins.so: unable to open file: libtensorflow_io_plugins.so, from paths: ['/opt/conda/lib/python3.10/site-packages/tensorflow_io/python/ops/libtensorflow_io_plugins.so']\r\n",
      "caused by: ['/opt/conda/lib/python3.10/site-packages/tensorflow_io/python/ops/libtensorflow_io_plugins.so: undefined symbol: _ZN3tsl6StatusC1EN10tensorflow5error4CodeESt17basic_string_viewIcSt11char_traitsIcEENS_14SourceLocationE']\r\n",
      "  warnings.warn(f\"unable to load libtensorflow_io_plugins.so: {e}\")\r\n",
      "/opt/conda/lib/python3.10/site-packages/tensorflow_io/python/ops/__init__.py:104: UserWarning: file system plugins are not loaded: unable to open file: libtensorflow_io.so, from paths: ['/opt/conda/lib/python3.10/site-packages/tensorflow_io/python/ops/libtensorflow_io.so']\r\n",
      "caused by: ['/opt/conda/lib/python3.10/site-packages/tensorflow_io/python/ops/libtensorflow_io.so: undefined symbol: _ZTVN10tensorflow13GcsFileSystemE']\r\n",
      "  warnings.warn(f\"file system plugins are not loaded: {e}\")\r\n",
      "Xformers is not installed correctly. If you want to use memory_efficient_attention to accelerate training use the following command to install Xformers\r\n",
      "pip install xformers.\r\n",
      "Setting `pad_token_id` to `eos_token_id`:50256 for open-end generation.\r\n",
      "\r\n",
      "**************************************************\r\n",
      "\r\n",
      "The night sky with stars forming the shape of a cougar, desaturated colours!!!!!!!!!!, sky focus, night time, trending on artstation,\r\n",
      "The night sky with planets in the light is a strange blur, it's hard to see the stars and the ground is ablaze with constellations\r\n",
      "The night sky with stars forming the shape of Lyraa, digital art, realistic, trending on Artstation, 4k, 35mm\r\n",
      "The night sky with stars around it, stars in the iridescent light beams illuminating its face, stars in the iridescent sky, digital painting\r\n",
      "The night sky with constellations. Blue sky with constellations. A beautiful, digital art, concept art, sci-fi, by James\r\n",
      "The night sky with stars in the outer reaches of the solar system beyond, with galaxies in the sky, cinematic, mixed media, digital art, trending\r\n",
      "The night sky with stars forming the shape of a cougar, desaturated, Tim Hildebrandt, Wayne Barlowe, Bruce Pennington\r\n",
      "The night sky with constellations, stars Asteroid belt and comets in the background, natural, ultra detail. digital painting, beautiful, concept\r\n",
      "The night sky with stars forming the shape of a cougar, desaturated, psychedelic, tim hildebrandt, wayne barlowe,\r\n",
      "The night sky with stars that are black around it, stars with big blue stripes and constellations, 4k, 8k, hd,\r\n",
      "\r\n",
      "**************************************************\r\n",
      "\r\n"
     ]
    }
   ],
   "source": [
    "!python /kaggle/input/sdpg-script/main.py --prompt \"The night sky\" --model-path \"/kaggle/input/hf-sd-prompt-generator\" --num-sequences 10"
   ]
  }
 ],
 "kernelspec": {
  "display_name": "Python 3",
  "language": "python",
  "name": "python3"
 },
 "language_info": {
  "codemirror_mode": {
   "name": "ipython",
   "version": 3
  },
  "file_extension": ".py",
  "mimetype": "text/x-python",
  "name": "python",
  "nbconvert_exporter": "python",
  "pygments_lexer": "ipython3",
  "version": "3.6.4"
 },
 "metadata": {
  "kernelspec": {
   "display_name": "Python 3",
   "language": "python",
   "name": "python3"
  },
  "language_info": {
   "codemirror_mode": {
    "name": "ipython",
    "version": 3
   },
   "file_extension": ".py",
   "mimetype": "text/x-python",
   "name": "python",
   "nbconvert_exporter": "python",
   "pygments_lexer": "ipython3",
   "version": "3.10.12"
  },
  "papermill": {
   "default_parameters": {},
   "duration": 43.47613,
   "end_time": "2023-09-10T17:43:48.467002",
   "environment_variables": {},
   "exception": null,
   "input_path": "__notebook__.ipynb",
   "output_path": "__notebook__.ipynb",
   "parameters": {},
   "start_time": "2023-09-10T17:43:04.990872",
   "version": "2.4.0"
  }
 },
 "nbformat": 4,
 "nbformat_minor": 5
}
