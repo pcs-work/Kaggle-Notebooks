{
 "cells": [
  {
   "cell_type": "code",
   "execution_count": 1,
   "id": "83da050a",
   "metadata": {
    "_cell_guid": "b1076dfc-b9ad-4769-8c92-a6c4dae69d19",
    "_uuid": "8f2839f25d086af736a60e9eeb907d3b93b6e0e5",
    "execution": {
     "iopub.execute_input": "2023-09-03T18:48:30.410192Z",
     "iopub.status.busy": "2023-09-03T18:48:30.409825Z",
     "iopub.status.idle": "2023-09-03T18:49:00.765174Z",
     "shell.execute_reply": "2023-09-03T18:49:00.763829Z"
    },
    "papermill": {
     "duration": 30.362843,
     "end_time": "2023-09-03T18:49:00.767879",
     "exception": false,
     "start_time": "2023-09-03T18:48:30.405036",
     "status": "completed"
    },
    "tags": []
   },
   "outputs": [
    {
     "name": "stdout",
     "output_type": "stream",
     "text": [
      "/opt/conda/lib/python3.10/site-packages/scipy/__init__.py:146: UserWarning: A NumPy version >=1.16.5 and <1.23.0 is required for this version of SciPy (detected version 1.23.5\r\n",
      "  warnings.warn(f\"A NumPy version >={np_minversion} and <{np_maxversion}\"\r\n",
      "/opt/conda/lib/python3.10/site-packages/tensorflow_io/python/ops/__init__.py:98: UserWarning: unable to load libtensorflow_io_plugins.so: unable to open file: libtensorflow_io_plugins.so, from paths: ['/opt/conda/lib/python3.10/site-packages/tensorflow_io/python/ops/libtensorflow_io_plugins.so']\r\n",
      "caused by: ['/opt/conda/lib/python3.10/site-packages/tensorflow_io/python/ops/libtensorflow_io_plugins.so: undefined symbol: _ZN3tsl6StatusC1EN10tensorflow5error4CodeESt17basic_string_viewIcSt11char_traitsIcEENS_14SourceLocationE']\r\n",
      "  warnings.warn(f\"unable to load libtensorflow_io_plugins.so: {e}\")\r\n",
      "/opt/conda/lib/python3.10/site-packages/tensorflow_io/python/ops/__init__.py:104: UserWarning: file system plugins are not loaded: unable to open file: libtensorflow_io.so, from paths: ['/opt/conda/lib/python3.10/site-packages/tensorflow_io/python/ops/libtensorflow_io.so']\r\n",
      "caused by: ['/opt/conda/lib/python3.10/site-packages/tensorflow_io/python/ops/libtensorflow_io.so: undefined symbol: _ZTVN10tensorflow13GcsFileSystemE']\r\n",
      "  warnings.warn(f\"file system plugins are not loaded: {e}\")\r\n",
      "Xformers is not installed correctly. If you want to use memory_efficient_attention to accelerate training use the following command to install Xformers\r\n",
      "pip install xformers.\r\n",
      "Setting `pad_token_id` to `eos_token_id`:50256 for open-end generation.\r\n",
      "\r\n",
      "**************************************************\r\n",
      "\r\n",
      "A picturesque night sky over a full moon. by Gerald Brom, James Jean, Krenz Cushart, Yuumei, Death Burger\r\n",
      "A picturesque night sky with planets visible in the background, stars in the sky, 4k, 8k, hd, full color, trending\r\n",
      "A picturesque night sky, small waterfall, mist, candlelight, celestial highlights, painting in style of krenz cushart, ilya\r\n",
      "A picturesque night sky, low angle, dawn, stars in the night sky, realistic, detailed faces, moody, atmospheric, cinematic, wide\r\n",
      "A picturesque night sky overimpel forest by Simon Stålenhag, Olsen Alphones, and Anato Finnstark digital art,\r\n",
      "A picturesque night sky over the sea, stars bloom in the background, natural, ultra detail. digital painting, beautiful, concept art, ethereal\r\n",
      "A picturesque night sky with constellations, small camp is built beside. In style of Yoji Shinkawa and Hyung-tae\r\n",
      "A picturesque night sky with constellations, stars Asteroid belt with huge rings and beautiful draped clouds, anime, fountain, statue, underwater,\r\n",
      "A picturesque night sky with stars visible through shattered clouds, by camillo cabral and john howe and alphonse mucha, trending on\r\n",
      "A picturesque night sky overland, low poly, isometric art, 3d render, waterfall, high detail, artstation, concept art,\r\n",
      "\r\n",
      "**************************************************\r\n",
      "\r\n"
     ]
    }
   ],
   "source": [
    "!python /kaggle/input/sdpg-script/main.py --prompt \"A picturesque night sky\" --model-path \"/kaggle/input/hf-sd-prompt-generator\" --num-sequences 10"
   ]
  }
 ],
 "kernelspec": {
  "display_name": "Python 3",
  "language": "python",
  "name": "python3"
 },
 "language_info": {
  "codemirror_mode": {
   "name": "ipython",
   "version": 3
  },
  "file_extension": ".py",
  "mimetype": "text/x-python",
  "name": "python",
  "nbconvert_exporter": "python",
  "pygments_lexer": "ipython3",
  "version": "3.6.4"
 },
 "metadata": {
  "kernelspec": {
   "display_name": "Python 3",
   "language": "python",
   "name": "python3"
  },
  "language_info": {
   "codemirror_mode": {
    "name": "ipython",
    "version": 3
   },
   "file_extension": ".py",
   "mimetype": "text/x-python",
   "name": "python",
   "nbconvert_exporter": "python",
   "pygments_lexer": "ipython3",
   "version": "3.10.12"
  },
  "papermill": {
   "default_parameters": {},
   "duration": 40.78503,
   "end_time": "2023-09-03T18:49:01.592569",
   "environment_variables": {},
   "exception": null,
   "input_path": "__notebook__.ipynb",
   "output_path": "__notebook__.ipynb",
   "parameters": {},
   "start_time": "2023-09-03T18:48:20.807539",
   "version": "2.4.0"
  }
 },
 "nbformat": 4,
 "nbformat_minor": 5
}
