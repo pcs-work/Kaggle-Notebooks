{
 "cells": [
  {
   "cell_type": "code",
   "execution_count": 1,
   "id": "00c474b5",
   "metadata": {
    "_cell_guid": "b1076dfc-b9ad-4769-8c92-a6c4dae69d19",
    "_uuid": "8f2839f25d086af736a60e9eeb907d3b93b6e0e5",
    "execution": {
     "iopub.execute_input": "2023-09-10T10:27:02.548464Z",
     "iopub.status.busy": "2023-09-10T10:27:02.547562Z",
     "iopub.status.idle": "2023-09-10T10:27:33.813715Z",
     "shell.execute_reply": "2023-09-10T10:27:33.812245Z"
    },
    "papermill": {
     "duration": 31.274508,
     "end_time": "2023-09-10T10:27:33.816297",
     "exception": false,
     "start_time": "2023-09-10T10:27:02.541789",
     "status": "completed"
    },
    "tags": []
   },
   "outputs": [
    {
     "name": "stdout",
     "output_type": "stream",
     "text": [
      "/opt/conda/lib/python3.10/site-packages/scipy/__init__.py:146: UserWarning: A NumPy version >=1.16.5 and <1.23.0 is required for this version of SciPy (detected version 1.23.5\r\n",
      "  warnings.warn(f\"A NumPy version >={np_minversion} and <{np_maxversion}\"\r\n",
      "/opt/conda/lib/python3.10/site-packages/tensorflow_io/python/ops/__init__.py:98: UserWarning: unable to load libtensorflow_io_plugins.so: unable to open file: libtensorflow_io_plugins.so, from paths: ['/opt/conda/lib/python3.10/site-packages/tensorflow_io/python/ops/libtensorflow_io_plugins.so']\r\n",
      "caused by: ['/opt/conda/lib/python3.10/site-packages/tensorflow_io/python/ops/libtensorflow_io_plugins.so: undefined symbol: _ZN3tsl6StatusC1EN10tensorflow5error4CodeESt17basic_string_viewIcSt11char_traitsIcEENS_14SourceLocationE']\r\n",
      "  warnings.warn(f\"unable to load libtensorflow_io_plugins.so: {e}\")\r\n",
      "/opt/conda/lib/python3.10/site-packages/tensorflow_io/python/ops/__init__.py:104: UserWarning: file system plugins are not loaded: unable to open file: libtensorflow_io.so, from paths: ['/opt/conda/lib/python3.10/site-packages/tensorflow_io/python/ops/libtensorflow_io.so']\r\n",
      "caused by: ['/opt/conda/lib/python3.10/site-packages/tensorflow_io/python/ops/libtensorflow_io.so: undefined symbol: _ZTVN10tensorflow13GcsFileSystemE']\r\n",
      "  warnings.warn(f\"file system plugins are not loaded: {e}\")\r\n",
      "Xformers is not installed correctly. If you want to use memory_efficient_attention to accelerate training use the following command to install Xformers\r\n",
      "pip install xformers.\r\n",
      "Setting `pad_token_id` to `eos_token_id`:50256 for open-end generation.\r\n",
      "\r\n",
      "**************************************************\r\n",
      "\r\n",
      "A person standing atop a mountain staring into a valley, mountain landscape, mountains in the background, concept art, illustrated, highly detailed, high quality,\r\n",
      "A person standing atop a mountain staring into a valley, a detailed matte painting by senior environment artist, cgsociety, fantasy art, matte painting\r\n",
      "A person standing atop a mountain staring into a valley, a detailed matte painting by Zdzisław Beksiński, c\r\n",
      "A person standing atop a mountain staring into a valley, mountain landscape, view, blue haze, sunset, a dystopian western movie poster by by by Jason\r\n",
      "A person standing atop a mountain staring into a valley, a screenshot by Jin Homura, featured on pixiv, neo-romanticism,\r\n",
      "A person standing atop a mountain staring into a valley, the sun is on the background. Elegant, intricate, digital painting, artstation,\r\n",
      "A person standing atop a mountain staring into a valley, a detailed matte painting by Yoshitaka Amano, cgsociety, fantasy art,\r\n",
      "A person standing atop a mountain staring into a valley, the leaves are falling, Asteroid belt, trending on artstation, cinematic, hyper realism,\r\n",
      "A person standing atop a mountain staring into a valley with a sunset. The sun is setting. The sky is filled with stars. There is a small\r\n",
      "A person standing atop a mountain staring into a valley, concept art, by Takato Yamamoto, by noah bradley, by james\r\n",
      "\r\n",
      "**************************************************\r\n",
      "\r\n"
     ]
    }
   ],
   "source": [
    "!python /kaggle/input/sdpg-script/main.py --prompt \"A person standing atop a mountain staring into a valley\" --model-path \"/kaggle/input/hf-sd-prompt-generator\" --num-sequences 10"
   ]
  }
 ],
 "kernelspec": {
  "display_name": "Python 3",
  "language": "python",
  "name": "python3"
 },
 "language_info": {
  "codemirror_mode": {
   "name": "ipython",
   "version": 3
  },
  "file_extension": ".py",
  "mimetype": "text/x-python",
  "name": "python",
  "nbconvert_exporter": "python",
  "pygments_lexer": "ipython3",
  "version": "3.6.4"
 },
 "metadata": {
  "kernelspec": {
   "display_name": "Python 3",
   "language": "python",
   "name": "python3"
  },
  "language_info": {
   "codemirror_mode": {
    "name": "ipython",
    "version": 3
   },
   "file_extension": ".py",
   "mimetype": "text/x-python",
   "name": "python",
   "nbconvert_exporter": "python",
   "pygments_lexer": "ipython3",
   "version": "3.10.12"
  },
  "papermill": {
   "default_parameters": {},
   "duration": 43.639587,
   "end_time": "2023-09-10T10:27:34.642565",
   "environment_variables": {},
   "exception": null,
   "input_path": "__notebook__.ipynb",
   "output_path": "__notebook__.ipynb",
   "parameters": {},
   "start_time": "2023-09-10T10:26:51.002978",
   "version": "2.4.0"
  }
 },
 "nbformat": 4,
 "nbformat_minor": 5
}
