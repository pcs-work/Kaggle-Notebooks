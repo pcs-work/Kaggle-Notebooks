{
 "cells": [
  {
   "cell_type": "code",
   "execution_count": 1,
   "id": "93fa8366",
   "metadata": {
    "_cell_guid": "b1076dfc-b9ad-4769-8c92-a6c4dae69d19",
    "_uuid": "8f2839f25d086af736a60e9eeb907d3b93b6e0e5",
    "execution": {
     "iopub.execute_input": "2023-05-24T11:17:26.836461Z",
     "iopub.status.busy": "2023-05-24T11:17:26.835990Z",
     "iopub.status.idle": "2023-05-24T11:17:27.038681Z",
     "shell.execute_reply": "2023-05-24T11:17:27.037501Z"
    },
    "papermill": {
     "duration": 0.211399,
     "end_time": "2023-05-24T11:17:27.041758",
     "exception": false,
     "start_time": "2023-05-24T11:17:26.830359",
     "status": "completed"
    },
    "tags": []
   },
   "outputs": [],
   "source": [
    "import os\n",
    "import cv2\n",
    "import json\n",
    "import numpy as np\n",
    "import pandas as pd\n",
    "\n",
    "BASE_PATH: str = \"/kaggle/input/melanoma-vs-non-melanoma/DermMel\""
   ]
  },
  {
   "cell_type": "code",
   "execution_count": 2,
   "id": "54b55448",
   "metadata": {
    "execution": {
     "iopub.execute_input": "2023-05-24T11:17:27.051736Z",
     "iopub.status.busy": "2023-05-24T11:17:27.050675Z",
     "iopub.status.idle": "2023-05-24T11:17:27.069443Z",
     "shell.execute_reply": "2023-05-24T11:17:27.068289Z"
    },
    "papermill": {
     "duration": 0.027647,
     "end_time": "2023-05-24T11:17:27.072391",
     "exception": false,
     "start_time": "2023-05-24T11:17:27.044744",
     "status": "completed"
    },
    "tags": []
   },
   "outputs": [],
   "source": [
    "tr_df: pd.DataFrame = pd.DataFrame(data=None, columns=[\"filepaths\", \"labels\"])\n",
    "ts_df: pd.DataFrame = pd.DataFrame(data=None, columns=[\"filepaths\", \"labels\"])\n",
    "fu_df: pd.DataFrame = pd.DataFrame(data=None, columns=[\"filepaths\", \"labels\"])  "
   ]
  },
  {
   "cell_type": "code",
   "execution_count": 3,
   "id": "64b9bb55",
   "metadata": {
    "execution": {
     "iopub.execute_input": "2023-05-24T11:17:27.080905Z",
     "iopub.status.busy": "2023-05-24T11:17:27.079668Z",
     "iopub.status.idle": "2023-05-24T11:17:27.804903Z",
     "shell.execute_reply": "2023-05-24T11:17:27.803624Z"
    },
    "papermill": {
     "duration": 0.732623,
     "end_time": "2023-05-24T11:17:27.808091",
     "exception": false,
     "start_time": "2023-05-24T11:17:27.075468",
     "status": "completed"
    },
    "tags": []
   },
   "outputs": [],
   "source": [
    "tr_filepaths: list = []\n",
    "tr_labels: list = []\n",
    "\n",
    "va_filepaths: list = []\n",
    "va_labels: list = []\n",
    "\n",
    "i: int = 0\n",
    "for folder in sorted(os.listdir(f\"{BASE_PATH}/train_sep\")):\n",
    "    for filename in os.listdir(f\"{BASE_PATH}/train_sep/{folder}\"):\n",
    "        tr_filepaths.append(os.path.join(f\"{BASE_PATH}/train_sep/{folder}\", filename))\n",
    "        tr_labels.append(i)\n",
    "    i += 1\n",
    "  \n",
    "i: int = 0\n",
    "for folder in sorted(os.listdir(f\"{BASE_PATH}/valid\")):\n",
    "    for filename in os.listdir(f\"{BASE_PATH}/valid/{folder}\"):\n",
    "        va_filepaths.append(os.path.join(f\"{BASE_PATH}/valid/{folder}\", filename))\n",
    "        va_labels.append(i)\n",
    "    i += 1\n",
    "\n",
    "tr_df.filepaths = tr_filepaths + va_filepaths\n",
    "tr_df.labels = tr_labels + va_labels\n",
    "tr_df.to_csv(\"train.csv\", index=False)"
   ]
  },
  {
   "cell_type": "code",
   "execution_count": 4,
   "id": "32d19964",
   "metadata": {
    "execution": {
     "iopub.execute_input": "2023-05-24T11:17:27.816864Z",
     "iopub.status.busy": "2023-05-24T11:17:27.815626Z",
     "iopub.status.idle": "2023-05-24T11:17:28.158627Z",
     "shell.execute_reply": "2023-05-24T11:17:28.157406Z"
    },
    "papermill": {
     "duration": 0.350659,
     "end_time": "2023-05-24T11:17:28.161883",
     "exception": false,
     "start_time": "2023-05-24T11:17:27.811224",
     "status": "completed"
    },
    "tags": []
   },
   "outputs": [],
   "source": [
    "filepaths: list = []\n",
    "labels: list = []\n",
    "\n",
    "i: int = 0    \n",
    "for folder in sorted(os.listdir(f\"{BASE_PATH}/test\")):\n",
    "    for filename in os.listdir(f\"{BASE_PATH}/test/{folder}\"):\n",
    "        filepaths.append(os.path.join(f\"{BASE_PATH}/test/{folder}\", filename))\n",
    "        labels.append(i)\n",
    "    i += 1\n",
    "\n",
    "ts_df.filepaths = filepaths\n",
    "ts_df.labels = labels\n",
    "ts_df.to_csv(\"test.csv\", index=False)"
   ]
  },
  {
   "cell_type": "code",
   "execution_count": 5,
   "id": "8f47c892",
   "metadata": {
    "execution": {
     "iopub.execute_input": "2023-05-24T11:17:28.170197Z",
     "iopub.status.busy": "2023-05-24T11:17:28.169781Z",
     "iopub.status.idle": "2023-05-24T11:17:28.294862Z",
     "shell.execute_reply": "2023-05-24T11:17:28.293910Z"
    },
    "papermill": {
     "duration": 0.132174,
     "end_time": "2023-05-24T11:17:28.297492",
     "exception": false,
     "start_time": "2023-05-24T11:17:28.165318",
     "status": "completed"
    },
    "tags": []
   },
   "outputs": [],
   "source": [
    "fu_df.filepaths = tr_filepaths + va_filepaths + filepaths\n",
    "fu_df.labels = tr_labels + va_labels + labels\n",
    "fu_df.to_csv(\"full.csv\", index=False)"
   ]
  },
  {
   "cell_type": "code",
   "execution_count": 6,
   "id": "45da1338",
   "metadata": {
    "execution": {
     "iopub.execute_input": "2023-05-24T11:17:28.306390Z",
     "iopub.status.busy": "2023-05-24T11:17:28.305084Z",
     "iopub.status.idle": "2023-05-24T11:17:28.312492Z",
     "shell.execute_reply": "2023-05-24T11:17:28.311462Z"
    },
    "papermill": {
     "duration": 0.014547,
     "end_time": "2023-05-24T11:17:28.315292",
     "exception": false,
     "start_time": "2023-05-24T11:17:28.300745",
     "status": "completed"
    },
    "tags": []
   },
   "outputs": [],
   "source": [
    "labels: dict = dict()\n",
    "\n",
    "i = 0\n",
    "for folder in sorted(os.listdir(f\"{BASE_PATH}/train_sep\")):\n",
    "    labels[i] = folder\n",
    "    i += 1\n",
    "\n",
    "json.dump(labels, open(\"labels.json\", \"w\"))"
   ]
  }
 ],
 "metadata": {
  "kernelspec": {
   "display_name": "Python 3",
   "language": "python",
   "name": "python3"
  },
  "language_info": {
   "codemirror_mode": {
    "name": "ipython",
    "version": 3
   },
   "file_extension": ".py",
   "mimetype": "text/x-python",
   "name": "python",
   "nbconvert_exporter": "python",
   "pygments_lexer": "ipython3",
   "version": "3.10.10"
  },
  "papermill": {
   "default_parameters": {},
   "duration": 15.464653,
   "end_time": "2023-05-24T11:17:29.542575",
   "environment_variables": {},
   "exception": null,
   "input_path": "__notebook__.ipynb",
   "output_path": "__notebook__.ipynb",
   "parameters": {},
   "start_time": "2023-05-24T11:17:14.077922",
   "version": "2.4.0"
  }
 },
 "nbformat": 4,
 "nbformat_minor": 5
}
