{
 "cells": [
  {
   "cell_type": "markdown",
   "id": "0f579d7c",
   "metadata": {
    "_cell_guid": "b1076dfc-b9ad-4769-8c92-a6c4dae69d19",
    "_uuid": "8f2839f25d086af736a60e9eeb907d3b93b6e0e5",
    "papermill": {
     "duration": 0.005021,
     "end_time": "2023-05-25T10:33:43.759479",
     "exception": false,
     "start_time": "2023-05-25T10:33:43.754458",
     "status": "completed"
    },
    "tags": []
   },
   "source": [
    "### **Setup**"
   ]
  },
  {
   "cell_type": "code",
   "execution_count": 1,
   "id": "9043f55d",
   "metadata": {
    "execution": {
     "iopub.execute_input": "2023-05-25T10:33:43.770301Z",
     "iopub.status.busy": "2023-05-25T10:33:43.769875Z",
     "iopub.status.idle": "2023-05-25T10:33:54.299029Z",
     "shell.execute_reply": "2023-05-25T10:33:54.298100Z"
    },
    "papermill": {
     "duration": 10.537456,
     "end_time": "2023-05-25T10:33:54.301553",
     "exception": false,
     "start_time": "2023-05-25T10:33:43.764097",
     "status": "completed"
    },
    "tags": []
   },
   "outputs": [
    {
     "name": "stderr",
     "output_type": "stream",
     "text": [
      "WARNING: Running pip as the 'root' user can result in broken permissions and conflicting behaviour with the system package manager. It is recommended to use a virtual environment instead: https://pip.pypa.io/warnings/venv\n"
     ]
    }
   ],
   "source": [
    "%%bash\n",
    "pip install timm -q"
   ]
  },
  {
   "cell_type": "markdown",
   "id": "ebde8d8e",
   "metadata": {
    "papermill": {
     "duration": 0.004438,
     "end_time": "2023-05-25T10:33:54.311063",
     "exception": false,
     "start_time": "2023-05-25T10:33:54.306625",
     "status": "completed"
    },
    "tags": []
   },
   "source": [
    "### **Library Imports**"
   ]
  },
  {
   "cell_type": "code",
   "execution_count": 2,
   "id": "bf6902df",
   "metadata": {
    "execution": {
     "iopub.execute_input": "2023-05-25T10:33:54.322822Z",
     "iopub.status.busy": "2023-05-25T10:33:54.321919Z",
     "iopub.status.idle": "2023-05-25T10:33:59.790338Z",
     "shell.execute_reply": "2023-05-25T10:33:59.789317Z"
    },
    "papermill": {
     "duration": 5.477759,
     "end_time": "2023-05-25T10:33:59.793350",
     "exception": false,
     "start_time": "2023-05-25T10:33:54.315591",
     "status": "completed"
    },
    "tags": []
   },
   "outputs": [],
   "source": [
    "import os\n",
    "import re\n",
    "import cv2\n",
    "import timm\n",
    "import torch\n",
    "import numpy as np\n",
    "import pandas as pd\n",
    "import matplotlib.pyplot as plt\n",
    "\n",
    "from time import time\n",
    "from typing import Union\n",
    "from torch import nn, optim\n",
    "from torch.utils.data import Dataset\n",
    "from torch.utils.data import DataLoader as DL\n",
    "from torchvision import transforms\n",
    "\n",
    "from sklearn.model_selection import KFold"
   ]
  },
  {
   "cell_type": "markdown",
   "id": "61439051",
   "metadata": {
    "papermill": {
     "duration": 0.004648,
     "end_time": "2023-05-25T10:33:59.805311",
     "exception": false,
     "start_time": "2023-05-25T10:33:59.800663",
     "status": "completed"
    },
    "tags": []
   },
   "source": [
    "### **Utilities and Helpers**"
   ]
  },
  {
   "cell_type": "code",
   "execution_count": 3,
   "id": "bfc6576b",
   "metadata": {
    "execution": {
     "iopub.execute_input": "2023-05-25T10:33:59.816478Z",
     "iopub.status.busy": "2023-05-25T10:33:59.815543Z",
     "iopub.status.idle": "2023-05-25T10:33:59.829535Z",
     "shell.execute_reply": "2023-05-25T10:33:59.828695Z"
    },
    "papermill": {
     "duration": 0.021563,
     "end_time": "2023-05-25T10:33:59.831502",
     "exception": false,
     "start_time": "2023-05-25T10:33:59.809939",
     "status": "completed"
    },
    "tags": []
   },
   "outputs": [],
   "source": [
    "SEED: int = 42\n",
    "\n",
    "\n",
    "def breaker(num: int=50, char: str=\"*\") -> None: print(\"\\n\" + num*char + \"\\n\")\n",
    "\n",
    "    \n",
    "def get_image(path: str, size: int=224) -> np.ndarray:\n",
    "    image = cv2.imread(path, cv2.IMREAD_COLOR)\n",
    "    image = cv2.cvtColor(src=image, code=cv2.COLOR_BGR2RGB)\n",
    "    if image.shape == (224, 224, 3): return image\n",
    "    return cv2.resize(src=image, dsize=(size, size), interpolation=cv2.INTER_AREA)\n",
    "\n",
    "    \n",
    "def show_loss_graphs(L: list) -> None:\n",
    "    TL, VL = [], []\n",
    "    for i in range(len(L)):\n",
    "        TL.append(L[i][\"train\"])\n",
    "        VL.append(L[i][\"valid\"])\n",
    "    x_Axis = np.arange(1, len(TL) + 1)\n",
    "    plt.figure()\n",
    "    plt.plot(x_Axis, TL, \"r\", label=\"Train\")\n",
    "    plt.plot(x_Axis, VL, \"b\", label=\"Valid\")\n",
    "    plt.legend()\n",
    "    plt.grid()\n",
    "    plt.title(\"Loss Graph\")\n",
    "    plt.show()\n",
    "\n",
    "    \n",
    "def show_accuracy_graphs(A: list) -> None:\n",
    "    TA, VA = [], []\n",
    "    for i in range(len(A)):\n",
    "        TA.append(A[i][\"train\"])\n",
    "        VA.append(A[i][\"valid\"])\n",
    "    x_Axis = np.arange(1, len(TA) + 1)\n",
    "    plt.figure()\n",
    "    plt.plot(x_Axis, TA, \"r\", label=\"Train\")\n",
    "    plt.plot(x_Axis, VA, \"b\", label=\"Valid\")\n",
    "    plt.legend()\n",
    "    plt.grid()\n",
    "    plt.title(\"Accuracy Graph\")\n",
    "    plt.show()\n",
    "    \n",
    "\n",
    "def show_lr_graph(LR: list) -> None:\n",
    "    x_Axis = [i+1 for i in range(len(LR))]\n",
    "    plt.figure(figsize=(8, 6))\n",
    "    plt.plot(x_Axis, LR, \"rx\")\n",
    "    plt.grid()\n",
    "    plt.show()"
   ]
  },
  {
   "cell_type": "markdown",
   "id": "afc2d98f",
   "metadata": {
    "papermill": {
     "duration": 0.004407,
     "end_time": "2023-05-25T10:33:59.840561",
     "exception": false,
     "start_time": "2023-05-25T10:33:59.836154",
     "status": "completed"
    },
    "tags": []
   },
   "source": [
    "\n",
    "\n",
    "### **Configuration**"
   ]
  },
  {
   "cell_type": "code",
   "execution_count": 4,
   "id": "7ab7388d",
   "metadata": {
    "execution": {
     "iopub.execute_input": "2023-05-25T10:33:59.851445Z",
     "iopub.status.busy": "2023-05-25T10:33:59.850807Z",
     "iopub.status.idle": "2023-05-25T10:33:59.928528Z",
     "shell.execute_reply": "2023-05-25T10:33:59.927584Z"
    },
    "papermill": {
     "duration": 0.085741,
     "end_time": "2023-05-25T10:33:59.930889",
     "exception": false,
     "start_time": "2023-05-25T10:33:59.845148",
     "status": "completed"
    },
    "tags": []
   },
   "outputs": [],
   "source": [
    "class CFG(object):\n",
    "    def __init__(\n",
    "        self, \n",
    "        seed: int = 42,\n",
    "        size: int = 224,\n",
    "        n_splits: int = 5,\n",
    "        batch_size: int = 16,\n",
    "        epochs: int = 25,\n",
    "        early_stopping: int = 5,\n",
    "        lr: float = 1e-4,\n",
    "        wd: float = 0.0,\n",
    "        max_lr: float = 1e-3,\n",
    "        pct_start: float = 0.2,\n",
    "        steps_per_epoch: int = 100,\n",
    "        div_factor: int = 1e3, \n",
    "        final_div_factor: float = 1e3,\n",
    "    ):\n",
    "        self.seed = seed\n",
    "        self.size = size\n",
    "        self.n_splits = n_splits\n",
    "        self.batch_size = batch_size\n",
    "        self.epochs = epochs\n",
    "        self.early_stopping = early_stopping\n",
    "        self.lr = lr\n",
    "        self.wd = wd\n",
    "        self.max_lr = max_lr\n",
    "        self.pct_start = pct_start\n",
    "        self.steps_per_epoch = steps_per_epoch\n",
    "        self.div_factor = div_factor\n",
    "        self.final_div_factor = final_div_factor\n",
    "        self.device = torch.device(\"cuda\" if torch.cuda.is_available() else \"cpu\")\n",
    "        \n",
    "        if self.size == 224:\n",
    "            self.train_transform = transforms.Compose([\n",
    "                transforms.ToTensor(),\n",
    "                transforms.Normalize([0.77652, 0.57678, 0.60430], [0.10299, 0.13398, 0.15231]),\n",
    "                transforms.RandomAffine(degrees=(-45, 45), translate=(0.15, 0.15), scale=(0.5, 1.5)),\n",
    "                transforms.RandomHorizontalFlip(p=0.25),\n",
    "                transforms.RandomVerticalFlip(p=0.25),\n",
    "            ])\n",
    "            self.valid_transform = transforms.Compose([\n",
    "                transforms.ToTensor(),\n",
    "                transforms.Normalize([0.77652, 0.57678, 0.60430], [0.10299, 0.13398, 0.15231]),\n",
    "            ])\n",
    "        \n",
    "        if self.size == 384:\n",
    "            self.train_transform = transforms.Compose([\n",
    "                transforms.ToTensor(),\n",
    "                transforms.Normalize([0.77652, 0.57678, 0.60430], [0.10322, 0.13419, 0.15256]),\n",
    "                transforms.RandomAffine(degrees=(-45, 45), translate=(0.15, 0.15), scale=(0.5, 1.5)),\n",
    "                transforms.RandomHorizontalFlip(p=0.25),\n",
    "                transforms.RandomVerticalFlip(p=0.25),\n",
    "            ])\n",
    "            self.valid_transform = transforms.Compose([\n",
    "                transforms.ToTensor(),\n",
    "                transforms.Normalize([0.77652, 0.57678, 0.60430], [0.10322, 0.13419, 0.15256]),\n",
    "            ])\n",
    "        \n",
    "        if self.size == 512:\n",
    "            self.train_transform = transforms.Compose([\n",
    "                transforms.ToTensor(),\n",
    "                transforms.Normalize([0.77652, 0.57654, 0.60406], [0.10331, 0.13426, 0.15266]),\n",
    "                transforms.RandomAffine(degrees=(-45, 45), translate=(0.15, 0.15), scale=(0.5, 1.5)),\n",
    "                transforms.RandomHorizontalFlip(p=0.25),\n",
    "                transforms.RandomVerticalFlip(p=0.25),\n",
    "            ])\n",
    "            self.valid_transform = transforms.Compose([\n",
    "                transforms.ToTensor(),\n",
    "                transforms.Normalize([0.77652, 0.57654, 0.60406], [0.10331, 0.13426, 0.15266]),\n",
    "            ])\n",
    "                                \n",
    "        self.save_path = \"saves\"\n",
    "        if not os.path.exists(self.save_path): os.makedirs(self.save_path)\n",
    "    \n",
    "cfg = CFG(\n",
    "    seed=SEED, \n",
    ")"
   ]
  },
  {
   "cell_type": "markdown",
   "id": "d1dabd43",
   "metadata": {
    "papermill": {
     "duration": 0.0045,
     "end_time": "2023-05-25T10:33:59.940392",
     "exception": false,
     "start_time": "2023-05-25T10:33:59.935892",
     "status": "completed"
    },
    "tags": []
   },
   "source": [
    "### **Dataset Template**"
   ]
  },
  {
   "cell_type": "code",
   "execution_count": 5,
   "id": "d85ccb97",
   "metadata": {
    "execution": {
     "iopub.execute_input": "2023-05-25T10:33:59.950752Z",
     "iopub.status.busy": "2023-05-25T10:33:59.950460Z",
     "iopub.status.idle": "2023-05-25T10:33:59.958451Z",
     "shell.execute_reply": "2023-05-25T10:33:59.957641Z"
    },
    "papermill": {
     "duration": 0.015472,
     "end_time": "2023-05-25T10:33:59.960463",
     "exception": false,
     "start_time": "2023-05-25T10:33:59.944991",
     "status": "completed"
    },
    "tags": []
   },
   "outputs": [],
   "source": [
    "class DS(Dataset):\n",
    "    def __init__(\n",
    "        self, \n",
    "        filepaths: np.ndarray,\n",
    "        size: int=224,\n",
    "        labels: Union[np.ndarray, None]=None, \n",
    "        transform=None\n",
    "    ):\n",
    "        \n",
    "        self.filepaths = filepaths\n",
    "        self.size = size\n",
    "        self.labels = labels\n",
    "        self.transform = transform\n",
    "    \n",
    "    def __len__(self):\n",
    "        return self.filepaths.shape[0]\n",
    "    \n",
    "    def __getitem__(self, idx):\n",
    "        image = get_image(self.filepaths[idx], self.size)\n",
    "        if self.labels is None:\n",
    "            return self.transform(image)\n",
    "        return self.transform(image), torch.FloatTensor(self.labels[idx])"
   ]
  },
  {
   "cell_type": "markdown",
   "id": "d05d21c1",
   "metadata": {
    "papermill": {
     "duration": 0.00453,
     "end_time": "2023-05-25T10:33:59.969828",
     "exception": false,
     "start_time": "2023-05-25T10:33:59.965298",
     "status": "completed"
    },
    "tags": []
   },
   "source": [
    "### **Model**"
   ]
  },
  {
   "cell_type": "code",
   "execution_count": 6,
   "id": "f1c29a90",
   "metadata": {
    "execution": {
     "iopub.execute_input": "2023-05-25T10:33:59.980365Z",
     "iopub.status.busy": "2023-05-25T10:33:59.980103Z",
     "iopub.status.idle": "2023-05-25T10:33:59.985300Z",
     "shell.execute_reply": "2023-05-25T10:33:59.984457Z"
    },
    "papermill": {
     "duration": 0.012692,
     "end_time": "2023-05-25T10:33:59.987172",
     "exception": false,
     "start_time": "2023-05-25T10:33:59.974480",
     "status": "completed"
    },
    "tags": []
   },
   "outputs": [],
   "source": [
    "class Model(nn.Module):\n",
    "    def __init__(self):\n",
    "        super(Model, self).__init__()\n",
    "            \n",
    "        self.model = timm.create_model(model_name=\"efficientnet_b4\", pretrained=True)\n",
    "        self.model.classifier = nn.Linear(in_features=self.model.classifier.in_features, out_features=1)\n",
    "\n",
    "    def forward(self, x):\n",
    "        return self.model(x)"
   ]
  },
  {
   "cell_type": "markdown",
   "id": "c392853f",
   "metadata": {
    "papermill": {
     "duration": 0.004582,
     "end_time": "2023-05-25T10:33:59.996586",
     "exception": false,
     "start_time": "2023-05-25T10:33:59.992004",
     "status": "completed"
    },
    "tags": []
   },
   "source": [
    "### **Fit and Predict**"
   ]
  },
  {
   "cell_type": "code",
   "execution_count": 7,
   "id": "3b163ad9",
   "metadata": {
    "execution": {
     "iopub.execute_input": "2023-05-25T10:34:00.007772Z",
     "iopub.status.busy": "2023-05-25T10:34:00.007486Z",
     "iopub.status.idle": "2023-05-25T10:34:00.030485Z",
     "shell.execute_reply": "2023-05-25T10:34:00.029662Z"
    },
    "papermill": {
     "duration": 0.030981,
     "end_time": "2023-05-25T10:34:00.032544",
     "exception": false,
     "start_time": "2023-05-25T10:34:00.001563",
     "status": "completed"
    },
    "tags": []
   },
   "outputs": [],
   "source": [
    "def fit(\n",
    "    model=None,\n",
    "    optimizer=None, \n",
    "    scheduler_rlrop=None,\n",
    "    scheduler_oclr=None,\n",
    "    epochs=None, \n",
    "    early_stopping_patience=None, \n",
    "    dataloaders=None, \n",
    "    fold=None, \n",
    "    save_path=None,\n",
    "    device=None,\n",
    "    verbose=False\n",
    ") -> tuple:\n",
    "    \n",
    "    def get_accuracy(y_pred, y_true):\n",
    "        y_pred = torch.sigmoid(y_pred)\n",
    "        \n",
    "        y_pred[y_pred > 0.5] = 1\n",
    "        y_pred[y_pred <= 0.5] = 0\n",
    "        \n",
    "        return torch.count_nonzero(y_pred == y_true).item() / len(y_pred)\n",
    "    \n",
    "    \n",
    "    if verbose:\n",
    "        breaker()\n",
    "        if fold: print(f\"Training Fold {fold}...\")\n",
    "        else: print(\"Training ...\")\n",
    "        breaker()\n",
    "        \n",
    "    bestLoss: dict = {\"train\" : np.inf, \"valid\" : np.inf} \n",
    "    bestAccs: dict = {\"train\" : 0.0, \"valid\" : 0.0}\n",
    "    \n",
    "    Losses: list = []\n",
    "    Accuracies: list = [] \n",
    "    LRs: list = []\n",
    "        \n",
    "    if fold: \n",
    "        ble_name = f\"ble_state_fold_{fold}.pt\"\n",
    "        bae_name = f\"bae_state_fold_{fold}.pt\"\n",
    "    else: \n",
    "        ble_name = f\"ble_state.pt\"\n",
    "        bae_name = f\"bae_state.pt\"\n",
    "        \n",
    "    start_time = time()\n",
    "    for e in range(epochs):\n",
    "        e_st = time()\n",
    "        epochLoss: dict = {\"train\" : 0.0, \"valid\" : 0.0} \n",
    "        epochAccs: dict = {\"train\" : 0.0, \"valid\" : 0.0}\n",
    "\n",
    "        for phase in [\"train\", \"valid\"]:\n",
    "            if phase == \"train\":\n",
    "                model.train()\n",
    "            else:\n",
    "                model.eval()\n",
    "            \n",
    "            lossPerPass: list = []\n",
    "            accsPerPass: list = []\n",
    "                \n",
    "            for X, y in dataloaders[phase]:\n",
    "                X, y = X.to(device), y.to(device)\n",
    "\n",
    "                optimizer.zero_grad()\n",
    "                with torch.set_grad_enabled(phase == \"train\"):\n",
    "                    output = model(X)\n",
    "                    loss = torch.nn.BCEWithLogitsLoss()(output, y)\n",
    "                    if phase == \"train\":\n",
    "                        loss.backward()\n",
    "                        optimizer.step()\n",
    "                        if scheduler_oclr: scheduler_oclr.step()\n",
    "                lossPerPass.append(loss.item())\n",
    "                accsPerPass.append(get_accuracy(output, y))\n",
    "            epochLoss[phase] = np.mean(np.array(lossPerPass))\n",
    "            epochAccs[phase] = np.mean(np.array(accsPerPass))\n",
    "        if scheduler_oclr: LRs.append(scheduler_oclr.get_last_lr())\n",
    "        Losses.append(epochLoss)\n",
    "        Accuracies.append(epochAccs)\n",
    "        \n",
    "        if scheduler_oclr:\n",
    "            save_dict = {\"model_state_dict\"     : model.state_dict(),\n",
    "                         \"optim_state_dict\"     : optimizer.state_dict(),\n",
    "                         \"scheduler_state_dict\" : scheduler_oclr.state_dict()}\n",
    "        \n",
    "        elif scheduler_rlrop:\n",
    "            save_dict = {\"model_state_dict\"     : model.state_dict(),\n",
    "                         \"optim_state_dict\"     : optimizer.state_dict(),\n",
    "                         \"scheduler_state_dict\" : scheduler_rlrop.state_dict()}\n",
    "        \n",
    "        else:\n",
    "            save_dict = {\"model_state_dict\"     : model.state_dict(),\n",
    "                         \"optim_state_dict\"     : optimizer.state_dict()}\n",
    "        \n",
    "        if early_stopping_patience:\n",
    "            if epochLoss[\"valid\"] < bestLoss[\"valid\"]:\n",
    "                bestLoss = epochLoss\n",
    "                BLE = e + 1\n",
    "                torch.save(save_dict, os.path.join(save_path, ble_name))\n",
    "                torch.save(save_dict, os.path.join(save_path, bae_name))\n",
    "                early_stopping_step = 0\n",
    "            else:\n",
    "                early_stopping_step += 1\n",
    "                if early_stopping_step > early_stopping_patience:\n",
    "                    print(\"\\nEarly Stopping at Epoch {}\".format(e + 1))\n",
    "                    break\n",
    "        \n",
    "        if epochLoss[\"valid\"] < bestLoss[\"valid\"]:\n",
    "            bestLoss = epochLoss\n",
    "            BLE = e + 1\n",
    "            torch.save(save_dict,os.path.join(save_path, ble_name))\n",
    "        \n",
    "        if epochAccs[\"valid\"] > bestAccs[\"valid\"]:\n",
    "            bestAccs = epochAccs\n",
    "            BAE = e + 1\n",
    "            torch.save(save_dict,os.path.join(save_path, bae_name))\n",
    "        \n",
    "        if scheduler_rlrop: scheduler_rlrop.step(epochLoss[\"valid\"])\n",
    "        \n",
    "        if verbose:\n",
    "            print(\"Epoch: {} | Train Loss: {:.5f} | Valid Loss: {:.5f} |\\\n",
    " Train Accs: {:.5f} | Valid Accs: {:.5f} | Time: {:.2f} seconds\".format(e+1, \n",
    "                                                                        epochLoss[\"train\"], epochLoss[\"valid\"], \n",
    "                                                                        epochAccs[\"train\"], epochAccs[\"valid\"], \n",
    "                                                                        time()-e_st))\n",
    "    \n",
    "\n",
    "    if verbose:                                           \n",
    "        breaker()\n",
    "        print(f\"Best Validation Loss at Epoch {BLE}\")\n",
    "        breaker()\n",
    "        print(f\"Best Validation Accs at Epoch {BAE}\")\n",
    "        breaker()\n",
    "        print(\"Time Taken [{} Epochs] : {:.2f} minutes\".format(len(Losses), (time()-start_time)/60))\n",
    "    \n",
    "    return Losses, Accuracies, LRs, bestLoss, bestAccs, BLE, BAE, ble_name, bae_name\n",
    "\n",
    "\n",
    "# def predict_batch(model=None, dataloader=None, path=None, device=None) -> np.ndarray:\n",
    "#     model.load_state_dict(torch.load(path, map_location=device)[\"model_state_dict\"])\n",
    "#     model.to(device)    \n",
    "#     model.eval()\n",
    "    \n",
    "#     y_pred = torch.zeros(1, 1).to(device)\n",
    "    \n",
    "#     for X in dataloader:\n",
    "#         X = X.to(device)\n",
    "#         with torch.no_grad():\n",
    "#             output = torch.sigmoid(model(X))\n",
    "#         y_pred = torch.cat((y_pred, output.view(-1, 1)), dim=0)\n",
    "    \n",
    "#     # y_pred[y_pred > 0.5] = 1\n",
    "#     # y_pred[y_pred <= 0.5] = 0\n",
    "    \n",
    "#     return y_pred[1:].detach().cpu().numpy()"
   ]
  },
  {
   "cell_type": "markdown",
   "id": "32c60a04",
   "metadata": {
    "papermill": {
     "duration": 0.004654,
     "end_time": "2023-05-25T10:34:00.042092",
     "exception": false,
     "start_time": "2023-05-25T10:34:00.037438",
     "status": "completed"
    },
    "tags": []
   },
   "source": [
    "### **Train**"
   ]
  },
  {
   "cell_type": "code",
   "execution_count": 8,
   "id": "dc88c03c",
   "metadata": {
    "execution": {
     "iopub.execute_input": "2023-05-25T10:34:00.053428Z",
     "iopub.status.busy": "2023-05-25T10:34:00.052625Z",
     "iopub.status.idle": "2023-05-25T10:34:00.105461Z",
     "shell.execute_reply": "2023-05-25T10:34:00.104602Z"
    },
    "papermill": {
     "duration": 0.060655,
     "end_time": "2023-05-25T10:34:00.107644",
     "exception": false,
     "start_time": "2023-05-25T10:34:00.046989",
     "status": "completed"
    },
    "tags": []
   },
   "outputs": [],
   "source": [
    "df = pd.read_csv(\"/kaggle/input/mnm-dataframe/train.csv\")\n",
    "\n",
    "filepaths = df.filepaths.copy().values\n",
    "labels = df.labels.copy().values"
   ]
  },
  {
   "cell_type": "code",
   "execution_count": 9,
   "id": "dbf5f40b",
   "metadata": {
    "execution": {
     "iopub.execute_input": "2023-05-25T10:34:00.119331Z",
     "iopub.status.busy": "2023-05-25T10:34:00.119059Z",
     "iopub.status.idle": "2023-05-25T11:22:24.816549Z",
     "shell.execute_reply": "2023-05-25T11:22:24.815479Z"
    },
    "papermill": {
     "duration": 2904.705736,
     "end_time": "2023-05-25T11:22:24.818675",
     "exception": false,
     "start_time": "2023-05-25T10:34:00.112939",
     "status": "completed"
    },
    "tags": []
   },
   "outputs": [
    {
     "data": {
      "application/vnd.jupyter.widget-view+json": {
       "model_id": "acefec976c8042c9bf7fc029ad4f4a24",
       "version_major": 2,
       "version_minor": 0
      },
      "text/plain": [
       "Downloading model.safetensors:   0%|          | 0.00/77.9M [00:00<?, ?B/s]"
      ]
     },
     "metadata": {},
     "output_type": "display_data"
    },
    {
     "name": "stdout",
     "output_type": "stream",
     "text": [
      "\n",
      "**************************************************\n",
      "\n",
      "Training Fold 2...\n",
      "\n",
      "**************************************************\n",
      "\n",
      "Epoch: 1 | Train Loss: 0.45755 | Valid Loss: 0.13519 | Train Accs: 0.77601 | Valid Accs: 0.94757 | Time: 402.45 seconds\n",
      "Epoch: 2 | Train Loss: 0.15420 | Valid Loss: 0.12523 | Train Accs: 0.93881 | Valid Accs: 0.95174 | Time: 275.42 seconds\n",
      "Epoch: 3 | Train Loss: 0.12646 | Valid Loss: 0.11579 | Train Accs: 0.94963 | Valid Accs: 0.95764 | Time: 279.32 seconds\n",
      "Epoch: 4 | Train Loss: 0.10946 | Valid Loss: 0.11589 | Train Accs: 0.95345 | Valid Accs: 0.96042 | Time: 288.07 seconds\n",
      "Epoch: 5 | Train Loss: 0.09842 | Valid Loss: 0.11185 | Train Accs: 0.95956 | Valid Accs: 0.95660 | Time: 273.63 seconds\n",
      "Epoch: 6 | Train Loss: 0.09526 | Valid Loss: 0.10872 | Train Accs: 0.96537 | Valid Accs: 0.95766 | Time: 275.09 seconds\n",
      "Epoch: 7 | Train Loss: 0.08326 | Valid Loss: 0.12075 | Train Accs: 0.96901 | Valid Accs: 0.95594 | Time: 275.96 seconds\n",
      "Epoch: 8 | Train Loss: 0.06250 | Valid Loss: 0.11034 | Train Accs: 0.97506 | Valid Accs: 0.96076 | Time: 276.04 seconds\n",
      "Epoch: 9 | Train Loss: 0.04595 | Valid Loss: 0.11476 | Train Accs: 0.98219 | Valid Accs: 0.96146 | Time: 277.87 seconds\n",
      "Epoch: 10 | Train Loss: 0.04304 | Valid Loss: 0.11385 | Train Accs: 0.98269 | Valid Accs: 0.96215 | Time: 273.21 seconds\n",
      "\n",
      "**************************************************\n",
      "\n",
      "Best Validation Loss at Epoch 6\n",
      "\n",
      "**************************************************\n",
      "\n",
      "Best Validation Accs at Epoch 10\n",
      "\n",
      "**************************************************\n",
      "\n",
      "Time Taken [10 Epochs] : 48.28 minutes\n",
      "\n",
      "**************************************************\n",
      "\n"
     ]
    },
    {
     "data": {
      "image/png": "[encoded data removed]",
      "text/plain": [
       "<Figure size 640x480 with 1 Axes>"
      ]
     },
     "metadata": {},
     "output_type": "display_data"
    },
    {
     "name": "stdout",
     "output_type": "stream",
     "text": [
      "\n",
      "**************************************************\n",
      "\n"
     ]
    },
    {
     "data": {
      "image/png": "[encoded data removed]",
      "text/plain": [
       "<Figure size 640x480 with 1 Axes>"
      ]
     },
     "metadata": {},
     "output_type": "display_data"
    },
    {
     "name": "stdout",
     "output_type": "stream",
     "text": [
      "\n",
      "**************************************************\n",
      "\n"
     ]
    },
    {
     "data": {
      "image/png": "[encoded data removed]",
      "text/plain": [
       "<Figure size 800x600 with 1 Axes>"
      ]
     },
     "metadata": {},
     "output_type": "display_data"
    },
    {
     "name": "stdout",
     "output_type": "stream",
     "text": [
      "\n",
      "**************************************************\n",
      "\n"
     ]
    }
   ],
   "source": [
    "fold: int = 1\n",
    "BLs: list = []\n",
    "BAs: list = []\n",
    "    \n",
    "cfg.batch_size = 64\n",
    "cfg.epochs = 10\n",
    "    \n",
    "for tr_idx, va_idx in KFold(n_splits=cfg.n_splits, random_state=cfg.seed, shuffle=True).split(filepaths):\n",
    "    if fold == 2: break\n",
    "    fold += 1\n",
    "\n",
    "tr_filepaths, va_filepaths = filepaths[tr_idx], filepaths[va_idx] \n",
    "tr_labels, va_labels       = labels[tr_idx], labels[va_idx]\n",
    "\n",
    "tr_data_setup = DS(\n",
    "    filepaths=tr_filepaths, \n",
    "    size=cfg.size,\n",
    "    labels=tr_labels.reshape(-1, 1),\n",
    "    transform=cfg.train_transform\n",
    ")\n",
    "\n",
    "va_data_setup = DS(\n",
    "    filepaths=va_filepaths,\n",
    "    size=cfg.size,\n",
    "    labels=va_labels.reshape(-1, 1),\n",
    "    transform=cfg.valid_transform\n",
    ")\n",
    "\n",
    "dataloaders = {\n",
    "    \"train\" : DL(tr_data_setup, batch_size=cfg.batch_size, shuffle=True, generator=torch.manual_seed(cfg.seed)),\n",
    "    \"valid\" : DL(va_data_setup, batch_size=cfg.batch_size, shuffle=False),\n",
    "}\n",
    "\n",
    "cfg.steps_per_epoch=len(dataloaders[\"train\"])\n",
    "\n",
    "torch.manual_seed(cfg.seed)\n",
    "model = Model().to(cfg.device)\n",
    "\n",
    "optimizer = optim.Adam([p for p in model.parameters() if p.requires_grad], lr=cfg.lr, weight_decay=cfg.wd)\n",
    "# optimizer = optim.AdamW([p for p in model.parameters() if p.requires_grad], lr=cfg.lr, weight_decay=cfg.wd)\n",
    "# optimizer = optim.SGD([p for p in model.parameters() if p.requires_grad], lr=cfg.lr, weight_decay=cfg.wd, momentum=0.9)\n",
    "\n",
    "scheduler_oclr = optim.lr_scheduler.OneCycleLR(\n",
    "    optimizer=optimizer, \n",
    "    max_lr=cfg.max_lr, \n",
    "    epochs=cfg.epochs, \n",
    "    steps_per_epoch=cfg.steps_per_epoch,\n",
    "    pct_start=cfg.pct_start, \n",
    "    div_factor=cfg.div_factor, \n",
    "    final_div_factor=cfg.final_div_factor\n",
    ")\n",
    "\n",
    "# scheduler_rlrop = optim.lr_scheduler.ReduceLROnPlateau(\n",
    "#     optimizer=optimizer,\n",
    "#     patience=cfg.patience,\n",
    "#     eps=cfg.eps,\n",
    "#     verbose=True\n",
    "# )\n",
    "\n",
    "# scheduler_oclr = None\n",
    "scheduler_rlrop = None\n",
    "\n",
    "\n",
    "L, A, LR, BL, BA, _, _, _, _ = fit(\n",
    "    model=model, \n",
    "    optimizer=optimizer, \n",
    "    scheduler_oclr=scheduler_oclr,\n",
    "    scheduler_rlrop=scheduler_rlrop,\n",
    "    epochs=cfg.epochs, \n",
    "    early_stopping_patience=cfg.early_stopping, \n",
    "    dataloaders=dataloaders, \n",
    "    device=cfg.device,\n",
    "    save_path=cfg.save_path,\n",
    "    fold=fold,\n",
    "    verbose=True\n",
    ")\n",
    "\n",
    "\n",
    "breaker()\n",
    "show_loss_graphs(L)\n",
    "breaker()\n",
    "show_accuracy_graphs(A)\n",
    "breaker()\n",
    "if scheduler_oclr:\n",
    "    show_lr_graph(LR)\n",
    "    breaker()\n",
    "\n",
    "#     BLs.append(BL)\n",
    "#     BAs.append(BA)\n",
    "\n",
    "#     fold += 1"
   ]
  },
  {
   "cell_type": "markdown",
   "id": "db00f33c",
   "metadata": {
    "papermill": {
     "duration": 0.007053,
     "end_time": "2023-05-25T11:22:24.833117",
     "exception": false,
     "start_time": "2023-05-25T11:22:24.826064",
     "status": "completed"
    },
    "tags": []
   },
   "source": [
    "### **Best Model**"
   ]
  },
  {
   "cell_type": "code",
   "execution_count": 10,
   "id": "6dbaab18",
   "metadata": {
    "execution": {
     "iopub.execute_input": "2023-05-25T11:22:24.848844Z",
     "iopub.status.busy": "2023-05-25T11:22:24.848533Z",
     "iopub.status.idle": "2023-05-25T11:22:24.852769Z",
     "shell.execute_reply": "2023-05-25T11:22:24.851791Z"
    },
    "papermill": {
     "duration": 0.014726,
     "end_time": "2023-05-25T11:22:24.855224",
     "exception": false,
     "start_time": "2023-05-25T11:22:24.840498",
     "status": "completed"
    },
    "tags": []
   },
   "outputs": [],
   "source": [
    "# BL = np.inf\n",
    "# for i in range(len(BLs)):\n",
    "#     if BLs[i][\"valid\"] < BL:\n",
    "#         BL = BLs[i][\"valid\"]\n",
    "#         best_loss_index = i\n",
    "\n",
    "        \n",
    "# BA = 0.0\n",
    "# for i in range(len(BAs)):\n",
    "#     if BAs[i][\"valid\"] > BA:\n",
    "#         BA = BAs[i][\"valid\"]\n",
    "#         best_accs_index = i\n",
    "\n",
    "# breaker()\n",
    "# print(f\"Best Loss Model Fold     : {best_loss_index + 1}\")\n",
    "# print(f\"Best Accuracy Model Fold : {best_accs_index + 1}\")\n",
    "# breaker()"
   ]
  }
 ],
 "metadata": {
  "kernelspec": {
   "display_name": "Python 3",
   "language": "python",
   "name": "python3"
  },
  "language_info": {
   "codemirror_mode": {
    "name": "ipython",
    "version": 3
   },
   "file_extension": ".py",
   "mimetype": "text/x-python",
   "name": "python",
   "nbconvert_exporter": "python",
   "pygments_lexer": "ipython3",
   "version": "3.10.10"
  },
  "papermill": {
   "default_parameters": {},
   "duration": 2933.90168,
   "end_time": "2023-05-25T11:22:27.647197",
   "environment_variables": {},
   "exception": null,
   "input_path": "__notebook__.ipynb",
   "output_path": "__notebook__.ipynb",
   "parameters": {},
   "start_time": "2023-05-25T10:33:33.745517",
   "version": "2.4.0"
  },
  "widgets": {
   "application/vnd.jupyter.widget-state+json": {
    "state": {
     "1275162ba3224f968cba5d0d6eaee565": {
      "model_module": "@jupyter-widgets/controls",
      "model_module_version": "1.5.0",
      "model_name": "ProgressStyleModel",
      "state": {
       "_model_module": "@jupyter-widgets/controls",
       "_model_module_version": "1.5.0",
       "_model_name": "ProgressStyleModel",
       "_view_count": null,
       "_view_module": "@jupyter-widgets/base",
       "_view_module_version": "1.2.0",
       "_view_name": "StyleView",
       "bar_color": null,
       "description_width": ""
      }
     },
     "7885b255bb0a4c10bfbd7eedc3ebf618": {
      "model_module": "@jupyter-widgets/controls",
      "model_module_version": "1.5.0",
      "model_name": "HTMLModel",
      "state": {
       "_dom_classes": [],
       "_model_module": "@jupyter-widgets/controls",
       "_model_module_version": "1.5.0",
       "_model_name": "HTMLModel",
       "_view_count": null,
       "_view_module": "@jupyter-widgets/controls",
       "_view_module_version": "1.5.0",
       "_view_name": "HTMLView",
       "description": "",
       "description_tooltip": null,
       "layout": "IPY_MODEL_cd1b45fda7504d43bbf23a951c3d1b57",
       "placeholder": "​",
       "style": "IPY_MODEL_8005588a41b844d28270651902668a78",
       "value": "Downloading model.safetensors: 100%"
      }
     },
     "8005588a41b844d28270651902668a78": {
      "model_module": "@jupyter-widgets/controls",
      "model_module_version": "1.5.0",
      "model_name": "DescriptionStyleModel",
      "state": {
       "_model_module": "@jupyter-widgets/controls",
       "_model_module_version": "1.5.0",
       "_model_name": "DescriptionStyleModel",
       "_view_count": null,
       "_view_module": "@jupyter-widgets/base",
       "_view_module_version": "1.2.0",
       "_view_name": "StyleView",
       "description_width": ""
      }
     },
     "88bdee780c8d4c398c9f8c6200c5ad4d": {
      "model_module": "@jupyter-widgets/base",
      "model_module_version": "1.2.0",
      "model_name": "LayoutModel",
      "state": {
       "_model_module": "@jupyter-widgets/base",
       "_model_module_version": "1.2.0",
       "_model_name": "LayoutModel",
       "_view_count": null,
       "_view_module": "@jupyter-widgets/base",
       "_view_module_version": "1.2.0",
       "_view_name": "LayoutView",
       "align_content": null,
       "align_items": null,
       "align_self": null,
       "border": null,
       "bottom": null,
       "display": null,
       "flex": null,
       "flex_flow": null,
       "grid_area": null,
       "grid_auto_columns": null,
       "grid_auto_flow": null,
       "grid_auto_rows": null,
       "grid_column": null,
       "grid_gap": null,
       "grid_row": null,
       "grid_template_areas": null,
       "grid_template_columns": null,
       "grid_template_rows": null,
       "height": null,
       "justify_content": null,
       "justify_items": null,
       "left": null,
       "margin": null,
       "max_height": null,
       "max_width": null,
       "min_height": null,
       "min_width": null,
       "object_fit": null,
       "object_position": null,
       "order": null,
       "overflow": null,
       "overflow_x": null,
       "overflow_y": null,
       "padding": null,
       "right": null,
       "top": null,
       "visibility": null,
       "width": null
      }
     },
     "a2d394ef795545a48b4c9f3d1d142dff": {
      "model_module": "@jupyter-widgets/controls",
      "model_module_version": "1.5.0",
      "model_name": "DescriptionStyleModel",
      "state": {
       "_model_module": "@jupyter-widgets/controls",
       "_model_module_version": "1.5.0",
       "_model_name": "DescriptionStyleModel",
       "_view_count": null,
       "_view_module": "@jupyter-widgets/base",
       "_view_module_version": "1.2.0",
       "_view_name": "StyleView",
       "description_width": ""
      }
     },
     "acefec976c8042c9bf7fc029ad4f4a24": {
      "model_module": "@jupyter-widgets/controls",
      "model_module_version": "1.5.0",
      "model_name": "HBoxModel",
      "state": {
       "_dom_classes": [],
       "_model_module": "@jupyter-widgets/controls",
       "_model_module_version": "1.5.0",
       "_model_name": "HBoxModel",
       "_view_count": null,
       "_view_module": "@jupyter-widgets/controls",
       "_view_module_version": "1.5.0",
       "_view_name": "HBoxView",
       "box_style": "",
       "children": [
        "IPY_MODEL_7885b255bb0a4c10bfbd7eedc3ebf618",
        "IPY_MODEL_b0cce29c1eaf4094aa37f47224cc7fdf",
        "IPY_MODEL_daa6c8705c2f4d9996efae8ad1a1cde3"
       ],
       "layout": "IPY_MODEL_c4151936ecad4c24b85a56d66775e99a"
      }
     },
     "b0cce29c1eaf4094aa37f47224cc7fdf": {
      "model_module": "@jupyter-widgets/controls",
      "model_module_version": "1.5.0",
      "model_name": "FloatProgressModel",
      "state": {
       "_dom_classes": [],
       "_model_module": "@jupyter-widgets/controls",
       "_model_module_version": "1.5.0",
       "_model_name": "FloatProgressModel",
       "_view_count": null,
       "_view_module": "@jupyter-widgets/controls",
       "_view_module_version": "1.5.0",
       "_view_name": "ProgressView",
       "bar_style": "success",
       "description": "",
       "description_tooltip": null,
       "layout": "IPY_MODEL_88bdee780c8d4c398c9f8c6200c5ad4d",
       "max": 77933206.0,
       "min": 0.0,
       "orientation": "horizontal",
       "style": "IPY_MODEL_1275162ba3224f968cba5d0d6eaee565",
       "value": 77933206.0
      }
     },
     "c4151936ecad4c24b85a56d66775e99a": {
      "model_module": "@jupyter-widgets/base",
      "model_module_version": "1.2.0",
      "model_name": "LayoutModel",
      "state": {
       "_model_module": "@jupyter-widgets/base",
       "_model_module_version": "1.2.0",
       "_model_name": "LayoutModel",
       "_view_count": null,
       "_view_module": "@jupyter-widgets/base",
       "_view_module_version": "1.2.0",
       "_view_name": "LayoutView",
       "align_content": null,
       "align_items": null,
       "align_self": null,
       "border": null,
       "bottom": null,
       "display": null,
       "flex": null,
       "flex_flow": null,
       "grid_area": null,
       "grid_auto_columns": null,
       "grid_auto_flow": null,
       "grid_auto_rows": null,
       "grid_column": null,
       "grid_gap": null,
       "grid_row": null,
       "grid_template_areas": null,
       "grid_template_columns": null,
       "grid_template_rows": null,
       "height": null,
       "justify_content": null,
       "justify_items": null,
       "left": null,
       "margin": null,
       "max_height": null,
       "max_width": null,
       "min_height": null,
       "min_width": null,
       "object_fit": null,
       "object_position": null,
       "order": null,
       "overflow": null,
       "overflow_x": null,
       "overflow_y": null,
       "padding": null,
       "right": null,
       "top": null,
       "visibility": null,
       "width": null
      }
     },
     "cd1b45fda7504d43bbf23a951c3d1b57": {
      "model_module": "@jupyter-widgets/base",
      "model_module_version": "1.2.0",
      "model_name": "LayoutModel",
      "state": {
       "_model_module": "@jupyter-widgets/base",
       "_model_module_version": "1.2.0",
       "_model_name": "LayoutModel",
       "_view_count": null,
       "_view_module": "@jupyter-widgets/base",
       "_view_module_version": "1.2.0",
       "_view_name": "LayoutView",
       "align_content": null,
       "align_items": null,
       "align_self": null,
       "border": null,
       "bottom": null,
       "display": null,
       "flex": null,
       "flex_flow": null,
       "grid_area": null,
       "grid_auto_columns": null,
       "grid_auto_flow": null,
       "grid_auto_rows": null,
       "grid_column": null,
       "grid_gap": null,
       "grid_row": null,
       "grid_template_areas": null,
       "grid_template_columns": null,
       "grid_template_rows": null,
       "height": null,
       "justify_content": null,
       "justify_items": null,
       "left": null,
       "margin": null,
       "max_height": null,
       "max_width": null,
       "min_height": null,
       "min_width": null,
       "object_fit": null,
       "object_position": null,
       "order": null,
       "overflow": null,
       "overflow_x": null,
       "overflow_y": null,
       "padding": null,
       "right": null,
       "top": null,
       "visibility": null,
       "width": null
      }
     },
     "daa6c8705c2f4d9996efae8ad1a1cde3": {
      "model_module": "@jupyter-widgets/controls",
      "model_module_version": "1.5.0",
      "model_name": "HTMLModel",
      "state": {
       "_dom_classes": [],
       "_model_module": "@jupyter-widgets/controls",
       "_model_module_version": "1.5.0",
       "_model_name": "HTMLModel",
       "_view_count": null,
       "_view_module": "@jupyter-widgets/controls",
       "_view_module_version": "1.5.0",
       "_view_name": "HTMLView",
       "description": "",
       "description_tooltip": null,
       "layout": "IPY_MODEL_fd78de334fe34c01947fde4b7d95afff",
       "placeholder": "​",
       "style": "IPY_MODEL_a2d394ef795545a48b4c9f3d1d142dff",
       "value": " 77.9M/77.9M [00:02&lt;00:00, 31.1MB/s]"
      }
     },
     "fd78de334fe34c01947fde4b7d95afff": {
      "model_module": "@jupyter-widgets/base",
      "model_module_version": "1.2.0",
      "model_name": "LayoutModel",
      "state": {
       "_model_module": "@jupyter-widgets/base",
       "_model_module_version": "1.2.0",
       "_model_name": "LayoutModel",
       "_view_count": null,
       "_view_module": "@jupyter-widgets/base",
       "_view_module_version": "1.2.0",
       "_view_name": "LayoutView",
       "align_content": null,
       "align_items": null,
       "align_self": null,
       "border": null,
       "bottom": null,
       "display": null,
       "flex": null,
       "flex_flow": null,
       "grid_area": null,
       "grid_auto_columns": null,
       "grid_auto_flow": null,
       "grid_auto_rows": null,
       "grid_column": null,
       "grid_gap": null,
       "grid_row": null,
       "grid_template_areas": null,
       "grid_template_columns": null,
       "grid_template_rows": null,
       "height": null,
       "justify_content": null,
       "justify_items": null,
       "left": null,
       "margin": null,
       "max_height": null,
       "max_width": null,
       "min_height": null,
       "min_width": null,
       "object_fit": null,
       "object_position": null,
       "order": null,
       "overflow": null,
       "overflow_x": null,
       "overflow_y": null,
       "padding": null,
       "right": null,
       "top": null,
       "visibility": null,
       "width": null
      }
     }
    },
    "version_major": 2,
    "version_minor": 0
   }
  }
 },
 "nbformat": 4,
 "nbformat_minor": 5
}
