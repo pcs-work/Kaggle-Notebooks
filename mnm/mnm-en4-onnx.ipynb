{
 "cells": [
  {
   "cell_type": "code",
   "execution_count": 1,
   "id": "8bae1330",
   "metadata": {
    "_cell_guid": "b1076dfc-b9ad-4769-8c92-a6c4dae69d19",
    "_uuid": "8f2839f25d086af736a60e9eeb907d3b93b6e0e5",
    "execution": {
     "iopub.execute_input": "2023-05-31T08:31:06.171183Z",
     "iopub.status.busy": "2023-05-31T08:31:06.170749Z",
     "iopub.status.idle": "2023-05-31T08:31:20.903808Z",
     "shell.execute_reply": "2023-05-31T08:31:20.902856Z"
    },
    "papermill": {
     "duration": 14.7418,
     "end_time": "2023-05-31T08:31:20.906690",
     "exception": false,
     "start_time": "2023-05-31T08:31:06.164890",
     "status": "completed"
    },
    "tags": []
   },
   "outputs": [
    {
     "name": "stderr",
     "output_type": "stream",
     "text": [
      "WARNING: Running pip as the 'root' user can result in broken permissions and conflicting behaviour with the system package manager. It is recommended to use a virtual environment instead: https://pip.pypa.io/warnings/venv\n"
     ]
    }
   ],
   "source": [
    "%%bash\n",
    "pip install timm onnx onnxruntime -q"
   ]
  },
  {
   "cell_type": "code",
   "execution_count": 2,
   "id": "5b058fa4",
   "metadata": {
    "execution": {
     "iopub.execute_input": "2023-05-31T08:31:20.916400Z",
     "iopub.status.busy": "2023-05-31T08:31:20.915693Z",
     "iopub.status.idle": "2023-05-31T08:31:27.147477Z",
     "shell.execute_reply": "2023-05-31T08:31:27.146053Z"
    },
    "papermill": {
     "duration": 6.23998,
     "end_time": "2023-05-31T08:31:27.150696",
     "exception": false,
     "start_time": "2023-05-31T08:31:20.910716",
     "status": "completed"
    },
    "tags": []
   },
   "outputs": [],
   "source": [
    "import os\n",
    "import cv2\n",
    "import json\n",
    "import onnx\n",
    "import timm\n",
    "import torch\n",
    "import random as r\n",
    "import numpy as np\n",
    "import pandas as pd\n",
    "import onnxruntime as ort\n",
    "import matplotlib.pyplot as plt\n",
    "\n",
    "from typing import Union\n",
    "from torchvision import models\n",
    "from IPython.display import clear_output\n",
    "\n",
    "import warnings\n",
    "warnings.filterwarnings(\"ignore\")\n",
    "\n",
    "if not os.path.exists(\"onnx\"): os.makedirs(\"onnx\")\n",
    "    \n",
    "ort.set_default_logger_severity(3)"
   ]
  },
  {
   "cell_type": "code",
   "execution_count": 3,
   "id": "d02b65a7",
   "metadata": {
    "execution": {
     "iopub.execute_input": "2023-05-31T08:31:27.160688Z",
     "iopub.status.busy": "2023-05-31T08:31:27.160273Z",
     "iopub.status.idle": "2023-05-31T08:31:27.169444Z",
     "shell.execute_reply": "2023-05-31T08:31:27.168138Z"
    },
    "papermill": {
     "duration": 0.017547,
     "end_time": "2023-05-31T08:31:27.172158",
     "exception": false,
     "start_time": "2023-05-31T08:31:27.154611",
     "status": "completed"
    },
    "tags": []
   },
   "outputs": [],
   "source": [
    "labels: dict = {\n",
    "    \"0\" : \"Melanoma\",\n",
    "    \"1\" : \"Not Melanoma\",\n",
    "}\n",
    "\n",
    "def breaker() -> None:\n",
    "    print(\"\\n\" + 50*\"*\" + \"\\n\")\n",
    "\n",
    "    \n",
    "def sigmoid(x):\n",
    "    return 1 / (1 + np.exp(-x))\n",
    "\n",
    "\n",
    "def get_image(path: str, size: int=224) -> np.ndarray:\n",
    "    image = cv2.imread(path, cv2.IMREAD_COLOR)\n",
    "    image = cv2.cvtColor(src=image, code=cv2.COLOR_BGR2RGB)\n",
    "    if image.shape == (224, 224, 3): return image\n",
    "    return cv2.resize(src=image, dsize=(size, size), interpolation=cv2.INTER_AREA)"
   ]
  },
  {
   "cell_type": "code",
   "execution_count": 4,
   "id": "822a9f5b",
   "metadata": {
    "execution": {
     "iopub.execute_input": "2023-05-31T08:31:27.181596Z",
     "iopub.status.busy": "2023-05-31T08:31:27.181164Z",
     "iopub.status.idle": "2023-05-31T08:31:27.190728Z",
     "shell.execute_reply": "2023-05-31T08:31:27.189248Z"
    },
    "papermill": {
     "duration": 0.017093,
     "end_time": "2023-05-31T08:31:27.193043",
     "exception": false,
     "start_time": "2023-05-31T08:31:27.175950",
     "status": "completed"
    },
    "tags": []
   },
   "outputs": [],
   "source": [
    "class Model(torch.nn.Module):\n",
    "    def __init__(self):\n",
    "        super(Model, self).__init__()\n",
    "        \n",
    "        self.model = timm.create_model(model_name=\"efficientnet_b4\", pretrained=False)\n",
    "        self.model.classifier = torch.nn.Linear(in_features=self.model.classifier.in_features, out_features=1)\n",
    "\n",
    "    def forward(self, x):\n",
    "        return self.model(x)\n",
    "\n",
    "    \n",
    "    \n",
    "class CFG(object):  \n",
    "    def __init__(\n",
    "        self, \n",
    "        in_channels: int=3, \n",
    "        size: int=256, \n",
    "        opset_version: int=9, \n",
    "        path: str=None\n",
    "    ):\n",
    "        self.in_channels = in_channels\n",
    "        self.size = size\n",
    "        self.dummy = torch.randn(1, self.in_channels, self.size, self.size)\n",
    "        self.opset_version = opset_version\n",
    "        self.path = path"
   ]
  },
  {
   "cell_type": "code",
   "execution_count": 5,
   "id": "72e33e40",
   "metadata": {
    "execution": {
     "iopub.execute_input": "2023-05-31T08:31:27.201598Z",
     "iopub.status.busy": "2023-05-31T08:31:27.201252Z",
     "iopub.status.idle": "2023-05-31T08:31:44.164030Z",
     "shell.execute_reply": "2023-05-31T08:31:44.162870Z"
    },
    "papermill": {
     "duration": 16.970273,
     "end_time": "2023-05-31T08:31:44.166842",
     "exception": false,
     "start_time": "2023-05-31T08:31:27.196569",
     "status": "completed"
    },
    "tags": []
   },
   "outputs": [
    {
     "name": "stdout",
     "output_type": "stream",
     "text": [
      "============== Diagnostic Run torch.onnx.export version 2.0.0+cpu ==============\n",
      "verbose: False, log level: Level.ERROR\n",
      "======================= 0 NONE 0 NOTE 0 WARNING 0 ERROR ========================\n",
      "\n"
     ]
    }
   ],
   "source": [
    "for v in [\"a\", \"l\"]:\n",
    "    cfg = CFG(\n",
    "        in_channels=3, \n",
    "        size=224, \n",
    "        opset_version=15, \n",
    "        path=f\"/kaggle/input/mnm-en4-a224-e10-f5/saves/b{v}e_state_fold_5.pt\"\n",
    "    )\n",
    "\n",
    "    model = Model()\n",
    "    model.load_state_dict(torch.load(cfg.path, map_location=torch.device(\"cpu\"))[\"model_state_dict\"])\n",
    "    model.eval()\n",
    "\n",
    "    clear_output()\n",
    "\n",
    "    # param_size: float = 0\n",
    "    # for param in model.parameters():\n",
    "    #     param_size += param.nelement() * param.element_size()\n",
    "\n",
    "    # buffer_size: float = 0\n",
    "    # for buffer in model.buffers():\n",
    "    #     buffer_size += buffer.nelement() * buffer.element_size()\n",
    "\n",
    "    # size_all_mb: float = (param_size + buffer_size) / 1024**2\n",
    "\n",
    "    # breaker()\n",
    "    # print(f\"Model size: {size_all_mb:.3f} MB\")\n",
    "    # breaker()\n",
    "\n",
    "    torch.onnx.export(\n",
    "        model=model, \n",
    "        args=cfg.dummy, \n",
    "        f=f\"onnx/b{v}e_model_f2.onnx\", \n",
    "        input_names=[\"input\"], \n",
    "        output_names=[\"output\"], \n",
    "        opset_version=cfg.opset_version,\n",
    "        export_params=True,\n",
    "        training=torch.onnx.TrainingMode.EVAL,\n",
    "        operator_export_type=torch.onnx.OperatorExportTypes.ONNX,\n",
    "        dynamic_axes={\n",
    "          \"input\"  : {0 : \"batch_size\"},\n",
    "          \"output\" : {0 : \"batch_size\"},\n",
    "        }\n",
    "    )"
   ]
  },
  {
   "cell_type": "code",
   "execution_count": 6,
   "id": "0622bfdb",
   "metadata": {
    "execution": {
     "iopub.execute_input": "2023-05-31T08:31:44.176547Z",
     "iopub.status.busy": "2023-05-31T08:31:44.175818Z",
     "iopub.status.idle": "2023-05-31T08:31:44.186815Z",
     "shell.execute_reply": "2023-05-31T08:31:44.185983Z"
    },
    "papermill": {
     "duration": 0.018483,
     "end_time": "2023-05-31T08:31:44.189103",
     "exception": false,
     "start_time": "2023-05-31T08:31:44.170620",
     "status": "completed"
    },
    "tags": []
   },
   "outputs": [],
   "source": [
    "class OnnxModel(object):\n",
    "    def __init__(self, path: str) -> None:\n",
    "        self.size: int = 224\n",
    "        \n",
    "        self.mean: list = [0.77652, 0.57678, 0.60430]\n",
    "        self.std: list  = [0.10299, 0.13398, 0.15231]\n",
    "        \n",
    "        self.path: str = path\n",
    "    \n",
    "        model = onnx.load(self.path)\n",
    "        onnx.checker.check_model(model)\n",
    "        self.ort_session = ort.InferenceSession(self.path)\n",
    "    \n",
    "    def infer(self, image: np.ndarray, labels: dict) -> str:\n",
    "        h, w, _ = image.shape\n",
    "\n",
    "        image = image / 255\n",
    "        image = cv2.resize(src=image, dsize=(self.size, self.size), interpolation=cv2.INTER_AREA).transpose(2, 0, 1)\n",
    "        for i in range(image.shape[0]): image[i, :, :] = (image[i, :, :] - self.mean[i]) / self.std[i]\n",
    "        image = np.expand_dims(image, axis=0)\n",
    "        inputs = {self.ort_session.get_inputs()[0].name : image.astype(\"float32\")}\n",
    "        prob = sigmoid(self.ort_session.run(None, inputs)[0][0])\n",
    "        if prob <= 0.5:\n",
    "            return \"Melanoma\", 1-prob\n",
    "        else:\n",
    "            return \"Not Melanoma\", prob"
   ]
  },
  {
   "cell_type": "code",
   "execution_count": 7,
   "id": "565d5e80",
   "metadata": {
    "execution": {
     "iopub.execute_input": "2023-05-31T08:31:44.198453Z",
     "iopub.status.busy": "2023-05-31T08:31:44.198028Z",
     "iopub.status.idle": "2023-05-31T08:31:46.941438Z",
     "shell.execute_reply": "2023-05-31T08:31:46.939854Z"
    },
    "papermill": {
     "duration": 2.751136,
     "end_time": "2023-05-31T08:31:46.943948",
     "exception": false,
     "start_time": "2023-05-31T08:31:44.192812",
     "status": "completed"
    },
    "tags": []
   },
   "outputs": [
    {
     "name": "stdout",
     "output_type": "stream",
     "text": [
      "\n",
      "**************************************************\n",
      "\n",
      "BAE_MODEL_F2.ONNX\n",
      "\n",
      "Not Melanoma, Not Melanoma\n",
      "Melanoma, Melanoma\n",
      "Not Melanoma, Not Melanoma\n",
      "Melanoma, Melanoma\n",
      "Melanoma, Melanoma\n",
      "Melanoma, Melanoma\n",
      "Not Melanoma, Not Melanoma\n",
      "Not Melanoma, Not Melanoma\n",
      "Not Melanoma, Not Melanoma\n",
      "\n",
      "**************************************************\n",
      "\n",
      "BLE_MODEL_F2.ONNX\n",
      "\n",
      "Not Melanoma, Not Melanoma\n",
      "Melanoma, Melanoma\n",
      "Not Melanoma, Not Melanoma\n",
      "Not Melanoma, Not Melanoma\n",
      "Not Melanoma, Not Melanoma\n",
      "Melanoma, Melanoma\n",
      "Melanoma, Melanoma\n",
      "Not Melanoma, Not Melanoma\n",
      "Melanoma, Melanoma\n",
      "\n",
      "**************************************************\n",
      "\n"
     ]
    }
   ],
   "source": [
    "df = pd.read_csv(\"/kaggle/input/mnm-dataframe/test.csv\")\n",
    "\n",
    "\n",
    "breaker()\n",
    "for model_name in sorted(os.listdir(\"onnx\")):\n",
    "    \n",
    "    onnx_model = OnnxModel(f\"onnx/{model_name}\")\n",
    "    print(f\"{model_name.upper()}\\n\")\n",
    "    \n",
    "    for i in range(9):\n",
    "        index = r.randint(0, len(df)-1)\n",
    "\n",
    "        filepath = df.iloc[index, 0]\n",
    "        y_true   = df.iloc[index, 1]\n",
    "\n",
    "        image = get_image(filepath, cfg.size)\n",
    "\n",
    "        y_pred, _ = onnx_model.infer(image, labels)\n",
    "        \n",
    "        print(f\"{labels[str(y_true)].title()}, {y_pred}\")\n",
    "\n",
    "    breaker()"
   ]
  }
 ],
 "metadata": {
  "kernelspec": {
   "display_name": "Python 3",
   "language": "python",
   "name": "python3"
  },
  "language_info": {
   "codemirror_mode": {
    "name": "ipython",
    "version": 3
   },
   "file_extension": ".py",
   "mimetype": "text/x-python",
   "name": "python",
   "nbconvert_exporter": "python",
   "pygments_lexer": "ipython3",
   "version": "3.10.10"
  },
  "papermill": {
   "default_parameters": {},
   "duration": 54.715894,
   "end_time": "2023-05-31T08:31:48.676707",
   "environment_variables": {},
   "exception": null,
   "input_path": "__notebook__.ipynb",
   "output_path": "__notebook__.ipynb",
   "parameters": {},
   "start_time": "2023-05-31T08:30:53.960813",
   "version": "2.4.0"
  }
 },
 "nbformat": 4,
 "nbformat_minor": 5
}
