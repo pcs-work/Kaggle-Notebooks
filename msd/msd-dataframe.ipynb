{
 "cells": [
  {
   "cell_type": "code",
   "execution_count": 1,
   "id": "99368773",
   "metadata": {
    "_cell_guid": "b1076dfc-b9ad-4769-8c92-a6c4dae69d19",
    "_uuid": "8f2839f25d086af736a60e9eeb907d3b93b6e0e5",
    "execution": {
     "iopub.execute_input": "2023-02-27T05:45:43.948135Z",
     "iopub.status.busy": "2023-02-27T05:45:43.947747Z",
     "iopub.status.idle": "2023-02-27T05:45:44.136713Z",
     "shell.execute_reply": "2023-02-27T05:45:44.135052Z"
    },
    "papermill": {
     "duration": 0.195971,
     "end_time": "2023-02-27T05:45:44.139253",
     "exception": false,
     "start_time": "2023-02-27T05:45:43.943282",
     "status": "completed"
    },
    "tags": []
   },
   "outputs": [],
   "source": [
    "import os\n",
    "import cv2\n",
    "import json\n",
    "import numpy as np\n",
    "import pandas as pd\n",
    "\n",
    "BASE_PATH: str = \"/kaggle/input/mathematics-symbols-data/final_symbols_split_ttv\""
   ]
  },
  {
   "cell_type": "code",
   "execution_count": 2,
   "id": "57e27620",
   "metadata": {
    "execution": {
     "iopub.execute_input": "2023-02-27T05:45:44.145142Z",
     "iopub.status.busy": "2023-02-27T05:45:44.144478Z",
     "iopub.status.idle": "2023-02-27T05:45:44.159586Z",
     "shell.execute_reply": "2023-02-27T05:45:44.158357Z"
    },
    "papermill": {
     "duration": 0.020604,
     "end_time": "2023-02-27T05:45:44.162090",
     "exception": false,
     "start_time": "2023-02-27T05:45:44.141486",
     "status": "completed"
    },
    "tags": []
   },
   "outputs": [],
   "source": [
    "tr_df: pd.DataFrame = pd.DataFrame(data=None, columns=[\"filepaths\", \"labels\"])\n",
    "ts_df: pd.DataFrame = pd.DataFrame(data=None, columns=[\"filepaths\", \"labels\"])\n",
    "fu_df: pd.DataFrame = pd.DataFrame(data=None, columns=[\"filepaths\", \"labels\"]) "
   ]
  },
  {
   "cell_type": "code",
   "execution_count": 3,
   "id": "6027743b",
   "metadata": {
    "execution": {
     "iopub.execute_input": "2023-02-27T05:45:44.167817Z",
     "iopub.status.busy": "2023-02-27T05:45:44.167399Z",
     "iopub.status.idle": "2023-02-27T05:45:59.146294Z",
     "shell.execute_reply": "2023-02-27T05:45:59.145063Z"
    },
    "papermill": {
     "duration": 14.984639,
     "end_time": "2023-02-27T05:45:59.148800",
     "exception": false,
     "start_time": "2023-02-27T05:45:44.164161",
     "status": "completed"
    },
    "tags": []
   },
   "outputs": [],
   "source": [
    "tr_filepaths: list = []\n",
    "tr_labels: list = []\n",
    "\n",
    "va_filepaths: list = []\n",
    "va_labels: list = []\n",
    "    \n",
    "i: int = 0\n",
    "for folder in sorted(os.listdir(f\"{BASE_PATH}/train\")):\n",
    "    for filename in os.listdir(f\"{BASE_PATH}/train/{folder}\"):\n",
    "        tr_filepaths.append(os.path.join(f\"{BASE_PATH}/train/{folder}\", filename))\n",
    "        tr_labels.append(i)\n",
    "    i += 1\n",
    "    \n",
    "i: int = 0\n",
    "for folder in sorted(os.listdir(f\"{BASE_PATH}/val\")):\n",
    "    for filename in os.listdir(f\"{BASE_PATH}/val/{folder}\"):\n",
    "        va_filepaths.append(os.path.join(f\"{BASE_PATH}/val/{folder}\", filename))\n",
    "        va_labels.append(i)\n",
    "    i += 1\n",
    "\n",
    "tr_df.filepaths = tr_filepaths + va_filepaths\n",
    "tr_df.labels = tr_labels + va_labels\n",
    "tr_df.to_csv(\"train.csv\", index=False)"
   ]
  },
  {
   "cell_type": "code",
   "execution_count": 4,
   "id": "85bff07d",
   "metadata": {
    "execution": {
     "iopub.execute_input": "2023-02-27T05:45:59.154878Z",
     "iopub.status.busy": "2023-02-27T05:45:59.154527Z",
     "iopub.status.idle": "2023-02-27T05:46:01.663970Z",
     "shell.execute_reply": "2023-02-27T05:46:01.662425Z"
    },
    "papermill": {
     "duration": 2.515578,
     "end_time": "2023-02-27T05:46:01.666555",
     "exception": false,
     "start_time": "2023-02-27T05:45:59.150977",
     "status": "completed"
    },
    "tags": []
   },
   "outputs": [],
   "source": [
    "filepaths: list = []\n",
    "labels: list = []\n",
    "\n",
    "i: int = 0    \n",
    "for folder in sorted(os.listdir(f\"{BASE_PATH}/test\")):\n",
    "    for filename in os.listdir(f\"{BASE_PATH}/test/{folder}\"):\n",
    "        filepaths.append(os.path.join(f\"{BASE_PATH}/test/{folder}\", filename))\n",
    "        labels.append(i)\n",
    "    i += 1\n",
    "\n",
    "ts_df.filepaths = filepaths\n",
    "ts_df.labels = labels\n",
    "ts_df.to_csv(\"test.csv\", index=False)"
   ]
  },
  {
   "cell_type": "code",
   "execution_count": 5,
   "id": "f548c12b",
   "metadata": {
    "execution": {
     "iopub.execute_input": "2023-02-27T05:46:01.672838Z",
     "iopub.status.busy": "2023-02-27T05:46:01.672448Z",
     "iopub.status.idle": "2023-02-27T05:46:01.802959Z",
     "shell.execute_reply": "2023-02-27T05:46:01.801152Z"
    },
    "papermill": {
     "duration": 0.136752,
     "end_time": "2023-02-27T05:46:01.805610",
     "exception": false,
     "start_time": "2023-02-27T05:46:01.668858",
     "status": "completed"
    },
    "tags": []
   },
   "outputs": [],
   "source": [
    "fu_df.filepaths = tr_filepaths + va_filepaths + filepaths\n",
    "fu_df.labels = tr_labels + va_labels + labels\n",
    "fu_df.to_csv(\"full.csv\", index=False)"
   ]
  },
  {
   "cell_type": "code",
   "execution_count": 6,
   "id": "fef78824",
   "metadata": {
    "execution": {
     "iopub.execute_input": "2023-02-27T05:46:01.811241Z",
     "iopub.status.busy": "2023-02-27T05:46:01.810917Z",
     "iopub.status.idle": "2023-02-27T05:46:01.818855Z",
     "shell.execute_reply": "2023-02-27T05:46:01.816043Z"
    },
    "papermill": {
     "duration": 0.013388,
     "end_time": "2023-02-27T05:46:01.821229",
     "exception": false,
     "start_time": "2023-02-27T05:46:01.807841",
     "status": "completed"
    },
    "tags": []
   },
   "outputs": [],
   "source": [
    "labels: dict = dict()\n",
    "\n",
    "i = 0\n",
    "for folder in sorted(os.listdir(f\"{BASE_PATH}/train\")):\n",
    "    labels[i] = folder\n",
    "    i += 1\n",
    "\n",
    "json.dump(labels, open(\"labels.json\", \"w\"))"
   ]
  }
 ],
 "metadata": {
  "kernelspec": {
   "display_name": "Python 3",
   "language": "python",
   "name": "python3"
  },
  "language_info": {
   "codemirror_mode": {
    "name": "ipython",
    "version": 3
   },
   "file_extension": ".py",
   "mimetype": "text/x-python",
   "name": "python",
   "nbconvert_exporter": "python",
   "pygments_lexer": "ipython3",
   "version": "3.7.12"
  },
  "papermill": {
   "default_parameters": {},
   "duration": 26.593209,
   "end_time": "2023-02-27T05:46:02.044248",
   "environment_variables": {},
   "exception": null,
   "input_path": "__notebook__.ipynb",
   "output_path": "__notebook__.ipynb",
   "parameters": {},
   "start_time": "2023-02-27T05:45:35.451039",
   "version": "2.4.0"
  }
 },
 "nbformat": 4,
 "nbformat_minor": 5
}
