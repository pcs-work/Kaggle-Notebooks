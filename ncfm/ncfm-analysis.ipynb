{
 "cells": [
  {
   "cell_type": "code",
   "execution_count": 1,
   "id": "a45b81e4",
   "metadata": {
    "_cell_guid": "b1076dfc-b9ad-4769-8c92-a6c4dae69d19",
    "_uuid": "8f2839f25d086af736a60e9eeb907d3b93b6e0e5",
    "execution": {
     "iopub.execute_input": "2023-03-02T07:54:39.468191Z",
     "iopub.status.busy": "2023-03-02T07:54:39.467303Z",
     "iopub.status.idle": "2023-03-02T07:54:39.479907Z",
     "shell.execute_reply": "2023-03-02T07:54:39.478841Z"
    },
    "papermill": {
     "duration": 0.020534,
     "end_time": "2023-03-02T07:54:39.482371",
     "exception": false,
     "start_time": "2023-03-02T07:54:39.461837",
     "status": "completed"
    },
    "tags": []
   },
   "outputs": [],
   "source": [
    "import os\n",
    "\n",
    "BASE_PATH: str = \"/kaggle/input/ncfm-unzipped\""
   ]
  },
  {
   "cell_type": "code",
   "execution_count": 2,
   "id": "1b0a2fd3",
   "metadata": {
    "execution": {
     "iopub.execute_input": "2023-03-02T07:54:39.489136Z",
     "iopub.status.busy": "2023-03-02T07:54:39.488376Z",
     "iopub.status.idle": "2023-03-02T07:54:39.498642Z",
     "shell.execute_reply": "2023-03-02T07:54:39.497496Z"
    },
    "papermill": {
     "duration": 0.016242,
     "end_time": "2023-03-02T07:54:39.501224",
     "exception": false,
     "start_time": "2023-03-02T07:54:39.484982",
     "status": "completed"
    },
    "tags": []
   },
   "outputs": [],
   "source": [
    "relevant_files_and_folders = sorted([name for name in os.listdir(BASE_PATH) if \"stg\" in name or \"train\" in name])"
   ]
  },
  {
   "cell_type": "code",
   "execution_count": 3,
   "id": "36270cd2",
   "metadata": {
    "execution": {
     "iopub.execute_input": "2023-03-02T07:54:39.507562Z",
     "iopub.status.busy": "2023-03-02T07:54:39.506826Z",
     "iopub.status.idle": "2023-03-02T07:54:40.241928Z",
     "shell.execute_reply": "2023-03-02T07:54:40.240258Z"
    },
    "papermill": {
     "duration": 0.74113,
     "end_time": "2023-03-02T07:54:40.244622",
     "exception": false,
     "start_time": "2023-03-02T07:54:39.503492",
     "status": "completed"
    },
    "tags": []
   },
   "outputs": [
    {
     "name": "stdout",
     "output_type": "stream",
     "text": [
      "No. of stage 1 Test Images : 1000\n",
      "No. of stage 2 Test Images : 12153\n",
      "No. of Train Images        : 3777\n"
     ]
    }
   ],
   "source": [
    "print(\"No. of stage 1 Test Images : \" + str(len(os.listdir(f\"{BASE_PATH}/{relevant_files_and_folders[2]}\"))))\n",
    "print(\"No. of stage 2 Test Images : \" + str(len(os.listdir(f\"{BASE_PATH}/{relevant_files_and_folders[3]}\"))))\n",
    "\n",
    "count: int = 0\n",
    "\n",
    "for folder in os.listdir(f\"{BASE_PATH}/{relevant_files_and_folders[4]}\"):\n",
    "    if folder != \".DS_Store\":\n",
    "        for filename in os.listdir(f\"{BASE_PATH}/{relevant_files_and_folders[4]}/{folder}\"):\n",
    "            count += 1\n",
    "        \n",
    "        \n",
    "print(f\"No. of Train Images        : {count}\")"
   ]
  },
  {
   "cell_type": "code",
   "execution_count": 4,
   "id": "096554c2",
   "metadata": {
    "execution": {
     "iopub.execute_input": "2023-03-02T07:54:40.251512Z",
     "iopub.status.busy": "2023-03-02T07:54:40.250798Z",
     "iopub.status.idle": "2023-03-02T07:54:40.262550Z",
     "shell.execute_reply": "2023-03-02T07:54:40.261241Z"
    },
    "papermill": {
     "duration": 0.018066,
     "end_time": "2023-03-02T07:54:40.265126",
     "exception": false,
     "start_time": "2023-03-02T07:54:40.247060",
     "status": "completed"
    },
    "tags": []
   },
   "outputs": [
    {
     "name": "stdout",
     "output_type": "stream",
     "text": [
      " SHARK - 176\n",
      " OTHER - 299\n",
      "   BET - 200\n",
      "   LAG - 67\n",
      "   NoF - 465\n",
      "   YFT - 734\n",
      "   DOL - 117\n",
      "   ALB - 1719\n"
     ]
    }
   ],
   "source": [
    "for folder in os.listdir(f\"{BASE_PATH}/{relevant_files_and_folders[4]}\"):\n",
    "    if folder != \".DS_Store\":\n",
    "        count: int  = 0\n",
    "        for filename in os.listdir(f\"{BASE_PATH}/{relevant_files_and_folders[4]}/{folder}\"):\n",
    "            count += 1\n",
    "        print(f\"{folder:>6} - {count}\")"
   ]
  }
 ],
 "metadata": {
  "kernelspec": {
   "display_name": "Python 3",
   "language": "python",
   "name": "python3"
  },
  "language_info": {
   "codemirror_mode": {
    "name": "ipython",
    "version": 3
   },
   "file_extension": ".py",
   "mimetype": "text/x-python",
   "name": "python",
   "nbconvert_exporter": "python",
   "pygments_lexer": "ipython3",
   "version": "3.7.12"
  },
  "papermill": {
   "default_parameters": {},
   "duration": 12.072102,
   "end_time": "2023-03-02T07:54:40.990309",
   "environment_variables": {},
   "exception": null,
   "input_path": "__notebook__.ipynb",
   "output_path": "__notebook__.ipynb",
   "parameters": {},
   "start_time": "2023-03-02T07:54:28.918207",
   "version": "2.4.0"
  }
 },
 "nbformat": 4,
 "nbformat_minor": 5
}
