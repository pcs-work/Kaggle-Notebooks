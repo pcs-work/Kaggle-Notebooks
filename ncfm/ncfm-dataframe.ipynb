{
 "cells": [
  {
   "cell_type": "code",
   "execution_count": 1,
   "id": "84e07391",
   "metadata": {
    "_cell_guid": "b1076dfc-b9ad-4769-8c92-a6c4dae69d19",
    "_uuid": "8f2839f25d086af736a60e9eeb907d3b93b6e0e5",
    "execution": {
     "iopub.execute_input": "2023-03-02T11:46:19.970573Z",
     "iopub.status.busy": "2023-03-02T11:46:19.969902Z",
     "iopub.status.idle": "2023-03-02T11:46:20.190059Z",
     "shell.execute_reply": "2023-03-02T11:46:20.188682Z"
    },
    "papermill": {
     "duration": 0.230199,
     "end_time": "2023-03-02T11:46:20.193593",
     "exception": false,
     "start_time": "2023-03-02T11:46:19.963394",
     "status": "completed"
    },
    "tags": []
   },
   "outputs": [],
   "source": [
    "import os\n",
    "import cv2\n",
    "import json\n",
    "import numpy as np\n",
    "import pandas as pd\n",
    "\n",
    "BASE_PATH: str = \"/kaggle/input/ncfm-unzipped\""
   ]
  },
  {
   "cell_type": "code",
   "execution_count": 2,
   "id": "b0fafc74",
   "metadata": {
    "execution": {
     "iopub.execute_input": "2023-03-02T11:46:20.201034Z",
     "iopub.status.busy": "2023-03-02T11:46:20.200556Z",
     "iopub.status.idle": "2023-03-02T11:46:20.215799Z",
     "shell.execute_reply": "2023-03-02T11:46:20.214157Z"
    },
    "papermill": {
     "duration": 0.022621,
     "end_time": "2023-03-02T11:46:20.218916",
     "exception": false,
     "start_time": "2023-03-02T11:46:20.196295",
     "status": "completed"
    },
    "tags": []
   },
   "outputs": [],
   "source": [
    "tr_df: pd.DataFrame = pd.DataFrame(data=None, columns=[\"filepaths\", \"ALB\", \"BET\", \"DOL\", \"LAG\", \"NoF\", \"OTHER\", \"SHARK\", \"YFT\"]) "
   ]
  },
  {
   "cell_type": "code",
   "execution_count": 3,
   "id": "d5f4b3f5",
   "metadata": {
    "execution": {
     "iopub.execute_input": "2023-03-02T11:46:20.226285Z",
     "iopub.status.busy": "2023-03-02T11:46:20.225782Z",
     "iopub.status.idle": "2023-03-02T11:46:21.106108Z",
     "shell.execute_reply": "2023-03-02T11:46:21.104458Z"
    },
    "papermill": {
     "duration": 0.88826,
     "end_time": "2023-03-02T11:46:21.109711",
     "exception": false,
     "start_time": "2023-03-02T11:46:20.221451",
     "status": "completed"
    },
    "tags": []
   },
   "outputs": [],
   "source": [
    "relevant_files_and_folders = sorted([name for name in os.listdir(BASE_PATH) if \"stg\" in name or \"train\" in name])\n",
    "\n",
    "count: int = 0\n",
    "for folder in os.listdir(f\"{BASE_PATH}/{relevant_files_and_folders[4]}\"):\n",
    "    if folder != \".DS_Store\":\n",
    "        for filename in os.listdir(f\"{BASE_PATH}/{relevant_files_and_folders[4]}/{folder}\"):\n",
    "            count += 1"
   ]
  },
  {
   "cell_type": "code",
   "execution_count": 4,
   "id": "38ef0419",
   "metadata": {
    "execution": {
     "iopub.execute_input": "2023-03-02T11:46:21.116485Z",
     "iopub.status.busy": "2023-03-02T11:46:21.116018Z",
     "iopub.status.idle": "2023-03-02T11:46:21.185624Z",
     "shell.execute_reply": "2023-03-02T11:46:21.184141Z"
    },
    "papermill": {
     "duration": 0.076545,
     "end_time": "2023-03-02T11:46:21.188741",
     "exception": false,
     "start_time": "2023-03-02T11:46:21.112196",
     "status": "completed"
    },
    "tags": []
   },
   "outputs": [],
   "source": [
    "filepaths: list = []\n",
    "labels: np.ndarray = np.zeros((count, 8))\n",
    "\n",
    "i: int = 0\n",
    "j: int = 0\n",
    "    \n",
    "for folder in os.listdir(f\"{BASE_PATH}/{relevant_files_and_folders[4]}\"):\n",
    "    if folder != \".DS_Store\":\n",
    "        for filename in os.listdir(f\"{BASE_PATH}/{relevant_files_and_folders[4]}/{folder}\"):\n",
    "            filepaths.append(os.path.join(f\"{BASE_PATH}/{relevant_files_and_folders[4]}/{folder}\", filename))\n",
    "            labels[i, j] = 1\n",
    "            i += 1\n",
    "        j += 1\n",
    "\n",
    "tr_df.filepaths = filepaths\n",
    "tr_df.iloc[:, 1:] = labels\n",
    "tr_df.to_csv(\"train.csv\", index=False)"
   ]
  }
 ],
 "metadata": {
  "kernelspec": {
   "display_name": "Python 3",
   "language": "python",
   "name": "python3"
  },
  "language_info": {
   "codemirror_mode": {
    "name": "ipython",
    "version": 3
   },
   "file_extension": ".py",
   "mimetype": "text/x-python",
   "name": "python",
   "nbconvert_exporter": "python",
   "pygments_lexer": "ipython3",
   "version": "3.7.12"
  },
  "papermill": {
   "default_parameters": {},
   "duration": 14.914919,
   "end_time": "2023-03-02T11:46:22.018146",
   "environment_variables": {},
   "exception": null,
   "input_path": "__notebook__.ipynb",
   "output_path": "__notebook__.ipynb",
   "parameters": {},
   "start_time": "2023-03-02T11:46:07.103227",
   "version": "2.4.0"
  }
 },
 "nbformat": 4,
 "nbformat_minor": 5
}
