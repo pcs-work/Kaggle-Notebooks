{
 "cells": [
  {
   "cell_type": "code",
   "execution_count": 1,
   "id": "495ad2dd",
   "metadata": {
    "_cell_guid": "b1076dfc-b9ad-4769-8c92-a6c4dae69d19",
    "_uuid": "8f2839f25d086af736a60e9eeb907d3b93b6e0e5",
    "execution": {
     "iopub.execute_input": "2023-02-27T10:42:01.823245Z",
     "iopub.status.busy": "2023-02-27T10:42:01.822541Z",
     "iopub.status.idle": "2023-02-27T10:42:02.041914Z",
     "shell.execute_reply": "2023-02-27T10:42:02.040187Z"
    },
    "papermill": {
     "duration": 0.227767,
     "end_time": "2023-02-27T10:42:02.045414",
     "exception": false,
     "start_time": "2023-02-27T10:42:01.817647",
     "status": "completed"
    },
    "tags": []
   },
   "outputs": [],
   "source": [
    "import os\n",
    "import cv2\n",
    "import json\n",
    "import numpy as np\n",
    "import pandas as pd\n",
    "\n",
    "BASE_PATH: str = \"/kaggle/input/nitrogen-deficiency-for-rice-crop/NitrogenDeficiencyImage\""
   ]
  },
  {
   "cell_type": "code",
   "execution_count": 2,
   "id": "b6cf2385",
   "metadata": {
    "execution": {
     "iopub.execute_input": "2023-02-27T10:42:02.052071Z",
     "iopub.status.busy": "2023-02-27T10:42:02.051609Z",
     "iopub.status.idle": "2023-02-27T10:42:02.066707Z",
     "shell.execute_reply": "2023-02-27T10:42:02.065742Z"
    },
    "papermill": {
     "duration": 0.021234,
     "end_time": "2023-02-27T10:42:02.069297",
     "exception": false,
     "start_time": "2023-02-27T10:42:02.048063",
     "status": "completed"
    },
    "tags": []
   },
   "outputs": [],
   "source": [
    "tr_df: pd.DataFrame = pd.DataFrame(data=None, columns=[\"filepaths\", \"labels\"])\n",
    "ts_df: pd.DataFrame = pd.DataFrame(data=None, columns=[\"filepaths\", \"labels\"])"
   ]
  },
  {
   "cell_type": "code",
   "execution_count": 3,
   "id": "edab0dea",
   "metadata": {
    "execution": {
     "iopub.execute_input": "2023-02-27T10:42:02.075970Z",
     "iopub.status.busy": "2023-02-27T10:42:02.075400Z",
     "iopub.status.idle": "2023-02-27T10:42:02.613235Z",
     "shell.execute_reply": "2023-02-27T10:42:02.611778Z"
    },
    "papermill": {
     "duration": 0.544789,
     "end_time": "2023-02-27T10:42:02.616333",
     "exception": false,
     "start_time": "2023-02-27T10:42:02.071544",
     "status": "completed"
    },
    "tags": []
   },
   "outputs": [],
   "source": [
    "filepaths: list = []\n",
    "labels: list = []\n",
    "    \n",
    "i: int = 0\n",
    "for folder in sorted(os.listdir(f\"{BASE_PATH}/Training\")):\n",
    "    for filename in os.listdir(f\"{BASE_PATH}/Training/{folder}\"):\n",
    "        filepaths.append(os.path.join(f\"{BASE_PATH}/Training/{folder}\", filename))\n",
    "        labels.append(i)\n",
    "    i += 1\n",
    "    \n",
    "tr_df.filepaths = filepaths\n",
    "tr_df.labels = labels\n",
    "tr_df.to_csv(\"train.csv\", index=False)"
   ]
  },
  {
   "cell_type": "code",
   "execution_count": 4,
   "id": "57660cfc",
   "metadata": {
    "execution": {
     "iopub.execute_input": "2023-02-27T10:42:02.623223Z",
     "iopub.status.busy": "2023-02-27T10:42:02.622798Z",
     "iopub.status.idle": "2023-02-27T10:42:02.685114Z",
     "shell.execute_reply": "2023-02-27T10:42:02.683886Z"
    },
    "papermill": {
     "duration": 0.06964,
     "end_time": "2023-02-27T10:42:02.688324",
     "exception": false,
     "start_time": "2023-02-27T10:42:02.618684",
     "status": "completed"
    },
    "tags": []
   },
   "outputs": [],
   "source": [
    "filepaths: list = []\n",
    "labels: list = []\n",
    "    \n",
    "i: int = 0\n",
    "for folder in sorted(os.listdir(f\"{BASE_PATH}/Test\")):\n",
    "    for filename in os.listdir(f\"{BASE_PATH}/Test/{folder}\"):\n",
    "        filepaths.append(os.path.join(f\"{BASE_PATH}/Test/{folder}\", filename))\n",
    "        labels.append(i)\n",
    "    i += 1\n",
    "    \n",
    "ts_df.filepaths = filepaths\n",
    "ts_df.labels = labels\n",
    "ts_df.to_csv(\"test.csv\", index=False)"
   ]
  },
  {
   "cell_type": "code",
   "execution_count": 5,
   "id": "44d5eb7a",
   "metadata": {
    "execution": {
     "iopub.execute_input": "2023-02-27T10:42:02.695655Z",
     "iopub.status.busy": "2023-02-27T10:42:02.694478Z",
     "iopub.status.idle": "2023-02-27T10:42:02.701496Z",
     "shell.execute_reply": "2023-02-27T10:42:02.700500Z"
    },
    "papermill": {
     "duration": 0.013203,
     "end_time": "2023-02-27T10:42:02.703949",
     "exception": false,
     "start_time": "2023-02-27T10:42:02.690746",
     "status": "completed"
    },
    "tags": []
   },
   "outputs": [],
   "source": [
    "labels: dict = dict()\n",
    "\n",
    "i = 0\n",
    "for folder in sorted(os.listdir(f\"{BASE_PATH}/Training\")):\n",
    "    labels[i] = folder\n",
    "    i += 1\n",
    "\n",
    "json.dump(labels, open(\"labels.json\", \"w\"))"
   ]
  }
 ],
 "metadata": {
  "kernelspec": {
   "display_name": "Python 3",
   "language": "python",
   "name": "python3"
  },
  "language_info": {
   "codemirror_mode": {
    "name": "ipython",
    "version": 3
   },
   "file_extension": ".py",
   "mimetype": "text/x-python",
   "name": "python",
   "nbconvert_exporter": "python",
   "pygments_lexer": "ipython3",
   "version": "3.7.12"
  },
  "papermill": {
   "default_parameters": {},
   "duration": 12.872847,
   "end_time": "2023-02-27T10:42:03.429581",
   "environment_variables": {},
   "exception": null,
   "input_path": "__notebook__.ipynb",
   "output_path": "__notebook__.ipynb",
   "parameters": {},
   "start_time": "2023-02-27T10:41:50.556734",
   "version": "2.4.0"
  }
 },
 "nbformat": 4,
 "nbformat_minor": 5
}
