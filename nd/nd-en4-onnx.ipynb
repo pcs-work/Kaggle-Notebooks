{
 "cells": [
  {
   "cell_type": "code",
   "execution_count": 1,
   "id": "07088dcb",
   "metadata": {
    "_cell_guid": "b1076dfc-b9ad-4769-8c92-a6c4dae69d19",
    "_uuid": "8f2839f25d086af736a60e9eeb907d3b93b6e0e5",
    "execution": {
     "iopub.execute_input": "2023-03-05T08:36:07.237684Z",
     "iopub.status.busy": "2023-03-05T08:36:07.236814Z",
     "iopub.status.idle": "2023-03-05T08:36:20.020672Z",
     "shell.execute_reply": "2023-03-05T08:36:20.019233Z"
    },
    "papermill": {
     "duration": 12.79244,
     "end_time": "2023-03-05T08:36:20.024185",
     "exception": false,
     "start_time": "2023-03-05T08:36:07.231745",
     "status": "completed"
    },
    "tags": []
   },
   "outputs": [
    {
     "name": "stderr",
     "output_type": "stream",
     "text": [
      "WARNING: Running pip as the 'root' user can result in broken permissions and conflicting behaviour with the system package manager. It is recommended to use a virtual environment instead: https://pip.pypa.io/warnings/venv\n"
     ]
    }
   ],
   "source": [
    "%%bash\n",
    "pip install timm onnx onnxruntime -q"
   ]
  },
  {
   "cell_type": "code",
   "execution_count": 2,
   "id": "b1eb1fe7",
   "metadata": {
    "execution": {
     "iopub.execute_input": "2023-03-05T08:36:20.032053Z",
     "iopub.status.busy": "2023-03-05T08:36:20.031663Z",
     "iopub.status.idle": "2023-03-05T08:36:23.958475Z",
     "shell.execute_reply": "2023-03-05T08:36:23.957168Z"
    },
    "papermill": {
     "duration": 3.934138,
     "end_time": "2023-03-05T08:36:23.961638",
     "exception": false,
     "start_time": "2023-03-05T08:36:20.027500",
     "status": "completed"
    },
    "tags": []
   },
   "outputs": [],
   "source": [
    "import os\n",
    "import sys\n",
    "import cv2\n",
    "import json\n",
    "import onnx\n",
    "import timm\n",
    "import torch\n",
    "import random as r\n",
    "import numpy as np\n",
    "import pandas as pd\n",
    "import onnxruntime as ort\n",
    "import matplotlib.pyplot as plt\n",
    "\n",
    "from typing import Union\n",
    "from torchvision import models\n",
    "from IPython.display import clear_output\n",
    "\n",
    "import warnings\n",
    "warnings.filterwarnings(\"ignore\")\n",
    "\n",
    "if not os.path.exists(\"onnx\"): os.makedirs(\"onnx\")\n",
    "    \n",
    "ort.set_default_logger_severity(3)"
   ]
  },
  {
   "cell_type": "code",
   "execution_count": 3,
   "id": "4c52c3ee",
   "metadata": {
    "execution": {
     "iopub.execute_input": "2023-03-05T08:36:23.968957Z",
     "iopub.status.busy": "2023-03-05T08:36:23.968570Z",
     "iopub.status.idle": "2023-03-05T08:36:23.981883Z",
     "shell.execute_reply": "2023-03-05T08:36:23.980930Z"
    },
    "papermill": {
     "duration": 0.02028,
     "end_time": "2023-03-05T08:36:23.984585",
     "exception": false,
     "start_time": "2023-03-05T08:36:23.964305",
     "status": "completed"
    },
    "tags": []
   },
   "outputs": [],
   "source": [
    "labels: dict = json.load(open(\"/kaggle/input/nd-dataframe/labels.json\", \"r\"))\n",
    "    \n",
    "    \n",
    "def breaker() -> None:\n",
    "    print(\"\\n\" + 50*\"*\" + \"\\n\")\n",
    "\n",
    "\n",
    "def get_image(path: str) -> np.ndarray:\n",
    "    image = cv2.imread(path, cv2.IMREAD_COLOR)\n",
    "    image = cv2.cvtColor(src=image, code=cv2.COLOR_BGR2RGB)\n",
    "    if image.shape == (100, 100, 3): return image\n",
    "    return cv2.resize(src=image, dsize=(100, 100), interpolation=cv2.INTER_AREA)"
   ]
  },
  {
   "cell_type": "code",
   "execution_count": 4,
   "id": "5ba044b6",
   "metadata": {
    "execution": {
     "iopub.execute_input": "2023-03-05T08:36:23.991754Z",
     "iopub.status.busy": "2023-03-05T08:36:23.991387Z",
     "iopub.status.idle": "2023-03-05T08:36:23.999959Z",
     "shell.execute_reply": "2023-03-05T08:36:23.998745Z"
    },
    "papermill": {
     "duration": 0.014877,
     "end_time": "2023-03-05T08:36:24.002334",
     "exception": false,
     "start_time": "2023-03-05T08:36:23.987457",
     "status": "completed"
    },
    "tags": []
   },
   "outputs": [],
   "source": [
    "class Model(torch.nn.Module):\n",
    "    def __init__(self):\n",
    "        super(Model, self).__init__()\n",
    "        \n",
    "        self.model = timm.create_model(model_name=\"efficientnet_b4\", pretrained=False)\n",
    "        self.model.classifier = torch.nn.Linear(in_features=self.model.classifier.in_features, out_features=4)\n",
    "\n",
    "    def forward(self, x):\n",
    "        return self.model(x)\n",
    "\n",
    "    \n",
    "class CFG(object):  \n",
    "    def __init__(\n",
    "        self, \n",
    "        in_channels: int=3, \n",
    "        size: int=256, \n",
    "        opset_version: int=9, \n",
    "        path: str=None\n",
    "    ):\n",
    "        self.in_channels = in_channels\n",
    "        self.size = size\n",
    "        self.dummy = torch.randn(1, self.in_channels, self.size, self.size)\n",
    "        self.opset_version = opset_version\n",
    "        self.path = path"
   ]
  },
  {
   "cell_type": "code",
   "execution_count": 5,
   "id": "9ccc49b8",
   "metadata": {
    "execution": {
     "iopub.execute_input": "2023-03-05T08:36:24.010035Z",
     "iopub.status.busy": "2023-03-05T08:36:24.009651Z",
     "iopub.status.idle": "2023-03-05T08:36:53.885447Z",
     "shell.execute_reply": "2023-03-05T08:36:53.884172Z"
    },
    "papermill": {
     "duration": 29.883086,
     "end_time": "2023-03-05T08:36:53.888445",
     "exception": false,
     "start_time": "2023-03-05T08:36:24.005359",
     "status": "completed"
    },
    "tags": []
   },
   "outputs": [],
   "source": [
    "for v in [\"a\", \"l\"]:\n",
    "    for fold in [1, 5]:\n",
    "        cfg = CFG(\n",
    "            in_channels=3, \n",
    "            size=100, \n",
    "            opset_version=15, \n",
    "            path=f\"/kaggle/input/nd-en4-a100-e10/saves/b{v}e_state_fold_{fold}.pt\"\n",
    "        )\n",
    "\n",
    "        model = Model()\n",
    "        model.load_state_dict(torch.load(cfg.path, map_location=torch.device(\"cpu\"))[\"model_state_dict\"])\n",
    "        model.eval()\n",
    "\n",
    "        clear_output()\n",
    "\n",
    "        torch.onnx.export(\n",
    "            model=model, \n",
    "            args=cfg.dummy, \n",
    "            f=f\"onnx/b{v}e_model_f{fold}.onnx\", \n",
    "            input_names=[\"input\"], \n",
    "            output_names=[\"output\"], \n",
    "            opset_version=cfg.opset_version,\n",
    "            export_params=True,\n",
    "            training=torch.onnx.TrainingMode.EVAL,\n",
    "            operator_export_type=torch.onnx.OperatorExportTypes.ONNX_ATEN_FALLBACK,\n",
    "            dynamic_axes={\n",
    "              \"input\"  : {0 : \"batch_size\"},\n",
    "              \"output\" : {0 : \"batch_size\"},\n",
    "            }\n",
    "        )"
   ]
  },
  {
   "cell_type": "code",
   "execution_count": 6,
   "id": "5007cdbe",
   "metadata": {
    "execution": {
     "iopub.execute_input": "2023-03-05T08:36:53.896227Z",
     "iopub.status.busy": "2023-03-05T08:36:53.895118Z",
     "iopub.status.idle": "2023-03-05T08:36:53.905569Z",
     "shell.execute_reply": "2023-03-05T08:36:53.904585Z"
    },
    "papermill": {
     "duration": 0.016604,
     "end_time": "2023-03-05T08:36:53.907918",
     "exception": false,
     "start_time": "2023-03-05T08:36:53.891314",
     "status": "completed"
    },
    "tags": []
   },
   "outputs": [],
   "source": [
    "class OnnxModel(object):\n",
    "    def __init__(self, path: str) -> None:\n",
    "        self.size: int = 100\n",
    "        \n",
    "        self.mean: list = [0.82141, 0.83918, 0.80120]\n",
    "        self.std: list  = [0.29616, 0.26956, 0.32836]\n",
    "        \n",
    "        self.path: str = path\n",
    "    \n",
    "        model = onnx.load(self.path)\n",
    "        onnx.checker.check_model(model)\n",
    "        self.ort_session = ort.InferenceSession(self.path)\n",
    "        \n",
    "    def infer(self, image: np.ndarray, labels: dict) -> np.ndarray:\n",
    "        image = image / 255\n",
    "        image = cv2.resize(src=image, dsize=(self.size, self.size), interpolation=cv2.INTER_AREA).transpose(2, 0, 1)\n",
    "        for i in range(image.shape[0]): image[i, :, :] = (image[i, :, :] - self.mean[i]) / self.std[i]\n",
    "        image = np.expand_dims(image, axis=0)\n",
    "        inputs = {self.ort_session.get_inputs()[0].name: image.astype(\"float32\")}\n",
    "        result = self.ort_session.run(None, inputs)\n",
    "        odds = np.exp(np.max(result))\n",
    "        return labels[str(np.argmax(result))].title(), odds / (1 + odds)"
   ]
  },
  {
   "cell_type": "code",
   "execution_count": 7,
   "id": "71305b11",
   "metadata": {
    "execution": {
     "iopub.execute_input": "2023-03-05T08:36:53.915219Z",
     "iopub.status.busy": "2023-03-05T08:36:53.914831Z",
     "iopub.status.idle": "2023-03-05T08:36:57.528809Z",
     "shell.execute_reply": "2023-03-05T08:36:57.527301Z"
    },
    "papermill": {
     "duration": 3.621752,
     "end_time": "2023-03-05T08:36:57.532568",
     "exception": false,
     "start_time": "2023-03-05T08:36:53.910816",
     "status": "completed"
    },
    "tags": []
   },
   "outputs": [
    {
     "name": "stdout",
     "output_type": "stream",
     "text": [
      "\n",
      "**************************************************\n",
      "\n",
      "BAE_MODEL_F1.ONNX\n",
      "\n",
      "Swap2, Swap2\n",
      "Swap4, Swap4\n",
      "Swap4, Swap4\n",
      "Swap2, Swap2\n",
      "Swap2, Swap2\n",
      "Swap1, Swap1\n",
      "Swap3, Swap3\n",
      "Swap3, Swap3\n",
      "Swap2, Swap2\n",
      "\n",
      "**************************************************\n",
      "\n",
      "BAE_MODEL_F5.ONNX\n",
      "\n",
      "Swap2, Swap2\n",
      "Swap1, Swap1\n",
      "Swap4, Swap4\n",
      "Swap4, Swap4\n",
      "Swap2, Swap2\n",
      "Swap2, Swap2\n",
      "Swap3, Swap3\n",
      "Swap4, Swap4\n",
      "Swap3, Swap3\n",
      "\n",
      "**************************************************\n",
      "\n",
      "BLE_MODEL_F1.ONNX\n",
      "\n",
      "Swap3, Swap3\n",
      "Swap4, Swap4\n",
      "Swap2, Swap2\n",
      "Swap2, Swap2\n",
      "Swap4, Swap4\n",
      "Swap3, Swap3\n",
      "Swap2, Swap2\n",
      "Swap1, Swap1\n",
      "Swap2, Swap2\n",
      "\n",
      "**************************************************\n",
      "\n",
      "BLE_MODEL_F5.ONNX\n",
      "\n",
      "Swap2, Swap2\n",
      "Swap3, Swap3\n",
      "Swap2, Swap2\n",
      "Swap3, Swap3\n",
      "Swap4, Swap4\n",
      "Swap2, Swap2\n",
      "Swap1, Swap1\n",
      "Swap4, Swap4\n",
      "Swap3, Swap3\n",
      "\n",
      "**************************************************\n",
      "\n"
     ]
    }
   ],
   "source": [
    "df = pd.read_csv(\"/kaggle/input/nd-dataframe/test.csv\")\n",
    "\n",
    "breaker()\n",
    "for model_name in sorted(os.listdir(\"onnx\")):\n",
    "    \n",
    "    onnx_model = OnnxModel(f\"onnx/{model_name}\")\n",
    "    \n",
    "    print(f\"{model_name.upper()}\\n\")\n",
    "    \n",
    "    for i in range(9):\n",
    "        index = r.randint(0, len(df)-1)\n",
    "        filepath = df.iloc[index, 0]\n",
    "        y_true   = df.iloc[index, 1]\n",
    "\n",
    "        image = get_image(filepath)\n",
    "\n",
    "        y_pred, _ = onnx_model.infer(image, labels)\n",
    "        \n",
    "        print(f\"{labels[str(y_true)].title()}, {y_pred}\")\n",
    "\n",
    "    breaker()"
   ]
  }
 ],
 "metadata": {
  "kernelspec": {
   "display_name": "Python 3",
   "language": "python",
   "name": "python3"
  },
  "language_info": {
   "codemirror_mode": {
    "name": "ipython",
    "version": 3
   },
   "file_extension": ".py",
   "mimetype": "text/x-python",
   "name": "python",
   "nbconvert_exporter": "python",
   "pygments_lexer": "ipython3",
   "version": "3.7.12"
  },
  "papermill": {
   "default_parameters": {},
   "duration": 61.544126,
   "end_time": "2023-03-05T08:36:58.765973",
   "environment_variables": {},
   "exception": null,
   "input_path": "__notebook__.ipynb",
   "output_path": "__notebook__.ipynb",
   "parameters": {},
   "start_time": "2023-03-05T08:35:57.221847",
   "version": "2.4.0"
  }
 },
 "nbformat": 4,
 "nbformat_minor": 5
}
