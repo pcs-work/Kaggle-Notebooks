{
 "cells": [
  {
   "cell_type": "code",
   "execution_count": 1,
   "id": "b3a500ea",
   "metadata": {
    "_cell_guid": "b1076dfc-b9ad-4769-8c92-a6c4dae69d19",
    "_uuid": "8f2839f25d086af736a60e9eeb907d3b93b6e0e5",
    "execution": {
     "iopub.execute_input": "2023-03-09T13:31:08.471885Z",
     "iopub.status.busy": "2023-03-09T13:31:08.471398Z",
     "iopub.status.idle": "2023-03-09T13:31:08.482996Z",
     "shell.execute_reply": "2023-03-09T13:31:08.481546Z"
    },
    "papermill": {
     "duration": 0.020872,
     "end_time": "2023-03-09T13:31:08.485909",
     "exception": false,
     "start_time": "2023-03-09T13:31:08.465037",
     "status": "completed"
    },
    "tags": []
   },
   "outputs": [],
   "source": [
    "import numpy as np\n",
    "import pandas as pd"
   ]
  },
  {
   "cell_type": "code",
   "execution_count": 2,
   "id": "91d41c17",
   "metadata": {
    "execution": {
     "iopub.execute_input": "2023-03-09T13:31:08.493676Z",
     "iopub.status.busy": "2023-03-09T13:31:08.493176Z",
     "iopub.status.idle": "2023-03-09T13:31:23.035095Z",
     "shell.execute_reply": "2023-03-09T13:31:23.033934Z"
    },
    "papermill": {
     "duration": 14.549367,
     "end_time": "2023-03-09T13:31:23.038157",
     "exception": false,
     "start_time": "2023-03-09T13:31:08.488790",
     "status": "completed"
    },
    "tags": []
   },
   "outputs": [],
   "source": [
    "data = np.load(\"/kaggle/input/ntutemnist/emnist-byclass-train.npz\")\n",
    "train_labels = data[\"training_labels\"]\n",
    "train_data = data[\"training_images\"]\n",
    "\n",
    "test_data = np.load(\"/kaggle/input/ntutemnist/emnist-byclass-test.npz\")[\"testing_images\"]"
   ]
  },
  {
   "cell_type": "code",
   "execution_count": 3,
   "id": "22b7e645",
   "metadata": {
    "execution": {
     "iopub.execute_input": "2023-03-09T13:31:23.046537Z",
     "iopub.status.busy": "2023-03-09T13:31:23.045247Z",
     "iopub.status.idle": "2023-03-09T13:31:23.052363Z",
     "shell.execute_reply": "2023-03-09T13:31:23.051126Z"
    },
    "papermill": {
     "duration": 0.014228,
     "end_time": "2023-03-09T13:31:23.055226",
     "exception": false,
     "start_time": "2023-03-09T13:31:23.040998",
     "status": "completed"
    },
    "tags": []
   },
   "outputs": [
    {
     "name": "stdout",
     "output_type": "stream",
     "text": [
      "Train Data : (697932, 28, 28, 1)\n",
      "Test Data  : (116322, 28, 28, 1)\n"
     ]
    }
   ],
   "source": [
    "print(f\"Train Data : {train_data.shape}\")\n",
    "print(f\"Test Data  : {test_data.shape}\")"
   ]
  },
  {
   "cell_type": "code",
   "execution_count": 4,
   "id": "5a093c3f",
   "metadata": {
    "execution": {
     "iopub.execute_input": "2023-03-09T13:31:23.062845Z",
     "iopub.status.busy": "2023-03-09T13:31:23.062156Z",
     "iopub.status.idle": "2023-03-09T13:31:25.739691Z",
     "shell.execute_reply": "2023-03-09T13:31:25.737763Z"
    },
    "papermill": {
     "duration": 2.68479,
     "end_time": "2023-03-09T13:31:25.742685",
     "exception": false,
     "start_time": "2023-03-09T13:31:23.057895",
     "status": "completed"
    },
    "tags": []
   },
   "outputs": [
    {
     "name": "stdout",
     "output_type": "stream",
     "text": [
      "Mean : 0.17359\n",
      "Std  : 0.33165\n"
     ]
    }
   ],
   "source": [
    "print(f\"Mean : {train_data.mean():.5f}\")\n",
    "print(f\"Std  : {train_data.std():.5f}\")"
   ]
  },
  {
   "cell_type": "code",
   "execution_count": 5,
   "id": "8c2dbc62",
   "metadata": {
    "execution": {
     "iopub.execute_input": "2023-03-09T13:31:25.751406Z",
     "iopub.status.busy": "2023-03-09T13:31:25.750600Z",
     "iopub.status.idle": "2023-03-09T13:31:25.798911Z",
     "shell.execute_reply": "2023-03-09T13:31:25.797130Z"
    },
    "papermill": {
     "duration": 0.0566,
     "end_time": "2023-03-09T13:31:25.802228",
     "exception": false,
     "start_time": "2023-03-09T13:31:25.745628",
     "status": "completed"
    },
    "tags": []
   },
   "outputs": [
    {
     "name": "stdout",
     "output_type": "stream",
     "text": [
      "0 : 38374\n",
      "1 : 35754\n",
      "2 : 35143\n",
      "3 : 34585\n",
      "4 : 34232\n",
      "5 : 34203\n",
      "6 : 33946\n",
      "7 : 33847\n",
      "8 : 33535\n",
      "9 : 31416\n",
      "10 : 24983\n",
      "11 : 24631\n",
      "12 : 20764\n",
      "13 : 18262\n",
      "14 : 15318\n",
      "15 : 14105\n",
      "16 : 12602\n",
      "17 : 11946\n",
      "18 : 11418\n",
      "19 : 10177\n",
      "20 : 10094\n",
      "21 : 10033\n",
      "22 : 9820\n",
      "23 : 9182\n",
      "24 : 9002\n",
      "25 : 8738\n",
      "26 : 8347\n",
      "27 : 8237\n",
      "28 : 6407\n",
      "29 : 5159\n",
      "30 : 5076\n",
      "31 : 5073\n",
      "32 : 4934\n",
      "33 : 4743\n",
      "34 : 4695\n",
      "35 : 4637\n",
      "36 : 4562\n",
      "37 : 3878\n",
      "38 : 3762\n",
      "39 : 3687\n",
      "40 : 3152\n",
      "41 : 2994\n",
      "42 : 2910\n",
      "43 : 2854\n",
      "44 : 2830\n",
      "45 : 2822\n",
      "46 : 2771\n",
      "47 : 2749\n",
      "48 : 2725\n",
      "49 : 2725\n",
      "50 : 2701\n",
      "51 : 2699\n",
      "52 : 2697\n",
      "53 : 2645\n",
      "54 : 2605\n",
      "55 : 2561\n",
      "56 : 2517\n",
      "57 : 2491\n",
      "58 : 2468\n",
      "59 : 2448\n",
      "60 : 2365\n",
      "61 : 1896\n"
     ]
    }
   ],
   "source": [
    "val_counts = pd.DataFrame(data=train_labels, columns=[\"labels\"]).value_counts()\n",
    "\n",
    "i: int = 0\n",
    "for val_count in val_counts:\n",
    "    print(f\"{i} : {val_count}\")\n",
    "    i += 1"
   ]
  }
 ],
 "metadata": {
  "kernelspec": {
   "display_name": "Python 3",
   "language": "python",
   "name": "python3"
  },
  "language_info": {
   "codemirror_mode": {
    "name": "ipython",
    "version": 3
   },
   "file_extension": ".py",
   "mimetype": "text/x-python",
   "name": "python",
   "nbconvert_exporter": "python",
   "pygments_lexer": "ipython3",
   "version": "3.7.12"
  },
  "papermill": {
   "default_parameters": {},
   "duration": 29.613149,
   "end_time": "2023-03-09T13:31:26.831606",
   "environment_variables": {},
   "exception": null,
   "input_path": "__notebook__.ipynb",
   "output_path": "__notebook__.ipynb",
   "parameters": {},
   "start_time": "2023-03-09T13:30:57.218457",
   "version": "2.4.0"
  }
 },
 "nbformat": 4,
 "nbformat_minor": 5
}
