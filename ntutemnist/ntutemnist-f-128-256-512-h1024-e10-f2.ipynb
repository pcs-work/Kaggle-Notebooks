{
 "cells": [
  {
   "cell_type": "markdown",
   "id": "a9fed6bd",
   "metadata": {
    "_cell_guid": "b1076dfc-b9ad-4769-8c92-a6c4dae69d19",
    "_uuid": "8f2839f25d086af736a60e9eeb907d3b93b6e0e5",
    "papermill": {
     "duration": 0.004465,
     "end_time": "2023-03-12T10:00:44.792118",
     "exception": false,
     "start_time": "2023-03-12T10:00:44.787653",
     "status": "completed"
    },
    "tags": []
   },
   "source": [
    "### **Library Imports**"
   ]
  },
  {
   "cell_type": "code",
   "execution_count": 1,
   "id": "236e2e31",
   "metadata": {
    "execution": {
     "iopub.execute_input": "2023-03-12T10:00:44.800721Z",
     "iopub.status.busy": "2023-03-12T10:00:44.800292Z",
     "iopub.status.idle": "2023-03-12T10:00:48.280582Z",
     "shell.execute_reply": "2023-03-12T10:00:48.279561Z"
    },
    "papermill": {
     "duration": 3.487554,
     "end_time": "2023-03-12T10:00:48.283213",
     "exception": false,
     "start_time": "2023-03-12T10:00:44.795659",
     "status": "completed"
    },
    "tags": []
   },
   "outputs": [],
   "source": [
    "import os\n",
    "import re\n",
    "import cv2\n",
    "import torch\n",
    "import numpy as np\n",
    "import pandas as pd\n",
    "import matplotlib.pyplot as plt\n",
    "\n",
    "from time import time\n",
    "from typing import Union\n",
    "from torch import nn, optim\n",
    "from torch.utils.data import Dataset\n",
    "from torch.utils.data import DataLoader as DL\n",
    "from torchvision import transforms\n",
    "\n",
    "from sklearn.model_selection import StratifiedKFold"
   ]
  },
  {
   "cell_type": "code",
   "execution_count": 2,
   "id": "55662dff",
   "metadata": {
    "execution": {
     "iopub.execute_input": "2023-03-12T10:00:48.291718Z",
     "iopub.status.busy": "2023-03-12T10:00:48.291291Z",
     "iopub.status.idle": "2023-03-12T10:00:48.302198Z",
     "shell.execute_reply": "2023-03-12T10:00:48.301130Z"
    },
    "papermill": {
     "duration": 0.017835,
     "end_time": "2023-03-12T10:00:48.304666",
     "exception": false,
     "start_time": "2023-03-12T10:00:48.286831",
     "status": "completed"
    },
    "tags": []
   },
   "outputs": [],
   "source": [
    "SEED: int = 42\n",
    "    \n",
    "\n",
    "def breaker(num: int=50, char: str=\"*\") -> None: print(\"\\n\" + num*char + \"\\n\")\n",
    "\n",
    "    \n",
    "def show_loss_graphs(L: list) -> None:\n",
    "    TL, VL = [], []\n",
    "    for i in range(len(L)):\n",
    "        TL.append(L[i][\"train\"])\n",
    "        VL.append(L[i][\"valid\"])\n",
    "    x_Axis = np.arange(1, len(TL) + 1)\n",
    "    plt.figure()\n",
    "    plt.plot(x_Axis, TL, \"r\", label=\"Train\")\n",
    "    plt.plot(x_Axis, VL, \"b\", label=\"Valid\")\n",
    "    plt.legend()\n",
    "    plt.grid()\n",
    "    plt.title(\"Loss Graph\")\n",
    "    plt.show()\n",
    "    \n",
    "\n",
    "def show_accuracy_graphs(A: list) -> None:\n",
    "    TA, VA = [], []\n",
    "    for i in range(len(A)):\n",
    "        TA.append(A[i][\"train\"])\n",
    "        VA.append(A[i][\"valid\"])\n",
    "    x_Axis = np.arange(1, len(TA) + 1)\n",
    "    plt.figure()\n",
    "    plt.plot(x_Axis, TA, \"r\", label=\"Train\")\n",
    "    plt.plot(x_Axis, VA, \"b\", label=\"Valid\")\n",
    "    plt.legend()\n",
    "    plt.grid()\n",
    "    plt.title(\"Accuracy Graph\")\n",
    "    plt.show()\n",
    "    \n",
    "\n",
    "def show_lr_graph(LR: list) -> None:\n",
    "    x_Axis = [i+1 for i in range(len(LR))]\n",
    "    plt.figure(figsize=(8, 6))\n",
    "    plt.plot(x_Axis, LR, \"rx\")\n",
    "    plt.grid()\n",
    "    plt.show()"
   ]
  },
  {
   "cell_type": "code",
   "execution_count": 3,
   "id": "a9e9e10e",
   "metadata": {
    "execution": {
     "iopub.execute_input": "2023-03-12T10:00:48.312639Z",
     "iopub.status.busy": "2023-03-12T10:00:48.312065Z",
     "iopub.status.idle": "2023-03-12T10:00:48.384760Z",
     "shell.execute_reply": "2023-03-12T10:00:48.383764Z"
    },
    "papermill": {
     "duration": 0.079345,
     "end_time": "2023-03-12T10:00:48.387297",
     "exception": false,
     "start_time": "2023-03-12T10:00:48.307952",
     "status": "completed"
    },
    "tags": []
   },
   "outputs": [],
   "source": [
    "class CFG(object):\n",
    "    def __init__(self,\n",
    "             seed: int = 42,\n",
    "             n_splits: int = 5,\n",
    "             batch_size: int = 16,\n",
    "             epochs: int = 25,\n",
    "             early_stopping: int = 5,\n",
    "             lr: float = 1e-4,\n",
    "             wd: float = 0.0,\n",
    "             max_lr: float = 1e-3,\n",
    "             pct_start: float = 0.2,\n",
    "             steps_per_epoch: int = 100,\n",
    "             div_factor: int = 1e3, \n",
    "             final_div_factor: float = 1e3,\n",
    "             filter_sizes: list = [64, 128, 256],\n",
    "             HL: list = [1024]\n",
    "         ):\n",
    "        \n",
    "        self.seed = seed\n",
    "        self.n_splits = n_splits\n",
    "        self.batch_size = batch_size\n",
    "        self.epochs = epochs\n",
    "        self.early_stopping = early_stopping\n",
    "        self.lr = lr\n",
    "        self.wd = wd\n",
    "        self.max_lr = max_lr\n",
    "        self.pct_start = pct_start\n",
    "        self.steps_per_epoch = steps_per_epoch\n",
    "        self.div_factor = div_factor\n",
    "        self.final_div_factor = final_div_factor\n",
    "        self.filter_sizes = filter_sizes\n",
    "        self.HL = HL\n",
    "        self.device = torch.device(\"cuda\" if torch.cuda.is_available() else \"cpu\")\n",
    "        \n",
    "        self.train_transform = transforms.Compose([\n",
    "            transforms.ToTensor(),\n",
    "            transforms.Normalize([0.13102], [0.17323]),\n",
    "            transforms.RandomAffine(degrees=(-45, 45), translate=(0.15, 0.15), scale=(0.5, 1.5)),\n",
    "            transforms.RandomHorizontalFlip(p=0.25),\n",
    "            transforms.RandomVerticalFlip(p=0.25),\n",
    "        ])\n",
    "        self.valid_transform = transforms.Compose([\n",
    "            transforms.ToTensor(),\n",
    "            transforms.Normalize([0.13102], [0.17323]),\n",
    "        ])\n",
    "        self.save_path = \"saves\"\n",
    "        if not os.path.exists(self.save_path): os.makedirs(self.save_path)\n",
    "\n",
    "\n",
    "cfg = CFG(\n",
    "    seed=SEED, \n",
    ")"
   ]
  },
  {
   "cell_type": "markdown",
   "id": "7814c3dd",
   "metadata": {
    "papermill": {
     "duration": 0.003109,
     "end_time": "2023-03-12T10:00:48.394023",
     "exception": false,
     "start_time": "2023-03-12T10:00:48.390914",
     "status": "completed"
    },
    "tags": []
   },
   "source": [
    "### **Dataset Template**"
   ]
  },
  {
   "cell_type": "code",
   "execution_count": 4,
   "id": "d60cdd13",
   "metadata": {
    "execution": {
     "iopub.execute_input": "2023-03-12T10:00:48.401904Z",
     "iopub.status.busy": "2023-03-12T10:00:48.401596Z",
     "iopub.status.idle": "2023-03-12T10:00:48.407988Z",
     "shell.execute_reply": "2023-03-12T10:00:48.406968Z"
    },
    "papermill": {
     "duration": 0.012734,
     "end_time": "2023-03-12T10:00:48.410156",
     "exception": false,
     "start_time": "2023-03-12T10:00:48.397422",
     "status": "completed"
    },
    "tags": []
   },
   "outputs": [],
   "source": [
    "class DS(Dataset):\n",
    "    def __init__(\n",
    "        self, \n",
    "        images: np.ndarray, \n",
    "        labels: Union[np.ndarray, None]=None, \n",
    "        transform=None\n",
    "    ):\n",
    "        \n",
    "        self.images = images\n",
    "        self.labels = labels\n",
    "        self.transform = transform\n",
    "\n",
    "    def __len__(self):\n",
    "        return self.images.shape[0]\n",
    "\n",
    "    def __getitem__(self, idx):\n",
    "        if self.labels is not None:\n",
    "            return self.transform(self.images[idx]), torch.LongTensor(self.labels[idx])\n",
    "        return self.transform(self.images[idx])"
   ]
  },
  {
   "cell_type": "markdown",
   "id": "490780c0",
   "metadata": {
    "papermill": {
     "duration": 0.003112,
     "end_time": "2023-03-12T10:00:48.416523",
     "exception": false,
     "start_time": "2023-03-12T10:00:48.413411",
     "status": "completed"
    },
    "tags": []
   },
   "source": [
    "### **Model**"
   ]
  },
  {
   "cell_type": "code",
   "execution_count": 5,
   "id": "02e2552f",
   "metadata": {
    "execution": {
     "iopub.execute_input": "2023-03-12T10:00:48.424961Z",
     "iopub.status.busy": "2023-03-12T10:00:48.424676Z",
     "iopub.status.idle": "2023-03-12T10:00:48.440929Z",
     "shell.execute_reply": "2023-03-12T10:00:48.439887Z"
    },
    "papermill": {
     "duration": 0.023164,
     "end_time": "2023-03-12T10:00:48.442989",
     "exception": false,
     "start_time": "2023-03-12T10:00:48.419825",
     "status": "completed"
    },
    "tags": []
   },
   "outputs": [],
   "source": [
    "class Model(nn.Module):\n",
    "    def __init__(self, filter_sizes: list, HL: list, DP: Union[float, None]=None):\n",
    "        \n",
    "        super(Model, self).__init__()\n",
    "        \n",
    "        self.features = nn.Sequential()\n",
    "        self.features.add_module(\"CN1\", nn.Conv2d(in_channels=1, out_channels=filter_sizes[0], kernel_size=(3, 3), stride=(1, 1), padding=(1, 1)))\n",
    "        self.features.add_module(\"BN1\", nn.BatchNorm2d(num_features=filter_sizes[0], eps=1e-5))\n",
    "        self.features.add_module(\"AN1\", nn.ReLU())\n",
    "        self.features.add_module(\"MP1\", nn.MaxPool2d(kernel_size=(2, 2)))\n",
    "        self.features.add_module(\"CN2\", nn.Conv2d(in_channels=filter_sizes[0], out_channels=filter_sizes[1], kernel_size=(3, 3), stride=(1, 1), padding=(1, 1)))\n",
    "        self.features.add_module(\"BN2\", nn.BatchNorm2d(num_features=filter_sizes[1], eps=1e-5))\n",
    "        self.features.add_module(\"AN2\", nn.ReLU())\n",
    "        self.features.add_module(\"MP2\", nn.MaxPool2d(kernel_size=(2, 2)))\n",
    "        self.features.add_module(\"CN3\", nn.Conv2d(in_channels=filter_sizes[1], out_channels=filter_sizes[2], kernel_size=(3, 3), stride=(1, 1), padding=(1, 1)))\n",
    "        self.features.add_module(\"BN3\", nn.BatchNorm2d(num_features=filter_sizes[2], eps=1e-5))\n",
    "        self.features.add_module(\"AN3\", nn.ReLU())\n",
    "        self.features.add_module(\"MP3\", nn.MaxPool2d(kernel_size=(2, 2))) \n",
    "        \n",
    "        self.classifier = nn.Sequential()\n",
    "        if len(HL) == 0:\n",
    "            self.classifier.add_module(\"FC1\", nn.Linear(in_features=filter_sizes[2]*3*3, out_features=62))\n",
    "        elif len(HL) == 1:\n",
    "            self.classifier.add_module(\"FC1\", nn.Linear(in_features=filter_sizes[2]*3*3, out_features=HL[0]))\n",
    "            if isinstance(DP, float):\n",
    "                self.classifier.add_module(\"DP1\", nn.Dropout(p=DP))\n",
    "            self.classifier.add_module(\"AN1\", nn.ReLU())\n",
    "            self.classifier.add_module(\"FC2\", nn.Linear(in_features=HL[0], out_features=62))\n",
    "        elif len(HL) == 2:\n",
    "            self.classifier.add_module(\"FC1\", nn.Linear(in_features=filter_sizes[2]*3*3, out_features=HL[0]))\n",
    "            if isinstance(DP, float):\n",
    "                self.classifier.add_module(\"DP1\", nn.Dropout(p=DP))\n",
    "            self.classifier.add_module(\"AN1\", nn.ReLU())\n",
    "            self.classifier.add_module(\"FC2\", nn.Linear(in_features=HL[0], out_features=HL[1]))\n",
    "            if isinstance(DP, float):\n",
    "                self.classifier.add_module(\"DP2\", nn.Dropout(p=DP))\n",
    "            self.classifier.add_module(\"AN2\", nn.ReLU())\n",
    "            self.classifier.add_module(\"FC3\", nn.Linear(in_features=HL[1], out_features=62))\n",
    "        self.classifier.add_module(\"Final Activation\", nn.LogSoftmax(dim=1))\n",
    "    \n",
    "    def forward(self, x):\n",
    "        x = self.features(x)\n",
    "        x = x.view(x.shape[0], -1)\n",
    "        return self.classifier(x)"
   ]
  },
  {
   "cell_type": "markdown",
   "id": "b7c64acf",
   "metadata": {
    "papermill": {
     "duration": 0.003075,
     "end_time": "2023-03-12T10:00:48.449378",
     "exception": false,
     "start_time": "2023-03-12T10:00:48.446303",
     "status": "completed"
    },
    "tags": []
   },
   "source": [
    "### **Fit and Predict**"
   ]
  },
  {
   "cell_type": "code",
   "execution_count": 6,
   "id": "540ab93e",
   "metadata": {
    "execution": {
     "iopub.execute_input": "2023-03-12T10:00:48.457496Z",
     "iopub.status.busy": "2023-03-12T10:00:48.457228Z",
     "iopub.status.idle": "2023-03-12T10:00:48.477436Z",
     "shell.execute_reply": "2023-03-12T10:00:48.476447Z"
    },
    "papermill": {
     "duration": 0.026778,
     "end_time": "2023-03-12T10:00:48.479523",
     "exception": false,
     "start_time": "2023-03-12T10:00:48.452745",
     "status": "completed"
    },
    "tags": []
   },
   "outputs": [],
   "source": [
    "def fit(\n",
    "    model=None,\n",
    "    optimizer=None, \n",
    "    scheduler_rlrop=None,\n",
    "    scheduler_oclr=None,\n",
    "    epochs=None, \n",
    "    early_stopping_patience=None, \n",
    "    dataloaders=None, \n",
    "    fold=None, \n",
    "    save_path=None,\n",
    "    device=None,\n",
    "    verbose=False\n",
    ") -> tuple:\n",
    "    \n",
    "    def get_accuracy(y_pred, y_true):\n",
    "        y_pred = torch.argmax(y_pred, dim=1)\n",
    "        return torch.count_nonzero(y_pred == y_true).item() / len(y_pred)\n",
    "    \n",
    "    if verbose:\n",
    "        breaker()\n",
    "        if fold: print(f\"Training Fold {fold}...\")\n",
    "        else: print(\"Training ...\")\n",
    "        breaker()\n",
    "        \n",
    "    bestLoss: dict = {\"train\" : np.inf, \"valid\" : np.inf} \n",
    "    bestAccs: dict = {\"train\" : 0.0, \"valid\" : 0.0}\n",
    "        \n",
    "    Losses: list = []\n",
    "    Accuracies: list = [] \n",
    "    LRs: list = []\n",
    "        \n",
    "    if fold: \n",
    "        ble_name = f\"ble_state_fold_{fold}.pt\"\n",
    "        bae_name = f\"bae_state_fold_{fold}.pt\"\n",
    "    else: \n",
    "        ble_name = f\"ble_state.pt\"\n",
    "        bae_name = f\"bae_state.pt\"\n",
    "        \n",
    "    start_time = time()\n",
    "    for e in range(epochs):\n",
    "        e_st = time()\n",
    "        epochLoss: dict = {\"train\" : 0.0, \"valid\" : 0.0} \n",
    "        epochAccs: dict = {\"train\" : 0.0, \"valid\" : 0.0}\n",
    "            \n",
    "        for phase in [\"train\", \"valid\"]:\n",
    "            if phase == \"train\":\n",
    "                model.train()\n",
    "            else:\n",
    "                model.eval()\n",
    "            \n",
    "            lossPerPass: list = []\n",
    "            accsPerPass: list = []\n",
    "                \n",
    "            for X, y in dataloaders[phase]:\n",
    "                X, y = X.to(device), y.to(device).view(-1)\n",
    "                \n",
    "                optimizer.zero_grad()\n",
    "                with torch.set_grad_enabled(phase == \"train\"):\n",
    "                    output = model(X)\n",
    "                    loss = nn.NLLLoss()(output, y)\n",
    "                    if phase == \"train\":\n",
    "                        loss.backward()\n",
    "                        optimizer.step()\n",
    "                        if scheduler_oclr: scheduler_oclr.step()\n",
    "                lossPerPass.append(loss.item())\n",
    "                accsPerPass.append(get_accuracy(output, y))\n",
    "            epochLoss[phase] = np.mean(np.array(lossPerPass))\n",
    "            epochAccs[phase] = np.mean(np.array(accsPerPass))\n",
    "        if scheduler_oclr: LRs.append(scheduler_oclr.get_last_lr())\n",
    "        Losses.append(epochLoss)\n",
    "        Accuracies.append(epochAccs)\n",
    "        \n",
    "        if scheduler_oclr:\n",
    "            save_dict = {\"model_state_dict\"     : model.state_dict(),\n",
    "                         \"optim_state_dict\"     : optimizer.state_dict(),\n",
    "                         \"scheduler_state_dict\" : scheduler_oclr.state_dict()}\n",
    "        \n",
    "        elif scheduler_rlrop:\n",
    "            save_dict = {\"model_state_dict\"     : model.state_dict(),\n",
    "                         \"optim_state_dict\"     : optimizer.state_dict(),\n",
    "                         \"scheduler_state_dict\" : scheduler_rlrop.state_dict()}\n",
    "        \n",
    "        else:\n",
    "            save_dict = {\"model_state_dict\"     : model.state_dict(),\n",
    "                         \"optim_state_dict\"     : optimizer.state_dict()}\n",
    "        \n",
    "        if early_stopping_patience:\n",
    "            if epochLoss[\"valid\"] < bestLoss[\"valid\"]:\n",
    "                bestLoss = epochLoss\n",
    "                BLE = e + 1\n",
    "                torch.save(save_dict, os.path.join(save_path, ble_name))\n",
    "                torch.save(save_dict, os.path.join(save_path, bae_name))\n",
    "                early_stopping_step = 0\n",
    "            else:\n",
    "                early_stopping_step += 1\n",
    "                if early_stopping_step > early_stopping_patience:\n",
    "                    print(\"\\nEarly Stopping at Epoch {}\".format(e + 1))\n",
    "                    break\n",
    "        \n",
    "        if epochLoss[\"valid\"] < bestLoss[\"valid\"]:\n",
    "            bestLoss = epochLoss\n",
    "            BLE = e + 1\n",
    "            torch.save(save_dict,os.path.join(save_path, ble_name))\n",
    "        \n",
    "        if epochAccs[\"valid\"] > bestAccs[\"valid\"]:\n",
    "            bestAccs = epochAccs\n",
    "            BAE = e + 1\n",
    "            torch.save(save_dict,os.path.join(save_path, bae_name))\n",
    "        \n",
    "        if scheduler_rlrop: scheduler_rlrop.step(epochLoss[\"valid\"])\n",
    "        \n",
    "        if verbose:\n",
    "            print(\"Epoch: {} | Train Loss: {:.5f} | Valid Loss: {:.5f} |\\\n",
    " Train Accs: {:.5f} | Valid Accs: {:.5f} | Time: {:.2f} seconds\".format(\n",
    "                e+1, \n",
    "                epochLoss[\"train\"], epochLoss[\"valid\"], \n",
    "                epochAccs[\"train\"], epochAccs[\"valid\"], \n",
    "                time()-e_st)\n",
    "            )\n",
    "        \n",
    "    if verbose:                                           \n",
    "        breaker()\n",
    "        print(f\"Best Validation Loss at Epoch {BLE}\")\n",
    "        breaker()\n",
    "        print(f\"Best Validation Accs at Epoch {BAE}\")\n",
    "        breaker()\n",
    "        print(\"Time Taken [{} Epochs] : {:.2f} minutes\".format(len(Losses), (time()-start_time)/60))\n",
    "    \n",
    "    return Losses, Accuracies, LRs, bestLoss, bestAccs, BLE, BAE, ble_name, bae_name\n",
    "\n",
    "\n",
    "# def predict_batch(model=None, dataloader=None, path=None, device=None) -> np.ndarray:\n",
    "#     model.load_state_dict(torch.load(path, map_location=device)[\"model_state_dict\"])\n",
    "#     model.to(device)    \n",
    "#     model.eval()\n",
    "    \n",
    "#     y_pred = torch.zeros(1, 1).to(device)\n",
    "    \n",
    "#     for X in dataloader:\n",
    "#         X = X.to(device)\n",
    "#         with torch.no_grad():\n",
    "#             output = torch.argmax(torch.exp(model(X)), dim=1)\n",
    "#         y_pred = torch.cat((y_pred, output.view(-1, 1)), dim=0)\n",
    "    \n",
    "#     return y_pred[1:].detach().cpu().numpy()"
   ]
  },
  {
   "cell_type": "markdown",
   "id": "a2a243b7",
   "metadata": {
    "papermill": {
     "duration": 0.003089,
     "end_time": "2023-03-12T10:00:48.486008",
     "exception": false,
     "start_time": "2023-03-12T10:00:48.482919",
     "status": "completed"
    },
    "tags": []
   },
   "source": [
    "### **Train**"
   ]
  },
  {
   "cell_type": "code",
   "execution_count": 7,
   "id": "431f975e",
   "metadata": {
    "execution": {
     "iopub.execute_input": "2023-03-12T10:00:48.494925Z",
     "iopub.status.busy": "2023-03-12T10:00:48.493457Z",
     "iopub.status.idle": "2023-03-12T10:00:57.773599Z",
     "shell.execute_reply": "2023-03-12T10:00:57.772614Z"
    },
    "papermill": {
     "duration": 9.286722,
     "end_time": "2023-03-12T10:00:57.776039",
     "exception": false,
     "start_time": "2023-03-12T10:00:48.489317",
     "status": "completed"
    },
    "tags": []
   },
   "outputs": [],
   "source": [
    "data = np.load(\"/kaggle/input/ntutemnist/emnist-byclass-train.npz\")\n",
    "\n",
    "images = data[\"training_images\"]\n",
    "labels = data[\"training_labels\"]"
   ]
  },
  {
   "cell_type": "code",
   "execution_count": 8,
   "id": "30eccd52",
   "metadata": {
    "execution": {
     "iopub.execute_input": "2023-03-12T10:00:57.784696Z",
     "iopub.status.busy": "2023-03-12T10:00:57.784409Z",
     "iopub.status.idle": "2023-03-12T11:12:37.519845Z",
     "shell.execute_reply": "2023-03-12T11:12:37.518588Z"
    },
    "papermill": {
     "duration": 4299.74412,
     "end_time": "2023-03-12T11:12:37.523777",
     "exception": false,
     "start_time": "2023-03-12T10:00:57.779657",
     "status": "completed"
    },
    "tags": []
   },
   "outputs": [
    {
     "name": "stdout",
     "output_type": "stream",
     "text": [
      "\n",
      "**************************************************\n",
      "\n",
      "Training Fold 2...\n",
      "\n",
      "**************************************************\n",
      "\n",
      "Epoch: 1 | Train Loss: 1.81935 | Valid Loss: 0.64727 | Train Accs: 0.50287 | Valid Accs: 0.76478 | Time: 445.83 seconds\n",
      "Epoch: 2 | Train Loss: 0.93069 | Valid Loss: 0.53667 | Train Accs: 0.70352 | Valid Accs: 0.81590 | Time: 427.45 seconds\n",
      "Epoch: 3 | Train Loss: 0.77454 | Valid Loss: 0.50578 | Train Accs: 0.74582 | Valid Accs: 0.82478 | Time: 430.72 seconds\n",
      "Epoch: 4 | Train Loss: 0.70646 | Valid Loss: 0.48612 | Train Accs: 0.76493 | Valid Accs: 0.83121 | Time: 431.91 seconds\n",
      "Epoch: 5 | Train Loss: 0.66165 | Valid Loss: 0.45381 | Train Accs: 0.77729 | Valid Accs: 0.83787 | Time: 426.12 seconds\n",
      "Epoch: 6 | Train Loss: 0.62439 | Valid Loss: 0.43421 | Train Accs: 0.78819 | Valid Accs: 0.84546 | Time: 425.39 seconds\n",
      "Epoch: 7 | Train Loss: 0.59421 | Valid Loss: 0.42350 | Train Accs: 0.79685 | Valid Accs: 0.84964 | Time: 426.50 seconds\n",
      "Epoch: 8 | Train Loss: 0.56984 | Valid Loss: 0.41835 | Train Accs: 0.80395 | Valid Accs: 0.85025 | Time: 428.10 seconds\n",
      "Epoch: 9 | Train Loss: 0.55333 | Valid Loss: 0.40868 | Train Accs: 0.80842 | Valid Accs: 0.85362 | Time: 429.16 seconds\n",
      "Epoch: 10 | Train Loss: 0.54573 | Valid Loss: 0.41325 | Train Accs: 0.81112 | Valid Accs: 0.85179 | Time: 424.27 seconds\n",
      "\n",
      "**************************************************\n",
      "\n",
      "Best Validation Loss at Epoch 9\n",
      "\n",
      "**************************************************\n",
      "\n",
      "Best Validation Accs at Epoch 9\n",
      "\n",
      "**************************************************\n",
      "\n",
      "Time Taken [10 Epochs] : 71.59 minutes\n",
      "\n",
      "**************************************************\n",
      "\n"
     ]
    },
    {
     "data": {
      "image/png": "[encoded data removed]",
      "text/plain": [
       "<Figure size 640x480 with 1 Axes>"
      ]
     },
     "metadata": {},
     "output_type": "display_data"
    },
    {
     "name": "stdout",
     "output_type": "stream",
     "text": [
      "\n",
      "**************************************************\n",
      "\n"
     ]
    },
    {
     "data": {
      "image/png": "[encoded data removed]",
      "text/plain": [
       "<Figure size 640x480 with 1 Axes>"
      ]
     },
     "metadata": {},
     "output_type": "display_data"
    },
    {
     "name": "stdout",
     "output_type": "stream",
     "text": [
      "\n",
      "**************************************************\n",
      "\n"
     ]
    },
    {
     "data": {
      "image/png": "[encoded data removed]",
      "text/plain": [
       "<Figure size 800x600 with 1 Axes>"
      ]
     },
     "metadata": {},
     "output_type": "display_data"
    },
    {
     "name": "stdout",
     "output_type": "stream",
     "text": [
      "\n",
      "**************************************************\n",
      "\n"
     ]
    }
   ],
   "source": [
    "fold: int = 1\n",
    "BLs: list = []\n",
    "BAs: list = []\n",
    "    \n",
    "cfg.batch_size = 64\n",
    "cfg.epochs = 10\n",
    "cfg.filter_sizes = [128, 256, 512]\n",
    "    \n",
    "for tr_idx, va_idx in StratifiedKFold(n_splits=cfg.n_splits, random_state=cfg.seed, shuffle=True).split(images, labels):\n",
    "    if fold == 2: break\n",
    "    fold += 1\n",
    "\n",
    "tr_images, va_images = images[tr_idx], images[va_idx] \n",
    "tr_labels, va_labels = labels[tr_idx], labels[va_idx]\n",
    "\n",
    "tr_data_setup = DS(\n",
    "    images=tr_images, \n",
    "    labels=tr_labels.reshape(-1, 1),\n",
    "    transform=cfg.train_transform\n",
    ")\n",
    "\n",
    "va_data_setup = DS(\n",
    "    images=va_images, \n",
    "    labels=va_labels.reshape(-1, 1),\n",
    "    transform=cfg.valid_transform\n",
    ")\n",
    "\n",
    "dataloaders = {\n",
    "    \"train\" : DL(tr_data_setup, batch_size=cfg.batch_size, shuffle=True, generator=torch.manual_seed(cfg.seed)),\n",
    "    \"valid\" : DL(va_data_setup, batch_size=cfg.batch_size, shuffle=False),\n",
    "}\n",
    "\n",
    "cfg.steps_per_epoch=len(dataloaders[\"train\"])\n",
    "    \n",
    "torch.manual_seed(cfg.seed)\n",
    "model = Model(filter_sizes=cfg.filter_sizes, HL=cfg.HL).to(cfg.device)\n",
    "\n",
    "optimizer = optim.Adam([p for p in model.parameters() if p.requires_grad], lr=cfg.lr, weight_decay=cfg.wd)\n",
    "# optimizer = optim.AdamW([p for p in model.parameters() if p.requires_grad], lr=cfg.lr, weight_decay=cfg.wd)\n",
    "# optimizer = optim.SGD([p for p in model.parameters() if p.requires_grad], lr=cfg.lr, weight_decay=cfg.wd, momentum=0.9)\n",
    "\n",
    "scheduler_oclr = optim.lr_scheduler.OneCycleLR(\n",
    "    optimizer=optimizer, \n",
    "    max_lr=cfg.max_lr, \n",
    "    epochs=cfg.epochs, \n",
    "    steps_per_epoch=cfg.steps_per_epoch,\n",
    "    pct_start=cfg.pct_start, \n",
    "    div_factor=cfg.div_factor, \n",
    "    final_div_factor=cfg.final_div_factor\n",
    ")\n",
    "\n",
    "# scheduler_rlrop = optim.lr_scheduler.ReduceLROnPlateau(\n",
    "#     optimizer=optimizer,\n",
    "#     patience=cfg.patience,\n",
    "#     eps=cfg.eps,\n",
    "#     verbose=True\n",
    "# )\n",
    "\n",
    "# scheduler_oclr = None\n",
    "scheduler_rlrop = None\n",
    "\n",
    "L, A, LR, BL, BA, _, _, _, _ = fit(\n",
    "    model=model, \n",
    "    optimizer=optimizer, \n",
    "    scheduler_oclr=scheduler_oclr,\n",
    "    scheduler_rlrop=scheduler_rlrop,\n",
    "    epochs=cfg.epochs, \n",
    "    early_stopping_patience=cfg.early_stopping, \n",
    "    dataloaders=dataloaders, \n",
    "    device=cfg.device,\n",
    "    save_path=cfg.save_path,\n",
    "    fold=fold,\n",
    "    verbose=True\n",
    ")\n",
    "\n",
    "\n",
    "breaker()\n",
    "show_loss_graphs(L)\n",
    "breaker()\n",
    "show_accuracy_graphs(A)\n",
    "breaker()\n",
    "if scheduler_oclr:\n",
    "    show_lr_graph(LR)\n",
    "    breaker()\n",
    "\n",
    "# BLs.append(BL)\n",
    "# BAs.append(BA)\n",
    "\n",
    "# fold += 1"
   ]
  },
  {
   "cell_type": "markdown",
   "id": "2710cefc",
   "metadata": {
    "papermill": {
     "duration": 0.009571,
     "end_time": "2023-03-12T11:12:37.541851",
     "exception": false,
     "start_time": "2023-03-12T11:12:37.532280",
     "status": "completed"
    },
    "tags": []
   },
   "source": [
    "### **Best Model**"
   ]
  },
  {
   "cell_type": "code",
   "execution_count": 9,
   "id": "5deaf786",
   "metadata": {
    "execution": {
     "iopub.execute_input": "2023-03-12T11:12:37.559101Z",
     "iopub.status.busy": "2023-03-12T11:12:37.558752Z",
     "iopub.status.idle": "2023-03-12T11:12:37.563511Z",
     "shell.execute_reply": "2023-03-12T11:12:37.562495Z"
    },
    "papermill": {
     "duration": 0.013012,
     "end_time": "2023-03-12T11:12:37.565695",
     "exception": false,
     "start_time": "2023-03-12T11:12:37.552683",
     "status": "completed"
    },
    "tags": []
   },
   "outputs": [],
   "source": [
    "# BL = np.inf\n",
    "# for i in range(len(BLs)):\n",
    "#     if BLs[i][\"valid\"] < BL:\n",
    "#         BL = BLs[i][\"valid\"]\n",
    "#         best_loss_index = i\n",
    "\n",
    "        \n",
    "# BA = 0.0\n",
    "# for i in range(len(BAs)):\n",
    "#     if BAs[i][\"valid\"] > BA:\n",
    "#         BA = BAs[i][\"valid\"]\n",
    "#         best_accs_index = i\n",
    "\n",
    "# breaker()\n",
    "# print(f\"Best Loss Model Fold     : {best_loss_index + 1}\")\n",
    "# print(f\"Best Accuracy Model Fold : {best_accs_index + 1}\")\n",
    "# breaker()"
   ]
  }
 ],
 "metadata": {
  "kernelspec": {
   "display_name": "Python 3",
   "language": "python",
   "name": "python3"
  },
  "language_info": {
   "codemirror_mode": {
    "name": "ipython",
    "version": 3
   },
   "file_extension": ".py",
   "mimetype": "text/x-python",
   "name": "python",
   "nbconvert_exporter": "python",
   "pygments_lexer": "ipython3",
   "version": "3.7.12"
  },
  "papermill": {
   "default_parameters": {},
   "duration": 4323.69587,
   "end_time": "2023-03-12T11:12:39.312476",
   "environment_variables": {},
   "exception": null,
   "input_path": "__notebook__.ipynb",
   "output_path": "__notebook__.ipynb",
   "parameters": {},
   "start_time": "2023-03-12T10:00:35.616606",
   "version": "2.4.0"
  }
 },
 "nbformat": 4,
 "nbformat_minor": 5
}
