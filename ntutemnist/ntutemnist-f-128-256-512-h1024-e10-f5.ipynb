{
 "cells": [
  {
   "cell_type": "markdown",
   "id": "5e364c85",
   "metadata": {
    "_cell_guid": "b1076dfc-b9ad-4769-8c92-a6c4dae69d19",
    "_uuid": "8f2839f25d086af736a60e9eeb907d3b93b6e0e5",
    "papermill": {
     "duration": 0.004549,
     "end_time": "2023-03-13T04:39:33.471927",
     "exception": false,
     "start_time": "2023-03-13T04:39:33.467378",
     "status": "completed"
    },
    "tags": []
   },
   "source": [
    "### **Library Imports**"
   ]
  },
  {
   "cell_type": "code",
   "execution_count": 1,
   "id": "bc0e2c9a",
   "metadata": {
    "execution": {
     "iopub.execute_input": "2023-03-13T04:39:33.488684Z",
     "iopub.status.busy": "2023-03-13T04:39:33.487942Z",
     "iopub.status.idle": "2023-03-13T04:39:37.210698Z",
     "shell.execute_reply": "2023-03-13T04:39:37.209668Z"
    },
    "papermill": {
     "duration": 3.735103,
     "end_time": "2023-03-13T04:39:37.213283",
     "exception": false,
     "start_time": "2023-03-13T04:39:33.478180",
     "status": "completed"
    },
    "tags": []
   },
   "outputs": [],
   "source": [
    "import os\n",
    "import re\n",
    "import cv2\n",
    "import torch\n",
    "import numpy as np\n",
    "import pandas as pd\n",
    "import matplotlib.pyplot as plt\n",
    "\n",
    "from time import time\n",
    "from typing import Union\n",
    "from torch import nn, optim\n",
    "from torch.utils.data import Dataset\n",
    "from torch.utils.data import DataLoader as DL\n",
    "from torchvision import transforms\n",
    "\n",
    "from sklearn.model_selection import StratifiedKFold"
   ]
  },
  {
   "cell_type": "code",
   "execution_count": 2,
   "id": "e44c962e",
   "metadata": {
    "execution": {
     "iopub.execute_input": "2023-03-13T04:39:37.221877Z",
     "iopub.status.busy": "2023-03-13T04:39:37.221443Z",
     "iopub.status.idle": "2023-03-13T04:39:37.232570Z",
     "shell.execute_reply": "2023-03-13T04:39:37.231668Z"
    },
    "papermill": {
     "duration": 0.017827,
     "end_time": "2023-03-13T04:39:37.234734",
     "exception": false,
     "start_time": "2023-03-13T04:39:37.216907",
     "status": "completed"
    },
    "tags": []
   },
   "outputs": [],
   "source": [
    "SEED: int = 42\n",
    "    \n",
    "\n",
    "def breaker(num: int=50, char: str=\"*\") -> None: print(\"\\n\" + num*char + \"\\n\")\n",
    "\n",
    "    \n",
    "def show_loss_graphs(L: list) -> None:\n",
    "    TL, VL = [], []\n",
    "    for i in range(len(L)):\n",
    "        TL.append(L[i][\"train\"])\n",
    "        VL.append(L[i][\"valid\"])\n",
    "    x_Axis = np.arange(1, len(TL) + 1)\n",
    "    plt.figure()\n",
    "    plt.plot(x_Axis, TL, \"r\", label=\"Train\")\n",
    "    plt.plot(x_Axis, VL, \"b\", label=\"Valid\")\n",
    "    plt.legend()\n",
    "    plt.grid()\n",
    "    plt.title(\"Loss Graph\")\n",
    "    plt.show()\n",
    "    \n",
    "\n",
    "def show_accuracy_graphs(A: list) -> None:\n",
    "    TA, VA = [], []\n",
    "    for i in range(len(A)):\n",
    "        TA.append(A[i][\"train\"])\n",
    "        VA.append(A[i][\"valid\"])\n",
    "    x_Axis = np.arange(1, len(TA) + 1)\n",
    "    plt.figure()\n",
    "    plt.plot(x_Axis, TA, \"r\", label=\"Train\")\n",
    "    plt.plot(x_Axis, VA, \"b\", label=\"Valid\")\n",
    "    plt.legend()\n",
    "    plt.grid()\n",
    "    plt.title(\"Accuracy Graph\")\n",
    "    plt.show()\n",
    "    \n",
    "\n",
    "def show_lr_graph(LR: list) -> None:\n",
    "    x_Axis = [i+1 for i in range(len(LR))]\n",
    "    plt.figure(figsize=(8, 6))\n",
    "    plt.plot(x_Axis, LR, \"rx\")\n",
    "    plt.grid()\n",
    "    plt.show()"
   ]
  },
  {
   "cell_type": "code",
   "execution_count": 3,
   "id": "f2f120fa",
   "metadata": {
    "execution": {
     "iopub.execute_input": "2023-03-13T04:39:37.242609Z",
     "iopub.status.busy": "2023-03-13T04:39:37.242316Z",
     "iopub.status.idle": "2023-03-13T04:39:37.309105Z",
     "shell.execute_reply": "2023-03-13T04:39:37.308159Z"
    },
    "papermill": {
     "duration": 0.07333,
     "end_time": "2023-03-13T04:39:37.311312",
     "exception": false,
     "start_time": "2023-03-13T04:39:37.237982",
     "status": "completed"
    },
    "tags": []
   },
   "outputs": [],
   "source": [
    "class CFG(object):\n",
    "    def __init__(self,\n",
    "             seed: int = 42,\n",
    "             n_splits: int = 5,\n",
    "             batch_size: int = 16,\n",
    "             epochs: int = 25,\n",
    "             early_stopping: int = 5,\n",
    "             lr: float = 1e-4,\n",
    "             wd: float = 0.0,\n",
    "             max_lr: float = 1e-3,\n",
    "             pct_start: float = 0.2,\n",
    "             steps_per_epoch: int = 100,\n",
    "             div_factor: int = 1e3, \n",
    "             final_div_factor: float = 1e3,\n",
    "             filter_sizes: list = [64, 128, 256],\n",
    "             HL: list = [1024]\n",
    "         ):\n",
    "        \n",
    "        self.seed = seed\n",
    "        self.n_splits = n_splits\n",
    "        self.batch_size = batch_size\n",
    "        self.epochs = epochs\n",
    "        self.early_stopping = early_stopping\n",
    "        self.lr = lr\n",
    "        self.wd = wd\n",
    "        self.max_lr = max_lr\n",
    "        self.pct_start = pct_start\n",
    "        self.steps_per_epoch = steps_per_epoch\n",
    "        self.div_factor = div_factor\n",
    "        self.final_div_factor = final_div_factor\n",
    "        self.filter_sizes = filter_sizes\n",
    "        self.HL = HL\n",
    "        self.device = torch.device(\"cuda\" if torch.cuda.is_available() else \"cpu\")\n",
    "        \n",
    "        self.train_transform = transforms.Compose([\n",
    "            transforms.ToTensor(),\n",
    "            transforms.Normalize([0.13102], [0.17323]),\n",
    "            transforms.RandomAffine(degrees=(-45, 45), translate=(0.15, 0.15), scale=(0.5, 1.5)),\n",
    "            transforms.RandomHorizontalFlip(p=0.25),\n",
    "            transforms.RandomVerticalFlip(p=0.25),\n",
    "        ])\n",
    "        self.valid_transform = transforms.Compose([\n",
    "            transforms.ToTensor(),\n",
    "            transforms.Normalize([0.13102], [0.17323]),\n",
    "        ])\n",
    "        self.save_path = \"saves\"\n",
    "        if not os.path.exists(self.save_path): os.makedirs(self.save_path)\n",
    "\n",
    "\n",
    "cfg = CFG(\n",
    "    seed=SEED, \n",
    ")"
   ]
  },
  {
   "cell_type": "markdown",
   "id": "a3e1b20e",
   "metadata": {
    "papermill": {
     "duration": 0.003456,
     "end_time": "2023-03-13T04:39:37.318164",
     "exception": false,
     "start_time": "2023-03-13T04:39:37.314708",
     "status": "completed"
    },
    "tags": []
   },
   "source": [
    "### **Dataset Template**"
   ]
  },
  {
   "cell_type": "code",
   "execution_count": 4,
   "id": "8472a78e",
   "metadata": {
    "execution": {
     "iopub.execute_input": "2023-03-13T04:39:37.326699Z",
     "iopub.status.busy": "2023-03-13T04:39:37.325867Z",
     "iopub.status.idle": "2023-03-13T04:39:37.333099Z",
     "shell.execute_reply": "2023-03-13T04:39:37.332159Z"
    },
    "papermill": {
     "duration": 0.013584,
     "end_time": "2023-03-13T04:39:37.335199",
     "exception": false,
     "start_time": "2023-03-13T04:39:37.321615",
     "status": "completed"
    },
    "tags": []
   },
   "outputs": [],
   "source": [
    "class DS(Dataset):\n",
    "    def __init__(\n",
    "        self, \n",
    "        images: np.ndarray, \n",
    "        labels: Union[np.ndarray, None]=None, \n",
    "        transform=None\n",
    "    ):\n",
    "        \n",
    "        self.images = images\n",
    "        self.labels = labels\n",
    "        self.transform = transform\n",
    "\n",
    "    def __len__(self):\n",
    "        return self.images.shape[0]\n",
    "\n",
    "    def __getitem__(self, idx):\n",
    "        if self.labels is not None:\n",
    "            return self.transform(self.images[idx]), torch.LongTensor(self.labels[idx])\n",
    "        return self.transform(self.images[idx])"
   ]
  },
  {
   "cell_type": "markdown",
   "id": "2068eba1",
   "metadata": {
    "papermill": {
     "duration": 0.003258,
     "end_time": "2023-03-13T04:39:37.341797",
     "exception": false,
     "start_time": "2023-03-13T04:39:37.338539",
     "status": "completed"
    },
    "tags": []
   },
   "source": [
    "### **Model**"
   ]
  },
  {
   "cell_type": "code",
   "execution_count": 5,
   "id": "d6c20712",
   "metadata": {
    "execution": {
     "iopub.execute_input": "2023-03-13T04:39:37.350059Z",
     "iopub.status.busy": "2023-03-13T04:39:37.349795Z",
     "iopub.status.idle": "2023-03-13T04:39:37.366616Z",
     "shell.execute_reply": "2023-03-13T04:39:37.365575Z"
    },
    "papermill": {
     "duration": 0.023472,
     "end_time": "2023-03-13T04:39:37.368593",
     "exception": false,
     "start_time": "2023-03-13T04:39:37.345121",
     "status": "completed"
    },
    "tags": []
   },
   "outputs": [],
   "source": [
    "class Model(nn.Module):\n",
    "    def __init__(self, filter_sizes: list, HL: list, DP: Union[float, None]=None):\n",
    "        \n",
    "        super(Model, self).__init__()\n",
    "        \n",
    "        self.features = nn.Sequential()\n",
    "        self.features.add_module(\"CN1\", nn.Conv2d(in_channels=1, out_channels=filter_sizes[0], kernel_size=(3, 3), stride=(1, 1), padding=(1, 1)))\n",
    "        self.features.add_module(\"BN1\", nn.BatchNorm2d(num_features=filter_sizes[0], eps=1e-5))\n",
    "        self.features.add_module(\"AN1\", nn.ReLU())\n",
    "        self.features.add_module(\"MP1\", nn.MaxPool2d(kernel_size=(2, 2)))\n",
    "        self.features.add_module(\"CN2\", nn.Conv2d(in_channels=filter_sizes[0], out_channels=filter_sizes[1], kernel_size=(3, 3), stride=(1, 1), padding=(1, 1)))\n",
    "        self.features.add_module(\"BN2\", nn.BatchNorm2d(num_features=filter_sizes[1], eps=1e-5))\n",
    "        self.features.add_module(\"AN2\", nn.ReLU())\n",
    "        self.features.add_module(\"MP2\", nn.MaxPool2d(kernel_size=(2, 2)))\n",
    "        self.features.add_module(\"CN3\", nn.Conv2d(in_channels=filter_sizes[1], out_channels=filter_sizes[2], kernel_size=(3, 3), stride=(1, 1), padding=(1, 1)))\n",
    "        self.features.add_module(\"BN3\", nn.BatchNorm2d(num_features=filter_sizes[2], eps=1e-5))\n",
    "        self.features.add_module(\"AN3\", nn.ReLU())\n",
    "        self.features.add_module(\"MP3\", nn.MaxPool2d(kernel_size=(2, 2))) \n",
    "        \n",
    "        self.classifier = nn.Sequential()\n",
    "        if len(HL) == 0:\n",
    "            self.classifier.add_module(\"FC1\", nn.Linear(in_features=filter_sizes[2]*3*3, out_features=62))\n",
    "        elif len(HL) == 1:\n",
    "            self.classifier.add_module(\"FC1\", nn.Linear(in_features=filter_sizes[2]*3*3, out_features=HL[0]))\n",
    "            if isinstance(DP, float):\n",
    "                self.classifier.add_module(\"DP1\", nn.Dropout(p=DP))\n",
    "            self.classifier.add_module(\"AN1\", nn.ReLU())\n",
    "            self.classifier.add_module(\"FC2\", nn.Linear(in_features=HL[0], out_features=62))\n",
    "        elif len(HL) == 2:\n",
    "            self.classifier.add_module(\"FC1\", nn.Linear(in_features=filter_sizes[2]*3*3, out_features=HL[0]))\n",
    "            if isinstance(DP, float):\n",
    "                self.classifier.add_module(\"DP1\", nn.Dropout(p=DP))\n",
    "            self.classifier.add_module(\"AN1\", nn.ReLU())\n",
    "            self.classifier.add_module(\"FC2\", nn.Linear(in_features=HL[0], out_features=HL[1]))\n",
    "            if isinstance(DP, float):\n",
    "                self.classifier.add_module(\"DP2\", nn.Dropout(p=DP))\n",
    "            self.classifier.add_module(\"AN2\", nn.ReLU())\n",
    "            self.classifier.add_module(\"FC3\", nn.Linear(in_features=HL[1], out_features=62))\n",
    "        self.classifier.add_module(\"Final Activation\", nn.LogSoftmax(dim=1))\n",
    "    \n",
    "    def forward(self, x):\n",
    "        x = self.features(x)\n",
    "        x = x.view(x.shape[0], -1)\n",
    "        return self.classifier(x)"
   ]
  },
  {
   "cell_type": "markdown",
   "id": "41bcba10",
   "metadata": {
    "papermill": {
     "duration": 0.003138,
     "end_time": "2023-03-13T04:39:37.375094",
     "exception": false,
     "start_time": "2023-03-13T04:39:37.371956",
     "status": "completed"
    },
    "tags": []
   },
   "source": [
    "### **Fit and Predict**"
   ]
  },
  {
   "cell_type": "code",
   "execution_count": 6,
   "id": "f34bc6c5",
   "metadata": {
    "execution": {
     "iopub.execute_input": "2023-03-13T04:39:37.383349Z",
     "iopub.status.busy": "2023-03-13T04:39:37.383083Z",
     "iopub.status.idle": "2023-03-13T04:39:37.403518Z",
     "shell.execute_reply": "2023-03-13T04:39:37.402478Z"
    },
    "papermill": {
     "duration": 0.02713,
     "end_time": "2023-03-13T04:39:37.405630",
     "exception": false,
     "start_time": "2023-03-13T04:39:37.378500",
     "status": "completed"
    },
    "tags": []
   },
   "outputs": [],
   "source": [
    "def fit(\n",
    "    model=None,\n",
    "    optimizer=None, \n",
    "    scheduler_rlrop=None,\n",
    "    scheduler_oclr=None,\n",
    "    epochs=None, \n",
    "    early_stopping_patience=None, \n",
    "    dataloaders=None, \n",
    "    fold=None, \n",
    "    save_path=None,\n",
    "    device=None,\n",
    "    verbose=False\n",
    ") -> tuple:\n",
    "    \n",
    "    def get_accuracy(y_pred, y_true):\n",
    "        y_pred = torch.argmax(y_pred, dim=1)\n",
    "        return torch.count_nonzero(y_pred == y_true).item() / len(y_pred)\n",
    "    \n",
    "    if verbose:\n",
    "        breaker()\n",
    "        if fold: print(f\"Training Fold {fold}...\")\n",
    "        else: print(\"Training ...\")\n",
    "        breaker()\n",
    "        \n",
    "    bestLoss: dict = {\"train\" : np.inf, \"valid\" : np.inf} \n",
    "    bestAccs: dict = {\"train\" : 0.0, \"valid\" : 0.0}\n",
    "        \n",
    "    Losses: list = []\n",
    "    Accuracies: list = [] \n",
    "    LRs: list = []\n",
    "        \n",
    "    if fold: \n",
    "        ble_name = f\"ble_state_fold_{fold}.pt\"\n",
    "        bae_name = f\"bae_state_fold_{fold}.pt\"\n",
    "    else: \n",
    "        ble_name = f\"ble_state.pt\"\n",
    "        bae_name = f\"bae_state.pt\"\n",
    "        \n",
    "    start_time = time()\n",
    "    for e in range(epochs):\n",
    "        e_st = time()\n",
    "        epochLoss: dict = {\"train\" : 0.0, \"valid\" : 0.0} \n",
    "        epochAccs: dict = {\"train\" : 0.0, \"valid\" : 0.0}\n",
    "            \n",
    "        for phase in [\"train\", \"valid\"]:\n",
    "            if phase == \"train\":\n",
    "                model.train()\n",
    "            else:\n",
    "                model.eval()\n",
    "            \n",
    "            lossPerPass: list = []\n",
    "            accsPerPass: list = []\n",
    "                \n",
    "            for X, y in dataloaders[phase]:\n",
    "                X, y = X.to(device), y.to(device).view(-1)\n",
    "                \n",
    "                optimizer.zero_grad()\n",
    "                with torch.set_grad_enabled(phase == \"train\"):\n",
    "                    output = model(X)\n",
    "                    loss = nn.NLLLoss()(output, y)\n",
    "                    if phase == \"train\":\n",
    "                        loss.backward()\n",
    "                        optimizer.step()\n",
    "                        if scheduler_oclr: scheduler_oclr.step()\n",
    "                lossPerPass.append(loss.item())\n",
    "                accsPerPass.append(get_accuracy(output, y))\n",
    "            epochLoss[phase] = np.mean(np.array(lossPerPass))\n",
    "            epochAccs[phase] = np.mean(np.array(accsPerPass))\n",
    "        if scheduler_oclr: LRs.append(scheduler_oclr.get_last_lr())\n",
    "        Losses.append(epochLoss)\n",
    "        Accuracies.append(epochAccs)\n",
    "        \n",
    "        if scheduler_oclr:\n",
    "            save_dict = {\"model_state_dict\"     : model.state_dict(),\n",
    "                         \"optim_state_dict\"     : optimizer.state_dict(),\n",
    "                         \"scheduler_state_dict\" : scheduler_oclr.state_dict()}\n",
    "        \n",
    "        elif scheduler_rlrop:\n",
    "            save_dict = {\"model_state_dict\"     : model.state_dict(),\n",
    "                         \"optim_state_dict\"     : optimizer.state_dict(),\n",
    "                         \"scheduler_state_dict\" : scheduler_rlrop.state_dict()}\n",
    "        \n",
    "        else:\n",
    "            save_dict = {\"model_state_dict\"     : model.state_dict(),\n",
    "                         \"optim_state_dict\"     : optimizer.state_dict()}\n",
    "        \n",
    "        if early_stopping_patience:\n",
    "            if epochLoss[\"valid\"] < bestLoss[\"valid\"]:\n",
    "                bestLoss = epochLoss\n",
    "                BLE = e + 1\n",
    "                torch.save(save_dict, os.path.join(save_path, ble_name))\n",
    "                torch.save(save_dict, os.path.join(save_path, bae_name))\n",
    "                early_stopping_step = 0\n",
    "            else:\n",
    "                early_stopping_step += 1\n",
    "                if early_stopping_step > early_stopping_patience:\n",
    "                    print(\"\\nEarly Stopping at Epoch {}\".format(e + 1))\n",
    "                    break\n",
    "        \n",
    "        if epochLoss[\"valid\"] < bestLoss[\"valid\"]:\n",
    "            bestLoss = epochLoss\n",
    "            BLE = e + 1\n",
    "            torch.save(save_dict,os.path.join(save_path, ble_name))\n",
    "        \n",
    "        if epochAccs[\"valid\"] > bestAccs[\"valid\"]:\n",
    "            bestAccs = epochAccs\n",
    "            BAE = e + 1\n",
    "            torch.save(save_dict,os.path.join(save_path, bae_name))\n",
    "        \n",
    "        if scheduler_rlrop: scheduler_rlrop.step(epochLoss[\"valid\"])\n",
    "        \n",
    "        if verbose:\n",
    "            print(\"Epoch: {} | Train Loss: {:.5f} | Valid Loss: {:.5f} |\\\n",
    " Train Accs: {:.5f} | Valid Accs: {:.5f} | Time: {:.2f} seconds\".format(\n",
    "                e+1, \n",
    "                epochLoss[\"train\"], epochLoss[\"valid\"], \n",
    "                epochAccs[\"train\"], epochAccs[\"valid\"], \n",
    "                time()-e_st)\n",
    "            )\n",
    "        \n",
    "    if verbose:                                           \n",
    "        breaker()\n",
    "        print(f\"Best Validation Loss at Epoch {BLE}\")\n",
    "        breaker()\n",
    "        print(f\"Best Validation Accs at Epoch {BAE}\")\n",
    "        breaker()\n",
    "        print(\"Time Taken [{} Epochs] : {:.2f} minutes\".format(len(Losses), (time()-start_time)/60))\n",
    "    \n",
    "    return Losses, Accuracies, LRs, bestLoss, bestAccs, BLE, BAE, ble_name, bae_name\n",
    "\n",
    "\n",
    "# def predict_batch(model=None, dataloader=None, path=None, device=None) -> np.ndarray:\n",
    "#     model.load_state_dict(torch.load(path, map_location=device)[\"model_state_dict\"])\n",
    "#     model.to(device)    \n",
    "#     model.eval()\n",
    "    \n",
    "#     y_pred = torch.zeros(1, 1).to(device)\n",
    "    \n",
    "#     for X in dataloader:\n",
    "#         X = X.to(device)\n",
    "#         with torch.no_grad():\n",
    "#             output = torch.argmax(torch.exp(model(X)), dim=1)\n",
    "#         y_pred = torch.cat((y_pred, output.view(-1, 1)), dim=0)\n",
    "    \n",
    "#     return y_pred[1:].detach().cpu().numpy()"
   ]
  },
  {
   "cell_type": "markdown",
   "id": "74009923",
   "metadata": {
    "papermill": {
     "duration": 0.003317,
     "end_time": "2023-03-13T04:39:37.412674",
     "exception": false,
     "start_time": "2023-03-13T04:39:37.409357",
     "status": "completed"
    },
    "tags": []
   },
   "source": [
    "### **Train**"
   ]
  },
  {
   "cell_type": "code",
   "execution_count": 7,
   "id": "02632ea4",
   "metadata": {
    "execution": {
     "iopub.execute_input": "2023-03-13T04:39:37.422033Z",
     "iopub.status.busy": "2023-03-13T04:39:37.420388Z",
     "iopub.status.idle": "2023-03-13T04:39:46.712466Z",
     "shell.execute_reply": "2023-03-13T04:39:46.711418Z"
    },
    "papermill": {
     "duration": 9.298947,
     "end_time": "2023-03-13T04:39:46.715038",
     "exception": false,
     "start_time": "2023-03-13T04:39:37.416091",
     "status": "completed"
    },
    "tags": []
   },
   "outputs": [],
   "source": [
    "data = np.load(\"/kaggle/input/ntutemnist/emnist-byclass-train.npz\")\n",
    "\n",
    "images = data[\"training_images\"]\n",
    "labels = data[\"training_labels\"]"
   ]
  },
  {
   "cell_type": "code",
   "execution_count": 8,
   "id": "45bac66d",
   "metadata": {
    "execution": {
     "iopub.execute_input": "2023-03-13T04:39:46.724682Z",
     "iopub.status.busy": "2023-03-13T04:39:46.723558Z",
     "iopub.status.idle": "2023-03-13T05:53:05.774124Z",
     "shell.execute_reply": "2023-03-13T05:53:05.773013Z"
    },
    "papermill": {
     "duration": 4399.05849,
     "end_time": "2023-03-13T05:53:05.777157",
     "exception": false,
     "start_time": "2023-03-13T04:39:46.718667",
     "status": "completed"
    },
    "tags": []
   },
   "outputs": [
    {
     "name": "stdout",
     "output_type": "stream",
     "text": [
      "\n",
      "**************************************************\n",
      "\n",
      "Training Fold 5...\n",
      "\n",
      "**************************************************\n",
      "\n",
      "Epoch: 1 | Train Loss: 1.81877 | Valid Loss: 0.77060 | Train Accs: 0.50341 | Valid Accs: 0.75451 | Time: 464.85 seconds\n",
      "Epoch: 2 | Train Loss: 0.93119 | Valid Loss: 0.55390 | Train Accs: 0.70324 | Valid Accs: 0.81192 | Time: 449.73 seconds\n",
      "Epoch: 3 | Train Loss: 0.77639 | Valid Loss: 0.51247 | Train Accs: 0.74525 | Valid Accs: 0.82005 | Time: 445.81 seconds\n",
      "Epoch: 4 | Train Loss: 0.70532 | Valid Loss: 0.48289 | Train Accs: 0.76602 | Valid Accs: 0.82964 | Time: 445.17 seconds\n",
      "Epoch: 5 | Train Loss: 0.66132 | Valid Loss: 0.45019 | Train Accs: 0.77765 | Valid Accs: 0.84209 | Time: 441.48 seconds\n",
      "Epoch: 6 | Train Loss: 0.62582 | Valid Loss: 0.43327 | Train Accs: 0.78750 | Valid Accs: 0.84629 | Time: 432.10 seconds\n",
      "Epoch: 7 | Train Loss: 0.59500 | Valid Loss: 0.42966 | Train Accs: 0.79664 | Valid Accs: 0.84477 | Time: 428.48 seconds\n",
      "Epoch: 8 | Train Loss: 0.57038 | Valid Loss: 0.42992 | Train Accs: 0.80350 | Valid Accs: 0.84482 | Time: 428.88 seconds\n",
      "Epoch: 9 | Train Loss: 0.55448 | Valid Loss: 0.41563 | Train Accs: 0.80832 | Valid Accs: 0.84984 | Time: 427.26 seconds\n",
      "Epoch: 10 | Train Loss: 0.54620 | Valid Loss: 0.41620 | Train Accs: 0.81047 | Valid Accs: 0.84975 | Time: 431.05 seconds\n",
      "\n",
      "**************************************************\n",
      "\n",
      "Best Validation Loss at Epoch 9\n",
      "\n",
      "**************************************************\n",
      "\n",
      "Best Validation Accs at Epoch 9\n",
      "\n",
      "**************************************************\n",
      "\n",
      "Time Taken [10 Epochs] : 73.25 minutes\n",
      "\n",
      "**************************************************\n",
      "\n"
     ]
    },
    {
     "data": {
      "image/png": "[encoded data removed]",
      "text/plain": [
       "<Figure size 640x480 with 1 Axes>"
      ]
     },
     "metadata": {},
     "output_type": "display_data"
    },
    {
     "name": "stdout",
     "output_type": "stream",
     "text": [
      "\n",
      "**************************************************\n",
      "\n"
     ]
    },
    {
     "data": {
      "image/png": "[encoded data removed]",
      "text/plain": [
       "<Figure size 640x480 with 1 Axes>"
      ]
     },
     "metadata": {},
     "output_type": "display_data"
    },
    {
     "name": "stdout",
     "output_type": "stream",
     "text": [
      "\n",
      "**************************************************\n",
      "\n"
     ]
    },
    {
     "data": {
      "image/png": "[encoded data removed]",
      "text/plain": [
       "<Figure size 800x600 with 1 Axes>"
      ]
     },
     "metadata": {},
     "output_type": "display_data"
    },
    {
     "name": "stdout",
     "output_type": "stream",
     "text": [
      "\n",
      "**************************************************\n",
      "\n"
     ]
    }
   ],
   "source": [
    "fold: int = 1\n",
    "BLs: list = []\n",
    "BAs: list = []\n",
    "    \n",
    "cfg.batch_size = 64\n",
    "cfg.epochs = 10\n",
    "cfg.filter_sizes = [128, 256, 512]\n",
    "    \n",
    "for tr_idx, va_idx in StratifiedKFold(n_splits=cfg.n_splits, random_state=cfg.seed, shuffle=True).split(images, labels):\n",
    "    if fold == 5: break\n",
    "    fold += 1\n",
    "\n",
    "tr_images, va_images = images[tr_idx], images[va_idx] \n",
    "tr_labels, va_labels = labels[tr_idx], labels[va_idx]\n",
    "\n",
    "tr_data_setup = DS(\n",
    "    images=tr_images, \n",
    "    labels=tr_labels.reshape(-1, 1),\n",
    "    transform=cfg.train_transform\n",
    ")\n",
    "\n",
    "va_data_setup = DS(\n",
    "    images=va_images, \n",
    "    labels=va_labels.reshape(-1, 1),\n",
    "    transform=cfg.valid_transform\n",
    ")\n",
    "\n",
    "dataloaders = {\n",
    "    \"train\" : DL(tr_data_setup, batch_size=cfg.batch_size, shuffle=True, generator=torch.manual_seed(cfg.seed)),\n",
    "    \"valid\" : DL(va_data_setup, batch_size=cfg.batch_size, shuffle=False),\n",
    "}\n",
    "\n",
    "cfg.steps_per_epoch=len(dataloaders[\"train\"])\n",
    "    \n",
    "torch.manual_seed(cfg.seed)\n",
    "model = Model(filter_sizes=cfg.filter_sizes, HL=cfg.HL).to(cfg.device)\n",
    "\n",
    "optimizer = optim.Adam([p for p in model.parameters() if p.requires_grad], lr=cfg.lr, weight_decay=cfg.wd)\n",
    "# optimizer = optim.AdamW([p for p in model.parameters() if p.requires_grad], lr=cfg.lr, weight_decay=cfg.wd)\n",
    "# optimizer = optim.SGD([p for p in model.parameters() if p.requires_grad], lr=cfg.lr, weight_decay=cfg.wd, momentum=0.9)\n",
    "\n",
    "scheduler_oclr = optim.lr_scheduler.OneCycleLR(\n",
    "    optimizer=optimizer, \n",
    "    max_lr=cfg.max_lr, \n",
    "    epochs=cfg.epochs, \n",
    "    steps_per_epoch=cfg.steps_per_epoch,\n",
    "    pct_start=cfg.pct_start, \n",
    "    div_factor=cfg.div_factor, \n",
    "    final_div_factor=cfg.final_div_factor\n",
    ")\n",
    "\n",
    "# scheduler_rlrop = optim.lr_scheduler.ReduceLROnPlateau(\n",
    "#     optimizer=optimizer,\n",
    "#     patience=cfg.patience,\n",
    "#     eps=cfg.eps,\n",
    "#     verbose=True\n",
    "# )\n",
    "\n",
    "# scheduler_oclr = None\n",
    "scheduler_rlrop = None\n",
    "\n",
    "L, A, LR, BL, BA, _, _, _, _ = fit(\n",
    "    model=model, \n",
    "    optimizer=optimizer, \n",
    "    scheduler_oclr=scheduler_oclr,\n",
    "    scheduler_rlrop=scheduler_rlrop,\n",
    "    epochs=cfg.epochs, \n",
    "    early_stopping_patience=cfg.early_stopping, \n",
    "    dataloaders=dataloaders, \n",
    "    device=cfg.device,\n",
    "    save_path=cfg.save_path,\n",
    "    fold=fold,\n",
    "    verbose=True\n",
    ")\n",
    "\n",
    "\n",
    "breaker()\n",
    "show_loss_graphs(L)\n",
    "breaker()\n",
    "show_accuracy_graphs(A)\n",
    "breaker()\n",
    "if scheduler_oclr:\n",
    "    show_lr_graph(LR)\n",
    "    breaker()\n",
    "\n",
    "# BLs.append(BL)\n",
    "# BAs.append(BA)\n",
    "\n",
    "# fold += 1"
   ]
  },
  {
   "cell_type": "markdown",
   "id": "cba7402b",
   "metadata": {
    "papermill": {
     "duration": 0.007595,
     "end_time": "2023-03-13T05:53:05.792944",
     "exception": false,
     "start_time": "2023-03-13T05:53:05.785349",
     "status": "completed"
    },
    "tags": []
   },
   "source": [
    "### **Best Model**"
   ]
  },
  {
   "cell_type": "code",
   "execution_count": 9,
   "id": "93f229b8",
   "metadata": {
    "execution": {
     "iopub.execute_input": "2023-03-13T05:53:05.810502Z",
     "iopub.status.busy": "2023-03-13T05:53:05.809544Z",
     "iopub.status.idle": "2023-03-13T05:53:05.814579Z",
     "shell.execute_reply": "2023-03-13T05:53:05.813640Z"
    },
    "papermill": {
     "duration": 0.016895,
     "end_time": "2023-03-13T05:53:05.817668",
     "exception": false,
     "start_time": "2023-03-13T05:53:05.800773",
     "status": "completed"
    },
    "tags": []
   },
   "outputs": [],
   "source": [
    "# BL = np.inf\n",
    "# for i in range(len(BLs)):\n",
    "#     if BLs[i][\"valid\"] < BL:\n",
    "#         BL = BLs[i][\"valid\"]\n",
    "#         best_loss_index = i\n",
    "\n",
    "        \n",
    "# BA = 0.0\n",
    "# for i in range(len(BAs)):\n",
    "#     if BAs[i][\"valid\"] > BA:\n",
    "#         BA = BAs[i][\"valid\"]\n",
    "#         best_accs_index = i\n",
    "\n",
    "# breaker()\n",
    "# print(f\"Best Loss Model Fold     : {best_loss_index + 1}\")\n",
    "# print(f\"Best Accuracy Model Fold : {best_accs_index + 1}\")\n",
    "# breaker()"
   ]
  }
 ],
 "metadata": {
  "kernelspec": {
   "display_name": "Python 3",
   "language": "python",
   "name": "python3"
  },
  "language_info": {
   "codemirror_mode": {
    "name": "ipython",
    "version": 3
   },
   "file_extension": ".py",
   "mimetype": "text/x-python",
   "name": "python",
   "nbconvert_exporter": "python",
   "pygments_lexer": "ipython3",
   "version": "3.7.12"
  },
  "papermill": {
   "default_parameters": {},
   "duration": 4422.918914,
   "end_time": "2023-03-13T05:53:07.458599",
   "environment_variables": {},
   "exception": null,
   "input_path": "__notebook__.ipynb",
   "output_path": "__notebook__.ipynb",
   "parameters": {},
   "start_time": "2023-03-13T04:39:24.539685",
   "version": "2.4.0"
  }
 },
 "nbformat": 4,
 "nbformat_minor": 5
}
