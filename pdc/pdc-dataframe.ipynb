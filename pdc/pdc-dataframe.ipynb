{
 "cells": [
  {
   "cell_type": "code",
   "execution_count": 1,
   "id": "ba904457",
   "metadata": {
    "_cell_guid": "b1076dfc-b9ad-4769-8c92-a6c4dae69d19",
    "_uuid": "8f2839f25d086af736a60e9eeb907d3b93b6e0e5",
    "execution": {
     "iopub.execute_input": "2023-03-08T10:54:11.632970Z",
     "iopub.status.busy": "2023-03-08T10:54:11.632488Z",
     "iopub.status.idle": "2023-03-08T10:54:11.643149Z",
     "shell.execute_reply": "2023-03-08T10:54:11.642055Z"
    },
    "papermill": {
     "duration": 0.018536,
     "end_time": "2023-03-08T10:54:11.645886",
     "exception": false,
     "start_time": "2023-03-08T10:54:11.627350",
     "status": "completed"
    },
    "tags": []
   },
   "outputs": [],
   "source": [
    "import os\n",
    "import numpy as np\n",
    "import pandas as pd\n",
    "\n",
    "BASE_PATH: str = \"/kaggle/input/paddy-disease-classification/train_images\""
   ]
  },
  {
   "cell_type": "code",
   "execution_count": 2,
   "id": "36140a6c",
   "metadata": {
    "execution": {
     "iopub.execute_input": "2023-03-08T10:54:11.652239Z",
     "iopub.status.busy": "2023-03-08T10:54:11.651865Z",
     "iopub.status.idle": "2023-03-08T10:54:11.663128Z",
     "shell.execute_reply": "2023-03-08T10:54:11.662058Z"
    },
    "papermill": {
     "duration": 0.017051,
     "end_time": "2023-03-08T10:54:11.665515",
     "exception": false,
     "start_time": "2023-03-08T10:54:11.648464",
     "status": "completed"
    },
    "tags": []
   },
   "outputs": [],
   "source": [
    "LABELS: dict = {\n",
    "    0 : \"bacterial_leaf_blight\",\n",
    "    1 : \"bacterial_leaf_streak\",\n",
    "    2 : \"bacterial_panicle_blight\",\n",
    "    3 : \"blast\",\n",
    "    4 : \"brown_spot\",\n",
    "    5 : \"dead_heart\",\n",
    "    6 : \"downy_mildew\",\n",
    "    7 : \"hispa\",\n",
    "    8 : \"normal\",\n",
    "    9 : \"tungro\"\n",
    "}"
   ]
  },
  {
   "cell_type": "code",
   "execution_count": 3,
   "id": "788064eb",
   "metadata": {
    "execution": {
     "iopub.execute_input": "2023-03-08T10:54:11.671757Z",
     "iopub.status.busy": "2023-03-08T10:54:11.671374Z",
     "iopub.status.idle": "2023-03-08T10:54:11.720973Z",
     "shell.execute_reply": "2023-03-08T10:54:11.719753Z"
    },
    "papermill": {
     "duration": 0.055814,
     "end_time": "2023-03-08T10:54:11.723754",
     "exception": false,
     "start_time": "2023-03-08T10:54:11.667940",
     "status": "completed"
    },
    "tags": []
   },
   "outputs": [
    {
     "data": {
      "text/html": [
       "<div>\n",
       "<style scoped>\n",
       "    .dataframe tbody tr th:only-of-type {\n",
       "        vertical-align: middle;\n",
       "    }\n",
       "\n",
       "    .dataframe tbody tr th {\n",
       "        vertical-align: top;\n",
       "    }\n",
       "\n",
       "    .dataframe thead th {\n",
       "        text-align: right;\n",
       "    }\n",
       "</style>\n",
       "<table border=\"1\" class=\"dataframe\">\n",
       "  <thead>\n",
       "    <tr style=\"text-align: right;\">\n",
       "      <th></th>\n",
       "      <th>image_id</th>\n",
       "      <th>label</th>\n",
       "      <th>variety</th>\n",
       "      <th>age</th>\n",
       "    </tr>\n",
       "  </thead>\n",
       "  <tbody>\n",
       "    <tr>\n",
       "      <th>0</th>\n",
       "      <td>100330.jpg</td>\n",
       "      <td>bacterial_leaf_blight</td>\n",
       "      <td>ADT45</td>\n",
       "      <td>45</td>\n",
       "    </tr>\n",
       "    <tr>\n",
       "      <th>1</th>\n",
       "      <td>100365.jpg</td>\n",
       "      <td>bacterial_leaf_blight</td>\n",
       "      <td>ADT45</td>\n",
       "      <td>45</td>\n",
       "    </tr>\n",
       "    <tr>\n",
       "      <th>2</th>\n",
       "      <td>100382.jpg</td>\n",
       "      <td>bacterial_leaf_blight</td>\n",
       "      <td>ADT45</td>\n",
       "      <td>45</td>\n",
       "    </tr>\n",
       "    <tr>\n",
       "      <th>3</th>\n",
       "      <td>100632.jpg</td>\n",
       "      <td>bacterial_leaf_blight</td>\n",
       "      <td>ADT45</td>\n",
       "      <td>45</td>\n",
       "    </tr>\n",
       "    <tr>\n",
       "      <th>4</th>\n",
       "      <td>101918.jpg</td>\n",
       "      <td>bacterial_leaf_blight</td>\n",
       "      <td>ADT45</td>\n",
       "      <td>45</td>\n",
       "    </tr>\n",
       "  </tbody>\n",
       "</table>\n",
       "</div>"
      ],
      "text/plain": [
       "     image_id                  label variety  age\n",
       "0  100330.jpg  bacterial_leaf_blight   ADT45   45\n",
       "1  100365.jpg  bacterial_leaf_blight   ADT45   45\n",
       "2  100382.jpg  bacterial_leaf_blight   ADT45   45\n",
       "3  100632.jpg  bacterial_leaf_blight   ADT45   45\n",
       "4  101918.jpg  bacterial_leaf_blight   ADT45   45"
      ]
     },
     "execution_count": 3,
     "metadata": {},
     "output_type": "execute_result"
    }
   ],
   "source": [
    "tr_df = pd.read_csv(\"../input/paddy-disease-classification/train.csv\")\n",
    "tr_df.head(5)"
   ]
  },
  {
   "cell_type": "code",
   "execution_count": 4,
   "id": "5b486a0a",
   "metadata": {
    "execution": {
     "iopub.execute_input": "2023-03-08T10:54:11.730764Z",
     "iopub.status.busy": "2023-03-08T10:54:11.730079Z",
     "iopub.status.idle": "2023-03-08T10:54:11.956716Z",
     "shell.execute_reply": "2023-03-08T10:54:11.955794Z"
    },
    "papermill": {
     "duration": 0.233038,
     "end_time": "2023-03-08T10:54:11.959395",
     "exception": false,
     "start_time": "2023-03-08T10:54:11.726357",
     "status": "completed"
    },
    "tags": []
   },
   "outputs": [],
   "source": [
    "tr_labels = tr_df.label.copy().values\n",
    "filepaths_setup = [os.path.join(BASE_PATH, label) for label in tr_labels]\n",
    "tr_df[\"label_index\"] = [list(LABELS.keys())[list(LABELS.values()).index(label)] for label in tr_labels]   \n",
    "tr_df[\"filepaths\"] = [os.path.join(filepaths_setup[i], tr_df.image_id[i]) for i in range(tr_df.shape[0])] \n",
    "tr_df.to_csv(\"train.csv\", index=False)"
   ]
  },
  {
   "cell_type": "code",
   "execution_count": 5,
   "id": "e030169c",
   "metadata": {
    "execution": {
     "iopub.execute_input": "2023-03-08T10:54:11.966593Z",
     "iopub.status.busy": "2023-03-08T10:54:11.965896Z",
     "iopub.status.idle": "2023-03-08T10:54:11.997909Z",
     "shell.execute_reply": "2023-03-08T10:54:11.996929Z"
    },
    "papermill": {
     "duration": 0.038654,
     "end_time": "2023-03-08T10:54:12.000650",
     "exception": false,
     "start_time": "2023-03-08T10:54:11.961996",
     "status": "completed"
    },
    "tags": []
   },
   "outputs": [],
   "source": [
    "ss_df = pd.read_csv(\"/kaggle/input/paddy-disease-classification/sample_submission.csv\")\n",
    "ts_filepaths = [os.path.join(\"/kaggle/input/paddy-disease-classification/test_images\", filename) for filename in ss_df.image_id.copy().values]\n",
    "\n",
    "ts_df = pd.DataFrame(data=ts_filepaths, columns=[\"filepaths\"])\n",
    "ts_df.to_csv(\"test.csv\", index=False)"
   ]
  }
 ],
 "metadata": {
  "kernelspec": {
   "display_name": "Python 3",
   "language": "python",
   "name": "python3"
  },
  "language_info": {
   "codemirror_mode": {
    "name": "ipython",
    "version": 3
   },
   "file_extension": ".py",
   "mimetype": "text/x-python",
   "name": "python",
   "nbconvert_exporter": "python",
   "pygments_lexer": "ipython3",
   "version": "3.7.12"
  },
  "papermill": {
   "default_parameters": {},
   "duration": 10.615364,
   "end_time": "2023-03-08T10:54:12.625197",
   "environment_variables": {},
   "exception": null,
   "input_path": "__notebook__.ipynb",
   "output_path": "__notebook__.ipynb",
   "parameters": {},
   "start_time": "2023-03-08T10:54:02.009833",
   "version": "2.3.4"
  }
 },
 "nbformat": 4,
 "nbformat_minor": 5
}
