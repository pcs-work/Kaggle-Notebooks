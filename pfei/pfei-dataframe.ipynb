{
 "cells": [
  {
   "cell_type": "code",
   "execution_count": 1,
   "id": "914307a3",
   "metadata": {
    "_cell_guid": "b1076dfc-b9ad-4769-8c92-a6c4dae69d19",
    "_uuid": "8f2839f25d086af736a60e9eeb907d3b93b6e0e5",
    "execution": {
     "iopub.execute_input": "2023-09-09T18:54:24.841950Z",
     "iopub.status.busy": "2023-09-09T18:54:24.841382Z",
     "iopub.status.idle": "2023-09-09T18:54:26.721133Z",
     "shell.execute_reply": "2023-09-09T18:54:26.720309Z"
    },
    "papermill": {
     "duration": 1.887859,
     "end_time": "2023-09-09T18:54:26.723540",
     "exception": false,
     "start_time": "2023-09-09T18:54:24.835681",
     "status": "completed"
    },
    "tags": []
   },
   "outputs": [],
   "source": [
    "import os\n",
    "import cv2\n",
    "import json\n",
    "import numpy as np\n",
    "import pandas as pd\n",
    "\n",
    "from sklearn.model_selection import train_test_split\n",
    "\n",
    "BASE_PATH: str = \"/kaggle/input/pets-facial-expression-dataset\""
   ]
  },
  {
   "cell_type": "code",
   "execution_count": 2,
   "id": "16a59572",
   "metadata": {
    "execution": {
     "iopub.execute_input": "2023-09-09T18:54:26.733936Z",
     "iopub.status.busy": "2023-09-09T18:54:26.733405Z",
     "iopub.status.idle": "2023-09-09T18:54:26.959560Z",
     "shell.execute_reply": "2023-09-09T18:54:26.958547Z"
    },
    "papermill": {
     "duration": 0.233187,
     "end_time": "2023-09-09T18:54:26.962107",
     "exception": false,
     "start_time": "2023-09-09T18:54:26.728920",
     "status": "completed"
    },
    "tags": []
   },
   "outputs": [],
   "source": [
    "df: pd.DataFrame = pd.DataFrame(data=None, columns=[\"filepaths\", \"labels\"])\n",
    "    \n",
    "filepaths: list = []\n",
    "labels: list = []\n",
    "\n",
    "folders: list = sorted([folder for folder in os.listdir(f\"{BASE_PATH}\") if folder != \"Master Folder\"])\n",
    "    \n",
    "i: int = 0\n",
    "for folder in folders:\n",
    "    for filename in os.listdir(f\"{BASE_PATH}/{folder}\"):\n",
    "        if filename[-3:] != \"gif\":\n",
    "            filepaths.append(os.path.join(f\"{BASE_PATH}/{folder}\", filename))\n",
    "            labels.append(i)\n",
    "    i += 1\n",
    "\n",
    "df.filepaths = filepaths\n",
    "df.labels = labels\n",
    "df.to_csv(\"full.csv\", index=False)"
   ]
  },
  {
   "cell_type": "code",
   "execution_count": 3,
   "id": "44971026",
   "metadata": {
    "execution": {
     "iopub.execute_input": "2023-09-09T18:54:26.970253Z",
     "iopub.status.busy": "2023-09-09T18:54:26.969892Z",
     "iopub.status.idle": "2023-09-09T18:54:26.988667Z",
     "shell.execute_reply": "2023-09-09T18:54:26.987603Z"
    },
    "papermill": {
     "duration": 0.026365,
     "end_time": "2023-09-09T18:54:26.991747",
     "exception": false,
     "start_time": "2023-09-09T18:54:26.965382",
     "status": "completed"
    },
    "tags": []
   },
   "outputs": [],
   "source": [
    "tr_filepaths, ts_filepaths, tr_labels, ts_labels = train_test_split(\n",
    "    filepaths,\n",
    "    labels,\n",
    "    test_size=0.2, \n",
    "    random_state=0,\n",
    "    shuffle=True,\n",
    "    stratify=labels,\n",
    ")\n",
    "\n",
    "tr_df: pd.DataFrame = pd.DataFrame(data=None, columns=[\"filepaths\", \"labels\"])\n",
    "ts_df: pd.DataFrame = pd.DataFrame(data=None, columns=[\"filepaths\", \"labels\"])\n",
    "\n",
    "tr_df.filepaths = tr_filepaths\n",
    "tr_df.labels = tr_labels\n",
    "tr_df.to_csv(\"train.csv\", index=False)\n",
    "\n",
    "ts_df.filepaths = ts_filepaths\n",
    "ts_df.labels = ts_labels\n",
    "ts_df.to_csv(\"test.csv\", index=False)"
   ]
  },
  {
   "cell_type": "code",
   "execution_count": 4,
   "id": "68315692",
   "metadata": {
    "execution": {
     "iopub.execute_input": "2023-09-09T18:54:27.000293Z",
     "iopub.status.busy": "2023-09-09T18:54:26.999934Z",
     "iopub.status.idle": "2023-09-09T18:54:27.005638Z",
     "shell.execute_reply": "2023-09-09T18:54:27.004625Z"
    },
    "papermill": {
     "duration": 0.012605,
     "end_time": "2023-09-09T18:54:27.007785",
     "exception": false,
     "start_time": "2023-09-09T18:54:26.995180",
     "status": "completed"
    },
    "tags": []
   },
   "outputs": [],
   "source": [
    "labels: dict = dict()\n",
    "\n",
    "i = 0\n",
    "for folder in folders:\n",
    "    labels[i] = folder.title()\n",
    "    i += 1\n",
    "\n",
    "json.dump(labels, open(\"labels.json\", \"w\"))"
   ]
  }
 ],
 "kernelspec": {
  "display_name": "Python 3",
  "language": "python",
  "name": "python3"
 },
 "language_info": {
  "codemirror_mode": {
   "name": "ipython",
   "version": 3
  },
  "file_extension": ".py",
  "mimetype": "text/x-python",
  "name": "python",
  "nbconvert_exporter": "python",
  "pygments_lexer": "ipython3",
  "version": "3.6.4"
 },
 "metadata": {
  "kernelspec": {
   "display_name": "Python 3",
   "language": "python",
   "name": "python3"
  },
  "language_info": {
   "codemirror_mode": {
    "name": "ipython",
    "version": 3
   },
   "file_extension": ".py",
   "mimetype": "text/x-python",
   "name": "python",
   "nbconvert_exporter": "python",
   "pygments_lexer": "ipython3",
   "version": "3.10.12"
  },
  "papermill": {
   "default_parameters": {},
   "duration": 6.035721,
   "end_time": "2023-09-09T18:54:27.631343",
   "environment_variables": {},
   "exception": null,
   "input_path": "__notebook__.ipynb",
   "output_path": "__notebook__.ipynb",
   "parameters": {},
   "start_time": "2023-09-09T18:54:21.595622",
   "version": "2.4.0"
  }
 },
 "nbformat": 4,
 "nbformat_minor": 5
}
