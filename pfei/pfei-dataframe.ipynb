{
 "cells": [
  {
   "cell_type": "code",
   "execution_count": 1,
   "id": "886dd9f5",
   "metadata": {
    "_cell_guid": "b1076dfc-b9ad-4769-8c92-a6c4dae69d19",
    "_uuid": "8f2839f25d086af736a60e9eeb907d3b93b6e0e5",
    "execution": {
     "iopub.execute_input": "2023-09-09T18:50:40.494580Z",
     "iopub.status.busy": "2023-09-09T18:50:40.493531Z",
     "iopub.status.idle": "2023-09-09T18:50:42.274438Z",
     "shell.execute_reply": "2023-09-09T18:50:42.273220Z"
    },
    "papermill": {
     "duration": 1.790403,
     "end_time": "2023-09-09T18:50:42.277238",
     "exception": false,
     "start_time": "2023-09-09T18:50:40.486835",
     "status": "completed"
    },
    "tags": []
   },
   "outputs": [],
   "source": [
    "import os\n",
    "import cv2\n",
    "import json\n",
    "import numpy as np\n",
    "import pandas as pd\n",
    "\n",
    "from sklearn.model_selection import train_test_split\n",
    "\n",
    "BASE_PATH: str = \"/kaggle/input/pets-facial-expression-dataset\""
   ]
  },
  {
   "cell_type": "code",
   "execution_count": 2,
   "id": "26333324",
   "metadata": {
    "execution": {
     "iopub.execute_input": "2023-09-09T18:50:42.289107Z",
     "iopub.status.busy": "2023-09-09T18:50:42.288545Z",
     "iopub.status.idle": "2023-09-09T18:50:42.706723Z",
     "shell.execute_reply": "2023-09-09T18:50:42.705746Z"
    },
    "papermill": {
     "duration": 0.426,
     "end_time": "2023-09-09T18:50:42.709388",
     "exception": false,
     "start_time": "2023-09-09T18:50:42.283388",
     "status": "completed"
    },
    "tags": []
   },
   "outputs": [],
   "source": [
    "df: pd.DataFrame = pd.DataFrame(data=None, columns=[\"filepaths\", \"labels\"])\n",
    "    \n",
    "filepaths: list = []\n",
    "labels: list = []\n",
    "\n",
    "folders: list = sorted([folder for folder in os.listdir(f\"{BASE_PATH}\") if folder != \"Master Folder\"])\n",
    "    \n",
    "i: int = 0\n",
    "for folder in folders:\n",
    "    for filename in os.listdir(f\"{BASE_PATH}/{folder}\"):\n",
    "        if filename[-3:] != \"gif\":\n",
    "            filepaths.append(os.path.join(f\"{BASE_PATH}/{folder}\", filename))\n",
    "            labels.append(i)\n",
    "    i += 1\n",
    "\n",
    "df.filepaths = filepaths\n",
    "df.labels = labels\n",
    "df.to_csv(\"full.csv\", index=False)"
   ]
  },
  {
   "cell_type": "code",
   "execution_count": 3,
   "id": "a0c82d23",
   "metadata": {
    "execution": {
     "iopub.execute_input": "2023-09-09T18:50:42.718692Z",
     "iopub.status.busy": "2023-09-09T18:50:42.718366Z",
     "iopub.status.idle": "2023-09-09T18:50:42.739408Z",
     "shell.execute_reply": "2023-09-09T18:50:42.738475Z"
    },
    "papermill": {
     "duration": 0.028006,
     "end_time": "2023-09-09T18:50:42.741561",
     "exception": false,
     "start_time": "2023-09-09T18:50:42.713555",
     "status": "completed"
    },
    "tags": []
   },
   "outputs": [],
   "source": [
    "tr_filepaths, va_filepaths, tr_labels, va_labels = train_test_split(\n",
    "    filepaths,\n",
    "    labels,\n",
    "    test_size=0.2, \n",
    "    random_state=0,\n",
    "    shuffle=True,\n",
    "    stratify=labels,\n",
    ")\n",
    "\n",
    "tr_df: pd.DataFrame = pd.DataFrame(data=None, columns=[\"filepaths\", \"labels\"])\n",
    "va_df: pd.DataFrame = pd.DataFrame(data=None, columns=[\"filepaths\", \"labels\"])\n",
    "\n",
    "tr_df.filepaths = tr_filepaths\n",
    "tr_df.labels = tr_labels\n",
    "tr_df.to_csv(\"train.csv\", index=False)\n",
    "\n",
    "va_df.filepaths = va_filepaths\n",
    "va_df.labels = va_labels\n",
    "va_df.to_csv(\"valid.csv\", index=False)"
   ]
  },
  {
   "cell_type": "code",
   "execution_count": 4,
   "id": "109455fa",
   "metadata": {
    "execution": {
     "iopub.execute_input": "2023-09-09T18:50:42.750900Z",
     "iopub.status.busy": "2023-09-09T18:50:42.749948Z",
     "iopub.status.idle": "2023-09-09T18:50:42.756579Z",
     "shell.execute_reply": "2023-09-09T18:50:42.755897Z"
    },
    "papermill": {
     "duration": 0.0132,
     "end_time": "2023-09-09T18:50:42.758735",
     "exception": false,
     "start_time": "2023-09-09T18:50:42.745535",
     "status": "completed"
    },
    "tags": []
   },
   "outputs": [],
   "source": [
    "labels: dict = dict()\n",
    "\n",
    "i = 0\n",
    "for folder in sorted(os.listdir(f\"{BASE_PATH}\")):\n",
    "    labels[i] = folder.title()\n",
    "    i += 1\n",
    "\n",
    "json.dump(labels, open(\"labels.json\", \"w\"))"
   ]
  }
 ],
 "kernelspec": {
  "display_name": "Python 3",
  "language": "python",
  "name": "python3"
 },
 "language_info": {
  "codemirror_mode": {
   "name": "ipython",
   "version": 3
  },
  "file_extension": ".py",
  "mimetype": "text/x-python",
  "name": "python",
  "nbconvert_exporter": "python",
  "pygments_lexer": "ipython3",
  "version": "3.6.4"
 },
 "metadata": {
  "kernelspec": {
   "display_name": "Python 3",
   "language": "python",
   "name": "python3"
  },
  "language_info": {
   "codemirror_mode": {
    "name": "ipython",
    "version": 3
   },
   "file_extension": ".py",
   "mimetype": "text/x-python",
   "name": "python",
   "nbconvert_exporter": "python",
   "pygments_lexer": "ipython3",
   "version": "3.10.12"
  },
  "papermill": {
   "default_parameters": {},
   "duration": 6.278263,
   "end_time": "2023-09-09T18:50:43.282391",
   "environment_variables": {},
   "exception": null,
   "input_path": "__notebook__.ipynb",
   "output_path": "__notebook__.ipynb",
   "parameters": {},
   "start_time": "2023-09-09T18:50:37.004128",
   "version": "2.4.0"
  }
 },
 "nbformat": 4,
 "nbformat_minor": 5
}
