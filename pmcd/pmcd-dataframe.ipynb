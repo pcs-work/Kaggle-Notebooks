{
 "cells": [
  {
   "cell_type": "code",
   "execution_count": 1,
   "id": "be151cdd",
   "metadata": {
    "_cell_guid": "b1076dfc-b9ad-4769-8c92-a6c4dae69d19",
    "_uuid": "8f2839f25d086af736a60e9eeb907d3b93b6e0e5",
    "execution": {
     "iopub.execute_input": "2023-03-12T13:10:50.271873Z",
     "iopub.status.busy": "2023-03-12T13:10:50.271410Z",
     "iopub.status.idle": "2023-03-12T13:10:50.282393Z",
     "shell.execute_reply": "2023-03-12T13:10:50.281471Z"
    },
    "papermill": {
     "duration": 0.018299,
     "end_time": "2023-03-12T13:10:50.285135",
     "exception": false,
     "start_time": "2023-03-12T13:10:50.266836",
     "status": "completed"
    },
    "tags": []
   },
   "outputs": [],
   "source": [
    "import os\n",
    "import json\n",
    "import numpy as np\n",
    "import pandas as pd\n",
    "\n",
    "BASE_PATH: str = \"/kaggle/input/pathaan-movie-characters-dataset/PATHAN\""
   ]
  },
  {
   "cell_type": "code",
   "execution_count": 2,
   "id": "46e1b633",
   "metadata": {
    "execution": {
     "iopub.execute_input": "2023-03-12T13:10:50.290984Z",
     "iopub.status.busy": "2023-03-12T13:10:50.290611Z",
     "iopub.status.idle": "2023-03-12T13:10:50.782878Z",
     "shell.execute_reply": "2023-03-12T13:10:50.781930Z"
    },
    "papermill": {
     "duration": 0.498205,
     "end_time": "2023-03-12T13:10:50.785540",
     "exception": false,
     "start_time": "2023-03-12T13:10:50.287335",
     "status": "completed"
    },
    "tags": []
   },
   "outputs": [],
   "source": [
    "df = pd.DataFrame(data=None, columns=[\"filepaths\", \"labels\"])\n",
    "\n",
    "filepaths: list = []\n",
    "labels: list = []\n",
    "\n",
    "i: int = 0\n",
    "for folder in sorted(os.listdir(f\"{BASE_PATH}\")):\n",
    "    for filename in os.listdir(f\"{BASE_PATH}/{folder}\"):\n",
    "        filepaths.append(os.path.join(f\"{BASE_PATH}/{folder}\", filename))\n",
    "        labels.append(i)\n",
    "    i += 1\n",
    "                                                        \n",
    "df.filepaths = filepaths\n",
    "df.labels = labels\n",
    "df.to_csv(\"train.csv\", index=False)"
   ]
  },
  {
   "cell_type": "code",
   "execution_count": 3,
   "id": "e51a5860",
   "metadata": {
    "execution": {
     "iopub.execute_input": "2023-03-12T13:10:50.791287Z",
     "iopub.status.busy": "2023-03-12T13:10:50.790521Z",
     "iopub.status.idle": "2023-03-12T13:10:50.797813Z",
     "shell.execute_reply": "2023-03-12T13:10:50.796945Z"
    },
    "papermill": {
     "duration": 0.012812,
     "end_time": "2023-03-12T13:10:50.800302",
     "exception": false,
     "start_time": "2023-03-12T13:10:50.787490",
     "status": "completed"
    },
    "tags": []
   },
   "outputs": [],
   "source": [
    "labels: dict = dict()\n",
    "\n",
    "i = 0\n",
    "for folder in sorted(os.listdir(f\"{BASE_PATH}\")):\n",
    "    labels[i] = folder\n",
    "    i += 1\n",
    "\n",
    "json.dump(labels, open(\"labels.json\", \"w\"))"
   ]
  }
 ],
 "metadata": {
  "kernelspec": {
   "display_name": "Python 3",
   "language": "python",
   "name": "python3"
  },
  "language_info": {
   "codemirror_mode": {
    "name": "ipython",
    "version": 3
   },
   "file_extension": ".py",
   "mimetype": "text/x-python",
   "name": "python",
   "nbconvert_exporter": "python",
   "pygments_lexer": "ipython3",
   "version": "3.7.12"
  },
  "papermill": {
   "default_parameters": {},
   "duration": 12.588216,
   "end_time": "2023-03-12T13:10:51.524897",
   "environment_variables": {},
   "exception": null,
   "input_path": "__notebook__.ipynb",
   "output_path": "__notebook__.ipynb",
   "parameters": {},
   "start_time": "2023-03-12T13:10:38.936681",
   "version": "2.4.0"
  }
 },
 "nbformat": 4,
 "nbformat_minor": 5
}
