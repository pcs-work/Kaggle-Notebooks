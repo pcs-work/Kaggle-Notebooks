{
 "cells": [
  {
   "cell_type": "code",
   "execution_count": 1,
   "id": "19570ddf",
   "metadata": {
    "_cell_guid": "b1076dfc-b9ad-4769-8c92-a6c4dae69d19",
    "_uuid": "8f2839f25d086af736a60e9eeb907d3b93b6e0e5",
    "execution": {
     "iopub.execute_input": "2023-03-22T10:51:07.387473Z",
     "iopub.status.busy": "2023-03-22T10:51:07.387087Z",
     "iopub.status.idle": "2023-03-22T10:51:07.396834Z",
     "shell.execute_reply": "2023-03-22T10:51:07.395881Z"
    },
    "papermill": {
     "duration": 0.016835,
     "end_time": "2023-03-22T10:51:07.399377",
     "exception": false,
     "start_time": "2023-03-22T10:51:07.382542",
     "status": "completed"
    },
    "tags": []
   },
   "outputs": [],
   "source": [
    "import os\n",
    "import json\n",
    "import numpy as np\n",
    "import pandas as pd\n",
    "\n",
    "BASE_PATH: str = \"/kaggle/input/sea-animals-image-dataste\""
   ]
  },
  {
   "cell_type": "code",
   "execution_count": 2,
   "id": "2e2bf6e2",
   "metadata": {
    "execution": {
     "iopub.execute_input": "2023-03-22T10:51:07.404413Z",
     "iopub.status.busy": "2023-03-22T10:51:07.404062Z",
     "iopub.status.idle": "2023-03-22T10:51:13.235116Z",
     "shell.execute_reply": "2023-03-22T10:51:13.233845Z"
    },
    "papermill": {
     "duration": 5.836729,
     "end_time": "2023-03-22T10:51:13.238048",
     "exception": false,
     "start_time": "2023-03-22T10:51:07.401319",
     "status": "completed"
    },
    "tags": []
   },
   "outputs": [],
   "source": [
    "df: pd.DataFrame = pd.DataFrame(data=None, columns=[\"filepaths\", \"labels\"])\n",
    "    \n",
    "filepaths: list = []\n",
    "labels: list = []\n",
    "    \n",
    "i: int = 0\n",
    "for folder in sorted(os.listdir(f\"{BASE_PATH}\")):\n",
    "    for filename in os.listdir(f\"{BASE_PATH}/{folder}\"):\n",
    "        filepaths.append(os.path.join(f\"{BASE_PATH}/{folder}\", filename))\n",
    "        labels.append(i)\n",
    "    i += 1\n",
    "    \n",
    "df.filepaths = filepaths\n",
    "df.labels = labels\n",
    "df.to_csv(\"train.csv\", index=False)\n",
    "\n",
    "labels: dict = dict()\n",
    "i = 0\n",
    "for folder in sorted(os.listdir(f\"{BASE_PATH}\")):\n",
    "    labels[i] = folder\n",
    "    i += 1\n",
    "json.dump(labels, open(\"labels.json\", \"w\"))"
   ]
  }
 ],
 "metadata": {
  "kernelspec": {
   "display_name": "Python 3",
   "language": "python",
   "name": "python3"
  },
  "language_info": {
   "codemirror_mode": {
    "name": "ipython",
    "version": 3
   },
   "file_extension": ".py",
   "mimetype": "text/x-python",
   "name": "python",
   "nbconvert_exporter": "python",
   "pygments_lexer": "ipython3",
   "version": "3.7.12"
  },
  "papermill": {
   "default_parameters": {},
   "duration": 17.310189,
   "end_time": "2023-03-22T10:51:13.962579",
   "environment_variables": {},
   "exception": null,
   "input_path": "__notebook__.ipynb",
   "output_path": "__notebook__.ipynb",
   "parameters": {},
   "start_time": "2023-03-22T10:50:56.652390",
   "version": "2.4.0"
  }
 },
 "nbformat": 4,
 "nbformat_minor": 5
}
