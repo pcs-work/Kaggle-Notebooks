{
 "cells": [
  {
   "cell_type": "code",
   "execution_count": 1,
   "id": "cdd878ce",
   "metadata": {
    "_cell_guid": "b1076dfc-b9ad-4769-8c92-a6c4dae69d19",
    "_uuid": "8f2839f25d086af736a60e9eeb907d3b93b6e0e5",
    "execution": {
     "iopub.execute_input": "2023-03-23T08:16:26.747024Z",
     "iopub.status.busy": "2023-03-23T08:16:26.746470Z",
     "iopub.status.idle": "2023-03-23T08:16:38.203649Z",
     "shell.execute_reply": "2023-03-23T08:16:38.202182Z"
    },
    "papermill": {
     "duration": 11.467129,
     "end_time": "2023-03-23T08:16:38.206400",
     "exception": false,
     "start_time": "2023-03-23T08:16:26.739271",
     "status": "completed"
    },
    "tags": []
   },
   "outputs": [
    {
     "name": "stderr",
     "output_type": "stream",
     "text": [
      "WARNING: Running pip as the 'root' user can result in broken permissions and conflicting behaviour with the system package manager. It is recommended to use a virtual environment instead: https://pip.pypa.io/warnings/venv\n"
     ]
    }
   ],
   "source": [
    "%%bash\n",
    "pip install timm onnx onnxruntime -q"
   ]
  },
  {
   "cell_type": "code",
   "execution_count": 2,
   "id": "fe0367a8",
   "metadata": {
    "execution": {
     "iopub.execute_input": "2023-03-23T08:16:38.214429Z",
     "iopub.status.busy": "2023-03-23T08:16:38.213341Z",
     "iopub.status.idle": "2023-03-23T08:16:42.031385Z",
     "shell.execute_reply": "2023-03-23T08:16:42.030188Z"
    },
    "papermill": {
     "duration": 3.82478,
     "end_time": "2023-03-23T08:16:42.034101",
     "exception": false,
     "start_time": "2023-03-23T08:16:38.209321",
     "status": "completed"
    },
    "tags": []
   },
   "outputs": [],
   "source": [
    "import os\n",
    "import sys\n",
    "import cv2\n",
    "import json\n",
    "import onnx\n",
    "import timm\n",
    "import torch\n",
    "import random as r\n",
    "import numpy as np\n",
    "import pandas as pd\n",
    "import onnxruntime as ort\n",
    "import matplotlib.pyplot as plt\n",
    "\n",
    "from typing import Union\n",
    "from torchvision import models\n",
    "from IPython.display import clear_output\n",
    "\n",
    "import warnings\n",
    "warnings.filterwarnings(\"ignore\")\n",
    "\n",
    "if not os.path.exists(\"onnx\"): os.makedirs(\"onnx\")\n",
    "    \n",
    "ort.set_default_logger_severity(3)"
   ]
  },
  {
   "cell_type": "code",
   "execution_count": 3,
   "id": "98122af6",
   "metadata": {
    "execution": {
     "iopub.execute_input": "2023-03-23T08:16:42.041482Z",
     "iopub.status.busy": "2023-03-23T08:16:42.041108Z",
     "iopub.status.idle": "2023-03-23T08:16:42.059605Z",
     "shell.execute_reply": "2023-03-23T08:16:42.058507Z"
    },
    "papermill": {
     "duration": 0.025204,
     "end_time": "2023-03-23T08:16:42.062149",
     "exception": false,
     "start_time": "2023-03-23T08:16:42.036945",
     "status": "completed"
    },
    "tags": []
   },
   "outputs": [],
   "source": [
    "labels: dict = json.load(open(\"/kaggle/input/sa-dataframe/labels.json\", \"r\"))\n",
    "    \n",
    "    \n",
    "def breaker() -> None:\n",
    "    print(\"\\n\" + 50*\"*\" + \"\\n\")\n",
    "\n",
    "\n",
    "def get_image(path: str) -> np.ndarray:\n",
    "    image = cv2.imread(path, cv2.IMREAD_COLOR)\n",
    "    image = cv2.cvtColor(src=image, code=cv2.COLOR_BGR2RGB)\n",
    "    return cv2.resize(src=image, dsize=(224, 224), interpolation=cv2.INTER_AREA)\n",
    "\n",
    "\n",
    "def show_image(\n",
    "    image: np.ndarray, \n",
    "    cmap: str=\"gnuplot2\", \n",
    "    title: Union[str, None]=None\n",
    ") -> None:\n",
    "    plt.figure()\n",
    "    plt.imshow(image, cmap=cmap)\n",
    "    plt.axis(\"off\")\n",
    "    if title: plt.title(title)\n",
    "    plt.show()"
   ]
  },
  {
   "cell_type": "code",
   "execution_count": 4,
   "id": "0e328868",
   "metadata": {
    "execution": {
     "iopub.execute_input": "2023-03-23T08:16:42.069392Z",
     "iopub.status.busy": "2023-03-23T08:16:42.069021Z",
     "iopub.status.idle": "2023-03-23T08:16:42.077508Z",
     "shell.execute_reply": "2023-03-23T08:16:42.076442Z"
    },
    "papermill": {
     "duration": 0.014847,
     "end_time": "2023-03-23T08:16:42.079919",
     "exception": false,
     "start_time": "2023-03-23T08:16:42.065072",
     "status": "completed"
    },
    "tags": []
   },
   "outputs": [],
   "source": [
    "class Model(torch.nn.Module):\n",
    "    def __init__(self):\n",
    "        super(Model, self).__init__()\n",
    "        \n",
    "        self.model = timm.create_model(model_name=\"efficientnet_b4\", pretrained=False)\n",
    "        self.model.classifier = torch.nn.Linear(in_features=self.model.classifier.in_features, out_features=23)\n",
    "\n",
    "    def forward(self, x):\n",
    "        return self.model(x)\n",
    "\n",
    "    \n",
    "class CFG(object):  \n",
    "    def __init__(\n",
    "        self, \n",
    "        in_channels: int=3, \n",
    "        size: int=256, \n",
    "        opset_version: int=9, \n",
    "        path: str=None\n",
    "    ):\n",
    "        self.in_channels = in_channels\n",
    "        self.size = size\n",
    "        self.dummy = torch.randn(1, self.in_channels, self.size, self.size)\n",
    "        self.opset_version = opset_version\n",
    "        self.path = path"
   ]
  },
  {
   "cell_type": "code",
   "execution_count": 5,
   "id": "dadbf5a4",
   "metadata": {
    "execution": {
     "iopub.execute_input": "2023-03-23T08:16:42.087374Z",
     "iopub.status.busy": "2023-03-23T08:16:42.086313Z",
     "iopub.status.idle": "2023-03-23T08:16:57.023803Z",
     "shell.execute_reply": "2023-03-23T08:16:57.022826Z"
    },
    "papermill": {
     "duration": 14.943618,
     "end_time": "2023-03-23T08:16:57.026350",
     "exception": false,
     "start_time": "2023-03-23T08:16:42.082732",
     "status": "completed"
    },
    "tags": []
   },
   "outputs": [],
   "source": [
    "for v in [\"a\", \"l\"]:\n",
    "    cfg = CFG(\n",
    "        in_channels=3, \n",
    "        size=224, \n",
    "        opset_version=15, \n",
    "        path=f\"/kaggle/input/sa-en4-a224-e10-f4/saves/b{v}e_state_fold_4.pt\"\n",
    "    )\n",
    "\n",
    "    model = Model()\n",
    "    model.load_state_dict(torch.load(cfg.path, map_location=torch.device(\"cpu\"))[\"model_state_dict\"])\n",
    "    model.eval()\n",
    "\n",
    "    clear_output()\n",
    "\n",
    "    torch.onnx.export(\n",
    "        model=model, \n",
    "        args=cfg.dummy, \n",
    "        f=f\"onnx/b{v}e_model_f4.onnx\", \n",
    "        input_names=[\"input\"], \n",
    "        output_names=[\"output\"], \n",
    "        opset_version=cfg.opset_version,\n",
    "        export_params=True,\n",
    "        training=torch.onnx.TrainingMode.EVAL,\n",
    "        operator_export_type=torch.onnx.OperatorExportTypes.ONNX_ATEN_FALLBACK,\n",
    "        dynamic_axes={\n",
    "          \"input\"  : {0 : \"batch_size\"},\n",
    "          \"output\" : {0 : \"batch_size\"},\n",
    "        }\n",
    "    )"
   ]
  },
  {
   "cell_type": "code",
   "execution_count": 6,
   "id": "172a29fc",
   "metadata": {
    "execution": {
     "iopub.execute_input": "2023-03-23T08:16:57.033859Z",
     "iopub.status.busy": "2023-03-23T08:16:57.033490Z",
     "iopub.status.idle": "2023-03-23T08:16:57.045190Z",
     "shell.execute_reply": "2023-03-23T08:16:57.043858Z"
    },
    "papermill": {
     "duration": 0.017837,
     "end_time": "2023-03-23T08:16:57.047490",
     "exception": false,
     "start_time": "2023-03-23T08:16:57.029653",
     "status": "completed"
    },
    "tags": []
   },
   "outputs": [],
   "source": [
    "class OnnxModel(object):\n",
    "    def __init__(self, path: str) -> None:\n",
    "        self.size: int = 224\n",
    "        \n",
    "        self.mean: list = [0.32303, 0.40858, 0.42039]\n",
    "        self.std: list  = [0.18095, 0.18343, 0.18153]\n",
    "        \n",
    "        self.path: str = path\n",
    "    \n",
    "        model = onnx.load(self.path)\n",
    "        onnx.checker.check_model(model)\n",
    "        self.ort_session = ort.InferenceSession(self.path)\n",
    "        \n",
    "    def infer(self, image: np.ndarray, labels: dict) -> np.ndarray:\n",
    "        image = image / 255\n",
    "        image = cv2.resize(src=image, dsize=(self.size, self.size), interpolation=cv2.INTER_AREA).transpose(2, 0, 1)\n",
    "        for i in range(image.shape[0]): image[i, :, :] = (image[i, :, :] - self.mean[i]) / self.std[i]\n",
    "        image = np.expand_dims(image, axis=0)\n",
    "        inputs = {self.ort_session.get_inputs()[0].name: image.astype(\"float32\")}\n",
    "        result = self.ort_session.run(None, inputs)\n",
    "        odds = np.exp(np.max(result))\n",
    "        return labels[str(np.argmax(result))].title(), odds / (1 + odds)"
   ]
  },
  {
   "cell_type": "code",
   "execution_count": 7,
   "id": "cd500e6a",
   "metadata": {
    "execution": {
     "iopub.execute_input": "2023-03-23T08:16:57.055289Z",
     "iopub.status.busy": "2023-03-23T08:16:57.054916Z",
     "iopub.status.idle": "2023-03-23T08:17:00.292316Z",
     "shell.execute_reply": "2023-03-23T08:17:00.290933Z"
    },
    "papermill": {
     "duration": 3.244133,
     "end_time": "2023-03-23T08:17:00.294993",
     "exception": false,
     "start_time": "2023-03-23T08:16:57.050860",
     "status": "completed"
    },
    "tags": []
   },
   "outputs": [
    {
     "name": "stdout",
     "output_type": "stream",
     "text": [
      "\n",
      "**************************************************\n",
      "\n",
      "BAE_MODEL_F4.ONNX\n",
      "\n",
      "Sea Urchins, Sea Urchins\n",
      "Shrimp, Seahorse\n",
      "Dolphin, Dolphin\n",
      "Dolphin, Dolphin\n",
      "Turtle_Tortoise, Turtle_Tortoise\n",
      "Crabs, Crabs\n",
      "Fish, Fish\n",
      "Octopus, Corals\n",
      "Jelly Fish, Jelly Fish\n",
      "\n",
      "**************************************************\n",
      "\n",
      "BLE_MODEL_F4.ONNX\n",
      "\n",
      "Whale, Whale\n",
      "Jelly Fish, Jelly Fish\n",
      "Octopus, Octopus\n",
      "Crabs, Crabs\n",
      "Clams, Clams\n",
      "Penguin, Penguin\n",
      "Eel, Eel\n",
      "Lobster, Lobster\n",
      "Turtle_Tortoise, Turtle_Tortoise\n",
      "\n",
      "**************************************************\n",
      "\n"
     ]
    }
   ],
   "source": [
    "df = pd.read_csv(\"/kaggle/input/sa-dataframe/train.csv\")\n",
    "\n",
    "breaker()\n",
    "for model_name in sorted(os.listdir(\"onnx\")):\n",
    "    \n",
    "    onnx_model = OnnxModel(f\"onnx/{model_name}\")\n",
    "    \n",
    "    print(f\"{model_name.upper()}\\n\")\n",
    "    \n",
    "    for i in range(9):\n",
    "        index = r.randint(0, len(df)-1)\n",
    "        filepath = df.iloc[index, 0]\n",
    "        y_true   = df.iloc[index, 1]\n",
    "\n",
    "        image = get_image(filepath)\n",
    "\n",
    "        y_pred, _ = onnx_model.infer(image, labels)\n",
    "        \n",
    "        print(f\"{labels[str(y_true)].title()}, {y_pred}\")\n",
    "        # show_image(image, title=y_pred)\n",
    "\n",
    "    breaker()"
   ]
  }
 ],
 "metadata": {
  "kernelspec": {
   "display_name": "Python 3",
   "language": "python",
   "name": "python3"
  },
  "language_info": {
   "codemirror_mode": {
    "name": "ipython",
    "version": 3
   },
   "file_extension": ".py",
   "mimetype": "text/x-python",
   "name": "python",
   "nbconvert_exporter": "python",
   "pygments_lexer": "ipython3",
   "version": "3.7.12"
  },
  "papermill": {
   "default_parameters": {},
   "duration": 44.149996,
   "end_time": "2023-03-23T08:17:01.523008",
   "environment_variables": {},
   "exception": null,
   "input_path": "__notebook__.ipynb",
   "output_path": "__notebook__.ipynb",
   "parameters": {},
   "start_time": "2023-03-23T08:16:17.373012",
   "version": "2.4.0"
  }
 },
 "nbformat": 4,
 "nbformat_minor": 5
}
