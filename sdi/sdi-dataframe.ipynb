{
 "cells": [
  {
   "cell_type": "code",
   "execution_count": 1,
   "id": "e9dcddb0",
   "metadata": {
    "_cell_guid": "b1076dfc-b9ad-4769-8c92-a6c4dae69d19",
    "_uuid": "8f2839f25d086af736a60e9eeb907d3b93b6e0e5",
    "execution": {
     "iopub.execute_input": "2023-12-21T06:38:11.381468Z",
     "iopub.status.busy": "2023-12-21T06:38:11.380762Z",
     "iopub.status.idle": "2023-12-21T06:38:13.564535Z",
     "shell.execute_reply": "2023-12-21T06:38:13.563403Z"
    },
    "papermill": {
     "duration": 2.191599,
     "end_time": "2023-12-21T06:38:13.567706",
     "exception": false,
     "start_time": "2023-12-21T06:38:11.376107",
     "status": "completed"
    },
    "tags": []
   },
   "outputs": [],
   "source": [
    "import os\n",
    "import cv2\n",
    "import json\n",
    "import numpy as np\n",
    "import pandas as pd\n",
    "\n",
    "from sklearn.model_selection import train_test_split\n",
    "\n",
    "BASE_PATH: str = \"/kaggle/input/smoking\"\n",
    "SUB_PATHS: list = [\"Training/Training\", \"Validation/Validation\", \"Testing/Testing\"]"
   ]
  },
  {
   "cell_type": "code",
   "execution_count": 2,
   "id": "cc1e2d93",
   "metadata": {
    "execution": {
     "iopub.execute_input": "2023-12-21T06:38:13.574431Z",
     "iopub.status.busy": "2023-12-21T06:38:13.573839Z",
     "iopub.status.idle": "2023-12-21T06:38:13.834463Z",
     "shell.execute_reply": "2023-12-21T06:38:13.833526Z"
    },
    "papermill": {
     "duration": 0.266843,
     "end_time": "2023-12-21T06:38:13.837179",
     "exception": false,
     "start_time": "2023-12-21T06:38:13.570336",
     "status": "completed"
    },
    "tags": []
   },
   "outputs": [],
   "source": [
    "tr_df: pd.DataFrame = pd.DataFrame(data=None, columns=[\"filepaths\", \"labels\"])\n",
    "tr_filepaths: list = []\n",
    "tr_labels: list = []\n",
    "\n",
    "ts_df: pd.DataFrame = pd.DataFrame(data=None, columns=[\"filepaths\", \"labels\"])\n",
    "ts_filepaths: list = []\n",
    "ts_labels: list = []\n",
    "\n",
    "for sub_path in SUB_PATHS:\n",
    "    for filename in sorted(os.listdir(f\"{BASE_PATH}/{sub_path}\")):\n",
    "        if sub_path != \"Testing/Testing\":\n",
    "            tr_filepaths.append(os.path.join(f\"{BASE_PATH}/{sub_path}\", filename))\n",
    "            if filename.startswith(\"not\"):\n",
    "                tr_labels.append(0)\n",
    "            else:\n",
    "                tr_labels.append(1)\n",
    "        else:\n",
    "            ts_filepaths.append(os.path.join(f\"{BASE_PATH}/{sub_path}\", filename))\n",
    "            if filename.startswith(\"not\"):\n",
    "                ts_labels.append(0)\n",
    "            else:\n",
    "                ts_labels.append(1)\n",
    "\n",
    "tr_df.filepaths = tr_filepaths\n",
    "tr_df.labels = tr_labels\n",
    "tr_df.to_csv(\"train.csv\", index=False)\n",
    "\n",
    "ts_df.filepaths = ts_filepaths\n",
    "ts_df.labels = ts_labels\n",
    "ts_df.to_csv(\"test.csv\", index=False)"
   ]
  }
 ],
 "metadata": {
  "kaggle": {
   "accelerator": "none",
   "dataSources": [
    {
     "datasetId": 4012063,
     "sourceId": 6981583,
     "sourceType": "datasetVersion"
    }
   ],
   "dockerImageVersionId": 30626,
   "isGpuEnabled": false,
   "isInternetEnabled": true,
   "language": "python",
   "sourceType": "notebook"
  },
  "kernelspec": {
   "display_name": "Python 3",
   "language": "python",
   "name": "python3"
  },
  "language_info": {
   "codemirror_mode": {
    "name": "ipython",
    "version": 3
   },
   "file_extension": ".py",
   "mimetype": "text/x-python",
   "name": "python",
   "nbconvert_exporter": "python",
   "pygments_lexer": "ipython3",
   "version": "3.10.12"
  },
  "papermill": {
   "default_parameters": {},
   "duration": 6.693442,
   "end_time": "2023-12-21T06:38:14.462278",
   "environment_variables": {},
   "exception": null,
   "input_path": "__notebook__.ipynb",
   "output_path": "__notebook__.ipynb",
   "parameters": {},
   "start_time": "2023-12-21T06:38:07.768836",
   "version": "2.4.0"
  }
 },
 "nbformat": 4,
 "nbformat_minor": 5
}
