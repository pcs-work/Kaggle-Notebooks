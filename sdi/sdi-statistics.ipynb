{
 "cells": [
  {
   "cell_type": "code",
   "execution_count": 1,
   "id": "a6cf8347",
   "metadata": {
    "_cell_guid": "b1076dfc-b9ad-4769-8c92-a6c4dae69d19",
    "_uuid": "8f2839f25d086af736a60e9eeb907d3b93b6e0e5",
    "execution": {
     "iopub.execute_input": "2023-12-21T06:46:05.248735Z",
     "iopub.status.busy": "2023-12-21T06:46:05.248226Z",
     "iopub.status.idle": "2023-12-21T06:46:06.494810Z",
     "shell.execute_reply": "2023-12-21T06:46:06.492805Z"
    },
    "papermill": {
     "duration": 1.254998,
     "end_time": "2023-12-21T06:46:06.498415",
     "exception": false,
     "start_time": "2023-12-21T06:46:05.243417",
     "status": "completed"
    },
    "tags": []
   },
   "outputs": [],
   "source": [
    "import os\n",
    "import cv2\n",
    "import numpy as np\n",
    "import pandas as pd\n",
    "\n",
    "\n",
    "def breaker(num: int = 50, char: str = \"*\") -> None: print(\"\\n\" + num*char + \"\\n\")"
   ]
  },
  {
   "cell_type": "code",
   "execution_count": 2,
   "id": "c07d34d4",
   "metadata": {
    "execution": {
     "iopub.execute_input": "2023-12-21T06:46:06.505857Z",
     "iopub.status.busy": "2023-12-21T06:46:06.505203Z",
     "iopub.status.idle": "2023-12-21T06:46:06.517567Z",
     "shell.execute_reply": "2023-12-21T06:46:06.516354Z"
    },
    "papermill": {
     "duration": 0.019465,
     "end_time": "2023-12-21T06:46:06.520388",
     "exception": false,
     "start_time": "2023-12-21T06:46:06.500923",
     "status": "completed"
    },
    "tags": []
   },
   "outputs": [],
   "source": [
    "# Standard 250x250 Images\n",
    "def get_image(path: str) -> np.ndarray:\n",
    "    image = cv2.imread(path, cv2.IMREAD_COLOR)\n",
    "    image = cv2.cvtColor(src=image, code=cv2.COLOR_BGR2RGB)\n",
    "    return image\n",
    "\n",
    "\n",
    "def get_statistics(filepaths: np.ndarray) -> dict:\n",
    "\n",
    "    stats: dict = dict()\n",
    "    means: dict = dict()\n",
    "    stds: dict  = dict()\n",
    "    \n",
    "    total_num_of_images: int = 0\n",
    "    r_mean, g_mean, b_mean, r_std, g_std, b_std = 0.0, 0.0, 0.0, 0.0, 0.0, 0.0\n",
    "    for filepath in filepaths:\n",
    "        image = get_image(filepath)\n",
    "        r_mean += image[:, :, 0].mean()\n",
    "        g_mean += image[:, :, 1].mean()\n",
    "        b_mean += image[:, :, 2].mean()\n",
    "        r_std += image[:, :, 0].std()\n",
    "        g_std += image[:, :, 1].std()\n",
    "        b_std += image[:, :, 2].std()\n",
    "        total_num_of_images += 1\n",
    "    \n",
    "    stats[\"means\"] = [\n",
    "            r_mean / total_num_of_images / 255, \n",
    "            g_mean / total_num_of_images / 255, \n",
    "            b_mean / total_num_of_images / 255,\n",
    "        ]\n",
    "    \n",
    "    stats[\"stds\"] = [\n",
    "            r_std / total_num_of_images / 255, \n",
    "            g_std / total_num_of_images / 255, \n",
    "            b_std / total_num_of_images / 255,\n",
    "        ]\n",
    "    \n",
    "    return stats\n",
    "\n",
    "\n",
    "def print_statistics(stats: dict) -> None:\n",
    "    breaker()\n",
    "    for k, v in stats.items():\n",
    "        print(f\"{k.title()}\\n\")\n",
    "        for i in range(len(v)):\n",
    "            if i == 0: print(f\"Red   : {v[i]:.5f}\")\n",
    "            if i == 1: print(f\"Green : {v[i]:.5f}\")\n",
    "            if i == 2: print(f\"Blue  : {v[i]:.5f}\")\n",
    "        breaker()"
   ]
  },
  {
   "cell_type": "code",
   "execution_count": 3,
   "id": "93982d92",
   "metadata": {
    "execution": {
     "iopub.execute_input": "2023-12-21T06:46:06.526761Z",
     "iopub.status.busy": "2023-12-21T06:46:06.526301Z",
     "iopub.status.idle": "2023-12-21T06:46:09.507076Z",
     "shell.execute_reply": "2023-12-21T06:46:09.505376Z"
    },
    "papermill": {
     "duration": 2.987403,
     "end_time": "2023-12-21T06:46:09.510045",
     "exception": false,
     "start_time": "2023-12-21T06:46:06.522642",
     "status": "completed"
    },
    "tags": []
   },
   "outputs": [
    {
     "name": "stdout",
     "output_type": "stream",
     "text": [
      "\n",
      "**************************************************\n",
      "\n",
      "Means\n",
      "\n",
      "Red   : 0.49801\n",
      "Green : 0.44442\n",
      "Blue  : 0.40838\n",
      "\n",
      "**************************************************\n",
      "\n",
      "Stds\n",
      "\n",
      "Red   : 0.24979\n",
      "Green : 0.23565\n",
      "Blue  : 0.23191\n",
      "\n",
      "**************************************************\n",
      "\n"
     ]
    }
   ],
   "source": [
    "df = pd.read_csv(\"/kaggle/input/sdi-dataframe/test.csv\")\n",
    "\n",
    "stats = get_statistics(df.filepaths.copy().values)\n",
    "print_statistics(stats)"
   ]
  }
 ],
 "metadata": {
  "kaggle": {
   "accelerator": "none",
   "dataSources": [
    {
     "datasetId": 4012063,
     "sourceId": 6981583,
     "sourceType": "datasetVersion"
    },
    {
     "sourceId": 155904712,
     "sourceType": "kernelVersion"
    }
   ],
   "dockerImageVersionId": 30626,
   "isGpuEnabled": false,
   "isInternetEnabled": true,
   "language": "python",
   "sourceType": "notebook"
  },
  "kernelspec": {
   "display_name": "Python 3",
   "language": "python",
   "name": "python3"
  },
  "language_info": {
   "codemirror_mode": {
    "name": "ipython",
    "version": 3
   },
   "file_extension": ".py",
   "mimetype": "text/x-python",
   "name": "python",
   "nbconvert_exporter": "python",
   "pygments_lexer": "ipython3",
   "version": "3.10.12"
  },
  "papermill": {
   "default_parameters": {},
   "duration": 9.978051,
   "end_time": "2023-12-21T06:46:10.237356",
   "environment_variables": {},
   "exception": null,
   "input_path": "__notebook__.ipynb",
   "output_path": "__notebook__.ipynb",
   "parameters": {},
   "start_time": "2023-12-21T06:46:00.259305",
   "version": "2.4.0"
  }
 },
 "nbformat": 4,
 "nbformat_minor": 5
}
