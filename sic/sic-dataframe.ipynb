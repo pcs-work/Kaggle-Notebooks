{
 "cells": [
  {
   "cell_type": "code",
   "execution_count": 1,
   "id": "97e00867",
   "metadata": {
    "_cell_guid": "b1076dfc-b9ad-4769-8c92-a6c4dae69d19",
    "_uuid": "8f2839f25d086af736a60e9eeb907d3b93b6e0e5",
    "execution": {
     "iopub.execute_input": "2023-04-14T14:16:45.733659Z",
     "iopub.status.busy": "2023-04-14T14:16:45.732673Z",
     "iopub.status.idle": "2023-04-14T14:16:45.940415Z",
     "shell.execute_reply": "2023-04-14T14:16:45.939114Z"
    },
    "papermill": {
     "duration": 0.217364,
     "end_time": "2023-04-14T14:16:45.943145",
     "exception": false,
     "start_time": "2023-04-14T14:16:45.725781",
     "status": "completed"
    },
    "tags": []
   },
   "outputs": [],
   "source": [
    "import os\n",
    "import cv2\n",
    "import json\n",
    "import numpy as np\n",
    "import pandas as pd\n",
    "\n",
    "BASE_PATH: str = \"/kaggle/input/sports-classification\""
   ]
  },
  {
   "cell_type": "code",
   "execution_count": 2,
   "id": "319b4df2",
   "metadata": {
    "execution": {
     "iopub.execute_input": "2023-04-14T14:16:45.949934Z",
     "iopub.status.busy": "2023-04-14T14:16:45.949567Z",
     "iopub.status.idle": "2023-04-14T14:16:45.964172Z",
     "shell.execute_reply": "2023-04-14T14:16:45.962844Z"
    },
    "papermill": {
     "duration": 0.020653,
     "end_time": "2023-04-14T14:16:45.966676",
     "exception": false,
     "start_time": "2023-04-14T14:16:45.946023",
     "status": "completed"
    },
    "tags": []
   },
   "outputs": [],
   "source": [
    "tr_df: pd.DataFrame = pd.DataFrame(data=None, columns=[\"filepaths\", \"labels\"])\n",
    "ts_df: pd.DataFrame = pd.DataFrame(data=None, columns=[\"filepaths\", \"labels\"])\n",
    "fu_df: pd.DataFrame = pd.DataFrame(data=None, columns=[\"filepaths\", \"labels\"])  "
   ]
  },
  {
   "cell_type": "code",
   "execution_count": 3,
   "id": "a404f1cd",
   "metadata": {
    "execution": {
     "iopub.execute_input": "2023-04-14T14:16:45.972613Z",
     "iopub.status.busy": "2023-04-14T14:16:45.972075Z",
     "iopub.status.idle": "2023-04-14T14:16:54.856659Z",
     "shell.execute_reply": "2023-04-14T14:16:54.855538Z"
    },
    "papermill": {
     "duration": 8.890551,
     "end_time": "2023-04-14T14:16:54.859393",
     "exception": false,
     "start_time": "2023-04-14T14:16:45.968842",
     "status": "completed"
    },
    "tags": []
   },
   "outputs": [],
   "source": [
    "tr_filepaths: list = []\n",
    "tr_labels: list = []\n",
    "\n",
    "va_filepaths: list = []\n",
    "va_labels: list = []\n",
    "\n",
    "i: int = 0\n",
    "for folder in sorted(os.listdir(f\"{BASE_PATH}/train\")):\n",
    "    for filename in os.listdir(f\"{BASE_PATH}/train/{folder}\"):\n",
    "        tr_filepaths.append(os.path.join(f\"{BASE_PATH}/train/{folder}\", filename))\n",
    "        tr_labels.append(i)\n",
    "    i += 1\n",
    "    \n",
    "i: int = 0\n",
    "for folder in sorted(os.listdir(f\"{BASE_PATH}/valid\")):\n",
    "    for filename in os.listdir(f\"{BASE_PATH}/valid/{folder}\"):\n",
    "        va_filepaths.append(os.path.join(f\"{BASE_PATH}/valid/{folder}\", filename))\n",
    "        va_labels.append(i)\n",
    "    i += 1\n",
    "\n",
    "tr_df.filepaths = tr_filepaths + va_filepaths\n",
    "tr_df.labels = tr_labels + va_labels\n",
    "tr_df.to_csv(\"train.csv\", index=False)"
   ]
  },
  {
   "cell_type": "code",
   "execution_count": 4,
   "id": "785060ae",
   "metadata": {
    "execution": {
     "iopub.execute_input": "2023-04-14T14:16:54.865133Z",
     "iopub.status.busy": "2023-04-14T14:16:54.864831Z",
     "iopub.status.idle": "2023-04-14T14:16:55.520035Z",
     "shell.execute_reply": "2023-04-14T14:16:55.518976Z"
    },
    "papermill": {
     "duration": 0.660928,
     "end_time": "2023-04-14T14:16:55.522665",
     "exception": false,
     "start_time": "2023-04-14T14:16:54.861737",
     "status": "completed"
    },
    "tags": []
   },
   "outputs": [],
   "source": [
    "filepaths: list = []\n",
    "labels: list = []\n",
    "\n",
    "i: int = 0    \n",
    "for folder in sorted(os.listdir(f\"{BASE_PATH}/test\")):\n",
    "    for filename in os.listdir(f\"{BASE_PATH}/test/{folder}\"):\n",
    "        filepaths.append(os.path.join(f\"{BASE_PATH}/test/{folder}\", filename))\n",
    "        labels.append(i)\n",
    "    i += 1\n",
    "\n",
    "ts_df.filepaths = filepaths\n",
    "ts_df.labels = labels\n",
    "ts_df.to_csv(\"test.csv\", index=False)"
   ]
  },
  {
   "cell_type": "code",
   "execution_count": 5,
   "id": "ada2a847",
   "metadata": {
    "execution": {
     "iopub.execute_input": "2023-04-14T14:16:55.529124Z",
     "iopub.status.busy": "2023-04-14T14:16:55.528737Z",
     "iopub.status.idle": "2023-04-14T14:16:55.576110Z",
     "shell.execute_reply": "2023-04-14T14:16:55.575160Z"
    },
    "papermill": {
     "duration": 0.053393,
     "end_time": "2023-04-14T14:16:55.578711",
     "exception": false,
     "start_time": "2023-04-14T14:16:55.525318",
     "status": "completed"
    },
    "tags": []
   },
   "outputs": [],
   "source": [
    "fu_df.filepaths = tr_filepaths + va_filepaths + filepaths\n",
    "fu_df.labels = tr_labels + va_labels + labels\n",
    "fu_df.to_csv(\"full.csv\", index=False)"
   ]
  },
  {
   "cell_type": "code",
   "execution_count": 6,
   "id": "36a3f370",
   "metadata": {
    "execution": {
     "iopub.execute_input": "2023-04-14T14:16:55.585429Z",
     "iopub.status.busy": "2023-04-14T14:16:55.585067Z",
     "iopub.status.idle": "2023-04-14T14:16:55.591194Z",
     "shell.execute_reply": "2023-04-14T14:16:55.590227Z"
    },
    "papermill": {
     "duration": 0.012236,
     "end_time": "2023-04-14T14:16:55.593574",
     "exception": false,
     "start_time": "2023-04-14T14:16:55.581338",
     "status": "completed"
    },
    "tags": []
   },
   "outputs": [],
   "source": [
    "labels: dict = dict()\n",
    "\n",
    "i = 0\n",
    "for folder in sorted(os.listdir(f\"{BASE_PATH}/train\")):\n",
    "    labels[i] = folder\n",
    "    i += 1\n",
    "\n",
    "json.dump(labels, open(\"labels.json\", \"w\"))"
   ]
  }
 ],
 "metadata": {
  "kernelspec": {
   "display_name": "Python 3",
   "language": "python",
   "name": "python3"
  },
  "language_info": {
   "codemirror_mode": {
    "name": "ipython",
    "version": 3
   },
   "file_extension": ".py",
   "mimetype": "text/x-python",
   "name": "python",
   "nbconvert_exporter": "python",
   "pygments_lexer": "ipython3",
   "version": "3.7.12"
  },
  "papermill": {
   "default_parameters": {},
   "duration": 21.576886,
   "end_time": "2023-04-14T14:16:56.217211",
   "environment_variables": {},
   "exception": null,
   "input_path": "__notebook__.ipynb",
   "output_path": "__notebook__.ipynb",
   "parameters": {},
   "start_time": "2023-04-14T14:16:34.640325",
   "version": "2.4.0"
  }
 },
 "nbformat": 4,
 "nbformat_minor": 5
}
