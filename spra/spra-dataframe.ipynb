{
 "cells": [
  {
   "cell_type": "code",
   "execution_count": 1,
   "id": "0dff6214",
   "metadata": {
    "_cell_guid": "b1076dfc-b9ad-4769-8c92-a6c4dae69d19",
    "_uuid": "8f2839f25d086af736a60e9eeb907d3b93b6e0e5",
    "execution": {
     "iopub.execute_input": "2023-03-05T05:38:06.822223Z",
     "iopub.status.busy": "2023-03-05T05:38:06.821130Z",
     "iopub.status.idle": "2023-03-05T05:38:07.047768Z",
     "shell.execute_reply": "2023-03-05T05:38:07.046252Z"
    },
    "papermill": {
     "duration": 0.235305,
     "end_time": "2023-03-05T05:38:07.050892",
     "exception": false,
     "start_time": "2023-03-05T05:38:06.815587",
     "status": "completed"
    },
    "tags": []
   },
   "outputs": [],
   "source": [
    "import os\n",
    "import cv2\n",
    "import json\n",
    "import numpy as np\n",
    "import pandas as pd\n",
    "\n",
    "BASE_PATH: str = \"/kaggle/input/spr-x-ray-age/kaggle/kaggle\""
   ]
  },
  {
   "cell_type": "code",
   "execution_count": 2,
   "id": "f94800dc",
   "metadata": {
    "execution": {
     "iopub.execute_input": "2023-03-05T05:38:07.057783Z",
     "iopub.status.busy": "2023-03-05T05:38:07.057288Z",
     "iopub.status.idle": "2023-03-05T05:38:07.103029Z",
     "shell.execute_reply": "2023-03-05T05:38:07.101573Z"
    },
    "papermill": {
     "duration": 0.052886,
     "end_time": "2023-03-05T05:38:07.106351",
     "exception": false,
     "start_time": "2023-03-05T05:38:07.053465",
     "status": "completed"
    },
    "tags": []
   },
   "outputs": [],
   "source": [
    "comp_tr_df = pd.read_csv(\"/kaggle/input/spr-x-ray-age/train_age.csv\")\n",
    "comp_ts_df = pd.read_csv(\"/kaggle/input/spr-x-ray-age/sample_submission_age.csv\")\n",
    "\n",
    "tr_df = pd.DataFrame(data=None, columns=[\"filepaths\", \"labels\"])\n",
    "ts_df = pd.DataFrame(data=None, columns=[\"filepaths\"])"
   ]
  },
  {
   "cell_type": "code",
   "execution_count": 3,
   "id": "101c5146",
   "metadata": {
    "execution": {
     "iopub.execute_input": "2023-03-05T05:38:07.113531Z",
     "iopub.status.busy": "2023-03-05T05:38:07.112734Z",
     "iopub.status.idle": "2023-03-05T05:38:07.178629Z",
     "shell.execute_reply": "2023-03-05T05:38:07.177100Z"
    },
    "papermill": {
     "duration": 0.072699,
     "end_time": "2023-03-05T05:38:07.181474",
     "exception": false,
     "start_time": "2023-03-05T05:38:07.108775",
     "status": "completed"
    },
    "tags": []
   },
   "outputs": [],
   "source": [
    "filenames = comp_tr_df.imageId.copy().values\n",
    "\n",
    "tr_filepaths = [(BASE_PATH + \"/train/\" + str(filename).zfill(6) + \".png\") for filename in filenames]\n",
    "\n",
    "tr_df.filepaths = tr_filepaths\n",
    "tr_df.labels = comp_tr_df.age.copy().values\n",
    "\n",
    "tr_df.to_csv(\"train.csv\", index=False)"
   ]
  },
  {
   "cell_type": "code",
   "execution_count": 4,
   "id": "4ed34945",
   "metadata": {
    "execution": {
     "iopub.execute_input": "2023-03-05T05:38:07.188138Z",
     "iopub.status.busy": "2023-03-05T05:38:07.187701Z",
     "iopub.status.idle": "2023-03-05T05:38:07.239576Z",
     "shell.execute_reply": "2023-03-05T05:38:07.238300Z"
    },
    "papermill": {
     "duration": 0.059128,
     "end_time": "2023-03-05T05:38:07.242895",
     "exception": false,
     "start_time": "2023-03-05T05:38:07.183767",
     "status": "completed"
    },
    "tags": []
   },
   "outputs": [],
   "source": [
    "filenames = comp_ts_df.imageId.copy().values\n",
    "\n",
    "ts_filepaths = [(BASE_PATH + \"/test/\" + str(filename).zfill(6) + \".png\") for filename in filenames]\n",
    "ts_df.filepaths = ts_filepaths\n",
    "\n",
    "ts_df.to_csv(\"test.csv\", index=False)"
   ]
  }
 ],
 "metadata": {
  "kernelspec": {
   "display_name": "Python 3",
   "language": "python",
   "name": "python3"
  },
  "language_info": {
   "codemirror_mode": {
    "name": "ipython",
    "version": 3
   },
   "file_extension": ".py",
   "mimetype": "text/x-python",
   "name": "python",
   "nbconvert_exporter": "python",
   "pygments_lexer": "ipython3",
   "version": "3.7.12"
  },
  "papermill": {
   "default_parameters": {},
   "duration": 12.413582,
   "end_time": "2023-03-05T05:38:07.969217",
   "environment_variables": {},
   "exception": null,
   "input_path": "__notebook__.ipynb",
   "output_path": "__notebook__.ipynb",
   "parameters": {},
   "start_time": "2023-03-05T05:37:55.555635",
   "version": "2.4.0"
  }
 },
 "nbformat": 4,
 "nbformat_minor": 5
}
