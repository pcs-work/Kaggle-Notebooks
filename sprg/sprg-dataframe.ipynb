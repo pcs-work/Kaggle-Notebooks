{
 "cells": [
  {
   "cell_type": "code",
   "execution_count": 1,
   "id": "a96bbc85",
   "metadata": {
    "_cell_guid": "b1076dfc-b9ad-4769-8c92-a6c4dae69d19",
    "_uuid": "8f2839f25d086af736a60e9eeb907d3b93b6e0e5",
    "execution": {
     "iopub.execute_input": "2023-03-05T05:40:27.634504Z",
     "iopub.status.busy": "2023-03-05T05:40:27.634077Z",
     "iopub.status.idle": "2023-03-05T05:40:27.822546Z",
     "shell.execute_reply": "2023-03-05T05:40:27.821580Z"
    },
    "papermill": {
     "duration": 0.195659,
     "end_time": "2023-03-05T05:40:27.825263",
     "exception": false,
     "start_time": "2023-03-05T05:40:27.629604",
     "status": "completed"
    },
    "tags": []
   },
   "outputs": [],
   "source": [
    "import os\n",
    "import cv2\n",
    "import json\n",
    "import numpy as np\n",
    "import pandas as pd\n",
    "\n",
    "BASE_PATH: str = \"/kaggle/input/spr-x-ray-gender/kaggle/kaggle\""
   ]
  },
  {
   "cell_type": "code",
   "execution_count": 2,
   "id": "f08eb6db",
   "metadata": {
    "execution": {
     "iopub.execute_input": "2023-03-05T05:40:27.832039Z",
     "iopub.status.busy": "2023-03-05T05:40:27.830869Z",
     "iopub.status.idle": "2023-03-05T05:40:27.869492Z",
     "shell.execute_reply": "2023-03-05T05:40:27.868513Z"
    },
    "papermill": {
     "duration": 0.044459,
     "end_time": "2023-03-05T05:40:27.872121",
     "exception": false,
     "start_time": "2023-03-05T05:40:27.827662",
     "status": "completed"
    },
    "tags": []
   },
   "outputs": [],
   "source": [
    "comp_tr_df = pd.read_csv(\"/kaggle/input/spr-x-ray-gender/train_gender.csv\")\n",
    "comp_ts_df = pd.read_csv(\"/kaggle/input/spr-x-ray-gender/sample_submission_gender.csv\")\n",
    "\n",
    "tr_df = pd.DataFrame(data=None, columns=[\"filepaths\", \"labels\"])\n",
    "ts_df = pd.DataFrame(data=None, columns=[\"filepaths\"])"
   ]
  },
  {
   "cell_type": "code",
   "execution_count": 3,
   "id": "1806ae8c",
   "metadata": {
    "execution": {
     "iopub.execute_input": "2023-03-05T05:40:27.878417Z",
     "iopub.status.busy": "2023-03-05T05:40:27.877462Z",
     "iopub.status.idle": "2023-03-05T05:40:27.935431Z",
     "shell.execute_reply": "2023-03-05T05:40:27.934047Z"
    },
    "papermill": {
     "duration": 0.063952,
     "end_time": "2023-03-05T05:40:27.938235",
     "exception": false,
     "start_time": "2023-03-05T05:40:27.874283",
     "status": "completed"
    },
    "tags": []
   },
   "outputs": [],
   "source": [
    "filenames = comp_tr_df.imageId.copy().values\n",
    "\n",
    "tr_filepaths = [(BASE_PATH + \"/train/\" + str(filename).zfill(6) + \".png\") for filename in filenames]\n",
    "\n",
    "tr_df.filepaths = tr_filepaths\n",
    "tr_df.labels = comp_tr_df.gender.copy().values\n",
    "\n",
    "tr_df.to_csv(\"train.csv\", index=False)"
   ]
  },
  {
   "cell_type": "code",
   "execution_count": 4,
   "id": "e32a15bd",
   "metadata": {
    "execution": {
     "iopub.execute_input": "2023-03-05T05:40:27.944143Z",
     "iopub.status.busy": "2023-03-05T05:40:27.943679Z",
     "iopub.status.idle": "2023-03-05T05:40:27.991557Z",
     "shell.execute_reply": "2023-03-05T05:40:27.990241Z"
    },
    "papermill": {
     "duration": 0.054118,
     "end_time": "2023-03-05T05:40:27.994485",
     "exception": false,
     "start_time": "2023-03-05T05:40:27.940367",
     "status": "completed"
    },
    "tags": []
   },
   "outputs": [],
   "source": [
    "filenames = comp_ts_df.imageId.copy().values\n",
    "\n",
    "ts_filepaths = [(BASE_PATH + \"/test/\" + str(filename).zfill(6) + \".png\") for filename in filenames]\n",
    "ts_df.filepaths = ts_filepaths\n",
    "\n",
    "ts_df.to_csv(\"test.csv\", index=False)"
   ]
  }
 ],
 "metadata": {
  "kernelspec": {
   "display_name": "Python 3",
   "language": "python",
   "name": "python3"
  },
  "language_info": {
   "codemirror_mode": {
    "name": "ipython",
    "version": 3
   },
   "file_extension": ".py",
   "mimetype": "text/x-python",
   "name": "python",
   "nbconvert_exporter": "python",
   "pygments_lexer": "ipython3",
   "version": "3.7.12"
  },
  "papermill": {
   "default_parameters": {},
   "duration": 11.564016,
   "end_time": "2023-03-05T05:40:28.718723",
   "environment_variables": {},
   "exception": null,
   "input_path": "__notebook__.ipynb",
   "output_path": "__notebook__.ipynb",
   "parameters": {},
   "start_time": "2023-03-05T05:40:17.154707",
   "version": "2.4.0"
  }
 },
 "nbformat": 4,
 "nbformat_minor": 5
}
