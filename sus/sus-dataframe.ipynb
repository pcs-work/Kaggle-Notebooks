{
 "cells": [
  {
   "cell_type": "code",
   "execution_count": 1,
   "id": "952b05de",
   "metadata": {
    "_cell_guid": "b1076dfc-b9ad-4769-8c92-a6c4dae69d19",
    "_uuid": "8f2839f25d086af736a60e9eeb907d3b93b6e0e5",
    "execution": {
     "iopub.execute_input": "2023-02-23T11:01:08.656304Z",
     "iopub.status.busy": "2023-02-23T11:01:08.655824Z",
     "iopub.status.idle": "2023-02-23T11:01:08.860840Z",
     "shell.execute_reply": "2023-02-23T11:01:08.859745Z"
    },
    "papermill": {
     "duration": 0.213364,
     "end_time": "2023-02-23T11:01:08.863781",
     "exception": false,
     "start_time": "2023-02-23T11:01:08.650417",
     "status": "completed"
    },
    "tags": []
   },
   "outputs": [],
   "source": [
    "import os\n",
    "import cv2\n",
    "import json\n",
    "import numpy as np\n",
    "import pandas as pd\n",
    "\n",
    "BASE_PATH: str = \"/kaggle/input/good-guysbad-guys-image-data-set\""
   ]
  },
  {
   "cell_type": "code",
   "execution_count": 2,
   "id": "fa075caa",
   "metadata": {
    "execution": {
     "iopub.execute_input": "2023-02-23T11:01:08.870394Z",
     "iopub.status.busy": "2023-02-23T11:01:08.869954Z",
     "iopub.status.idle": "2023-02-23T11:01:08.887256Z",
     "shell.execute_reply": "2023-02-23T11:01:08.886117Z"
    },
    "papermill": {
     "duration": 0.023602,
     "end_time": "2023-02-23T11:01:08.890019",
     "exception": false,
     "start_time": "2023-02-23T11:01:08.866417",
     "status": "completed"
    },
    "tags": []
   },
   "outputs": [],
   "source": [
    "tr_df: pd.DataFrame = pd.DataFrame(data=None, columns=[\"filepaths\", \"labels\"])\n",
    "ts_df: pd.DataFrame = pd.DataFrame(data=None, columns=[\"filepaths\", \"labels\"])\n",
    "fu_df: pd.DataFrame = pd.DataFrame(data=None, columns=[\"filepaths\", \"labels\"]) "
   ]
  },
  {
   "cell_type": "code",
   "execution_count": 3,
   "id": "6b3f2ffe",
   "metadata": {
    "execution": {
     "iopub.execute_input": "2023-02-23T11:01:08.896304Z",
     "iopub.status.busy": "2023-02-23T11:01:08.895904Z",
     "iopub.status.idle": "2023-02-23T11:01:09.505450Z",
     "shell.execute_reply": "2023-02-23T11:01:09.504416Z"
    },
    "papermill": {
     "duration": 0.616224,
     "end_time": "2023-02-23T11:01:09.508648",
     "exception": false,
     "start_time": "2023-02-23T11:01:08.892424",
     "status": "completed"
    },
    "tags": []
   },
   "outputs": [],
   "source": [
    "tr_filepaths: list = []\n",
    "tr_labels: list = []\n",
    "\n",
    "va_filepaths: list = []\n",
    "va_labels: list = []\n",
    "\n",
    "i: int = 0\n",
    "for folder in sorted(os.listdir(f\"{BASE_PATH}/train\")):\n",
    "    for filename in os.listdir(f\"{BASE_PATH}/train/{folder}\"):\n",
    "        tr_filepaths.append(os.path.join(f\"{BASE_PATH}/train/{folder}\", filename))\n",
    "        tr_labels.append(i)\n",
    "    i += 1\n",
    "    \n",
    "i: int = 0\n",
    "for folder in sorted(os.listdir(f\"{BASE_PATH}/valid\")):\n",
    "    for filename in os.listdir(f\"{BASE_PATH}/valid/{folder}\"):\n",
    "        va_filepaths.append(os.path.join(f\"{BASE_PATH}/valid/{folder}\", filename))\n",
    "        va_labels.append(i)\n",
    "    i += 1\n",
    "\n",
    "tr_df.filepaths = tr_filepaths + va_filepaths\n",
    "tr_df.labels = tr_labels + va_labels\n",
    "tr_df.to_csv(\"train.csv\", index=False)"
   ]
  },
  {
   "cell_type": "code",
   "execution_count": 4,
   "id": "ec4ea85f",
   "metadata": {
    "execution": {
     "iopub.execute_input": "2023-02-23T11:01:09.515317Z",
     "iopub.status.busy": "2023-02-23T11:01:09.514920Z",
     "iopub.status.idle": "2023-02-23T11:01:09.630428Z",
     "shell.execute_reply": "2023-02-23T11:01:09.629369Z"
    },
    "papermill": {
     "duration": 0.122104,
     "end_time": "2023-02-23T11:01:09.633492",
     "exception": false,
     "start_time": "2023-02-23T11:01:09.511388",
     "status": "completed"
    },
    "tags": []
   },
   "outputs": [],
   "source": [
    "filepaths: list = []\n",
    "labels: list = []\n",
    "\n",
    "i: int = 0    \n",
    "for folder in sorted(os.listdir(f\"{BASE_PATH}/test\")):\n",
    "    for filename in os.listdir(f\"{BASE_PATH}/test/{folder}\"):\n",
    "        filepaths.append(os.path.join(f\"{BASE_PATH}/test/{folder}\", filename))\n",
    "        labels.append(i)\n",
    "    i += 1\n",
    "\n",
    "ts_df.filepaths = filepaths\n",
    "ts_df.labels = labels\n",
    "ts_df.to_csv(\"test.csv\", index=False)"
   ]
  },
  {
   "cell_type": "code",
   "execution_count": 5,
   "id": "ba58f3d6",
   "metadata": {
    "execution": {
     "iopub.execute_input": "2023-02-23T11:01:09.640116Z",
     "iopub.status.busy": "2023-02-23T11:01:09.639653Z",
     "iopub.status.idle": "2023-02-23T11:01:09.682774Z",
     "shell.execute_reply": "2023-02-23T11:01:09.681831Z"
    },
    "papermill": {
     "duration": 0.049227,
     "end_time": "2023-02-23T11:01:09.685239",
     "exception": false,
     "start_time": "2023-02-23T11:01:09.636012",
     "status": "completed"
    },
    "tags": []
   },
   "outputs": [],
   "source": [
    "fu_df.filepaths = tr_filepaths + va_filepaths + filepaths\n",
    "fu_df.labels = tr_labels + va_labels + labels\n",
    "fu_df.to_csv(\"full.csv\", index=False)"
   ]
  },
  {
   "cell_type": "code",
   "execution_count": 6,
   "id": "1d99f993",
   "metadata": {
    "execution": {
     "iopub.execute_input": "2023-02-23T11:01:09.695168Z",
     "iopub.status.busy": "2023-02-23T11:01:09.694108Z",
     "iopub.status.idle": "2023-02-23T11:01:09.701183Z",
     "shell.execute_reply": "2023-02-23T11:01:09.699987Z"
    },
    "papermill": {
     "duration": 0.015657,
     "end_time": "2023-02-23T11:01:09.703615",
     "exception": false,
     "start_time": "2023-02-23T11:01:09.687958",
     "status": "completed"
    },
    "tags": []
   },
   "outputs": [],
   "source": [
    "labels: dict = dict()\n",
    "\n",
    "i = 0\n",
    "for folder in sorted(os.listdir(f\"{BASE_PATH}/train\")):\n",
    "    labels[i] = folder\n",
    "    i += 1\n",
    "\n",
    "json.dump(labels, open(\"labels.json\", \"w\"))"
   ]
  }
 ],
 "metadata": {
  "kernelspec": {
   "display_name": "Python 3",
   "language": "python",
   "name": "python3"
  },
  "language_info": {
   "codemirror_mode": {
    "name": "ipython",
    "version": 3
   },
   "file_extension": ".py",
   "mimetype": "text/x-python",
   "name": "python",
   "nbconvert_exporter": "python",
   "pygments_lexer": "ipython3",
   "version": "3.7.12"
  },
  "papermill": {
   "default_parameters": {},
   "duration": 15.164703,
   "end_time": "2023-02-23T11:01:13.278086",
   "environment_variables": {},
   "exception": null,
   "input_path": "__notebook__.ipynb",
   "output_path": "__notebook__.ipynb",
   "parameters": {},
   "start_time": "2023-02-23T11:00:58.113383",
   "version": "2.3.4"
  }
 },
 "nbformat": 4,
 "nbformat_minor": 5
}
