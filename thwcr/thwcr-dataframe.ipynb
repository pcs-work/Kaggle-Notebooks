{
 "cells": [
  {
   "cell_type": "code",
   "execution_count": 1,
   "id": "d4de3d0a",
   "metadata": {
    "_cell_guid": "b1076dfc-b9ad-4769-8c92-a6c4dae69d19",
    "_uuid": "8f2839f25d086af736a60e9eeb907d3b93b6e0e5",
    "execution": {
     "iopub.execute_input": "2023-08-13T12:41:10.604589Z",
     "iopub.status.busy": "2023-08-13T12:41:10.603859Z",
     "iopub.status.idle": "2023-08-13T12:41:10.864909Z",
     "shell.execute_reply": "2023-08-13T12:41:10.863721Z"
    },
    "papermill": {
     "duration": 0.267918,
     "end_time": "2023-08-13T12:41:10.867885",
     "exception": false,
     "start_time": "2023-08-13T12:41:10.599967",
     "status": "completed"
    },
    "tags": []
   },
   "outputs": [],
   "source": [
    "import os\n",
    "import cv2\n",
    "import json\n",
    "import numpy as np\n",
    "import pandas as pd\n",
    "\n",
    "BASE_PATH: str = \"/kaggle/input/tamil-hwcr\""
   ]
  },
  {
   "cell_type": "code",
   "execution_count": 2,
   "id": "85eb0b67",
   "metadata": {
    "execution": {
     "iopub.execute_input": "2023-08-13T12:41:10.873150Z",
     "iopub.status.busy": "2023-08-13T12:41:10.872720Z",
     "iopub.status.idle": "2023-08-13T12:41:11.127691Z",
     "shell.execute_reply": "2023-08-13T12:41:11.125815Z"
    },
    "papermill": {
     "duration": 0.261389,
     "end_time": "2023-08-13T12:41:11.131298",
     "exception": false,
     "start_time": "2023-08-13T12:41:10.869909",
     "status": "completed"
    },
    "tags": []
   },
   "outputs": [],
   "source": [
    "tr_df: pd.DataFrame = pd.read_csv(f\"{BASE_PATH}/train.csv\")\n",
    "    \n",
    "filepaths: list = []\n",
    "labels: list = []\n",
    "\n",
    "for filename in tr_df.ID:\n",
    "    filepaths.append(f\"{BASE_PATH}/Train-Kaggle/Train-Kaggle/{filename}\")\n",
    "\n",
    "tr_df[\"filepaths\"] = filepaths\n",
    "tr_df.to_csv(\"train.csv\", index=False)"
   ]
  },
  {
   "cell_type": "code",
   "execution_count": 3,
   "id": "29ef33cb",
   "metadata": {
    "execution": {
     "iopub.execute_input": "2023-08-13T12:41:11.137183Z",
     "iopub.status.busy": "2023-08-13T12:41:11.136731Z",
     "iopub.status.idle": "2023-08-13T12:41:11.248457Z",
     "shell.execute_reply": "2023-08-13T12:41:11.247234Z"
    },
    "papermill": {
     "duration": 0.118343,
     "end_time": "2023-08-13T12:41:11.251764",
     "exception": false,
     "start_time": "2023-08-13T12:41:11.133421",
     "status": "completed"
    },
    "tags": []
   },
   "outputs": [],
   "source": [
    "ts_df: pd.DataFrame = pd.read_csv(f\"{BASE_PATH}/test.csv\")\n",
    "    \n",
    "filepaths: list = []\n",
    "labels: list = []\n",
    "\n",
    "for filename in ts_df.ID:\n",
    "    filepaths.append(f\"{BASE_PATH}/Test-Kaggle/Test-Kaggle/{filename}\")\n",
    "\n",
    "ts_df[\"filepaths\"] = filepaths\n",
    "ts_df.to_csv(\"test.csv\", index=False)"
   ]
  }
 ],
 "metadata": {
  "kernelspec": {
   "display_name": "Python 3",
   "language": "python",
   "name": "python3"
  },
  "language_info": {
   "codemirror_mode": {
    "name": "ipython",
    "version": 3
   },
   "file_extension": ".py",
   "mimetype": "text/x-python",
   "name": "python",
   "nbconvert_exporter": "python",
   "pygments_lexer": "ipython3",
   "version": "3.10.12"
  },
  "papermill": {
   "default_parameters": {},
   "duration": 10.236228,
   "end_time": "2023-08-13T12:41:12.178249",
   "environment_variables": {},
   "exception": null,
   "input_path": "__notebook__.ipynb",
   "output_path": "__notebook__.ipynb",
   "parameters": {},
   "start_time": "2023-08-13T12:41:01.942021",
   "version": "2.4.0"
  }
 },
 "nbformat": 4,
 "nbformat_minor": 5
}
