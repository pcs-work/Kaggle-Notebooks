{
 "cells": [
  {
   "cell_type": "code",
   "execution_count": 1,
   "id": "8f75f072",
   "metadata": {
    "_cell_guid": "b1076dfc-b9ad-4769-8c92-a6c4dae69d19",
    "_uuid": "8f2839f25d086af736a60e9eeb907d3b93b6e0e5",
    "execution": {
     "iopub.execute_input": "2023-08-13T16:23:21.211835Z",
     "iopub.status.busy": "2023-08-13T16:23:21.211273Z",
     "iopub.status.idle": "2023-08-13T16:23:21.511644Z",
     "shell.execute_reply": "2023-08-13T16:23:21.510311Z"
    },
    "papermill": {
     "duration": 0.308996,
     "end_time": "2023-08-13T16:23:21.514514",
     "exception": false,
     "start_time": "2023-08-13T16:23:21.205518",
     "status": "completed"
    },
    "tags": []
   },
   "outputs": [],
   "source": [
    "import os\n",
    "import cv2\n",
    "import numpy as np\n",
    "import pandas as pd\n",
    "\n",
    "\n",
    "def breaker(num: int = 50, char: str = \"*\") -> None: print(\"\\n\" + num*char + \"\\n\")"
   ]
  },
  {
   "cell_type": "code",
   "execution_count": 2,
   "id": "ba5a381a",
   "metadata": {
    "execution": {
     "iopub.execute_input": "2023-08-13T16:23:21.520537Z",
     "iopub.status.busy": "2023-08-13T16:23:21.520146Z",
     "iopub.status.idle": "2023-08-13T16:23:21.529002Z",
     "shell.execute_reply": "2023-08-13T16:23:21.527750Z"
    },
    "papermill": {
     "duration": 0.014682,
     "end_time": "2023-08-13T16:23:21.531473",
     "exception": false,
     "start_time": "2023-08-13T16:23:21.516791",
     "status": "completed"
    },
    "tags": []
   },
   "outputs": [],
   "source": [
    "def get_image(path: str) -> np.ndarray:\n",
    "    return cv2.imread(path, cv2.IMREAD_GRAYSCALE)\n",
    "\n",
    "\n",
    "def get_statistics(filepaths: np.ndarray) -> dict:\n",
    "\n",
    "    stats: dict = dict()\n",
    "    means: dict = dict()\n",
    "    stds: dict  = dict()\n",
    "        \n",
    "    total_num_of_images: int = 0\n",
    "    mean, std = 0.0, 0.0\n",
    "    for filepath in filepaths:\n",
    "        image = get_image(filepath)\n",
    "        mean += image.mean()\n",
    "        std += image.std()\n",
    "        total_num_of_images += 1\n",
    "    \n",
    "    breaker()\n",
    "    print(f\"Mean : {mean / total_num_of_images / 255:.5f}\")\n",
    "    print(f\"Std  : {std / total_num_of_images / 255:.5f}\")\n",
    "    breaker()    "
   ]
  },
  {
   "cell_type": "code",
   "execution_count": 3,
   "id": "5cf0fca5",
   "metadata": {
    "execution": {
     "iopub.execute_input": "2023-08-13T16:23:21.537501Z",
     "iopub.status.busy": "2023-08-13T16:23:21.537124Z",
     "iopub.status.idle": "2023-08-13T16:34:23.947774Z",
     "shell.execute_reply": "2023-08-13T16:34:23.946363Z"
    },
    "papermill": {
     "duration": 662.418908,
     "end_time": "2023-08-13T16:34:23.952610",
     "exception": false,
     "start_time": "2023-08-13T16:23:21.533702",
     "status": "completed"
    },
    "tags": []
   },
   "outputs": [
    {
     "name": "stdout",
     "output_type": "stream",
     "text": [
      "\n",
      "**************************************************\n",
      "\n",
      "Mean : 0.80126\n",
      "Std  : 0.39455\n",
      "\n",
      "**************************************************\n",
      "\n"
     ]
    }
   ],
   "source": [
    "df = pd.read_csv(\"/kaggle/input/thwcr-dataframe/train.csv\")\n",
    "get_statistics(df.filepaths.copy().values)"
   ]
  }
 ],
 "metadata": {
  "kernelspec": {
   "display_name": "Python 3",
   "language": "python",
   "name": "python3"
  },
  "language_info": {
   "codemirror_mode": {
    "name": "ipython",
    "version": 3
   },
   "file_extension": ".py",
   "mimetype": "text/x-python",
   "name": "python",
   "nbconvert_exporter": "python",
   "pygments_lexer": "ipython3",
   "version": "3.10.12"
  },
  "papermill": {
   "default_parameters": {},
   "duration": 678.17597,
   "end_time": "2023-08-13T16:34:24.882584",
   "environment_variables": {},
   "exception": null,
   "input_path": "__notebook__.ipynb",
   "output_path": "__notebook__.ipynb",
   "parameters": {},
   "start_time": "2023-08-13T16:23:06.706614",
   "version": "2.4.0"
  }
 },
 "nbformat": 4,
 "nbformat_minor": 5
}
