{
 "cells": [
  {
   "cell_type": "code",
   "execution_count": 1,
   "id": "13418d55",
   "metadata": {
    "_cell_guid": "b1076dfc-b9ad-4769-8c92-a6c4dae69d19",
    "_uuid": "8f2839f25d086af736a60e9eeb907d3b93b6e0e5",
    "execution": {
     "iopub.execute_input": "2023-04-26T12:45:36.028356Z",
     "iopub.status.busy": "2023-04-26T12:45:36.027023Z",
     "iopub.status.idle": "2023-04-26T12:45:36.214058Z",
     "shell.execute_reply": "2023-04-26T12:45:36.212948Z"
    },
    "papermill": {
     "duration": 0.194605,
     "end_time": "2023-04-26T12:45:36.217069",
     "exception": false,
     "start_time": "2023-04-26T12:45:36.022464",
     "status": "completed"
    },
    "tags": []
   },
   "outputs": [],
   "source": [
    "import os\n",
    "import cv2\n",
    "import json\n",
    "import numpy as np\n",
    "import pandas as pd\n",
    "\n",
    "BASE_PATH: str = \"/kaggle/input/timeofdaydataset\""
   ]
  },
  {
   "cell_type": "code",
   "execution_count": 2,
   "id": "c51eb274",
   "metadata": {
    "execution": {
     "iopub.execute_input": "2023-04-26T12:45:36.222469Z",
     "iopub.status.busy": "2023-04-26T12:45:36.222065Z",
     "iopub.status.idle": "2023-04-26T12:45:36.490071Z",
     "shell.execute_reply": "2023-04-26T12:45:36.489009Z"
    },
    "papermill": {
     "duration": 0.273792,
     "end_time": "2023-04-26T12:45:36.492865",
     "exception": false,
     "start_time": "2023-04-26T12:45:36.219073",
     "status": "completed"
    },
    "tags": []
   },
   "outputs": [],
   "source": [
    "df: pd.DataFrame = pd.DataFrame(data=None, columns=[\"filepaths\", \"labels\"])\n",
    "    \n",
    "filepaths: list = []\n",
    "labels: list = []\n",
    "\n",
    "i: int = 0\n",
    "for folder in sorted(os.listdir(f\"{BASE_PATH}\")):\n",
    "    for filename in os.listdir(f\"{BASE_PATH}/{folder}\"):\n",
    "        filepaths.append(os.path.join(f\"{BASE_PATH}/{folder}\", filename))\n",
    "        labels.append(i)\n",
    "    i += 1\n",
    "    \n",
    "df.to_csv(\"train.csv\", index=False)\n",
    "\n",
    "\n",
    "labels: dict = dict()\n",
    "\n",
    "i = 0\n",
    "for folder in sorted(os.listdir(f\"{BASE_PATH}\")):\n",
    "    labels[i] = folder\n",
    "    i += 1\n",
    "\n",
    "json.dump(labels, open(\"labels.json\", \"w\"))"
   ]
  }
 ],
 "metadata": {
  "kernelspec": {
   "display_name": "Python 3",
   "language": "python",
   "name": "python3"
  },
  "language_info": {
   "codemirror_mode": {
    "name": "ipython",
    "version": 3
   },
   "file_extension": ".py",
   "mimetype": "text/x-python",
   "name": "python",
   "nbconvert_exporter": "python",
   "pygments_lexer": "ipython3",
   "version": "3.7.12"
  },
  "papermill": {
   "default_parameters": {},
   "duration": 11.137998,
   "end_time": "2023-04-26T12:45:37.216374",
   "environment_variables": {},
   "exception": null,
   "input_path": "__notebook__.ipynb",
   "output_path": "__notebook__.ipynb",
   "parameters": {},
   "start_time": "2023-04-26T12:45:26.078376",
   "version": "2.4.0"
  }
 },
 "nbformat": 4,
 "nbformat_minor": 5
}
