{
 "cells": [
  {
   "cell_type": "markdown",
   "id": "bfbd2a4a",
   "metadata": {
    "_cell_guid": "b1076dfc-b9ad-4769-8c92-a6c4dae69d19",
    "_uuid": "8f2839f25d086af736a60e9eeb907d3b93b6e0e5",
    "papermill": {
     "duration": 0.007029,
     "end_time": "2023-08-28T05:22:12.092159",
     "exception": false,
     "start_time": "2023-08-28T05:22:12.085130",
     "status": "completed"
    },
    "tags": []
   },
   "source": [
    "### **Setup**"
   ]
  },
  {
   "cell_type": "code",
   "execution_count": 1,
   "id": "4145628b",
   "metadata": {
    "execution": {
     "iopub.execute_input": "2023-08-28T05:22:12.107715Z",
     "iopub.status.busy": "2023-08-28T05:22:12.106894Z",
     "iopub.status.idle": "2023-08-28T05:22:23.612148Z",
     "shell.execute_reply": "2023-08-28T05:22:23.611105Z"
    },
    "papermill": {
     "duration": 11.515931,
     "end_time": "2023-08-28T05:22:23.614839",
     "exception": false,
     "start_time": "2023-08-28T05:22:12.098908",
     "status": "completed"
    },
    "tags": []
   },
   "outputs": [],
   "source": [
    "%%bash\n",
    "pip install timm -q"
   ]
  },
  {
   "cell_type": "markdown",
   "id": "91be4a55",
   "metadata": {
    "papermill": {
     "duration": 0.00612,
     "end_time": "2023-08-28T05:22:23.627583",
     "exception": false,
     "start_time": "2023-08-28T05:22:23.621463",
     "status": "completed"
    },
    "tags": []
   },
   "source": [
    "### **Library Imports**"
   ]
  },
  {
   "cell_type": "code",
   "execution_count": 2,
   "id": "a7641ae7",
   "metadata": {
    "execution": {
     "iopub.execute_input": "2023-08-28T05:22:23.641598Z",
     "iopub.status.busy": "2023-08-28T05:22:23.640796Z",
     "iopub.status.idle": "2023-08-28T05:22:29.584129Z",
     "shell.execute_reply": "2023-08-28T05:22:29.582985Z"
    },
    "papermill": {
     "duration": 5.953464,
     "end_time": "2023-08-28T05:22:29.587114",
     "exception": false,
     "start_time": "2023-08-28T05:22:23.633650",
     "status": "completed"
    },
    "tags": []
   },
   "outputs": [
    {
     "name": "stderr",
     "output_type": "stream",
     "text": [
      "/opt/conda/lib/python3.10/site-packages/scipy/__init__.py:146: UserWarning: A NumPy version >=1.16.5 and <1.23.0 is required for this version of SciPy (detected version 1.23.5\n",
      "  warnings.warn(f\"A NumPy version >={np_minversion} and <{np_maxversion}\"\n"
     ]
    }
   ],
   "source": [
    "import os\n",
    "import re\n",
    "import cv2\n",
    "import timm\n",
    "import torch\n",
    "import numpy as np\n",
    "import pandas as pd\n",
    "import matplotlib.pyplot as plt\n",
    "\n",
    "from time import time\n",
    "from scipy import stats\n",
    "from typing import Union\n",
    "from torch import nn, optim\n",
    "from torch.utils.data import Dataset\n",
    "from torch.utils.data import DataLoader as DL\n",
    "from torchvision import transforms\n",
    "\n",
    "from sklearn.model_selection import StratifiedKFold\n",
    "from sklearn.metrics import accuracy_score"
   ]
  },
  {
   "cell_type": "markdown",
   "id": "97b097cf",
   "metadata": {
    "papermill": {
     "duration": 0.00627,
     "end_time": "2023-08-28T05:22:29.600336",
     "exception": false,
     "start_time": "2023-08-28T05:22:29.594066",
     "status": "completed"
    },
    "tags": []
   },
   "source": [
    "### **Utilities and Helpers**"
   ]
  },
  {
   "cell_type": "code",
   "execution_count": 3,
   "id": "f265bbe7",
   "metadata": {
    "execution": {
     "iopub.execute_input": "2023-08-28T05:22:29.615423Z",
     "iopub.status.busy": "2023-08-28T05:22:29.615048Z",
     "iopub.status.idle": "2023-08-28T05:22:29.622058Z",
     "shell.execute_reply": "2023-08-28T05:22:29.620891Z"
    },
    "papermill": {
     "duration": 0.017096,
     "end_time": "2023-08-28T05:22:29.624356",
     "exception": false,
     "start_time": "2023-08-28T05:22:29.607260",
     "status": "completed"
    },
    "tags": []
   },
   "outputs": [],
   "source": [
    "SEED: int = 42\n",
    "\n",
    "\n",
    "def breaker(num: int=50, char: str=\"*\") -> None: print(\"\\n\" + num*char + \"\\n\")\n",
    "\n",
    "    \n",
    "def get_image(path: str) -> np.ndarray:\n",
    "    return cv2.imread(path, cv2.IMREAD_GRAYSCALE)\n",
    "\n",
    "    \n",
    "# def show_loss_graphs(L: list) -> None:\n",
    "#     TL, VL = [], []\n",
    "#     for i in range(len(L)):\n",
    "#         TL.append(L[i][\"train\"])\n",
    "#         VL.append(L[i][\"valid\"])\n",
    "#     x_Axis = np.arange(1, len(TL) + 1)\n",
    "#     plt.figure()\n",
    "#     plt.plot(x_Axis, TL, \"r\", label=\"Train\")\n",
    "#     plt.plot(x_Axis, VL, \"b\", label=\"Valid\")\n",
    "#     plt.legend()\n",
    "#     plt.grid()\n",
    "#     plt.title(\"Loss Graph\")\n",
    "#     plt.show()\n",
    "\n",
    "    \n",
    "# def show_accuracy_graphs(A: list) -> None:\n",
    "#     TA, VA = [], []\n",
    "#     for i in range(len(A)):\n",
    "#         TA.append(A[i][\"train\"])\n",
    "#         VA.append(A[i][\"valid\"])\n",
    "#     x_Axis = np.arange(1, len(TA) + 1)\n",
    "#     plt.figure()\n",
    "#     plt.plot(x_Axis, TA, \"r\", label=\"Train\")\n",
    "#     plt.plot(x_Axis, VA, \"b\", label=\"Valid\")\n",
    "#     plt.legend()\n",
    "#     plt.grid()\n",
    "#     plt.title(\"Accuracy Graph\")\n",
    "#     plt.show()\n",
    "    \n",
    "\n",
    "# def show_lr_graph(LR: list) -> None:\n",
    "#     x_Axis = [i+1 for i in range(len(LR))]\n",
    "#     plt.figure(figsize=(8, 6))\n",
    "#     plt.plot(x_Axis, LR, \"rx\")\n",
    "#     plt.grid()\n",
    "#     plt.show()"
   ]
  },
  {
   "cell_type": "markdown",
   "id": "a124cbd6",
   "metadata": {
    "papermill": {
     "duration": 0.005983,
     "end_time": "2023-08-28T05:22:29.636595",
     "exception": false,
     "start_time": "2023-08-28T05:22:29.630612",
     "status": "completed"
    },
    "tags": []
   },
   "source": [
    "\n",
    "\n",
    "### **Configuration**"
   ]
  },
  {
   "cell_type": "code",
   "execution_count": 4,
   "id": "443c5a6f",
   "metadata": {
    "execution": {
     "iopub.execute_input": "2023-08-28T05:22:29.650313Z",
     "iopub.status.busy": "2023-08-28T05:22:29.649710Z",
     "iopub.status.idle": "2023-08-28T05:22:29.720709Z",
     "shell.execute_reply": "2023-08-28T05:22:29.719691Z"
    },
    "papermill": {
     "duration": 0.080443,
     "end_time": "2023-08-28T05:22:29.723076",
     "exception": false,
     "start_time": "2023-08-28T05:22:29.642633",
     "status": "completed"
    },
    "tags": []
   },
   "outputs": [],
   "source": [
    "class CFG(object):\n",
    "    def __init__(\n",
    "        self, \n",
    "        seed: int = 42,\n",
    "        n_splits: int = 5,\n",
    "        batch_size: int = 16,\n",
    "        epochs: int = 25,\n",
    "        early_stopping: int = 5,\n",
    "        lr: float = 1e-4,\n",
    "        wd: float = 0.0,\n",
    "        max_lr: float = 1e-3,\n",
    "        pct_start: float = 0.2,\n",
    "        steps_per_epoch: int = 100,\n",
    "        div_factor: int = 1e3, \n",
    "        final_div_factor: float = 1e3,\n",
    "    ):\n",
    "        self.seed = seed\n",
    "        self.n_splits = n_splits\n",
    "        self.batch_size = batch_size\n",
    "        self.epochs = epochs\n",
    "        self.early_stopping = early_stopping\n",
    "        self.lr = lr\n",
    "        self.wd = wd\n",
    "        self.max_lr = max_lr\n",
    "        self.pct_start = pct_start\n",
    "        self.steps_per_epoch = steps_per_epoch\n",
    "        self.div_factor = div_factor\n",
    "        self.final_div_factor = final_div_factor\n",
    "        self.device = torch.device(\"cuda\" if torch.cuda.is_available() else \"cpu\")\n",
    "        \n",
    "        self.train_transform = transforms.Compose([\n",
    "            transforms.ToTensor(),\n",
    "            transforms.Normalize([0.80126], [0.39455]),\n",
    "            transforms.RandomAffine(degrees=(-45, 45), translate=(0.15, 0.15), scale=(0.5, 1.5)),\n",
    "            transforms.RandomHorizontalFlip(p=0.25),\n",
    "            transforms.RandomVerticalFlip(p=0.25),\n",
    "        ])\n",
    "        self.valid_transform = transforms.Compose([\n",
    "            transforms.ToTensor(),\n",
    "            transforms.Normalize([0.80126], [0.39455]),\n",
    "        ])\n",
    "                    \n",
    "        self.save_path = \"saves\"\n",
    "        if not os.path.exists(self.save_path): os.makedirs(self.save_path)\n",
    "    \n",
    "cfg = CFG(\n",
    "    seed=SEED, \n",
    ")"
   ]
  },
  {
   "cell_type": "markdown",
   "id": "46502fe4",
   "metadata": {
    "papermill": {
     "duration": 0.005925,
     "end_time": "2023-08-28T05:22:29.735371",
     "exception": false,
     "start_time": "2023-08-28T05:22:29.729446",
     "status": "completed"
    },
    "tags": []
   },
   "source": [
    "### **Dataset Template**"
   ]
  },
  {
   "cell_type": "code",
   "execution_count": 5,
   "id": "4212a247",
   "metadata": {
    "execution": {
     "iopub.execute_input": "2023-08-28T05:22:29.749558Z",
     "iopub.status.busy": "2023-08-28T05:22:29.749211Z",
     "iopub.status.idle": "2023-08-28T05:22:29.756449Z",
     "shell.execute_reply": "2023-08-28T05:22:29.755378Z"
    },
    "papermill": {
     "duration": 0.017575,
     "end_time": "2023-08-28T05:22:29.759086",
     "exception": false,
     "start_time": "2023-08-28T05:22:29.741511",
     "status": "completed"
    },
    "tags": []
   },
   "outputs": [],
   "source": [
    "class DS(Dataset):\n",
    "    def __init__(\n",
    "        self, \n",
    "        filepaths: np.ndarray,\n",
    "        labels: Union[np.ndarray, None]=None, \n",
    "        transform=None\n",
    "    ):\n",
    "        \n",
    "        self.filepaths = filepaths\n",
    "        self.labels = labels\n",
    "        self.transform = transform\n",
    "    \n",
    "    def __len__(self):\n",
    "        return self.filepaths.shape[0]\n",
    "    \n",
    "    def __getitem__(self, idx):\n",
    "        image = get_image(self.filepaths[idx])\n",
    "        if self.labels is None:\n",
    "            return self.transform(image)\n",
    "        return self.transform(image), torch.LongTensor(self.labels[idx])"
   ]
  },
  {
   "cell_type": "markdown",
   "id": "b4acadfc",
   "metadata": {
    "papermill": {
     "duration": 0.005816,
     "end_time": "2023-08-28T05:22:29.771378",
     "exception": false,
     "start_time": "2023-08-28T05:22:29.765562",
     "status": "completed"
    },
    "tags": []
   },
   "source": [
    "### **Model**"
   ]
  },
  {
   "cell_type": "code",
   "execution_count": 6,
   "id": "828072b3",
   "metadata": {
    "execution": {
     "iopub.execute_input": "2023-08-28T05:22:29.784857Z",
     "iopub.status.busy": "2023-08-28T05:22:29.784559Z",
     "iopub.status.idle": "2023-08-28T05:22:29.791353Z",
     "shell.execute_reply": "2023-08-28T05:22:29.790434Z"
    },
    "papermill": {
     "duration": 0.015925,
     "end_time": "2023-08-28T05:22:29.793466",
     "exception": false,
     "start_time": "2023-08-28T05:22:29.777541",
     "status": "completed"
    },
    "tags": []
   },
   "outputs": [],
   "source": [
    "class Model(nn.Module):\n",
    "    def __init__(self):\n",
    "        super(Model, self).__init__()\n",
    "            \n",
    "        self.model = timm.create_model(model_name=\"efficientnet_b4\", pretrained=False)\n",
    "        self.model.conv_stem = nn.Conv2d(\n",
    "            in_channels=1,\n",
    "            out_channels=self.model.conv_stem.out_channels,\n",
    "            kernel_size=self.model.conv_stem.kernel_size,\n",
    "            stride=self.model.conv_stem.stride,\n",
    "            padding=self.model.conv_stem.padding\n",
    "        )\n",
    "        self.model.classifier = nn.Linear(in_features=self.model.classifier.in_features, out_features=156)\n",
    "\n",
    "    def forward(self, x):\n",
    "        return nn.LogSoftmax(dim=1)(self.model(x))"
   ]
  },
  {
   "cell_type": "markdown",
   "id": "f42ec47a",
   "metadata": {
    "papermill": {
     "duration": 0.006017,
     "end_time": "2023-08-28T05:22:29.805640",
     "exception": false,
     "start_time": "2023-08-28T05:22:29.799623",
     "status": "completed"
    },
    "tags": []
   },
   "source": [
    "### **Fit and Predict**"
   ]
  },
  {
   "cell_type": "code",
   "execution_count": 7,
   "id": "f4593c84",
   "metadata": {
    "execution": {
     "iopub.execute_input": "2023-08-28T05:22:29.819825Z",
     "iopub.status.busy": "2023-08-28T05:22:29.819453Z",
     "iopub.status.idle": "2023-08-28T05:22:29.831583Z",
     "shell.execute_reply": "2023-08-28T05:22:29.830650Z"
    },
    "papermill": {
     "duration": 0.021919,
     "end_time": "2023-08-28T05:22:29.833692",
     "exception": false,
     "start_time": "2023-08-28T05:22:29.811773",
     "status": "completed"
    },
    "tags": []
   },
   "outputs": [],
   "source": [
    "# def fit(\n",
    "#     model=None,\n",
    "#     optimizer=None, \n",
    "#     scheduler_rlrop=None,\n",
    "#     scheduler_oclr=None,\n",
    "#     epochs=None, \n",
    "#     early_stopping_patience=None, \n",
    "#     dataloaders=None, \n",
    "#     fold=None, \n",
    "#     save_path=None,\n",
    "#     device=None,\n",
    "#     verbose=False\n",
    "# ) -> tuple:\n",
    "    \n",
    "#     def get_accuracy(y_pred, y_true):\n",
    "#         y_pred = torch.argmax(y_pred, dim=1)\n",
    "#         return torch.count_nonzero(y_pred == y_true).item() / len(y_pred)\n",
    "    \n",
    "    \n",
    "#     if verbose:\n",
    "#         breaker()\n",
    "#         if fold: print(f\"Training Fold {fold}...\")\n",
    "#         else: print(\"Training ...\")\n",
    "#         breaker()\n",
    "        \n",
    "#     bestLoss: dict = {\"train\" : np.inf, \"valid\" : np.inf} \n",
    "#     bestAccs: dict = {\"train\" : 0.0, \"valid\" : 0.0}\n",
    "    \n",
    "#     Losses: list = []\n",
    "#     Accuracies: list = [] \n",
    "#     LRs: list = []\n",
    "        \n",
    "#     if fold: \n",
    "#         ble_name = f\"ble_state_fold_{fold}.pt\"\n",
    "#         bae_name = f\"bae_state_fold_{fold}.pt\"\n",
    "#     else: \n",
    "#         ble_name = f\"ble_state.pt\"\n",
    "#         bae_name = f\"bae_state.pt\"\n",
    "        \n",
    "#     start_time = time()\n",
    "#     for e in range(epochs):\n",
    "#         e_st = time()\n",
    "#         epochLoss: dict = {\"train\" : 0.0, \"valid\" : 0.0} \n",
    "#         epochAccs: dict = {\"train\" : 0.0, \"valid\" : 0.0}\n",
    "\n",
    "#         for phase in [\"train\", \"valid\"]:\n",
    "#             if phase == \"train\":\n",
    "#                 model.train()\n",
    "#             else:\n",
    "#                 model.eval()\n",
    "            \n",
    "#             lossPerPass: list = []\n",
    "#             accsPerPass: list = []\n",
    "                \n",
    "#             for X, y in dataloaders[phase]:\n",
    "#                 X, y = X.to(device), y.to(device).view(-1)\n",
    "\n",
    "#                 optimizer.zero_grad()\n",
    "#                 with torch.set_grad_enabled(phase == \"train\"):\n",
    "#                     output = model(X)\n",
    "#                     loss = nn.NLLLoss()(output, y)\n",
    "#                     if phase == \"train\":\n",
    "#                         loss.backward()\n",
    "#                         optimizer.step()\n",
    "#                         if scheduler_oclr: scheduler_oclr.step()\n",
    "#                 lossPerPass.append(loss.item())\n",
    "#                 accsPerPass.append(get_accuracy(output, y))\n",
    "#             epochLoss[phase] = np.mean(np.array(lossPerPass))\n",
    "#             epochAccs[phase] = np.mean(np.array(accsPerPass))\n",
    "#         if scheduler_oclr: LRs.append(scheduler_oclr.get_last_lr())\n",
    "#         Losses.append(epochLoss)\n",
    "#         Accuracies.append(epochAccs)\n",
    "        \n",
    "#         if scheduler_oclr:\n",
    "#             save_dict = {\"model_state_dict\"     : model.state_dict(),\n",
    "#                          \"optim_state_dict\"     : optimizer.state_dict(),\n",
    "#                          \"scheduler_state_dict\" : scheduler_oclr.state_dict()}\n",
    "        \n",
    "#         elif scheduler_rlrop:\n",
    "#             save_dict = {\"model_state_dict\"     : model.state_dict(),\n",
    "#                          \"optim_state_dict\"     : optimizer.state_dict(),\n",
    "#                          \"scheduler_state_dict\" : scheduler_rlrop.state_dict()}\n",
    "        \n",
    "#         else:\n",
    "#             save_dict = {\"model_state_dict\"     : model.state_dict(),\n",
    "#                          \"optim_state_dict\"     : optimizer.state_dict()}\n",
    "        \n",
    "#         if early_stopping_patience:\n",
    "#             if epochLoss[\"valid\"] < bestLoss[\"valid\"]:\n",
    "#                 bestLoss = epochLoss\n",
    "#                 BLE = e + 1\n",
    "#                 torch.save(save_dict, os.path.join(save_path, ble_name))\n",
    "#                 torch.save(save_dict, os.path.join(save_path, bae_name))\n",
    "#                 early_stopping_step = 0\n",
    "#             else:\n",
    "#                 early_stopping_step += 1\n",
    "#                 if early_stopping_step > early_stopping_patience:\n",
    "#                     print(\"\\nEarly Stopping at Epoch {}\".format(e + 1))\n",
    "#                     break\n",
    "        \n",
    "#         if epochLoss[\"valid\"] < bestLoss[\"valid\"]:\n",
    "#             bestLoss = epochLoss\n",
    "#             BLE = e + 1\n",
    "#             torch.save(save_dict,os.path.join(save_path, ble_name))\n",
    "        \n",
    "#         if epochAccs[\"valid\"] > bestAccs[\"valid\"]:\n",
    "#             bestAccs = epochAccs\n",
    "#             BAE = e + 1\n",
    "#             torch.save(save_dict,os.path.join(save_path, bae_name))\n",
    "        \n",
    "#         if scheduler_rlrop: scheduler_rlrop.step(epochLoss[\"valid\"])\n",
    "        \n",
    "#         if verbose:\n",
    "#             print(\"Epoch: {} | Train Loss: {:.5f} | Valid Loss: {:.5f} |\\\n",
    "#  Train Accs: {:.5f} | Valid Accs: {:.5f} | Time: {:.2f} seconds\".format(e+1, \n",
    "#                                                                         epochLoss[\"train\"], epochLoss[\"valid\"], \n",
    "#                                                                         epochAccs[\"train\"], epochAccs[\"valid\"], \n",
    "#                                                                         time()-e_st))\n",
    "\n",
    "#     if verbose:                                           \n",
    "#         breaker()\n",
    "#         print(f\"Best Validation Loss at Epoch {BLE}\")\n",
    "#         breaker()\n",
    "#         print(f\"Best Validation Accs at Epoch {BAE}\")\n",
    "#         breaker()\n",
    "#         print(\"Time Taken [{} Epochs] : {:.2f} minutes\".format(len(Losses), (time()-start_time)/60))\n",
    "    \n",
    "#     return Losses, Accuracies, LRs, bestLoss, bestAccs, BLE, BAE, ble_name, bae_name\n",
    "\n",
    "\n",
    "def predict_batch(\n",
    "    model=None, \n",
    "    dataloader=None, \n",
    "    path=None, \n",
    "    device=None\n",
    ") -> np.ndarray:\n",
    "    model.load_state_dict(torch.load(path, map_location=device)[\"model_state_dict\"])\n",
    "    model.to(device)    \n",
    "    model.eval()\n",
    "    \n",
    "    y_pred = torch.zeros(1, 1).to(device)\n",
    "    \n",
    "    for X in dataloader:\n",
    "        X = X.to(device)\n",
    "        with torch.no_grad():\n",
    "            output = torch.argmax(torch.exp(model(X)), dim=1)\n",
    "        y_pred = torch.cat((y_pred, output.view(-1, 1)), dim=0)\n",
    "    \n",
    "    return y_pred[1:].detach().cpu().numpy()"
   ]
  },
  {
   "cell_type": "markdown",
   "id": "e669d166",
   "metadata": {
    "papermill": {
     "duration": 0.005796,
     "end_time": "2023-08-28T05:22:29.845440",
     "exception": false,
     "start_time": "2023-08-28T05:22:29.839644",
     "status": "completed"
    },
    "tags": []
   },
   "source": [
    "### **Train**"
   ]
  },
  {
   "cell_type": "code",
   "execution_count": 8,
   "id": "46f3786e",
   "metadata": {
    "execution": {
     "iopub.execute_input": "2023-08-28T05:22:29.858642Z",
     "iopub.status.busy": "2023-08-28T05:22:29.858344Z",
     "iopub.status.idle": "2023-08-28T05:22:29.862417Z",
     "shell.execute_reply": "2023-08-28T05:22:29.861459Z"
    },
    "papermill": {
     "duration": 0.013219,
     "end_time": "2023-08-28T05:22:29.864582",
     "exception": false,
     "start_time": "2023-08-28T05:22:29.851363",
     "status": "completed"
    },
    "tags": []
   },
   "outputs": [],
   "source": [
    "# df = pd.read_csv(\"/kaggle/input/thwcr-dataframe/train.csv\")\n",
    "\n",
    "# filepaths = df.filepaths.copy().values\n",
    "# labels = df[\"Class Label\"].copy().values"
   ]
  },
  {
   "cell_type": "code",
   "execution_count": 9,
   "id": "4ce54cd4",
   "metadata": {
    "execution": {
     "iopub.execute_input": "2023-08-28T05:22:29.878361Z",
     "iopub.status.busy": "2023-08-28T05:22:29.878059Z",
     "iopub.status.idle": "2023-08-28T05:22:29.884479Z",
     "shell.execute_reply": "2023-08-28T05:22:29.883442Z"
    },
    "papermill": {
     "duration": 0.016352,
     "end_time": "2023-08-28T05:22:29.887016",
     "exception": false,
     "start_time": "2023-08-28T05:22:29.870664",
     "status": "completed"
    },
    "tags": []
   },
   "outputs": [],
   "source": [
    "# fold: int = 1\n",
    "# BLs: list = []\n",
    "# BAs: list = []\n",
    "    \n",
    "# cfg.batch_size = 64\n",
    "# cfg.epochs = 10\n",
    "    \n",
    "# for tr_idx, va_idx in StratifiedKFold(n_splits=cfg.n_splits, random_state=cfg.seed, shuffle=True).split(filepaths, labels):\n",
    "#     if fold == 5: break\n",
    "#     fold += 1\n",
    "    \n",
    "# tr_filepaths, va_filepaths = filepaths[tr_idx], filepaths[va_idx] \n",
    "# tr_labels, va_labels       = labels[tr_idx], labels[va_idx]\n",
    "\n",
    "# tr_data_setup = DS(\n",
    "#     filepaths=tr_filepaths,\n",
    "#     labels=tr_labels.reshape(-1, 1),\n",
    "#     transform=cfg.train_transform\n",
    "# )\n",
    "\n",
    "# va_data_setup = DS(\n",
    "#     filepaths=va_filepaths, \n",
    "#     labels=va_labels.reshape(-1, 1),\n",
    "#     transform=cfg.valid_transform\n",
    "# )\n",
    "\n",
    "# dataloaders = {\n",
    "#     \"train\" : DL(tr_data_setup, batch_size=cfg.batch_size, shuffle=True, generator=torch.manual_seed(cfg.seed)),\n",
    "#     \"valid\" : DL(va_data_setup, batch_size=cfg.batch_size, shuffle=False),\n",
    "# }\n",
    "\n",
    "# cfg.steps_per_epoch=len(dataloaders[\"train\"])\n",
    "\n",
    "# torch.manual_seed(cfg.seed)\n",
    "# model = Model().to(cfg.device)\n",
    "\n",
    "# optimizer = optim.Adam([p for p in model.parameters() if p.requires_grad], lr=cfg.lr, weight_decay=cfg.wd)\n",
    "# # optimizer = optim.AdamW([p for p in model.parameters() if p.requires_grad], lr=cfg.lr, weight_decay=cfg.wd)\n",
    "# # optimizer = optim.SGD([p for p in model.parameters() if p.requires_grad], lr=cfg.lr, weight_decay=cfg.wd, momentum=0.9)\n",
    "\n",
    "# scheduler_oclr = optim.lr_scheduler.OneCycleLR(\n",
    "#     optimizer=optimizer, \n",
    "#     max_lr=cfg.max_lr, \n",
    "#     epochs=cfg.epochs, \n",
    "#     steps_per_epoch=cfg.steps_per_epoch,\n",
    "#     pct_start=cfg.pct_start, \n",
    "#     div_factor=cfg.div_factor, \n",
    "#     final_div_factor=cfg.final_div_factor\n",
    "# )\n",
    "\n",
    "# # scheduler_rlrop = optim.lr_scheduler.ReduceLROnPlateau(\n",
    "# #     optimizer=optimizer,\n",
    "# #     patience=cfg.patience,\n",
    "# #     eps=cfg.eps,\n",
    "# #     verbose=True\n",
    "# # )\n",
    "\n",
    "# # scheduler_oclr = None\n",
    "# scheduler_rlrop = None\n",
    "\n",
    "\n",
    "# L, A, LR, BL, BA, _, _, _, _ = fit(\n",
    "#     model=model, \n",
    "#     optimizer=optimizer, \n",
    "#     scheduler_oclr=scheduler_oclr,\n",
    "#     scheduler_rlrop=scheduler_rlrop,\n",
    "#     epochs=cfg.epochs, \n",
    "#     early_stopping_patience=cfg.early_stopping, \n",
    "#     dataloaders=dataloaders, \n",
    "#     device=cfg.device,\n",
    "#     save_path=cfg.save_path,\n",
    "#     fold=fold,\n",
    "#     verbose=True\n",
    "# )\n",
    "\n",
    "\n",
    "# # breaker()\n",
    "# # show_loss_graphs(L)\n",
    "# # breaker()\n",
    "# # show_accuracy_graphs(A)\n",
    "# # breaker()\n",
    "# # if scheduler_oclr:\n",
    "# #     show_lr_graph(LR)\n",
    "# #     breaker()\n",
    "\n",
    "# # BLs.append(BL)\n",
    "# # BAs.append(BA)\n",
    "\n",
    "# # fold += 1"
   ]
  },
  {
   "cell_type": "markdown",
   "id": "a64cb3ea",
   "metadata": {
    "papermill": {
     "duration": 0.00587,
     "end_time": "2023-08-28T05:22:29.899200",
     "exception": false,
     "start_time": "2023-08-28T05:22:29.893330",
     "status": "completed"
    },
    "tags": []
   },
   "source": [
    "### **Best Model**"
   ]
  },
  {
   "cell_type": "code",
   "execution_count": 10,
   "id": "a2078343",
   "metadata": {
    "execution": {
     "iopub.execute_input": "2023-08-28T05:22:29.913698Z",
     "iopub.status.busy": "2023-08-28T05:22:29.912604Z",
     "iopub.status.idle": "2023-08-28T05:22:29.917855Z",
     "shell.execute_reply": "2023-08-28T05:22:29.916913Z"
    },
    "papermill": {
     "duration": 0.014767,
     "end_time": "2023-08-28T05:22:29.919984",
     "exception": false,
     "start_time": "2023-08-28T05:22:29.905217",
     "status": "completed"
    },
    "tags": []
   },
   "outputs": [],
   "source": [
    "# BL = np.inf\n",
    "# for i in range(len(BLs)):\n",
    "#     if BLs[i][\"valid\"] < BL:\n",
    "#         BL = BLs[i][\"valid\"]\n",
    "#         best_loss_index = i\n",
    "\n",
    "        \n",
    "# BA = 0.0\n",
    "# for i in range(len(BAs)):\n",
    "#     if BAs[i][\"valid\"] > BA:\n",
    "#         BA = BAs[i][\"valid\"]\n",
    "#         best_accs_index = i\n",
    "\n",
    "# breaker()\n",
    "# print(f\"Best Loss Model Fold     : {best_loss_index + 1}\")\n",
    "# print(f\"Best Accuracy Model Fold : {best_accs_index + 1}\")\n",
    "# breaker()"
   ]
  },
  {
   "cell_type": "markdown",
   "id": "a5fbfe08",
   "metadata": {
    "papermill": {
     "duration": 0.006219,
     "end_time": "2023-08-28T05:22:29.932241",
     "exception": false,
     "start_time": "2023-08-28T05:22:29.926022",
     "status": "completed"
    },
    "tags": []
   },
   "source": [
    "### **Submission**"
   ]
  },
  {
   "cell_type": "code",
   "execution_count": 11,
   "id": "e75116ab",
   "metadata": {
    "execution": {
     "iopub.execute_input": "2023-08-28T05:22:29.945933Z",
     "iopub.status.busy": "2023-08-28T05:22:29.945594Z",
     "iopub.status.idle": "2023-08-28T05:22:33.267537Z",
     "shell.execute_reply": "2023-08-28T05:22:33.265536Z"
    },
    "papermill": {
     "duration": 3.331614,
     "end_time": "2023-08-28T05:22:33.269909",
     "exception": false,
     "start_time": "2023-08-28T05:22:29.938295",
     "status": "completed"
    },
    "tags": []
   },
   "outputs": [],
   "source": [
    "ts_df = pd.read_csv(\"/kaggle/input/thwcr-dataframe/test.csv\")\n",
    "\n",
    "cfg.batch_size = 64\n",
    "\n",
    "ts_data_setup = DS(\n",
    "    filepaths=ts_df.filepaths, \n",
    "    labels=None,\n",
    "    transform=cfg.valid_transform\n",
    ")\n",
    "ts_data = DL(ts_data_setup, batch_size=cfg.batch_size, shuffle=False)\n",
    "\n",
    "model = Model().to(cfg.device)\n",
    "\n",
    "MODEL_BASE_PATH: str = \"/kaggle/input\""
   ]
  },
  {
   "cell_type": "code",
   "execution_count": 12,
   "id": "2a50b600",
   "metadata": {
    "execution": {
     "iopub.execute_input": "2023-08-28T05:22:33.285339Z",
     "iopub.status.busy": "2023-08-28T05:22:33.284995Z",
     "iopub.status.idle": "2023-08-28T05:27:11.614518Z",
     "shell.execute_reply": "2023-08-28T05:27:11.613454Z"
    },
    "papermill": {
     "duration": 278.340255,
     "end_time": "2023-08-28T05:27:11.617352",
     "exception": false,
     "start_time": "2023-08-28T05:22:33.277097",
     "status": "completed"
    },
    "tags": []
   },
   "outputs": [],
   "source": [
    "y_pred_l_1 = predict_batch(\n",
    "    model=model,\n",
    "    dataloader=ts_data,\n",
    "    path=f\"{MODEL_BASE_PATH}/twhcr-en4-a64-e10-f1/saves/ble_state_fold_1.pt\",\n",
    "    device=cfg.device\n",
    ")\n",
    "\n",
    "y_pred_l_2 = predict_batch(\n",
    "    model=model,\n",
    "    dataloader=ts_data,\n",
    "    path=f\"{MODEL_BASE_PATH}/twhcr-en4-a64-e10-f2/saves/ble_state_fold_2.pt\",\n",
    "    device=cfg.device\n",
    ")\n",
    "\n",
    "y_pred_l_3 = predict_batch(\n",
    "    model=model,\n",
    "    dataloader=ts_data,\n",
    "    path=f\"{MODEL_BASE_PATH}/twhcr-en4-a64-e10-f3/saves/ble_state_fold_3.pt\",\n",
    "    device=cfg.device\n",
    ")\n",
    "\n",
    "y_pred_l_4 = predict_batch(\n",
    "    model=model,\n",
    "    dataloader=ts_data,\n",
    "    path=f\"{MODEL_BASE_PATH}/twhcr-en4-a64-e10-f4/saves/ble_state_fold_4.pt\",\n",
    "    device=cfg.device\n",
    ")\n",
    "\n",
    "y_pred_l_5 = predict_batch(\n",
    "    model=model,\n",
    "    dataloader=ts_data,\n",
    "    path=f\"{MODEL_BASE_PATH}/twhcr-en4-a64-e10-f5/saves/ble_state_fold_5.pt\",\n",
    "    device=cfg.device\n",
    ")"
   ]
  },
  {
   "cell_type": "code",
   "execution_count": 13,
   "id": "d2f4af28",
   "metadata": {
    "execution": {
     "iopub.execute_input": "2023-08-28T05:27:11.632450Z",
     "iopub.status.busy": "2023-08-28T05:27:11.632109Z",
     "iopub.status.idle": "2023-08-28T05:30:49.008117Z",
     "shell.execute_reply": "2023-08-28T05:30:49.007070Z"
    },
    "papermill": {
     "duration": 217.386368,
     "end_time": "2023-08-28T05:30:49.010721",
     "exception": false,
     "start_time": "2023-08-28T05:27:11.624353",
     "status": "completed"
    },
    "tags": []
   },
   "outputs": [],
   "source": [
    "y_pred_a_1 = predict_batch(\n",
    "    model=model,\n",
    "    dataloader=ts_data,\n",
    "    path=f\"{MODEL_BASE_PATH}/twhcr-en4-a64-e10-f1/saves/bae_state_fold_1.pt\",\n",
    "    device=cfg.device\n",
    ")\n",
    "\n",
    "y_pred_a_2 = predict_batch(\n",
    "    model=model,\n",
    "    dataloader=ts_data,\n",
    "    path=f\"{MODEL_BASE_PATH}/twhcr-en4-a64-e10-f2/saves/bae_state_fold_2.pt\",\n",
    "    device=cfg.device\n",
    ")\n",
    "\n",
    "y_pred_a_3 = predict_batch(\n",
    "    model=model,\n",
    "    dataloader=ts_data,\n",
    "    path=f\"{MODEL_BASE_PATH}/twhcr-en4-a64-e10-f3/saves/bae_state_fold_3.pt\",\n",
    "    device=cfg.device\n",
    ")\n",
    "\n",
    "y_pred_a_4 = predict_batch(\n",
    "    model=model,\n",
    "    dataloader=ts_data,\n",
    "    path=f\"{MODEL_BASE_PATH}/twhcr-en4-a64-e10-f4/saves/bae_state_fold_4.pt\",\n",
    "    device=cfg.device\n",
    ")\n",
    "\n",
    "y_pred_a_5 = predict_batch(\n",
    "    model=model,\n",
    "    dataloader=ts_data,\n",
    "    path=f\"{MODEL_BASE_PATH}/twhcr-en4-a64-e10-f5/saves/bae_state_fold_5.pt\",\n",
    "    device=cfg.device\n",
    ")"
   ]
  },
  {
   "cell_type": "code",
   "execution_count": 14,
   "id": "e5248c1c",
   "metadata": {
    "execution": {
     "iopub.execute_input": "2023-08-28T05:30:49.026062Z",
     "iopub.status.busy": "2023-08-28T05:30:49.025135Z",
     "iopub.status.idle": "2023-08-28T05:30:50.172017Z",
     "shell.execute_reply": "2023-08-28T05:30:50.171004Z"
    },
    "papermill": {
     "duration": 1.156983,
     "end_time": "2023-08-28T05:30:50.174429",
     "exception": false,
     "start_time": "2023-08-28T05:30:49.017446",
     "status": "completed"
    },
    "tags": []
   },
   "outputs": [],
   "source": [
    "y_pred = np.concatenate((\n",
    "    y_pred_l_1.reshape(1, -1),\n",
    "    y_pred_l_2.reshape(1, -1), \n",
    "    y_pred_l_3.reshape(1, -1), \n",
    "    y_pred_l_4.reshape(1, -1), \n",
    "    y_pred_l_5.reshape(1, -1), \n",
    "    y_pred_a_1.reshape(1, -1),\n",
    "    y_pred_a_2.reshape(1, -1),\n",
    "    y_pred_a_3.reshape(1, -1),\n",
    "    y_pred_a_4.reshape(1, -1),\n",
    "    y_pred_a_5.reshape(1, -1),\n",
    "), axis=0)\n",
    "y_pred = stats.mode(y_pred)[0].reshape(-1).astype(\"uint8\")\n",
    "\n",
    "ss_df = pd.read_csv(\"/kaggle/input/tamil-hwcr/sample_submission.csv\")\n",
    "ss_df[\"Class Label\"] = y_pred\n",
    "ss_df.to_csv(\"submission.csv\", index=False)"
   ]
  }
 ],
 "metadata": {
  "kernelspec": {
   "display_name": "Python 3",
   "language": "python",
   "name": "python3"
  },
  "language_info": {
   "codemirror_mode": {
    "name": "ipython",
    "version": 3
   },
   "file_extension": ".py",
   "mimetype": "text/x-python",
   "name": "python",
   "nbconvert_exporter": "python",
   "pygments_lexer": "ipython3",
   "version": "3.10.12"
  },
  "papermill": {
   "default_parameters": {},
   "duration": 531.093637,
   "end_time": "2023-08-28T05:30:52.517141",
   "environment_variables": {},
   "exception": null,
   "input_path": "__notebook__.ipynb",
   "output_path": "__notebook__.ipynb",
   "parameters": {},
   "start_time": "2023-08-28T05:22:01.423504",
   "version": "2.4.0"
  }
 },
 "nbformat": 4,
 "nbformat_minor": 5
}
