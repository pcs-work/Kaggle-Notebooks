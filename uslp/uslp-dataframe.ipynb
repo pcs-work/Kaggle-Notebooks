{
 "cells": [
  {
   "cell_type": "code",
   "execution_count": 1,
   "id": "aca7627a",
   "metadata": {
    "_cell_guid": "b1076dfc-b9ad-4769-8c92-a6c4dae69d19",
    "_uuid": "8f2839f25d086af736a60e9eeb907d3b93b6e0e5",
    "execution": {
     "iopub.execute_input": "2023-07-26T13:17:35.034544Z",
     "iopub.status.busy": "2023-07-26T13:17:35.034124Z",
     "iopub.status.idle": "2023-07-26T13:17:35.305518Z",
     "shell.execute_reply": "2023-07-26T13:17:35.304098Z"
    },
    "papermill": {
     "duration": 0.278973,
     "end_time": "2023-07-26T13:17:35.308388",
     "exception": false,
     "start_time": "2023-07-26T13:17:35.029415",
     "status": "completed"
    },
    "tags": []
   },
   "outputs": [],
   "source": [
    "import os\n",
    "import cv2\n",
    "import json\n",
    "import numpy as np\n",
    "import pandas as pd\n",
    "\n",
    "BASE_PATH: str = \"/kaggle/input/us-license-plates-image-classification/new plates\""
   ]
  },
  {
   "cell_type": "code",
   "execution_count": 2,
   "id": "24211aae",
   "metadata": {
    "execution": {
     "iopub.execute_input": "2023-07-26T13:17:35.315791Z",
     "iopub.status.busy": "2023-07-26T13:17:35.315351Z",
     "iopub.status.idle": "2023-07-26T13:17:40.717631Z",
     "shell.execute_reply": "2023-07-26T13:17:40.716484Z"
    },
    "papermill": {
     "duration": 5.40922,
     "end_time": "2023-07-26T13:17:40.720581",
     "exception": false,
     "start_time": "2023-07-26T13:17:35.311361",
     "status": "completed"
    },
    "tags": []
   },
   "outputs": [],
   "source": [
    "tr_df: pd.DataFrame = pd.DataFrame(data=None, columns=[\"filepaths\", \"labels\"])\n",
    "    \n",
    "filepaths: list = []\n",
    "labels: list = []\n",
    "\n",
    "i: int = 0\n",
    "for folder in sorted(os.listdir(f\"{BASE_PATH}/train\")):\n",
    "    for filename in os.listdir(f\"{BASE_PATH}/train/{folder}\"):\n",
    "        filepaths.append(os.path.join(f\"{BASE_PATH}/train/{folder}\", filename))\n",
    "        labels.append(i)\n",
    "    i += 1\n",
    "\n",
    "tr_df.filepaths = filepaths\n",
    "tr_df.labels = labels\n",
    "tr_df.to_csv(\"train.csv\", index=False)"
   ]
  },
  {
   "cell_type": "code",
   "execution_count": 3,
   "id": "fbfdfdce",
   "metadata": {
    "execution": {
     "iopub.execute_input": "2023-07-26T13:17:40.728021Z",
     "iopub.status.busy": "2023-07-26T13:17:40.727600Z",
     "iopub.status.idle": "2023-07-26T13:17:41.229526Z",
     "shell.execute_reply": "2023-07-26T13:17:41.228519Z"
    },
    "papermill": {
     "duration": 0.508713,
     "end_time": "2023-07-26T13:17:41.232185",
     "exception": false,
     "start_time": "2023-07-26T13:17:40.723472",
     "status": "completed"
    },
    "tags": []
   },
   "outputs": [],
   "source": [
    "va_df: pd.DataFrame = pd.DataFrame(data=None, columns=[\"filepaths\", \"labels\"])\n",
    "    \n",
    "filepaths: list = []\n",
    "labels: list = []\n",
    "\n",
    "i: int = 0\n",
    "for folder in sorted(os.listdir(f\"{BASE_PATH}/valid\")):\n",
    "    for filename in os.listdir(f\"{BASE_PATH}/valid/{folder}\"):\n",
    "        filepaths.append(os.path.join(f\"{BASE_PATH}/valid/{folder}\", filename))\n",
    "        labels.append(i)\n",
    "    i += 1\n",
    "\n",
    "va_df.filepaths = filepaths\n",
    "va_df.labels = labels\n",
    "va_df.to_csv(\"test.csv\", index=False)"
   ]
  },
  {
   "cell_type": "code",
   "execution_count": 4,
   "id": "b68db5a8",
   "metadata": {
    "execution": {
     "iopub.execute_input": "2023-07-26T13:17:41.239953Z",
     "iopub.status.busy": "2023-07-26T13:17:41.239283Z",
     "iopub.status.idle": "2023-07-26T13:17:41.804037Z",
     "shell.execute_reply": "2023-07-26T13:17:41.803077Z"
    },
    "papermill": {
     "duration": 0.57172,
     "end_time": "2023-07-26T13:17:41.806728",
     "exception": false,
     "start_time": "2023-07-26T13:17:41.235008",
     "status": "completed"
    },
    "tags": []
   },
   "outputs": [],
   "source": [
    "ts_df: pd.DataFrame = pd.DataFrame(data=None, columns=[\"filepaths\", \"labels\"])\n",
    "    \n",
    "filepaths: list = []\n",
    "labels: list = []\n",
    "\n",
    "i: int = 0\n",
    "for folder in sorted(os.listdir(f\"{BASE_PATH}/test\")):\n",
    "    for filename in os.listdir(f\"{BASE_PATH}/test/{folder}\"):\n",
    "        filepaths.append(os.path.join(f\"{BASE_PATH}/test/{folder}\", filename))\n",
    "        labels.append(i)\n",
    "    i += 1\n",
    "\n",
    "ts_df.filepaths = filepaths\n",
    "ts_df.labels = labels\n",
    "ts_df.to_csv(\"test.csv\", index=False)"
   ]
  },
  {
   "cell_type": "code",
   "execution_count": 5,
   "id": "9a4c34bd",
   "metadata": {
    "execution": {
     "iopub.execute_input": "2023-07-26T13:17:41.814564Z",
     "iopub.status.busy": "2023-07-26T13:17:41.813951Z",
     "iopub.status.idle": "2023-07-26T13:17:41.821517Z",
     "shell.execute_reply": "2023-07-26T13:17:41.820048Z"
    },
    "papermill": {
     "duration": 0.014594,
     "end_time": "2023-07-26T13:17:41.824336",
     "exception": false,
     "start_time": "2023-07-26T13:17:41.809742",
     "status": "completed"
    },
    "tags": []
   },
   "outputs": [],
   "source": [
    "labels: dict = dict()\n",
    "\n",
    "i = 0\n",
    "for folder in sorted(os.listdir(f\"{BASE_PATH}/train\")):\n",
    "    labels[i] = folder\n",
    "    i += 1\n",
    "\n",
    "json.dump(labels, open(\"labels.json\", \"w\"))"
   ]
  }
 ],
 "metadata": {
  "kernelspec": {
   "display_name": "Python 3",
   "language": "python",
   "name": "python3"
  },
  "language_info": {
   "codemirror_mode": {
    "name": "ipython",
    "version": 3
   },
   "file_extension": ".py",
   "mimetype": "text/x-python",
   "name": "python",
   "nbconvert_exporter": "python",
   "pygments_lexer": "ipython3",
   "version": "3.10.12"
  },
  "papermill": {
   "default_parameters": {},
   "duration": 20.441414,
   "end_time": "2023-07-26T13:17:42.749835",
   "environment_variables": {},
   "exception": null,
   "input_path": "__notebook__.ipynb",
   "output_path": "__notebook__.ipynb",
   "parameters": {},
   "start_time": "2023-07-26T13:17:22.308421",
   "version": "2.4.0"
  }
 },
 "nbformat": 4,
 "nbformat_minor": 5
}
