{
 "cells": [
  {
   "cell_type": "code",
   "execution_count": 1,
   "id": "ed38a21b",
   "metadata": {
    "_cell_guid": "b1076dfc-b9ad-4769-8c92-a6c4dae69d19",
    "_uuid": "8f2839f25d086af736a60e9eeb907d3b93b6e0e5",
    "execution": {
     "iopub.execute_input": "2023-07-26T13:20:36.643954Z",
     "iopub.status.busy": "2023-07-26T13:20:36.643552Z",
     "iopub.status.idle": "2023-07-26T13:20:36.880022Z",
     "shell.execute_reply": "2023-07-26T13:20:36.878694Z"
    },
    "papermill": {
     "duration": 0.244116,
     "end_time": "2023-07-26T13:20:36.882960",
     "exception": false,
     "start_time": "2023-07-26T13:20:36.638844",
     "status": "completed"
    },
    "tags": []
   },
   "outputs": [],
   "source": [
    "import os\n",
    "import cv2\n",
    "import json\n",
    "import numpy as np\n",
    "import pandas as pd\n",
    "\n",
    "BASE_PATH: str = \"/kaggle/input/us-license-plates-image-classification/new plates\""
   ]
  },
  {
   "cell_type": "code",
   "execution_count": 2,
   "id": "3dcc27bb",
   "metadata": {
    "execution": {
     "iopub.execute_input": "2023-07-26T13:20:36.890070Z",
     "iopub.status.busy": "2023-07-26T13:20:36.889659Z",
     "iopub.status.idle": "2023-07-26T13:20:40.447738Z",
     "shell.execute_reply": "2023-07-26T13:20:40.446562Z"
    },
    "papermill": {
     "duration": 3.564789,
     "end_time": "2023-07-26T13:20:40.450582",
     "exception": false,
     "start_time": "2023-07-26T13:20:36.885793",
     "status": "completed"
    },
    "tags": []
   },
   "outputs": [],
   "source": [
    "tr_df: pd.DataFrame = pd.DataFrame(data=None, columns=[\"filepaths\", \"labels\"])\n",
    "    \n",
    "filepaths: list = []\n",
    "labels: list = []\n",
    "\n",
    "i: int = 0\n",
    "for folder in sorted(os.listdir(f\"{BASE_PATH}/train\")):\n",
    "    for filename in os.listdir(f\"{BASE_PATH}/train/{folder}\"):\n",
    "        filepaths.append(os.path.join(f\"{BASE_PATH}/train/{folder}\", filename))\n",
    "        labels.append(i)\n",
    "    i += 1\n",
    "\n",
    "tr_df.filepaths = filepaths\n",
    "tr_df.labels = labels\n",
    "tr_df.to_csv(\"train.csv\", index=False)"
   ]
  },
  {
   "cell_type": "code",
   "execution_count": 3,
   "id": "de2a2c95",
   "metadata": {
    "execution": {
     "iopub.execute_input": "2023-07-26T13:20:40.457729Z",
     "iopub.status.busy": "2023-07-26T13:20:40.457299Z",
     "iopub.status.idle": "2023-07-26T13:20:40.932636Z",
     "shell.execute_reply": "2023-07-26T13:20:40.931512Z"
    },
    "papermill": {
     "duration": 0.482227,
     "end_time": "2023-07-26T13:20:40.935571",
     "exception": false,
     "start_time": "2023-07-26T13:20:40.453344",
     "status": "completed"
    },
    "tags": []
   },
   "outputs": [],
   "source": [
    "va_df: pd.DataFrame = pd.DataFrame(data=None, columns=[\"filepaths\", \"labels\"])\n",
    "    \n",
    "filepaths: list = []\n",
    "labels: list = []\n",
    "\n",
    "i: int = 0\n",
    "for folder in sorted(os.listdir(f\"{BASE_PATH}/valid\")):\n",
    "    for filename in os.listdir(f\"{BASE_PATH}/valid/{folder}\"):\n",
    "        filepaths.append(os.path.join(f\"{BASE_PATH}/valid/{folder}\", filename))\n",
    "        labels.append(i)\n",
    "    i += 1\n",
    "\n",
    "va_df.filepaths = filepaths\n",
    "va_df.labels = labels\n",
    "va_df.to_csv(\"valid.csv\", index=False)"
   ]
  },
  {
   "cell_type": "code",
   "execution_count": 4,
   "id": "ed1f625e",
   "metadata": {
    "execution": {
     "iopub.execute_input": "2023-07-26T13:20:40.943238Z",
     "iopub.status.busy": "2023-07-26T13:20:40.942876Z",
     "iopub.status.idle": "2023-07-26T13:20:41.346358Z",
     "shell.execute_reply": "2023-07-26T13:20:41.345350Z"
    },
    "papermill": {
     "duration": 0.411376,
     "end_time": "2023-07-26T13:20:41.350107",
     "exception": false,
     "start_time": "2023-07-26T13:20:40.938731",
     "status": "completed"
    },
    "tags": []
   },
   "outputs": [],
   "source": [
    "ts_df: pd.DataFrame = pd.DataFrame(data=None, columns=[\"filepaths\", \"labels\"])\n",
    "    \n",
    "filepaths: list = []\n",
    "labels: list = []\n",
    "\n",
    "i: int = 0\n",
    "for folder in sorted(os.listdir(f\"{BASE_PATH}/test\")):\n",
    "    for filename in os.listdir(f\"{BASE_PATH}/test/{folder}\"):\n",
    "        filepaths.append(os.path.join(f\"{BASE_PATH}/test/{folder}\", filename))\n",
    "        labels.append(i)\n",
    "    i += 1\n",
    "\n",
    "ts_df.filepaths = filepaths\n",
    "ts_df.labels = labels\n",
    "ts_df.to_csv(\"test.csv\", index=False)"
   ]
  },
  {
   "cell_type": "code",
   "execution_count": 5,
   "id": "a11b002d",
   "metadata": {
    "execution": {
     "iopub.execute_input": "2023-07-26T13:20:41.362028Z",
     "iopub.status.busy": "2023-07-26T13:20:41.359191Z",
     "iopub.status.idle": "2023-07-26T13:20:41.375041Z",
     "shell.execute_reply": "2023-07-26T13:20:41.374094Z"
    },
    "papermill": {
     "duration": 0.023986,
     "end_time": "2023-07-26T13:20:41.378536",
     "exception": false,
     "start_time": "2023-07-26T13:20:41.354550",
     "status": "completed"
    },
    "tags": []
   },
   "outputs": [],
   "source": [
    "labels: dict = dict()\n",
    "\n",
    "i = 0\n",
    "for folder in sorted(os.listdir(f\"{BASE_PATH}/train\")):\n",
    "    labels[i] = folder\n",
    "    i += 1\n",
    "\n",
    "json.dump(labels, open(\"labels.json\", \"w\"))"
   ]
  }
 ],
 "metadata": {
  "kernelspec": {
   "display_name": "Python 3",
   "language": "python",
   "name": "python3"
  },
  "language_info": {
   "codemirror_mode": {
    "name": "ipython",
    "version": 3
   },
   "file_extension": ".py",
   "mimetype": "text/x-python",
   "name": "python",
   "nbconvert_exporter": "python",
   "pygments_lexer": "ipython3",
   "version": "3.10.12"
  },
  "papermill": {
   "default_parameters": {},
   "duration": 17.117888,
   "end_time": "2023-07-26T13:20:42.304956",
   "environment_variables": {},
   "exception": null,
   "input_path": "__notebook__.ipynb",
   "output_path": "__notebook__.ipynb",
   "parameters": {},
   "start_time": "2023-07-26T13:20:25.187068",
   "version": "2.4.0"
  }
 },
 "nbformat": 4,
 "nbformat_minor": 5
}
