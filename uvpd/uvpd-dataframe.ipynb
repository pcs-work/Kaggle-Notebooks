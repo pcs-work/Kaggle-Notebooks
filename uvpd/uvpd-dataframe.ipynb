{
 "cells": [
  {
   "cell_type": "code",
   "execution_count": 1,
   "id": "8252c3a7",
   "metadata": {
    "_cell_guid": "b1076dfc-b9ad-4769-8c92-a6c4dae69d19",
    "_uuid": "8f2839f25d086af736a60e9eeb907d3b93b6e0e5",
    "execution": {
     "iopub.execute_input": "2023-03-05T07:06:38.540005Z",
     "iopub.status.busy": "2023-03-05T07:06:38.539569Z",
     "iopub.status.idle": "2023-03-05T07:06:38.551015Z",
     "shell.execute_reply": "2023-03-05T07:06:38.550037Z"
    },
    "papermill": {
     "duration": 0.019516,
     "end_time": "2023-03-05T07:06:38.554099",
     "exception": false,
     "start_time": "2023-03-05T07:06:38.534583",
     "status": "completed"
    },
    "tags": []
   },
   "outputs": [],
   "source": [
    "import os\n",
    "import numpy as np\n",
    "import pandas as pd\n",
    "\n",
    "\n",
    "BASE_PATH: str = \"/kaggle/input/urban-visual-pollution-dataset/images/images\"\n",
    "    \n",
    "STR_TO_NUM: dict = {\n",
    "    \"BAD_BILLBOARD\" : 0,\n",
    "    \"BAD_STREETLIGHT\" : 1,\n",
    "    \"BROKEN_SIGNAGE\" : 2,\n",
    "    \"CLUTTER_SIDEWALK\" : 3,\n",
    "    \"CONSTRUCTION_ROAD\" : 4,\n",
    "    \"FADED_SIGNAGE\" : 5,\n",
    "    \"GARBAGE\" : 6,\n",
    "    \"GRAFFITI\" : 7,\n",
    "    \"POTHOLES\" : 8,\n",
    "    \"SAND_ON_ROAD\" : 9,\n",
    "    \"UNKEPT_FACADE\" : 10,\n",
    "}"
   ]
  },
  {
   "cell_type": "code",
   "execution_count": 2,
   "id": "39ff99a3",
   "metadata": {
    "execution": {
     "iopub.execute_input": "2023-03-05T07:06:38.560873Z",
     "iopub.status.busy": "2023-03-05T07:06:38.559600Z",
     "iopub.status.idle": "2023-03-05T07:06:38.666356Z",
     "shell.execute_reply": "2023-03-05T07:06:38.664486Z"
    },
    "papermill": {
     "duration": 0.113114,
     "end_time": "2023-03-05T07:06:38.669321",
     "exception": false,
     "start_time": "2023-03-05T07:06:38.556207",
     "status": "completed"
    },
    "tags": []
   },
   "outputs": [],
   "source": [
    "tr_df = pd.read_csv(\"/kaggle/input/urban-visual-pollution-dataset/train.csv\")\n",
    "\n",
    "filenames = tr_df.image_path.copy().values\n",
    "filepaths = [(BASE_PATH + filename) for filename in filenames]\n",
    "\n",
    "labels = tr_df.name.copy().values\n",
    "labels = [STR_TO_NUM[label] for label in labels]\n",
    "\n",
    "tr_df[\"filepaths\"] = filepaths\n",
    "tr_df[\"labels\"] = labels"
   ]
  }
 ],
 "metadata": {
  "kernelspec": {
   "display_name": "Python 3",
   "language": "python",
   "name": "python3"
  },
  "language_info": {
   "codemirror_mode": {
    "name": "ipython",
    "version": 3
   },
   "file_extension": ".py",
   "mimetype": "text/x-python",
   "name": "python",
   "nbconvert_exporter": "python",
   "pygments_lexer": "ipython3",
   "version": "3.7.12"
  },
  "papermill": {
   "default_parameters": {},
   "duration": 12.544361,
   "end_time": "2023-03-05T07:06:39.394808",
   "environment_variables": {},
   "exception": null,
   "input_path": "__notebook__.ipynb",
   "output_path": "__notebook__.ipynb",
   "parameters": {},
   "start_time": "2023-03-05T07:06:26.850447",
   "version": "2.4.0"
  }
 },
 "nbformat": 4,
 "nbformat_minor": 5
}
