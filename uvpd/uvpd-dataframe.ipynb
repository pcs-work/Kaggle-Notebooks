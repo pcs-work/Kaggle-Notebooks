{
 "cells": [
  {
   "cell_type": "code",
   "execution_count": 1,
   "id": "b26a481d",
   "metadata": {
    "_cell_guid": "b1076dfc-b9ad-4769-8c92-a6c4dae69d19",
    "_uuid": "8f2839f25d086af736a60e9eeb907d3b93b6e0e5",
    "execution": {
     "iopub.execute_input": "2023-03-16T05:30:45.339230Z",
     "iopub.status.busy": "2023-03-16T05:30:45.338473Z",
     "iopub.status.idle": "2023-03-16T05:30:45.347625Z",
     "shell.execute_reply": "2023-03-16T05:30:45.346648Z"
    },
    "papermill": {
     "duration": 0.015491,
     "end_time": "2023-03-16T05:30:45.350247",
     "exception": false,
     "start_time": "2023-03-16T05:30:45.334756",
     "status": "completed"
    },
    "tags": []
   },
   "outputs": [],
   "source": [
    "import os\n",
    "import numpy as np\n",
    "import pandas as pd\n",
    "\n",
    "\n",
    "BASE_PATH: str = \"/kaggle/input/urban-visual-pollution-dataset/images/images\"\n",
    "    \n",
    "STR_TO_NUM: dict = {\n",
    "    \"BAD_BILLBOARD\" : 0,\n",
    "    \"BAD_STREETLIGHT\" : 1,\n",
    "    \"BROKEN_SIGNAGE\" : 2,\n",
    "    \"CLUTTER_SIDEWALK\" : 3,\n",
    "    \"CONSTRUCTION_ROAD\" : 4,\n",
    "    \"FADED_SIGNAGE\" : 5,\n",
    "    \"GARBAGE\" : 6,\n",
    "    \"GRAFFITI\" : 7,\n",
    "    \"POTHOLES\" : 8,\n",
    "    \"SAND_ON_ROAD\" : 9,\n",
    "    \"UNKEPT_FACADE\" : 10,\n",
    "}"
   ]
  },
  {
   "cell_type": "code",
   "execution_count": 2,
   "id": "5bd8ab84",
   "metadata": {
    "execution": {
     "iopub.execute_input": "2023-03-16T05:30:45.354929Z",
     "iopub.status.busy": "2023-03-16T05:30:45.354608Z",
     "iopub.status.idle": "2023-03-16T05:30:45.549090Z",
     "shell.execute_reply": "2023-03-16T05:30:45.547876Z"
    },
    "papermill": {
     "duration": 0.199624,
     "end_time": "2023-03-16T05:30:45.551586",
     "exception": false,
     "start_time": "2023-03-16T05:30:45.351962",
     "status": "completed"
    },
    "tags": []
   },
   "outputs": [],
   "source": [
    "tr_df = pd.read_csv(\"/kaggle/input/urban-visual-pollution-dataset/train.csv\")\n",
    "\n",
    "filenames = tr_df.image_path.copy().values\n",
    "filepaths = [(BASE_PATH + \"/\" + filename) for filename in filenames]\n",
    "\n",
    "labels = tr_df.name.copy().values\n",
    "labels = [STR_TO_NUM[label] for label in labels]\n",
    "\n",
    "tr_df[\"filepaths\"] = filepaths\n",
    "tr_df[\"labels\"] = labels\n",
    "tr_df.to_csv(\"train.csv\", index=False)"
   ]
  }
 ],
 "metadata": {
  "kernelspec": {
   "display_name": "Python 3",
   "language": "python",
   "name": "python3"
  },
  "language_info": {
   "codemirror_mode": {
    "name": "ipython",
    "version": 3
   },
   "file_extension": ".py",
   "mimetype": "text/x-python",
   "name": "python",
   "nbconvert_exporter": "python",
   "pygments_lexer": "ipython3",
   "version": "3.7.12"
  },
  "papermill": {
   "default_parameters": {},
   "duration": 9.52035,
   "end_time": "2023-03-16T05:30:46.174658",
   "environment_variables": {},
   "exception": null,
   "input_path": "__notebook__.ipynb",
   "output_path": "__notebook__.ipynb",
   "parameters": {},
   "start_time": "2023-03-16T05:30:36.654308",
   "version": "2.4.0"
  }
 },
 "nbformat": 4,
 "nbformat_minor": 5
}
