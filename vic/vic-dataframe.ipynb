{
 "cells": [
  {
   "cell_type": "code",
   "execution_count": 1,
   "id": "1996016b",
   "metadata": {
    "_cell_guid": "b1076dfc-b9ad-4769-8c92-a6c4dae69d19",
    "_uuid": "8f2839f25d086af736a60e9eeb907d3b93b6e0e5",
    "execution": {
     "iopub.execute_input": "2023-02-16T05:40:05.973462Z",
     "iopub.status.busy": "2023-02-16T05:40:05.972534Z",
     "iopub.status.idle": "2023-02-16T05:40:06.239827Z",
     "shell.execute_reply": "2023-02-16T05:40:06.238361Z"
    },
    "papermill": {
     "duration": 0.276046,
     "end_time": "2023-02-16T05:40:06.242840",
     "exception": false,
     "start_time": "2023-02-16T05:40:05.966794",
     "status": "completed"
    },
    "tags": []
   },
   "outputs": [],
   "source": [
    "import os\n",
    "import cv2\n",
    "import json\n",
    "import numpy as np\n",
    "import pandas as pd\n",
    "\n",
    "BASE_PATH: str = \"/kaggle/input/vegetables-images/Vegetable Images\""
   ]
  },
  {
   "cell_type": "code",
   "execution_count": 2,
   "id": "1105a3d3",
   "metadata": {
    "execution": {
     "iopub.execute_input": "2023-02-16T05:40:06.253286Z",
     "iopub.status.busy": "2023-02-16T05:40:06.252163Z",
     "iopub.status.idle": "2023-02-16T05:40:06.269753Z",
     "shell.execute_reply": "2023-02-16T05:40:06.268849Z"
    },
    "papermill": {
     "duration": 0.024351,
     "end_time": "2023-02-16T05:40:06.272279",
     "exception": false,
     "start_time": "2023-02-16T05:40:06.247928",
     "status": "completed"
    },
    "tags": []
   },
   "outputs": [],
   "source": [
    "tr_df: pd.DataFrame = pd.DataFrame(data=None, columns=[\"filepaths\", \"labels\"])\n",
    "ts_df: pd.DataFrame = pd.DataFrame(data=None, columns=[\"filepaths\", \"labels\"])\n",
    "fu_df: pd.DataFrame = pd.DataFrame(data=None, columns=[\"filepaths\", \"labels\"]) "
   ]
  },
  {
   "cell_type": "code",
   "execution_count": 3,
   "id": "1d1bf4d2",
   "metadata": {
    "execution": {
     "iopub.execute_input": "2023-02-16T05:40:06.279093Z",
     "iopub.status.busy": "2023-02-16T05:40:06.278629Z",
     "iopub.status.idle": "2023-02-16T05:40:08.181053Z",
     "shell.execute_reply": "2023-02-16T05:40:08.179569Z"
    },
    "papermill": {
     "duration": 1.909065,
     "end_time": "2023-02-16T05:40:08.183850",
     "exception": false,
     "start_time": "2023-02-16T05:40:06.274785",
     "status": "completed"
    },
    "tags": []
   },
   "outputs": [],
   "source": [
    "tr_filepaths: list = []\n",
    "tr_labels: list = []\n",
    "\n",
    "va_filepaths: list = []\n",
    "va_labels: list = []\n",
    "\n",
    "i: int = 0\n",
    "for folder in sorted(os.listdir(f\"{BASE_PATH}/train\")):\n",
    "    for filename in os.listdir(f\"{BASE_PATH}/train/{folder}\"):\n",
    "        tr_filepaths.append(os.path.join(f\"{BASE_PATH}/train/{folder}\", filename))\n",
    "        tr_labels.append(i)\n",
    "    i += 1\n",
    "\n",
    "i: int = 0\n",
    "for folder in sorted(os.listdir(f\"{BASE_PATH}/validation\")):\n",
    "    for filename in os.listdir(f\"{BASE_PATH}/validation/{folder}\"):\n",
    "        va_filepaths.append(os.path.join(f\"{BASE_PATH}/validation/{folder}\", filename))\n",
    "        va_labels.append(i)\n",
    "    i += 1\n",
    "\n",
    "tr_df.filepaths = tr_filepaths + va_filepaths\n",
    "tr_df.labels = tr_labels + va_labels\n",
    "tr_df.to_csv(\"train.csv\", index=False)"
   ]
  },
  {
   "cell_type": "code",
   "execution_count": 4,
   "id": "7b8c1671",
   "metadata": {
    "execution": {
     "iopub.execute_input": "2023-02-16T05:40:08.190714Z",
     "iopub.status.busy": "2023-02-16T05:40:08.190295Z",
     "iopub.status.idle": "2023-02-16T05:40:08.532832Z",
     "shell.execute_reply": "2023-02-16T05:40:08.531374Z"
    },
    "papermill": {
     "duration": 0.348995,
     "end_time": "2023-02-16T05:40:08.535485",
     "exception": false,
     "start_time": "2023-02-16T05:40:08.186490",
     "status": "completed"
    },
    "tags": []
   },
   "outputs": [],
   "source": [
    "filepaths: list = []\n",
    "labels: list = []\n",
    "\n",
    "i: int = 0    \n",
    "for folder in sorted(os.listdir(f\"{BASE_PATH}/test\")):\n",
    "    for filename in os.listdir(f\"{BASE_PATH}/test/{folder}\"):\n",
    "        filepaths.append(os.path.join(f\"{BASE_PATH}/test/{folder}\", filename))\n",
    "        labels.append(i)\n",
    "    i += 1\n",
    "\n",
    "ts_df.filepaths = filepaths\n",
    "ts_df.labels = labels\n",
    "ts_df.to_csv(\"test.csv\", index=False)"
   ]
  },
  {
   "cell_type": "code",
   "execution_count": 5,
   "id": "c9cdd198",
   "metadata": {
    "execution": {
     "iopub.execute_input": "2023-02-16T05:40:08.542331Z",
     "iopub.status.busy": "2023-02-16T05:40:08.541902Z",
     "iopub.status.idle": "2023-02-16T05:40:08.611633Z",
     "shell.execute_reply": "2023-02-16T05:40:08.610373Z"
    },
    "papermill": {
     "duration": 0.076503,
     "end_time": "2023-02-16T05:40:08.614554",
     "exception": false,
     "start_time": "2023-02-16T05:40:08.538051",
     "status": "completed"
    },
    "tags": []
   },
   "outputs": [],
   "source": [
    "fu_df.filepaths = tr_filepaths + va_filepaths + filepaths\n",
    "fu_df.labels = tr_labels + va_labels + labels\n",
    "fu_df.to_csv(\"full.csv\", index=False)"
   ]
  },
  {
   "cell_type": "code",
   "execution_count": 6,
   "id": "b3fa4f07",
   "metadata": {
    "execution": {
     "iopub.execute_input": "2023-02-16T05:40:08.624535Z",
     "iopub.status.busy": "2023-02-16T05:40:08.624147Z",
     "iopub.status.idle": "2023-02-16T05:40:08.630914Z",
     "shell.execute_reply": "2023-02-16T05:40:08.629768Z"
    },
    "papermill": {
     "duration": 0.016181,
     "end_time": "2023-02-16T05:40:08.633585",
     "exception": false,
     "start_time": "2023-02-16T05:40:08.617404",
     "status": "completed"
    },
    "tags": []
   },
   "outputs": [],
   "source": [
    "labels: dict = dict()\n",
    "\n",
    "i = 0\n",
    "for folder in sorted(os.listdir(f\"{BASE_PATH}/test\")):\n",
    "    labels[i] = folder\n",
    "    i += 1\n",
    "\n",
    "json.dump(labels, open(\"labels.json\", \"w\"))"
   ]
  }
 ],
 "metadata": {
  "kernelspec": {
   "display_name": "Python 3",
   "language": "python",
   "name": "python3"
  },
  "language_info": {
   "codemirror_mode": {
    "name": "ipython",
    "version": 3
   },
   "file_extension": ".py",
   "mimetype": "text/x-python",
   "name": "python",
   "nbconvert_exporter": "python",
   "pygments_lexer": "ipython3",
   "version": "3.7.12"
  },
  "papermill": {
   "default_parameters": {},
   "duration": 12.451623,
   "end_time": "2023-02-16T05:40:09.357293",
   "environment_variables": {},
   "exception": null,
   "input_path": "__notebook__.ipynb",
   "output_path": "__notebook__.ipynb",
   "parameters": {},
   "start_time": "2023-02-16T05:39:56.905670",
   "version": "2.3.4"
  }
 },
 "nbformat": 4,
 "nbformat_minor": 5
}
