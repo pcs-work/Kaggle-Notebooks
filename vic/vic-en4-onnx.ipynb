{
 "cells": [
  {
   "cell_type": "code",
   "execution_count": 1,
   "id": "8ccd74e7",
   "metadata": {
    "_cell_guid": "b1076dfc-b9ad-4769-8c92-a6c4dae69d19",
    "_uuid": "8f2839f25d086af736a60e9eeb907d3b93b6e0e5",
    "execution": {
     "iopub.execute_input": "2023-02-16T11:58:02.681382Z",
     "iopub.status.busy": "2023-02-16T11:58:02.680936Z",
     "iopub.status.idle": "2023-02-16T11:58:36.372153Z",
     "shell.execute_reply": "2023-02-16T11:58:36.370462Z"
    },
    "papermill": {
     "duration": 33.704304,
     "end_time": "2023-02-16T11:58:36.376899",
     "exception": false,
     "start_time": "2023-02-16T11:58:02.672595",
     "status": "completed"
    },
    "tags": []
   },
   "outputs": [
    {
     "name": "stderr",
     "output_type": "stream",
     "text": [
      "bash: /opt/conda/lib/libtinfo.so.6: no version information available (required by bash)\n",
      "WARNING: Running pip as the 'root' user can result in broken permissions and conflicting behaviour with the system package manager. It is recommended to use a virtual environment instead: https://pip.pypa.io/warnings/venv\n",
      "WARNING: Running pip as the 'root' user can result in broken permissions and conflicting behaviour with the system package manager. It is recommended to use a virtual environment instead: https://pip.pypa.io/warnings/venv\n",
      "WARNING: Running pip as the 'root' user can result in broken permissions and conflicting behaviour with the system package manager. It is recommended to use a virtual environment instead: https://pip.pypa.io/warnings/venv\n"
     ]
    }
   ],
   "source": [
    "%%bash\n",
    "pip install timm -q\n",
    "pip install onnx -q\n",
    "pip install onnxruntime -q"
   ]
  },
  {
   "cell_type": "code",
   "execution_count": 2,
   "id": "d840c411",
   "metadata": {
    "execution": {
     "iopub.execute_input": "2023-02-16T11:58:36.385347Z",
     "iopub.status.busy": "2023-02-16T11:58:36.384916Z",
     "iopub.status.idle": "2023-02-16T11:58:39.949955Z",
     "shell.execute_reply": "2023-02-16T11:58:39.948567Z"
    },
    "papermill": {
     "duration": 3.572982,
     "end_time": "2023-02-16T11:58:39.953112",
     "exception": false,
     "start_time": "2023-02-16T11:58:36.380130",
     "status": "completed"
    },
    "tags": []
   },
   "outputs": [],
   "source": [
    "import os\n",
    "import sys\n",
    "import cv2\n",
    "import json\n",
    "import onnx\n",
    "import timm\n",
    "import torch\n",
    "import random as r\n",
    "import numpy as np\n",
    "import pandas as pd\n",
    "import onnxruntime as ort\n",
    "import matplotlib.pyplot as plt\n",
    "\n",
    "from typing import Union\n",
    "from torchvision import models\n",
    "from IPython.display import clear_output\n",
    "\n",
    "import warnings\n",
    "warnings.filterwarnings(\"ignore\")\n",
    "\n",
    "if not os.path.exists(\"onnx\"): os.makedirs(\"onnx\")\n",
    "    \n",
    "ort.set_default_logger_severity(3)"
   ]
  },
  {
   "cell_type": "code",
   "execution_count": 3,
   "id": "46fd052b",
   "metadata": {
    "execution": {
     "iopub.execute_input": "2023-02-16T11:58:39.961461Z",
     "iopub.status.busy": "2023-02-16T11:58:39.960577Z",
     "iopub.status.idle": "2023-02-16T11:58:39.972964Z",
     "shell.execute_reply": "2023-02-16T11:58:39.971877Z"
    },
    "papermill": {
     "duration": 0.019163,
     "end_time": "2023-02-16T11:58:39.975381",
     "exception": false,
     "start_time": "2023-02-16T11:58:39.956218",
     "status": "completed"
    },
    "tags": []
   },
   "outputs": [],
   "source": [
    "labels: dict = json.load(open(\"/kaggle/input/vic-dataframe/labels.json\", \"r\"))\n",
    "    \n",
    "    \n",
    "def breaker() -> None:\n",
    "    print(\"\\n\" + 50*\"*\" + \"\\n\")\n",
    "\n",
    "\n",
    "def get_image(path: str, size: int=224) -> np.ndarray:\n",
    "    image = cv2.imread(path, cv2.IMREAD_COLOR)\n",
    "    image = cv2.cvtColor(src=image, code=cv2.COLOR_BGR2RGB)\n",
    "    if image.shape == (224, 224, 3) and size == 224: return image\n",
    "    return cv2.resize(src=image, dsize=(size, size), interpolation=cv2.INTER_AREA)"
   ]
  },
  {
   "cell_type": "code",
   "execution_count": 4,
   "id": "2efe1189",
   "metadata": {
    "execution": {
     "iopub.execute_input": "2023-02-16T11:58:39.983100Z",
     "iopub.status.busy": "2023-02-16T11:58:39.982647Z",
     "iopub.status.idle": "2023-02-16T11:58:39.991494Z",
     "shell.execute_reply": "2023-02-16T11:58:39.990307Z"
    },
    "papermill": {
     "duration": 0.015209,
     "end_time": "2023-02-16T11:58:39.993610",
     "exception": false,
     "start_time": "2023-02-16T11:58:39.978401",
     "status": "completed"
    },
    "tags": []
   },
   "outputs": [],
   "source": [
    "class Model(torch.nn.Module):\n",
    "    def __init__(self):\n",
    "        super(Model, self).__init__()\n",
    "        \n",
    "        self.model = timm.create_model(model_name=\"efficientnet_b4\", pretrained=False)\n",
    "        self.model.classifier = torch.nn.Linear(in_features=self.model.classifier.in_features, out_features=15)\n",
    "\n",
    "    def forward(self, x):\n",
    "        return self.model(x)\n",
    "\n",
    "    \n",
    "    \n",
    "class CFG(object):  \n",
    "    def __init__(\n",
    "        self, \n",
    "        in_channels: int=3, \n",
    "        size: int=256, \n",
    "        opset_version: int=9, \n",
    "        path: str=None\n",
    "    ):\n",
    "        self.in_channels = in_channels\n",
    "        self.size = size\n",
    "        self.dummy = torch.randn(1, self.in_channels, self.size, self.size)\n",
    "        self.opset_version = opset_version\n",
    "        self.path = path"
   ]
  },
  {
   "cell_type": "code",
   "execution_count": 5,
   "id": "283a1474",
   "metadata": {
    "execution": {
     "iopub.execute_input": "2023-02-16T11:58:40.001295Z",
     "iopub.status.busy": "2023-02-16T11:58:40.000900Z",
     "iopub.status.idle": "2023-02-16T12:00:26.661699Z",
     "shell.execute_reply": "2023-02-16T12:00:26.660132Z"
    },
    "papermill": {
     "duration": 106.668983,
     "end_time": "2023-02-16T12:00:26.665670",
     "exception": false,
     "start_time": "2023-02-16T11:58:39.996687",
     "status": "completed"
    },
    "tags": []
   },
   "outputs": [],
   "source": [
    "for v in [\"a\", \"l\"]:\n",
    "    for fold in [1, 4]:\n",
    "        cfg = CFG(\n",
    "            in_channels=3, \n",
    "            size=224, \n",
    "            opset_version=15, \n",
    "            path=f\"/kaggle/input/vic-en4-a224-e10-f{fold}/saves/b{v}e_state_fold_{fold}.pt\"\n",
    "        )\n",
    "\n",
    "        model = Model()\n",
    "        model.load_state_dict(torch.load(cfg.path, map_location=torch.device(\"cpu\"))[\"model_state_dict\"])\n",
    "        model.eval()\n",
    "\n",
    "        clear_output()\n",
    "\n",
    "        # param_size: float = 0\n",
    "        # for param in model.parameters():\n",
    "        #     param_size += param.nelement() * param.element_size()\n",
    "\n",
    "        # buffer_size: float = 0\n",
    "        # for buffer in model.buffers():\n",
    "        #     buffer_size += buffer.nelement() * buffer.element_size()\n",
    "\n",
    "        # size_all_mb: float = (param_size + buffer_size) / 1024**2\n",
    "\n",
    "        # breaker()\n",
    "        # print(f\"Model size: {size_all_mb:.3f} MB\")\n",
    "        # breaker()\n",
    "\n",
    "        torch.onnx.export(\n",
    "            model=model, \n",
    "            args=cfg.dummy, \n",
    "            f=f\"onnx/b{v}e_model_f{fold}.onnx\", \n",
    "            input_names=[\"input\"], \n",
    "            output_names=[\"output\"], \n",
    "            opset_version=cfg.opset_version,\n",
    "            export_params=True,\n",
    "            training=torch.onnx.TrainingMode.EVAL,\n",
    "            operator_export_type=torch.onnx.OperatorExportTypes.ONNX_ATEN_FALLBACK,\n",
    "            dynamic_axes={\n",
    "              \"input\"  : {0 : \"batch_size\"},\n",
    "              \"output\" : {0 : \"batch_size\"},\n",
    "            }\n",
    "        )"
   ]
  },
  {
   "cell_type": "code",
   "execution_count": 6,
   "id": "64c15b7c",
   "metadata": {
    "execution": {
     "iopub.execute_input": "2023-02-16T12:00:26.673691Z",
     "iopub.status.busy": "2023-02-16T12:00:26.673282Z",
     "iopub.status.idle": "2023-02-16T12:00:26.684801Z",
     "shell.execute_reply": "2023-02-16T12:00:26.683873Z"
    },
    "papermill": {
     "duration": 0.01835,
     "end_time": "2023-02-16T12:00:26.687167",
     "exception": false,
     "start_time": "2023-02-16T12:00:26.668817",
     "status": "completed"
    },
    "tags": []
   },
   "outputs": [],
   "source": [
    "class OnnxModel(object):\n",
    "    def __init__(self, path: str) -> None:\n",
    "        self.ort_session = None\n",
    "        self.size: int = 224\n",
    "        \n",
    "        self.mean: list = [0.46816, 0.46311, 0.34229]\n",
    "        self.std: list  = [0.20367, 0.20545, 0.19653]\n",
    "        \n",
    "        self.path: str = path\n",
    "    \n",
    "        model = onnx.load(self.path)\n",
    "        onnx.checker.check_model(model)\n",
    "        self.ort_session = ort.InferenceSession(self.path)\n",
    "    \n",
    "    def infer(self, image: np.ndarray, labels: dict) -> np.ndarray:\n",
    "        image = image / 255\n",
    "        image = cv2.resize(src=image, dsize=(self.size, self.size), interpolation=cv2.INTER_AREA).transpose(2, 0, 1)\n",
    "        for i in range(image.shape[0]): image[i, :, :] = (image[i, :, :] - self.mean[i]) / self.std[i]\n",
    "        image = np.expand_dims(image, axis=0)\n",
    "        inputs = {self.ort_session.get_inputs()[0].name : image.astype(\"float32\")}\n",
    "        result = self.ort_session.run(None, inputs)\n",
    "        odds = np.exp(np.max(result))\n",
    "        return labels[str(np.argmax(result))].title(), odds / (1 + odds)"
   ]
  },
  {
   "cell_type": "code",
   "execution_count": 7,
   "id": "14e846e2",
   "metadata": {
    "execution": {
     "iopub.execute_input": "2023-02-16T12:00:26.696309Z",
     "iopub.status.busy": "2023-02-16T12:00:26.694202Z",
     "iopub.status.idle": "2023-02-16T12:00:33.759650Z",
     "shell.execute_reply": "2023-02-16T12:00:33.758338Z"
    },
    "papermill": {
     "duration": 7.072404,
     "end_time": "2023-02-16T12:00:33.762567",
     "exception": false,
     "start_time": "2023-02-16T12:00:26.690163",
     "status": "completed"
    },
    "tags": []
   },
   "outputs": [
    {
     "name": "stdout",
     "output_type": "stream",
     "text": [
      "\n",
      "**************************************************\n",
      "\n",
      "BAE_MODEL_F1.ONNX\n",
      "\n",
      "Potato, Potato (1.00000)\n",
      "Tomato, Tomato (1.00000)\n",
      "Bitter_Gourd, Bitter_Gourd (1.00000)\n",
      "Carrot, Carrot (1.00000)\n",
      "Pumpkin, Pumpkin (1.00000)\n",
      "Carrot, Carrot (1.00000)\n",
      "Potato, Potato (1.00000)\n",
      "Bottle_Gourd, Bottle_Gourd (1.00000)\n",
      "Cucumber, Cucumber (1.00000)\n",
      "\n",
      "**************************************************\n",
      "\n",
      "BAE_MODEL_F4.ONNX\n",
      "\n",
      "Cauliflower, Cauliflower (1.00000)\n",
      "Capsicum, Capsicum (1.00000)\n",
      "Capsicum, Capsicum (1.00000)\n",
      "Papaya, Papaya (1.00000)\n",
      "Papaya, Papaya (1.00000)\n",
      "Broccoli, Broccoli (0.99930)\n",
      "Cauliflower, Cauliflower (1.00000)\n",
      "Carrot, Carrot (1.00000)\n",
      "Carrot, Carrot (1.00000)\n",
      "\n",
      "**************************************************\n",
      "\n",
      "BLE_MODEL_F1.ONNX\n",
      "\n",
      "Pumpkin, Pumpkin (1.00000)\n",
      "Carrot, Carrot (1.00000)\n",
      "Tomato, Tomato (1.00000)\n",
      "Potato, Potato (1.00000)\n",
      "Cucumber, Cucumber (1.00000)\n",
      "Potato, Potato (1.00000)\n",
      "Radish, Radish (1.00000)\n",
      "Carrot, Carrot (1.00000)\n",
      "Cauliflower, Cauliflower (1.00000)\n",
      "\n",
      "**************************************************\n",
      "\n",
      "BLE_MODEL_F4.ONNX\n",
      "\n",
      "Radish, Radish (1.00000)\n",
      "Bean, Bean (1.00000)\n",
      "Papaya, Papaya (1.00000)\n",
      "Bitter_Gourd, Bitter_Gourd (1.00000)\n",
      "Cauliflower, Cauliflower (1.00000)\n",
      "Broccoli, Broccoli (1.00000)\n",
      "Pumpkin, Pumpkin (1.00000)\n",
      "Brinjal, Brinjal (0.99999)\n",
      "Carrot, Carrot (1.00000)\n",
      "\n",
      "**************************************************\n",
      "\n"
     ]
    }
   ],
   "source": [
    "df = pd.read_csv(\"/kaggle/input/vic-dataframe/test.csv\")\n",
    "\n",
    "\n",
    "breaker()\n",
    "for model_name in sorted(os.listdir(\"onnx\")):\n",
    "    \n",
    "    onnx_model = OnnxModel(f\"onnx/{model_name}\")\n",
    "    \n",
    "    print(f\"{model_name.upper()}\\n\")\n",
    "    \n",
    "    for i in range(9):\n",
    "        index = r.randint(0, len(df)-1)\n",
    "\n",
    "        filepath = df.iloc[index, 0]\n",
    "        y_true   = df.iloc[index, 1]\n",
    "\n",
    "        image = get_image(filepath, cfg.size)\n",
    "\n",
    "        y_pred, prob = onnx_model.infer(image, labels)\n",
    "        \n",
    "        print(f\"{labels[str(y_true)].title()}, {y_pred} ({prob:.5f})\")\n",
    "\n",
    "    breaker()"
   ]
  }
 ],
 "metadata": {
  "kernelspec": {
   "display_name": "Python 3",
   "language": "python",
   "name": "python3"
  },
  "language_info": {
   "codemirror_mode": {
    "name": "ipython",
    "version": 3
   },
   "file_extension": ".py",
   "mimetype": "text/x-python",
   "name": "python",
   "nbconvert_exporter": "python",
   "pygments_lexer": "ipython3",
   "version": "3.7.12"
  },
  "papermill": {
   "default_parameters": {},
   "duration": 160.541009,
   "end_time": "2023-02-16T12:00:34.993204",
   "environment_variables": {},
   "exception": null,
   "input_path": "__notebook__.ipynb",
   "output_path": "__notebook__.ipynb",
   "parameters": {},
   "start_time": "2023-02-16T11:57:54.452195",
   "version": "2.3.4"
  }
 },
 "nbformat": 4,
 "nbformat_minor": 5
}
